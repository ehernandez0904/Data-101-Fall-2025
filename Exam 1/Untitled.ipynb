{
 "cells": [
  {
   "cell_type": "markdown",
   "id": "0b52511f-456f-4e06-853d-2c73cf0971a5",
   "metadata": {},
   "source": [
    "## Exam 1\n",
    "\n",
    "#### Author: Emily Hernandez\n",
    "\n",
    "#### Special Thanks: \n",
    "\n"
   ]
  },
  {
   "cell_type": "code",
   "execution_count": 1,
   "id": "d4380cda-d226-489f-b036-aee7c085bb0a",
   "metadata": {},
   "outputs": [],
   "source": [
    "# Package Imports - copy and paste\n",
    "import numpy as np\n",
    "import pandas as pd\n",
    "\n",
    "import matplotlib.pyplot as plt\n",
    "import plotly.express as px\n",
    "from plotly.subplots import make_subplots\n",
    "import plotly.io as pio\n",
    "pio.renderers.defaule = 'colab'\n",
    "\n",
    "from itables import show"
   ]
  },
  {
   "cell_type": "code",
   "execution_count": 2,
   "id": "31e9a4b1-a423-46e8-aa42-2537f9370b84",
   "metadata": {},
   "outputs": [],
   "source": [
    "# Load the data - copy and paste\n",
    "file_location = 'https://joannabieri.com/introdatascience/data/lego_sample.csv'\n",
    "DF = pd.read_csv(file_location)"
   ]
  },
  {
   "cell_type": "code",
   "execution_count": 4,
   "id": "1dfec089-e687-40ab-979c-ad676f8a929b",
   "metadata": {},
   "outputs": [
    {
     "data": {
      "text/html": [
       "<div>\n",
       "<style scoped>\n",
       "    .dataframe tbody tr th:only-of-type {\n",
       "        vertical-align: middle;\n",
       "    }\n",
       "\n",
       "    .dataframe tbody tr th {\n",
       "        vertical-align: top;\n",
       "    }\n",
       "\n",
       "    .dataframe thead th {\n",
       "        text-align: right;\n",
       "    }\n",
       "</style>\n",
       "<table border=\"1\" class=\"dataframe\">\n",
       "  <thead>\n",
       "    <tr style=\"text-align: right;\">\n",
       "      <th></th>\n",
       "      <th>item_number</th>\n",
       "      <th>set_name</th>\n",
       "      <th>theme</th>\n",
       "      <th>pieces</th>\n",
       "      <th>price</th>\n",
       "      <th>amazon_price</th>\n",
       "      <th>year</th>\n",
       "      <th>ages</th>\n",
       "      <th>pages</th>\n",
       "      <th>minifigures</th>\n",
       "      <th>packaging</th>\n",
       "      <th>weight</th>\n",
       "      <th>unique_pieces</th>\n",
       "      <th>size</th>\n",
       "    </tr>\n",
       "  </thead>\n",
       "  <tbody>\n",
       "    <tr>\n",
       "      <th>0</th>\n",
       "      <td>10859</td>\n",
       "      <td>My First Ladybird</td>\n",
       "      <td>DUPLO®</td>\n",
       "      <td>6</td>\n",
       "      <td>4.99</td>\n",
       "      <td>16.00</td>\n",
       "      <td>2018</td>\n",
       "      <td>Ages_1½-3</td>\n",
       "      <td>9</td>\n",
       "      <td>NaN</td>\n",
       "      <td>Box</td>\n",
       "      <td>NaN</td>\n",
       "      <td>5</td>\n",
       "      <td>Large</td>\n",
       "    </tr>\n",
       "    <tr>\n",
       "      <th>1</th>\n",
       "      <td>10860</td>\n",
       "      <td>My First Race Car</td>\n",
       "      <td>DUPLO®</td>\n",
       "      <td>6</td>\n",
       "      <td>4.99</td>\n",
       "      <td>9.45</td>\n",
       "      <td>2018</td>\n",
       "      <td>Ages_1½-3</td>\n",
       "      <td>9</td>\n",
       "      <td>NaN</td>\n",
       "      <td>Box</td>\n",
       "      <td>0.13Kg (0.29 lb)</td>\n",
       "      <td>6</td>\n",
       "      <td>Large</td>\n",
       "    </tr>\n",
       "    <tr>\n",
       "      <th>2</th>\n",
       "      <td>10862</td>\n",
       "      <td>My First Celebration</td>\n",
       "      <td>DUPLO®</td>\n",
       "      <td>41</td>\n",
       "      <td>14.99</td>\n",
       "      <td>39.89</td>\n",
       "      <td>2018</td>\n",
       "      <td>Ages_1½-3</td>\n",
       "      <td>9</td>\n",
       "      <td>NaN</td>\n",
       "      <td>Box</td>\n",
       "      <td>NaN</td>\n",
       "      <td>18</td>\n",
       "      <td>Large</td>\n",
       "    </tr>\n",
       "    <tr>\n",
       "      <th>3</th>\n",
       "      <td>10864</td>\n",
       "      <td>Large Playground Brick Box</td>\n",
       "      <td>DUPLO®</td>\n",
       "      <td>71</td>\n",
       "      <td>49.99</td>\n",
       "      <td>56.69</td>\n",
       "      <td>2018</td>\n",
       "      <td>Ages_2-5</td>\n",
       "      <td>32</td>\n",
       "      <td>2.0</td>\n",
       "      <td>Plastic box</td>\n",
       "      <td>1.41Kg (3.11 lb)</td>\n",
       "      <td>49</td>\n",
       "      <td>Large</td>\n",
       "    </tr>\n",
       "    <tr>\n",
       "      <th>4</th>\n",
       "      <td>10867</td>\n",
       "      <td>Farmers' Market</td>\n",
       "      <td>DUPLO®</td>\n",
       "      <td>26</td>\n",
       "      <td>19.99</td>\n",
       "      <td>36.99</td>\n",
       "      <td>2018</td>\n",
       "      <td>Ages_2-5</td>\n",
       "      <td>9</td>\n",
       "      <td>3.0</td>\n",
       "      <td>Box</td>\n",
       "      <td>NaN</td>\n",
       "      <td>18</td>\n",
       "      <td>Large</td>\n",
       "    </tr>\n",
       "    <tr>\n",
       "      <th>...</th>\n",
       "      <td>...</td>\n",
       "      <td>...</td>\n",
       "      <td>...</td>\n",
       "      <td>...</td>\n",
       "      <td>...</td>\n",
       "      <td>...</td>\n",
       "      <td>...</td>\n",
       "      <td>...</td>\n",
       "      <td>...</td>\n",
       "      <td>...</td>\n",
       "      <td>...</td>\n",
       "      <td>...</td>\n",
       "      <td>...</td>\n",
       "      <td>...</td>\n",
       "    </tr>\n",
       "    <tr>\n",
       "      <th>70</th>\n",
       "      <td>60251</td>\n",
       "      <td>Monster Truck</td>\n",
       "      <td>City</td>\n",
       "      <td>55</td>\n",
       "      <td>9.99</td>\n",
       "      <td>8.99</td>\n",
       "      <td>2020</td>\n",
       "      <td>Ages_5+</td>\n",
       "      <td>32</td>\n",
       "      <td>1.0</td>\n",
       "      <td>Box</td>\n",
       "      <td>0.14Kg (0.31 lb)</td>\n",
       "      <td>34</td>\n",
       "      <td>Small</td>\n",
       "    </tr>\n",
       "    <tr>\n",
       "      <th>71</th>\n",
       "      <td>60252</td>\n",
       "      <td>Construction Bulldozer</td>\n",
       "      <td>City</td>\n",
       "      <td>126</td>\n",
       "      <td>19.99</td>\n",
       "      <td>15.99</td>\n",
       "      <td>2020</td>\n",
       "      <td>Ages_4+</td>\n",
       "      <td>84</td>\n",
       "      <td>2.0</td>\n",
       "      <td>Box</td>\n",
       "      <td>0.35Kg (0.78 lb)</td>\n",
       "      <td>81</td>\n",
       "      <td>Small</td>\n",
       "    </tr>\n",
       "    <tr>\n",
       "      <th>72</th>\n",
       "      <td>60258</td>\n",
       "      <td>Tuning Workshop</td>\n",
       "      <td>City</td>\n",
       "      <td>897</td>\n",
       "      <td>99.99</td>\n",
       "      <td>99.99</td>\n",
       "      <td>2020</td>\n",
       "      <td>Ages_6+</td>\n",
       "      <td>389</td>\n",
       "      <td>7.0</td>\n",
       "      <td>Box</td>\n",
       "      <td>1.63Kg (3.58 lb)</td>\n",
       "      <td>411</td>\n",
       "      <td>Small</td>\n",
       "    </tr>\n",
       "    <tr>\n",
       "      <th>73</th>\n",
       "      <td>60266</td>\n",
       "      <td>Ocean Exploration Ship</td>\n",
       "      <td>City</td>\n",
       "      <td>745</td>\n",
       "      <td>149.99</td>\n",
       "      <td>149.99</td>\n",
       "      <td>2020</td>\n",
       "      <td>Ages_7+</td>\n",
       "      <td>229</td>\n",
       "      <td>8.0</td>\n",
       "      <td>Box</td>\n",
       "      <td>2.28Kg (5.03 lb)</td>\n",
       "      <td>314</td>\n",
       "      <td>Small</td>\n",
       "    </tr>\n",
       "    <tr>\n",
       "      <th>74</th>\n",
       "      <td>60267</td>\n",
       "      <td>Safari Off-Roader</td>\n",
       "      <td>City</td>\n",
       "      <td>168</td>\n",
       "      <td>19.99</td>\n",
       "      <td>17.99</td>\n",
       "      <td>2020</td>\n",
       "      <td>Ages_5+</td>\n",
       "      <td>76</td>\n",
       "      <td>2.0</td>\n",
       "      <td>Box</td>\n",
       "      <td>0.34Kg (0.76 lb)</td>\n",
       "      <td>86</td>\n",
       "      <td>Small</td>\n",
       "    </tr>\n",
       "  </tbody>\n",
       "</table>\n",
       "<p>75 rows × 14 columns</p>\n",
       "</div>"
      ],
      "text/plain": [
       "    item_number                    set_name   theme  pieces   price  \\\n",
       "0         10859           My First Ladybird  DUPLO®       6    4.99   \n",
       "1         10860           My First Race Car  DUPLO®       6    4.99   \n",
       "2         10862        My First Celebration  DUPLO®      41   14.99   \n",
       "3         10864  Large Playground Brick Box  DUPLO®      71   49.99   \n",
       "4         10867             Farmers' Market  DUPLO®      26   19.99   \n",
       "..          ...                         ...     ...     ...     ...   \n",
       "70        60251               Monster Truck    City      55    9.99   \n",
       "71        60252      Construction Bulldozer    City     126   19.99   \n",
       "72        60258             Tuning Workshop    City     897   99.99   \n",
       "73        60266      Ocean Exploration Ship    City     745  149.99   \n",
       "74        60267           Safari Off-Roader    City     168   19.99   \n",
       "\n",
       "    amazon_price  year       ages  pages  minifigures    packaging  \\\n",
       "0          16.00  2018  Ages_1½-3      9          NaN          Box   \n",
       "1           9.45  2018  Ages_1½-3      9          NaN          Box   \n",
       "2          39.89  2018  Ages_1½-3      9          NaN          Box   \n",
       "3          56.69  2018   Ages_2-5     32          2.0  Plastic box   \n",
       "4          36.99  2018   Ages_2-5      9          3.0          Box   \n",
       "..           ...   ...        ...    ...          ...          ...   \n",
       "70          8.99  2020    Ages_5+     32          1.0          Box   \n",
       "71         15.99  2020    Ages_4+     84          2.0          Box   \n",
       "72         99.99  2020    Ages_6+    389          7.0          Box   \n",
       "73        149.99  2020    Ages_7+    229          8.0          Box   \n",
       "74         17.99  2020    Ages_5+     76          2.0          Box   \n",
       "\n",
       "              weight  unique_pieces   size  \n",
       "0                NaN              5  Large  \n",
       "1   0.13Kg (0.29 lb)              6  Large  \n",
       "2                NaN             18  Large  \n",
       "3   1.41Kg (3.11 lb)             49  Large  \n",
       "4                NaN             18  Large  \n",
       "..               ...            ...    ...  \n",
       "70  0.14Kg (0.31 lb)             34  Small  \n",
       "71  0.35Kg (0.78 lb)             81  Small  \n",
       "72  1.63Kg (3.58 lb)            411  Small  \n",
       "73  2.28Kg (5.03 lb)            314  Small  \n",
       "74  0.34Kg (0.76 lb)             86  Small  \n",
       "\n",
       "[75 rows x 14 columns]"
      ]
     },
     "execution_count": 4,
     "metadata": {},
     "output_type": "execute_result"
    }
   ],
   "source": [
    "# Look at the data - copy and paste\n",
    "DF"
   ]
  },
  {
   "cell_type": "markdown",
   "id": "27cef3fc-1394-42ab-88ff-3f91738419de",
   "metadata": {},
   "source": [
    "### Problem 1\n",
    "\n",
    "#### (a) How many variables and observations are in the data set?\n",
    "\n",
    "#### (b) What are the names of all the variables?\n",
    "\n",
    "#### (c) For each variable, talk about whether you think that variable is Numerical or Categorical and what type of data it is.\n",
    "\n",
    "#### (d) Use describe to get some basic statistics about the numerical data. Comment on at least 4 things that you learned by looking at these statistics."
   ]
  },
  {
   "cell_type": "code",
   "execution_count": 8,
   "id": "17992aee-3479-4dec-83af-07c7275ec677",
   "metadata": {},
   "outputs": [
    {
     "data": {
      "text/plain": [
       "(75, 14)"
      ]
     },
     "execution_count": 8,
     "metadata": {},
     "output_type": "execute_result"
    }
   ],
   "source": [
    "#Part a - number of variables and observations in the data set.\n",
    "DF.shape"
   ]
  },
  {
   "cell_type": "markdown",
   "id": "c66018e1-f57c-401c-bae8-7ea55a441e66",
   "metadata": {},
   "source": [
    "(a): There are 14 variables and 75 observations in this data set."
   ]
  },
  {
   "cell_type": "code",
   "execution_count": 11,
   "id": "e7e0a6b7-e1ec-4f80-a250-f77c0a3dc1d9",
   "metadata": {},
   "outputs": [
    {
     "data": {
      "text/plain": [
       "Index(['item_number', 'set_name', 'theme', 'pieces', 'price', 'amazon_price',\n",
       "       'year', 'ages', 'pages', 'minifigures', 'packaging', 'weight',\n",
       "       'unique_pieces', 'size'],\n",
       "      dtype='object')"
      ]
     },
     "execution_count": 11,
     "metadata": {},
     "output_type": "execute_result"
    }
   ],
   "source": [
    "#Part b - what are the names of all the variables?\n",
    "DF.columns"
   ]
  },
  {
   "cell_type": "markdown",
   "id": "79668e7b-bbe3-4ccb-8241-570a35746224",
   "metadata": {},
   "source": [
    "(b) The names of all the variables are ; item number, set name, theme, pieces, price, amazon price, year, ages, pages, minifigures, packaging, weight, unique pieces, and size."
   ]
  },
  {
   "cell_type": "markdown",
   "id": "7abad7ed-eed3-4371-be72-0cfc1da14b13",
   "metadata": {},
   "source": [
    "(c) The variables in the data set that are numerical are: pieces (discrete), price (continuous), amazon price (continuous),\n",
    "    year (discrete), pages (discrete), minifigures (discrete), weight (continuous), unique pieces (discrete), \n",
    "    The variables in the data set that are categorical are: item number (nominal), set name (nominal), theme (nominal), \n",
    "    ages (ordinal), packaging (nominal), size (nominal)."
   ]
  },
  {
   "cell_type": "code",
   "execution_count": 12,
   "id": "443105e0-1ff2-4cc4-b37c-73a0c5258d2f",
   "metadata": {},
   "outputs": [
    {
     "data": {
      "text/html": [
       "<div>\n",
       "<style scoped>\n",
       "    .dataframe tbody tr th:only-of-type {\n",
       "        vertical-align: middle;\n",
       "    }\n",
       "\n",
       "    .dataframe tbody tr th {\n",
       "        vertical-align: top;\n",
       "    }\n",
       "\n",
       "    .dataframe thead th {\n",
       "        text-align: right;\n",
       "    }\n",
       "</style>\n",
       "<table border=\"1\" class=\"dataframe\">\n",
       "  <thead>\n",
       "    <tr style=\"text-align: right;\">\n",
       "      <th></th>\n",
       "      <th>item_number</th>\n",
       "      <th>pieces</th>\n",
       "      <th>price</th>\n",
       "      <th>amazon_price</th>\n",
       "      <th>year</th>\n",
       "      <th>pages</th>\n",
       "      <th>minifigures</th>\n",
       "      <th>unique_pieces</th>\n",
       "    </tr>\n",
       "  </thead>\n",
       "  <tbody>\n",
       "    <tr>\n",
       "      <th>count</th>\n",
       "      <td>75.000000</td>\n",
       "      <td>75.000000</td>\n",
       "      <td>75.000000</td>\n",
       "      <td>75.000000</td>\n",
       "      <td>75.000000</td>\n",
       "      <td>75.000000</td>\n",
       "      <td>65.000000</td>\n",
       "      <td>75.000000</td>\n",
       "    </tr>\n",
       "    <tr>\n",
       "      <th>mean</th>\n",
       "      <td>37498.493333</td>\n",
       "      <td>196.453333</td>\n",
       "      <td>32.136667</td>\n",
       "      <td>39.393733</td>\n",
       "      <td>2019.053333</td>\n",
       "      <td>73.213333</td>\n",
       "      <td>2.615385</td>\n",
       "      <td>96.666667</td>\n",
       "    </tr>\n",
       "    <tr>\n",
       "      <th>std</th>\n",
       "      <td>20461.267542</td>\n",
       "      <td>213.914121</td>\n",
       "      <td>27.747263</td>\n",
       "      <td>33.301259</td>\n",
       "      <td>0.820239</td>\n",
       "      <td>76.949842</td>\n",
       "      <td>2.133749</td>\n",
       "      <td>89.471018</td>\n",
       "    </tr>\n",
       "    <tr>\n",
       "      <th>min</th>\n",
       "      <td>10859.000000</td>\n",
       "      <td>6.000000</td>\n",
       "      <td>4.990000</td>\n",
       "      <td>6.290000</td>\n",
       "      <td>2018.000000</td>\n",
       "      <td>1.000000</td>\n",
       "      <td>1.000000</td>\n",
       "      <td>5.000000</td>\n",
       "    </tr>\n",
       "    <tr>\n",
       "      <th>25%</th>\n",
       "      <td>10916.500000</td>\n",
       "      <td>37.000000</td>\n",
       "      <td>9.990000</td>\n",
       "      <td>17.980000</td>\n",
       "      <td>2018.000000</td>\n",
       "      <td>14.000000</td>\n",
       "      <td>1.000000</td>\n",
       "      <td>30.000000</td>\n",
       "    </tr>\n",
       "    <tr>\n",
       "      <th>50%</th>\n",
       "      <td>41378.000000</td>\n",
       "      <td>93.000000</td>\n",
       "      <td>19.990000</td>\n",
       "      <td>29.990000</td>\n",
       "      <td>2019.000000</td>\n",
       "      <td>44.000000</td>\n",
       "      <td>2.000000</td>\n",
       "      <td>61.000000</td>\n",
       "    </tr>\n",
       "    <tr>\n",
       "      <th>75%</th>\n",
       "      <td>60193.000000</td>\n",
       "      <td>323.500000</td>\n",
       "      <td>39.990000</td>\n",
       "      <td>53.935000</td>\n",
       "      <td>2020.000000</td>\n",
       "      <td>116.000000</td>\n",
       "      <td>3.000000</td>\n",
       "      <td>151.000000</td>\n",
       "    </tr>\n",
       "    <tr>\n",
       "      <th>max</th>\n",
       "      <td>60267.000000</td>\n",
       "      <td>897.000000</td>\n",
       "      <td>149.990000</td>\n",
       "      <td>184.990000</td>\n",
       "      <td>2020.000000</td>\n",
       "      <td>389.000000</td>\n",
       "      <td>15.000000</td>\n",
       "      <td>411.000000</td>\n",
       "    </tr>\n",
       "  </tbody>\n",
       "</table>\n",
       "</div>"
      ],
      "text/plain": [
       "        item_number      pieces       price  amazon_price         year  \\\n",
       "count     75.000000   75.000000   75.000000     75.000000    75.000000   \n",
       "mean   37498.493333  196.453333   32.136667     39.393733  2019.053333   \n",
       "std    20461.267542  213.914121   27.747263     33.301259     0.820239   \n",
       "min    10859.000000    6.000000    4.990000      6.290000  2018.000000   \n",
       "25%    10916.500000   37.000000    9.990000     17.980000  2018.000000   \n",
       "50%    41378.000000   93.000000   19.990000     29.990000  2019.000000   \n",
       "75%    60193.000000  323.500000   39.990000     53.935000  2020.000000   \n",
       "max    60267.000000  897.000000  149.990000    184.990000  2020.000000   \n",
       "\n",
       "            pages  minifigures  unique_pieces  \n",
       "count   75.000000    65.000000      75.000000  \n",
       "mean    73.213333     2.615385      96.666667  \n",
       "std     76.949842     2.133749      89.471018  \n",
       "min      1.000000     1.000000       5.000000  \n",
       "25%     14.000000     1.000000      30.000000  \n",
       "50%     44.000000     2.000000      61.000000  \n",
       "75%    116.000000     3.000000     151.000000  \n",
       "max    389.000000    15.000000     411.000000  "
      ]
     },
     "execution_count": 12,
     "metadata": {},
     "output_type": "execute_result"
    }
   ],
   "source": [
    "DF.describe()"
   ]
  },
  {
   "cell_type": "markdown",
   "id": "e70ecd96-0f29-40b8-a23d-41c87dc44da9",
   "metadata": {},
   "source": [
    "(d) When I used the describe command, I noticed that the data was shortened and we are only including numerical data that could possibly be used in a graph and also noticed that weight wasnt included. I think weight wasn't included because a lot of the data said not applicable so they left that set of information out since it doesn't have much importance in the data. Another thing I noticed is that we are looking at the mean, standard deviation and it looks like we are seeing a type of box plot but in a table format. we see the first quartile, third quartile. Another thing we are seeing is that all the numbers are in decimal points and have a lot of 0's at the end."
   ]
  },
  {
   "cell_type": "markdown",
   "id": "12b4f6cc-b8c8-4af1-81be-df6ef549e51f",
   "metadata": {},
   "source": [
    "### Problem 2\n",
    "\n",
    "#### (a) Display the data frame, showing only the the columns that contain useful categorical information. If you left out any columns, say why.\n",
    "\n",
    "#### (b) For each categorical column, that you chose above, find the frequencies of the category. Talk about what you learn from the results of each calculation (1-2 sentences)."
   ]
  },
  {
   "cell_type": "code",
   "execution_count": 16,
   "id": "e2e76103-0106-45ca-a11d-0d39010da788",
   "metadata": {},
   "outputs": [
    {
     "data": {
      "text/html": [
       "<div>\n",
       "<style scoped>\n",
       "    .dataframe tbody tr th:only-of-type {\n",
       "        vertical-align: middle;\n",
       "    }\n",
       "\n",
       "    .dataframe tbody tr th {\n",
       "        vertical-align: top;\n",
       "    }\n",
       "\n",
       "    .dataframe thead th {\n",
       "        text-align: right;\n",
       "    }\n",
       "</style>\n",
       "<table border=\"1\" class=\"dataframe\">\n",
       "  <thead>\n",
       "    <tr style=\"text-align: right;\">\n",
       "      <th></th>\n",
       "      <th>set_name</th>\n",
       "      <th>ages</th>\n",
       "      <th>size</th>\n",
       "      <th>packaging</th>\n",
       "      <th>theme</th>\n",
       "    </tr>\n",
       "  </thead>\n",
       "  <tbody>\n",
       "    <tr>\n",
       "      <th>0</th>\n",
       "      <td>My First Ladybird</td>\n",
       "      <td>Ages_1½-3</td>\n",
       "      <td>Large</td>\n",
       "      <td>Box</td>\n",
       "      <td>DUPLO®</td>\n",
       "    </tr>\n",
       "    <tr>\n",
       "      <th>1</th>\n",
       "      <td>My First Race Car</td>\n",
       "      <td>Ages_1½-3</td>\n",
       "      <td>Large</td>\n",
       "      <td>Box</td>\n",
       "      <td>DUPLO®</td>\n",
       "    </tr>\n",
       "    <tr>\n",
       "      <th>2</th>\n",
       "      <td>My First Celebration</td>\n",
       "      <td>Ages_1½-3</td>\n",
       "      <td>Large</td>\n",
       "      <td>Box</td>\n",
       "      <td>DUPLO®</td>\n",
       "    </tr>\n",
       "    <tr>\n",
       "      <th>3</th>\n",
       "      <td>Large Playground Brick Box</td>\n",
       "      <td>Ages_2-5</td>\n",
       "      <td>Large</td>\n",
       "      <td>Plastic box</td>\n",
       "      <td>DUPLO®</td>\n",
       "    </tr>\n",
       "    <tr>\n",
       "      <th>4</th>\n",
       "      <td>Farmers' Market</td>\n",
       "      <td>Ages_2-5</td>\n",
       "      <td>Large</td>\n",
       "      <td>Box</td>\n",
       "      <td>DUPLO®</td>\n",
       "    </tr>\n",
       "    <tr>\n",
       "      <th>...</th>\n",
       "      <td>...</td>\n",
       "      <td>...</td>\n",
       "      <td>...</td>\n",
       "      <td>...</td>\n",
       "      <td>...</td>\n",
       "    </tr>\n",
       "    <tr>\n",
       "      <th>70</th>\n",
       "      <td>Monster Truck</td>\n",
       "      <td>Ages_5+</td>\n",
       "      <td>Small</td>\n",
       "      <td>Box</td>\n",
       "      <td>City</td>\n",
       "    </tr>\n",
       "    <tr>\n",
       "      <th>71</th>\n",
       "      <td>Construction Bulldozer</td>\n",
       "      <td>Ages_4+</td>\n",
       "      <td>Small</td>\n",
       "      <td>Box</td>\n",
       "      <td>City</td>\n",
       "    </tr>\n",
       "    <tr>\n",
       "      <th>72</th>\n",
       "      <td>Tuning Workshop</td>\n",
       "      <td>Ages_6+</td>\n",
       "      <td>Small</td>\n",
       "      <td>Box</td>\n",
       "      <td>City</td>\n",
       "    </tr>\n",
       "    <tr>\n",
       "      <th>73</th>\n",
       "      <td>Ocean Exploration Ship</td>\n",
       "      <td>Ages_7+</td>\n",
       "      <td>Small</td>\n",
       "      <td>Box</td>\n",
       "      <td>City</td>\n",
       "    </tr>\n",
       "    <tr>\n",
       "      <th>74</th>\n",
       "      <td>Safari Off-Roader</td>\n",
       "      <td>Ages_5+</td>\n",
       "      <td>Small</td>\n",
       "      <td>Box</td>\n",
       "      <td>City</td>\n",
       "    </tr>\n",
       "  </tbody>\n",
       "</table>\n",
       "<p>75 rows × 5 columns</p>\n",
       "</div>"
      ],
      "text/plain": [
       "                      set_name       ages   size    packaging   theme\n",
       "0            My First Ladybird  Ages_1½-3  Large          Box  DUPLO®\n",
       "1            My First Race Car  Ages_1½-3  Large          Box  DUPLO®\n",
       "2         My First Celebration  Ages_1½-3  Large          Box  DUPLO®\n",
       "3   Large Playground Brick Box   Ages_2-5  Large  Plastic box  DUPLO®\n",
       "4              Farmers' Market   Ages_2-5  Large          Box  DUPLO®\n",
       "..                         ...        ...    ...          ...     ...\n",
       "70               Monster Truck    Ages_5+  Small          Box    City\n",
       "71      Construction Bulldozer    Ages_4+  Small          Box    City\n",
       "72             Tuning Workshop    Ages_6+  Small          Box    City\n",
       "73      Ocean Exploration Ship    Ages_7+  Small          Box    City\n",
       "74           Safari Off-Roader    Ages_5+  Small          Box    City\n",
       "\n",
       "[75 rows x 5 columns]"
      ]
     },
     "execution_count": 16,
     "metadata": {},
     "output_type": "execute_result"
    }
   ],
   "source": [
    "my_columns = ['set_name','ages', 'size', 'packaging', 'theme']\n",
    "DF[my_columns]"
   ]
  },
  {
   "cell_type": "markdown",
   "id": "fe6aef9c-4cf4-47de-ba1b-2a990a5bc96f",
   "metadata": {},
   "source": [
    "(a) I chose to leave out the item number because I didn't find there to be an importance in it. The item number is just telling us the number of the package but is not useful information like the other categorical data that is shown above."
   ]
  },
  {
   "cell_type": "code",
   "execution_count": 17,
   "id": "be7555e3-2d56-4859-bcd0-cf1d752dbba7",
   "metadata": {},
   "outputs": [
    {
     "data": {
      "text/plain": [
       "count                    75\n",
       "unique                   75\n",
       "top       My First Ladybird\n",
       "freq                      1\n",
       "Name: set_name, dtype: object"
      ]
     },
     "execution_count": 17,
     "metadata": {},
     "output_type": "execute_result"
    }
   ],
   "source": [
    "my_columns==['set_name']\n",
    "DF['set_name'].describe()"
   ]
  },
  {
   "cell_type": "code",
   "execution_count": 18,
   "id": "097c44e6-5990-4760-b8bf-1ff192019162",
   "metadata": {},
   "outputs": [
    {
     "data": {
      "text/plain": [
       "count          75\n",
       "unique         11\n",
       "top       Ages_6+\n",
       "freq           20\n",
       "Name: ages, dtype: object"
      ]
     },
     "execution_count": 18,
     "metadata": {},
     "output_type": "execute_result"
    }
   ],
   "source": [
    "my_columns==['ages']\n",
    "DF['ages'].describe()"
   ]
  },
  {
   "cell_type": "code",
   "execution_count": 19,
   "id": "207c9603-fdfa-49d0-af0c-7768a61be024",
   "metadata": {},
   "outputs": [
    {
     "data": {
      "text/plain": [
       "count        75\n",
       "unique        2\n",
       "top       Small\n",
       "freq         50\n",
       "Name: size, dtype: object"
      ]
     },
     "execution_count": 19,
     "metadata": {},
     "output_type": "execute_result"
    }
   ],
   "source": [
    "my_columns==['size']\n",
    "DF['size'].describe()"
   ]
  },
  {
   "cell_type": "code",
   "execution_count": 20,
   "id": "d0bb56a1-a912-4dfb-a106-705585f799c6",
   "metadata": {},
   "outputs": [
    {
     "data": {
      "text/plain": [
       "count      68\n",
       "unique      4\n",
       "top       Box\n",
       "freq       64\n",
       "Name: packaging, dtype: object"
      ]
     },
     "execution_count": 20,
     "metadata": {},
     "output_type": "execute_result"
    }
   ],
   "source": [
    "my_columns==['packaging']\n",
    "DF['packaging'].describe()"
   ]
  },
  {
   "cell_type": "code",
   "execution_count": 21,
   "id": "97e95786-1801-43c3-90cb-f222b65abb27",
   "metadata": {},
   "outputs": [
    {
     "data": {
      "text/plain": [
       "count         75\n",
       "unique         3\n",
       "top       DUPLO®\n",
       "freq          25\n",
       "Name: theme, dtype: object"
      ]
     },
     "execution_count": 21,
     "metadata": {},
     "output_type": "execute_result"
    }
   ],
   "source": [
    "my_columns==['theme']\n",
    "DF['theme'].describe()"
   ]
  },
  {
   "cell_type": "markdown",
   "id": "d748687c-5202-4167-8abe-4c455ef3c3ca",
   "metadata": {},
   "source": [
    "(b) For the set name, we see that the most popular is called My First Ladybird and the frequency of it is just 1. For the ages, the most frequent is ages 6+ with 20 of them in the data set. For the size of the packages, the most frequent we see is the small size with 50 of our data rows showing the small packaging. For the packaging we see that the top packaging is in a box with 64 of our data rows showing this. Finally, for the top theme we see it to be DUPLO with 25 of our rows showing this in our data set."
   ]
  },
  {
   "cell_type": "markdown",
   "id": "73fd7aad-e8ba-4a37-8361-509f40181953",
   "metadata": {},
   "source": [
    "### Problem 3\n",
    "\n",
    "#### (a) Make a scatter plot of the number of pieces vs. the price.\n",
    "        Color the data by the lego theme and add the set name as your hover_data\n",
    "\n",
    "#### (b) Answer these questions: (describe by what you see on the graph & comment on any outliers)\n",
    "        1. Do the expensive sets have more pieces?\n",
    "        2. What is the most expensive set?\n",
    "        3. Are there any differences between the themes?"
   ]
  },
  {
   "cell_type": "code",
   "execution_count": 26,
   "id": "dcff995e-9cc9-4fad-850d-a9860121429a",
   "metadata": {},
   "outputs": [
    {
     "data": {
      "application/vnd.plotly.v1+json": {
       "config": {
        "plotlyServerURL": "https://plot.ly"
       },
       "data": [
        {
         "customdata": [
          [
           "My First Ladybird"
          ],
          [
           "My First Race Car"
          ],
          [
           "My First Celebration"
          ],
          [
           "Large Playground Brick Box"
          ],
          [
           "Farmers' Market"
          ],
          [
           "Farm Animals"
          ],
          [
           "Train Bridge and Tracks"
          ],
          [
           "Cargo Train"
          ],
          [
           "Spider-Man & Hulk Adventures"
          ],
          [
           "Rapunzel's Tower"
          ],
          [
           "Train Tracks"
          ],
          [
           "My First Fun Puzzle"
          ],
          [
           "My First Car Creations"
          ],
          [
           "Fire Truck"
          ],
          [
           "Baby Animals"
          ],
          [
           "Tropical Island"
          ],
          [
           "Plane"
          ],
          [
           "Submarine Adventure"
          ],
          [
           "Alphabet Truck"
          ],
          [
           "Tow Truck"
          ],
          [
           "Super Heroes Lab"
          ],
          [
           "Bedroom"
          ],
          [
           "Pizza Stand"
          ],
          [
           "Bakery"
          ],
          [
           "Modular Playhouse"
          ]
         ],
         "hovertemplate": "theme=DUPLO®<br>unique_pieces=%{x}<br>price=%{y}<br>set_name=%{customdata[0]}<extra></extra>",
         "legendgroup": "DUPLO®",
         "marker": {
          "color": "#636efa",
          "symbol": "circle"
         },
         "mode": "markers",
         "name": "DUPLO®",
         "orientation": "v",
         "showlegend": true,
         "type": "scatter",
         "x": {
          "bdata": "BQYSMRINCkQdGgkPHxAJLAsWIwcXEA8hOA==",
          "dtype": "i1"
         },
         "xaxis": "x",
         "y": {
          "bdata": "9ihcj8L1E0D2KFyPwvUTQHsUrkfh+i1AH4XrUbj+SEA9CtejcP0zQHsUrkfh+iNAPQrXo3D9OECPwvUoXP9dQD0K16Nw/T1APQrXo3D9PUA9CtejcP0zQD0K16Nw/TNAPQrXo3D9M0A9CtejcP0zQHsUrkfh+iNAH4XrUbj+TUB7FK5H4fojQD0K16Nw/TNAPQrXo3D9OED2KFyPwvUbQD0K16Nw/T1AexSuR+H6LUB7FK5H4fojQB+F61G4fkFAH4XrUbj+TUA=",
          "dtype": "f8"
         },
         "yaxis": "y"
        },
        {
         "customdata": [
          [
           "Stephanie's Soccer Practice"
          ],
          [
           "Olivia's Mission Vehicle"
          ],
          [
           "Mia's Tree House"
          ],
          [
           "Friendship House"
          ],
          [
           "Friends Advent Calendar"
          ],
          [
           "Stephanie's Heart Box"
          ],
          [
           "Mia's Heart Box"
          ],
          [
           "Mia's Forest Adventures"
          ],
          [
           "Stephanie's Obstacle Course"
          ],
          [
           "Mia's House"
          ],
          [
           "Andrea's Pool Party"
          ],
          [
           "Turtles Rescue Mission"
          ],
          [
           "Dolphins Rescue Mission"
          ],
          [
           "Andrea's Summer Heart Box"
          ],
          [
           "Olivia's Summer Heart Box"
          ],
          [
           "Heartlake City Hospital"
          ],
          [
           "Puppy Playground"
          ],
          [
           "Andrea's Play Cube - Singer"
          ],
          [
           "Mia's Play Cube - Veterinarian"
          ],
          [
           "Mia's Play Cube - Cinema"
          ],
          [
           "Baby Elephant Jungle Rescue"
          ],
          [
           "Tiger Hot Air Balloon Jungle Rescue"
          ],
          [
           "Jungle Rescue Base"
          ],
          [
           "Emma's Fashion Shop"
          ],
          [
           "Beach House"
          ]
         ],
         "hovertemplate": "theme=Friends<br>unique_pieces=%{x}<br>price=%{y}<br>set_name=%{customdata[0]}<extra></extra>",
         "legendgroup": "Friends",
         "marker": {
          "color": "#EF553B",
          "symbol": "circle"
         },
         "mode": "markers",
         "name": "Friends",
         "orientation": "v",
         "showlegend": true,
         "type": "scatter",
         "x": {
          "bdata": "TgBqAJcANQHKACQAJgBNAKgAEgHdAH0AwAAuADAAmgApACAAIAAfAG8AkQD7AJgA2AA=",
          "dtype": "i2"
         },
         "xaxis": "x",
         "y": {
          "bdata": "exSuR+H6LUA9CtejcP0zQD0K16Nw/T1Aj8L1KFx/UUA9CtejcP09QPYoXI/C9R9A9ihcj8L1H0B7FK5H4fotQB+F61G4/kNAj8L1KFx/UUAfhetRuP5IQD0K16Nw/TNAH4XrUbj+Q0D2KFyPwvUfQPYoXI/C9R9AH4XrUbj+SEB7FK5H4fojQHsUrkfh+iNAexSuR+H6I0B7FK5H4fojQD0K16Nw/TNAH4XrUbj+Q0CPwvUoXP9TQD0K16Nw/T1AH4XrUbj+SEA=",
          "dtype": "f8"
         },
         "yaxis": "y"
        },
        {
         "customdata": [
          [
           "Off-Road Chase"
          ],
          [
           "Mountain Fugitives"
          ],
          [
           "Dirt Road Pursuit"
          ],
          [
           "Pickup & Caravan"
          ],
          [
           "Heavy Cargo Transport"
          ],
          [
           "Mining Team"
          ],
          [
           "People Pack - Outdoor Adventures"
          ],
          [
           "Parachute Arrest"
          ],
          [
           "Dock Side Fire"
          ],
          [
           "Fire Station"
          ],
          [
           "Fire Plane"
          ],
          [
           "Construction Loader"
          ],
          [
           "Diving Yacht"
          ],
          [
           "Harvester Transport"
          ],
          [
           "Mars Research Shuttle"
          ],
          [
           "Police Helicopter Chase"
          ],
          [
           "Police Monster Truck Heist"
          ],
          [
           "Police Station"
          ],
          [
           "Fire Helicopter Response"
          ],
          [
           "Street Sweeper"
          ],
          [
           "Monster Truck"
          ],
          [
           "Construction Bulldozer"
          ],
          [
           "Tuning Workshop"
          ],
          [
           "Ocean Exploration Ship"
          ],
          [
           "Safari Off-Roader"
          ]
         ],
         "hovertemplate": "theme=City<br>unique_pieces=%{x}<br>price=%{y}<br>set_name=%{customdata[0]}<extra></extra>",
         "legendgroup": "City",
         "marker": {
          "color": "#00cc96",
          "symbol": "circle"
         },
         "mode": "markers",
         "name": "City",
         "orientation": "v",
         "showlegend": true,
         "type": "scatter",
         "x": {
          "bdata": "HAA9AIwAvAChAEAAgACLAD8A0gCXADIAUQCmAIcAfwDGACoBPQA3ACIAUQCbAToBVgA=",
          "dtype": "i2"
         },
         "xaxis": "x",
         "y": {
          "bdata": "9ihcj8L1G0B7FK5H4fojQB+F61G4/kNAPQrXo3D9PUA9CtejcP09QHsUrkfh+iNAH4XrUbj+Q0AfhetRuP5DQD0K16Nw/TNAj8L1KFx/UUAfhetRuP5NQHsUrkfh+iNAPQrXo3D9M0A9CtejcP09QB+F61G4/kNAH4XrUbj+Q0AfhetRuP5NQI/C9Shc/1hAPQrXo3D9PUB7FK5H4fojQHsUrkfh+iNAPQrXo3D9M0CPwvUoXP9YQEjhehSuv2JAPQrXo3D9M0A=",
          "dtype": "f8"
         },
         "yaxis": "y"
        }
       ],
       "layout": {
        "autosize": false,
        "height": 500,
        "legend": {
         "title": {
          "text": "theme"
         },
         "tracegroupgap": 0
        },
        "margin": {
         "t": 60
        },
        "template": {
         "data": {
          "bar": [
           {
            "error_x": {
             "color": "#2a3f5f"
            },
            "error_y": {
             "color": "#2a3f5f"
            },
            "marker": {
             "line": {
              "color": "#E5ECF6",
              "width": 0.5
             },
             "pattern": {
              "fillmode": "overlay",
              "size": 10,
              "solidity": 0.2
             }
            },
            "type": "bar"
           }
          ],
          "barpolar": [
           {
            "marker": {
             "line": {
              "color": "#E5ECF6",
              "width": 0.5
             },
             "pattern": {
              "fillmode": "overlay",
              "size": 10,
              "solidity": 0.2
             }
            },
            "type": "barpolar"
           }
          ],
          "carpet": [
           {
            "aaxis": {
             "endlinecolor": "#2a3f5f",
             "gridcolor": "white",
             "linecolor": "white",
             "minorgridcolor": "white",
             "startlinecolor": "#2a3f5f"
            },
            "baxis": {
             "endlinecolor": "#2a3f5f",
             "gridcolor": "white",
             "linecolor": "white",
             "minorgridcolor": "white",
             "startlinecolor": "#2a3f5f"
            },
            "type": "carpet"
           }
          ],
          "choropleth": [
           {
            "colorbar": {
             "outlinewidth": 0,
             "ticks": ""
            },
            "type": "choropleth"
           }
          ],
          "contour": [
           {
            "colorbar": {
             "outlinewidth": 0,
             "ticks": ""
            },
            "colorscale": [
             [
              0,
              "#0d0887"
             ],
             [
              0.1111111111111111,
              "#46039f"
             ],
             [
              0.2222222222222222,
              "#7201a8"
             ],
             [
              0.3333333333333333,
              "#9c179e"
             ],
             [
              0.4444444444444444,
              "#bd3786"
             ],
             [
              0.5555555555555556,
              "#d8576b"
             ],
             [
              0.6666666666666666,
              "#ed7953"
             ],
             [
              0.7777777777777778,
              "#fb9f3a"
             ],
             [
              0.8888888888888888,
              "#fdca26"
             ],
             [
              1,
              "#f0f921"
             ]
            ],
            "type": "contour"
           }
          ],
          "contourcarpet": [
           {
            "colorbar": {
             "outlinewidth": 0,
             "ticks": ""
            },
            "type": "contourcarpet"
           }
          ],
          "heatmap": [
           {
            "colorbar": {
             "outlinewidth": 0,
             "ticks": ""
            },
            "colorscale": [
             [
              0,
              "#0d0887"
             ],
             [
              0.1111111111111111,
              "#46039f"
             ],
             [
              0.2222222222222222,
              "#7201a8"
             ],
             [
              0.3333333333333333,
              "#9c179e"
             ],
             [
              0.4444444444444444,
              "#bd3786"
             ],
             [
              0.5555555555555556,
              "#d8576b"
             ],
             [
              0.6666666666666666,
              "#ed7953"
             ],
             [
              0.7777777777777778,
              "#fb9f3a"
             ],
             [
              0.8888888888888888,
              "#fdca26"
             ],
             [
              1,
              "#f0f921"
             ]
            ],
            "type": "heatmap"
           }
          ],
          "histogram": [
           {
            "marker": {
             "pattern": {
              "fillmode": "overlay",
              "size": 10,
              "solidity": 0.2
             }
            },
            "type": "histogram"
           }
          ],
          "histogram2d": [
           {
            "colorbar": {
             "outlinewidth": 0,
             "ticks": ""
            },
            "colorscale": [
             [
              0,
              "#0d0887"
             ],
             [
              0.1111111111111111,
              "#46039f"
             ],
             [
              0.2222222222222222,
              "#7201a8"
             ],
             [
              0.3333333333333333,
              "#9c179e"
             ],
             [
              0.4444444444444444,
              "#bd3786"
             ],
             [
              0.5555555555555556,
              "#d8576b"
             ],
             [
              0.6666666666666666,
              "#ed7953"
             ],
             [
              0.7777777777777778,
              "#fb9f3a"
             ],
             [
              0.8888888888888888,
              "#fdca26"
             ],
             [
              1,
              "#f0f921"
             ]
            ],
            "type": "histogram2d"
           }
          ],
          "histogram2dcontour": [
           {
            "colorbar": {
             "outlinewidth": 0,
             "ticks": ""
            },
            "colorscale": [
             [
              0,
              "#0d0887"
             ],
             [
              0.1111111111111111,
              "#46039f"
             ],
             [
              0.2222222222222222,
              "#7201a8"
             ],
             [
              0.3333333333333333,
              "#9c179e"
             ],
             [
              0.4444444444444444,
              "#bd3786"
             ],
             [
              0.5555555555555556,
              "#d8576b"
             ],
             [
              0.6666666666666666,
              "#ed7953"
             ],
             [
              0.7777777777777778,
              "#fb9f3a"
             ],
             [
              0.8888888888888888,
              "#fdca26"
             ],
             [
              1,
              "#f0f921"
             ]
            ],
            "type": "histogram2dcontour"
           }
          ],
          "mesh3d": [
           {
            "colorbar": {
             "outlinewidth": 0,
             "ticks": ""
            },
            "type": "mesh3d"
           }
          ],
          "parcoords": [
           {
            "line": {
             "colorbar": {
              "outlinewidth": 0,
              "ticks": ""
             }
            },
            "type": "parcoords"
           }
          ],
          "pie": [
           {
            "automargin": true,
            "type": "pie"
           }
          ],
          "scatter": [
           {
            "fillpattern": {
             "fillmode": "overlay",
             "size": 10,
             "solidity": 0.2
            },
            "type": "scatter"
           }
          ],
          "scatter3d": [
           {
            "line": {
             "colorbar": {
              "outlinewidth": 0,
              "ticks": ""
             }
            },
            "marker": {
             "colorbar": {
              "outlinewidth": 0,
              "ticks": ""
             }
            },
            "type": "scatter3d"
           }
          ],
          "scattercarpet": [
           {
            "marker": {
             "colorbar": {
              "outlinewidth": 0,
              "ticks": ""
             }
            },
            "type": "scattercarpet"
           }
          ],
          "scattergeo": [
           {
            "marker": {
             "colorbar": {
              "outlinewidth": 0,
              "ticks": ""
             }
            },
            "type": "scattergeo"
           }
          ],
          "scattergl": [
           {
            "marker": {
             "colorbar": {
              "outlinewidth": 0,
              "ticks": ""
             }
            },
            "type": "scattergl"
           }
          ],
          "scattermap": [
           {
            "marker": {
             "colorbar": {
              "outlinewidth": 0,
              "ticks": ""
             }
            },
            "type": "scattermap"
           }
          ],
          "scattermapbox": [
           {
            "marker": {
             "colorbar": {
              "outlinewidth": 0,
              "ticks": ""
             }
            },
            "type": "scattermapbox"
           }
          ],
          "scatterpolar": [
           {
            "marker": {
             "colorbar": {
              "outlinewidth": 0,
              "ticks": ""
             }
            },
            "type": "scatterpolar"
           }
          ],
          "scatterpolargl": [
           {
            "marker": {
             "colorbar": {
              "outlinewidth": 0,
              "ticks": ""
             }
            },
            "type": "scatterpolargl"
           }
          ],
          "scatterternary": [
           {
            "marker": {
             "colorbar": {
              "outlinewidth": 0,
              "ticks": ""
             }
            },
            "type": "scatterternary"
           }
          ],
          "surface": [
           {
            "colorbar": {
             "outlinewidth": 0,
             "ticks": ""
            },
            "colorscale": [
             [
              0,
              "#0d0887"
             ],
             [
              0.1111111111111111,
              "#46039f"
             ],
             [
              0.2222222222222222,
              "#7201a8"
             ],
             [
              0.3333333333333333,
              "#9c179e"
             ],
             [
              0.4444444444444444,
              "#bd3786"
             ],
             [
              0.5555555555555556,
              "#d8576b"
             ],
             [
              0.6666666666666666,
              "#ed7953"
             ],
             [
              0.7777777777777778,
              "#fb9f3a"
             ],
             [
              0.8888888888888888,
              "#fdca26"
             ],
             [
              1,
              "#f0f921"
             ]
            ],
            "type": "surface"
           }
          ],
          "table": [
           {
            "cells": {
             "fill": {
              "color": "#EBF0F8"
             },
             "line": {
              "color": "white"
             }
            },
            "header": {
             "fill": {
              "color": "#C8D4E3"
             },
             "line": {
              "color": "white"
             }
            },
            "type": "table"
           }
          ]
         },
         "layout": {
          "annotationdefaults": {
           "arrowcolor": "#2a3f5f",
           "arrowhead": 0,
           "arrowwidth": 1
          },
          "autotypenumbers": "strict",
          "coloraxis": {
           "colorbar": {
            "outlinewidth": 0,
            "ticks": ""
           }
          },
          "colorscale": {
           "diverging": [
            [
             0,
             "#8e0152"
            ],
            [
             0.1,
             "#c51b7d"
            ],
            [
             0.2,
             "#de77ae"
            ],
            [
             0.3,
             "#f1b6da"
            ],
            [
             0.4,
             "#fde0ef"
            ],
            [
             0.5,
             "#f7f7f7"
            ],
            [
             0.6,
             "#e6f5d0"
            ],
            [
             0.7,
             "#b8e186"
            ],
            [
             0.8,
             "#7fbc41"
            ],
            [
             0.9,
             "#4d9221"
            ],
            [
             1,
             "#276419"
            ]
           ],
           "sequential": [
            [
             0,
             "#0d0887"
            ],
            [
             0.1111111111111111,
             "#46039f"
            ],
            [
             0.2222222222222222,
             "#7201a8"
            ],
            [
             0.3333333333333333,
             "#9c179e"
            ],
            [
             0.4444444444444444,
             "#bd3786"
            ],
            [
             0.5555555555555556,
             "#d8576b"
            ],
            [
             0.6666666666666666,
             "#ed7953"
            ],
            [
             0.7777777777777778,
             "#fb9f3a"
            ],
            [
             0.8888888888888888,
             "#fdca26"
            ],
            [
             1,
             "#f0f921"
            ]
           ],
           "sequentialminus": [
            [
             0,
             "#0d0887"
            ],
            [
             0.1111111111111111,
             "#46039f"
            ],
            [
             0.2222222222222222,
             "#7201a8"
            ],
            [
             0.3333333333333333,
             "#9c179e"
            ],
            [
             0.4444444444444444,
             "#bd3786"
            ],
            [
             0.5555555555555556,
             "#d8576b"
            ],
            [
             0.6666666666666666,
             "#ed7953"
            ],
            [
             0.7777777777777778,
             "#fb9f3a"
            ],
            [
             0.8888888888888888,
             "#fdca26"
            ],
            [
             1,
             "#f0f921"
            ]
           ]
          },
          "colorway": [
           "#636efa",
           "#EF553B",
           "#00cc96",
           "#ab63fa",
           "#FFA15A",
           "#19d3f3",
           "#FF6692",
           "#B6E880",
           "#FF97FF",
           "#FECB52"
          ],
          "font": {
           "color": "#2a3f5f"
          },
          "geo": {
           "bgcolor": "white",
           "lakecolor": "white",
           "landcolor": "#E5ECF6",
           "showlakes": true,
           "showland": true,
           "subunitcolor": "white"
          },
          "hoverlabel": {
           "align": "left"
          },
          "hovermode": "closest",
          "mapbox": {
           "style": "light"
          },
          "paper_bgcolor": "white",
          "plot_bgcolor": "#E5ECF6",
          "polar": {
           "angularaxis": {
            "gridcolor": "white",
            "linecolor": "white",
            "ticks": ""
           },
           "bgcolor": "#E5ECF6",
           "radialaxis": {
            "gridcolor": "white",
            "linecolor": "white",
            "ticks": ""
           }
          },
          "scene": {
           "xaxis": {
            "backgroundcolor": "#E5ECF6",
            "gridcolor": "white",
            "gridwidth": 2,
            "linecolor": "white",
            "showbackground": true,
            "ticks": "",
            "zerolinecolor": "white"
           },
           "yaxis": {
            "backgroundcolor": "#E5ECF6",
            "gridcolor": "white",
            "gridwidth": 2,
            "linecolor": "white",
            "showbackground": true,
            "ticks": "",
            "zerolinecolor": "white"
           },
           "zaxis": {
            "backgroundcolor": "#E5ECF6",
            "gridcolor": "white",
            "gridwidth": 2,
            "linecolor": "white",
            "showbackground": true,
            "ticks": "",
            "zerolinecolor": "white"
           }
          },
          "shapedefaults": {
           "line": {
            "color": "#2a3f5f"
           }
          },
          "ternary": {
           "aaxis": {
            "gridcolor": "white",
            "linecolor": "white",
            "ticks": ""
           },
           "baxis": {
            "gridcolor": "white",
            "linecolor": "white",
            "ticks": ""
           },
           "bgcolor": "#E5ECF6",
           "caxis": {
            "gridcolor": "white",
            "linecolor": "white",
            "ticks": ""
           }
          },
          "title": {
           "x": 0.05
          },
          "xaxis": {
           "automargin": true,
           "gridcolor": "white",
           "linecolor": "white",
           "ticks": "",
           "title": {
            "standoff": 15
           },
           "zerolinecolor": "white",
           "zerolinewidth": 2
          },
          "yaxis": {
           "automargin": true,
           "gridcolor": "white",
           "linecolor": "white",
           "ticks": "",
           "title": {
            "standoff": 15
           },
           "zerolinecolor": "white",
           "zerolinewidth": 2
          }
         }
        },
        "title": {
         "text": "Unique Pieces and Their Prices",
         "x": 0.5
        },
        "width": 800,
        "xaxis": {
         "anchor": "y",
         "domain": [
          0,
          1
         ],
         "title": {
          "text": "unique_pieces"
         }
        },
        "yaxis": {
         "anchor": "x",
         "domain": [
          0,
          1
         ],
         "title": {
          "text": "price"
         }
        }
       }
      },
      "image/png": "[encoded data removed]"
     },
     "metadata": {},
     "output_type": "display_data"
    }
   ],
   "source": [
    "#Answer to question 3 part a is just the graph.\n",
    "fig = px.scatter(DF,\n",
    "                 x='unique_pieces',\n",
    "                 y='price',\n",
    "                 hover_data='set_name',\n",
    "                 color = 'theme')\n",
    "\n",
    "fig.update_layout(title='Unique Pieces and Their Prices',\n",
    "                  title_x=0.5,\n",
    "                  xaxis_title=\"unique_pieces\",\n",
    "                  yaxis_title=\"price\",\n",
    "                  autosize=False,\n",
    "                  width=800,\n",
    "                  height=500)\n",
    "\n",
    "fig.show()"
   ]
  },
  {
   "cell_type": "markdown",
   "id": "91085330-6f74-4715-b15a-b7b04a375967",
   "metadata": {},
   "source": [
    "1. The expensive sets do not generally have more pieces.\n",
    "2. The most expensive set that we see in the graph above is the set Ocean Exploration ship, with 314 pieces and its price is   149.99.\n",
    "3. We see that the DUPLO theme runs in a more linear fashion with less pieces than the other themes. We can also see that the City theme has some of the most expensive pieces as we can see from the Ocean Exploration ship and Tuning Workshop which are both outliers in our data. We also see another outlier with the them DUPLO and the set is Cargo Train with a higher price than the other sets with this theme. "
   ]
  },
  {
   "cell_type": "markdown",
   "id": "4c598800-e009-4689-a378-c9b15e6b203c",
   "metadata": {},
   "source": [
    "### Problem 4\n",
    "    Analyze the differences between the Retail Price and the Amazon Price.\n",
    "\n",
    "#### (a) Create a new column in the data frame that measures the price difference between Amazon and Retail.\n",
    "        Price Difference = Amazon Price - Retail Price\n",
    "        If the results of this calculation are positive, what does that mean about the prices?\n",
    "\n",
    "#### (b) Group the data by Lego theme and use describe to do statistics on the price difference column you created in part (a).\n",
    "        Comment on at least 4 things that you learned by looking at these statistics.\n",
    "        (Your result should be a data frame (or table) with the three Lego themes on the left and statistics about the price difference to the right of that.)\n",
    "\n",
    "#### (c) Make a histogram of the price difference and color the bars by Lego Theme. (LABEL AXIS's)"
   ]
  },
  {
   "cell_type": "code",
   "execution_count": 32,
   "id": "c7b0c714-71e8-4db4-8557-523dd76fa2e3",
   "metadata": {},
   "outputs": [
    {
     "data": {
      "text/html": [
       "<div>\n",
       "<style scoped>\n",
       "    .dataframe tbody tr th:only-of-type {\n",
       "        vertical-align: middle;\n",
       "    }\n",
       "\n",
       "    .dataframe tbody tr th {\n",
       "        vertical-align: top;\n",
       "    }\n",
       "\n",
       "    .dataframe thead th {\n",
       "        text-align: right;\n",
       "    }\n",
       "</style>\n",
       "<table border=\"1\" class=\"dataframe\">\n",
       "  <thead>\n",
       "    <tr style=\"text-align: right;\">\n",
       "      <th></th>\n",
       "      <th>amazon_price</th>\n",
       "      <th>price</th>\n",
       "      <th>set_name</th>\n",
       "      <th>theme</th>\n",
       "    </tr>\n",
       "  </thead>\n",
       "  <tbody>\n",
       "    <tr>\n",
       "      <th>0</th>\n",
       "      <td>16.00</td>\n",
       "      <td>4.99</td>\n",
       "      <td>My First Ladybird</td>\n",
       "      <td>DUPLO®</td>\n",
       "    </tr>\n",
       "    <tr>\n",
       "      <th>1</th>\n",
       "      <td>9.45</td>\n",
       "      <td>4.99</td>\n",
       "      <td>My First Race Car</td>\n",
       "      <td>DUPLO®</td>\n",
       "    </tr>\n",
       "    <tr>\n",
       "      <th>2</th>\n",
       "      <td>39.89</td>\n",
       "      <td>14.99</td>\n",
       "      <td>My First Celebration</td>\n",
       "      <td>DUPLO®</td>\n",
       "    </tr>\n",
       "    <tr>\n",
       "      <th>3</th>\n",
       "      <td>56.69</td>\n",
       "      <td>49.99</td>\n",
       "      <td>Large Playground Brick Box</td>\n",
       "      <td>DUPLO®</td>\n",
       "    </tr>\n",
       "    <tr>\n",
       "      <th>4</th>\n",
       "      <td>36.99</td>\n",
       "      <td>19.99</td>\n",
       "      <td>Farmers' Market</td>\n",
       "      <td>DUPLO®</td>\n",
       "    </tr>\n",
       "    <tr>\n",
       "      <th>...</th>\n",
       "      <td>...</td>\n",
       "      <td>...</td>\n",
       "      <td>...</td>\n",
       "      <td>...</td>\n",
       "    </tr>\n",
       "    <tr>\n",
       "      <th>70</th>\n",
       "      <td>8.99</td>\n",
       "      <td>9.99</td>\n",
       "      <td>Monster Truck</td>\n",
       "      <td>City</td>\n",
       "    </tr>\n",
       "    <tr>\n",
       "      <th>71</th>\n",
       "      <td>15.99</td>\n",
       "      <td>19.99</td>\n",
       "      <td>Construction Bulldozer</td>\n",
       "      <td>City</td>\n",
       "    </tr>\n",
       "    <tr>\n",
       "      <th>72</th>\n",
       "      <td>99.99</td>\n",
       "      <td>99.99</td>\n",
       "      <td>Tuning Workshop</td>\n",
       "      <td>City</td>\n",
       "    </tr>\n",
       "    <tr>\n",
       "      <th>73</th>\n",
       "      <td>149.99</td>\n",
       "      <td>149.99</td>\n",
       "      <td>Ocean Exploration Ship</td>\n",
       "      <td>City</td>\n",
       "    </tr>\n",
       "    <tr>\n",
       "      <th>74</th>\n",
       "      <td>17.99</td>\n",
       "      <td>19.99</td>\n",
       "      <td>Safari Off-Roader</td>\n",
       "      <td>City</td>\n",
       "    </tr>\n",
       "  </tbody>\n",
       "</table>\n",
       "<p>75 rows × 4 columns</p>\n",
       "</div>"
      ],
      "text/plain": [
       "    amazon_price   price                    set_name   theme\n",
       "0          16.00    4.99           My First Ladybird  DUPLO®\n",
       "1           9.45    4.99           My First Race Car  DUPLO®\n",
       "2          39.89   14.99        My First Celebration  DUPLO®\n",
       "3          56.69   49.99  Large Playground Brick Box  DUPLO®\n",
       "4          36.99   19.99             Farmers' Market  DUPLO®\n",
       "..           ...     ...                         ...     ...\n",
       "70          8.99    9.99               Monster Truck    City\n",
       "71         15.99   19.99      Construction Bulldozer    City\n",
       "72         99.99   99.99             Tuning Workshop    City\n",
       "73        149.99  149.99      Ocean Exploration Ship    City\n",
       "74         17.99   19.99           Safari Off-Roader    City\n",
       "\n",
       "[75 rows x 4 columns]"
      ]
     },
     "execution_count": 32,
     "metadata": {},
     "output_type": "execute_result"
    }
   ],
   "source": [
    "my_newcolumns = ['amazon_price','price','set_name', 'theme']\n",
    "DF[my_newcolumns]"
   ]
  },
  {
   "cell_type": "code",
   "execution_count": 33,
   "id": "a006cc37-6536-4568-b692-cad830423098",
   "metadata": {},
   "outputs": [
    {
     "name": "stdout",
     "output_type": "stream",
     "text": [
      "    item_number                    set_name   theme  pieces   price  \\\n",
      "0         10859           My First Ladybird  DUPLO®       6    4.99   \n",
      "1         10860           My First Race Car  DUPLO®       6    4.99   \n",
      "2         10862        My First Celebration  DUPLO®      41   14.99   \n",
      "3         10864  Large Playground Brick Box  DUPLO®      71   49.99   \n",
      "4         10867             Farmers' Market  DUPLO®      26   19.99   \n",
      "..          ...                         ...     ...     ...     ...   \n",
      "70        60251               Monster Truck    City      55    9.99   \n",
      "71        60252      Construction Bulldozer    City     126   19.99   \n",
      "72        60258             Tuning Workshop    City     897   99.99   \n",
      "73        60266      Ocean Exploration Ship    City     745  149.99   \n",
      "74        60267           Safari Off-Roader    City     168   19.99   \n",
      "\n",
      "    amazon_price  year       ages  pages  minifigures    packaging  \\\n",
      "0          16.00  2018  Ages_1½-3      9          NaN          Box   \n",
      "1           9.45  2018  Ages_1½-3      9          NaN          Box   \n",
      "2          39.89  2018  Ages_1½-3      9          NaN          Box   \n",
      "3          56.69  2018   Ages_2-5     32          2.0  Plastic box   \n",
      "4          36.99  2018   Ages_2-5      9          3.0          Box   \n",
      "..           ...   ...        ...    ...          ...          ...   \n",
      "70          8.99  2020    Ages_5+     32          1.0          Box   \n",
      "71         15.99  2020    Ages_4+     84          2.0          Box   \n",
      "72         99.99  2020    Ages_6+    389          7.0          Box   \n",
      "73        149.99  2020    Ages_7+    229          8.0          Box   \n",
      "74         17.99  2020    Ages_5+     76          2.0          Box   \n",
      "\n",
      "              weight  unique_pieces   size  Price Difference  \n",
      "0                NaN              5  Large             11.01  \n",
      "1   0.13Kg (0.29 lb)              6  Large              4.46  \n",
      "2                NaN             18  Large             24.90  \n",
      "3   1.41Kg (3.11 lb)             49  Large              6.70  \n",
      "4                NaN             18  Large             17.00  \n",
      "..               ...            ...    ...               ...  \n",
      "70  0.14Kg (0.31 lb)             34  Small             -1.00  \n",
      "71  0.35Kg (0.78 lb)             81  Small             -4.00  \n",
      "72  1.63Kg (3.58 lb)            411  Small              0.00  \n",
      "73  2.28Kg (5.03 lb)            314  Small              0.00  \n",
      "74  0.34Kg (0.76 lb)             86  Small             -2.00  \n",
      "\n",
      "[75 rows x 15 columns]\n"
     ]
    }
   ],
   "source": [
    "DF['Price Difference'] = DF['amazon_price'] - DF['price']\n",
    "print(DF)"
   ]
  },
  {
   "cell_type": "code",
   "execution_count": 34,
   "id": "08a21fa9-64cf-4729-b853-cbb56649a420",
   "metadata": {},
   "outputs": [
    {
     "data": {
      "text/html": [
       "<div>\n",
       "<style scoped>\n",
       "    .dataframe tbody tr th:only-of-type {\n",
       "        vertical-align: middle;\n",
       "    }\n",
       "\n",
       "    .dataframe tbody tr th {\n",
       "        vertical-align: top;\n",
       "    }\n",
       "\n",
       "    .dataframe thead th {\n",
       "        text-align: right;\n",
       "    }\n",
       "</style>\n",
       "<table border=\"1\" class=\"dataframe\">\n",
       "  <thead>\n",
       "    <tr style=\"text-align: right;\">\n",
       "      <th></th>\n",
       "      <th>amazon_price</th>\n",
       "      <th>price</th>\n",
       "      <th>set_name</th>\n",
       "      <th>theme</th>\n",
       "      <th>Price Difference</th>\n",
       "    </tr>\n",
       "  </thead>\n",
       "  <tbody>\n",
       "    <tr>\n",
       "      <th>0</th>\n",
       "      <td>16.00</td>\n",
       "      <td>4.99</td>\n",
       "      <td>My First Ladybird</td>\n",
       "      <td>DUPLO®</td>\n",
       "      <td>11.01</td>\n",
       "    </tr>\n",
       "    <tr>\n",
       "      <th>1</th>\n",
       "      <td>9.45</td>\n",
       "      <td>4.99</td>\n",
       "      <td>My First Race Car</td>\n",
       "      <td>DUPLO®</td>\n",
       "      <td>4.46</td>\n",
       "    </tr>\n",
       "    <tr>\n",
       "      <th>2</th>\n",
       "      <td>39.89</td>\n",
       "      <td>14.99</td>\n",
       "      <td>My First Celebration</td>\n",
       "      <td>DUPLO®</td>\n",
       "      <td>24.90</td>\n",
       "    </tr>\n",
       "    <tr>\n",
       "      <th>3</th>\n",
       "      <td>56.69</td>\n",
       "      <td>49.99</td>\n",
       "      <td>Large Playground Brick Box</td>\n",
       "      <td>DUPLO®</td>\n",
       "      <td>6.70</td>\n",
       "    </tr>\n",
       "    <tr>\n",
       "      <th>4</th>\n",
       "      <td>36.99</td>\n",
       "      <td>19.99</td>\n",
       "      <td>Farmers' Market</td>\n",
       "      <td>DUPLO®</td>\n",
       "      <td>17.00</td>\n",
       "    </tr>\n",
       "    <tr>\n",
       "      <th>...</th>\n",
       "      <td>...</td>\n",
       "      <td>...</td>\n",
       "      <td>...</td>\n",
       "      <td>...</td>\n",
       "      <td>...</td>\n",
       "    </tr>\n",
       "    <tr>\n",
       "      <th>70</th>\n",
       "      <td>8.99</td>\n",
       "      <td>9.99</td>\n",
       "      <td>Monster Truck</td>\n",
       "      <td>City</td>\n",
       "      <td>-1.00</td>\n",
       "    </tr>\n",
       "    <tr>\n",
       "      <th>71</th>\n",
       "      <td>15.99</td>\n",
       "      <td>19.99</td>\n",
       "      <td>Construction Bulldozer</td>\n",
       "      <td>City</td>\n",
       "      <td>-4.00</td>\n",
       "    </tr>\n",
       "    <tr>\n",
       "      <th>72</th>\n",
       "      <td>99.99</td>\n",
       "      <td>99.99</td>\n",
       "      <td>Tuning Workshop</td>\n",
       "      <td>City</td>\n",
       "      <td>0.00</td>\n",
       "    </tr>\n",
       "    <tr>\n",
       "      <th>73</th>\n",
       "      <td>149.99</td>\n",
       "      <td>149.99</td>\n",
       "      <td>Ocean Exploration Ship</td>\n",
       "      <td>City</td>\n",
       "      <td>0.00</td>\n",
       "    </tr>\n",
       "    <tr>\n",
       "      <th>74</th>\n",
       "      <td>17.99</td>\n",
       "      <td>19.99</td>\n",
       "      <td>Safari Off-Roader</td>\n",
       "      <td>City</td>\n",
       "      <td>-2.00</td>\n",
       "    </tr>\n",
       "  </tbody>\n",
       "</table>\n",
       "<p>75 rows × 5 columns</p>\n",
       "</div>"
      ],
      "text/plain": [
       "    amazon_price   price                    set_name   theme  Price Difference\n",
       "0          16.00    4.99           My First Ladybird  DUPLO®             11.01\n",
       "1           9.45    4.99           My First Race Car  DUPLO®              4.46\n",
       "2          39.89   14.99        My First Celebration  DUPLO®             24.90\n",
       "3          56.69   49.99  Large Playground Brick Box  DUPLO®              6.70\n",
       "4          36.99   19.99             Farmers' Market  DUPLO®             17.00\n",
       "..           ...     ...                         ...     ...               ...\n",
       "70          8.99    9.99               Monster Truck    City             -1.00\n",
       "71         15.99   19.99      Construction Bulldozer    City             -4.00\n",
       "72         99.99   99.99             Tuning Workshop    City              0.00\n",
       "73        149.99  149.99      Ocean Exploration Ship    City              0.00\n",
       "74         17.99   19.99           Safari Off-Roader    City             -2.00\n",
       "\n",
       "[75 rows x 5 columns]"
      ]
     },
     "execution_count": 34,
     "metadata": {},
     "output_type": "execute_result"
    }
   ],
   "source": [
    "my_newcolumns = ['amazon_price','price','set_name', 'theme','Price Difference']\n",
    "DF[my_newcolumns]"
   ]
  },
  {
   "cell_type": "markdown",
   "id": "00e3c335-764a-477b-8755-f768bcb7a89a",
   "metadata": {},
   "source": [
    "(a) if the calculations are positive when calculating the difference, this means that the amazon price has to be more expensive or is selling the items at a higher price than retail. If it's negative that means the opposite, retail price is more expensive."
   ]
  },
  {
   "cell_type": "code",
   "execution_count": null,
   "id": "9e2969cb-d3af-4b55-9252-9c4e9a2fffa1",
   "metadata": {},
   "outputs": [],
   "source": []
  },
  {
   "cell_type": "code",
   "execution_count": null,
   "id": "0c100554-3e3c-45bd-8b2b-072457eb9aae",
   "metadata": {},
   "outputs": [],
   "source": []
  },
  {
   "cell_type": "code",
   "execution_count": null,
   "id": "061cfeb2-d1d2-4e6d-b55a-fb41b0d2a3fc",
   "metadata": {},
   "outputs": [],
   "source": []
  },
  {
   "cell_type": "code",
   "execution_count": null,
   "id": "87b3523d-1207-40f0-b0f5-ccba193e08a5",
   "metadata": {},
   "outputs": [],
   "source": []
  },
  {
   "cell_type": "code",
   "execution_count": null,
   "id": "6b9b762c-7344-4fe5-9821-a6bd4088e66d",
   "metadata": {},
   "outputs": [],
   "source": []
  },
  {
   "cell_type": "code",
   "execution_count": null,
   "id": "17df37f2-fe5e-49e9-9e34-9d4d49ad9437",
   "metadata": {},
   "outputs": [],
   "source": []
  },
  {
   "cell_type": "code",
   "execution_count": null,
   "id": "adb9eee5-735a-4dee-8aec-cf49d0b2d3ad",
   "metadata": {},
   "outputs": [],
   "source": []
  },
  {
   "cell_type": "code",
   "execution_count": null,
   "id": "f4d59adb-74db-46bf-8e7c-20ceafcbed5e",
   "metadata": {},
   "outputs": [],
   "source": []
  },
  {
   "cell_type": "code",
   "execution_count": null,
   "id": "a82b3752-73d5-4fb0-a296-2e9edc6c6c82",
   "metadata": {},
   "outputs": [],
   "source": []
  },
  {
   "cell_type": "code",
   "execution_count": null,
   "id": "cb63899e-7531-4d9c-bf07-309c287299f3",
   "metadata": {},
   "outputs": [],
   "source": []
  },
  {
   "cell_type": "code",
   "execution_count": null,
   "id": "ca989639-122c-4ae1-920a-d0bf35abd9fe",
   "metadata": {},
   "outputs": [],
   "source": []
  },
  {
   "cell_type": "code",
   "execution_count": null,
   "id": "6a3e72ab-caf3-4901-a529-10d19e178fbe",
   "metadata": {},
   "outputs": [],
   "source": [
    "\n"
   ]
  },
  {
   "cell_type": "code",
   "execution_count": null,
   "id": "113c4ae0-06b5-434b-9b18-2623debc512b",
   "metadata": {},
   "outputs": [],
   "source": []
  },
  {
   "cell_type": "code",
   "execution_count": null,
   "id": "1d005c19-a1e2-4a83-a5cc-a6c56875950f",
   "metadata": {},
   "outputs": [],
   "source": []
  },
  {
   "cell_type": "code",
   "execution_count": null,
   "id": "f8caa32d-68ee-4f91-83d1-92d9857d8386",
   "metadata": {},
   "outputs": [],
   "source": []
  }
 ],
 "metadata": {
  "kernelspec": {
   "display_name": "Python [conda env:base] *",
   "language": "python",
   "name": "conda-base-py"
  },
  "language_info": {
   "codemirror_mode": {
    "name": "ipython",
    "version": 3
   },
   "file_extension": ".py",
   "mimetype": "text/x-python",
   "name": "python",
   "nbconvert_exporter": "python",
   "pygments_lexer": "ipython3",
   "version": "3.13.5"
  }
 },
 "nbformat": 4,
 "nbformat_minor": 5
}
