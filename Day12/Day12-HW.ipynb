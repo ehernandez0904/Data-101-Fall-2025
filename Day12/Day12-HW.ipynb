{
 "cells": [
  {
   "cell_type": "markdown",
   "id": "33738fde-205d-4e95-b885-807e97a8adf6",
   "metadata": {},
   "source": [
    "## Introduction to Data Science\n",
    "\n",
    "#### University of Redlands - DATA 101\n",
    "#### Prof: Joanna Bieri [joanna_bieri@redlands.edu](mailto:joanna_bieri@redlands.edu)\n",
    "#### [Class Website: data101.joannabieri.com](https://joannabieri.com/data101.html)\n",
    "\n",
    "---------------------------------------\n",
    "# Homework Day 12\n",
    "---------------------------------------\n",
    "\n",
    "GOALS:\n",
    "\n",
    "1. Talk about Ethics of Web Scraping\n",
    "2. Practice web scraping.\n",
    "\n",
    "----------------------------------------------------------\n",
    "\n",
    "This homework has **3 questions**, **1 exercise** and **1 optional challenge problem**."
   ]
  },
  {
   "cell_type": "markdown",
   "id": "2bf78cd1",
   "metadata": {},
   "source": [
    "## Important Information\n",
    "\n",
    "- Email: [joanna_bieri@redlands.edu](mailto:joanna_bieri@redlands.edu)\n",
    "- Office Hours: Duke 209 <a href=\"https://joannabieri.com/schedule.html\"> Click Here for Joanna's Schedule</a>\n",
    "\n",
    "## Announcements\n",
    "\n",
    "**In NEXT WEEK - Data Ethics** This week you should be reading your book or articles.\n",
    "\n",
    "------------------------------\n",
    "---------------------\n",
    "\n",
    "### Web Scraping Ethical Issues\n",
    "\n",
    "There are some things to be aware of before you start scraping data from the web. \n",
    "\n",
    "- Some data is private or protected. Just because you have access to a websites data doesn't mean you are allowed to scrape it. For example, when you log into Facebook or another social media site, you are granted special access to data about your connected people. It is unethical to use that access to scrape their private data!\n",
    "\n",
    "- Some websites have rules against scraping and will cut of service to users who are clearly scraping data. How do they know? Webscrapers access the website very differently that regular users. If they site has a policy about scraping data then you should follow it and/or content them about getting the data if you have a true academic interest in the data.\n",
    "\n",
    "- The line between web scraping and plagiarism can be very blurry. Make sure that you are citing where your data comes from AND not just reproducing the data exactly. Always citing the source of your data and make sure you are doing something new with it.\n",
    "\n",
    "- Ethics are different depending on if you are using the data for a personal project (eg. you just want to check scores for your favorite team daily and print the stuff you care about) vs if you are using the project for your business or website (eg. publishing information to drive clicks to your site/video/account or making money from the data you collect). In the later case it is EXTRA important to respect the original owner of the data. Drive web traffic back to their site, check with them about using their data, etc.\n",
    "\n",
    "**The Ethical Scraper** (from https://towardsdatascience.com/ethics-in-web-scraping-b96b18136f01):\n",
    "\n",
    "I, the web scraper will live by the following principles:\n",
    "\n",
    "- If you have a public API that provides the data I’m looking for, I’ll use it and avoid scraping all together.\n",
    "- I will always provide a User Agent string that makes my intentions clear and provides a way for you to contact me with questions or concerns.\n",
    "- I will request data at a reasonable rate. I will strive to never be confused for a DDoS attack.\n",
    "- I will only save the data I absolutely need from your page. If all I need it OpenGraph meta-data, that’s all I’ll keep.\n",
    "- I will respect any content I do keep. I’ll never pass it off as my own.\n",
    "- I will look for ways to return value to you. Maybe I can drive some (real) traffic to your site or credit you in an article or post.\n",
    "- I will respond in a timely fashion to your outreach and work with you towards a resolution.\n",
    "- I will scrape for the purpose of creating new value from the data, not to duplicate it."
   ]
  },
  {
   "cell_type": "code",
   "execution_count": 1,
   "id": "b608007e",
   "metadata": {},
   "outputs": [],
   "source": [
    "import numpy as np\n",
    "import pandas as pd\n",
    "\n",
    "import matplotlib.pyplot as plt\n",
    "import plotly.express as px\n",
    "from plotly.subplots import make_subplots\n",
    "import plotly.io as pio\n",
    "pio.renderers.default = 'colab'\n",
    "\n",
    "from itables import show\n",
    "\n",
    "# This stops a few warning messages from showing\n",
    "pd.options.mode.chained_assignment = None \n",
    "import warnings\n",
    "warnings.simplefilter(action='ignore', category=FutureWarning)"
   ]
  },
  {
   "cell_type": "code",
   "execution_count": null,
   "id": "cd38c98b-cc3d-4150-973e-b7bc883f0b74",
   "metadata": {},
   "outputs": [],
   "source": []
  },
  {
   "cell_type": "markdown",
   "id": "3eec300d",
   "metadata": {},
   "source": [
    "## Using pandas to get table data.\n",
    "\n",
    "**Optional** - try using pandas to scrape a new site. See if you get errors or are able to find tables on that site.\n"
   ]
  },
  {
   "cell_type": "markdown",
   "id": "9faebc13",
   "metadata": {},
   "source": [
    "---\n",
    "---\n",
    "\n",
    "## Using Beautiful Soup to get HTML code\n",
    "\n",
    "### How to get data from static sites:\n",
    "\n",
    "You should already have the packages bs4 and requests but if you get an error try running:\n",
    "\n",
    "```{python}\n",
    "!conda install -y bs4\n",
    "!conda install -y requests\n",
    "```"
   ]
  },
  {
   "cell_type": "code",
   "execution_count": 2,
   "id": "1688f055",
   "metadata": {},
   "outputs": [],
   "source": [
    "import requests\n",
    "from bs4 import BeautifulSoup"
   ]
  },
  {
   "cell_type": "code",
   "execution_count": 3,
   "id": "aad9d963",
   "metadata": {},
   "outputs": [],
   "source": [
    "website = 'https://www.scrapethissite.com/pages/simple/'"
   ]
  },
  {
   "cell_type": "code",
   "execution_count": 4,
   "id": "08ea4457",
   "metadata": {},
   "outputs": [],
   "source": [
    "raw_code = requests.get(website)\n",
    "html_doc = raw_code.text\n",
    "soup = BeautifulSoup(html_doc, 'html.parser')"
   ]
  },
  {
   "cell_type": "markdown",
   "id": "dd104b88",
   "metadata": {},
   "source": [
    "#### Lets see what is in soup\n",
    "\n",
    "**Q1** Uncomment this line and run the cell. You will see a TON of text!"
   ]
  },
  {
   "cell_type": "code",
   "execution_count": 53,
   "id": "98582e0c",
   "metadata": {},
   "outputs": [],
   "source": [
    "#soup"
   ]
  },
  {
   "cell_type": "markdown",
   "id": "8a248cb1",
   "metadata": {},
   "source": [
    "### Extracting data from HTML:\n",
    "\n",
    "We will use the **soup.find_all()** function.\n",
    "\n",
    "Here is the simplified function signature:\n",
    "\n",
    "    soup.find_all(name=None,attrs={})\n",
    "    \n",
    "You can type soup.find_all? and run it to see all the information about additional arguments and advanced processes.\n",
    "\n",
    "**Here is how we will mostly use it**, but there are much more advanced things you can do:\n",
    "\n",
    "    soup.find_all( <type of section>, <info> )\n",
    "    \n",
    "The **.find_all()** function searches through the information in soup to match and return only sections that match the info. Here are some important types you might search for:\n",
    "\n",
    "- 'h2' - this is a heading\n",
    "- 'div' - this divides a block of information\n",
    "- 'span' - this divides inline information\n",
    "- 'a' - this specifies a hyperlink\n",
    "- 'li' - this is a list item\n",
    "\n",
    "- class_= - many things have the class label (notice the underscore!)\n",
    "- string= - you can also search by strings.\n",
    "\n",
    "\n",
    "### Using Developer tools:\n",
    "\n",
    "To figure out what data to extract I suggest you use developer tools on the website to find what you need. \n",
    "\n",
    "**Q2** Navigate to the website and use developer tools to explore the html code.\n",
    "\n",
    "[Scrape This Site -  Website](https://www.scrapethissite.com/pages/simple/)\n",
    "\n",
    "I really like Brave Browser or Google Chrome for this, but most browsers with have **More Tools/Developer Tools** where you can see the code.\n",
    "\n",
    "### Search for all the country names\n",
    "\n",
    "The names of the country are inside \n",
    "        \n",
    "        <h3 class=\"country-name\">\n",
    "\n",
    "So lets search for this:"
   ]
  },
  {
   "cell_type": "code",
   "execution_count": null,
   "id": "134e0afe-3b1e-4fb3-b606-9b252cc6fe23",
   "metadata": {},
   "outputs": [],
   "source": []
  },
  {
   "cell_type": "code",
   "execution_count": 13,
   "id": "6129c2d5-5e75-4b22-8d94-87ea473528a2",
   "metadata": {},
   "outputs": [],
   "source": [
    "result = soup.find_all('span',class_=\"country-population\")\n",
    "#result"
   ]
  },
  {
   "cell_type": "code",
   "execution_count": 8,
   "id": "bf0a0301-a7c3-4e79-a236-cce7547991aa",
   "metadata": {},
   "outputs": [
    {
     "data": {
      "text/plain": [
       "<span class=\"country-population\">84000</span>"
      ]
     },
     "execution_count": 8,
     "metadata": {},
     "output_type": "execute_result"
    }
   ],
   "source": [
    "result[0]"
   ]
  },
  {
   "cell_type": "code",
   "execution_count": 14,
   "id": "14bfb531-77bb-464f-a35c-f8c4186ee685",
   "metadata": {},
   "outputs": [],
   "source": [
    "DF = pd.DataFrame()"
   ]
  },
  {
   "cell_type": "code",
   "execution_count": 15,
   "id": "95ad57dd-31e2-43e6-aa43-0b832af3aade",
   "metadata": {},
   "outputs": [
    {
     "data": {
      "text/plain": [
       "84000"
      ]
     },
     "execution_count": 15,
     "metadata": {},
     "output_type": "execute_result"
    }
   ],
   "source": [
    "int(result[0].text)"
   ]
  },
  {
   "cell_type": "code",
   "execution_count": 16,
   "id": "aa7c4663-5aca-4899-95a6-9d83c310fe65",
   "metadata": {},
   "outputs": [
    {
     "data": {
      "text/html": [
       "<div>\n",
       "<style scoped>\n",
       "    .dataframe tbody tr th:only-of-type {\n",
       "        vertical-align: middle;\n",
       "    }\n",
       "\n",
       "    .dataframe tbody tr th {\n",
       "        vertical-align: top;\n",
       "    }\n",
       "\n",
       "    .dataframe thead th {\n",
       "        text-align: right;\n",
       "    }\n",
       "</style>\n",
       "<table border=\"1\" class=\"dataframe\">\n",
       "  <thead>\n",
       "    <tr style=\"text-align: right;\">\n",
       "      <th></th>\n",
       "      <th>pop</th>\n",
       "    </tr>\n",
       "  </thead>\n",
       "  <tbody>\n",
       "    <tr>\n",
       "      <th>0</th>\n",
       "      <td>84000</td>\n",
       "    </tr>\n",
       "    <tr>\n",
       "      <th>1</th>\n",
       "      <td>4975593</td>\n",
       "    </tr>\n",
       "    <tr>\n",
       "      <th>2</th>\n",
       "      <td>29121286</td>\n",
       "    </tr>\n",
       "    <tr>\n",
       "      <th>3</th>\n",
       "      <td>86754</td>\n",
       "    </tr>\n",
       "    <tr>\n",
       "      <th>4</th>\n",
       "      <td>13254</td>\n",
       "    </tr>\n",
       "    <tr>\n",
       "      <th>...</th>\n",
       "      <td>...</td>\n",
       "    </tr>\n",
       "    <tr>\n",
       "      <th>245</th>\n",
       "      <td>23495361</td>\n",
       "    </tr>\n",
       "    <tr>\n",
       "      <th>246</th>\n",
       "      <td>159042</td>\n",
       "    </tr>\n",
       "    <tr>\n",
       "      <th>247</th>\n",
       "      <td>49000000</td>\n",
       "    </tr>\n",
       "    <tr>\n",
       "      <th>248</th>\n",
       "      <td>13460305</td>\n",
       "    </tr>\n",
       "    <tr>\n",
       "      <th>249</th>\n",
       "      <td>11651858</td>\n",
       "    </tr>\n",
       "  </tbody>\n",
       "</table>\n",
       "<p>250 rows × 1 columns</p>\n",
       "</div>"
      ],
      "text/plain": [
       "          pop\n",
       "0       84000\n",
       "1     4975593\n",
       "2    29121286\n",
       "3       86754\n",
       "4       13254\n",
       "..        ...\n",
       "245  23495361\n",
       "246    159042\n",
       "247  49000000\n",
       "248  13460305\n",
       "249  11651858\n",
       "\n",
       "[250 rows x 1 columns]"
      ]
     },
     "execution_count": 16,
     "metadata": {},
     "output_type": "execute_result"
    }
   ],
   "source": [
    "# Create a data frame and add the site names\n",
    "# DF = pd.DataFrame()\n",
    "DF['pop']=result\n",
    "DF['pop'] = DF['pop'].apply(lambda x: int(x.text))\n",
    "DF"
   ]
  },
  {
   "cell_type": "markdown",
   "id": "e89e9aa7-957a-4c03-9c2e-0909dcc9bb59",
   "metadata": {},
   "source": [
    "### Your turn to try this!\n",
    "\n",
    "**Q3** Now it's your turn. See if you can write code that gets the population and area information into the data frame. See if you can make your example match what I get below, including having the correct data types. Population should be an int and area should be a float.\n",
    "\n",
    "Your goal is to get a data frame that looks like the one in lecture with columns for country, capital, population, and area!"
   ]
  },
  {
   "cell_type": "markdown",
   "id": "176e1115-9454-41ae-92fb-c65426fb2fd4",
   "metadata": {},
   "source": [
    "### Where can you get more practice\n",
    "\n",
    "Here is a website dedicated to allowing students to practice webscraping:\n",
    "\n",
    "[www.scrapethissite.com](https://www.scrapethissite.com/pages/)\n",
    "\n",
    "    website=https://www.scrapethissite.com/pages/\n",
    "-----------------\n",
    "### Exercise 1:\n",
    "\n",
    "We are going to scrape the site above to get the list of all links. \n",
    "\n",
    "Open the website and look at the developer tools.\n",
    "\n",
    "Here is our goal: Make a pandas data frame that contains three columns: \n",
    "\n",
    "* \"site_name\" - which contains just the words of the link\n",
    "* \"link\" - which contains just the website part of the link\n",
    "* \"description\" - which contains the words below the link\n",
    "\n",
    "When looking for links you can use\n",
    "\n",
    "    result = soup.find_all('a')\n",
    "    result[0].text # Get the text associated with the link\n",
    "    result[0].get('href') # Get the link location\n",
    "\n",
    "\n",
    "\n",
    "See if you can do this without looking at my code in the notes! What would your plan have to be?\n",
    "\n",
    "**See the lecture notes for hints and the solution!**\n"
   ]
  },
  {
   "cell_type": "code",
   "execution_count": 17,
   "id": "6bc7b9bd-4e91-40af-9bc9-f6e963ab6698",
   "metadata": {},
   "outputs": [
    {
     "data": {
      "text/plain": [
       "'/'"
      ]
     },
     "execution_count": 17,
     "metadata": {},
     "output_type": "execute_result"
    }
   ],
   "source": [
    "result = soup.find_all('a')\n",
    "result[0].text # Get the text associated with the link\n",
    "result[0].get('href') # Get the link location"
   ]
  },
  {
   "cell_type": "code",
   "execution_count": 18,
   "id": "8b358cf9-da4a-4653-8b8b-68fbfdc4e740",
   "metadata": {},
   "outputs": [],
   "source": [
    "# Get the soup\n",
    "website = 'https://www.scrapethissite.com/pages/'\n",
    "raw_code = requests.get(website)\n",
    "html_doc = raw_code.text\n",
    "soup = BeautifulSoup(html_doc, 'html.parser')"
   ]
  },
  {
   "cell_type": "code",
   "execution_count": 19,
   "id": "4a8ace2a-5175-4457-b645-96ee2b11e03f",
   "metadata": {},
   "outputs": [],
   "source": [
    "# Search the soup for links\n",
    "result = soup.find_all('a')"
   ]
  },
  {
   "cell_type": "code",
   "execution_count": 20,
   "id": "006e4bbc-13b4-4aa4-ba2b-61a34ec7c672",
   "metadata": {},
   "outputs": [
    {
     "data": {
      "text/plain": [
       "'Scrape This Site'"
      ]
     },
     "execution_count": 20,
     "metadata": {},
     "output_type": "execute_result"
    }
   ],
   "source": [
    "# Look at what we end up with and fix it till it looks good\n",
    "result[0].text.lstrip().rstrip()"
   ]
  },
  {
   "cell_type": "code",
   "execution_count": 21,
   "id": "67c02954-bde1-42b2-a57a-86599beda3e5",
   "metadata": {},
   "outputs": [
    {
     "data": {
      "text/plain": [
       "'Countries of the World: A Simple Example'"
      ]
     },
     "execution_count": 21,
     "metadata": {},
     "output_type": "execute_result"
    }
   ],
   "source": [
    "# The first few are from the top of the page not the main content\n",
    "result[5].text.lstrip().rstrip()"
   ]
  },
  {
   "cell_type": "code",
   "execution_count": 40,
   "id": "59b1530e-1793-4205-85c8-ddd48b351796",
   "metadata": {},
   "outputs": [
    {
     "data": {
      "text/html": [
       "<div>\n",
       "<style scoped>\n",
       "    .dataframe tbody tr th:only-of-type {\n",
       "        vertical-align: middle;\n",
       "    }\n",
       "\n",
       "    .dataframe tbody tr th {\n",
       "        vertical-align: top;\n",
       "    }\n",
       "\n",
       "    .dataframe thead th {\n",
       "        text-align: right;\n",
       "    }\n",
       "</style>\n",
       "<table border=\"1\" class=\"dataframe\">\n",
       "  <thead>\n",
       "    <tr style=\"text-align: right;\">\n",
       "      <th></th>\n",
       "      <th>site_name</th>\n",
       "    </tr>\n",
       "  </thead>\n",
       "  <tbody>\n",
       "    <tr>\n",
       "      <th>0</th>\n",
       "      <td>Books to Scrape</td>\n",
       "    </tr>\n",
       "    <tr>\n",
       "      <th>1</th>\n",
       "      <td>Home</td>\n",
       "    </tr>\n",
       "    <tr>\n",
       "      <th>2</th>\n",
       "      <td>Books</td>\n",
       "    </tr>\n",
       "    <tr>\n",
       "      <th>3</th>\n",
       "      <td>Travel</td>\n",
       "    </tr>\n",
       "    <tr>\n",
       "      <th>4</th>\n",
       "      <td>Mystery</td>\n",
       "    </tr>\n",
       "    <tr>\n",
       "      <th>...</th>\n",
       "      <td>...</td>\n",
       "    </tr>\n",
       "    <tr>\n",
       "      <th>89</th>\n",
       "      <td></td>\n",
       "    </tr>\n",
       "    <tr>\n",
       "      <th>90</th>\n",
       "      <td>Libertarianism for Beginners</td>\n",
       "    </tr>\n",
       "    <tr>\n",
       "      <th>91</th>\n",
       "      <td></td>\n",
       "    </tr>\n",
       "    <tr>\n",
       "      <th>92</th>\n",
       "      <td>It's Only the Himalayas</td>\n",
       "    </tr>\n",
       "    <tr>\n",
       "      <th>93</th>\n",
       "      <td>next</td>\n",
       "    </tr>\n",
       "  </tbody>\n",
       "</table>\n",
       "<p>94 rows × 1 columns</p>\n",
       "</div>"
      ],
      "text/plain": [
       "                       site_name\n",
       "0                Books to Scrape\n",
       "1                           Home\n",
       "2                          Books\n",
       "3                         Travel\n",
       "4                        Mystery\n",
       "..                           ...\n",
       "89                              \n",
       "90  Libertarianism for Beginners\n",
       "91                              \n",
       "92       It's Only the Himalayas\n",
       "93                          next\n",
       "\n",
       "[94 rows x 1 columns]"
      ]
     },
     "execution_count": 40,
     "metadata": {},
     "output_type": "execute_result"
    }
   ],
   "source": [
    "# Create a data frame and add the site names\n",
    "DF = pd.DataFrame()\n",
    "DF['site_name'] = result\n",
    "DF['site_name'] = DF['site_name'].apply(lambda x: x.text.lstrip().rstrip())\n",
    "DF"
   ]
  },
  {
   "cell_type": "code",
   "execution_count": 23,
   "id": "baadd092-dfa8-4fd0-96a4-3eb783abd2c3",
   "metadata": {},
   "outputs": [
    {
     "data": {
      "text/plain": [
       "'/'"
      ]
     },
     "execution_count": 23,
     "metadata": {},
     "output_type": "execute_result"
    }
   ],
   "source": [
    "# Look at what we ended up with but this time get the links\n",
    "result[0].get('href')"
   ]
  },
  {
   "cell_type": "code",
   "execution_count": 24,
   "id": "983d00c1-a0a9-4904-95f8-0eae0267ca2d",
   "metadata": {},
   "outputs": [
    {
     "data": {
      "text/plain": [
       "'/pages/simple/'"
      ]
     },
     "execution_count": 24,
     "metadata": {},
     "output_type": "execute_result"
    }
   ],
   "source": [
    "result[5].get('href')"
   ]
  },
  {
   "cell_type": "code",
   "execution_count": 25,
   "id": "df9f016f-04af-4092-bec4-61708b7ec97d",
   "metadata": {},
   "outputs": [
    {
     "data": {
      "text/html": [
       "<div>\n",
       "<style scoped>\n",
       "    .dataframe tbody tr th:only-of-type {\n",
       "        vertical-align: middle;\n",
       "    }\n",
       "\n",
       "    .dataframe tbody tr th {\n",
       "        vertical-align: top;\n",
       "    }\n",
       "\n",
       "    .dataframe thead th {\n",
       "        text-align: right;\n",
       "    }\n",
       "</style>\n",
       "<table border=\"1\" class=\"dataframe\">\n",
       "  <thead>\n",
       "    <tr style=\"text-align: right;\">\n",
       "      <th></th>\n",
       "      <th>site_name</th>\n",
       "      <th>link</th>\n",
       "    </tr>\n",
       "  </thead>\n",
       "  <tbody>\n",
       "    <tr>\n",
       "      <th>0</th>\n",
       "      <td>Scrape This Site</td>\n",
       "      <td>/</td>\n",
       "    </tr>\n",
       "    <tr>\n",
       "      <th>1</th>\n",
       "      <td>Sandbox</td>\n",
       "      <td>/pages/</td>\n",
       "    </tr>\n",
       "    <tr>\n",
       "      <th>2</th>\n",
       "      <td>Lessons</td>\n",
       "      <td>/lessons/</td>\n",
       "    </tr>\n",
       "    <tr>\n",
       "      <th>3</th>\n",
       "      <td>FAQ</td>\n",
       "      <td>/faq/</td>\n",
       "    </tr>\n",
       "    <tr>\n",
       "      <th>4</th>\n",
       "      <td>Login</td>\n",
       "      <td>/login/</td>\n",
       "    </tr>\n",
       "    <tr>\n",
       "      <th>5</th>\n",
       "      <td>Countries of the World: A Simple Example</td>\n",
       "      <td>/pages/simple/</td>\n",
       "    </tr>\n",
       "    <tr>\n",
       "      <th>6</th>\n",
       "      <td>Hockey Teams: Forms, Searching and Pagination</td>\n",
       "      <td>/pages/forms/</td>\n",
       "    </tr>\n",
       "    <tr>\n",
       "      <th>7</th>\n",
       "      <td>Oscar Winning Films: AJAX and Javascript</td>\n",
       "      <td>/pages/ajax-javascript/</td>\n",
       "    </tr>\n",
       "    <tr>\n",
       "      <th>8</th>\n",
       "      <td>Turtles All the Way Down: Frames &amp; iFrames</td>\n",
       "      <td>/pages/frames/</td>\n",
       "    </tr>\n",
       "    <tr>\n",
       "      <th>9</th>\n",
       "      <td>Advanced Topics: Real World Challenges You'll ...</td>\n",
       "      <td>/pages/advanced/</td>\n",
       "    </tr>\n",
       "  </tbody>\n",
       "</table>\n",
       "</div>"
      ],
      "text/plain": [
       "                                           site_name                     link\n",
       "0                                   Scrape This Site                        /\n",
       "1                                            Sandbox                  /pages/\n",
       "2                                            Lessons                /lessons/\n",
       "3                                                FAQ                    /faq/\n",
       "4                                              Login                  /login/\n",
       "5           Countries of the World: A Simple Example           /pages/simple/\n",
       "6      Hockey Teams: Forms, Searching and Pagination            /pages/forms/\n",
       "7           Oscar Winning Films: AJAX and Javascript  /pages/ajax-javascript/\n",
       "8         Turtles All the Way Down: Frames & iFrames           /pages/frames/\n",
       "9  Advanced Topics: Real World Challenges You'll ...         /pages/advanced/"
      ]
     },
     "execution_count": 25,
     "metadata": {},
     "output_type": "execute_result"
    }
   ],
   "source": [
    "# Add these to the data frame\n",
    "DF['link'] = result\n",
    "DF['link'] = DF['link'].apply(lambda x: x.get('href'))\n",
    "DF"
   ]
  },
  {
   "cell_type": "code",
   "execution_count": 26,
   "id": "a19af978-bae7-4429-8f2e-a2d6e053148a",
   "metadata": {},
   "outputs": [
    {
     "data": {
      "text/html": [
       "<div>\n",
       "<style scoped>\n",
       "    .dataframe tbody tr th:only-of-type {\n",
       "        vertical-align: middle;\n",
       "    }\n",
       "\n",
       "    .dataframe tbody tr th {\n",
       "        vertical-align: top;\n",
       "    }\n",
       "\n",
       "    .dataframe thead th {\n",
       "        text-align: right;\n",
       "    }\n",
       "</style>\n",
       "<table border=\"1\" class=\"dataframe\">\n",
       "  <thead>\n",
       "    <tr style=\"text-align: right;\">\n",
       "      <th></th>\n",
       "      <th>site_name</th>\n",
       "      <th>link</th>\n",
       "    </tr>\n",
       "  </thead>\n",
       "  <tbody>\n",
       "    <tr>\n",
       "      <th>5</th>\n",
       "      <td>Countries of the World: A Simple Example</td>\n",
       "      <td>/pages/simple/</td>\n",
       "    </tr>\n",
       "    <tr>\n",
       "      <th>6</th>\n",
       "      <td>Hockey Teams: Forms, Searching and Pagination</td>\n",
       "      <td>/pages/forms/</td>\n",
       "    </tr>\n",
       "    <tr>\n",
       "      <th>7</th>\n",
       "      <td>Oscar Winning Films: AJAX and Javascript</td>\n",
       "      <td>/pages/ajax-javascript/</td>\n",
       "    </tr>\n",
       "    <tr>\n",
       "      <th>8</th>\n",
       "      <td>Turtles All the Way Down: Frames &amp; iFrames</td>\n",
       "      <td>/pages/frames/</td>\n",
       "    </tr>\n",
       "    <tr>\n",
       "      <th>9</th>\n",
       "      <td>Advanced Topics: Real World Challenges You'll ...</td>\n",
       "      <td>/pages/advanced/</td>\n",
       "    </tr>\n",
       "  </tbody>\n",
       "</table>\n",
       "</div>"
      ],
      "text/plain": [
       "                                           site_name                     link\n",
       "5           Countries of the World: A Simple Example           /pages/simple/\n",
       "6      Hockey Teams: Forms, Searching and Pagination            /pages/forms/\n",
       "7           Oscar Winning Films: AJAX and Javascript  /pages/ajax-javascript/\n",
       "8         Turtles All the Way Down: Frames & iFrames           /pages/frames/\n",
       "9  Advanced Topics: Real World Challenges You'll ...         /pages/advanced/"
      ]
     },
     "execution_count": 26,
     "metadata": {},
     "output_type": "execute_result"
    }
   ],
   "source": [
    "# Remove the top few links\n",
    "DF = DF.drop([0,1,2,3,4])\n",
    "DF"
   ]
  },
  {
   "cell_type": "code",
   "execution_count": 27,
   "id": "2356c522-129f-4a2a-8173-482a2f17ec83",
   "metadata": {},
   "outputs": [],
   "source": [
    "# Now search the soup for the words\n",
    "# They are inside p class=\"lead session-desc\"\n",
    "result = soup.find_all('p',class_=\"lead session-desc\")"
   ]
  },
  {
   "cell_type": "code",
   "execution_count": 28,
   "id": "20a3955c-7d4d-4b0b-9764-233ea9cd2011",
   "metadata": {},
   "outputs": [
    {
     "data": {
      "text/plain": [
       "'A single page that lists information about all the countries in the world. Good for those just get started with web scraping.'"
      ]
     },
     "execution_count": 28,
     "metadata": {},
     "output_type": "execute_result"
    }
   ],
   "source": [
    "result[0].text.rstrip().lstrip()"
   ]
  },
  {
   "cell_type": "code",
   "execution_count": 30,
   "id": "63dcab3c-d593-4385-8720-67d296756a7a",
   "metadata": {},
   "outputs": [
    {
     "data": {
      "text/html": [
       "<div>\n",
       "<style scoped>\n",
       "    .dataframe tbody tr th:only-of-type {\n",
       "        vertical-align: middle;\n",
       "    }\n",
       "\n",
       "    .dataframe tbody tr th {\n",
       "        vertical-align: top;\n",
       "    }\n",
       "\n",
       "    .dataframe thead th {\n",
       "        text-align: right;\n",
       "    }\n",
       "</style>\n",
       "<table border=\"1\" class=\"dataframe\">\n",
       "  <thead>\n",
       "    <tr style=\"text-align: right;\">\n",
       "      <th></th>\n",
       "      <th>site_name</th>\n",
       "      <th>link</th>\n",
       "      <th>description</th>\n",
       "    </tr>\n",
       "  </thead>\n",
       "  <tbody>\n",
       "    <tr>\n",
       "      <th>5</th>\n",
       "      <td>Countries of the World: A Simple Example</td>\n",
       "      <td>/pages/simple/</td>\n",
       "      <td>A single page that lists information about all...</td>\n",
       "    </tr>\n",
       "    <tr>\n",
       "      <th>6</th>\n",
       "      <td>Hockey Teams: Forms, Searching and Pagination</td>\n",
       "      <td>/pages/forms/</td>\n",
       "      <td>Browse through a database of NHL team stats si...</td>\n",
       "    </tr>\n",
       "    <tr>\n",
       "      <th>7</th>\n",
       "      <td>Oscar Winning Films: AJAX and Javascript</td>\n",
       "      <td>/pages/ajax-javascript/</td>\n",
       "      <td>Click through a bunch of great films. Learn ho...</td>\n",
       "    </tr>\n",
       "    <tr>\n",
       "      <th>8</th>\n",
       "      <td>Turtles All the Way Down: Frames &amp; iFrames</td>\n",
       "      <td>/pages/frames/</td>\n",
       "      <td>Some older sites might still use frames to bre...</td>\n",
       "    </tr>\n",
       "    <tr>\n",
       "      <th>9</th>\n",
       "      <td>Advanced Topics: Real World Challenges You'll ...</td>\n",
       "      <td>/pages/advanced/</td>\n",
       "      <td>Scraping real websites, you're likely run into...</td>\n",
       "    </tr>\n",
       "  </tbody>\n",
       "</table>\n",
       "</div>"
      ],
      "text/plain": [
       "                                           site_name                     link  \\\n",
       "5           Countries of the World: A Simple Example           /pages/simple/   \n",
       "6      Hockey Teams: Forms, Searching and Pagination            /pages/forms/   \n",
       "7           Oscar Winning Films: AJAX and Javascript  /pages/ajax-javascript/   \n",
       "8         Turtles All the Way Down: Frames & iFrames           /pages/frames/   \n",
       "9  Advanced Topics: Real World Challenges You'll ...         /pages/advanced/   \n",
       "\n",
       "                                         description  \n",
       "5  A single page that lists information about all...  \n",
       "6  Browse through a database of NHL team stats si...  \n",
       "7  Click through a bunch of great films. Learn ho...  \n",
       "8  Some older sites might still use frames to bre...  \n",
       "9  Scraping real websites, you're likely run into...  "
      ]
     },
     "execution_count": 30,
     "metadata": {},
     "output_type": "execute_result"
    }
   ],
   "source": [
    "DF['description'] = result\n",
    "DF['description'] = DF['description'].apply(lambda x: x.text.rstrip().lstrip())\n",
    "DF\n",
    "#this is the complete answer, we were trying to scrape the website to get a table with the site name, their links and also a brief description of what the link is about."
   ]
  },
  {
   "cell_type": "markdown",
   "id": "ccdc8ae8-0880-4abb-a9ef-7d497210ee34",
   "metadata": {},
   "source": [
    "### Challenge Problem\n",
    "\n",
    "Here is another website to scrape. See if you can create a data frame that looks like the one in the lecture notes. Notice that you can only scrape the first page with the first link. \n",
    "\n",
    "If you want to try scraping the other pages you have to notice how the website updates its address for each page. Then write a for loop to loop through how ever many pages you want to scrape. Do the same set of operations for each page keep adding data to your data frame.\n",
    "\n",
    "Make a histogram of your final data."
   ]
  },
  {
   "cell_type": "code",
   "execution_count": 52,
   "id": "267722fb-a33b-4969-82eb-26c94edd0bb6",
   "metadata": {},
   "outputs": [],
   "source": [
    "website='https://books.toscrape.com/index.html'\n",
    "raw_code = requests.get(website)\n",
    "html_doc = raw_code.text\n",
    "soup = BeautifulSoup(html_doc, 'html.parser')"
   ]
  },
  {
   "cell_type": "markdown",
   "id": "09b86c1d-5c13-4178-9685-c09922f4ec2d",
   "metadata": {},
   "source": [
    "**Try to scrape the name, the link to the book, and the prices! I decided to put the name and link information into a single column and then break that apart**"
   ]
  },
  {
   "cell_type": "code",
   "execution_count": 36,
   "id": "429be6b6-4fdc-41e4-a481-c778ac9bc9ca",
   "metadata": {},
   "outputs": [],
   "source": [
    "# Search the soup for links\n",
    "result = soup.find_all('a')"
   ]
  },
  {
   "cell_type": "code",
   "execution_count": 37,
   "id": "08613fec-b6db-44cd-b093-69e43704cef0",
   "metadata": {},
   "outputs": [
    {
     "data": {
      "text/plain": [
       "'Books to Scrape'"
      ]
     },
     "execution_count": 37,
     "metadata": {},
     "output_type": "execute_result"
    }
   ],
   "source": [
    "# Look at what we end up with and fix it till it looks good\n",
    "result[0].text.lstrip().rstrip()"
   ]
  },
  {
   "cell_type": "code",
   "execution_count": 38,
   "id": "2594cc74-d698-44d9-98aa-a708f2bd54cb",
   "metadata": {},
   "outputs": [
    {
     "data": {
      "text/plain": [
       "'Historical Fiction'"
      ]
     },
     "execution_count": 38,
     "metadata": {},
     "output_type": "execute_result"
    }
   ],
   "source": [
    "# The first few are from the top of the page not the main content\n",
    "result[5].text.lstrip().rstrip()"
   ]
  },
  {
   "cell_type": "code",
   "execution_count": 41,
   "id": "92251afa-60bc-4046-a784-57b8b9c4c1b8",
   "metadata": {},
   "outputs": [
    {
     "data": {
      "text/html": [
       "<div>\n",
       "<style scoped>\n",
       "    .dataframe tbody tr th:only-of-type {\n",
       "        vertical-align: middle;\n",
       "    }\n",
       "\n",
       "    .dataframe tbody tr th {\n",
       "        vertical-align: top;\n",
       "    }\n",
       "\n",
       "    .dataframe thead th {\n",
       "        text-align: right;\n",
       "    }\n",
       "</style>\n",
       "<table border=\"1\" class=\"dataframe\">\n",
       "  <thead>\n",
       "    <tr style=\"text-align: right;\">\n",
       "      <th></th>\n",
       "      <th>site_name</th>\n",
       "    </tr>\n",
       "  </thead>\n",
       "  <tbody>\n",
       "    <tr>\n",
       "      <th>0</th>\n",
       "      <td>Books to Scrape</td>\n",
       "    </tr>\n",
       "    <tr>\n",
       "      <th>1</th>\n",
       "      <td>Home</td>\n",
       "    </tr>\n",
       "    <tr>\n",
       "      <th>2</th>\n",
       "      <td>Books</td>\n",
       "    </tr>\n",
       "    <tr>\n",
       "      <th>3</th>\n",
       "      <td>Travel</td>\n",
       "    </tr>\n",
       "    <tr>\n",
       "      <th>4</th>\n",
       "      <td>Mystery</td>\n",
       "    </tr>\n",
       "    <tr>\n",
       "      <th>...</th>\n",
       "      <td>...</td>\n",
       "    </tr>\n",
       "    <tr>\n",
       "      <th>89</th>\n",
       "      <td></td>\n",
       "    </tr>\n",
       "    <tr>\n",
       "      <th>90</th>\n",
       "      <td>Libertarianism for Beginners</td>\n",
       "    </tr>\n",
       "    <tr>\n",
       "      <th>91</th>\n",
       "      <td></td>\n",
       "    </tr>\n",
       "    <tr>\n",
       "      <th>92</th>\n",
       "      <td>It's Only the Himalayas</td>\n",
       "    </tr>\n",
       "    <tr>\n",
       "      <th>93</th>\n",
       "      <td>next</td>\n",
       "    </tr>\n",
       "  </tbody>\n",
       "</table>\n",
       "<p>94 rows × 1 columns</p>\n",
       "</div>"
      ],
      "text/plain": [
       "                       site_name\n",
       "0                Books to Scrape\n",
       "1                           Home\n",
       "2                          Books\n",
       "3                         Travel\n",
       "4                        Mystery\n",
       "..                           ...\n",
       "89                              \n",
       "90  Libertarianism for Beginners\n",
       "91                              \n",
       "92       It's Only the Himalayas\n",
       "93                          next\n",
       "\n",
       "[94 rows x 1 columns]"
      ]
     },
     "execution_count": 41,
     "metadata": {},
     "output_type": "execute_result"
    }
   ],
   "source": [
    "DF = pd.DataFrame()\n",
    "DF['site_name'] = result\n",
    "DF['site_name'] = DF['site_name'].apply(lambda x: x.text.lstrip().rstrip())\n",
    "DF"
   ]
  },
  {
   "cell_type": "code",
   "execution_count": 42,
   "id": "17d60c27-3eb8-4906-9550-3542fe3e9f89",
   "metadata": {},
   "outputs": [
    {
     "data": {
      "text/plain": [
       "'index.html'"
      ]
     },
     "execution_count": 42,
     "metadata": {},
     "output_type": "execute_result"
    }
   ],
   "source": [
    "# Look at what we ended up with but this time get the links\n",
    "result[0].get('href')"
   ]
  },
  {
   "cell_type": "code",
   "execution_count": 43,
   "id": "bf7a9ecd-bb6c-447c-8d39-38731e359ebb",
   "metadata": {},
   "outputs": [
    {
     "data": {
      "text/plain": [
       "'catalogue/category/books/historical-fiction_4/index.html'"
      ]
     },
     "execution_count": 43,
     "metadata": {},
     "output_type": "execute_result"
    }
   ],
   "source": [
    "result[5].get('href')"
   ]
  },
  {
   "cell_type": "code",
   "execution_count": 71,
   "id": "00e61860-7ca2-43a7-9d88-21170c66de8c",
   "metadata": {},
   "outputs": [
    {
     "data": {
      "text/html": [
       "<div>\n",
       "<style scoped>\n",
       "    .dataframe tbody tr th:only-of-type {\n",
       "        vertical-align: middle;\n",
       "    }\n",
       "\n",
       "    .dataframe tbody tr th {\n",
       "        vertical-align: top;\n",
       "    }\n",
       "\n",
       "    .dataframe thead th {\n",
       "        text-align: right;\n",
       "    }\n",
       "</style>\n",
       "<table border=\"1\" class=\"dataframe\">\n",
       "  <thead>\n",
       "    <tr style=\"text-align: right;\">\n",
       "      <th></th>\n",
       "      <th>price</th>\n",
       "      <th>link</th>\n",
       "    </tr>\n",
       "  </thead>\n",
       "  <tbody>\n",
       "  </tbody>\n",
       "</table>\n",
       "</div>"
      ],
      "text/plain": [
       "Empty DataFrame\n",
       "Columns: [price, link]\n",
       "Index: []"
      ]
     },
     "execution_count": 71,
     "metadata": {},
     "output_type": "execute_result"
    }
   ],
   "source": [
    "DF['link'] = result\n",
    "DF['link'] = DF['link'].apply(lambda x: x.get('href'))\n",
    "DF"
   ]
  },
  {
   "cell_type": "code",
   "execution_count": 45,
   "id": "73e7ff57-5619-487e-b480-7c7019f15d66",
   "metadata": {},
   "outputs": [
    {
     "data": {
      "text/html": [
       "<div>\n",
       "<style scoped>\n",
       "    .dataframe tbody tr th:only-of-type {\n",
       "        vertical-align: middle;\n",
       "    }\n",
       "\n",
       "    .dataframe tbody tr th {\n",
       "        vertical-align: top;\n",
       "    }\n",
       "\n",
       "    .dataframe thead th {\n",
       "        text-align: right;\n",
       "    }\n",
       "</style>\n",
       "<table border=\"1\" class=\"dataframe\">\n",
       "  <thead>\n",
       "    <tr style=\"text-align: right;\">\n",
       "      <th></th>\n",
       "      <th>site_name</th>\n",
       "      <th>link</th>\n",
       "    </tr>\n",
       "  </thead>\n",
       "  <tbody>\n",
       "    <tr>\n",
       "      <th>5</th>\n",
       "      <td>Historical Fiction</td>\n",
       "      <td>catalogue/category/books/historical-fiction_4/...</td>\n",
       "    </tr>\n",
       "    <tr>\n",
       "      <th>6</th>\n",
       "      <td>Sequential Art</td>\n",
       "      <td>catalogue/category/books/sequential-art_5/inde...</td>\n",
       "    </tr>\n",
       "    <tr>\n",
       "      <th>7</th>\n",
       "      <td>Classics</td>\n",
       "      <td>catalogue/category/books/classics_6/index.html</td>\n",
       "    </tr>\n",
       "    <tr>\n",
       "      <th>8</th>\n",
       "      <td>Philosophy</td>\n",
       "      <td>catalogue/category/books/philosophy_7/index.html</td>\n",
       "    </tr>\n",
       "    <tr>\n",
       "      <th>9</th>\n",
       "      <td>Romance</td>\n",
       "      <td>catalogue/category/books/romance_8/index.html</td>\n",
       "    </tr>\n",
       "    <tr>\n",
       "      <th>...</th>\n",
       "      <td>...</td>\n",
       "      <td>...</td>\n",
       "    </tr>\n",
       "    <tr>\n",
       "      <th>89</th>\n",
       "      <td></td>\n",
       "      <td>catalogue/libertarianism-for-beginners_982/ind...</td>\n",
       "    </tr>\n",
       "    <tr>\n",
       "      <th>90</th>\n",
       "      <td>Libertarianism for Beginners</td>\n",
       "      <td>catalogue/libertarianism-for-beginners_982/ind...</td>\n",
       "    </tr>\n",
       "    <tr>\n",
       "      <th>91</th>\n",
       "      <td></td>\n",
       "      <td>catalogue/its-only-the-himalayas_981/index.html</td>\n",
       "    </tr>\n",
       "    <tr>\n",
       "      <th>92</th>\n",
       "      <td>It's Only the Himalayas</td>\n",
       "      <td>catalogue/its-only-the-himalayas_981/index.html</td>\n",
       "    </tr>\n",
       "    <tr>\n",
       "      <th>93</th>\n",
       "      <td>next</td>\n",
       "      <td>catalogue/page-2.html</td>\n",
       "    </tr>\n",
       "  </tbody>\n",
       "</table>\n",
       "<p>89 rows × 2 columns</p>\n",
       "</div>"
      ],
      "text/plain": [
       "                       site_name  \\\n",
       "5             Historical Fiction   \n",
       "6                 Sequential Art   \n",
       "7                       Classics   \n",
       "8                     Philosophy   \n",
       "9                        Romance   \n",
       "..                           ...   \n",
       "89                                 \n",
       "90  Libertarianism for Beginners   \n",
       "91                                 \n",
       "92       It's Only the Himalayas   \n",
       "93                          next   \n",
       "\n",
       "                                                 link  \n",
       "5   catalogue/category/books/historical-fiction_4/...  \n",
       "6   catalogue/category/books/sequential-art_5/inde...  \n",
       "7      catalogue/category/books/classics_6/index.html  \n",
       "8    catalogue/category/books/philosophy_7/index.html  \n",
       "9       catalogue/category/books/romance_8/index.html  \n",
       "..                                                ...  \n",
       "89  catalogue/libertarianism-for-beginners_982/ind...  \n",
       "90  catalogue/libertarianism-for-beginners_982/ind...  \n",
       "91    catalogue/its-only-the-himalayas_981/index.html  \n",
       "92    catalogue/its-only-the-himalayas_981/index.html  \n",
       "93                              catalogue/page-2.html  \n",
       "\n",
       "[89 rows x 2 columns]"
      ]
     },
     "execution_count": 45,
     "metadata": {},
     "output_type": "execute_result"
    }
   ],
   "source": [
    "# Remove the top few links\n",
    "DF = DF.drop([0,1,2,3,4])\n",
    "DF"
   ]
  },
  {
   "cell_type": "code",
   "execution_count": 70,
   "id": "f7a6cd17-3059-4cb8-861e-df8bf0d647b6",
   "metadata": {},
   "outputs": [
    {
     "data": {
      "text/html": [
       "<div>\n",
       "<style scoped>\n",
       "    .dataframe tbody tr th:only-of-type {\n",
       "        vertical-align: middle;\n",
       "    }\n",
       "\n",
       "    .dataframe tbody tr th {\n",
       "        vertical-align: top;\n",
       "    }\n",
       "\n",
       "    .dataframe thead th {\n",
       "        text-align: right;\n",
       "    }\n",
       "</style>\n",
       "<table border=\"1\" class=\"dataframe\">\n",
       "  <thead>\n",
       "    <tr style=\"text-align: right;\">\n",
       "      <th></th>\n",
       "      <th>price</th>\n",
       "    </tr>\n",
       "  </thead>\n",
       "  <tbody>\n",
       "  </tbody>\n",
       "</table>\n",
       "</div>"
      ],
      "text/plain": [
       "Empty DataFrame\n",
       "Columns: [price]\n",
       "Index: []"
      ]
     },
     "execution_count": 70,
     "metadata": {},
     "output_type": "execute_result"
    }
   ],
   "source": [
    "#we need to add a column for prices\n",
    "# Add these to the data frame"
   ]
  },
  {
   "cell_type": "code",
   "execution_count": 76,
   "id": "55579bf0-6855-47a5-84c9-4beb47e90e8e",
   "metadata": {},
   "outputs": [],
   "source": [
    " result = soup.find_all('p', class_ = 'price_color')"
   ]
  },
  {
   "cell_type": "code",
   "execution_count": 82,
   "id": "a7a3470c-e6b0-4132-823f-f3333db906f4",
   "metadata": {},
   "outputs": [
    {
     "data": {
      "text/plain": [
       "51.77"
      ]
     },
     "execution_count": 82,
     "metadata": {},
     "output_type": "execute_result"
    }
   ],
   "source": [
    "float(result [0].text.replace('Â','').replace ('£',''))"
   ]
  },
  {
   "cell_type": "code",
   "execution_count": 83,
   "id": "566aded1-c839-4354-b6a0-0370609a14ec",
   "metadata": {},
   "outputs": [
    {
     "data": {
      "text/html": [
       "<div>\n",
       "<style scoped>\n",
       "    .dataframe tbody tr th:only-of-type {\n",
       "        vertical-align: middle;\n",
       "    }\n",
       "\n",
       "    .dataframe tbody tr th {\n",
       "        vertical-align: top;\n",
       "    }\n",
       "\n",
       "    .dataframe thead th {\n",
       "        text-align: right;\n",
       "    }\n",
       "</style>\n",
       "<table border=\"1\" class=\"dataframe\">\n",
       "  <thead>\n",
       "    <tr style=\"text-align: right;\">\n",
       "      <th></th>\n",
       "      <th>price</th>\n",
       "    </tr>\n",
       "  </thead>\n",
       "  <tbody>\n",
       "    <tr>\n",
       "      <th>0</th>\n",
       "      <td>51.77</td>\n",
       "    </tr>\n",
       "    <tr>\n",
       "      <th>1</th>\n",
       "      <td>53.74</td>\n",
       "    </tr>\n",
       "    <tr>\n",
       "      <th>2</th>\n",
       "      <td>50.10</td>\n",
       "    </tr>\n",
       "    <tr>\n",
       "      <th>3</th>\n",
       "      <td>47.82</td>\n",
       "    </tr>\n",
       "    <tr>\n",
       "      <th>4</th>\n",
       "      <td>54.23</td>\n",
       "    </tr>\n",
       "    <tr>\n",
       "      <th>5</th>\n",
       "      <td>22.65</td>\n",
       "    </tr>\n",
       "    <tr>\n",
       "      <th>6</th>\n",
       "      <td>33.34</td>\n",
       "    </tr>\n",
       "    <tr>\n",
       "      <th>7</th>\n",
       "      <td>17.93</td>\n",
       "    </tr>\n",
       "    <tr>\n",
       "      <th>8</th>\n",
       "      <td>22.60</td>\n",
       "    </tr>\n",
       "    <tr>\n",
       "      <th>9</th>\n",
       "      <td>52.15</td>\n",
       "    </tr>\n",
       "    <tr>\n",
       "      <th>10</th>\n",
       "      <td>13.99</td>\n",
       "    </tr>\n",
       "    <tr>\n",
       "      <th>11</th>\n",
       "      <td>20.66</td>\n",
       "    </tr>\n",
       "    <tr>\n",
       "      <th>12</th>\n",
       "      <td>17.46</td>\n",
       "    </tr>\n",
       "    <tr>\n",
       "      <th>13</th>\n",
       "      <td>52.29</td>\n",
       "    </tr>\n",
       "    <tr>\n",
       "      <th>14</th>\n",
       "      <td>35.02</td>\n",
       "    </tr>\n",
       "    <tr>\n",
       "      <th>15</th>\n",
       "      <td>57.25</td>\n",
       "    </tr>\n",
       "    <tr>\n",
       "      <th>16</th>\n",
       "      <td>23.88</td>\n",
       "    </tr>\n",
       "    <tr>\n",
       "      <th>17</th>\n",
       "      <td>37.59</td>\n",
       "    </tr>\n",
       "    <tr>\n",
       "      <th>18</th>\n",
       "      <td>51.33</td>\n",
       "    </tr>\n",
       "    <tr>\n",
       "      <th>19</th>\n",
       "      <td>45.17</td>\n",
       "    </tr>\n",
       "  </tbody>\n",
       "</table>\n",
       "</div>"
      ],
      "text/plain": [
       "    price\n",
       "0   51.77\n",
       "1   53.74\n",
       "2   50.10\n",
       "3   47.82\n",
       "4   54.23\n",
       "5   22.65\n",
       "6   33.34\n",
       "7   17.93\n",
       "8   22.60\n",
       "9   52.15\n",
       "10  13.99\n",
       "11  20.66\n",
       "12  17.46\n",
       "13  52.29\n",
       "14  35.02\n",
       "15  57.25\n",
       "16  23.88\n",
       "17  37.59\n",
       "18  51.33\n",
       "19  45.17"
      ]
     },
     "execution_count": 83,
     "metadata": {},
     "output_type": "execute_result"
    }
   ],
   "source": [
    "DF=pd.DataFrame()\n",
    "DF['price'] = result\n",
    "DF['price'] = DF['price'].apply(lambda x: float(x.text.replace('Â','').replace ('£','')))\n",
    "DF"
   ]
  },
  {
   "cell_type": "code",
   "execution_count": null,
   "id": "6e1beb02-cd56-4055-a191-a895c56a5055",
   "metadata": {},
   "outputs": [],
   "source": []
  }
 ],
 "metadata": {
  "kernelspec": {
   "display_name": "Python [conda env:base] *",
   "language": "python",
   "name": "conda-base-py"
  },
  "language_info": {
   "codemirror_mode": {
    "name": "ipython",
    "version": 3
   },
   "file_extension": ".py",
   "mimetype": "text/x-python",
   "name": "python",
   "nbconvert_exporter": "python",
   "pygments_lexer": "ipython3",
   "version": "3.13.5"
  }
 },
 "nbformat": 4,
 "nbformat_minor": 5
}
