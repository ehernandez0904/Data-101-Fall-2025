{
 "cells": [
  {
   "cell_type": "markdown",
   "id": "64d0f59c-8588-4f78-8bd5-078627729d92",
   "metadata": {},
   "source": [
    "## Introduction to Data Science\n",
    "\n",
    "#### University of Redlands - DATA 101\n",
    "#### Prof: Joanna Bieri [joanna_bieri@redlands.edu](mailto:joanna_bieri@redlands.edu)\n",
    "#### [Class Website: data101.joannabieri.com](https://joannabieri.com/data101.html)\n",
    "\n",
    "---------------------------------------\n",
    "# Homework Day 3\n",
    "---------------------------------------\n",
    "\n",
    "GOALS:\n",
    "\n",
    "1. Answer all the questions from the lecture.\n",
    "2. Practice making graphs with data.\n",
    "\n",
    "----------------------------------------------------------\n",
    "\n",
    "For this homework you will load the Star Wars data and practice making different kinds of plots!\n",
    "\n",
    "This homework has **8 questions** from the lecture and **2 Problems**"
   ]
  },
  {
   "cell_type": "code",
   "execution_count": 4,
   "id": "85d851b3-4123-484c-a51a-561490abcc68",
   "metadata": {},
   "outputs": [],
   "source": [
    "\n",
    "import numpy as np\n",
    "import pandas as pd\n",
    "\n",
    "import matplotlib.pyplot as plt\n",
    "import plotly.express as px\n",
    "from plotly.subplots import make_subplots\n",
    "import plotly.io as pio\n",
    "pio.renderers.default='colab'\n",
    "\n",
    "from itables import show\n",
    "from itables import show"
   ]
  },
  {
   "cell_type": "code",
   "execution_count": 5,
   "id": "0d9997ae-4d12-48cc-8229-9ec76d59e9a5",
   "metadata": {},
   "outputs": [],
   "source": [
    "file_location = 'https://joannabieri.com/introdatascience/data/starwars.csv'\n",
    "DF = pd.read_csv(file_location)"
   ]
  },
  {
   "cell_type": "code",
   "execution_count": 9,
   "id": "5bd623a5-72ac-4f8b-96e3-1518e1e1f46c",
   "metadata": {},
   "outputs": [
    {
     "data": {
      "text/html": [
       "<!--| quarto-html-table-processing: none -->\n",
       "<table id=\"itables_b18cf36d_cc98_4468_aabd_e27a64e18c79\"><tbody><tr>\n",
       "    <td style=\"vertical-align:middle; text-align:left\">\n",
       "    <a href=https://mwouts.github.io/itables/><svg class=\"main-svg\" xmlns=\"http://www.w3.org/2000/svg\" xmlns:xlink=\"http://www.w3.org/1999/xlink\"\n",
       "width=\"64\" viewBox=\"0 0 500 400\" style=\"font-family: 'Droid Sans', sans-serif;\">\n",
       "    <g style=\"fill:#d9d7fc\">\n",
       "        <path d=\"M100,400H500V357H100Z\" />\n",
       "        <path d=\"M100,300H400V257H100Z\" />\n",
       "        <path d=\"M0,200H400V157H0Z\" />\n",
       "        <path d=\"M100,100H500V57H100Z\" />\n",
       "        <path d=\"M100,350H500V307H100Z\" />\n",
       "        <path d=\"M100,250H400V207H100Z\" />\n",
       "        <path d=\"M0,150H400V107H0Z\" />\n",
       "        <path d=\"M100,50H500V7H100Z\" />\n",
       "    </g>\n",
       "    <g style=\"fill:#1a1366;stroke:#1a1366;\">\n",
       "   <rect x=\"100\" y=\"7\" width=\"400\" height=\"43\">\n",
       "    <animate\n",
       "      attributeName=\"width\"\n",
       "      values=\"0;400;0\"\n",
       "      dur=\"5s\"\n",
       "      repeatCount=\"indefinite\" />\n",
       "      <animate\n",
       "      attributeName=\"x\"\n",
       "      values=\"100;100;500\"\n",
       "      dur=\"5s\"\n",
       "      repeatCount=\"indefinite\" />\n",
       "  </rect>\n",
       "        <rect x=\"0\" y=\"107\" width=\"400\" height=\"43\">\n",
       "    <animate\n",
       "      attributeName=\"width\"\n",
       "      values=\"0;400;0\"\n",
       "      dur=\"3.5s\"\n",
       "      repeatCount=\"indefinite\" />\n",
       "    <animate\n",
       "      attributeName=\"x\"\n",
       "      values=\"0;0;400\"\n",
       "      dur=\"3.5s\"\n",
       "      repeatCount=\"indefinite\" />\n",
       "  </rect>\n",
       "        <rect x=\"100\" y=\"207\" width=\"300\" height=\"43\">\n",
       "    <animate\n",
       "      attributeName=\"width\"\n",
       "      values=\"0;300;0\"\n",
       "      dur=\"3s\"\n",
       "      repeatCount=\"indefinite\" />\n",
       "    <animate\n",
       "      attributeName=\"x\"\n",
       "      values=\"100;100;400\"\n",
       "      dur=\"3s\"\n",
       "      repeatCount=\"indefinite\" />\n",
       "  </rect>\n",
       "        <rect x=\"100\" y=\"307\" width=\"400\" height=\"43\">\n",
       "    <animate\n",
       "      attributeName=\"width\"\n",
       "      values=\"0;400;0\"\n",
       "      dur=\"4s\"\n",
       "      repeatCount=\"indefinite\" />\n",
       "      <animate\n",
       "      attributeName=\"x\"\n",
       "      values=\"100;100;500\"\n",
       "      dur=\"4s\"\n",
       "      repeatCount=\"indefinite\" />\n",
       "  </rect>\n",
       "        <g style=\"fill:transparent;stroke-width:8; stroke-linejoin:round\" rx=\"5\">\n",
       "            <g transform=\"translate(45 50) rotate(-45)\">\n",
       "                <circle r=\"33\" cx=\"0\" cy=\"0\" />\n",
       "                <rect x=\"-8\" y=\"32\" width=\"16\" height=\"30\" />\n",
       "            </g>\n",
       "\n",
       "            <g transform=\"translate(450 152)\">\n",
       "                <polyline points=\"-15,-20 -35,-20 -35,40 25,40 25,20\" />\n",
       "                <rect x=\"-15\" y=\"-40\" width=\"60\" height=\"60\" />\n",
       "            </g>\n",
       "\n",
       "            <g transform=\"translate(50 352)\">\n",
       "                <polygon points=\"-35,-5 0,-40 35,-5\" />\n",
       "                <polygon points=\"-35,10 0,45 35,10\" />\n",
       "            </g>\n",
       "\n",
       "            <g transform=\"translate(75 250)\">\n",
       "                <polyline points=\"-30,30 -60,0 -30,-30\" />\n",
       "                <polyline points=\"0,30 -30,0 0,-30\" />\n",
       "            </g>\n",
       "\n",
       "            <g transform=\"translate(425 250) rotate(180)\">\n",
       "                <polyline points=\"-30,30 -60,0 -30,-30\" />\n",
       "                <polyline points=\"0,30 -30,0 0,-30\" />\n",
       "            </g>\n",
       "        </g>\n",
       "    </g>\n",
       "</svg>\n",
       "</a>\n",
       "    Loading ITables v2.5.2 from the internet...\n",
       "    (need <a href=https://mwouts.github.io/itables/troubleshooting.html>help</a>?)</td>\n",
       "    </tr></tbody></table>\n",
       "<link href=\"https://www.unpkg.com/dt_for_itables@2.4.0/dt_bundle.css\" rel=\"stylesheet\">\n",
       "<script type=\"module\">\n",
       "    import { ITable, jQuery as $ } from 'https://www.unpkg.com/dt_for_itables@2.4.0/dt_bundle.js';\n",
       "\n",
       "    document.querySelectorAll(\"#itables_b18cf36d_cc98_4468_aabd_e27a64e18c79:not(.dataTable)\").forEach(table => {\n",
       "        if (!(table instanceof HTMLTableElement))\n",
       "            return;\n",
       "\n",
       "        let dt_args = {\"layout\": {\"topStart\": \"pageLength\", \"topEnd\": \"search\", \"bottomStart\": \"info\", \"bottomEnd\": \"paging\"}, \"order\": [], \"style\": {\"table-layout\": \"auto\", \"width\": \"auto\", \"margin\": \"auto\", \"caption-side\": \"bottom\"}, \"text_in_header_can_be_selected\": true, \"classes\": [\"display\", \"nowrap\"], \"table_html\": \"<table><thead>\\n    <tr style=\\\"text-align: right;\\\">\\n      \\n      <th>name</th>\\n      <th>height</th>\\n      <th>mass</th>\\n      <th>hair_color</th>\\n      <th>skin_color</th>\\n      <th>eye_color</th>\\n      <th>birth_year</th>\\n      <th>sex</th>\\n      <th>gender</th>\\n      <th>homeworld</th>\\n      <th>species</th>\\n      <th>films</th>\\n      <th>vehicles</th>\\n      <th>starships</th>\\n    </tr>\\n  </thead></table>\", \"data_json\": \"[[\\\"Luke Skywalker\\\", 172.0, 77.0, \\\"blond\\\", \\\"fair\\\", \\\"blue\\\", 19.0, \\\"male\\\", \\\"masculine\\\", \\\"Tatooine\\\", \\\"Human\\\", \\\"A New Hope, The Empire Strikes Back, Return of the Jedi, Revenge of the Sith, The Force Awakens\\\", \\\"Snowspeeder, Imperial Speeder Bike\\\", \\\"X-wing, Imperial shuttle\\\"], [\\\"C-3PO\\\", 167.0, 75.0, \\\"NaN\\\", \\\"gold\\\", \\\"yellow\\\", 112.0, \\\"none\\\", \\\"masculine\\\", \\\"Tatooine\\\", \\\"Droid\\\", \\\"A New Hope, The Empire Strikes Back, Return of the Jedi, The Phantom Menace, Attack of the Clones, Revenge of the Sith\\\", \\\"NaN\\\", \\\"NaN\\\"], [\\\"R2-D2\\\", 96.0, 32.0, \\\"NaN\\\", \\\"white, blue\\\", \\\"red\\\", 33.0, \\\"none\\\", \\\"masculine\\\", \\\"Naboo\\\", \\\"Droid\\\", \\\"A New Hope, The Empire Strikes Back, Return of the Jedi, The Phantom Menace, Attack of the Clones, Revenge of the Sith, The Force Awakens\\\", \\\"NaN\\\", \\\"NaN\\\"], [\\\"Darth Vader\\\", 202.0, 136.0, \\\"none\\\", \\\"white\\\", \\\"yellow\\\", 41.9, \\\"male\\\", \\\"masculine\\\", \\\"Tatooine\\\", \\\"Human\\\", \\\"A New Hope, The Empire Strikes Back, Return of the Jedi, Revenge of the Sith\\\", \\\"NaN\\\", \\\"TIE Advanced x1\\\"], [\\\"Leia Organa\\\", 150.0, 49.0, \\\"brown\\\", \\\"light\\\", \\\"brown\\\", 19.0, \\\"female\\\", \\\"feminine\\\", \\\"Alderaan\\\", \\\"Human\\\", \\\"A New Hope, The Empire Strikes Back, Return of the Jedi, Revenge of the Sith, The Force Awakens\\\", \\\"Imperial Speeder Bike\\\", \\\"NaN\\\"], [\\\"Owen Lars\\\", 178.0, 120.0, \\\"brown, grey\\\", \\\"light\\\", \\\"blue\\\", 52.0, \\\"male\\\", \\\"masculine\\\", \\\"Tatooine\\\", \\\"Human\\\", \\\"A New Hope, Attack of the Clones, Revenge of the Sith\\\", \\\"NaN\\\", \\\"NaN\\\"], [\\\"Beru Whitesun Lars\\\", 165.0, 75.0, \\\"brown\\\", \\\"light\\\", \\\"blue\\\", 47.0, \\\"female\\\", \\\"feminine\\\", \\\"Tatooine\\\", \\\"Human\\\", \\\"A New Hope, Attack of the Clones, Revenge of the Sith\\\", \\\"NaN\\\", \\\"NaN\\\"], [\\\"R5-D4\\\", 97.0, 32.0, \\\"NaN\\\", \\\"white, red\\\", \\\"red\\\", \\\"___NaN___\\\", \\\"none\\\", \\\"masculine\\\", \\\"Tatooine\\\", \\\"Droid\\\", \\\"A New Hope\\\", \\\"NaN\\\", \\\"NaN\\\"], [\\\"Biggs Darklighter\\\", 183.0, 84.0, \\\"black\\\", \\\"light\\\", \\\"brown\\\", 24.0, \\\"male\\\", \\\"masculine\\\", \\\"Tatooine\\\", \\\"Human\\\", \\\"A New Hope\\\", \\\"NaN\\\", \\\"X-wing\\\"], [\\\"Obi-Wan Kenobi\\\", 182.0, 77.0, \\\"auburn, white\\\", \\\"fair\\\", \\\"blue-gray\\\", 57.0, \\\"male\\\", \\\"masculine\\\", \\\"Stewjon\\\", \\\"Human\\\", \\\"A New Hope, The Empire Strikes Back, Return of the Jedi, The Phantom Menace, Attack of the Clones, Revenge of the Sith\\\", \\\"Tribubble bongo\\\", \\\"Jedi starfighter, Trade Federation cruiser, Naboo star skiff, Jedi Interceptor, Belbullab-22 starfighter\\\"], [\\\"Anakin Skywalker\\\", 188.0, 84.0, \\\"blond\\\", \\\"fair\\\", \\\"blue\\\", 41.9, \\\"male\\\", \\\"masculine\\\", \\\"Tatooine\\\", \\\"Human\\\", \\\"The Phantom Menace, Attack of the Clones, Revenge of the Sith\\\", \\\"Zephyr-G swoop bike, XJ-6 airspeeder\\\", \\\"Naboo fighter, Trade Federation cruiser, Jedi Interceptor\\\"], [\\\"Wilhuff Tarkin\\\", 180.0, \\\"___NaN___\\\", \\\"auburn, grey\\\", \\\"fair\\\", \\\"blue\\\", 64.0, \\\"male\\\", \\\"masculine\\\", \\\"Eriadu\\\", \\\"Human\\\", \\\"A New Hope, Revenge of the Sith\\\", \\\"NaN\\\", \\\"NaN\\\"], [\\\"Chewbacca\\\", 228.0, 112.0, \\\"brown\\\", \\\"unknown\\\", \\\"blue\\\", 200.0, \\\"male\\\", \\\"masculine\\\", \\\"Kashyyyk\\\", \\\"Wookiee\\\", \\\"A New Hope, The Empire Strikes Back, Return of the Jedi, Revenge of the Sith, The Force Awakens\\\", \\\"AT-ST\\\", \\\"Millennium Falcon, Imperial shuttle\\\"], [\\\"Han Solo\\\", 180.0, 80.0, \\\"brown\\\", \\\"fair\\\", \\\"brown\\\", 29.0, \\\"male\\\", \\\"masculine\\\", \\\"Corellia\\\", \\\"Human\\\", \\\"A New Hope, The Empire Strikes Back, Return of the Jedi, The Force Awakens\\\", \\\"NaN\\\", \\\"Millennium Falcon, Imperial shuttle\\\"], [\\\"Greedo\\\", 173.0, 74.0, \\\"NaN\\\", \\\"green\\\", \\\"black\\\", 44.0, \\\"male\\\", \\\"masculine\\\", \\\"Rodia\\\", \\\"Rodian\\\", \\\"A New Hope\\\", \\\"NaN\\\", \\\"NaN\\\"], [\\\"Jabba Desilijic Tiure\\\", 175.0, 1358.0, \\\"NaN\\\", \\\"green-tan, brown\\\", \\\"orange\\\", 600.0, \\\"hermaphroditic\\\", \\\"masculine\\\", \\\"Nal Hutta\\\", \\\"Hutt\\\", \\\"A New Hope, Return of the Jedi, The Phantom Menace\\\", \\\"NaN\\\", \\\"NaN\\\"], [\\\"Wedge Antilles\\\", 170.0, 77.0, \\\"brown\\\", \\\"fair\\\", \\\"hazel\\\", 21.0, \\\"male\\\", \\\"masculine\\\", \\\"Corellia\\\", \\\"Human\\\", \\\"A New Hope, The Empire Strikes Back, Return of the Jedi\\\", \\\"Snowspeeder\\\", \\\"X-wing\\\"], [\\\"Jek Tono Porkins\\\", 180.0, 110.0, \\\"brown\\\", \\\"fair\\\", \\\"blue\\\", \\\"___NaN___\\\", \\\"NaN\\\", \\\"NaN\\\", \\\"Bestine IV\\\", \\\"NaN\\\", \\\"A New Hope\\\", \\\"NaN\\\", \\\"X-wing\\\"], [\\\"Yoda\\\", 66.0, 17.0, \\\"white\\\", \\\"green\\\", \\\"brown\\\", 896.0, \\\"male\\\", \\\"masculine\\\", \\\"NaN\\\", \\\"Yoda's species\\\", \\\"The Empire Strikes Back, Return of the Jedi, The Phantom Menace, Attack of the Clones, Revenge of the Sith\\\", \\\"NaN\\\", \\\"NaN\\\"], [\\\"Palpatine\\\", 170.0, 75.0, \\\"grey\\\", \\\"pale\\\", \\\"yellow\\\", 82.0, \\\"male\\\", \\\"masculine\\\", \\\"Naboo\\\", \\\"Human\\\", \\\"The Empire Strikes Back, Return of the Jedi, The Phantom Menace, Attack of the Clones, Revenge of the Sith\\\", \\\"NaN\\\", \\\"NaN\\\"], [\\\"Boba Fett\\\", 183.0, 78.2, \\\"black\\\", \\\"fair\\\", \\\"brown\\\", 31.5, \\\"male\\\", \\\"masculine\\\", \\\"Kamino\\\", \\\"Human\\\", \\\"The Empire Strikes Back, Return of the Jedi, Attack of the Clones\\\", \\\"NaN\\\", \\\"Slave 1\\\"], [\\\"IG-88\\\", 200.0, 140.0, \\\"none\\\", \\\"metal\\\", \\\"red\\\", 15.0, \\\"none\\\", \\\"masculine\\\", \\\"NaN\\\", \\\"Droid\\\", \\\"The Empire Strikes Back\\\", \\\"NaN\\\", \\\"NaN\\\"], [\\\"Bossk\\\", 190.0, 113.0, \\\"none\\\", \\\"green\\\", \\\"red\\\", 53.0, \\\"male\\\", \\\"masculine\\\", \\\"Trandosha\\\", \\\"Trandoshan\\\", \\\"The Empire Strikes Back\\\", \\\"NaN\\\", \\\"NaN\\\"], [\\\"Lando Calrissian\\\", 177.0, 79.0, \\\"black\\\", \\\"dark\\\", \\\"brown\\\", 31.0, \\\"male\\\", \\\"masculine\\\", \\\"Socorro\\\", \\\"Human\\\", \\\"The Empire Strikes Back, Return of the Jedi\\\", \\\"NaN\\\", \\\"Millennium Falcon\\\"], [\\\"Lobot\\\", 175.0, 79.0, \\\"none\\\", \\\"light\\\", \\\"blue\\\", 37.0, \\\"male\\\", \\\"masculine\\\", \\\"Bespin\\\", \\\"Human\\\", \\\"The Empire Strikes Back\\\", \\\"NaN\\\", \\\"NaN\\\"], [\\\"Ackbar\\\", 180.0, 83.0, \\\"none\\\", \\\"brown mottle\\\", \\\"orange\\\", 41.0, \\\"male\\\", \\\"masculine\\\", \\\"Mon Cala\\\", \\\"Mon Calamari\\\", \\\"Return of the Jedi, The Force Awakens\\\", \\\"NaN\\\", \\\"NaN\\\"], [\\\"Mon Mothma\\\", 150.0, \\\"___NaN___\\\", \\\"auburn\\\", \\\"fair\\\", \\\"blue\\\", 48.0, \\\"female\\\", \\\"feminine\\\", \\\"Chandrila\\\", \\\"Human\\\", \\\"Return of the Jedi\\\", \\\"NaN\\\", \\\"NaN\\\"], [\\\"Arvel Crynyd\\\", \\\"___NaN___\\\", \\\"___NaN___\\\", \\\"brown\\\", \\\"fair\\\", \\\"brown\\\", \\\"___NaN___\\\", \\\"male\\\", \\\"masculine\\\", \\\"NaN\\\", \\\"Human\\\", \\\"Return of the Jedi\\\", \\\"NaN\\\", \\\"A-wing\\\"], [\\\"Wicket Systri Warrick\\\", 88.0, 20.0, \\\"brown\\\", \\\"brown\\\", \\\"brown\\\", 8.0, \\\"male\\\", \\\"masculine\\\", \\\"Endor\\\", \\\"Ewok\\\", \\\"Return of the Jedi\\\", \\\"NaN\\\", \\\"NaN\\\"], [\\\"Nien Nunb\\\", 160.0, 68.0, \\\"none\\\", \\\"grey\\\", \\\"black\\\", \\\"___NaN___\\\", \\\"male\\\", \\\"masculine\\\", \\\"Sullust\\\", \\\"Sullustan\\\", \\\"Return of the Jedi\\\", \\\"NaN\\\", \\\"Millennium Falcon\\\"], [\\\"Qui-Gon Jinn\\\", 193.0, 89.0, \\\"brown\\\", \\\"fair\\\", \\\"blue\\\", 92.0, \\\"male\\\", \\\"masculine\\\", \\\"NaN\\\", \\\"Human\\\", \\\"The Phantom Menace\\\", \\\"Tribubble bongo\\\", \\\"NaN\\\"], [\\\"Nute Gunray\\\", 191.0, 90.0, \\\"none\\\", \\\"mottled green\\\", \\\"red\\\", \\\"___NaN___\\\", \\\"male\\\", \\\"masculine\\\", \\\"Cato Neimoidia\\\", \\\"Neimodian\\\", \\\"The Phantom Menace, Attack of the Clones, Revenge of the Sith\\\", \\\"NaN\\\", \\\"NaN\\\"], [\\\"Finis Valorum\\\", 170.0, \\\"___NaN___\\\", \\\"blond\\\", \\\"fair\\\", \\\"blue\\\", 91.0, \\\"male\\\", \\\"masculine\\\", \\\"Coruscant\\\", \\\"Human\\\", \\\"The Phantom Menace\\\", \\\"NaN\\\", \\\"NaN\\\"], [\\\"Padm\\\\u00e9 Amidala\\\", 185.0, 45.0, \\\"brown\\\", \\\"light\\\", \\\"brown\\\", 46.0, \\\"female\\\", \\\"feminine\\\", \\\"Naboo\\\", \\\"Human\\\", \\\"The Phantom Menace, Attack of the Clones, Revenge of the Sith\\\", \\\"NaN\\\", \\\"Naboo fighter, H-type Nubian yacht, Naboo star skiff\\\"], [\\\"Jar Jar Binks\\\", 196.0, 66.0, \\\"none\\\", \\\"orange\\\", \\\"orange\\\", 52.0, \\\"male\\\", \\\"masculine\\\", \\\"Naboo\\\", \\\"Gungan\\\", \\\"The Phantom Menace, Attack of the Clones\\\", \\\"NaN\\\", \\\"NaN\\\"], [\\\"Roos Tarpals\\\", 224.0, 82.0, \\\"none\\\", \\\"grey\\\", \\\"orange\\\", \\\"___NaN___\\\", \\\"male\\\", \\\"masculine\\\", \\\"Naboo\\\", \\\"Gungan\\\", \\\"The Phantom Menace\\\", \\\"NaN\\\", \\\"NaN\\\"], [\\\"Rugor Nass\\\", 206.0, \\\"___NaN___\\\", \\\"none\\\", \\\"green\\\", \\\"orange\\\", \\\"___NaN___\\\", \\\"male\\\", \\\"masculine\\\", \\\"Naboo\\\", \\\"Gungan\\\", \\\"The Phantom Menace\\\", \\\"NaN\\\", \\\"NaN\\\"], [\\\"Ric Oli\\\\u00e9\\\", 183.0, \\\"___NaN___\\\", \\\"brown\\\", \\\"fair\\\", \\\"blue\\\", \\\"___NaN___\\\", \\\"male\\\", \\\"masculine\\\", \\\"Naboo\\\", \\\"Human\\\", \\\"The Phantom Menace\\\", \\\"NaN\\\", \\\"Naboo Royal Starship\\\"], [\\\"Watto\\\", 137.0, \\\"___NaN___\\\", \\\"black\\\", \\\"blue, grey\\\", \\\"yellow\\\", \\\"___NaN___\\\", \\\"male\\\", \\\"masculine\\\", \\\"Toydaria\\\", \\\"Toydarian\\\", \\\"The Phantom Menace, Attack of the Clones\\\", \\\"NaN\\\", \\\"NaN\\\"], [\\\"Sebulba\\\", 112.0, 40.0, \\\"none\\\", \\\"grey, red\\\", \\\"orange\\\", \\\"___NaN___\\\", \\\"male\\\", \\\"masculine\\\", \\\"Malastare\\\", \\\"Dug\\\", \\\"The Phantom Menace\\\", \\\"NaN\\\", \\\"NaN\\\"], [\\\"Quarsh Panaka\\\", 183.0, \\\"___NaN___\\\", \\\"black\\\", \\\"dark\\\", \\\"brown\\\", 62.0, \\\"male\\\", \\\"masculine\\\", \\\"Naboo\\\", \\\"Human\\\", \\\"The Phantom Menace\\\", \\\"NaN\\\", \\\"NaN\\\"], [\\\"Shmi Skywalker\\\", 163.0, \\\"___NaN___\\\", \\\"black\\\", \\\"fair\\\", \\\"brown\\\", 72.0, \\\"female\\\", \\\"feminine\\\", \\\"Tatooine\\\", \\\"Human\\\", \\\"The Phantom Menace, Attack of the Clones\\\", \\\"NaN\\\", \\\"NaN\\\"], [\\\"Darth Maul\\\", 175.0, 80.0, \\\"none\\\", \\\"red\\\", \\\"yellow\\\", 54.0, \\\"male\\\", \\\"masculine\\\", \\\"Dathomir\\\", \\\"Zabrak\\\", \\\"The Phantom Menace\\\", \\\"Sith speeder\\\", \\\"Scimitar\\\"], [\\\"Bib Fortuna\\\", 180.0, \\\"___NaN___\\\", \\\"none\\\", \\\"pale\\\", \\\"pink\\\", \\\"___NaN___\\\", \\\"male\\\", \\\"masculine\\\", \\\"Ryloth\\\", \\\"Twi'lek\\\", \\\"Return of the Jedi\\\", \\\"NaN\\\", \\\"NaN\\\"], [\\\"Ayla Secura\\\", 178.0, 55.0, \\\"none\\\", \\\"blue\\\", \\\"hazel\\\", 48.0, \\\"female\\\", \\\"feminine\\\", \\\"Ryloth\\\", \\\"Twi'lek\\\", \\\"The Phantom Menace, Attack of the Clones, Revenge of the Sith\\\", \\\"NaN\\\", \\\"NaN\\\"], [\\\"Ratts Tyerel\\\", 79.0, 15.0, \\\"none\\\", \\\"grey, blue\\\", \\\"unknown\\\", \\\"___NaN___\\\", \\\"male\\\", \\\"masculine\\\", \\\"Aleen Minor\\\", \\\"Aleena\\\", \\\"The Phantom Menace\\\", \\\"NaN\\\", \\\"NaN\\\"], [\\\"Dud Bolt\\\", 94.0, 45.0, \\\"none\\\", \\\"blue, grey\\\", \\\"yellow\\\", \\\"___NaN___\\\", \\\"male\\\", \\\"masculine\\\", \\\"Vulpter\\\", \\\"Vulptereen\\\", \\\"The Phantom Menace\\\", \\\"NaN\\\", \\\"NaN\\\"], [\\\"Gasgano\\\", 122.0, \\\"___NaN___\\\", \\\"none\\\", \\\"white, blue\\\", \\\"black\\\", \\\"___NaN___\\\", \\\"male\\\", \\\"masculine\\\", \\\"Troiken\\\", \\\"Xexto\\\", \\\"The Phantom Menace\\\", \\\"NaN\\\", \\\"NaN\\\"], [\\\"Ben Quadinaros\\\", 163.0, 65.0, \\\"none\\\", \\\"grey, green, yellow\\\", \\\"orange\\\", \\\"___NaN___\\\", \\\"male\\\", \\\"masculine\\\", \\\"Tund\\\", \\\"Toong\\\", \\\"The Phantom Menace\\\", \\\"NaN\\\", \\\"NaN\\\"], [\\\"Mace Windu\\\", 188.0, 84.0, \\\"none\\\", \\\"dark\\\", \\\"brown\\\", 72.0, \\\"male\\\", \\\"masculine\\\", \\\"Haruun Kal\\\", \\\"Human\\\", \\\"The Phantom Menace, Attack of the Clones, Revenge of the Sith\\\", \\\"NaN\\\", \\\"NaN\\\"], [\\\"Ki-Adi-Mundi\\\", 198.0, 82.0, \\\"white\\\", \\\"pale\\\", \\\"yellow\\\", 92.0, \\\"male\\\", \\\"masculine\\\", \\\"Cerea\\\", \\\"Cerean\\\", \\\"The Phantom Menace, Attack of the Clones, Revenge of the Sith\\\", \\\"NaN\\\", \\\"NaN\\\"], [\\\"Kit Fisto\\\", 196.0, 87.0, \\\"none\\\", \\\"green\\\", \\\"black\\\", \\\"___NaN___\\\", \\\"male\\\", \\\"masculine\\\", \\\"Glee Anselm\\\", \\\"Nautolan\\\", \\\"The Phantom Menace, Attack of the Clones, Revenge of the Sith\\\", \\\"NaN\\\", \\\"NaN\\\"], [\\\"Eeth Koth\\\", 171.0, \\\"___NaN___\\\", \\\"black\\\", \\\"brown\\\", \\\"brown\\\", \\\"___NaN___\\\", \\\"male\\\", \\\"masculine\\\", \\\"Iridonia\\\", \\\"Zabrak\\\", \\\"The Phantom Menace, Revenge of the Sith\\\", \\\"NaN\\\", \\\"NaN\\\"], [\\\"Adi Gallia\\\", 184.0, 50.0, \\\"none\\\", \\\"dark\\\", \\\"blue\\\", \\\"___NaN___\\\", \\\"female\\\", \\\"feminine\\\", \\\"Coruscant\\\", \\\"Tholothian\\\", \\\"The Phantom Menace, Revenge of the Sith\\\", \\\"NaN\\\", \\\"NaN\\\"], [\\\"Saesee Tiin\\\", 188.0, \\\"___NaN___\\\", \\\"none\\\", \\\"pale\\\", \\\"orange\\\", \\\"___NaN___\\\", \\\"male\\\", \\\"masculine\\\", \\\"Iktotch\\\", \\\"Iktotchi\\\", \\\"The Phantom Menace, Revenge of the Sith\\\", \\\"NaN\\\", \\\"NaN\\\"], [\\\"Yarael Poof\\\", 264.0, \\\"___NaN___\\\", \\\"none\\\", \\\"white\\\", \\\"yellow\\\", \\\"___NaN___\\\", \\\"male\\\", \\\"masculine\\\", \\\"Quermia\\\", \\\"Quermian\\\", \\\"The Phantom Menace\\\", \\\"NaN\\\", \\\"NaN\\\"], [\\\"Plo Koon\\\", 188.0, 80.0, \\\"none\\\", \\\"orange\\\", \\\"black\\\", 22.0, \\\"male\\\", \\\"masculine\\\", \\\"Dorin\\\", \\\"Kel Dor\\\", \\\"The Phantom Menace, Attack of the Clones, Revenge of the Sith\\\", \\\"NaN\\\", \\\"Jedi starfighter\\\"], [\\\"Mas Amedda\\\", 196.0, \\\"___NaN___\\\", \\\"none\\\", \\\"blue\\\", \\\"blue\\\", \\\"___NaN___\\\", \\\"male\\\", \\\"masculine\\\", \\\"Champala\\\", \\\"Chagrian\\\", \\\"The Phantom Menace, Attack of the Clones\\\", \\\"NaN\\\", \\\"NaN\\\"], [\\\"Gregar Typho\\\", 185.0, 85.0, \\\"black\\\", \\\"dark\\\", \\\"brown\\\", \\\"___NaN___\\\", \\\"NaN\\\", \\\"NaN\\\", \\\"Naboo\\\", \\\"NaN\\\", \\\"Attack of the Clones\\\", \\\"NaN\\\", \\\"Naboo fighter\\\"], [\\\"Cord\\\\u00e9\\\", 157.0, \\\"___NaN___\\\", \\\"brown\\\", \\\"light\\\", \\\"brown\\\", \\\"___NaN___\\\", \\\"NaN\\\", \\\"NaN\\\", \\\"Naboo\\\", \\\"NaN\\\", \\\"Attack of the Clones\\\", \\\"NaN\\\", \\\"NaN\\\"], [\\\"Cliegg Lars\\\", 183.0, \\\"___NaN___\\\", \\\"brown\\\", \\\"fair\\\", \\\"blue\\\", 82.0, \\\"male\\\", \\\"masculine\\\", \\\"Tatooine\\\", \\\"Human\\\", \\\"Attack of the Clones\\\", \\\"NaN\\\", \\\"NaN\\\"], [\\\"Poggle the Lesser\\\", 183.0, 80.0, \\\"none\\\", \\\"green\\\", \\\"yellow\\\", \\\"___NaN___\\\", \\\"male\\\", \\\"masculine\\\", \\\"Geonosis\\\", \\\"Geonosian\\\", \\\"Attack of the Clones, Revenge of the Sith\\\", \\\"NaN\\\", \\\"NaN\\\"], [\\\"Luminara Unduli\\\", 170.0, 56.2, \\\"black\\\", \\\"yellow\\\", \\\"blue\\\", 58.0, \\\"female\\\", \\\"feminine\\\", \\\"Mirial\\\", \\\"Mirialan\\\", \\\"Attack of the Clones, Revenge of the Sith\\\", \\\"NaN\\\", \\\"NaN\\\"], [\\\"Barriss Offee\\\", 166.0, 50.0, \\\"black\\\", \\\"yellow\\\", \\\"blue\\\", 40.0, \\\"female\\\", \\\"feminine\\\", \\\"Mirial\\\", \\\"Mirialan\\\", \\\"Attack of the Clones\\\", \\\"NaN\\\", \\\"NaN\\\"], [\\\"Dorm\\\\u00e9\\\", 165.0, \\\"___NaN___\\\", \\\"brown\\\", \\\"light\\\", \\\"brown\\\", \\\"___NaN___\\\", \\\"female\\\", \\\"feminine\\\", \\\"Naboo\\\", \\\"Human\\\", \\\"Attack of the Clones\\\", \\\"NaN\\\", \\\"NaN\\\"], [\\\"Dooku\\\", 193.0, 80.0, \\\"white\\\", \\\"fair\\\", \\\"brown\\\", 102.0, \\\"male\\\", \\\"masculine\\\", \\\"Serenno\\\", \\\"Human\\\", \\\"Attack of the Clones, Revenge of the Sith\\\", \\\"Flitknot speeder\\\", \\\"NaN\\\"], [\\\"Bail Prestor Organa\\\", 191.0, \\\"___NaN___\\\", \\\"black\\\", \\\"tan\\\", \\\"brown\\\", 67.0, \\\"male\\\", \\\"masculine\\\", \\\"Alderaan\\\", \\\"Human\\\", \\\"Attack of the Clones, Revenge of the Sith\\\", \\\"NaN\\\", \\\"NaN\\\"], [\\\"Jango Fett\\\", 183.0, 79.0, \\\"black\\\", \\\"tan\\\", \\\"brown\\\", 66.0, \\\"male\\\", \\\"masculine\\\", \\\"Concord Dawn\\\", \\\"Human\\\", \\\"Attack of the Clones\\\", \\\"NaN\\\", \\\"NaN\\\"], [\\\"Zam Wesell\\\", 168.0, 55.0, \\\"blonde\\\", \\\"fair, green, yellow\\\", \\\"yellow\\\", \\\"___NaN___\\\", \\\"female\\\", \\\"feminine\\\", \\\"Zolan\\\", \\\"Clawdite\\\", \\\"Attack of the Clones\\\", \\\"Koro-2 Exodrive airspeeder\\\", \\\"NaN\\\"], [\\\"Dexter Jettster\\\", 198.0, 102.0, \\\"none\\\", \\\"brown\\\", \\\"yellow\\\", \\\"___NaN___\\\", \\\"male\\\", \\\"masculine\\\", \\\"Ojom\\\", \\\"Besalisk\\\", \\\"Attack of the Clones\\\", \\\"NaN\\\", \\\"NaN\\\"], [\\\"Lama Su\\\", 229.0, 88.0, \\\"none\\\", \\\"grey\\\", \\\"black\\\", \\\"___NaN___\\\", \\\"male\\\", \\\"masculine\\\", \\\"Kamino\\\", \\\"Kaminoan\\\", \\\"Attack of the Clones\\\", \\\"NaN\\\", \\\"NaN\\\"], [\\\"Taun We\\\", 213.0, \\\"___NaN___\\\", \\\"none\\\", \\\"grey\\\", \\\"black\\\", \\\"___NaN___\\\", \\\"female\\\", \\\"feminine\\\", \\\"Kamino\\\", \\\"Kaminoan\\\", \\\"Attack of the Clones\\\", \\\"NaN\\\", \\\"NaN\\\"], [\\\"Jocasta Nu\\\", 167.0, \\\"___NaN___\\\", \\\"white\\\", \\\"fair\\\", \\\"blue\\\", \\\"___NaN___\\\", \\\"female\\\", \\\"feminine\\\", \\\"Coruscant\\\", \\\"Human\\\", \\\"Attack of the Clones\\\", \\\"NaN\\\", \\\"NaN\\\"], [\\\"R4-P17\\\", 96.0, \\\"___NaN___\\\", \\\"none\\\", \\\"silver, red\\\", \\\"red, blue\\\", \\\"___NaN___\\\", \\\"none\\\", \\\"feminine\\\", \\\"NaN\\\", \\\"Droid\\\", \\\"Attack of the Clones, Revenge of the Sith\\\", \\\"NaN\\\", \\\"NaN\\\"], [\\\"Wat Tambor\\\", 193.0, 48.0, \\\"none\\\", \\\"green, grey\\\", \\\"unknown\\\", \\\"___NaN___\\\", \\\"male\\\", \\\"masculine\\\", \\\"Skako\\\", \\\"Skakoan\\\", \\\"Attack of the Clones\\\", \\\"NaN\\\", \\\"NaN\\\"], [\\\"San Hill\\\", 191.0, \\\"___NaN___\\\", \\\"none\\\", \\\"grey\\\", \\\"gold\\\", \\\"___NaN___\\\", \\\"male\\\", \\\"masculine\\\", \\\"Muunilinst\\\", \\\"Muun\\\", \\\"Attack of the Clones\\\", \\\"NaN\\\", \\\"NaN\\\"], [\\\"Shaak Ti\\\", 178.0, 57.0, \\\"none\\\", \\\"red, blue, white\\\", \\\"black\\\", \\\"___NaN___\\\", \\\"female\\\", \\\"feminine\\\", \\\"Shili\\\", \\\"Togruta\\\", \\\"Attack of the Clones, Revenge of the Sith\\\", \\\"NaN\\\", \\\"NaN\\\"], [\\\"Grievous\\\", 216.0, 159.0, \\\"none\\\", \\\"brown, white\\\", \\\"green, yellow\\\", \\\"___NaN___\\\", \\\"male\\\", \\\"masculine\\\", \\\"Kalee\\\", \\\"Kaleesh\\\", \\\"Revenge of the Sith\\\", \\\"Tsmeu-6 personal wheel bike\\\", \\\"Belbullab-22 starfighter\\\"], [\\\"Tarfful\\\", 234.0, 136.0, \\\"brown\\\", \\\"brown\\\", \\\"blue\\\", \\\"___NaN___\\\", \\\"male\\\", \\\"masculine\\\", \\\"Kashyyyk\\\", \\\"Wookiee\\\", \\\"Revenge of the Sith\\\", \\\"NaN\\\", \\\"NaN\\\"], [\\\"Raymus Antilles\\\", 188.0, 79.0, \\\"brown\\\", \\\"light\\\", \\\"brown\\\", \\\"___NaN___\\\", \\\"male\\\", \\\"masculine\\\", \\\"Alderaan\\\", \\\"Human\\\", \\\"A New Hope, Revenge of the Sith\\\", \\\"NaN\\\", \\\"NaN\\\"], [\\\"Sly Moore\\\", 178.0, 48.0, \\\"none\\\", \\\"pale\\\", \\\"white\\\", \\\"___NaN___\\\", \\\"NaN\\\", \\\"NaN\\\", \\\"Umbara\\\", \\\"NaN\\\", \\\"Attack of the Clones, Revenge of the Sith\\\", \\\"NaN\\\", \\\"NaN\\\"], [\\\"Tion Medon\\\", 206.0, 80.0, \\\"none\\\", \\\"grey\\\", \\\"black\\\", \\\"___NaN___\\\", \\\"male\\\", \\\"masculine\\\", \\\"Utapau\\\", \\\"Pau'an\\\", \\\"Revenge of the Sith\\\", \\\"NaN\\\", \\\"NaN\\\"], [\\\"Finn\\\", \\\"___NaN___\\\", \\\"___NaN___\\\", \\\"black\\\", \\\"dark\\\", \\\"dark\\\", \\\"___NaN___\\\", \\\"male\\\", \\\"masculine\\\", \\\"NaN\\\", \\\"Human\\\", \\\"The Force Awakens\\\", \\\"NaN\\\", \\\"NaN\\\"], [\\\"Rey\\\", \\\"___NaN___\\\", \\\"___NaN___\\\", \\\"brown\\\", \\\"light\\\", \\\"hazel\\\", \\\"___NaN___\\\", \\\"female\\\", \\\"feminine\\\", \\\"NaN\\\", \\\"Human\\\", \\\"The Force Awakens\\\", \\\"NaN\\\", \\\"NaN\\\"], [\\\"Poe Dameron\\\", \\\"___NaN___\\\", \\\"___NaN___\\\", \\\"brown\\\", \\\"light\\\", \\\"brown\\\", \\\"___NaN___\\\", \\\"male\\\", \\\"masculine\\\", \\\"NaN\\\", \\\"Human\\\", \\\"The Force Awakens\\\", \\\"NaN\\\", \\\"X-wing\\\"], [\\\"BB8\\\", \\\"___NaN___\\\", \\\"___NaN___\\\", \\\"none\\\", \\\"none\\\", \\\"black\\\", \\\"___NaN___\\\", \\\"none\\\", \\\"masculine\\\", \\\"NaN\\\", \\\"Droid\\\", \\\"The Force Awakens\\\", \\\"NaN\\\", \\\"NaN\\\"], [\\\"Captain Phasma\\\", \\\"___NaN___\\\", \\\"___NaN___\\\", \\\"none\\\", \\\"none\\\", \\\"unknown\\\", \\\"___NaN___\\\", \\\"female\\\", \\\"feminine\\\", \\\"NaN\\\", \\\"Human\\\", \\\"The Force Awakens\\\", \\\"NaN\\\", \\\"NaN\\\"]]\"};\n",
       "        new ITable(table, dt_args);\n",
       "    });\n",
       "</script>\n"
      ],
      "text/plain": [
       "<IPython.core.display.HTML object>"
      ]
     },
     "metadata": {},
     "output_type": "display_data"
    }
   ],
   "source": [
    "show(DF)"
   ]
  },
  {
   "cell_type": "code",
   "execution_count": 10,
   "id": "b8ce2965-1253-4593-85c5-eb187fd2d028",
   "metadata": {},
   "outputs": [
    {
     "data": {
      "text/html": [
       "<div>\n",
       "<style scoped>\n",
       "    .dataframe tbody tr th:only-of-type {\n",
       "        vertical-align: middle;\n",
       "    }\n",
       "\n",
       "    .dataframe tbody tr th {\n",
       "        vertical-align: top;\n",
       "    }\n",
       "\n",
       "    .dataframe thead th {\n",
       "        text-align: right;\n",
       "    }\n",
       "</style>\n",
       "<table border=\"1\" class=\"dataframe\">\n",
       "  <thead>\n",
       "    <tr style=\"text-align: right;\">\n",
       "      <th></th>\n",
       "      <th>name</th>\n",
       "      <th>height</th>\n",
       "      <th>mass</th>\n",
       "      <th>hair_color</th>\n",
       "      <th>skin_color</th>\n",
       "      <th>eye_color</th>\n",
       "      <th>birth_year</th>\n",
       "      <th>sex</th>\n",
       "      <th>gender</th>\n",
       "      <th>homeworld</th>\n",
       "      <th>species</th>\n",
       "      <th>films</th>\n",
       "      <th>vehicles</th>\n",
       "      <th>starships</th>\n",
       "    </tr>\n",
       "  </thead>\n",
       "  <tbody>\n",
       "    <tr>\n",
       "      <th>0</th>\n",
       "      <td>Luke Skywalker</td>\n",
       "      <td>172.0</td>\n",
       "      <td>77.0</td>\n",
       "      <td>blond</td>\n",
       "      <td>fair</td>\n",
       "      <td>blue</td>\n",
       "      <td>19.0</td>\n",
       "      <td>male</td>\n",
       "      <td>masculine</td>\n",
       "      <td>Tatooine</td>\n",
       "      <td>Human</td>\n",
       "      <td>A New Hope, The Empire Strikes Back, Return of...</td>\n",
       "      <td>Snowspeeder, Imperial Speeder Bike</td>\n",
       "      <td>X-wing, Imperial shuttle</td>\n",
       "    </tr>\n",
       "  </tbody>\n",
       "</table>\n",
       "</div>"
      ],
      "text/plain": [
       "             name  height  mass hair_color skin_color eye_color  birth_year  \\\n",
       "0  Luke Skywalker   172.0  77.0      blond       fair      blue        19.0   \n",
       "\n",
       "    sex     gender homeworld species  \\\n",
       "0  male  masculine  Tatooine   Human   \n",
       "\n",
       "                                               films  \\\n",
       "0  A New Hope, The Empire Strikes Back, Return of...   \n",
       "\n",
       "                             vehicles                 starships  \n",
       "0  Snowspeeder, Imperial Speeder Bike  X-wing, Imperial shuttle  "
      ]
     },
     "execution_count": 10,
     "metadata": {},
     "output_type": "execute_result"
    }
   ],
   "source": [
    "observation_name = 'Luke Skywalker'\n",
    "# Select just the row where the name equals Like Skywalker\n",
    "DF[DF['name']==observation_name]"
   ]
  },
  {
   "cell_type": "markdown",
   "id": "c048f99a-1aa0-4746-a163-9ce27a746a55",
   "metadata": {},
   "source": [
    "**Q1** How would you update the cell above to search for a different character? Make a change to the code above to find information about C-3PO."
   ]
  },
  {
   "cell_type": "code",
   "execution_count": 11,
   "id": "26747497-aee3-4c19-bd39-fbcadae31504",
   "metadata": {},
   "outputs": [
    {
     "data": {
      "text/html": [
       "<div>\n",
       "<style scoped>\n",
       "    .dataframe tbody tr th:only-of-type {\n",
       "        vertical-align: middle;\n",
       "    }\n",
       "\n",
       "    .dataframe tbody tr th {\n",
       "        vertical-align: top;\n",
       "    }\n",
       "\n",
       "    .dataframe thead th {\n",
       "        text-align: right;\n",
       "    }\n",
       "</style>\n",
       "<table border=\"1\" class=\"dataframe\">\n",
       "  <thead>\n",
       "    <tr style=\"text-align: right;\">\n",
       "      <th></th>\n",
       "      <th>name</th>\n",
       "      <th>height</th>\n",
       "      <th>mass</th>\n",
       "      <th>hair_color</th>\n",
       "      <th>skin_color</th>\n",
       "      <th>eye_color</th>\n",
       "      <th>birth_year</th>\n",
       "      <th>sex</th>\n",
       "      <th>gender</th>\n",
       "      <th>homeworld</th>\n",
       "      <th>species</th>\n",
       "      <th>films</th>\n",
       "      <th>vehicles</th>\n",
       "      <th>starships</th>\n",
       "    </tr>\n",
       "  </thead>\n",
       "  <tbody>\n",
       "    <tr>\n",
       "      <th>1</th>\n",
       "      <td>C-3PO</td>\n",
       "      <td>167.0</td>\n",
       "      <td>75.0</td>\n",
       "      <td>NaN</td>\n",
       "      <td>gold</td>\n",
       "      <td>yellow</td>\n",
       "      <td>112.0</td>\n",
       "      <td>none</td>\n",
       "      <td>masculine</td>\n",
       "      <td>Tatooine</td>\n",
       "      <td>Droid</td>\n",
       "      <td>A New Hope, The Empire Strikes Back, Return of...</td>\n",
       "      <td>NaN</td>\n",
       "      <td>NaN</td>\n",
       "    </tr>\n",
       "  </tbody>\n",
       "</table>\n",
       "</div>"
      ],
      "text/plain": [
       "    name  height  mass hair_color skin_color eye_color  birth_year   sex  \\\n",
       "1  C-3PO   167.0  75.0        NaN       gold    yellow       112.0  none   \n",
       "\n",
       "      gender homeworld species  \\\n",
       "1  masculine  Tatooine   Droid   \n",
       "\n",
       "                                               films vehicles starships  \n",
       "1  A New Hope, The Empire Strikes Back, Return of...      NaN       NaN  "
      ]
     },
     "execution_count": 11,
     "metadata": {},
     "output_type": "execute_result"
    }
   ],
   "source": [
    "# Your code here:\n",
    "observation_name = 'C-3PO'\n",
    "# Select just the row where the name equals C-3PO\n",
    "DF[DF['name']==observation_name]"
   ]
  },
  {
   "cell_type": "markdown",
   "id": "dc718850-25a9-45eb-8c24-a993782747fb",
   "metadata": {},
   "source": [
    "**Q2** In the data for C-3PO one of the entries says NaN. What does this mean?"
   ]
  },
  {
   "cell_type": "code",
   "execution_count": 20,
   "id": "79541650-a95c-48f5-82a3-5c31971e62e5",
   "metadata": {},
   "outputs": [
    {
     "name": "stdout",
     "output_type": "stream",
     "text": [
      "the value means not a number\n"
     ]
    }
   ],
   "source": [
    "print('the value means not a number')"
   ]
  },
  {
   "cell_type": "markdown",
   "id": "8ec6d294-4f57-408f-bcd2-273d252ee757",
   "metadata": {},
   "source": [
    "**Q3** Look at some observations for other characters. Just choose a few different names and see what their data says."
   ]
  },
  {
   "cell_type": "code",
   "execution_count": 21,
   "id": "75b788ec-3580-45ac-a08b-05e0fb1dc678",
   "metadata": {},
   "outputs": [
    {
     "data": {
      "text/html": [
       "<div>\n",
       "<style scoped>\n",
       "    .dataframe tbody tr th:only-of-type {\n",
       "        vertical-align: middle;\n",
       "    }\n",
       "\n",
       "    .dataframe tbody tr th {\n",
       "        vertical-align: top;\n",
       "    }\n",
       "\n",
       "    .dataframe thead th {\n",
       "        text-align: right;\n",
       "    }\n",
       "</style>\n",
       "<table border=\"1\" class=\"dataframe\">\n",
       "  <thead>\n",
       "    <tr style=\"text-align: right;\">\n",
       "      <th></th>\n",
       "      <th>name</th>\n",
       "      <th>height</th>\n",
       "      <th>mass</th>\n",
       "      <th>hair_color</th>\n",
       "      <th>skin_color</th>\n",
       "      <th>eye_color</th>\n",
       "      <th>birth_year</th>\n",
       "      <th>sex</th>\n",
       "      <th>gender</th>\n",
       "      <th>homeworld</th>\n",
       "      <th>species</th>\n",
       "      <th>films</th>\n",
       "      <th>vehicles</th>\n",
       "      <th>starships</th>\n",
       "    </tr>\n",
       "  </thead>\n",
       "  <tbody>\n",
       "    <tr>\n",
       "      <th>5</th>\n",
       "      <td>Owen Lars</td>\n",
       "      <td>178.0</td>\n",
       "      <td>120.0</td>\n",
       "      <td>brown, grey</td>\n",
       "      <td>light</td>\n",
       "      <td>blue</td>\n",
       "      <td>52.0</td>\n",
       "      <td>male</td>\n",
       "      <td>masculine</td>\n",
       "      <td>Tatooine</td>\n",
       "      <td>Human</td>\n",
       "      <td>A New Hope, Attack of the Clones, Revenge of t...</td>\n",
       "      <td>NaN</td>\n",
       "      <td>NaN</td>\n",
       "    </tr>\n",
       "  </tbody>\n",
       "</table>\n",
       "</div>"
      ],
      "text/plain": [
       "        name  height   mass   hair_color skin_color eye_color  birth_year  \\\n",
       "5  Owen Lars   178.0  120.0  brown, grey      light      blue        52.0   \n",
       "\n",
       "    sex     gender homeworld species  \\\n",
       "5  male  masculine  Tatooine   Human   \n",
       "\n",
       "                                               films vehicles starships  \n",
       "5  A New Hope, Attack of the Clones, Revenge of t...      NaN       NaN  "
      ]
     },
     "execution_count": 21,
     "metadata": {},
     "output_type": "execute_result"
    }
   ],
   "source": [
    "# Your code here - or you can just rerun the code cell above.\n",
    "observation_name = 'Owen Lars'\n",
    "# Select just the row where the name equals Owen Lars\n",
    "DF[DF['name']==observation_name]"
   ]
  },
  {
   "cell_type": "markdown",
   "id": "1cc4bd94-18db-4006-8e15-75cb1caf711e",
   "metadata": {},
   "source": [
    "**Q4** What happens if you spell a name wrong or forget to capitalize?"
   ]
  },
  {
   "cell_type": "markdown",
   "id": "0f448205-202b-4131-98cb-de6c37100667",
   "metadata": {},
   "source": [
    "If we forget to capitalize or spell something wrong, we get an error."
   ]
  },
  {
   "cell_type": "markdown",
   "id": "bd8255c0-9d90-402e-9017-64a382e2b5be",
   "metadata": {},
   "source": [
    "**Q5** Check out each of the variables (columns):\n",
    "\n",
    "1. What does each column tell you?\n",
    "2. Is the data a word or a number or something else?\n",
    "3. If the data is a number, what are the units?\n",
    "\n",
    "-----------------------------------------"
   ]
  },
  {
   "cell_type": "markdown",
   "id": "88a25285-8c62-48c4-8ef4-3031b97c93a9",
   "metadata": {},
   "source": [
    "1. The Columns tells us the name, height, mass, hair color, skin color, eye color, birth year, sex, gender, homeworld, species type, what films they are in, vehicles, and starships of each of the characters chosen.\n",
    "2. The Data is usually a word.\n",
    "3. The units for the height and mass are in centimeters and kilograms, the birth year is the age."
   ]
  },
  {
   "cell_type": "markdown",
   "id": "08f9ffc9-e880-448b-bc5f-30d7c7f973d0",
   "metadata": {},
   "source": [
    "### Exploratory Data Analysis (EDA)\n",
    "\n",
    "1. Summary Statistics\n",
    "2. Visualization (Today's Class)\n",
    "3. Data Wrangling (Future Class)\n",
    "\n",
    "#### Graph Mass vs. Height\n"
   ]
  },
  {
   "cell_type": "code",
   "execution_count": 22,
   "id": "6a2d9c12-6ba9-4c3a-bc6a-1971c01c263b",
   "metadata": {},
   "outputs": [
    {
     "data": {
      "text/html": [
       "<html>\n",
       "<head><meta charset=\"utf-8\" /></head>\n",
       "<body>\n",
       "    <div>            <script src=\"https://cdnjs.cloudflare.com/ajax/libs/mathjax/2.7.5/MathJax.js?config=TeX-AMS-MML_SVG\"></script><script type=\"text/javascript\">if (window.MathJax && window.MathJax.Hub && window.MathJax.Hub.Config) {window.MathJax.Hub.Config({SVG: {font: \"STIX-Web\"}});}</script>                <script type=\"text/javascript\">window.PlotlyConfig = {MathJaxConfig: 'local'};</script>\n",
       "        <script charset=\"utf-8\" src=\"https://cdn.plot.ly/plotly-3.1.0.min.js\" integrity=\"sha256-Ei4740bWZhaUTQuD6q9yQlgVCMPBz6CZWhevDYPv93A=\" crossorigin=\"anonymous\"></script>                <div id=\"9dedbdb4-7665-401a-94c9-3111178c8dbd\" class=\"plotly-graph-div\" style=\"height:525px; width:100%;\"></div>            <script type=\"text/javascript\">                window.PLOTLYENV=window.PLOTLYENV || {};                                if (document.getElementById(\"9dedbdb4-7665-401a-94c9-3111178c8dbd\")) {                    Plotly.newPlot(                        \"9dedbdb4-7665-401a-94c9-3111178c8dbd\",                        [{\"hovertemplate\":\"height=%{x}\\u003cbr\\u003emass=%{y}\\u003cextra\\u003e\\u003c\\u002fextra\\u003e\",\"legendgroup\":\"\",\"marker\":{\"color\":\"#636efa\",\"symbol\":\"circle\"},\"mode\":\"markers\",\"name\":\"\",\"orientation\":\"v\",\"showlegend\":false,\"x\":{\"dtype\":\"f8\",\"bdata\":\"AAAAAACAZUAAAAAAAOBkQAAAAAAAAFhAAAAAAABAaUAAAAAAAMBiQAAAAAAAQGZAAAAAAACgZEAAAAAAAEBYQAAAAAAA4GZAAAAAAADAZkAAAAAAAIBnQAAAAAAAgGZAAAAAAACAbEAAAAAAAIBmQAAAAAAAoGVAAAAAAADgZUAAAAAAAEBlQAAAAAAAgGZAAAAAAACAUEAAAAAAAEBlQAAAAAAA4GZAAAAAAAAAaUAAAAAAAMBnQAAAAAAAIGZAAAAAAADgZUAAAAAAAIBmQAAAAAAAwGJAAAAAAAAA+H8AAAAAAABWQAAAAAAAAGRAAAAAAAAgaEAAAAAAAOBnQAAAAAAAQGVAAAAAAAAgZ0AAAAAAAIBoQAAAAAAAAGxAAAAAAADAaUAAAAAAAOBmQAAAAAAAIGFAAAAAAAAAXEAAAAAAAOBmQAAAAAAAYGRAAAAAAADgZUAAAAAAAIBmQAAAAAAAQGZAAAAAAADAU0AAAAAAAIBXQAAAAAAAgF5AAAAAAABgZEAAAAAAAIBnQAAAAAAAwGhAAAAAAACAaEAAAAAAAGBlQAAAAAAAAGdAAAAAAACAZ0AAAAAAAIBwQAAAAAAAgGdAAAAAAACAaEAAAAAAACBnQAAAAAAAoGNAAAAAAADgZkAAAAAAAOBmQAAAAAAAQGVAAAAAAADAZEAAAAAAAKBkQAAAAAAAIGhAAAAAAADgZ0AAAAAAAOBmQAAAAAAAAGVAAAAAAADAaEAAAAAAAKBsQAAAAAAAoGpAAAAAAADgZEAAAAAAAABYQAAAAAAAIGhAAAAAAADgZ0AAAAAAAEBmQAAAAAAAAGtAAAAAAABAbUAAAAAAAIBnQAAAAAAAQGZAAAAAAADAaUAAAAAAAAD4fwAAAAAAAPh\\u002fAAAAAAAA+H8AAAAAAAD4fwAAAAAAAPh\\u002f\"},\"xaxis\":\"x\",\"y\":{\"dtype\":\"f8\",\"bdata\":\"AAAAAABAU0AAAAAAAMBSQAAAAAAAAEBAAAAAAAAAYUAAAAAAAIBIQAAAAAAAAF5AAAAAAADAUkAAAAAAAABAQAAAAAAAAFVAAAAAAABAU0AAAAAAAABVQAAAAAAAAPh\\u002fAAAAAAAAXEAAAAAAAABUQAAAAAAAgFJAAAAAAAA4lUAAAAAAAEBTQAAAAAAAgFtAAAAAAAAAMUAAAAAAAMBSQM3MzMzMjFNAAAAAAACAYUAAAAAAAEBcQAAAAAAAwFNAAAAAAADAU0AAAAAAAMBUQAAAAAAAAPh\\u002fAAAAAAAA+H8AAAAAAAA0QAAAAAAAAFFAAAAAAABAVkAAAAAAAIBWQAAAAAAAAPh\\u002fAAAAAACARkAAAAAAAIBQQAAAAAAAgFRAAAAAAAAA+H8AAAAAAAD4fwAAAAAAAPh\\u002fAAAAAAAAREAAAAAAAAD4fwAAAAAAAPh\\u002fAAAAAAAAVEAAAAAAAAD4fwAAAAAAgEtAAAAAAAAALkAAAAAAAIBGQAAAAAAAAPh\\u002fAAAAAABAUEAAAAAAAABVQAAAAAAAgFRAAAAAAADAVUAAAAAAAAD4fwAAAAAAAElAAAAAAAAA+H8AAAAAAAD4fwAAAAAAAFRAAAAAAAAA+H8AAAAAAEBVQAAAAAAAAPh\\u002fAAAAAAAA+H8AAAAAAABUQJqZmZmZGUxAAAAAAAAASUAAAAAAAAD4fwAAAAAAAFRAAAAAAAAA+H8AAAAAAMBTQAAAAAAAgEtAAAAAAACAWUAAAAAAAABWQAAAAAAAAPh\\u002fAAAAAAAA+H8AAAAAAAD4fwAAAAAAAEhAAAAAAAAA+H8AAAAAAIBMQAAAAAAA4GNAAAAAAAAAYUAAAAAAAMBTQAAAAAAAAEhAAAAAAAAAVEAAAAAAAAD4fwAAAAAAAPh\\u002fAAAAAAAA+H8AAAAAAAD4fwAAAAAAAPh\\u002f\"},\"yaxis\":\"y\",\"type\":\"scatter\"}],                        {\"template\":{\"data\":{\"histogram2dcontour\":[{\"type\":\"histogram2dcontour\",\"colorbar\":{\"outlinewidth\":0,\"ticks\":\"\"},\"colorscale\":[[0.0,\"#0d0887\"],[0.1111111111111111,\"#46039f\"],[0.2222222222222222,\"#7201a8\"],[0.3333333333333333,\"#9c179e\"],[0.4444444444444444,\"#bd3786\"],[0.5555555555555556,\"#d8576b\"],[0.6666666666666666,\"#ed7953\"],[0.7777777777777778,\"#fb9f3a\"],[0.8888888888888888,\"#fdca26\"],[1.0,\"#f0f921\"]]}],\"choropleth\":[{\"type\":\"choropleth\",\"colorbar\":{\"outlinewidth\":0,\"ticks\":\"\"}}],\"histogram2d\":[{\"type\":\"histogram2d\",\"colorbar\":{\"outlinewidth\":0,\"ticks\":\"\"},\"colorscale\":[[0.0,\"#0d0887\"],[0.1111111111111111,\"#46039f\"],[0.2222222222222222,\"#7201a8\"],[0.3333333333333333,\"#9c179e\"],[0.4444444444444444,\"#bd3786\"],[0.5555555555555556,\"#d8576b\"],[0.6666666666666666,\"#ed7953\"],[0.7777777777777778,\"#fb9f3a\"],[0.8888888888888888,\"#fdca26\"],[1.0,\"#f0f921\"]]}],\"heatmap\":[{\"type\":\"heatmap\",\"colorbar\":{\"outlinewidth\":0,\"ticks\":\"\"},\"colorscale\":[[0.0,\"#0d0887\"],[0.1111111111111111,\"#46039f\"],[0.2222222222222222,\"#7201a8\"],[0.3333333333333333,\"#9c179e\"],[0.4444444444444444,\"#bd3786\"],[0.5555555555555556,\"#d8576b\"],[0.6666666666666666,\"#ed7953\"],[0.7777777777777778,\"#fb9f3a\"],[0.8888888888888888,\"#fdca26\"],[1.0,\"#f0f921\"]]}],\"contourcarpet\":[{\"type\":\"contourcarpet\",\"colorbar\":{\"outlinewidth\":0,\"ticks\":\"\"}}],\"contour\":[{\"type\":\"contour\",\"colorbar\":{\"outlinewidth\":0,\"ticks\":\"\"},\"colorscale\":[[0.0,\"#0d0887\"],[0.1111111111111111,\"#46039f\"],[0.2222222222222222,\"#7201a8\"],[0.3333333333333333,\"#9c179e\"],[0.4444444444444444,\"#bd3786\"],[0.5555555555555556,\"#d8576b\"],[0.6666666666666666,\"#ed7953\"],[0.7777777777777778,\"#fb9f3a\"],[0.8888888888888888,\"#fdca26\"],[1.0,\"#f0f921\"]]}],\"surface\":[{\"type\":\"surface\",\"colorbar\":{\"outlinewidth\":0,\"ticks\":\"\"},\"colorscale\":[[0.0,\"#0d0887\"],[0.1111111111111111,\"#46039f\"],[0.2222222222222222,\"#7201a8\"],[0.3333333333333333,\"#9c179e\"],[0.4444444444444444,\"#bd3786\"],[0.5555555555555556,\"#d8576b\"],[0.6666666666666666,\"#ed7953\"],[0.7777777777777778,\"#fb9f3a\"],[0.8888888888888888,\"#fdca26\"],[1.0,\"#f0f921\"]]}],\"mesh3d\":[{\"type\":\"mesh3d\",\"colorbar\":{\"outlinewidth\":0,\"ticks\":\"\"}}],\"scatter\":[{\"fillpattern\":{\"fillmode\":\"overlay\",\"size\":10,\"solidity\":0.2},\"type\":\"scatter\"}],\"parcoords\":[{\"type\":\"parcoords\",\"line\":{\"colorbar\":{\"outlinewidth\":0,\"ticks\":\"\"}}}],\"scatterpolargl\":[{\"type\":\"scatterpolargl\",\"marker\":{\"colorbar\":{\"outlinewidth\":0,\"ticks\":\"\"}}}],\"bar\":[{\"error_x\":{\"color\":\"#2a3f5f\"},\"error_y\":{\"color\":\"#2a3f5f\"},\"marker\":{\"line\":{\"color\":\"#E5ECF6\",\"width\":0.5},\"pattern\":{\"fillmode\":\"overlay\",\"size\":10,\"solidity\":0.2}},\"type\":\"bar\"}],\"scattergeo\":[{\"type\":\"scattergeo\",\"marker\":{\"colorbar\":{\"outlinewidth\":0,\"ticks\":\"\"}}}],\"scatterpolar\":[{\"type\":\"scatterpolar\",\"marker\":{\"colorbar\":{\"outlinewidth\":0,\"ticks\":\"\"}}}],\"histogram\":[{\"marker\":{\"pattern\":{\"fillmode\":\"overlay\",\"size\":10,\"solidity\":0.2}},\"type\":\"histogram\"}],\"scattergl\":[{\"type\":\"scattergl\",\"marker\":{\"colorbar\":{\"outlinewidth\":0,\"ticks\":\"\"}}}],\"scatter3d\":[{\"type\":\"scatter3d\",\"line\":{\"colorbar\":{\"outlinewidth\":0,\"ticks\":\"\"}},\"marker\":{\"colorbar\":{\"outlinewidth\":0,\"ticks\":\"\"}}}],\"scattermap\":[{\"type\":\"scattermap\",\"marker\":{\"colorbar\":{\"outlinewidth\":0,\"ticks\":\"\"}}}],\"scattermapbox\":[{\"type\":\"scattermapbox\",\"marker\":{\"colorbar\":{\"outlinewidth\":0,\"ticks\":\"\"}}}],\"scatterternary\":[{\"type\":\"scatterternary\",\"marker\":{\"colorbar\":{\"outlinewidth\":0,\"ticks\":\"\"}}}],\"scattercarpet\":[{\"type\":\"scattercarpet\",\"marker\":{\"colorbar\":{\"outlinewidth\":0,\"ticks\":\"\"}}}],\"carpet\":[{\"aaxis\":{\"endlinecolor\":\"#2a3f5f\",\"gridcolor\":\"white\",\"linecolor\":\"white\",\"minorgridcolor\":\"white\",\"startlinecolor\":\"#2a3f5f\"},\"baxis\":{\"endlinecolor\":\"#2a3f5f\",\"gridcolor\":\"white\",\"linecolor\":\"white\",\"minorgridcolor\":\"white\",\"startlinecolor\":\"#2a3f5f\"},\"type\":\"carpet\"}],\"table\":[{\"cells\":{\"fill\":{\"color\":\"#EBF0F8\"},\"line\":{\"color\":\"white\"}},\"header\":{\"fill\":{\"color\":\"#C8D4E3\"},\"line\":{\"color\":\"white\"}},\"type\":\"table\"}],\"barpolar\":[{\"marker\":{\"line\":{\"color\":\"#E5ECF6\",\"width\":0.5},\"pattern\":{\"fillmode\":\"overlay\",\"size\":10,\"solidity\":0.2}},\"type\":\"barpolar\"}],\"pie\":[{\"automargin\":true,\"type\":\"pie\"}]},\"layout\":{\"autotypenumbers\":\"strict\",\"colorway\":[\"#636efa\",\"#EF553B\",\"#00cc96\",\"#ab63fa\",\"#FFA15A\",\"#19d3f3\",\"#FF6692\",\"#B6E880\",\"#FF97FF\",\"#FECB52\"],\"font\":{\"color\":\"#2a3f5f\"},\"hovermode\":\"closest\",\"hoverlabel\":{\"align\":\"left\"},\"paper_bgcolor\":\"white\",\"plot_bgcolor\":\"#E5ECF6\",\"polar\":{\"bgcolor\":\"#E5ECF6\",\"angularaxis\":{\"gridcolor\":\"white\",\"linecolor\":\"white\",\"ticks\":\"\"},\"radialaxis\":{\"gridcolor\":\"white\",\"linecolor\":\"white\",\"ticks\":\"\"}},\"ternary\":{\"bgcolor\":\"#E5ECF6\",\"aaxis\":{\"gridcolor\":\"white\",\"linecolor\":\"white\",\"ticks\":\"\"},\"baxis\":{\"gridcolor\":\"white\",\"linecolor\":\"white\",\"ticks\":\"\"},\"caxis\":{\"gridcolor\":\"white\",\"linecolor\":\"white\",\"ticks\":\"\"}},\"coloraxis\":{\"colorbar\":{\"outlinewidth\":0,\"ticks\":\"\"}},\"colorscale\":{\"sequential\":[[0.0,\"#0d0887\"],[0.1111111111111111,\"#46039f\"],[0.2222222222222222,\"#7201a8\"],[0.3333333333333333,\"#9c179e\"],[0.4444444444444444,\"#bd3786\"],[0.5555555555555556,\"#d8576b\"],[0.6666666666666666,\"#ed7953\"],[0.7777777777777778,\"#fb9f3a\"],[0.8888888888888888,\"#fdca26\"],[1.0,\"#f0f921\"]],\"sequentialminus\":[[0.0,\"#0d0887\"],[0.1111111111111111,\"#46039f\"],[0.2222222222222222,\"#7201a8\"],[0.3333333333333333,\"#9c179e\"],[0.4444444444444444,\"#bd3786\"],[0.5555555555555556,\"#d8576b\"],[0.6666666666666666,\"#ed7953\"],[0.7777777777777778,\"#fb9f3a\"],[0.8888888888888888,\"#fdca26\"],[1.0,\"#f0f921\"]],\"diverging\":[[0,\"#8e0152\"],[0.1,\"#c51b7d\"],[0.2,\"#de77ae\"],[0.3,\"#f1b6da\"],[0.4,\"#fde0ef\"],[0.5,\"#f7f7f7\"],[0.6,\"#e6f5d0\"],[0.7,\"#b8e186\"],[0.8,\"#7fbc41\"],[0.9,\"#4d9221\"],[1,\"#276419\"]]},\"xaxis\":{\"gridcolor\":\"white\",\"linecolor\":\"white\",\"ticks\":\"\",\"title\":{\"standoff\":15},\"zerolinecolor\":\"white\",\"automargin\":true,\"zerolinewidth\":2},\"yaxis\":{\"gridcolor\":\"white\",\"linecolor\":\"white\",\"ticks\":\"\",\"title\":{\"standoff\":15},\"zerolinecolor\":\"white\",\"automargin\":true,\"zerolinewidth\":2},\"scene\":{\"xaxis\":{\"backgroundcolor\":\"#E5ECF6\",\"gridcolor\":\"white\",\"linecolor\":\"white\",\"showbackground\":true,\"ticks\":\"\",\"zerolinecolor\":\"white\",\"gridwidth\":2},\"yaxis\":{\"backgroundcolor\":\"#E5ECF6\",\"gridcolor\":\"white\",\"linecolor\":\"white\",\"showbackground\":true,\"ticks\":\"\",\"zerolinecolor\":\"white\",\"gridwidth\":2},\"zaxis\":{\"backgroundcolor\":\"#E5ECF6\",\"gridcolor\":\"white\",\"linecolor\":\"white\",\"showbackground\":true,\"ticks\":\"\",\"zerolinecolor\":\"white\",\"gridwidth\":2}},\"shapedefaults\":{\"line\":{\"color\":\"#2a3f5f\"}},\"annotationdefaults\":{\"arrowcolor\":\"#2a3f5f\",\"arrowhead\":0,\"arrowwidth\":1},\"geo\":{\"bgcolor\":\"white\",\"landcolor\":\"#E5ECF6\",\"subunitcolor\":\"white\",\"showland\":true,\"showlakes\":true,\"lakecolor\":\"white\"},\"title\":{\"x\":0.05},\"mapbox\":{\"style\":\"light\"}}},\"xaxis\":{\"anchor\":\"y\",\"domain\":[0.0,1.0],\"title\":{\"text\":\"height\"}},\"yaxis\":{\"anchor\":\"x\",\"domain\":[0.0,1.0],\"title\":{\"text\":\"mass\"}},\"legend\":{\"tracegroupgap\":0},\"title\":{\"text\":\"Mass vs. Height of Starwars Characters\"}},                        {\"responsive\": true}                    ).then(function(){\n",
       "                            \n",
       "var gd = document.getElementById('9dedbdb4-7665-401a-94c9-3111178c8dbd');\n",
       "var x = new MutationObserver(function (mutations, observer) {{\n",
       "        var display = window.getComputedStyle(gd).display;\n",
       "        if (!display || display === 'none') {{\n",
       "            console.log([gd, 'removed!']);\n",
       "            Plotly.purge(gd);\n",
       "            observer.disconnect();\n",
       "        }}\n",
       "}});\n",
       "\n",
       "// Listen for the removal of the full notebook cells\n",
       "var notebookContainer = gd.closest('#notebook-container');\n",
       "if (notebookContainer) {{\n",
       "    x.observe(notebookContainer, {childList: true});\n",
       "}}\n",
       "\n",
       "// Listen for the clearing of the current output cell\n",
       "var outputEl = gd.closest('.output');\n",
       "if (outputEl) {{\n",
       "    x.observe(outputEl, {childList: true});\n",
       "}}\n",
       "\n",
       "                        })                };            </script>        </div>\n",
       "</body>\n",
       "</html>"
      ]
     },
     "metadata": {},
     "output_type": "display_data"
    }
   ],
   "source": [
    "fig = px.scatter(DF,\n",
    "                 x='height',\n",
    "                 y='mass',\n",
    "                 title='Mass vs. Height of Starwars Characters')\n",
    "fig.show()"
   ]
  },
  {
   "cell_type": "markdown",
   "id": "69e2e95d-f2b6-478a-8abf-199182396a99",
   "metadata": {},
   "source": [
    "**Q6** What do you notice about this graph? Are there any strange data points?"
   ]
  },
  {
   "cell_type": "markdown",
   "id": "eaa97e0d-0691-40f3-9cde-d1acd4536efa",
   "metadata": {},
   "source": [
    "Theres an outlier at the 1358 kg mass level around 175 centimeters in height. "
   ]
  },
  {
   "cell_type": "code",
   "execution_count": 23,
   "id": "40945f6e-1a32-4c95-9a56-686a09db83f2",
   "metadata": {},
   "outputs": [
    {
     "data": {
      "text/html": [
       "<html>\n",
       "<head><meta charset=\"utf-8\" /></head>\n",
       "<body>\n",
       "    <div>            <script src=\"https://cdnjs.cloudflare.com/ajax/libs/mathjax/2.7.5/MathJax.js?config=TeX-AMS-MML_SVG\"></script><script type=\"text/javascript\">if (window.MathJax && window.MathJax.Hub && window.MathJax.Hub.Config) {window.MathJax.Hub.Config({SVG: {font: \"STIX-Web\"}});}</script>                <script type=\"text/javascript\">window.PlotlyConfig = {MathJaxConfig: 'local'};</script>\n",
       "        <script charset=\"utf-8\" src=\"https://cdn.plot.ly/plotly-3.1.0.min.js\" integrity=\"sha256-Ei4740bWZhaUTQuD6q9yQlgVCMPBz6CZWhevDYPv93A=\" crossorigin=\"anonymous\"></script>                <div id=\"72fc34bb-f2b8-4424-851a-bbe34bb4e250\" class=\"plotly-graph-div\" style=\"height:525px; width:100%;\"></div>            <script type=\"text/javascript\">                window.PLOTLYENV=window.PLOTLYENV || {};                                if (document.getElementById(\"72fc34bb-f2b8-4424-851a-bbe34bb4e250\")) {                    Plotly.newPlot(                        \"72fc34bb-f2b8-4424-851a-bbe34bb4e250\",                        [{\"customdata\":[[\"Luke Skywalker\"],[\"C-3PO\"],[\"R2-D2\"],[\"Darth Vader\"],[\"Leia Organa\"],[\"Owen Lars\"],[\"Beru Whitesun Lars\"],[\"R5-D4\"],[\"Biggs Darklighter\"],[\"Obi-Wan Kenobi\"],[\"Anakin Skywalker\"],[\"Wilhuff Tarkin\"],[\"Chewbacca\"],[\"Han Solo\"],[\"Greedo\"],[\"Jabba Desilijic Tiure\"],[\"Wedge Antilles\"],[\"Jek Tono Porkins\"],[\"Yoda\"],[\"Palpatine\"],[\"Boba Fett\"],[\"IG-88\"],[\"Bossk\"],[\"Lando Calrissian\"],[\"Lobot\"],[\"Ackbar\"],[\"Mon Mothma\"],[\"Arvel Crynyd\"],[\"Wicket Systri Warrick\"],[\"Nien Nunb\"],[\"Qui-Gon Jinn\"],[\"Nute Gunray\"],[\"Finis Valorum\"],[\"Padmé Amidala\"],[\"Jar Jar Binks\"],[\"Roos Tarpals\"],[\"Rugor Nass\"],[\"Ric Olié\"],[\"Watto\"],[\"Sebulba\"],[\"Quarsh Panaka\"],[\"Shmi Skywalker\"],[\"Darth Maul\"],[\"Bib Fortuna\"],[\"Ayla Secura\"],[\"Ratts Tyerel\"],[\"Dud Bolt\"],[\"Gasgano\"],[\"Ben Quadinaros\"],[\"Mace Windu\"],[\"Ki-Adi-Mundi\"],[\"Kit Fisto\"],[\"Eeth Koth\"],[\"Adi Gallia\"],[\"Saesee Tiin\"],[\"Yarael Poof\"],[\"Plo Koon\"],[\"Mas Amedda\"],[\"Gregar Typho\"],[\"Cordé\"],[\"Cliegg Lars\"],[\"Poggle the Lesser\"],[\"Luminara Unduli\"],[\"Barriss Offee\"],[\"Dormé\"],[\"Dooku\"],[\"Bail Prestor Organa\"],[\"Jango Fett\"],[\"Zam Wesell\"],[\"Dexter Jettster\"],[\"Lama Su\"],[\"Taun We\"],[\"Jocasta Nu\"],[\"R4-P17\"],[\"Wat Tambor\"],[\"San Hill\"],[\"Shaak Ti\"],[\"Grievous\"],[\"Tarfful\"],[\"Raymus Antilles\"],[\"Sly Moore\"],[\"Tion Medon\"],[\"Finn\"],[\"Rey\"],[\"Poe Dameron\"],[\"BB8\"],[\"Captain Phasma\"]],\"hovertemplate\":\"height=%{x}\\u003cbr\\u003emass=%{y}\\u003cbr\\u003ename=%{customdata[0]}\\u003cextra\\u003e\\u003c\\u002fextra\\u003e\",\"legendgroup\":\"\",\"marker\":{\"color\":\"#636efa\",\"symbol\":\"circle\"},\"mode\":\"markers\",\"name\":\"\",\"orientation\":\"v\",\"showlegend\":false,\"x\":{\"dtype\":\"f8\",\"bdata\":\"AAAAAACAZUAAAAAAAOBkQAAAAAAAAFhAAAAAAABAaUAAAAAAAMBiQAAAAAAAQGZAAAAAAACgZEAAAAAAAEBYQAAAAAAA4GZAAAAAAADAZkAAAAAAAIBnQAAAAAAAgGZAAAAAAACAbEAAAAAAAIBmQAAAAAAAoGVAAAAAAADgZUAAAAAAAEBlQAAAAAAAgGZAAAAAAACAUEAAAAAAAEBlQAAAAAAA4GZAAAAAAAAAaUAAAAAAAMBnQAAAAAAAIGZAAAAAAADgZUAAAAAAAIBmQAAAAAAAwGJAAAAAAAAA+H8AAAAAAABWQAAAAAAAAGRAAAAAAAAgaEAAAAAAAOBnQAAAAAAAQGVAAAAAAAAgZ0AAAAAAAIBoQAAAAAAAAGxAAAAAAADAaUAAAAAAAOBmQAAAAAAAIGFAAAAAAAAAXEAAAAAAAOBmQAAAAAAAYGRAAAAAAADgZUAAAAAAAIBmQAAAAAAAQGZAAAAAAADAU0AAAAAAAIBXQAAAAAAAgF5AAAAAAABgZEAAAAAAAIBnQAAAAAAAwGhAAAAAAACAaEAAAAAAAGBlQAAAAAAAAGdAAAAAAACAZ0AAAAAAAIBwQAAAAAAAgGdAAAAAAACAaEAAAAAAACBnQAAAAAAAoGNAAAAAAADgZkAAAAAAAOBmQAAAAAAAQGVAAAAAAADAZEAAAAAAAKBkQAAAAAAAIGhAAAAAAADgZ0AAAAAAAOBmQAAAAAAAAGVAAAAAAADAaEAAAAAAAKBsQAAAAAAAoGpAAAAAAADgZEAAAAAAAABYQAAAAAAAIGhAAAAAAADgZ0AAAAAAAEBmQAAAAAAAAGtAAAAAAABAbUAAAAAAAIBnQAAAAAAAQGZAAAAAAADAaUAAAAAAAAD4fwAAAAAAAPh\\u002fAAAAAAAA+H8AAAAAAAD4fwAAAAAAAPh\\u002f\"},\"xaxis\":\"x\",\"y\":{\"dtype\":\"f8\",\"bdata\":\"AAAAAABAU0AAAAAAAMBSQAAAAAAAAEBAAAAAAAAAYUAAAAAAAIBIQAAAAAAAAF5AAAAAAADAUkAAAAAAAABAQAAAAAAAAFVAAAAAAABAU0AAAAAAAABVQAAAAAAAAPh\\u002fAAAAAAAAXEAAAAAAAABUQAAAAAAAgFJAAAAAAAA4lUAAAAAAAEBTQAAAAAAAgFtAAAAAAAAAMUAAAAAAAMBSQM3MzMzMjFNAAAAAAACAYUAAAAAAAEBcQAAAAAAAwFNAAAAAAADAU0AAAAAAAMBUQAAAAAAAAPh\\u002fAAAAAAAA+H8AAAAAAAA0QAAAAAAAAFFAAAAAAABAVkAAAAAAAIBWQAAAAAAAAPh\\u002fAAAAAACARkAAAAAAAIBQQAAAAAAAgFRAAAAAAAAA+H8AAAAAAAD4fwAAAAAAAPh\\u002fAAAAAAAAREAAAAAAAAD4fwAAAAAAAPh\\u002fAAAAAAAAVEAAAAAAAAD4fwAAAAAAgEtAAAAAAAAALkAAAAAAAIBGQAAAAAAAAPh\\u002fAAAAAABAUEAAAAAAAABVQAAAAAAAgFRAAAAAAADAVUAAAAAAAAD4fwAAAAAAAElAAAAAAAAA+H8AAAAAAAD4fwAAAAAAAFRAAAAAAAAA+H8AAAAAAEBVQAAAAAAAAPh\\u002fAAAAAAAA+H8AAAAAAABUQJqZmZmZGUxAAAAAAAAASUAAAAAAAAD4fwAAAAAAAFRAAAAAAAAA+H8AAAAAAMBTQAAAAAAAgEtAAAAAAACAWUAAAAAAAABWQAAAAAAAAPh\\u002fAAAAAAAA+H8AAAAAAAD4fwAAAAAAAEhAAAAAAAAA+H8AAAAAAIBMQAAAAAAA4GNAAAAAAAAAYUAAAAAAAMBTQAAAAAAAAEhAAAAAAAAAVEAAAAAAAAD4fwAAAAAAAPh\\u002fAAAAAAAA+H8AAAAAAAD4fwAAAAAAAPh\\u002f\"},\"yaxis\":\"y\",\"type\":\"scatter\"}],                        {\"template\":{\"data\":{\"histogram2dcontour\":[{\"type\":\"histogram2dcontour\",\"colorbar\":{\"outlinewidth\":0,\"ticks\":\"\"},\"colorscale\":[[0.0,\"#0d0887\"],[0.1111111111111111,\"#46039f\"],[0.2222222222222222,\"#7201a8\"],[0.3333333333333333,\"#9c179e\"],[0.4444444444444444,\"#bd3786\"],[0.5555555555555556,\"#d8576b\"],[0.6666666666666666,\"#ed7953\"],[0.7777777777777778,\"#fb9f3a\"],[0.8888888888888888,\"#fdca26\"],[1.0,\"#f0f921\"]]}],\"choropleth\":[{\"type\":\"choropleth\",\"colorbar\":{\"outlinewidth\":0,\"ticks\":\"\"}}],\"histogram2d\":[{\"type\":\"histogram2d\",\"colorbar\":{\"outlinewidth\":0,\"ticks\":\"\"},\"colorscale\":[[0.0,\"#0d0887\"],[0.1111111111111111,\"#46039f\"],[0.2222222222222222,\"#7201a8\"],[0.3333333333333333,\"#9c179e\"],[0.4444444444444444,\"#bd3786\"],[0.5555555555555556,\"#d8576b\"],[0.6666666666666666,\"#ed7953\"],[0.7777777777777778,\"#fb9f3a\"],[0.8888888888888888,\"#fdca26\"],[1.0,\"#f0f921\"]]}],\"heatmap\":[{\"type\":\"heatmap\",\"colorbar\":{\"outlinewidth\":0,\"ticks\":\"\"},\"colorscale\":[[0.0,\"#0d0887\"],[0.1111111111111111,\"#46039f\"],[0.2222222222222222,\"#7201a8\"],[0.3333333333333333,\"#9c179e\"],[0.4444444444444444,\"#bd3786\"],[0.5555555555555556,\"#d8576b\"],[0.6666666666666666,\"#ed7953\"],[0.7777777777777778,\"#fb9f3a\"],[0.8888888888888888,\"#fdca26\"],[1.0,\"#f0f921\"]]}],\"contourcarpet\":[{\"type\":\"contourcarpet\",\"colorbar\":{\"outlinewidth\":0,\"ticks\":\"\"}}],\"contour\":[{\"type\":\"contour\",\"colorbar\":{\"outlinewidth\":0,\"ticks\":\"\"},\"colorscale\":[[0.0,\"#0d0887\"],[0.1111111111111111,\"#46039f\"],[0.2222222222222222,\"#7201a8\"],[0.3333333333333333,\"#9c179e\"],[0.4444444444444444,\"#bd3786\"],[0.5555555555555556,\"#d8576b\"],[0.6666666666666666,\"#ed7953\"],[0.7777777777777778,\"#fb9f3a\"],[0.8888888888888888,\"#fdca26\"],[1.0,\"#f0f921\"]]}],\"surface\":[{\"type\":\"surface\",\"colorbar\":{\"outlinewidth\":0,\"ticks\":\"\"},\"colorscale\":[[0.0,\"#0d0887\"],[0.1111111111111111,\"#46039f\"],[0.2222222222222222,\"#7201a8\"],[0.3333333333333333,\"#9c179e\"],[0.4444444444444444,\"#bd3786\"],[0.5555555555555556,\"#d8576b\"],[0.6666666666666666,\"#ed7953\"],[0.7777777777777778,\"#fb9f3a\"],[0.8888888888888888,\"#fdca26\"],[1.0,\"#f0f921\"]]}],\"mesh3d\":[{\"type\":\"mesh3d\",\"colorbar\":{\"outlinewidth\":0,\"ticks\":\"\"}}],\"scatter\":[{\"fillpattern\":{\"fillmode\":\"overlay\",\"size\":10,\"solidity\":0.2},\"type\":\"scatter\"}],\"parcoords\":[{\"type\":\"parcoords\",\"line\":{\"colorbar\":{\"outlinewidth\":0,\"ticks\":\"\"}}}],\"scatterpolargl\":[{\"type\":\"scatterpolargl\",\"marker\":{\"colorbar\":{\"outlinewidth\":0,\"ticks\":\"\"}}}],\"bar\":[{\"error_x\":{\"color\":\"#2a3f5f\"},\"error_y\":{\"color\":\"#2a3f5f\"},\"marker\":{\"line\":{\"color\":\"#E5ECF6\",\"width\":0.5},\"pattern\":{\"fillmode\":\"overlay\",\"size\":10,\"solidity\":0.2}},\"type\":\"bar\"}],\"scattergeo\":[{\"type\":\"scattergeo\",\"marker\":{\"colorbar\":{\"outlinewidth\":0,\"ticks\":\"\"}}}],\"scatterpolar\":[{\"type\":\"scatterpolar\",\"marker\":{\"colorbar\":{\"outlinewidth\":0,\"ticks\":\"\"}}}],\"histogram\":[{\"marker\":{\"pattern\":{\"fillmode\":\"overlay\",\"size\":10,\"solidity\":0.2}},\"type\":\"histogram\"}],\"scattergl\":[{\"type\":\"scattergl\",\"marker\":{\"colorbar\":{\"outlinewidth\":0,\"ticks\":\"\"}}}],\"scatter3d\":[{\"type\":\"scatter3d\",\"line\":{\"colorbar\":{\"outlinewidth\":0,\"ticks\":\"\"}},\"marker\":{\"colorbar\":{\"outlinewidth\":0,\"ticks\":\"\"}}}],\"scattermap\":[{\"type\":\"scattermap\",\"marker\":{\"colorbar\":{\"outlinewidth\":0,\"ticks\":\"\"}}}],\"scattermapbox\":[{\"type\":\"scattermapbox\",\"marker\":{\"colorbar\":{\"outlinewidth\":0,\"ticks\":\"\"}}}],\"scatterternary\":[{\"type\":\"scatterternary\",\"marker\":{\"colorbar\":{\"outlinewidth\":0,\"ticks\":\"\"}}}],\"scattercarpet\":[{\"type\":\"scattercarpet\",\"marker\":{\"colorbar\":{\"outlinewidth\":0,\"ticks\":\"\"}}}],\"carpet\":[{\"aaxis\":{\"endlinecolor\":\"#2a3f5f\",\"gridcolor\":\"white\",\"linecolor\":\"white\",\"minorgridcolor\":\"white\",\"startlinecolor\":\"#2a3f5f\"},\"baxis\":{\"endlinecolor\":\"#2a3f5f\",\"gridcolor\":\"white\",\"linecolor\":\"white\",\"minorgridcolor\":\"white\",\"startlinecolor\":\"#2a3f5f\"},\"type\":\"carpet\"}],\"table\":[{\"cells\":{\"fill\":{\"color\":\"#EBF0F8\"},\"line\":{\"color\":\"white\"}},\"header\":{\"fill\":{\"color\":\"#C8D4E3\"},\"line\":{\"color\":\"white\"}},\"type\":\"table\"}],\"barpolar\":[{\"marker\":{\"line\":{\"color\":\"#E5ECF6\",\"width\":0.5},\"pattern\":{\"fillmode\":\"overlay\",\"size\":10,\"solidity\":0.2}},\"type\":\"barpolar\"}],\"pie\":[{\"automargin\":true,\"type\":\"pie\"}]},\"layout\":{\"autotypenumbers\":\"strict\",\"colorway\":[\"#636efa\",\"#EF553B\",\"#00cc96\",\"#ab63fa\",\"#FFA15A\",\"#19d3f3\",\"#FF6692\",\"#B6E880\",\"#FF97FF\",\"#FECB52\"],\"font\":{\"color\":\"#2a3f5f\"},\"hovermode\":\"closest\",\"hoverlabel\":{\"align\":\"left\"},\"paper_bgcolor\":\"white\",\"plot_bgcolor\":\"#E5ECF6\",\"polar\":{\"bgcolor\":\"#E5ECF6\",\"angularaxis\":{\"gridcolor\":\"white\",\"linecolor\":\"white\",\"ticks\":\"\"},\"radialaxis\":{\"gridcolor\":\"white\",\"linecolor\":\"white\",\"ticks\":\"\"}},\"ternary\":{\"bgcolor\":\"#E5ECF6\",\"aaxis\":{\"gridcolor\":\"white\",\"linecolor\":\"white\",\"ticks\":\"\"},\"baxis\":{\"gridcolor\":\"white\",\"linecolor\":\"white\",\"ticks\":\"\"},\"caxis\":{\"gridcolor\":\"white\",\"linecolor\":\"white\",\"ticks\":\"\"}},\"coloraxis\":{\"colorbar\":{\"outlinewidth\":0,\"ticks\":\"\"}},\"colorscale\":{\"sequential\":[[0.0,\"#0d0887\"],[0.1111111111111111,\"#46039f\"],[0.2222222222222222,\"#7201a8\"],[0.3333333333333333,\"#9c179e\"],[0.4444444444444444,\"#bd3786\"],[0.5555555555555556,\"#d8576b\"],[0.6666666666666666,\"#ed7953\"],[0.7777777777777778,\"#fb9f3a\"],[0.8888888888888888,\"#fdca26\"],[1.0,\"#f0f921\"]],\"sequentialminus\":[[0.0,\"#0d0887\"],[0.1111111111111111,\"#46039f\"],[0.2222222222222222,\"#7201a8\"],[0.3333333333333333,\"#9c179e\"],[0.4444444444444444,\"#bd3786\"],[0.5555555555555556,\"#d8576b\"],[0.6666666666666666,\"#ed7953\"],[0.7777777777777778,\"#fb9f3a\"],[0.8888888888888888,\"#fdca26\"],[1.0,\"#f0f921\"]],\"diverging\":[[0,\"#8e0152\"],[0.1,\"#c51b7d\"],[0.2,\"#de77ae\"],[0.3,\"#f1b6da\"],[0.4,\"#fde0ef\"],[0.5,\"#f7f7f7\"],[0.6,\"#e6f5d0\"],[0.7,\"#b8e186\"],[0.8,\"#7fbc41\"],[0.9,\"#4d9221\"],[1,\"#276419\"]]},\"xaxis\":{\"gridcolor\":\"white\",\"linecolor\":\"white\",\"ticks\":\"\",\"title\":{\"standoff\":15},\"zerolinecolor\":\"white\",\"automargin\":true,\"zerolinewidth\":2},\"yaxis\":{\"gridcolor\":\"white\",\"linecolor\":\"white\",\"ticks\":\"\",\"title\":{\"standoff\":15},\"zerolinecolor\":\"white\",\"automargin\":true,\"zerolinewidth\":2},\"scene\":{\"xaxis\":{\"backgroundcolor\":\"#E5ECF6\",\"gridcolor\":\"white\",\"linecolor\":\"white\",\"showbackground\":true,\"ticks\":\"\",\"zerolinecolor\":\"white\",\"gridwidth\":2},\"yaxis\":{\"backgroundcolor\":\"#E5ECF6\",\"gridcolor\":\"white\",\"linecolor\":\"white\",\"showbackground\":true,\"ticks\":\"\",\"zerolinecolor\":\"white\",\"gridwidth\":2},\"zaxis\":{\"backgroundcolor\":\"#E5ECF6\",\"gridcolor\":\"white\",\"linecolor\":\"white\",\"showbackground\":true,\"ticks\":\"\",\"zerolinecolor\":\"white\",\"gridwidth\":2}},\"shapedefaults\":{\"line\":{\"color\":\"#2a3f5f\"}},\"annotationdefaults\":{\"arrowcolor\":\"#2a3f5f\",\"arrowhead\":0,\"arrowwidth\":1},\"geo\":{\"bgcolor\":\"white\",\"landcolor\":\"#E5ECF6\",\"subunitcolor\":\"white\",\"showland\":true,\"showlakes\":true,\"lakecolor\":\"white\"},\"title\":{\"x\":0.05},\"mapbox\":{\"style\":\"light\"}}},\"xaxis\":{\"anchor\":\"y\",\"domain\":[0.0,1.0],\"title\":{\"text\":\"height\"}},\"yaxis\":{\"anchor\":\"x\",\"domain\":[0.0,1.0],\"title\":{\"text\":\"mass\"}},\"legend\":{\"tracegroupgap\":0},\"title\":{\"text\":\"Mass vs. Height of Starwars Characters.\"}},                        {\"responsive\": true}                    ).then(function(){\n",
       "                            \n",
       "var gd = document.getElementById('72fc34bb-f2b8-4424-851a-bbe34bb4e250');\n",
       "var x = new MutationObserver(function (mutations, observer) {{\n",
       "        var display = window.getComputedStyle(gd).display;\n",
       "        if (!display || display === 'none') {{\n",
       "            console.log([gd, 'removed!']);\n",
       "            Plotly.purge(gd);\n",
       "            observer.disconnect();\n",
       "        }}\n",
       "}});\n",
       "\n",
       "// Listen for the removal of the full notebook cells\n",
       "var notebookContainer = gd.closest('#notebook-container');\n",
       "if (notebookContainer) {{\n",
       "    x.observe(notebookContainer, {childList: true});\n",
       "}}\n",
       "\n",
       "// Listen for the clearing of the current output cell\n",
       "var outputEl = gd.closest('.output');\n",
       "if (outputEl) {{\n",
       "    x.observe(outputEl, {childList: true});\n",
       "}}\n",
       "\n",
       "                        })                };            </script>        </div>\n",
       "</body>\n",
       "</html>"
      ]
     },
     "metadata": {},
     "output_type": "display_data"
    }
   ],
   "source": [
    "#Let's add some data so when we hover over the point we can see the characters name:\n",
    "fig = px.scatter(DF,\n",
    "                 x='height',\n",
    "                 y='mass',\n",
    "                 title='Mass vs. Height of Starwars Characters.',\n",
    "                 hover_data='name')\n",
    "fig.show()"
   ]
  },
  {
   "cell_type": "markdown",
   "id": "4e1fc345-9c53-4fd9-8c85-20aacb27eb28",
   "metadata": {},
   "source": [
    "#### You try birth_year vs mass\n",
    "\n",
    "**Q7** See if you can figure out how to make a plot of the birth_year vs mass with the hover data being the name?"
   ]
  },
  {
   "cell_type": "code",
   "execution_count": 30,
   "id": "8c796598-5da7-454b-b1c8-f0d7342aae70",
   "metadata": {},
   "outputs": [
    {
     "data": {
      "text/html": [
       "<html>\n",
       "<head><meta charset=\"utf-8\" /></head>\n",
       "<body>\n",
       "    <div>            <script src=\"https://cdnjs.cloudflare.com/ajax/libs/mathjax/2.7.5/MathJax.js?config=TeX-AMS-MML_SVG\"></script><script type=\"text/javascript\">if (window.MathJax && window.MathJax.Hub && window.MathJax.Hub.Config) {window.MathJax.Hub.Config({SVG: {font: \"STIX-Web\"}});}</script>                <script type=\"text/javascript\">window.PlotlyConfig = {MathJaxConfig: 'local'};</script>\n",
       "        <script charset=\"utf-8\" src=\"https://cdn.plot.ly/plotly-3.1.0.min.js\" integrity=\"sha256-Ei4740bWZhaUTQuD6q9yQlgVCMPBz6CZWhevDYPv93A=\" crossorigin=\"anonymous\"></script>                <div id=\"b6bddb0f-a9a9-4b9c-b339-5ec4fb9fa20f\" class=\"plotly-graph-div\" style=\"height:525px; width:100%;\"></div>            <script type=\"text/javascript\">                window.PLOTLYENV=window.PLOTLYENV || {};                                if (document.getElementById(\"b6bddb0f-a9a9-4b9c-b339-5ec4fb9fa20f\")) {                    Plotly.newPlot(                        \"b6bddb0f-a9a9-4b9c-b339-5ec4fb9fa20f\",                        [{\"customdata\":[[\"Luke Skywalker\"],[\"C-3PO\"],[\"R2-D2\"],[\"Darth Vader\"],[\"Leia Organa\"],[\"Owen Lars\"],[\"Beru Whitesun Lars\"],[\"R5-D4\"],[\"Biggs Darklighter\"],[\"Obi-Wan Kenobi\"],[\"Anakin Skywalker\"],[\"Wilhuff Tarkin\"],[\"Chewbacca\"],[\"Han Solo\"],[\"Greedo\"],[\"Jabba Desilijic Tiure\"],[\"Wedge Antilles\"],[\"Jek Tono Porkins\"],[\"Yoda\"],[\"Palpatine\"],[\"Boba Fett\"],[\"IG-88\"],[\"Bossk\"],[\"Lando Calrissian\"],[\"Lobot\"],[\"Ackbar\"],[\"Mon Mothma\"],[\"Arvel Crynyd\"],[\"Wicket Systri Warrick\"],[\"Nien Nunb\"],[\"Qui-Gon Jinn\"],[\"Nute Gunray\"],[\"Finis Valorum\"],[\"Padmé Amidala\"],[\"Jar Jar Binks\"],[\"Roos Tarpals\"],[\"Rugor Nass\"],[\"Ric Olié\"],[\"Watto\"],[\"Sebulba\"],[\"Quarsh Panaka\"],[\"Shmi Skywalker\"],[\"Darth Maul\"],[\"Bib Fortuna\"],[\"Ayla Secura\"],[\"Ratts Tyerel\"],[\"Dud Bolt\"],[\"Gasgano\"],[\"Ben Quadinaros\"],[\"Mace Windu\"],[\"Ki-Adi-Mundi\"],[\"Kit Fisto\"],[\"Eeth Koth\"],[\"Adi Gallia\"],[\"Saesee Tiin\"],[\"Yarael Poof\"],[\"Plo Koon\"],[\"Mas Amedda\"],[\"Gregar Typho\"],[\"Cordé\"],[\"Cliegg Lars\"],[\"Poggle the Lesser\"],[\"Luminara Unduli\"],[\"Barriss Offee\"],[\"Dormé\"],[\"Dooku\"],[\"Bail Prestor Organa\"],[\"Jango Fett\"],[\"Zam Wesell\"],[\"Dexter Jettster\"],[\"Lama Su\"],[\"Taun We\"],[\"Jocasta Nu\"],[\"R4-P17\"],[\"Wat Tambor\"],[\"San Hill\"],[\"Shaak Ti\"],[\"Grievous\"],[\"Tarfful\"],[\"Raymus Antilles\"],[\"Sly Moore\"],[\"Tion Medon\"],[\"Finn\"],[\"Rey\"],[\"Poe Dameron\"],[\"BB8\"],[\"Captain Phasma\"]],\"hovertemplate\":\"birth_year=%{x}\\u003cbr\\u003emass=%{y}\\u003cbr\\u003ename=%{customdata[0]}\\u003cextra\\u003e\\u003c\\u002fextra\\u003e\",\"legendgroup\":\"\",\"marker\":{\"color\":\"#636efa\",\"symbol\":\"circle\"},\"mode\":\"markers\",\"name\":\"\",\"orientation\":\"v\",\"showlegend\":false,\"x\":{\"dtype\":\"f8\",\"bdata\":\"AAAAAAAAM0AAAAAAAABcQAAAAAAAgEBAMzMzMzPzREAAAAAAAAAzQAAAAAAAAEpAAAAAAACAR0AAAAAAAAD4fwAAAAAAADhAAAAAAACATEAzMzMzM\\u002fNEQAAAAAAAAFBAAAAAAAAAaUAAAAAAAAA9QAAAAAAAAEZAAAAAAADAgkAAAAAAAAA1QAAAAAAAAPh\\u002fAAAAAAAAjEAAAAAAAIBUQAAAAAAAgD9AAAAAAAAALkAAAAAAAIBKQAAAAAAAAD9AAAAAAACAQkAAAAAAAIBEQAAAAAAAAEhAAAAAAAAA+H8AAAAAAAAgQAAAAAAAAPh\\u002fAAAAAAAAV0AAAAAAAAD4fwAAAAAAwFZAAAAAAAAAR0AAAAAAAABKQAAAAAAAAPh\\u002fAAAAAAAA+H8AAAAAAAD4fwAAAAAAAPh\\u002fAAAAAAAA+H8AAAAAAABPQAAAAAAAAFJAAAAAAAAAS0AAAAAAAAD4fwAAAAAAAEhAAAAAAAAA+H8AAAAAAAD4fwAAAAAAAPh\\u002fAAAAAAAA+H8AAAAAAABSQAAAAAAAAFdAAAAAAAAA+H8AAAAAAAD4fwAAAAAAAPh\\u002fAAAAAAAA+H8AAAAAAAD4fwAAAAAAADZAAAAAAAAA+H8AAAAAAAD4fwAAAAAAAPh\\u002fAAAAAACAVEAAAAAAAAD4fwAAAAAAAE1AAAAAAAAAREAAAAAAAAD4fwAAAAAAgFlAAAAAAADAUEAAAAAAAIBQQAAAAAAAAPh\\u002fAAAAAAAA+H8AAAAAAAD4fwAAAAAAAPh\\u002fAAAAAAAA+H8AAAAAAAD4fwAAAAAAAPh\\u002fAAAAAAAA+H8AAAAAAAD4fwAAAAAAAPh\\u002fAAAAAAAA+H8AAAAAAAD4fwAAAAAAAPh\\u002fAAAAAAAA+H8AAAAAAAD4fwAAAAAAAPh\\u002fAAAAAAAA+H8AAAAAAAD4fwAAAAAAAPh\\u002f\"},\"xaxis\":\"x\",\"y\":{\"dtype\":\"f8\",\"bdata\":\"AAAAAABAU0AAAAAAAMBSQAAAAAAAAEBAAAAAAAAAYUAAAAAAAIBIQAAAAAAAAF5AAAAAAADAUkAAAAAAAABAQAAAAAAAAFVAAAAAAABAU0AAAAAAAABVQAAAAAAAAPh\\u002fAAAAAAAAXEAAAAAAAABUQAAAAAAAgFJAAAAAAAA4lUAAAAAAAEBTQAAAAAAAgFtAAAAAAAAAMUAAAAAAAMBSQM3MzMzMjFNAAAAAAACAYUAAAAAAAEBcQAAAAAAAwFNAAAAAAADAU0AAAAAAAMBUQAAAAAAAAPh\\u002fAAAAAAAA+H8AAAAAAAA0QAAAAAAAAFFAAAAAAABAVkAAAAAAAIBWQAAAAAAAAPh\\u002fAAAAAACARkAAAAAAAIBQQAAAAAAAgFRAAAAAAAAA+H8AAAAAAAD4fwAAAAAAAPh\\u002fAAAAAAAAREAAAAAAAAD4fwAAAAAAAPh\\u002fAAAAAAAAVEAAAAAAAAD4fwAAAAAAgEtAAAAAAAAALkAAAAAAAIBGQAAAAAAAAPh\\u002fAAAAAABAUEAAAAAAAABVQAAAAAAAgFRAAAAAAADAVUAAAAAAAAD4fwAAAAAAAElAAAAAAAAA+H8AAAAAAAD4fwAAAAAAAFRAAAAAAAAA+H8AAAAAAEBVQAAAAAAAAPh\\u002fAAAAAAAA+H8AAAAAAABUQJqZmZmZGUxAAAAAAAAASUAAAAAAAAD4fwAAAAAAAFRAAAAAAAAA+H8AAAAAAMBTQAAAAAAAgEtAAAAAAACAWUAAAAAAAABWQAAAAAAAAPh\\u002fAAAAAAAA+H8AAAAAAAD4fwAAAAAAAEhAAAAAAAAA+H8AAAAAAIBMQAAAAAAA4GNAAAAAAAAAYUAAAAAAAMBTQAAAAAAAAEhAAAAAAAAAVEAAAAAAAAD4fwAAAAAAAPh\\u002fAAAAAAAA+H8AAAAAAAD4fwAAAAAAAPh\\u002f\"},\"yaxis\":\"y\",\"type\":\"scatter\"}],                        {\"template\":{\"data\":{\"histogram2dcontour\":[{\"type\":\"histogram2dcontour\",\"colorbar\":{\"outlinewidth\":0,\"ticks\":\"\"},\"colorscale\":[[0.0,\"#0d0887\"],[0.1111111111111111,\"#46039f\"],[0.2222222222222222,\"#7201a8\"],[0.3333333333333333,\"#9c179e\"],[0.4444444444444444,\"#bd3786\"],[0.5555555555555556,\"#d8576b\"],[0.6666666666666666,\"#ed7953\"],[0.7777777777777778,\"#fb9f3a\"],[0.8888888888888888,\"#fdca26\"],[1.0,\"#f0f921\"]]}],\"choropleth\":[{\"type\":\"choropleth\",\"colorbar\":{\"outlinewidth\":0,\"ticks\":\"\"}}],\"histogram2d\":[{\"type\":\"histogram2d\",\"colorbar\":{\"outlinewidth\":0,\"ticks\":\"\"},\"colorscale\":[[0.0,\"#0d0887\"],[0.1111111111111111,\"#46039f\"],[0.2222222222222222,\"#7201a8\"],[0.3333333333333333,\"#9c179e\"],[0.4444444444444444,\"#bd3786\"],[0.5555555555555556,\"#d8576b\"],[0.6666666666666666,\"#ed7953\"],[0.7777777777777778,\"#fb9f3a\"],[0.8888888888888888,\"#fdca26\"],[1.0,\"#f0f921\"]]}],\"heatmap\":[{\"type\":\"heatmap\",\"colorbar\":{\"outlinewidth\":0,\"ticks\":\"\"},\"colorscale\":[[0.0,\"#0d0887\"],[0.1111111111111111,\"#46039f\"],[0.2222222222222222,\"#7201a8\"],[0.3333333333333333,\"#9c179e\"],[0.4444444444444444,\"#bd3786\"],[0.5555555555555556,\"#d8576b\"],[0.6666666666666666,\"#ed7953\"],[0.7777777777777778,\"#fb9f3a\"],[0.8888888888888888,\"#fdca26\"],[1.0,\"#f0f921\"]]}],\"contourcarpet\":[{\"type\":\"contourcarpet\",\"colorbar\":{\"outlinewidth\":0,\"ticks\":\"\"}}],\"contour\":[{\"type\":\"contour\",\"colorbar\":{\"outlinewidth\":0,\"ticks\":\"\"},\"colorscale\":[[0.0,\"#0d0887\"],[0.1111111111111111,\"#46039f\"],[0.2222222222222222,\"#7201a8\"],[0.3333333333333333,\"#9c179e\"],[0.4444444444444444,\"#bd3786\"],[0.5555555555555556,\"#d8576b\"],[0.6666666666666666,\"#ed7953\"],[0.7777777777777778,\"#fb9f3a\"],[0.8888888888888888,\"#fdca26\"],[1.0,\"#f0f921\"]]}],\"surface\":[{\"type\":\"surface\",\"colorbar\":{\"outlinewidth\":0,\"ticks\":\"\"},\"colorscale\":[[0.0,\"#0d0887\"],[0.1111111111111111,\"#46039f\"],[0.2222222222222222,\"#7201a8\"],[0.3333333333333333,\"#9c179e\"],[0.4444444444444444,\"#bd3786\"],[0.5555555555555556,\"#d8576b\"],[0.6666666666666666,\"#ed7953\"],[0.7777777777777778,\"#fb9f3a\"],[0.8888888888888888,\"#fdca26\"],[1.0,\"#f0f921\"]]}],\"mesh3d\":[{\"type\":\"mesh3d\",\"colorbar\":{\"outlinewidth\":0,\"ticks\":\"\"}}],\"scatter\":[{\"fillpattern\":{\"fillmode\":\"overlay\",\"size\":10,\"solidity\":0.2},\"type\":\"scatter\"}],\"parcoords\":[{\"type\":\"parcoords\",\"line\":{\"colorbar\":{\"outlinewidth\":0,\"ticks\":\"\"}}}],\"scatterpolargl\":[{\"type\":\"scatterpolargl\",\"marker\":{\"colorbar\":{\"outlinewidth\":0,\"ticks\":\"\"}}}],\"bar\":[{\"error_x\":{\"color\":\"#2a3f5f\"},\"error_y\":{\"color\":\"#2a3f5f\"},\"marker\":{\"line\":{\"color\":\"#E5ECF6\",\"width\":0.5},\"pattern\":{\"fillmode\":\"overlay\",\"size\":10,\"solidity\":0.2}},\"type\":\"bar\"}],\"scattergeo\":[{\"type\":\"scattergeo\",\"marker\":{\"colorbar\":{\"outlinewidth\":0,\"ticks\":\"\"}}}],\"scatterpolar\":[{\"type\":\"scatterpolar\",\"marker\":{\"colorbar\":{\"outlinewidth\":0,\"ticks\":\"\"}}}],\"histogram\":[{\"marker\":{\"pattern\":{\"fillmode\":\"overlay\",\"size\":10,\"solidity\":0.2}},\"type\":\"histogram\"}],\"scattergl\":[{\"type\":\"scattergl\",\"marker\":{\"colorbar\":{\"outlinewidth\":0,\"ticks\":\"\"}}}],\"scatter3d\":[{\"type\":\"scatter3d\",\"line\":{\"colorbar\":{\"outlinewidth\":0,\"ticks\":\"\"}},\"marker\":{\"colorbar\":{\"outlinewidth\":0,\"ticks\":\"\"}}}],\"scattermap\":[{\"type\":\"scattermap\",\"marker\":{\"colorbar\":{\"outlinewidth\":0,\"ticks\":\"\"}}}],\"scattermapbox\":[{\"type\":\"scattermapbox\",\"marker\":{\"colorbar\":{\"outlinewidth\":0,\"ticks\":\"\"}}}],\"scatterternary\":[{\"type\":\"scatterternary\",\"marker\":{\"colorbar\":{\"outlinewidth\":0,\"ticks\":\"\"}}}],\"scattercarpet\":[{\"type\":\"scattercarpet\",\"marker\":{\"colorbar\":{\"outlinewidth\":0,\"ticks\":\"\"}}}],\"carpet\":[{\"aaxis\":{\"endlinecolor\":\"#2a3f5f\",\"gridcolor\":\"white\",\"linecolor\":\"white\",\"minorgridcolor\":\"white\",\"startlinecolor\":\"#2a3f5f\"},\"baxis\":{\"endlinecolor\":\"#2a3f5f\",\"gridcolor\":\"white\",\"linecolor\":\"white\",\"minorgridcolor\":\"white\",\"startlinecolor\":\"#2a3f5f\"},\"type\":\"carpet\"}],\"table\":[{\"cells\":{\"fill\":{\"color\":\"#EBF0F8\"},\"line\":{\"color\":\"white\"}},\"header\":{\"fill\":{\"color\":\"#C8D4E3\"},\"line\":{\"color\":\"white\"}},\"type\":\"table\"}],\"barpolar\":[{\"marker\":{\"line\":{\"color\":\"#E5ECF6\",\"width\":0.5},\"pattern\":{\"fillmode\":\"overlay\",\"size\":10,\"solidity\":0.2}},\"type\":\"barpolar\"}],\"pie\":[{\"automargin\":true,\"type\":\"pie\"}]},\"layout\":{\"autotypenumbers\":\"strict\",\"colorway\":[\"#636efa\",\"#EF553B\",\"#00cc96\",\"#ab63fa\",\"#FFA15A\",\"#19d3f3\",\"#FF6692\",\"#B6E880\",\"#FF97FF\",\"#FECB52\"],\"font\":{\"color\":\"#2a3f5f\"},\"hovermode\":\"closest\",\"hoverlabel\":{\"align\":\"left\"},\"paper_bgcolor\":\"white\",\"plot_bgcolor\":\"#E5ECF6\",\"polar\":{\"bgcolor\":\"#E5ECF6\",\"angularaxis\":{\"gridcolor\":\"white\",\"linecolor\":\"white\",\"ticks\":\"\"},\"radialaxis\":{\"gridcolor\":\"white\",\"linecolor\":\"white\",\"ticks\":\"\"}},\"ternary\":{\"bgcolor\":\"#E5ECF6\",\"aaxis\":{\"gridcolor\":\"white\",\"linecolor\":\"white\",\"ticks\":\"\"},\"baxis\":{\"gridcolor\":\"white\",\"linecolor\":\"white\",\"ticks\":\"\"},\"caxis\":{\"gridcolor\":\"white\",\"linecolor\":\"white\",\"ticks\":\"\"}},\"coloraxis\":{\"colorbar\":{\"outlinewidth\":0,\"ticks\":\"\"}},\"colorscale\":{\"sequential\":[[0.0,\"#0d0887\"],[0.1111111111111111,\"#46039f\"],[0.2222222222222222,\"#7201a8\"],[0.3333333333333333,\"#9c179e\"],[0.4444444444444444,\"#bd3786\"],[0.5555555555555556,\"#d8576b\"],[0.6666666666666666,\"#ed7953\"],[0.7777777777777778,\"#fb9f3a\"],[0.8888888888888888,\"#fdca26\"],[1.0,\"#f0f921\"]],\"sequentialminus\":[[0.0,\"#0d0887\"],[0.1111111111111111,\"#46039f\"],[0.2222222222222222,\"#7201a8\"],[0.3333333333333333,\"#9c179e\"],[0.4444444444444444,\"#bd3786\"],[0.5555555555555556,\"#d8576b\"],[0.6666666666666666,\"#ed7953\"],[0.7777777777777778,\"#fb9f3a\"],[0.8888888888888888,\"#fdca26\"],[1.0,\"#f0f921\"]],\"diverging\":[[0,\"#8e0152\"],[0.1,\"#c51b7d\"],[0.2,\"#de77ae\"],[0.3,\"#f1b6da\"],[0.4,\"#fde0ef\"],[0.5,\"#f7f7f7\"],[0.6,\"#e6f5d0\"],[0.7,\"#b8e186\"],[0.8,\"#7fbc41\"],[0.9,\"#4d9221\"],[1,\"#276419\"]]},\"xaxis\":{\"gridcolor\":\"white\",\"linecolor\":\"white\",\"ticks\":\"\",\"title\":{\"standoff\":15},\"zerolinecolor\":\"white\",\"automargin\":true,\"zerolinewidth\":2},\"yaxis\":{\"gridcolor\":\"white\",\"linecolor\":\"white\",\"ticks\":\"\",\"title\":{\"standoff\":15},\"zerolinecolor\":\"white\",\"automargin\":true,\"zerolinewidth\":2},\"scene\":{\"xaxis\":{\"backgroundcolor\":\"#E5ECF6\",\"gridcolor\":\"white\",\"linecolor\":\"white\",\"showbackground\":true,\"ticks\":\"\",\"zerolinecolor\":\"white\",\"gridwidth\":2},\"yaxis\":{\"backgroundcolor\":\"#E5ECF6\",\"gridcolor\":\"white\",\"linecolor\":\"white\",\"showbackground\":true,\"ticks\":\"\",\"zerolinecolor\":\"white\",\"gridwidth\":2},\"zaxis\":{\"backgroundcolor\":\"#E5ECF6\",\"gridcolor\":\"white\",\"linecolor\":\"white\",\"showbackground\":true,\"ticks\":\"\",\"zerolinecolor\":\"white\",\"gridwidth\":2}},\"shapedefaults\":{\"line\":{\"color\":\"#2a3f5f\"}},\"annotationdefaults\":{\"arrowcolor\":\"#2a3f5f\",\"arrowhead\":0,\"arrowwidth\":1},\"geo\":{\"bgcolor\":\"white\",\"landcolor\":\"#E5ECF6\",\"subunitcolor\":\"white\",\"showland\":true,\"showlakes\":true,\"lakecolor\":\"white\"},\"title\":{\"x\":0.05},\"mapbox\":{\"style\":\"light\"}}},\"xaxis\":{\"anchor\":\"y\",\"domain\":[0.0,1.0],\"title\":{\"text\":\"birth_year\"}},\"yaxis\":{\"anchor\":\"x\",\"domain\":[0.0,1.0],\"title\":{\"text\":\"mass\"}},\"legend\":{\"tracegroupgap\":0},\"title\":{\"text\":\"Mass vs. Birth Year of Starwars Characters.\"}},                        {\"responsive\": true}                    ).then(function(){\n",
       "                            \n",
       "var gd = document.getElementById('b6bddb0f-a9a9-4b9c-b339-5ec4fb9fa20f');\n",
       "var x = new MutationObserver(function (mutations, observer) {{\n",
       "        var display = window.getComputedStyle(gd).display;\n",
       "        if (!display || display === 'none') {{\n",
       "            console.log([gd, 'removed!']);\n",
       "            Plotly.purge(gd);\n",
       "            observer.disconnect();\n",
       "        }}\n",
       "}});\n",
       "\n",
       "// Listen for the removal of the full notebook cells\n",
       "var notebookContainer = gd.closest('#notebook-container');\n",
       "if (notebookContainer) {{\n",
       "    x.observe(notebookContainer, {childList: true});\n",
       "}}\n",
       "\n",
       "// Listen for the clearing of the current output cell\n",
       "var outputEl = gd.closest('.output');\n",
       "if (outputEl) {{\n",
       "    x.observe(outputEl, {childList: true});\n",
       "}}\n",
       "\n",
       "                        })                };            </script>        </div>\n",
       "</body>\n",
       "</html>"
      ]
     },
     "metadata": {},
     "output_type": "display_data"
    }
   ],
   "source": [
    "# Your code here:\n",
    "fig = px.scatter(DF,\n",
    "                 x='birth_year',\n",
    "                 y='mass',\n",
    "                 title='Mass vs. Birth Year of Starwars Characters.',\n",
    "                 hover_data='name')\n",
    "fig.show()\n"
   ]
  },
  {
   "cell_type": "markdown",
   "id": "0548a2d8-0708-4b97-8150-f3be3f1f0f6d",
   "metadata": {},
   "source": [
    "---------------------------\n",
    "--------------------------\n",
    "\n",
    "## Why Visualize?!?!\n",
    "\n",
    "Load the data for Anscombe's Quartet"
   ]
  },
  {
   "cell_type": "code",
   "execution_count": 31,
   "id": "b9bc6271-6f86-4a1c-8e72-447da749a226",
   "metadata": {},
   "outputs": [],
   "source": [
    "# Load the data\n",
    "#| label: Download data\n",
    "#| warning: false\n",
    "\n",
    "file_location = 'https://joannabieri.com/introdatascience/data/Anscombe_quartet_data.csv'\n",
    "DF_new = pd.read_csv(file_location)\n",
    "\n",
    "# Some code to make the data frame look nicer\n",
    "DF_new = DF_new.drop(['x4'], axis=1)\n",
    "DF_new.rename(columns={'x123':'x'}, inplace=True)"
   ]
  },
  {
   "cell_type": "code",
   "execution_count": 32,
   "id": "ba7e5222-17ca-4963-8d9a-13c65afdacef",
   "metadata": {},
   "outputs": [
    {
     "data": {
      "text/html": [
       "<!--| quarto-html-table-processing: none -->\n",
       "<table id=\"itables_405174cc_9191_489d_8b0f_ad3121d36516\"><tbody><tr>\n",
       "    <td style=\"vertical-align:middle; text-align:left\">\n",
       "    <a href=https://mwouts.github.io/itables/><svg class=\"main-svg\" xmlns=\"http://www.w3.org/2000/svg\" xmlns:xlink=\"http://www.w3.org/1999/xlink\"\n",
       "width=\"64\" viewBox=\"0 0 500 400\" style=\"font-family: 'Droid Sans', sans-serif;\">\n",
       "    <g style=\"fill:#d9d7fc\">\n",
       "        <path d=\"M100,400H500V357H100Z\" />\n",
       "        <path d=\"M100,300H400V257H100Z\" />\n",
       "        <path d=\"M0,200H400V157H0Z\" />\n",
       "        <path d=\"M100,100H500V57H100Z\" />\n",
       "        <path d=\"M100,350H500V307H100Z\" />\n",
       "        <path d=\"M100,250H400V207H100Z\" />\n",
       "        <path d=\"M0,150H400V107H0Z\" />\n",
       "        <path d=\"M100,50H500V7H100Z\" />\n",
       "    </g>\n",
       "    <g style=\"fill:#1a1366;stroke:#1a1366;\">\n",
       "   <rect x=\"100\" y=\"7\" width=\"400\" height=\"43\">\n",
       "    <animate\n",
       "      attributeName=\"width\"\n",
       "      values=\"0;400;0\"\n",
       "      dur=\"5s\"\n",
       "      repeatCount=\"indefinite\" />\n",
       "      <animate\n",
       "      attributeName=\"x\"\n",
       "      values=\"100;100;500\"\n",
       "      dur=\"5s\"\n",
       "      repeatCount=\"indefinite\" />\n",
       "  </rect>\n",
       "        <rect x=\"0\" y=\"107\" width=\"400\" height=\"43\">\n",
       "    <animate\n",
       "      attributeName=\"width\"\n",
       "      values=\"0;400;0\"\n",
       "      dur=\"3.5s\"\n",
       "      repeatCount=\"indefinite\" />\n",
       "    <animate\n",
       "      attributeName=\"x\"\n",
       "      values=\"0;0;400\"\n",
       "      dur=\"3.5s\"\n",
       "      repeatCount=\"indefinite\" />\n",
       "  </rect>\n",
       "        <rect x=\"100\" y=\"207\" width=\"300\" height=\"43\">\n",
       "    <animate\n",
       "      attributeName=\"width\"\n",
       "      values=\"0;300;0\"\n",
       "      dur=\"3s\"\n",
       "      repeatCount=\"indefinite\" />\n",
       "    <animate\n",
       "      attributeName=\"x\"\n",
       "      values=\"100;100;400\"\n",
       "      dur=\"3s\"\n",
       "      repeatCount=\"indefinite\" />\n",
       "  </rect>\n",
       "        <rect x=\"100\" y=\"307\" width=\"400\" height=\"43\">\n",
       "    <animate\n",
       "      attributeName=\"width\"\n",
       "      values=\"0;400;0\"\n",
       "      dur=\"4s\"\n",
       "      repeatCount=\"indefinite\" />\n",
       "      <animate\n",
       "      attributeName=\"x\"\n",
       "      values=\"100;100;500\"\n",
       "      dur=\"4s\"\n",
       "      repeatCount=\"indefinite\" />\n",
       "  </rect>\n",
       "        <g style=\"fill:transparent;stroke-width:8; stroke-linejoin:round\" rx=\"5\">\n",
       "            <g transform=\"translate(45 50) rotate(-45)\">\n",
       "                <circle r=\"33\" cx=\"0\" cy=\"0\" />\n",
       "                <rect x=\"-8\" y=\"32\" width=\"16\" height=\"30\" />\n",
       "            </g>\n",
       "\n",
       "            <g transform=\"translate(450 152)\">\n",
       "                <polyline points=\"-15,-20 -35,-20 -35,40 25,40 25,20\" />\n",
       "                <rect x=\"-15\" y=\"-40\" width=\"60\" height=\"60\" />\n",
       "            </g>\n",
       "\n",
       "            <g transform=\"translate(50 352)\">\n",
       "                <polygon points=\"-35,-5 0,-40 35,-5\" />\n",
       "                <polygon points=\"-35,10 0,45 35,10\" />\n",
       "            </g>\n",
       "\n",
       "            <g transform=\"translate(75 250)\">\n",
       "                <polyline points=\"-30,30 -60,0 -30,-30\" />\n",
       "                <polyline points=\"0,30 -30,0 0,-30\" />\n",
       "            </g>\n",
       "\n",
       "            <g transform=\"translate(425 250) rotate(180)\">\n",
       "                <polyline points=\"-30,30 -60,0 -30,-30\" />\n",
       "                <polyline points=\"0,30 -30,0 0,-30\" />\n",
       "            </g>\n",
       "        </g>\n",
       "    </g>\n",
       "</svg>\n",
       "</a>\n",
       "    Loading ITables v2.5.2 from the internet...\n",
       "    (need <a href=https://mwouts.github.io/itables/troubleshooting.html>help</a>?)</td>\n",
       "    </tr></tbody></table>\n",
       "<link href=\"https://www.unpkg.com/dt_for_itables@2.4.0/dt_bundle.css\" rel=\"stylesheet\">\n",
       "<script type=\"module\">\n",
       "    import { ITable, jQuery as $ } from 'https://www.unpkg.com/dt_for_itables@2.4.0/dt_bundle.js';\n",
       "\n",
       "    document.querySelectorAll(\"#itables_405174cc_9191_489d_8b0f_ad3121d36516:not(.dataTable)\").forEach(table => {\n",
       "        if (!(table instanceof HTMLTableElement))\n",
       "            return;\n",
       "\n",
       "        let dt_args = {\"layout\": {\"topStart\": \"pageLength\", \"topEnd\": \"search\", \"bottomStart\": \"info\", \"bottomEnd\": \"paging\"}, \"order\": [], \"style\": {\"table-layout\": \"auto\", \"width\": \"auto\", \"margin\": \"auto\", \"caption-side\": \"bottom\"}, \"text_in_header_can_be_selected\": true, \"classes\": [\"display\", \"nowrap\"], \"table_html\": \"<table><thead>\\n    <tr style=\\\"text-align: right;\\\">\\n      \\n      <th>x</th>\\n      <th>y1</th>\\n      <th>y2</th>\\n      <th>y3</th>\\n      <th>y4</th>\\n    </tr>\\n  </thead></table>\", \"data_json\": \"[[10.0, 8.04, 9.14, 7.46, 6.58], [8.0, 6.95, 8.14, 6.77, 5.76], [13.0, 7.58, 8.74, 12.74, 7.71], [9.0, 8.81, 8.77, 7.11, 8.84], [11.0, 8.33, 9.26, 7.81, 8.47], [14.0, 9.96, 8.1, 8.84, 7.04], [6.0, 7.24, 6.13, 6.08, 5.25], [4.0, 4.26, 3.1, 5.39, 12.5], [12.0, 10.84, 9.13, 8.15, 5.56], [7.0, 4.82, 7.26, 6.42, 7.91], [5.0, 5.68, 4.74, 5.73, 6.89]]\"};\n",
       "        new ITable(table, dt_args);\n",
       "    });\n",
       "</script>\n"
      ],
      "text/plain": [
       "<IPython.core.display.HTML object>"
      ]
     },
     "metadata": {},
     "output_type": "display_data"
    }
   ],
   "source": [
    "show(DF_new)"
   ]
  },
  {
   "cell_type": "markdown",
   "id": "23bdb68f-b1f3-4a37-8ac9-7c04bfeaddf1",
   "metadata": {},
   "source": [
    "#### Summary Statistics\n",
    "\n",
    "Pandas can do all sorts of statistics for us really quickly using the .describe() function!"
   ]
  },
  {
   "cell_type": "code",
   "execution_count": 33,
   "id": "fb0a1b3b-7b5f-4dc4-82d5-8d747ff5fbff",
   "metadata": {},
   "outputs": [
    {
     "data": {
      "text/html": [
       "<div>\n",
       "<style scoped>\n",
       "    .dataframe tbody tr th:only-of-type {\n",
       "        vertical-align: middle;\n",
       "    }\n",
       "\n",
       "    .dataframe tbody tr th {\n",
       "        vertical-align: top;\n",
       "    }\n",
       "\n",
       "    .dataframe thead th {\n",
       "        text-align: right;\n",
       "    }\n",
       "</style>\n",
       "<table border=\"1\" class=\"dataframe\">\n",
       "  <thead>\n",
       "    <tr style=\"text-align: right;\">\n",
       "      <th></th>\n",
       "      <th>x</th>\n",
       "      <th>y1</th>\n",
       "      <th>y2</th>\n",
       "      <th>y3</th>\n",
       "      <th>y4</th>\n",
       "    </tr>\n",
       "  </thead>\n",
       "  <tbody>\n",
       "    <tr>\n",
       "      <th>count</th>\n",
       "      <td>11.000000</td>\n",
       "      <td>11.000000</td>\n",
       "      <td>11.000000</td>\n",
       "      <td>11.000000</td>\n",
       "      <td>11.000000</td>\n",
       "    </tr>\n",
       "    <tr>\n",
       "      <th>mean</th>\n",
       "      <td>9.000000</td>\n",
       "      <td>7.500909</td>\n",
       "      <td>7.500909</td>\n",
       "      <td>7.500000</td>\n",
       "      <td>7.500909</td>\n",
       "    </tr>\n",
       "    <tr>\n",
       "      <th>std</th>\n",
       "      <td>3.316625</td>\n",
       "      <td>2.031568</td>\n",
       "      <td>2.031657</td>\n",
       "      <td>2.030424</td>\n",
       "      <td>2.030579</td>\n",
       "    </tr>\n",
       "    <tr>\n",
       "      <th>min</th>\n",
       "      <td>4.000000</td>\n",
       "      <td>4.260000</td>\n",
       "      <td>3.100000</td>\n",
       "      <td>5.390000</td>\n",
       "      <td>5.250000</td>\n",
       "    </tr>\n",
       "    <tr>\n",
       "      <th>25%</th>\n",
       "      <td>6.500000</td>\n",
       "      <td>6.315000</td>\n",
       "      <td>6.695000</td>\n",
       "      <td>6.250000</td>\n",
       "      <td>6.170000</td>\n",
       "    </tr>\n",
       "    <tr>\n",
       "      <th>50%</th>\n",
       "      <td>9.000000</td>\n",
       "      <td>7.580000</td>\n",
       "      <td>8.140000</td>\n",
       "      <td>7.110000</td>\n",
       "      <td>7.040000</td>\n",
       "    </tr>\n",
       "    <tr>\n",
       "      <th>75%</th>\n",
       "      <td>11.500000</td>\n",
       "      <td>8.570000</td>\n",
       "      <td>8.950000</td>\n",
       "      <td>7.980000</td>\n",
       "      <td>8.190000</td>\n",
       "    </tr>\n",
       "    <tr>\n",
       "      <th>max</th>\n",
       "      <td>14.000000</td>\n",
       "      <td>10.840000</td>\n",
       "      <td>9.260000</td>\n",
       "      <td>12.740000</td>\n",
       "      <td>12.500000</td>\n",
       "    </tr>\n",
       "  </tbody>\n",
       "</table>\n",
       "</div>"
      ],
      "text/plain": [
       "               x         y1         y2         y3         y4\n",
       "count  11.000000  11.000000  11.000000  11.000000  11.000000\n",
       "mean    9.000000   7.500909   7.500909   7.500000   7.500909\n",
       "std     3.316625   2.031568   2.031657   2.030424   2.030579\n",
       "min     4.000000   4.260000   3.100000   5.390000   5.250000\n",
       "25%     6.500000   6.315000   6.695000   6.250000   6.170000\n",
       "50%     9.000000   7.580000   8.140000   7.110000   7.040000\n",
       "75%    11.500000   8.570000   8.950000   7.980000   8.190000\n",
       "max    14.000000  10.840000   9.260000  12.740000  12.500000"
      ]
     },
     "execution_count": 33,
     "metadata": {},
     "output_type": "execute_result"
    }
   ],
   "source": [
    "DF_new.describe()"
   ]
  },
  {
   "cell_type": "markdown",
   "id": "76a59090-a87f-4684-a2f3-020712926be9",
   "metadata": {},
   "source": [
    "#### Visualization\n",
    "\n",
    "Make a scatter plot for each of the y-values. Here is the first one:"
   ]
  },
  {
   "cell_type": "code",
   "execution_count": 34,
   "id": "45f2d0eb-2144-41d9-81b9-2f21c2b8f66e",
   "metadata": {},
   "outputs": [
    {
     "data": {
      "text/html": [
       "<html>\n",
       "<head><meta charset=\"utf-8\" /></head>\n",
       "<body>\n",
       "    <div>            <script src=\"https://cdnjs.cloudflare.com/ajax/libs/mathjax/2.7.5/MathJax.js?config=TeX-AMS-MML_SVG\"></script><script type=\"text/javascript\">if (window.MathJax && window.MathJax.Hub && window.MathJax.Hub.Config) {window.MathJax.Hub.Config({SVG: {font: \"STIX-Web\"}});}</script>                <script type=\"text/javascript\">window.PlotlyConfig = {MathJaxConfig: 'local'};</script>\n",
       "        <script charset=\"utf-8\" src=\"https://cdn.plot.ly/plotly-3.1.0.min.js\" integrity=\"sha256-Ei4740bWZhaUTQuD6q9yQlgVCMPBz6CZWhevDYPv93A=\" crossorigin=\"anonymous\"></script>                <div id=\"c8864bc1-3ec0-4fa8-b8d3-806c42a3d8f7\" class=\"plotly-graph-div\" style=\"height:525px; width:100%;\"></div>            <script type=\"text/javascript\">                window.PLOTLYENV=window.PLOTLYENV || {};                                if (document.getElementById(\"c8864bc1-3ec0-4fa8-b8d3-806c42a3d8f7\")) {                    Plotly.newPlot(                        \"c8864bc1-3ec0-4fa8-b8d3-806c42a3d8f7\",                        [{\"hovertemplate\":\"x=%{x}\\u003cbr\\u003ey1=%{y}\\u003cextra\\u003e\\u003c\\u002fextra\\u003e\",\"legendgroup\":\"\",\"marker\":{\"color\":\"#636efa\",\"symbol\":\"circle\"},\"mode\":\"markers\",\"name\":\"\",\"orientation\":\"v\",\"showlegend\":false,\"x\":{\"dtype\":\"f8\",\"bdata\":\"AAAAAAAAJEAAAAAAAAAgQAAAAAAAACpAAAAAAAAAIkAAAAAAAAAmQAAAAAAAACxAAAAAAAAAGEAAAAAAAAAQQAAAAAAAAChAAAAAAAAAHEAAAAAAAAAUQA==\"},\"xaxis\":\"x\",\"y\":{\"dtype\":\"f8\",\"bdata\":\"FK5H4XoUIEDNzMzMzMwbQFK4HoXrUR5AH4XrUbieIUApXI\\u002fC9aggQOxRuB6F6yNA9ihcj8L1HEAK16NwPQoRQK5H4XoUriVASOF6FK5HE0C4HoXrUbgWQA==\"},\"yaxis\":\"y\",\"type\":\"scatter\"}],                        {\"template\":{\"data\":{\"histogram2dcontour\":[{\"type\":\"histogram2dcontour\",\"colorbar\":{\"outlinewidth\":0,\"ticks\":\"\"},\"colorscale\":[[0.0,\"#0d0887\"],[0.1111111111111111,\"#46039f\"],[0.2222222222222222,\"#7201a8\"],[0.3333333333333333,\"#9c179e\"],[0.4444444444444444,\"#bd3786\"],[0.5555555555555556,\"#d8576b\"],[0.6666666666666666,\"#ed7953\"],[0.7777777777777778,\"#fb9f3a\"],[0.8888888888888888,\"#fdca26\"],[1.0,\"#f0f921\"]]}],\"choropleth\":[{\"type\":\"choropleth\",\"colorbar\":{\"outlinewidth\":0,\"ticks\":\"\"}}],\"histogram2d\":[{\"type\":\"histogram2d\",\"colorbar\":{\"outlinewidth\":0,\"ticks\":\"\"},\"colorscale\":[[0.0,\"#0d0887\"],[0.1111111111111111,\"#46039f\"],[0.2222222222222222,\"#7201a8\"],[0.3333333333333333,\"#9c179e\"],[0.4444444444444444,\"#bd3786\"],[0.5555555555555556,\"#d8576b\"],[0.6666666666666666,\"#ed7953\"],[0.7777777777777778,\"#fb9f3a\"],[0.8888888888888888,\"#fdca26\"],[1.0,\"#f0f921\"]]}],\"heatmap\":[{\"type\":\"heatmap\",\"colorbar\":{\"outlinewidth\":0,\"ticks\":\"\"},\"colorscale\":[[0.0,\"#0d0887\"],[0.1111111111111111,\"#46039f\"],[0.2222222222222222,\"#7201a8\"],[0.3333333333333333,\"#9c179e\"],[0.4444444444444444,\"#bd3786\"],[0.5555555555555556,\"#d8576b\"],[0.6666666666666666,\"#ed7953\"],[0.7777777777777778,\"#fb9f3a\"],[0.8888888888888888,\"#fdca26\"],[1.0,\"#f0f921\"]]}],\"contourcarpet\":[{\"type\":\"contourcarpet\",\"colorbar\":{\"outlinewidth\":0,\"ticks\":\"\"}}],\"contour\":[{\"type\":\"contour\",\"colorbar\":{\"outlinewidth\":0,\"ticks\":\"\"},\"colorscale\":[[0.0,\"#0d0887\"],[0.1111111111111111,\"#46039f\"],[0.2222222222222222,\"#7201a8\"],[0.3333333333333333,\"#9c179e\"],[0.4444444444444444,\"#bd3786\"],[0.5555555555555556,\"#d8576b\"],[0.6666666666666666,\"#ed7953\"],[0.7777777777777778,\"#fb9f3a\"],[0.8888888888888888,\"#fdca26\"],[1.0,\"#f0f921\"]]}],\"surface\":[{\"type\":\"surface\",\"colorbar\":{\"outlinewidth\":0,\"ticks\":\"\"},\"colorscale\":[[0.0,\"#0d0887\"],[0.1111111111111111,\"#46039f\"],[0.2222222222222222,\"#7201a8\"],[0.3333333333333333,\"#9c179e\"],[0.4444444444444444,\"#bd3786\"],[0.5555555555555556,\"#d8576b\"],[0.6666666666666666,\"#ed7953\"],[0.7777777777777778,\"#fb9f3a\"],[0.8888888888888888,\"#fdca26\"],[1.0,\"#f0f921\"]]}],\"mesh3d\":[{\"type\":\"mesh3d\",\"colorbar\":{\"outlinewidth\":0,\"ticks\":\"\"}}],\"scatter\":[{\"fillpattern\":{\"fillmode\":\"overlay\",\"size\":10,\"solidity\":0.2},\"type\":\"scatter\"}],\"parcoords\":[{\"type\":\"parcoords\",\"line\":{\"colorbar\":{\"outlinewidth\":0,\"ticks\":\"\"}}}],\"scatterpolargl\":[{\"type\":\"scatterpolargl\",\"marker\":{\"colorbar\":{\"outlinewidth\":0,\"ticks\":\"\"}}}],\"bar\":[{\"error_x\":{\"color\":\"#2a3f5f\"},\"error_y\":{\"color\":\"#2a3f5f\"},\"marker\":{\"line\":{\"color\":\"#E5ECF6\",\"width\":0.5},\"pattern\":{\"fillmode\":\"overlay\",\"size\":10,\"solidity\":0.2}},\"type\":\"bar\"}],\"scattergeo\":[{\"type\":\"scattergeo\",\"marker\":{\"colorbar\":{\"outlinewidth\":0,\"ticks\":\"\"}}}],\"scatterpolar\":[{\"type\":\"scatterpolar\",\"marker\":{\"colorbar\":{\"outlinewidth\":0,\"ticks\":\"\"}}}],\"histogram\":[{\"marker\":{\"pattern\":{\"fillmode\":\"overlay\",\"size\":10,\"solidity\":0.2}},\"type\":\"histogram\"}],\"scattergl\":[{\"type\":\"scattergl\",\"marker\":{\"colorbar\":{\"outlinewidth\":0,\"ticks\":\"\"}}}],\"scatter3d\":[{\"type\":\"scatter3d\",\"line\":{\"colorbar\":{\"outlinewidth\":0,\"ticks\":\"\"}},\"marker\":{\"colorbar\":{\"outlinewidth\":0,\"ticks\":\"\"}}}],\"scattermap\":[{\"type\":\"scattermap\",\"marker\":{\"colorbar\":{\"outlinewidth\":0,\"ticks\":\"\"}}}],\"scattermapbox\":[{\"type\":\"scattermapbox\",\"marker\":{\"colorbar\":{\"outlinewidth\":0,\"ticks\":\"\"}}}],\"scatterternary\":[{\"type\":\"scatterternary\",\"marker\":{\"colorbar\":{\"outlinewidth\":0,\"ticks\":\"\"}}}],\"scattercarpet\":[{\"type\":\"scattercarpet\",\"marker\":{\"colorbar\":{\"outlinewidth\":0,\"ticks\":\"\"}}}],\"carpet\":[{\"aaxis\":{\"endlinecolor\":\"#2a3f5f\",\"gridcolor\":\"white\",\"linecolor\":\"white\",\"minorgridcolor\":\"white\",\"startlinecolor\":\"#2a3f5f\"},\"baxis\":{\"endlinecolor\":\"#2a3f5f\",\"gridcolor\":\"white\",\"linecolor\":\"white\",\"minorgridcolor\":\"white\",\"startlinecolor\":\"#2a3f5f\"},\"type\":\"carpet\"}],\"table\":[{\"cells\":{\"fill\":{\"color\":\"#EBF0F8\"},\"line\":{\"color\":\"white\"}},\"header\":{\"fill\":{\"color\":\"#C8D4E3\"},\"line\":{\"color\":\"white\"}},\"type\":\"table\"}],\"barpolar\":[{\"marker\":{\"line\":{\"color\":\"#E5ECF6\",\"width\":0.5},\"pattern\":{\"fillmode\":\"overlay\",\"size\":10,\"solidity\":0.2}},\"type\":\"barpolar\"}],\"pie\":[{\"automargin\":true,\"type\":\"pie\"}]},\"layout\":{\"autotypenumbers\":\"strict\",\"colorway\":[\"#636efa\",\"#EF553B\",\"#00cc96\",\"#ab63fa\",\"#FFA15A\",\"#19d3f3\",\"#FF6692\",\"#B6E880\",\"#FF97FF\",\"#FECB52\"],\"font\":{\"color\":\"#2a3f5f\"},\"hovermode\":\"closest\",\"hoverlabel\":{\"align\":\"left\"},\"paper_bgcolor\":\"white\",\"plot_bgcolor\":\"#E5ECF6\",\"polar\":{\"bgcolor\":\"#E5ECF6\",\"angularaxis\":{\"gridcolor\":\"white\",\"linecolor\":\"white\",\"ticks\":\"\"},\"radialaxis\":{\"gridcolor\":\"white\",\"linecolor\":\"white\",\"ticks\":\"\"}},\"ternary\":{\"bgcolor\":\"#E5ECF6\",\"aaxis\":{\"gridcolor\":\"white\",\"linecolor\":\"white\",\"ticks\":\"\"},\"baxis\":{\"gridcolor\":\"white\",\"linecolor\":\"white\",\"ticks\":\"\"},\"caxis\":{\"gridcolor\":\"white\",\"linecolor\":\"white\",\"ticks\":\"\"}},\"coloraxis\":{\"colorbar\":{\"outlinewidth\":0,\"ticks\":\"\"}},\"colorscale\":{\"sequential\":[[0.0,\"#0d0887\"],[0.1111111111111111,\"#46039f\"],[0.2222222222222222,\"#7201a8\"],[0.3333333333333333,\"#9c179e\"],[0.4444444444444444,\"#bd3786\"],[0.5555555555555556,\"#d8576b\"],[0.6666666666666666,\"#ed7953\"],[0.7777777777777778,\"#fb9f3a\"],[0.8888888888888888,\"#fdca26\"],[1.0,\"#f0f921\"]],\"sequentialminus\":[[0.0,\"#0d0887\"],[0.1111111111111111,\"#46039f\"],[0.2222222222222222,\"#7201a8\"],[0.3333333333333333,\"#9c179e\"],[0.4444444444444444,\"#bd3786\"],[0.5555555555555556,\"#d8576b\"],[0.6666666666666666,\"#ed7953\"],[0.7777777777777778,\"#fb9f3a\"],[0.8888888888888888,\"#fdca26\"],[1.0,\"#f0f921\"]],\"diverging\":[[0,\"#8e0152\"],[0.1,\"#c51b7d\"],[0.2,\"#de77ae\"],[0.3,\"#f1b6da\"],[0.4,\"#fde0ef\"],[0.5,\"#f7f7f7\"],[0.6,\"#e6f5d0\"],[0.7,\"#b8e186\"],[0.8,\"#7fbc41\"],[0.9,\"#4d9221\"],[1,\"#276419\"]]},\"xaxis\":{\"gridcolor\":\"white\",\"linecolor\":\"white\",\"ticks\":\"\",\"title\":{\"standoff\":15},\"zerolinecolor\":\"white\",\"automargin\":true,\"zerolinewidth\":2},\"yaxis\":{\"gridcolor\":\"white\",\"linecolor\":\"white\",\"ticks\":\"\",\"title\":{\"standoff\":15},\"zerolinecolor\":\"white\",\"automargin\":true,\"zerolinewidth\":2},\"scene\":{\"xaxis\":{\"backgroundcolor\":\"#E5ECF6\",\"gridcolor\":\"white\",\"linecolor\":\"white\",\"showbackground\":true,\"ticks\":\"\",\"zerolinecolor\":\"white\",\"gridwidth\":2},\"yaxis\":{\"backgroundcolor\":\"#E5ECF6\",\"gridcolor\":\"white\",\"linecolor\":\"white\",\"showbackground\":true,\"ticks\":\"\",\"zerolinecolor\":\"white\",\"gridwidth\":2},\"zaxis\":{\"backgroundcolor\":\"#E5ECF6\",\"gridcolor\":\"white\",\"linecolor\":\"white\",\"showbackground\":true,\"ticks\":\"\",\"zerolinecolor\":\"white\",\"gridwidth\":2}},\"shapedefaults\":{\"line\":{\"color\":\"#2a3f5f\"}},\"annotationdefaults\":{\"arrowcolor\":\"#2a3f5f\",\"arrowhead\":0,\"arrowwidth\":1},\"geo\":{\"bgcolor\":\"white\",\"landcolor\":\"#E5ECF6\",\"subunitcolor\":\"white\",\"showland\":true,\"showlakes\":true,\"lakecolor\":\"white\"},\"title\":{\"x\":0.05},\"mapbox\":{\"style\":\"light\"}}},\"xaxis\":{\"anchor\":\"y\",\"domain\":[0.0,1.0],\"title\":{\"text\":\"x\"}},\"yaxis\":{\"anchor\":\"x\",\"domain\":[0.0,1.0],\"title\":{\"text\":\"y1\"}},\"legend\":{\"tracegroupgap\":0},\"title\":{\"text\":\"x vs y1\"}},                        {\"responsive\": true}                    ).then(function(){\n",
       "                            \n",
       "var gd = document.getElementById('c8864bc1-3ec0-4fa8-b8d3-806c42a3d8f7');\n",
       "var x = new MutationObserver(function (mutations, observer) {{\n",
       "        var display = window.getComputedStyle(gd).display;\n",
       "        if (!display || display === 'none') {{\n",
       "            console.log([gd, 'removed!']);\n",
       "            Plotly.purge(gd);\n",
       "            observer.disconnect();\n",
       "        }}\n",
       "}});\n",
       "\n",
       "// Listen for the removal of the full notebook cells\n",
       "var notebookContainer = gd.closest('#notebook-container');\n",
       "if (notebookContainer) {{\n",
       "    x.observe(notebookContainer, {childList: true});\n",
       "}}\n",
       "\n",
       "// Listen for the clearing of the current output cell\n",
       "var outputEl = gd.closest('.output');\n",
       "if (outputEl) {{\n",
       "    x.observe(outputEl, {childList: true});\n",
       "}}\n",
       "\n",
       "                        })                };            </script>        </div>\n",
       "</body>\n",
       "</html>"
      ]
     },
     "metadata": {},
     "output_type": "display_data"
    }
   ],
   "source": [
    "fig = px.scatter(DF_new,x='x',y='y1',title='x vs y1')\n",
    "fig.show()"
   ]
  },
  {
   "cell_type": "markdown",
   "id": "31da2430-beba-43f4-8443-336201ed777b",
   "metadata": {},
   "source": [
    "**Q8** Now you make the other three plots! What do you notice? Are they all the same?"
   ]
  },
  {
   "cell_type": "code",
   "execution_count": 35,
   "id": "06399ea8-da0c-47ce-a945-6b5448c66933",
   "metadata": {},
   "outputs": [
    {
     "data": {
      "text/html": [
       "<html>\n",
       "<head><meta charset=\"utf-8\" /></head>\n",
       "<body>\n",
       "    <div>            <script src=\"https://cdnjs.cloudflare.com/ajax/libs/mathjax/2.7.5/MathJax.js?config=TeX-AMS-MML_SVG\"></script><script type=\"text/javascript\">if (window.MathJax && window.MathJax.Hub && window.MathJax.Hub.Config) {window.MathJax.Hub.Config({SVG: {font: \"STIX-Web\"}});}</script>                <script type=\"text/javascript\">window.PlotlyConfig = {MathJaxConfig: 'local'};</script>\n",
       "        <script charset=\"utf-8\" src=\"https://cdn.plot.ly/plotly-3.1.0.min.js\" integrity=\"sha256-Ei4740bWZhaUTQuD6q9yQlgVCMPBz6CZWhevDYPv93A=\" crossorigin=\"anonymous\"></script>                <div id=\"1adef744-86a0-4208-adb5-f37e074ee352\" class=\"plotly-graph-div\" style=\"height:525px; width:100%;\"></div>            <script type=\"text/javascript\">                window.PLOTLYENV=window.PLOTLYENV || {};                                if (document.getElementById(\"1adef744-86a0-4208-adb5-f37e074ee352\")) {                    Plotly.newPlot(                        \"1adef744-86a0-4208-adb5-f37e074ee352\",                        [{\"hovertemplate\":\"x=%{x}\\u003cbr\\u003ey2=%{y}\\u003cextra\\u003e\\u003c\\u002fextra\\u003e\",\"legendgroup\":\"\",\"marker\":{\"color\":\"#636efa\",\"symbol\":\"circle\"},\"mode\":\"markers\",\"name\":\"\",\"orientation\":\"v\",\"showlegend\":false,\"x\":{\"dtype\":\"f8\",\"bdata\":\"AAAAAAAAJEAAAAAAAAAgQAAAAAAAACpAAAAAAAAAIkAAAAAAAAAmQAAAAAAAACxAAAAAAAAAGEAAAAAAAAAQQAAAAAAAAChAAAAAAAAAHEAAAAAAAAAUQA==\"},\"xaxis\":\"x\",\"y\":{\"dtype\":\"f8\",\"bdata\":\"SOF6FK5HIkBI4XoUrkcgQHsUrkfheiFACtejcD2KIUCF61G4HoUiQDMzMzMzMyBAhetRuB6FGEDNzMzMzMwIQMP1KFyPQiJACtejcD0KHUD2KFyPwvUSQA==\"},\"yaxis\":\"y\",\"type\":\"scatter\"}],                        {\"template\":{\"data\":{\"histogram2dcontour\":[{\"type\":\"histogram2dcontour\",\"colorbar\":{\"outlinewidth\":0,\"ticks\":\"\"},\"colorscale\":[[0.0,\"#0d0887\"],[0.1111111111111111,\"#46039f\"],[0.2222222222222222,\"#7201a8\"],[0.3333333333333333,\"#9c179e\"],[0.4444444444444444,\"#bd3786\"],[0.5555555555555556,\"#d8576b\"],[0.6666666666666666,\"#ed7953\"],[0.7777777777777778,\"#fb9f3a\"],[0.8888888888888888,\"#fdca26\"],[1.0,\"#f0f921\"]]}],\"choropleth\":[{\"type\":\"choropleth\",\"colorbar\":{\"outlinewidth\":0,\"ticks\":\"\"}}],\"histogram2d\":[{\"type\":\"histogram2d\",\"colorbar\":{\"outlinewidth\":0,\"ticks\":\"\"},\"colorscale\":[[0.0,\"#0d0887\"],[0.1111111111111111,\"#46039f\"],[0.2222222222222222,\"#7201a8\"],[0.3333333333333333,\"#9c179e\"],[0.4444444444444444,\"#bd3786\"],[0.5555555555555556,\"#d8576b\"],[0.6666666666666666,\"#ed7953\"],[0.7777777777777778,\"#fb9f3a\"],[0.8888888888888888,\"#fdca26\"],[1.0,\"#f0f921\"]]}],\"heatmap\":[{\"type\":\"heatmap\",\"colorbar\":{\"outlinewidth\":0,\"ticks\":\"\"},\"colorscale\":[[0.0,\"#0d0887\"],[0.1111111111111111,\"#46039f\"],[0.2222222222222222,\"#7201a8\"],[0.3333333333333333,\"#9c179e\"],[0.4444444444444444,\"#bd3786\"],[0.5555555555555556,\"#d8576b\"],[0.6666666666666666,\"#ed7953\"],[0.7777777777777778,\"#fb9f3a\"],[0.8888888888888888,\"#fdca26\"],[1.0,\"#f0f921\"]]}],\"contourcarpet\":[{\"type\":\"contourcarpet\",\"colorbar\":{\"outlinewidth\":0,\"ticks\":\"\"}}],\"contour\":[{\"type\":\"contour\",\"colorbar\":{\"outlinewidth\":0,\"ticks\":\"\"},\"colorscale\":[[0.0,\"#0d0887\"],[0.1111111111111111,\"#46039f\"],[0.2222222222222222,\"#7201a8\"],[0.3333333333333333,\"#9c179e\"],[0.4444444444444444,\"#bd3786\"],[0.5555555555555556,\"#d8576b\"],[0.6666666666666666,\"#ed7953\"],[0.7777777777777778,\"#fb9f3a\"],[0.8888888888888888,\"#fdca26\"],[1.0,\"#f0f921\"]]}],\"surface\":[{\"type\":\"surface\",\"colorbar\":{\"outlinewidth\":0,\"ticks\":\"\"},\"colorscale\":[[0.0,\"#0d0887\"],[0.1111111111111111,\"#46039f\"],[0.2222222222222222,\"#7201a8\"],[0.3333333333333333,\"#9c179e\"],[0.4444444444444444,\"#bd3786\"],[0.5555555555555556,\"#d8576b\"],[0.6666666666666666,\"#ed7953\"],[0.7777777777777778,\"#fb9f3a\"],[0.8888888888888888,\"#fdca26\"],[1.0,\"#f0f921\"]]}],\"mesh3d\":[{\"type\":\"mesh3d\",\"colorbar\":{\"outlinewidth\":0,\"ticks\":\"\"}}],\"scatter\":[{\"fillpattern\":{\"fillmode\":\"overlay\",\"size\":10,\"solidity\":0.2},\"type\":\"scatter\"}],\"parcoords\":[{\"type\":\"parcoords\",\"line\":{\"colorbar\":{\"outlinewidth\":0,\"ticks\":\"\"}}}],\"scatterpolargl\":[{\"type\":\"scatterpolargl\",\"marker\":{\"colorbar\":{\"outlinewidth\":0,\"ticks\":\"\"}}}],\"bar\":[{\"error_x\":{\"color\":\"#2a3f5f\"},\"error_y\":{\"color\":\"#2a3f5f\"},\"marker\":{\"line\":{\"color\":\"#E5ECF6\",\"width\":0.5},\"pattern\":{\"fillmode\":\"overlay\",\"size\":10,\"solidity\":0.2}},\"type\":\"bar\"}],\"scattergeo\":[{\"type\":\"scattergeo\",\"marker\":{\"colorbar\":{\"outlinewidth\":0,\"ticks\":\"\"}}}],\"scatterpolar\":[{\"type\":\"scatterpolar\",\"marker\":{\"colorbar\":{\"outlinewidth\":0,\"ticks\":\"\"}}}],\"histogram\":[{\"marker\":{\"pattern\":{\"fillmode\":\"overlay\",\"size\":10,\"solidity\":0.2}},\"type\":\"histogram\"}],\"scattergl\":[{\"type\":\"scattergl\",\"marker\":{\"colorbar\":{\"outlinewidth\":0,\"ticks\":\"\"}}}],\"scatter3d\":[{\"type\":\"scatter3d\",\"line\":{\"colorbar\":{\"outlinewidth\":0,\"ticks\":\"\"}},\"marker\":{\"colorbar\":{\"outlinewidth\":0,\"ticks\":\"\"}}}],\"scattermap\":[{\"type\":\"scattermap\",\"marker\":{\"colorbar\":{\"outlinewidth\":0,\"ticks\":\"\"}}}],\"scattermapbox\":[{\"type\":\"scattermapbox\",\"marker\":{\"colorbar\":{\"outlinewidth\":0,\"ticks\":\"\"}}}],\"scatterternary\":[{\"type\":\"scatterternary\",\"marker\":{\"colorbar\":{\"outlinewidth\":0,\"ticks\":\"\"}}}],\"scattercarpet\":[{\"type\":\"scattercarpet\",\"marker\":{\"colorbar\":{\"outlinewidth\":0,\"ticks\":\"\"}}}],\"carpet\":[{\"aaxis\":{\"endlinecolor\":\"#2a3f5f\",\"gridcolor\":\"white\",\"linecolor\":\"white\",\"minorgridcolor\":\"white\",\"startlinecolor\":\"#2a3f5f\"},\"baxis\":{\"endlinecolor\":\"#2a3f5f\",\"gridcolor\":\"white\",\"linecolor\":\"white\",\"minorgridcolor\":\"white\",\"startlinecolor\":\"#2a3f5f\"},\"type\":\"carpet\"}],\"table\":[{\"cells\":{\"fill\":{\"color\":\"#EBF0F8\"},\"line\":{\"color\":\"white\"}},\"header\":{\"fill\":{\"color\":\"#C8D4E3\"},\"line\":{\"color\":\"white\"}},\"type\":\"table\"}],\"barpolar\":[{\"marker\":{\"line\":{\"color\":\"#E5ECF6\",\"width\":0.5},\"pattern\":{\"fillmode\":\"overlay\",\"size\":10,\"solidity\":0.2}},\"type\":\"barpolar\"}],\"pie\":[{\"automargin\":true,\"type\":\"pie\"}]},\"layout\":{\"autotypenumbers\":\"strict\",\"colorway\":[\"#636efa\",\"#EF553B\",\"#00cc96\",\"#ab63fa\",\"#FFA15A\",\"#19d3f3\",\"#FF6692\",\"#B6E880\",\"#FF97FF\",\"#FECB52\"],\"font\":{\"color\":\"#2a3f5f\"},\"hovermode\":\"closest\",\"hoverlabel\":{\"align\":\"left\"},\"paper_bgcolor\":\"white\",\"plot_bgcolor\":\"#E5ECF6\",\"polar\":{\"bgcolor\":\"#E5ECF6\",\"angularaxis\":{\"gridcolor\":\"white\",\"linecolor\":\"white\",\"ticks\":\"\"},\"radialaxis\":{\"gridcolor\":\"white\",\"linecolor\":\"white\",\"ticks\":\"\"}},\"ternary\":{\"bgcolor\":\"#E5ECF6\",\"aaxis\":{\"gridcolor\":\"white\",\"linecolor\":\"white\",\"ticks\":\"\"},\"baxis\":{\"gridcolor\":\"white\",\"linecolor\":\"white\",\"ticks\":\"\"},\"caxis\":{\"gridcolor\":\"white\",\"linecolor\":\"white\",\"ticks\":\"\"}},\"coloraxis\":{\"colorbar\":{\"outlinewidth\":0,\"ticks\":\"\"}},\"colorscale\":{\"sequential\":[[0.0,\"#0d0887\"],[0.1111111111111111,\"#46039f\"],[0.2222222222222222,\"#7201a8\"],[0.3333333333333333,\"#9c179e\"],[0.4444444444444444,\"#bd3786\"],[0.5555555555555556,\"#d8576b\"],[0.6666666666666666,\"#ed7953\"],[0.7777777777777778,\"#fb9f3a\"],[0.8888888888888888,\"#fdca26\"],[1.0,\"#f0f921\"]],\"sequentialminus\":[[0.0,\"#0d0887\"],[0.1111111111111111,\"#46039f\"],[0.2222222222222222,\"#7201a8\"],[0.3333333333333333,\"#9c179e\"],[0.4444444444444444,\"#bd3786\"],[0.5555555555555556,\"#d8576b\"],[0.6666666666666666,\"#ed7953\"],[0.7777777777777778,\"#fb9f3a\"],[0.8888888888888888,\"#fdca26\"],[1.0,\"#f0f921\"]],\"diverging\":[[0,\"#8e0152\"],[0.1,\"#c51b7d\"],[0.2,\"#de77ae\"],[0.3,\"#f1b6da\"],[0.4,\"#fde0ef\"],[0.5,\"#f7f7f7\"],[0.6,\"#e6f5d0\"],[0.7,\"#b8e186\"],[0.8,\"#7fbc41\"],[0.9,\"#4d9221\"],[1,\"#276419\"]]},\"xaxis\":{\"gridcolor\":\"white\",\"linecolor\":\"white\",\"ticks\":\"\",\"title\":{\"standoff\":15},\"zerolinecolor\":\"white\",\"automargin\":true,\"zerolinewidth\":2},\"yaxis\":{\"gridcolor\":\"white\",\"linecolor\":\"white\",\"ticks\":\"\",\"title\":{\"standoff\":15},\"zerolinecolor\":\"white\",\"automargin\":true,\"zerolinewidth\":2},\"scene\":{\"xaxis\":{\"backgroundcolor\":\"#E5ECF6\",\"gridcolor\":\"white\",\"linecolor\":\"white\",\"showbackground\":true,\"ticks\":\"\",\"zerolinecolor\":\"white\",\"gridwidth\":2},\"yaxis\":{\"backgroundcolor\":\"#E5ECF6\",\"gridcolor\":\"white\",\"linecolor\":\"white\",\"showbackground\":true,\"ticks\":\"\",\"zerolinecolor\":\"white\",\"gridwidth\":2},\"zaxis\":{\"backgroundcolor\":\"#E5ECF6\",\"gridcolor\":\"white\",\"linecolor\":\"white\",\"showbackground\":true,\"ticks\":\"\",\"zerolinecolor\":\"white\",\"gridwidth\":2}},\"shapedefaults\":{\"line\":{\"color\":\"#2a3f5f\"}},\"annotationdefaults\":{\"arrowcolor\":\"#2a3f5f\",\"arrowhead\":0,\"arrowwidth\":1},\"geo\":{\"bgcolor\":\"white\",\"landcolor\":\"#E5ECF6\",\"subunitcolor\":\"white\",\"showland\":true,\"showlakes\":true,\"lakecolor\":\"white\"},\"title\":{\"x\":0.05},\"mapbox\":{\"style\":\"light\"}}},\"xaxis\":{\"anchor\":\"y\",\"domain\":[0.0,1.0],\"title\":{\"text\":\"x\"}},\"yaxis\":{\"anchor\":\"x\",\"domain\":[0.0,1.0],\"title\":{\"text\":\"y2\"}},\"legend\":{\"tracegroupgap\":0},\"title\":{\"text\":\"x vs y2\"}},                        {\"responsive\": true}                    ).then(function(){\n",
       "                            \n",
       "var gd = document.getElementById('1adef744-86a0-4208-adb5-f37e074ee352');\n",
       "var x = new MutationObserver(function (mutations, observer) {{\n",
       "        var display = window.getComputedStyle(gd).display;\n",
       "        if (!display || display === 'none') {{\n",
       "            console.log([gd, 'removed!']);\n",
       "            Plotly.purge(gd);\n",
       "            observer.disconnect();\n",
       "        }}\n",
       "}});\n",
       "\n",
       "// Listen for the removal of the full notebook cells\n",
       "var notebookContainer = gd.closest('#notebook-container');\n",
       "if (notebookContainer) {{\n",
       "    x.observe(notebookContainer, {childList: true});\n",
       "}}\n",
       "\n",
       "// Listen for the clearing of the current output cell\n",
       "var outputEl = gd.closest('.output');\n",
       "if (outputEl) {{\n",
       "    x.observe(outputEl, {childList: true});\n",
       "}}\n",
       "\n",
       "                        })                };            </script>        </div>\n",
       "</body>\n",
       "</html>"
      ]
     },
     "metadata": {},
     "output_type": "display_data"
    }
   ],
   "source": [
    "# Your code here:\n",
    "fig = px.scatter(DF_new,x='x',y='y2',title='x vs y2')\n",
    "fig.show()"
   ]
  },
  {
   "cell_type": "code",
   "execution_count": 55,
   "id": "97f1144f-71a4-470d-8baa-6eec5531088c",
   "metadata": {},
   "outputs": [
    {
     "data": {
      "text/html": [
       "<html>\n",
       "<head><meta charset=\"utf-8\" /></head>\n",
       "<body>\n",
       "    <div>            <script src=\"https://cdnjs.cloudflare.com/ajax/libs/mathjax/2.7.5/MathJax.js?config=TeX-AMS-MML_SVG\"></script><script type=\"text/javascript\">if (window.MathJax && window.MathJax.Hub && window.MathJax.Hub.Config) {window.MathJax.Hub.Config({SVG: {font: \"STIX-Web\"}});}</script>                <script type=\"text/javascript\">window.PlotlyConfig = {MathJaxConfig: 'local'};</script>\n",
       "        <script charset=\"utf-8\" src=\"https://cdn.plot.ly/plotly-3.1.0.min.js\" integrity=\"sha256-Ei4740bWZhaUTQuD6q9yQlgVCMPBz6CZWhevDYPv93A=\" crossorigin=\"anonymous\"></script>                <div id=\"44dcc9fa-9448-4e9e-a21c-cd991a19dea8\" class=\"plotly-graph-div\" style=\"height:525px; width:100%;\"></div>            <script type=\"text/javascript\">                window.PLOTLYENV=window.PLOTLYENV || {};                                if (document.getElementById(\"44dcc9fa-9448-4e9e-a21c-cd991a19dea8\")) {                    Plotly.newPlot(                        \"44dcc9fa-9448-4e9e-a21c-cd991a19dea8\",                        [{\"hovertemplate\":\"x=%{x}\\u003cbr\\u003ey3=%{y}\\u003cextra\\u003e\\u003c\\u002fextra\\u003e\",\"legendgroup\":\"\",\"marker\":{\"color\":\"#636efa\",\"symbol\":\"circle\"},\"mode\":\"markers\",\"name\":\"\",\"orientation\":\"v\",\"showlegend\":false,\"x\":{\"dtype\":\"f8\",\"bdata\":\"AAAAAAAAJEAAAAAAAAAgQAAAAAAAACpAAAAAAAAAIkAAAAAAAAAmQAAAAAAAACxAAAAAAAAAGEAAAAAAAAAQQAAAAAAAAChAAAAAAAAAHEAAAAAAAAAUQA==\"},\"xaxis\":\"x\",\"y\":{\"dtype\":\"f8\",\"bdata\":\"16NwPQrXHUAUrkfhehQbQHsUrkfheilAcT0K16NwHEA9CtejcD0fQK5H4XoUriFAUrgehetRGECPwvUoXI8VQM3MzMzMTCBArkfhehSuGUDsUbgehesWQA==\"},\"yaxis\":\"y\",\"type\":\"scatter\"}],                        {\"template\":{\"data\":{\"histogram2dcontour\":[{\"type\":\"histogram2dcontour\",\"colorbar\":{\"outlinewidth\":0,\"ticks\":\"\"},\"colorscale\":[[0.0,\"#0d0887\"],[0.1111111111111111,\"#46039f\"],[0.2222222222222222,\"#7201a8\"],[0.3333333333333333,\"#9c179e\"],[0.4444444444444444,\"#bd3786\"],[0.5555555555555556,\"#d8576b\"],[0.6666666666666666,\"#ed7953\"],[0.7777777777777778,\"#fb9f3a\"],[0.8888888888888888,\"#fdca26\"],[1.0,\"#f0f921\"]]}],\"choropleth\":[{\"type\":\"choropleth\",\"colorbar\":{\"outlinewidth\":0,\"ticks\":\"\"}}],\"histogram2d\":[{\"type\":\"histogram2d\",\"colorbar\":{\"outlinewidth\":0,\"ticks\":\"\"},\"colorscale\":[[0.0,\"#0d0887\"],[0.1111111111111111,\"#46039f\"],[0.2222222222222222,\"#7201a8\"],[0.3333333333333333,\"#9c179e\"],[0.4444444444444444,\"#bd3786\"],[0.5555555555555556,\"#d8576b\"],[0.6666666666666666,\"#ed7953\"],[0.7777777777777778,\"#fb9f3a\"],[0.8888888888888888,\"#fdca26\"],[1.0,\"#f0f921\"]]}],\"heatmap\":[{\"type\":\"heatmap\",\"colorbar\":{\"outlinewidth\":0,\"ticks\":\"\"},\"colorscale\":[[0.0,\"#0d0887\"],[0.1111111111111111,\"#46039f\"],[0.2222222222222222,\"#7201a8\"],[0.3333333333333333,\"#9c179e\"],[0.4444444444444444,\"#bd3786\"],[0.5555555555555556,\"#d8576b\"],[0.6666666666666666,\"#ed7953\"],[0.7777777777777778,\"#fb9f3a\"],[0.8888888888888888,\"#fdca26\"],[1.0,\"#f0f921\"]]}],\"contourcarpet\":[{\"type\":\"contourcarpet\",\"colorbar\":{\"outlinewidth\":0,\"ticks\":\"\"}}],\"contour\":[{\"type\":\"contour\",\"colorbar\":{\"outlinewidth\":0,\"ticks\":\"\"},\"colorscale\":[[0.0,\"#0d0887\"],[0.1111111111111111,\"#46039f\"],[0.2222222222222222,\"#7201a8\"],[0.3333333333333333,\"#9c179e\"],[0.4444444444444444,\"#bd3786\"],[0.5555555555555556,\"#d8576b\"],[0.6666666666666666,\"#ed7953\"],[0.7777777777777778,\"#fb9f3a\"],[0.8888888888888888,\"#fdca26\"],[1.0,\"#f0f921\"]]}],\"surface\":[{\"type\":\"surface\",\"colorbar\":{\"outlinewidth\":0,\"ticks\":\"\"},\"colorscale\":[[0.0,\"#0d0887\"],[0.1111111111111111,\"#46039f\"],[0.2222222222222222,\"#7201a8\"],[0.3333333333333333,\"#9c179e\"],[0.4444444444444444,\"#bd3786\"],[0.5555555555555556,\"#d8576b\"],[0.6666666666666666,\"#ed7953\"],[0.7777777777777778,\"#fb9f3a\"],[0.8888888888888888,\"#fdca26\"],[1.0,\"#f0f921\"]]}],\"mesh3d\":[{\"type\":\"mesh3d\",\"colorbar\":{\"outlinewidth\":0,\"ticks\":\"\"}}],\"scatter\":[{\"fillpattern\":{\"fillmode\":\"overlay\",\"size\":10,\"solidity\":0.2},\"type\":\"scatter\"}],\"parcoords\":[{\"type\":\"parcoords\",\"line\":{\"colorbar\":{\"outlinewidth\":0,\"ticks\":\"\"}}}],\"scatterpolargl\":[{\"type\":\"scatterpolargl\",\"marker\":{\"colorbar\":{\"outlinewidth\":0,\"ticks\":\"\"}}}],\"bar\":[{\"error_x\":{\"color\":\"#2a3f5f\"},\"error_y\":{\"color\":\"#2a3f5f\"},\"marker\":{\"line\":{\"color\":\"#E5ECF6\",\"width\":0.5},\"pattern\":{\"fillmode\":\"overlay\",\"size\":10,\"solidity\":0.2}},\"type\":\"bar\"}],\"scattergeo\":[{\"type\":\"scattergeo\",\"marker\":{\"colorbar\":{\"outlinewidth\":0,\"ticks\":\"\"}}}],\"scatterpolar\":[{\"type\":\"scatterpolar\",\"marker\":{\"colorbar\":{\"outlinewidth\":0,\"ticks\":\"\"}}}],\"histogram\":[{\"marker\":{\"pattern\":{\"fillmode\":\"overlay\",\"size\":10,\"solidity\":0.2}},\"type\":\"histogram\"}],\"scattergl\":[{\"type\":\"scattergl\",\"marker\":{\"colorbar\":{\"outlinewidth\":0,\"ticks\":\"\"}}}],\"scatter3d\":[{\"type\":\"scatter3d\",\"line\":{\"colorbar\":{\"outlinewidth\":0,\"ticks\":\"\"}},\"marker\":{\"colorbar\":{\"outlinewidth\":0,\"ticks\":\"\"}}}],\"scattermap\":[{\"type\":\"scattermap\",\"marker\":{\"colorbar\":{\"outlinewidth\":0,\"ticks\":\"\"}}}],\"scattermapbox\":[{\"type\":\"scattermapbox\",\"marker\":{\"colorbar\":{\"outlinewidth\":0,\"ticks\":\"\"}}}],\"scatterternary\":[{\"type\":\"scatterternary\",\"marker\":{\"colorbar\":{\"outlinewidth\":0,\"ticks\":\"\"}}}],\"scattercarpet\":[{\"type\":\"scattercarpet\",\"marker\":{\"colorbar\":{\"outlinewidth\":0,\"ticks\":\"\"}}}],\"carpet\":[{\"aaxis\":{\"endlinecolor\":\"#2a3f5f\",\"gridcolor\":\"white\",\"linecolor\":\"white\",\"minorgridcolor\":\"white\",\"startlinecolor\":\"#2a3f5f\"},\"baxis\":{\"endlinecolor\":\"#2a3f5f\",\"gridcolor\":\"white\",\"linecolor\":\"white\",\"minorgridcolor\":\"white\",\"startlinecolor\":\"#2a3f5f\"},\"type\":\"carpet\"}],\"table\":[{\"cells\":{\"fill\":{\"color\":\"#EBF0F8\"},\"line\":{\"color\":\"white\"}},\"header\":{\"fill\":{\"color\":\"#C8D4E3\"},\"line\":{\"color\":\"white\"}},\"type\":\"table\"}],\"barpolar\":[{\"marker\":{\"line\":{\"color\":\"#E5ECF6\",\"width\":0.5},\"pattern\":{\"fillmode\":\"overlay\",\"size\":10,\"solidity\":0.2}},\"type\":\"barpolar\"}],\"pie\":[{\"automargin\":true,\"type\":\"pie\"}]},\"layout\":{\"autotypenumbers\":\"strict\",\"colorway\":[\"#636efa\",\"#EF553B\",\"#00cc96\",\"#ab63fa\",\"#FFA15A\",\"#19d3f3\",\"#FF6692\",\"#B6E880\",\"#FF97FF\",\"#FECB52\"],\"font\":{\"color\":\"#2a3f5f\"},\"hovermode\":\"closest\",\"hoverlabel\":{\"align\":\"left\"},\"paper_bgcolor\":\"white\",\"plot_bgcolor\":\"#E5ECF6\",\"polar\":{\"bgcolor\":\"#E5ECF6\",\"angularaxis\":{\"gridcolor\":\"white\",\"linecolor\":\"white\",\"ticks\":\"\"},\"radialaxis\":{\"gridcolor\":\"white\",\"linecolor\":\"white\",\"ticks\":\"\"}},\"ternary\":{\"bgcolor\":\"#E5ECF6\",\"aaxis\":{\"gridcolor\":\"white\",\"linecolor\":\"white\",\"ticks\":\"\"},\"baxis\":{\"gridcolor\":\"white\",\"linecolor\":\"white\",\"ticks\":\"\"},\"caxis\":{\"gridcolor\":\"white\",\"linecolor\":\"white\",\"ticks\":\"\"}},\"coloraxis\":{\"colorbar\":{\"outlinewidth\":0,\"ticks\":\"\"}},\"colorscale\":{\"sequential\":[[0.0,\"#0d0887\"],[0.1111111111111111,\"#46039f\"],[0.2222222222222222,\"#7201a8\"],[0.3333333333333333,\"#9c179e\"],[0.4444444444444444,\"#bd3786\"],[0.5555555555555556,\"#d8576b\"],[0.6666666666666666,\"#ed7953\"],[0.7777777777777778,\"#fb9f3a\"],[0.8888888888888888,\"#fdca26\"],[1.0,\"#f0f921\"]],\"sequentialminus\":[[0.0,\"#0d0887\"],[0.1111111111111111,\"#46039f\"],[0.2222222222222222,\"#7201a8\"],[0.3333333333333333,\"#9c179e\"],[0.4444444444444444,\"#bd3786\"],[0.5555555555555556,\"#d8576b\"],[0.6666666666666666,\"#ed7953\"],[0.7777777777777778,\"#fb9f3a\"],[0.8888888888888888,\"#fdca26\"],[1.0,\"#f0f921\"]],\"diverging\":[[0,\"#8e0152\"],[0.1,\"#c51b7d\"],[0.2,\"#de77ae\"],[0.3,\"#f1b6da\"],[0.4,\"#fde0ef\"],[0.5,\"#f7f7f7\"],[0.6,\"#e6f5d0\"],[0.7,\"#b8e186\"],[0.8,\"#7fbc41\"],[0.9,\"#4d9221\"],[1,\"#276419\"]]},\"xaxis\":{\"gridcolor\":\"white\",\"linecolor\":\"white\",\"ticks\":\"\",\"title\":{\"standoff\":15},\"zerolinecolor\":\"white\",\"automargin\":true,\"zerolinewidth\":2},\"yaxis\":{\"gridcolor\":\"white\",\"linecolor\":\"white\",\"ticks\":\"\",\"title\":{\"standoff\":15},\"zerolinecolor\":\"white\",\"automargin\":true,\"zerolinewidth\":2},\"scene\":{\"xaxis\":{\"backgroundcolor\":\"#E5ECF6\",\"gridcolor\":\"white\",\"linecolor\":\"white\",\"showbackground\":true,\"ticks\":\"\",\"zerolinecolor\":\"white\",\"gridwidth\":2},\"yaxis\":{\"backgroundcolor\":\"#E5ECF6\",\"gridcolor\":\"white\",\"linecolor\":\"white\",\"showbackground\":true,\"ticks\":\"\",\"zerolinecolor\":\"white\",\"gridwidth\":2},\"zaxis\":{\"backgroundcolor\":\"#E5ECF6\",\"gridcolor\":\"white\",\"linecolor\":\"white\",\"showbackground\":true,\"ticks\":\"\",\"zerolinecolor\":\"white\",\"gridwidth\":2}},\"shapedefaults\":{\"line\":{\"color\":\"#2a3f5f\"}},\"annotationdefaults\":{\"arrowcolor\":\"#2a3f5f\",\"arrowhead\":0,\"arrowwidth\":1},\"geo\":{\"bgcolor\":\"white\",\"landcolor\":\"#E5ECF6\",\"subunitcolor\":\"white\",\"showland\":true,\"showlakes\":true,\"lakecolor\":\"white\"},\"title\":{\"x\":0.05},\"mapbox\":{\"style\":\"light\"}}},\"xaxis\":{\"anchor\":\"y\",\"domain\":[0.0,1.0],\"title\":{\"text\":\"x\"}},\"yaxis\":{\"anchor\":\"x\",\"domain\":[0.0,1.0],\"title\":{\"text\":\"y3\"}},\"legend\":{\"tracegroupgap\":0},\"title\":{\"text\":\"x vs y3\"}},                        {\"responsive\": true}                    ).then(function(){\n",
       "                            \n",
       "var gd = document.getElementById('44dcc9fa-9448-4e9e-a21c-cd991a19dea8');\n",
       "var x = new MutationObserver(function (mutations, observer) {{\n",
       "        var display = window.getComputedStyle(gd).display;\n",
       "        if (!display || display === 'none') {{\n",
       "            console.log([gd, 'removed!']);\n",
       "            Plotly.purge(gd);\n",
       "            observer.disconnect();\n",
       "        }}\n",
       "}});\n",
       "\n",
       "// Listen for the removal of the full notebook cells\n",
       "var notebookContainer = gd.closest('#notebook-container');\n",
       "if (notebookContainer) {{\n",
       "    x.observe(notebookContainer, {childList: true});\n",
       "}}\n",
       "\n",
       "// Listen for the clearing of the current output cell\n",
       "var outputEl = gd.closest('.output');\n",
       "if (outputEl) {{\n",
       "    x.observe(outputEl, {childList: true});\n",
       "}}\n",
       "\n",
       "                        })                };            </script>        </div>\n",
       "</body>\n",
       "</html>"
      ]
     },
     "metadata": {},
     "output_type": "display_data"
    }
   ],
   "source": [
    "# Your code here:\n",
    "fig = px.scatter(DF_new,x='x',y='y3',title='x vs y3')\n",
    "fig.show()"
   ]
  },
  {
   "cell_type": "code",
   "execution_count": 37,
   "id": "5246cc9e-a2e2-4b08-bcb5-8606a55de6cc",
   "metadata": {},
   "outputs": [
    {
     "data": {
      "text/html": [
       "<html>\n",
       "<head><meta charset=\"utf-8\" /></head>\n",
       "<body>\n",
       "    <div>            <script src=\"https://cdnjs.cloudflare.com/ajax/libs/mathjax/2.7.5/MathJax.js?config=TeX-AMS-MML_SVG\"></script><script type=\"text/javascript\">if (window.MathJax && window.MathJax.Hub && window.MathJax.Hub.Config) {window.MathJax.Hub.Config({SVG: {font: \"STIX-Web\"}});}</script>                <script type=\"text/javascript\">window.PlotlyConfig = {MathJaxConfig: 'local'};</script>\n",
       "        <script charset=\"utf-8\" src=\"https://cdn.plot.ly/plotly-3.1.0.min.js\" integrity=\"sha256-Ei4740bWZhaUTQuD6q9yQlgVCMPBz6CZWhevDYPv93A=\" crossorigin=\"anonymous\"></script>                <div id=\"0058f89e-fe73-427a-9168-abe986cf27c6\" class=\"plotly-graph-div\" style=\"height:525px; width:100%;\"></div>            <script type=\"text/javascript\">                window.PLOTLYENV=window.PLOTLYENV || {};                                if (document.getElementById(\"0058f89e-fe73-427a-9168-abe986cf27c6\")) {                    Plotly.newPlot(                        \"0058f89e-fe73-427a-9168-abe986cf27c6\",                        [{\"hovertemplate\":\"x=%{x}\\u003cbr\\u003ey4=%{y}\\u003cextra\\u003e\\u003c\\u002fextra\\u003e\",\"legendgroup\":\"\",\"marker\":{\"color\":\"#636efa\",\"symbol\":\"circle\"},\"mode\":\"markers\",\"name\":\"\",\"orientation\":\"v\",\"showlegend\":false,\"x\":{\"dtype\":\"f8\",\"bdata\":\"AAAAAAAAJEAAAAAAAAAgQAAAAAAAACpAAAAAAAAAIkAAAAAAAAAmQAAAAAAAACxAAAAAAAAAGEAAAAAAAAAQQAAAAAAAAChAAAAAAAAAHEAAAAAAAAAUQA==\"},\"xaxis\":\"x\",\"y\":{\"dtype\":\"f8\",\"bdata\":\"UrgehetRGkAK16NwPQoXQNejcD0K1x5ArkfhehSuIUBxPQrXo\\u002fAgQClcj8L1KBxAAAAAAAAAFUAAAAAAAAApQD0K16NwPRZApHA9CtejH0CPwvUoXI8bQA==\"},\"yaxis\":\"y\",\"type\":\"scatter\"}],                        {\"template\":{\"data\":{\"histogram2dcontour\":[{\"type\":\"histogram2dcontour\",\"colorbar\":{\"outlinewidth\":0,\"ticks\":\"\"},\"colorscale\":[[0.0,\"#0d0887\"],[0.1111111111111111,\"#46039f\"],[0.2222222222222222,\"#7201a8\"],[0.3333333333333333,\"#9c179e\"],[0.4444444444444444,\"#bd3786\"],[0.5555555555555556,\"#d8576b\"],[0.6666666666666666,\"#ed7953\"],[0.7777777777777778,\"#fb9f3a\"],[0.8888888888888888,\"#fdca26\"],[1.0,\"#f0f921\"]]}],\"choropleth\":[{\"type\":\"choropleth\",\"colorbar\":{\"outlinewidth\":0,\"ticks\":\"\"}}],\"histogram2d\":[{\"type\":\"histogram2d\",\"colorbar\":{\"outlinewidth\":0,\"ticks\":\"\"},\"colorscale\":[[0.0,\"#0d0887\"],[0.1111111111111111,\"#46039f\"],[0.2222222222222222,\"#7201a8\"],[0.3333333333333333,\"#9c179e\"],[0.4444444444444444,\"#bd3786\"],[0.5555555555555556,\"#d8576b\"],[0.6666666666666666,\"#ed7953\"],[0.7777777777777778,\"#fb9f3a\"],[0.8888888888888888,\"#fdca26\"],[1.0,\"#f0f921\"]]}],\"heatmap\":[{\"type\":\"heatmap\",\"colorbar\":{\"outlinewidth\":0,\"ticks\":\"\"},\"colorscale\":[[0.0,\"#0d0887\"],[0.1111111111111111,\"#46039f\"],[0.2222222222222222,\"#7201a8\"],[0.3333333333333333,\"#9c179e\"],[0.4444444444444444,\"#bd3786\"],[0.5555555555555556,\"#d8576b\"],[0.6666666666666666,\"#ed7953\"],[0.7777777777777778,\"#fb9f3a\"],[0.8888888888888888,\"#fdca26\"],[1.0,\"#f0f921\"]]}],\"contourcarpet\":[{\"type\":\"contourcarpet\",\"colorbar\":{\"outlinewidth\":0,\"ticks\":\"\"}}],\"contour\":[{\"type\":\"contour\",\"colorbar\":{\"outlinewidth\":0,\"ticks\":\"\"},\"colorscale\":[[0.0,\"#0d0887\"],[0.1111111111111111,\"#46039f\"],[0.2222222222222222,\"#7201a8\"],[0.3333333333333333,\"#9c179e\"],[0.4444444444444444,\"#bd3786\"],[0.5555555555555556,\"#d8576b\"],[0.6666666666666666,\"#ed7953\"],[0.7777777777777778,\"#fb9f3a\"],[0.8888888888888888,\"#fdca26\"],[1.0,\"#f0f921\"]]}],\"surface\":[{\"type\":\"surface\",\"colorbar\":{\"outlinewidth\":0,\"ticks\":\"\"},\"colorscale\":[[0.0,\"#0d0887\"],[0.1111111111111111,\"#46039f\"],[0.2222222222222222,\"#7201a8\"],[0.3333333333333333,\"#9c179e\"],[0.4444444444444444,\"#bd3786\"],[0.5555555555555556,\"#d8576b\"],[0.6666666666666666,\"#ed7953\"],[0.7777777777777778,\"#fb9f3a\"],[0.8888888888888888,\"#fdca26\"],[1.0,\"#f0f921\"]]}],\"mesh3d\":[{\"type\":\"mesh3d\",\"colorbar\":{\"outlinewidth\":0,\"ticks\":\"\"}}],\"scatter\":[{\"fillpattern\":{\"fillmode\":\"overlay\",\"size\":10,\"solidity\":0.2},\"type\":\"scatter\"}],\"parcoords\":[{\"type\":\"parcoords\",\"line\":{\"colorbar\":{\"outlinewidth\":0,\"ticks\":\"\"}}}],\"scatterpolargl\":[{\"type\":\"scatterpolargl\",\"marker\":{\"colorbar\":{\"outlinewidth\":0,\"ticks\":\"\"}}}],\"bar\":[{\"error_x\":{\"color\":\"#2a3f5f\"},\"error_y\":{\"color\":\"#2a3f5f\"},\"marker\":{\"line\":{\"color\":\"#E5ECF6\",\"width\":0.5},\"pattern\":{\"fillmode\":\"overlay\",\"size\":10,\"solidity\":0.2}},\"type\":\"bar\"}],\"scattergeo\":[{\"type\":\"scattergeo\",\"marker\":{\"colorbar\":{\"outlinewidth\":0,\"ticks\":\"\"}}}],\"scatterpolar\":[{\"type\":\"scatterpolar\",\"marker\":{\"colorbar\":{\"outlinewidth\":0,\"ticks\":\"\"}}}],\"histogram\":[{\"marker\":{\"pattern\":{\"fillmode\":\"overlay\",\"size\":10,\"solidity\":0.2}},\"type\":\"histogram\"}],\"scattergl\":[{\"type\":\"scattergl\",\"marker\":{\"colorbar\":{\"outlinewidth\":0,\"ticks\":\"\"}}}],\"scatter3d\":[{\"type\":\"scatter3d\",\"line\":{\"colorbar\":{\"outlinewidth\":0,\"ticks\":\"\"}},\"marker\":{\"colorbar\":{\"outlinewidth\":0,\"ticks\":\"\"}}}],\"scattermap\":[{\"type\":\"scattermap\",\"marker\":{\"colorbar\":{\"outlinewidth\":0,\"ticks\":\"\"}}}],\"scattermapbox\":[{\"type\":\"scattermapbox\",\"marker\":{\"colorbar\":{\"outlinewidth\":0,\"ticks\":\"\"}}}],\"scatterternary\":[{\"type\":\"scatterternary\",\"marker\":{\"colorbar\":{\"outlinewidth\":0,\"ticks\":\"\"}}}],\"scattercarpet\":[{\"type\":\"scattercarpet\",\"marker\":{\"colorbar\":{\"outlinewidth\":0,\"ticks\":\"\"}}}],\"carpet\":[{\"aaxis\":{\"endlinecolor\":\"#2a3f5f\",\"gridcolor\":\"white\",\"linecolor\":\"white\",\"minorgridcolor\":\"white\",\"startlinecolor\":\"#2a3f5f\"},\"baxis\":{\"endlinecolor\":\"#2a3f5f\",\"gridcolor\":\"white\",\"linecolor\":\"white\",\"minorgridcolor\":\"white\",\"startlinecolor\":\"#2a3f5f\"},\"type\":\"carpet\"}],\"table\":[{\"cells\":{\"fill\":{\"color\":\"#EBF0F8\"},\"line\":{\"color\":\"white\"}},\"header\":{\"fill\":{\"color\":\"#C8D4E3\"},\"line\":{\"color\":\"white\"}},\"type\":\"table\"}],\"barpolar\":[{\"marker\":{\"line\":{\"color\":\"#E5ECF6\",\"width\":0.5},\"pattern\":{\"fillmode\":\"overlay\",\"size\":10,\"solidity\":0.2}},\"type\":\"barpolar\"}],\"pie\":[{\"automargin\":true,\"type\":\"pie\"}]},\"layout\":{\"autotypenumbers\":\"strict\",\"colorway\":[\"#636efa\",\"#EF553B\",\"#00cc96\",\"#ab63fa\",\"#FFA15A\",\"#19d3f3\",\"#FF6692\",\"#B6E880\",\"#FF97FF\",\"#FECB52\"],\"font\":{\"color\":\"#2a3f5f\"},\"hovermode\":\"closest\",\"hoverlabel\":{\"align\":\"left\"},\"paper_bgcolor\":\"white\",\"plot_bgcolor\":\"#E5ECF6\",\"polar\":{\"bgcolor\":\"#E5ECF6\",\"angularaxis\":{\"gridcolor\":\"white\",\"linecolor\":\"white\",\"ticks\":\"\"},\"radialaxis\":{\"gridcolor\":\"white\",\"linecolor\":\"white\",\"ticks\":\"\"}},\"ternary\":{\"bgcolor\":\"#E5ECF6\",\"aaxis\":{\"gridcolor\":\"white\",\"linecolor\":\"white\",\"ticks\":\"\"},\"baxis\":{\"gridcolor\":\"white\",\"linecolor\":\"white\",\"ticks\":\"\"},\"caxis\":{\"gridcolor\":\"white\",\"linecolor\":\"white\",\"ticks\":\"\"}},\"coloraxis\":{\"colorbar\":{\"outlinewidth\":0,\"ticks\":\"\"}},\"colorscale\":{\"sequential\":[[0.0,\"#0d0887\"],[0.1111111111111111,\"#46039f\"],[0.2222222222222222,\"#7201a8\"],[0.3333333333333333,\"#9c179e\"],[0.4444444444444444,\"#bd3786\"],[0.5555555555555556,\"#d8576b\"],[0.6666666666666666,\"#ed7953\"],[0.7777777777777778,\"#fb9f3a\"],[0.8888888888888888,\"#fdca26\"],[1.0,\"#f0f921\"]],\"sequentialminus\":[[0.0,\"#0d0887\"],[0.1111111111111111,\"#46039f\"],[0.2222222222222222,\"#7201a8\"],[0.3333333333333333,\"#9c179e\"],[0.4444444444444444,\"#bd3786\"],[0.5555555555555556,\"#d8576b\"],[0.6666666666666666,\"#ed7953\"],[0.7777777777777778,\"#fb9f3a\"],[0.8888888888888888,\"#fdca26\"],[1.0,\"#f0f921\"]],\"diverging\":[[0,\"#8e0152\"],[0.1,\"#c51b7d\"],[0.2,\"#de77ae\"],[0.3,\"#f1b6da\"],[0.4,\"#fde0ef\"],[0.5,\"#f7f7f7\"],[0.6,\"#e6f5d0\"],[0.7,\"#b8e186\"],[0.8,\"#7fbc41\"],[0.9,\"#4d9221\"],[1,\"#276419\"]]},\"xaxis\":{\"gridcolor\":\"white\",\"linecolor\":\"white\",\"ticks\":\"\",\"title\":{\"standoff\":15},\"zerolinecolor\":\"white\",\"automargin\":true,\"zerolinewidth\":2},\"yaxis\":{\"gridcolor\":\"white\",\"linecolor\":\"white\",\"ticks\":\"\",\"title\":{\"standoff\":15},\"zerolinecolor\":\"white\",\"automargin\":true,\"zerolinewidth\":2},\"scene\":{\"xaxis\":{\"backgroundcolor\":\"#E5ECF6\",\"gridcolor\":\"white\",\"linecolor\":\"white\",\"showbackground\":true,\"ticks\":\"\",\"zerolinecolor\":\"white\",\"gridwidth\":2},\"yaxis\":{\"backgroundcolor\":\"#E5ECF6\",\"gridcolor\":\"white\",\"linecolor\":\"white\",\"showbackground\":true,\"ticks\":\"\",\"zerolinecolor\":\"white\",\"gridwidth\":2},\"zaxis\":{\"backgroundcolor\":\"#E5ECF6\",\"gridcolor\":\"white\",\"linecolor\":\"white\",\"showbackground\":true,\"ticks\":\"\",\"zerolinecolor\":\"white\",\"gridwidth\":2}},\"shapedefaults\":{\"line\":{\"color\":\"#2a3f5f\"}},\"annotationdefaults\":{\"arrowcolor\":\"#2a3f5f\",\"arrowhead\":0,\"arrowwidth\":1},\"geo\":{\"bgcolor\":\"white\",\"landcolor\":\"#E5ECF6\",\"subunitcolor\":\"white\",\"showland\":true,\"showlakes\":true,\"lakecolor\":\"white\"},\"title\":{\"x\":0.05},\"mapbox\":{\"style\":\"light\"}}},\"xaxis\":{\"anchor\":\"y\",\"domain\":[0.0,1.0],\"title\":{\"text\":\"x\"}},\"yaxis\":{\"anchor\":\"x\",\"domain\":[0.0,1.0],\"title\":{\"text\":\"y4\"}},\"legend\":{\"tracegroupgap\":0},\"title\":{\"text\":\"x vs y4\"}},                        {\"responsive\": true}                    ).then(function(){\n",
       "                            \n",
       "var gd = document.getElementById('0058f89e-fe73-427a-9168-abe986cf27c6');\n",
       "var x = new MutationObserver(function (mutations, observer) {{\n",
       "        var display = window.getComputedStyle(gd).display;\n",
       "        if (!display || display === 'none') {{\n",
       "            console.log([gd, 'removed!']);\n",
       "            Plotly.purge(gd);\n",
       "            observer.disconnect();\n",
       "        }}\n",
       "}});\n",
       "\n",
       "// Listen for the removal of the full notebook cells\n",
       "var notebookContainer = gd.closest('#notebook-container');\n",
       "if (notebookContainer) {{\n",
       "    x.observe(notebookContainer, {childList: true});\n",
       "}}\n",
       "\n",
       "// Listen for the clearing of the current output cell\n",
       "var outputEl = gd.closest('.output');\n",
       "if (outputEl) {{\n",
       "    x.observe(outputEl, {childList: true});\n",
       "}}\n",
       "\n",
       "                        })                };            </script>        </div>\n",
       "</body>\n",
       "</html>"
      ]
     },
     "metadata": {},
     "output_type": "display_data"
    }
   ],
   "source": [
    "# Your code here:\n",
    "fig = px.scatter(DF_new,x='x',y='y4',title='x vs y4')\n",
    "fig.show()"
   ]
  },
  {
   "cell_type": "markdown",
   "id": "e7d3cdce-d876-43ea-ba33-8c58479a4623",
   "metadata": {},
   "source": [
    "They are all different. They all have different patterns as well"
   ]
  },
  {
   "cell_type": "markdown",
   "id": "95998a5e-8f7b-442c-bfe4-9281e4b01fe3",
   "metadata": {},
   "source": [
    "### Problem 1\n",
    "\n",
    "Let's try to make an even fancier graph of the Star Wars heigh vs mass data. \n",
    "\n",
    "Below you will find code that changes our Star Wars graph in the following ways:\n",
    "\n",
    "1. It changes the marker size to 15\n",
    "2. It changes the marker color to red\n",
    "3. It changes the marker symbol to be a star\n",
    "4. It makes the markers see through (opacity)\n",
    "5. It puts a line around the marker with a width and color given.\n",
    "\n",
    "Now your job is to make this plot your own. Change the colors, markers, etc.\n",
    "\n",
    "Below you will see a list of all possible colors and markers that are automatically part of plotly."
   ]
  },
  {
   "cell_type": "code",
   "execution_count": 60,
   "id": "079045c1-84fe-4412-b273-db55e441790f",
   "metadata": {},
   "outputs": [
    {
     "data": {
      "text/html": [
       "<html>\n",
       "<head><meta charset=\"utf-8\" /></head>\n",
       "<body>\n",
       "    <div>            <script src=\"https://cdnjs.cloudflare.com/ajax/libs/mathjax/2.7.5/MathJax.js?config=TeX-AMS-MML_SVG\"></script><script type=\"text/javascript\">if (window.MathJax && window.MathJax.Hub && window.MathJax.Hub.Config) {window.MathJax.Hub.Config({SVG: {font: \"STIX-Web\"}});}</script>                <script type=\"text/javascript\">window.PlotlyConfig = {MathJaxConfig: 'local'};</script>\n",
       "        <script charset=\"utf-8\" src=\"https://cdn.plot.ly/plotly-3.1.0.min.js\" integrity=\"sha256-Ei4740bWZhaUTQuD6q9yQlgVCMPBz6CZWhevDYPv93A=\" crossorigin=\"anonymous\"></script>                <div id=\"ef7d6773-2e27-49ec-a8b1-591aa345c64b\" class=\"plotly-graph-div\" style=\"height:525px; width:100%;\"></div>            <script type=\"text/javascript\">                window.PLOTLYENV=window.PLOTLYENV || {};                                if (document.getElementById(\"ef7d6773-2e27-49ec-a8b1-591aa345c64b\")) {                    Plotly.newPlot(                        \"ef7d6773-2e27-49ec-a8b1-591aa345c64b\",                        [{\"customdata\":[[\"Luke Skywalker\"],[\"C-3PO\"],[\"R2-D2\"],[\"Darth Vader\"],[\"Leia Organa\"],[\"Owen Lars\"],[\"Beru Whitesun Lars\"],[\"R5-D4\"],[\"Biggs Darklighter\"],[\"Obi-Wan Kenobi\"],[\"Anakin Skywalker\"],[\"Wilhuff Tarkin\"],[\"Chewbacca\"],[\"Han Solo\"],[\"Greedo\"],[\"Jabba Desilijic Tiure\"],[\"Wedge Antilles\"],[\"Jek Tono Porkins\"],[\"Yoda\"],[\"Palpatine\"],[\"Boba Fett\"],[\"IG-88\"],[\"Bossk\"],[\"Lando Calrissian\"],[\"Lobot\"],[\"Ackbar\"],[\"Mon Mothma\"],[\"Arvel Crynyd\"],[\"Wicket Systri Warrick\"],[\"Nien Nunb\"],[\"Qui-Gon Jinn\"],[\"Nute Gunray\"],[\"Finis Valorum\"],[\"Padmé Amidala\"],[\"Jar Jar Binks\"],[\"Roos Tarpals\"],[\"Rugor Nass\"],[\"Ric Olié\"],[\"Watto\"],[\"Sebulba\"],[\"Quarsh Panaka\"],[\"Shmi Skywalker\"],[\"Darth Maul\"],[\"Bib Fortuna\"],[\"Ayla Secura\"],[\"Ratts Tyerel\"],[\"Dud Bolt\"],[\"Gasgano\"],[\"Ben Quadinaros\"],[\"Mace Windu\"],[\"Ki-Adi-Mundi\"],[\"Kit Fisto\"],[\"Eeth Koth\"],[\"Adi Gallia\"],[\"Saesee Tiin\"],[\"Yarael Poof\"],[\"Plo Koon\"],[\"Mas Amedda\"],[\"Gregar Typho\"],[\"Cordé\"],[\"Cliegg Lars\"],[\"Poggle the Lesser\"],[\"Luminara Unduli\"],[\"Barriss Offee\"],[\"Dormé\"],[\"Dooku\"],[\"Bail Prestor Organa\"],[\"Jango Fett\"],[\"Zam Wesell\"],[\"Dexter Jettster\"],[\"Lama Su\"],[\"Taun We\"],[\"Jocasta Nu\"],[\"R4-P17\"],[\"Wat Tambor\"],[\"San Hill\"],[\"Shaak Ti\"],[\"Grievous\"],[\"Tarfful\"],[\"Raymus Antilles\"],[\"Sly Moore\"],[\"Tion Medon\"],[\"Finn\"],[\"Rey\"],[\"Poe Dameron\"],[\"BB8\"],[\"Captain Phasma\"]],\"hovertemplate\":\"height=%{x}\\u003cbr\\u003emass=%{y}\\u003cbr\\u003ename=%{customdata[0]}\\u003cextra\\u003e\\u003c\\u002fextra\\u003e\",\"legendgroup\":\"\",\"marker\":{\"color\":\"purple\",\"symbol\":\"circle\",\"line\":{\"color\":\"pink\",\"width\":1},\"opacity\":0.5,\"size\":15},\"mode\":\"markers\",\"name\":\"\",\"orientation\":\"v\",\"showlegend\":false,\"x\":{\"dtype\":\"f8\",\"bdata\":\"AAAAAACAZUAAAAAAAOBkQAAAAAAAAFhAAAAAAABAaUAAAAAAAMBiQAAAAAAAQGZAAAAAAACgZEAAAAAAAEBYQAAAAAAA4GZAAAAAAADAZkAAAAAAAIBnQAAAAAAAgGZAAAAAAACAbEAAAAAAAIBmQAAAAAAAoGVAAAAAAADgZUAAAAAAAEBlQAAAAAAAgGZAAAAAAACAUEAAAAAAAEBlQAAAAAAA4GZAAAAAAAAAaUAAAAAAAMBnQAAAAAAAIGZAAAAAAADgZUAAAAAAAIBmQAAAAAAAwGJAAAAAAAAA+H8AAAAAAABWQAAAAAAAAGRAAAAAAAAgaEAAAAAAAOBnQAAAAAAAQGVAAAAAAAAgZ0AAAAAAAIBoQAAAAAAAAGxAAAAAAADAaUAAAAAAAOBmQAAAAAAAIGFAAAAAAAAAXEAAAAAAAOBmQAAAAAAAYGRAAAAAAADgZUAAAAAAAIBmQAAAAAAAQGZAAAAAAADAU0AAAAAAAIBXQAAAAAAAgF5AAAAAAABgZEAAAAAAAIBnQAAAAAAAwGhAAAAAAACAaEAAAAAAAGBlQAAAAAAAAGdAAAAAAACAZ0AAAAAAAIBwQAAAAAAAgGdAAAAAAACAaEAAAAAAACBnQAAAAAAAoGNAAAAAAADgZkAAAAAAAOBmQAAAAAAAQGVAAAAAAADAZEAAAAAAAKBkQAAAAAAAIGhAAAAAAADgZ0AAAAAAAOBmQAAAAAAAAGVAAAAAAADAaEAAAAAAAKBsQAAAAAAAoGpAAAAAAADgZEAAAAAAAABYQAAAAAAAIGhAAAAAAADgZ0AAAAAAAEBmQAAAAAAAAGtAAAAAAABAbUAAAAAAAIBnQAAAAAAAQGZAAAAAAADAaUAAAAAAAAD4fwAAAAAAAPh\\u002fAAAAAAAA+H8AAAAAAAD4fwAAAAAAAPh\\u002f\"},\"xaxis\":\"x\",\"y\":{\"dtype\":\"f8\",\"bdata\":\"AAAAAABAU0AAAAAAAMBSQAAAAAAAAEBAAAAAAAAAYUAAAAAAAIBIQAAAAAAAAF5AAAAAAADAUkAAAAAAAABAQAAAAAAAAFVAAAAAAABAU0AAAAAAAABVQAAAAAAAAPh\\u002fAAAAAAAAXEAAAAAAAABUQAAAAAAAgFJAAAAAAAA4lUAAAAAAAEBTQAAAAAAAgFtAAAAAAAAAMUAAAAAAAMBSQM3MzMzMjFNAAAAAAACAYUAAAAAAAEBcQAAAAAAAwFNAAAAAAADAU0AAAAAAAMBUQAAAAAAAAPh\\u002fAAAAAAAA+H8AAAAAAAA0QAAAAAAAAFFAAAAAAABAVkAAAAAAAIBWQAAAAAAAAPh\\u002fAAAAAACARkAAAAAAAIBQQAAAAAAAgFRAAAAAAAAA+H8AAAAAAAD4fwAAAAAAAPh\\u002fAAAAAAAAREAAAAAAAAD4fwAAAAAAAPh\\u002fAAAAAAAAVEAAAAAAAAD4fwAAAAAAgEtAAAAAAAAALkAAAAAAAIBGQAAAAAAAAPh\\u002fAAAAAABAUEAAAAAAAABVQAAAAAAAgFRAAAAAAADAVUAAAAAAAAD4fwAAAAAAAElAAAAAAAAA+H8AAAAAAAD4fwAAAAAAAFRAAAAAAAAA+H8AAAAAAEBVQAAAAAAAAPh\\u002fAAAAAAAA+H8AAAAAAABUQJqZmZmZGUxAAAAAAAAASUAAAAAAAAD4fwAAAAAAAFRAAAAAAAAA+H8AAAAAAMBTQAAAAAAAgEtAAAAAAACAWUAAAAAAAABWQAAAAAAAAPh\\u002fAAAAAAAA+H8AAAAAAAD4fwAAAAAAAEhAAAAAAAAA+H8AAAAAAIBMQAAAAAAA4GNAAAAAAAAAYUAAAAAAAMBTQAAAAAAAAEhAAAAAAAAAVEAAAAAAAAD4fwAAAAAAAPh\\u002fAAAAAAAA+H8AAAAAAAD4fwAAAAAAAPh\\u002f\"},\"yaxis\":\"y\",\"type\":\"scatter\"}],                        {\"template\":{\"data\":{\"histogram2dcontour\":[{\"type\":\"histogram2dcontour\",\"colorbar\":{\"outlinewidth\":0,\"ticks\":\"\"},\"colorscale\":[[0.0,\"#0d0887\"],[0.1111111111111111,\"#46039f\"],[0.2222222222222222,\"#7201a8\"],[0.3333333333333333,\"#9c179e\"],[0.4444444444444444,\"#bd3786\"],[0.5555555555555556,\"#d8576b\"],[0.6666666666666666,\"#ed7953\"],[0.7777777777777778,\"#fb9f3a\"],[0.8888888888888888,\"#fdca26\"],[1.0,\"#f0f921\"]]}],\"choropleth\":[{\"type\":\"choropleth\",\"colorbar\":{\"outlinewidth\":0,\"ticks\":\"\"}}],\"histogram2d\":[{\"type\":\"histogram2d\",\"colorbar\":{\"outlinewidth\":0,\"ticks\":\"\"},\"colorscale\":[[0.0,\"#0d0887\"],[0.1111111111111111,\"#46039f\"],[0.2222222222222222,\"#7201a8\"],[0.3333333333333333,\"#9c179e\"],[0.4444444444444444,\"#bd3786\"],[0.5555555555555556,\"#d8576b\"],[0.6666666666666666,\"#ed7953\"],[0.7777777777777778,\"#fb9f3a\"],[0.8888888888888888,\"#fdca26\"],[1.0,\"#f0f921\"]]}],\"heatmap\":[{\"type\":\"heatmap\",\"colorbar\":{\"outlinewidth\":0,\"ticks\":\"\"},\"colorscale\":[[0.0,\"#0d0887\"],[0.1111111111111111,\"#46039f\"],[0.2222222222222222,\"#7201a8\"],[0.3333333333333333,\"#9c179e\"],[0.4444444444444444,\"#bd3786\"],[0.5555555555555556,\"#d8576b\"],[0.6666666666666666,\"#ed7953\"],[0.7777777777777778,\"#fb9f3a\"],[0.8888888888888888,\"#fdca26\"],[1.0,\"#f0f921\"]]}],\"contourcarpet\":[{\"type\":\"contourcarpet\",\"colorbar\":{\"outlinewidth\":0,\"ticks\":\"\"}}],\"contour\":[{\"type\":\"contour\",\"colorbar\":{\"outlinewidth\":0,\"ticks\":\"\"},\"colorscale\":[[0.0,\"#0d0887\"],[0.1111111111111111,\"#46039f\"],[0.2222222222222222,\"#7201a8\"],[0.3333333333333333,\"#9c179e\"],[0.4444444444444444,\"#bd3786\"],[0.5555555555555556,\"#d8576b\"],[0.6666666666666666,\"#ed7953\"],[0.7777777777777778,\"#fb9f3a\"],[0.8888888888888888,\"#fdca26\"],[1.0,\"#f0f921\"]]}],\"surface\":[{\"type\":\"surface\",\"colorbar\":{\"outlinewidth\":0,\"ticks\":\"\"},\"colorscale\":[[0.0,\"#0d0887\"],[0.1111111111111111,\"#46039f\"],[0.2222222222222222,\"#7201a8\"],[0.3333333333333333,\"#9c179e\"],[0.4444444444444444,\"#bd3786\"],[0.5555555555555556,\"#d8576b\"],[0.6666666666666666,\"#ed7953\"],[0.7777777777777778,\"#fb9f3a\"],[0.8888888888888888,\"#fdca26\"],[1.0,\"#f0f921\"]]}],\"mesh3d\":[{\"type\":\"mesh3d\",\"colorbar\":{\"outlinewidth\":0,\"ticks\":\"\"}}],\"scatter\":[{\"fillpattern\":{\"fillmode\":\"overlay\",\"size\":10,\"solidity\":0.2},\"type\":\"scatter\"}],\"parcoords\":[{\"type\":\"parcoords\",\"line\":{\"colorbar\":{\"outlinewidth\":0,\"ticks\":\"\"}}}],\"scatterpolargl\":[{\"type\":\"scatterpolargl\",\"marker\":{\"colorbar\":{\"outlinewidth\":0,\"ticks\":\"\"}}}],\"bar\":[{\"error_x\":{\"color\":\"#2a3f5f\"},\"error_y\":{\"color\":\"#2a3f5f\"},\"marker\":{\"line\":{\"color\":\"#E5ECF6\",\"width\":0.5},\"pattern\":{\"fillmode\":\"overlay\",\"size\":10,\"solidity\":0.2}},\"type\":\"bar\"}],\"scattergeo\":[{\"type\":\"scattergeo\",\"marker\":{\"colorbar\":{\"outlinewidth\":0,\"ticks\":\"\"}}}],\"scatterpolar\":[{\"type\":\"scatterpolar\",\"marker\":{\"colorbar\":{\"outlinewidth\":0,\"ticks\":\"\"}}}],\"histogram\":[{\"marker\":{\"pattern\":{\"fillmode\":\"overlay\",\"size\":10,\"solidity\":0.2}},\"type\":\"histogram\"}],\"scattergl\":[{\"type\":\"scattergl\",\"marker\":{\"colorbar\":{\"outlinewidth\":0,\"ticks\":\"\"}}}],\"scatter3d\":[{\"type\":\"scatter3d\",\"line\":{\"colorbar\":{\"outlinewidth\":0,\"ticks\":\"\"}},\"marker\":{\"colorbar\":{\"outlinewidth\":0,\"ticks\":\"\"}}}],\"scattermap\":[{\"type\":\"scattermap\",\"marker\":{\"colorbar\":{\"outlinewidth\":0,\"ticks\":\"\"}}}],\"scattermapbox\":[{\"type\":\"scattermapbox\",\"marker\":{\"colorbar\":{\"outlinewidth\":0,\"ticks\":\"\"}}}],\"scatterternary\":[{\"type\":\"scatterternary\",\"marker\":{\"colorbar\":{\"outlinewidth\":0,\"ticks\":\"\"}}}],\"scattercarpet\":[{\"type\":\"scattercarpet\",\"marker\":{\"colorbar\":{\"outlinewidth\":0,\"ticks\":\"\"}}}],\"carpet\":[{\"aaxis\":{\"endlinecolor\":\"#2a3f5f\",\"gridcolor\":\"white\",\"linecolor\":\"white\",\"minorgridcolor\":\"white\",\"startlinecolor\":\"#2a3f5f\"},\"baxis\":{\"endlinecolor\":\"#2a3f5f\",\"gridcolor\":\"white\",\"linecolor\":\"white\",\"minorgridcolor\":\"white\",\"startlinecolor\":\"#2a3f5f\"},\"type\":\"carpet\"}],\"table\":[{\"cells\":{\"fill\":{\"color\":\"#EBF0F8\"},\"line\":{\"color\":\"white\"}},\"header\":{\"fill\":{\"color\":\"#C8D4E3\"},\"line\":{\"color\":\"white\"}},\"type\":\"table\"}],\"barpolar\":[{\"marker\":{\"line\":{\"color\":\"#E5ECF6\",\"width\":0.5},\"pattern\":{\"fillmode\":\"overlay\",\"size\":10,\"solidity\":0.2}},\"type\":\"barpolar\"}],\"pie\":[{\"automargin\":true,\"type\":\"pie\"}]},\"layout\":{\"autotypenumbers\":\"strict\",\"colorway\":[\"#636efa\",\"#EF553B\",\"#00cc96\",\"#ab63fa\",\"#FFA15A\",\"#19d3f3\",\"#FF6692\",\"#B6E880\",\"#FF97FF\",\"#FECB52\"],\"font\":{\"color\":\"#2a3f5f\"},\"hovermode\":\"closest\",\"hoverlabel\":{\"align\":\"left\"},\"paper_bgcolor\":\"white\",\"plot_bgcolor\":\"#E5ECF6\",\"polar\":{\"bgcolor\":\"#E5ECF6\",\"angularaxis\":{\"gridcolor\":\"white\",\"linecolor\":\"white\",\"ticks\":\"\"},\"radialaxis\":{\"gridcolor\":\"white\",\"linecolor\":\"white\",\"ticks\":\"\"}},\"ternary\":{\"bgcolor\":\"#E5ECF6\",\"aaxis\":{\"gridcolor\":\"white\",\"linecolor\":\"white\",\"ticks\":\"\"},\"baxis\":{\"gridcolor\":\"white\",\"linecolor\":\"white\",\"ticks\":\"\"},\"caxis\":{\"gridcolor\":\"white\",\"linecolor\":\"white\",\"ticks\":\"\"}},\"coloraxis\":{\"colorbar\":{\"outlinewidth\":0,\"ticks\":\"\"}},\"colorscale\":{\"sequential\":[[0.0,\"#0d0887\"],[0.1111111111111111,\"#46039f\"],[0.2222222222222222,\"#7201a8\"],[0.3333333333333333,\"#9c179e\"],[0.4444444444444444,\"#bd3786\"],[0.5555555555555556,\"#d8576b\"],[0.6666666666666666,\"#ed7953\"],[0.7777777777777778,\"#fb9f3a\"],[0.8888888888888888,\"#fdca26\"],[1.0,\"#f0f921\"]],\"sequentialminus\":[[0.0,\"#0d0887\"],[0.1111111111111111,\"#46039f\"],[0.2222222222222222,\"#7201a8\"],[0.3333333333333333,\"#9c179e\"],[0.4444444444444444,\"#bd3786\"],[0.5555555555555556,\"#d8576b\"],[0.6666666666666666,\"#ed7953\"],[0.7777777777777778,\"#fb9f3a\"],[0.8888888888888888,\"#fdca26\"],[1.0,\"#f0f921\"]],\"diverging\":[[0,\"#8e0152\"],[0.1,\"#c51b7d\"],[0.2,\"#de77ae\"],[0.3,\"#f1b6da\"],[0.4,\"#fde0ef\"],[0.5,\"#f7f7f7\"],[0.6,\"#e6f5d0\"],[0.7,\"#b8e186\"],[0.8,\"#7fbc41\"],[0.9,\"#4d9221\"],[1,\"#276419\"]]},\"xaxis\":{\"gridcolor\":\"white\",\"linecolor\":\"white\",\"ticks\":\"\",\"title\":{\"standoff\":15},\"zerolinecolor\":\"white\",\"automargin\":true,\"zerolinewidth\":2},\"yaxis\":{\"gridcolor\":\"white\",\"linecolor\":\"white\",\"ticks\":\"\",\"title\":{\"standoff\":15},\"zerolinecolor\":\"white\",\"automargin\":true,\"zerolinewidth\":2},\"scene\":{\"xaxis\":{\"backgroundcolor\":\"#E5ECF6\",\"gridcolor\":\"white\",\"linecolor\":\"white\",\"showbackground\":true,\"ticks\":\"\",\"zerolinecolor\":\"white\",\"gridwidth\":2},\"yaxis\":{\"backgroundcolor\":\"#E5ECF6\",\"gridcolor\":\"white\",\"linecolor\":\"white\",\"showbackground\":true,\"ticks\":\"\",\"zerolinecolor\":\"white\",\"gridwidth\":2},\"zaxis\":{\"backgroundcolor\":\"#E5ECF6\",\"gridcolor\":\"white\",\"linecolor\":\"white\",\"showbackground\":true,\"ticks\":\"\",\"zerolinecolor\":\"white\",\"gridwidth\":2}},\"shapedefaults\":{\"line\":{\"color\":\"#2a3f5f\"}},\"annotationdefaults\":{\"arrowcolor\":\"#2a3f5f\",\"arrowhead\":0,\"arrowwidth\":1},\"geo\":{\"bgcolor\":\"white\",\"landcolor\":\"#E5ECF6\",\"subunitcolor\":\"white\",\"showland\":true,\"showlakes\":true,\"lakecolor\":\"white\"},\"title\":{\"x\":0.05},\"mapbox\":{\"style\":\"light\"}}},\"xaxis\":{\"anchor\":\"y\",\"domain\":[0.0,1.0],\"title\":{\"text\":\"height\"}},\"yaxis\":{\"anchor\":\"x\",\"domain\":[0.0,1.0],\"title\":{\"text\":\"mass\"}},\"legend\":{\"tracegroupgap\":0},\"title\":{\"text\":\"Mass vs. Height of Starwars Characters.\"}},                        {\"responsive\": true}                    ).then(function(){\n",
       "                            \n",
       "var gd = document.getElementById('ef7d6773-2e27-49ec-a8b1-591aa345c64b');\n",
       "var x = new MutationObserver(function (mutations, observer) {{\n",
       "        var display = window.getComputedStyle(gd).display;\n",
       "        if (!display || display === 'none') {{\n",
       "            console.log([gd, 'removed!']);\n",
       "            Plotly.purge(gd);\n",
       "            observer.disconnect();\n",
       "        }}\n",
       "}});\n",
       "\n",
       "// Listen for the removal of the full notebook cells\n",
       "var notebookContainer = gd.closest('#notebook-container');\n",
       "if (notebookContainer) {{\n",
       "    x.observe(notebookContainer, {childList: true});\n",
       "}}\n",
       "\n",
       "// Listen for the clearing of the current output cell\n",
       "var outputEl = gd.closest('.output');\n",
       "if (outputEl) {{\n",
       "    x.observe(outputEl, {childList: true});\n",
       "}}\n",
       "\n",
       "                        })                };            </script>        </div>\n",
       "</body>\n",
       "</html>"
      ]
     },
     "metadata": {},
     "output_type": "display_data"
    }
   ],
   "source": [
    "fig = px.scatter(DF,\n",
    "                 x='height',\n",
    "                 y='mass',\n",
    "                 title='Mass vs. Height of Starwars Characters.',\n",
    "                 hover_data='name')\n",
    "fig.update_traces(marker={'size': 15,\n",
    "                          'color' : 'purple', \n",
    "                          'symbol' : 'circle',\n",
    "                          'opacity' : 0.5,\n",
    "                          'line':{'width':1,'color':'pink'}})\n",
    "fig.show()"
   ]
  },
  {
   "cell_type": "markdown",
   "id": "b9fea077-a50f-4ef0-b61f-7a7443e719b6",
   "metadata": {},
   "source": [
    "![Plotly Available Colors](images/colors.png)\n",
    "\n",
    "![Plotly Available Symbols](images/symbols.png)"
   ]
  },
  {
   "cell_type": "code",
   "execution_count": null,
   "id": "6deb1757-3d3a-4f14-b8bb-1f16c83f3abb",
   "metadata": {},
   "outputs": [],
   "source": [
    "### Problem 2\n",
    "\n",
    "Interacting with new types of plots! Over the course of the semester we will learn how to make all sorts of fancy plots. Below is code that makes a histogram of the different hair colors for the Star Wars characters. \n",
    "\n",
    "A. Figure out what the code does.\n",
    "\n",
    "B. Change the code:\n",
    "* New variable (x)\n",
    "* New color\n",
    "* New Title"
   ]
  },
  {
   "cell_type": "code",
   "execution_count": 70,
   "id": "f7377484-3bce-4632-86cd-a48692a37684",
   "metadata": {},
   "outputs": [
    {
     "data": {
      "text/html": [
       "<html>\n",
       "<head><meta charset=\"utf-8\" /></head>\n",
       "<body>\n",
       "    <div>            <script src=\"https://cdnjs.cloudflare.com/ajax/libs/mathjax/2.7.5/MathJax.js?config=TeX-AMS-MML_SVG\"></script><script type=\"text/javascript\">if (window.MathJax && window.MathJax.Hub && window.MathJax.Hub.Config) {window.MathJax.Hub.Config({SVG: {font: \"STIX-Web\"}});}</script>                <script type=\"text/javascript\">window.PlotlyConfig = {MathJaxConfig: 'local'};</script>\n",
       "        <script charset=\"utf-8\" src=\"https://cdn.plot.ly/plotly-3.1.0.min.js\" integrity=\"sha256-Ei4740bWZhaUTQuD6q9yQlgVCMPBz6CZWhevDYPv93A=\" crossorigin=\"anonymous\"></script>                <div id=\"bce4edb5-bb40-425e-8e3c-bd6cbdca2b29\" class=\"plotly-graph-div\" style=\"height:525px; width:100%;\"></div>            <script type=\"text/javascript\">                window.PLOTLYENV=window.PLOTLYENV || {};                                if (document.getElementById(\"bce4edb5-bb40-425e-8e3c-bd6cbdca2b29\")) {                    Plotly.newPlot(                        \"bce4edb5-bb40-425e-8e3c-bd6cbdca2b29\",                        [{\"bingroup\":\"x\",\"hovertemplate\":\"hair_color=%{x}\\u003cbr\\u003ecount=%{y}\\u003cextra\\u003e\\u003c\\u002fextra\\u003e\",\"legendgroup\":\"\",\"marker\":{\"color\":\"lightseagreen\",\"opacity\":0.8,\"pattern\":{\"shape\":\"\"}},\"name\":\"\",\"orientation\":\"v\",\"showlegend\":false,\"x\":[\"blond\",null,null,\"none\",\"brown\",\"brown, grey\",\"brown\",null,\"black\",\"auburn, white\",\"blond\",\"auburn, grey\",\"brown\",\"brown\",null,null,\"brown\",\"brown\",\"white\",\"grey\",\"black\",\"none\",\"none\",\"black\",\"none\",\"none\",\"auburn\",\"brown\",\"brown\",\"none\",\"brown\",\"none\",\"blond\",\"brown\",\"none\",\"none\",\"none\",\"brown\",\"black\",\"none\",\"black\",\"black\",\"none\",\"none\",\"none\",\"none\",\"none\",\"none\",\"none\",\"none\",\"white\",\"none\",\"black\",\"none\",\"none\",\"none\",\"none\",\"none\",\"black\",\"brown\",\"brown\",\"none\",\"black\",\"black\",\"brown\",\"white\",\"black\",\"black\",\"blonde\",\"none\",\"none\",\"none\",\"white\",\"none\",\"none\",\"none\",\"none\",\"none\",\"brown\",\"brown\",\"none\",\"none\",\"black\",\"brown\",\"brown\",\"none\",\"none\"],\"xaxis\":\"x\",\"yaxis\":\"y\",\"type\":\"histogram\"}],                        {\"template\":{\"data\":{\"histogram2dcontour\":[{\"type\":\"histogram2dcontour\",\"colorbar\":{\"outlinewidth\":0,\"ticks\":\"\"},\"colorscale\":[[0.0,\"#0d0887\"],[0.1111111111111111,\"#46039f\"],[0.2222222222222222,\"#7201a8\"],[0.3333333333333333,\"#9c179e\"],[0.4444444444444444,\"#bd3786\"],[0.5555555555555556,\"#d8576b\"],[0.6666666666666666,\"#ed7953\"],[0.7777777777777778,\"#fb9f3a\"],[0.8888888888888888,\"#fdca26\"],[1.0,\"#f0f921\"]]}],\"choropleth\":[{\"type\":\"choropleth\",\"colorbar\":{\"outlinewidth\":0,\"ticks\":\"\"}}],\"histogram2d\":[{\"type\":\"histogram2d\",\"colorbar\":{\"outlinewidth\":0,\"ticks\":\"\"},\"colorscale\":[[0.0,\"#0d0887\"],[0.1111111111111111,\"#46039f\"],[0.2222222222222222,\"#7201a8\"],[0.3333333333333333,\"#9c179e\"],[0.4444444444444444,\"#bd3786\"],[0.5555555555555556,\"#d8576b\"],[0.6666666666666666,\"#ed7953\"],[0.7777777777777778,\"#fb9f3a\"],[0.8888888888888888,\"#fdca26\"],[1.0,\"#f0f921\"]]}],\"heatmap\":[{\"type\":\"heatmap\",\"colorbar\":{\"outlinewidth\":0,\"ticks\":\"\"},\"colorscale\":[[0.0,\"#0d0887\"],[0.1111111111111111,\"#46039f\"],[0.2222222222222222,\"#7201a8\"],[0.3333333333333333,\"#9c179e\"],[0.4444444444444444,\"#bd3786\"],[0.5555555555555556,\"#d8576b\"],[0.6666666666666666,\"#ed7953\"],[0.7777777777777778,\"#fb9f3a\"],[0.8888888888888888,\"#fdca26\"],[1.0,\"#f0f921\"]]}],\"contourcarpet\":[{\"type\":\"contourcarpet\",\"colorbar\":{\"outlinewidth\":0,\"ticks\":\"\"}}],\"contour\":[{\"type\":\"contour\",\"colorbar\":{\"outlinewidth\":0,\"ticks\":\"\"},\"colorscale\":[[0.0,\"#0d0887\"],[0.1111111111111111,\"#46039f\"],[0.2222222222222222,\"#7201a8\"],[0.3333333333333333,\"#9c179e\"],[0.4444444444444444,\"#bd3786\"],[0.5555555555555556,\"#d8576b\"],[0.6666666666666666,\"#ed7953\"],[0.7777777777777778,\"#fb9f3a\"],[0.8888888888888888,\"#fdca26\"],[1.0,\"#f0f921\"]]}],\"surface\":[{\"type\":\"surface\",\"colorbar\":{\"outlinewidth\":0,\"ticks\":\"\"},\"colorscale\":[[0.0,\"#0d0887\"],[0.1111111111111111,\"#46039f\"],[0.2222222222222222,\"#7201a8\"],[0.3333333333333333,\"#9c179e\"],[0.4444444444444444,\"#bd3786\"],[0.5555555555555556,\"#d8576b\"],[0.6666666666666666,\"#ed7953\"],[0.7777777777777778,\"#fb9f3a\"],[0.8888888888888888,\"#fdca26\"],[1.0,\"#f0f921\"]]}],\"mesh3d\":[{\"type\":\"mesh3d\",\"colorbar\":{\"outlinewidth\":0,\"ticks\":\"\"}}],\"scatter\":[{\"fillpattern\":{\"fillmode\":\"overlay\",\"size\":10,\"solidity\":0.2},\"type\":\"scatter\"}],\"parcoords\":[{\"type\":\"parcoords\",\"line\":{\"colorbar\":{\"outlinewidth\":0,\"ticks\":\"\"}}}],\"scatterpolargl\":[{\"type\":\"scatterpolargl\",\"marker\":{\"colorbar\":{\"outlinewidth\":0,\"ticks\":\"\"}}}],\"bar\":[{\"error_x\":{\"color\":\"#2a3f5f\"},\"error_y\":{\"color\":\"#2a3f5f\"},\"marker\":{\"line\":{\"color\":\"#E5ECF6\",\"width\":0.5},\"pattern\":{\"fillmode\":\"overlay\",\"size\":10,\"solidity\":0.2}},\"type\":\"bar\"}],\"scattergeo\":[{\"type\":\"scattergeo\",\"marker\":{\"colorbar\":{\"outlinewidth\":0,\"ticks\":\"\"}}}],\"scatterpolar\":[{\"type\":\"scatterpolar\",\"marker\":{\"colorbar\":{\"outlinewidth\":0,\"ticks\":\"\"}}}],\"histogram\":[{\"marker\":{\"pattern\":{\"fillmode\":\"overlay\",\"size\":10,\"solidity\":0.2}},\"type\":\"histogram\"}],\"scattergl\":[{\"type\":\"scattergl\",\"marker\":{\"colorbar\":{\"outlinewidth\":0,\"ticks\":\"\"}}}],\"scatter3d\":[{\"type\":\"scatter3d\",\"line\":{\"colorbar\":{\"outlinewidth\":0,\"ticks\":\"\"}},\"marker\":{\"colorbar\":{\"outlinewidth\":0,\"ticks\":\"\"}}}],\"scattermap\":[{\"type\":\"scattermap\",\"marker\":{\"colorbar\":{\"outlinewidth\":0,\"ticks\":\"\"}}}],\"scattermapbox\":[{\"type\":\"scattermapbox\",\"marker\":{\"colorbar\":{\"outlinewidth\":0,\"ticks\":\"\"}}}],\"scatterternary\":[{\"type\":\"scatterternary\",\"marker\":{\"colorbar\":{\"outlinewidth\":0,\"ticks\":\"\"}}}],\"scattercarpet\":[{\"type\":\"scattercarpet\",\"marker\":{\"colorbar\":{\"outlinewidth\":0,\"ticks\":\"\"}}}],\"carpet\":[{\"aaxis\":{\"endlinecolor\":\"#2a3f5f\",\"gridcolor\":\"white\",\"linecolor\":\"white\",\"minorgridcolor\":\"white\",\"startlinecolor\":\"#2a3f5f\"},\"baxis\":{\"endlinecolor\":\"#2a3f5f\",\"gridcolor\":\"white\",\"linecolor\":\"white\",\"minorgridcolor\":\"white\",\"startlinecolor\":\"#2a3f5f\"},\"type\":\"carpet\"}],\"table\":[{\"cells\":{\"fill\":{\"color\":\"#EBF0F8\"},\"line\":{\"color\":\"white\"}},\"header\":{\"fill\":{\"color\":\"#C8D4E3\"},\"line\":{\"color\":\"white\"}},\"type\":\"table\"}],\"barpolar\":[{\"marker\":{\"line\":{\"color\":\"#E5ECF6\",\"width\":0.5},\"pattern\":{\"fillmode\":\"overlay\",\"size\":10,\"solidity\":0.2}},\"type\":\"barpolar\"}],\"pie\":[{\"automargin\":true,\"type\":\"pie\"}]},\"layout\":{\"autotypenumbers\":\"strict\",\"colorway\":[\"#636efa\",\"#EF553B\",\"#00cc96\",\"#ab63fa\",\"#FFA15A\",\"#19d3f3\",\"#FF6692\",\"#B6E880\",\"#FF97FF\",\"#FECB52\"],\"font\":{\"color\":\"#2a3f5f\"},\"hovermode\":\"closest\",\"hoverlabel\":{\"align\":\"left\"},\"paper_bgcolor\":\"white\",\"plot_bgcolor\":\"#E5ECF6\",\"polar\":{\"bgcolor\":\"#E5ECF6\",\"angularaxis\":{\"gridcolor\":\"white\",\"linecolor\":\"white\",\"ticks\":\"\"},\"radialaxis\":{\"gridcolor\":\"white\",\"linecolor\":\"white\",\"ticks\":\"\"}},\"ternary\":{\"bgcolor\":\"#E5ECF6\",\"aaxis\":{\"gridcolor\":\"white\",\"linecolor\":\"white\",\"ticks\":\"\"},\"baxis\":{\"gridcolor\":\"white\",\"linecolor\":\"white\",\"ticks\":\"\"},\"caxis\":{\"gridcolor\":\"white\",\"linecolor\":\"white\",\"ticks\":\"\"}},\"coloraxis\":{\"colorbar\":{\"outlinewidth\":0,\"ticks\":\"\"}},\"colorscale\":{\"sequential\":[[0.0,\"#0d0887\"],[0.1111111111111111,\"#46039f\"],[0.2222222222222222,\"#7201a8\"],[0.3333333333333333,\"#9c179e\"],[0.4444444444444444,\"#bd3786\"],[0.5555555555555556,\"#d8576b\"],[0.6666666666666666,\"#ed7953\"],[0.7777777777777778,\"#fb9f3a\"],[0.8888888888888888,\"#fdca26\"],[1.0,\"#f0f921\"]],\"sequentialminus\":[[0.0,\"#0d0887\"],[0.1111111111111111,\"#46039f\"],[0.2222222222222222,\"#7201a8\"],[0.3333333333333333,\"#9c179e\"],[0.4444444444444444,\"#bd3786\"],[0.5555555555555556,\"#d8576b\"],[0.6666666666666666,\"#ed7953\"],[0.7777777777777778,\"#fb9f3a\"],[0.8888888888888888,\"#fdca26\"],[1.0,\"#f0f921\"]],\"diverging\":[[0,\"#8e0152\"],[0.1,\"#c51b7d\"],[0.2,\"#de77ae\"],[0.3,\"#f1b6da\"],[0.4,\"#fde0ef\"],[0.5,\"#f7f7f7\"],[0.6,\"#e6f5d0\"],[0.7,\"#b8e186\"],[0.8,\"#7fbc41\"],[0.9,\"#4d9221\"],[1,\"#276419\"]]},\"xaxis\":{\"gridcolor\":\"white\",\"linecolor\":\"white\",\"ticks\":\"\",\"title\":{\"standoff\":15},\"zerolinecolor\":\"white\",\"automargin\":true,\"zerolinewidth\":2},\"yaxis\":{\"gridcolor\":\"white\",\"linecolor\":\"white\",\"ticks\":\"\",\"title\":{\"standoff\":15},\"zerolinecolor\":\"white\",\"automargin\":true,\"zerolinewidth\":2},\"scene\":{\"xaxis\":{\"backgroundcolor\":\"#E5ECF6\",\"gridcolor\":\"white\",\"linecolor\":\"white\",\"showbackground\":true,\"ticks\":\"\",\"zerolinecolor\":\"white\",\"gridwidth\":2},\"yaxis\":{\"backgroundcolor\":\"#E5ECF6\",\"gridcolor\":\"white\",\"linecolor\":\"white\",\"showbackground\":true,\"ticks\":\"\",\"zerolinecolor\":\"white\",\"gridwidth\":2},\"zaxis\":{\"backgroundcolor\":\"#E5ECF6\",\"gridcolor\":\"white\",\"linecolor\":\"white\",\"showbackground\":true,\"ticks\":\"\",\"zerolinecolor\":\"white\",\"gridwidth\":2}},\"shapedefaults\":{\"line\":{\"color\":\"#2a3f5f\"}},\"annotationdefaults\":{\"arrowcolor\":\"#2a3f5f\",\"arrowhead\":0,\"arrowwidth\":1},\"geo\":{\"bgcolor\":\"white\",\"landcolor\":\"#E5ECF6\",\"subunitcolor\":\"white\",\"showland\":true,\"showlakes\":true,\"lakecolor\":\"white\"},\"title\":{\"x\":0.05},\"mapbox\":{\"style\":\"light\"}}},\"xaxis\":{\"anchor\":\"y\",\"domain\":[0.0,1.0],\"title\":{\"text\":\"hair_color\"}},\"yaxis\":{\"anchor\":\"x\",\"domain\":[0.0,1.0],\"title\":{\"text\":\"count\"}},\"legend\":{\"tracegroupgap\":0},\"margin\":{\"t\":60},\"barmode\":\"relative\",\"title\":{\"text\":\"Histogram of Hair Colors in the Star Wars Universe\",\"x\":0.5},\"bargap\":0.1},                        {\"responsive\": true}                    ).then(function(){\n",
       "                            \n",
       "var gd = document.getElementById('bce4edb5-bb40-425e-8e3c-bd6cbdca2b29');\n",
       "var x = new MutationObserver(function (mutations, observer) {{\n",
       "        var display = window.getComputedStyle(gd).display;\n",
       "        if (!display || display === 'none') {{\n",
       "            console.log([gd, 'removed!']);\n",
       "            Plotly.purge(gd);\n",
       "            observer.disconnect();\n",
       "        }}\n",
       "}});\n",
       "\n",
       "// Listen for the removal of the full notebook cells\n",
       "var notebookContainer = gd.closest('#notebook-container');\n",
       "if (notebookContainer) {{\n",
       "    x.observe(notebookContainer, {childList: true});\n",
       "}}\n",
       "\n",
       "// Listen for the clearing of the current output cell\n",
       "var outputEl = gd.closest('.output');\n",
       "if (outputEl) {{\n",
       "    x.observe(outputEl, {childList: true});\n",
       "}}\n",
       "\n",
       "                        })                };            </script>        </div>\n",
       "</body>\n",
       "</html>"
      ]
     },
     "metadata": {},
     "output_type": "display_data"
    }
   ],
   "source": [
    "fig = px.histogram(DF,\n",
    "                   x='hair_color',\n",
    "                   labels={'Hair Color':'Hair Color'},\n",
    "                   opacity=0.8,\n",
    "                   color_discrete_sequence=(['lightseagreen']))\n",
    "fig.update_layout(bargap=0.1, title=\n",
    "            'Histogram of Hair Colors in the Star Wars Universe',\n",
    "            title_x=0.5)\n",
    "fig.show()"
   ]
  },
  {
   "cell_type": "code",
   "execution_count": 6,
   "id": "7ca844d4-d44b-4052-9da6-4250ebd46bdc",
   "metadata": {},
   "outputs": [
    {
     "data": {
      "text/html": [
       "<html>\n",
       "<head><meta charset=\"utf-8\" /></head>\n",
       "<body>\n",
       "    <div>            <script src=\"https://cdnjs.cloudflare.com/ajax/libs/mathjax/2.7.5/MathJax.js?config=TeX-AMS-MML_SVG\"></script><script type=\"text/javascript\">if (window.MathJax && window.MathJax.Hub && window.MathJax.Hub.Config) {window.MathJax.Hub.Config({SVG: {font: \"STIX-Web\"}});}</script>                <script type=\"text/javascript\">window.PlotlyConfig = {MathJaxConfig: 'local'};</script>\n",
       "        <script charset=\"utf-8\" src=\"https://cdn.plot.ly/plotly-3.1.0.min.js\" integrity=\"sha256-Ei4740bWZhaUTQuD6q9yQlgVCMPBz6CZWhevDYPv93A=\" crossorigin=\"anonymous\"></script>                <div id=\"a2eee1da-0dbd-4d5e-b959-a487e47610a2\" class=\"plotly-graph-div\" style=\"height:525px; width:100%;\"></div>            <script type=\"text/javascript\">                window.PLOTLYENV=window.PLOTLYENV || {};                                if (document.getElementById(\"a2eee1da-0dbd-4d5e-b959-a487e47610a2\")) {                    Plotly.newPlot(                        \"a2eee1da-0dbd-4d5e-b959-a487e47610a2\",                        [{\"bingroup\":\"x\",\"hovertemplate\":\"eye_color=%{x}\\u003cbr\\u003ecount=%{y}\\u003cextra\\u003e\\u003c\\u002fextra\\u003e\",\"legendgroup\":\"\",\"marker\":{\"color\":\"turquoise\",\"opacity\":0.8,\"pattern\":{\"shape\":\"\"}},\"name\":\"\",\"orientation\":\"v\",\"showlegend\":false,\"x\":[\"blue\",\"yellow\",\"red\",\"yellow\",\"brown\",\"blue\",\"blue\",\"red\",\"brown\",\"blue-gray\",\"blue\",\"blue\",\"blue\",\"brown\",\"black\",\"orange\",\"hazel\",\"blue\",\"brown\",\"yellow\",\"brown\",\"red\",\"red\",\"brown\",\"blue\",\"orange\",\"blue\",\"brown\",\"brown\",\"black\",\"blue\",\"red\",\"blue\",\"brown\",\"orange\",\"orange\",\"orange\",\"blue\",\"yellow\",\"orange\",\"brown\",\"brown\",\"yellow\",\"pink\",\"hazel\",\"unknown\",\"yellow\",\"black\",\"orange\",\"brown\",\"yellow\",\"black\",\"brown\",\"blue\",\"orange\",\"yellow\",\"black\",\"blue\",\"brown\",\"brown\",\"blue\",\"yellow\",\"blue\",\"blue\",\"brown\",\"brown\",\"brown\",\"brown\",\"yellow\",\"yellow\",\"black\",\"black\",\"blue\",\"red, blue\",\"unknown\",\"gold\",\"black\",\"green, yellow\",\"blue\",\"brown\",\"white\",\"black\",\"dark\",\"hazel\",\"brown\",\"black\",\"unknown\"],\"xaxis\":\"x\",\"yaxis\":\"y\",\"type\":\"histogram\"}],                        {\"template\":{\"data\":{\"histogram2dcontour\":[{\"type\":\"histogram2dcontour\",\"colorbar\":{\"outlinewidth\":0,\"ticks\":\"\"},\"colorscale\":[[0.0,\"#0d0887\"],[0.1111111111111111,\"#46039f\"],[0.2222222222222222,\"#7201a8\"],[0.3333333333333333,\"#9c179e\"],[0.4444444444444444,\"#bd3786\"],[0.5555555555555556,\"#d8576b\"],[0.6666666666666666,\"#ed7953\"],[0.7777777777777778,\"#fb9f3a\"],[0.8888888888888888,\"#fdca26\"],[1.0,\"#f0f921\"]]}],\"choropleth\":[{\"type\":\"choropleth\",\"colorbar\":{\"outlinewidth\":0,\"ticks\":\"\"}}],\"histogram2d\":[{\"type\":\"histogram2d\",\"colorbar\":{\"outlinewidth\":0,\"ticks\":\"\"},\"colorscale\":[[0.0,\"#0d0887\"],[0.1111111111111111,\"#46039f\"],[0.2222222222222222,\"#7201a8\"],[0.3333333333333333,\"#9c179e\"],[0.4444444444444444,\"#bd3786\"],[0.5555555555555556,\"#d8576b\"],[0.6666666666666666,\"#ed7953\"],[0.7777777777777778,\"#fb9f3a\"],[0.8888888888888888,\"#fdca26\"],[1.0,\"#f0f921\"]]}],\"heatmap\":[{\"type\":\"heatmap\",\"colorbar\":{\"outlinewidth\":0,\"ticks\":\"\"},\"colorscale\":[[0.0,\"#0d0887\"],[0.1111111111111111,\"#46039f\"],[0.2222222222222222,\"#7201a8\"],[0.3333333333333333,\"#9c179e\"],[0.4444444444444444,\"#bd3786\"],[0.5555555555555556,\"#d8576b\"],[0.6666666666666666,\"#ed7953\"],[0.7777777777777778,\"#fb9f3a\"],[0.8888888888888888,\"#fdca26\"],[1.0,\"#f0f921\"]]}],\"contourcarpet\":[{\"type\":\"contourcarpet\",\"colorbar\":{\"outlinewidth\":0,\"ticks\":\"\"}}],\"contour\":[{\"type\":\"contour\",\"colorbar\":{\"outlinewidth\":0,\"ticks\":\"\"},\"colorscale\":[[0.0,\"#0d0887\"],[0.1111111111111111,\"#46039f\"],[0.2222222222222222,\"#7201a8\"],[0.3333333333333333,\"#9c179e\"],[0.4444444444444444,\"#bd3786\"],[0.5555555555555556,\"#d8576b\"],[0.6666666666666666,\"#ed7953\"],[0.7777777777777778,\"#fb9f3a\"],[0.8888888888888888,\"#fdca26\"],[1.0,\"#f0f921\"]]}],\"surface\":[{\"type\":\"surface\",\"colorbar\":{\"outlinewidth\":0,\"ticks\":\"\"},\"colorscale\":[[0.0,\"#0d0887\"],[0.1111111111111111,\"#46039f\"],[0.2222222222222222,\"#7201a8\"],[0.3333333333333333,\"#9c179e\"],[0.4444444444444444,\"#bd3786\"],[0.5555555555555556,\"#d8576b\"],[0.6666666666666666,\"#ed7953\"],[0.7777777777777778,\"#fb9f3a\"],[0.8888888888888888,\"#fdca26\"],[1.0,\"#f0f921\"]]}],\"mesh3d\":[{\"type\":\"mesh3d\",\"colorbar\":{\"outlinewidth\":0,\"ticks\":\"\"}}],\"scatter\":[{\"fillpattern\":{\"fillmode\":\"overlay\",\"size\":10,\"solidity\":0.2},\"type\":\"scatter\"}],\"parcoords\":[{\"type\":\"parcoords\",\"line\":{\"colorbar\":{\"outlinewidth\":0,\"ticks\":\"\"}}}],\"scatterpolargl\":[{\"type\":\"scatterpolargl\",\"marker\":{\"colorbar\":{\"outlinewidth\":0,\"ticks\":\"\"}}}],\"bar\":[{\"error_x\":{\"color\":\"#2a3f5f\"},\"error_y\":{\"color\":\"#2a3f5f\"},\"marker\":{\"line\":{\"color\":\"#E5ECF6\",\"width\":0.5},\"pattern\":{\"fillmode\":\"overlay\",\"size\":10,\"solidity\":0.2}},\"type\":\"bar\"}],\"scattergeo\":[{\"type\":\"scattergeo\",\"marker\":{\"colorbar\":{\"outlinewidth\":0,\"ticks\":\"\"}}}],\"scatterpolar\":[{\"type\":\"scatterpolar\",\"marker\":{\"colorbar\":{\"outlinewidth\":0,\"ticks\":\"\"}}}],\"histogram\":[{\"marker\":{\"pattern\":{\"fillmode\":\"overlay\",\"size\":10,\"solidity\":0.2}},\"type\":\"histogram\"}],\"scattergl\":[{\"type\":\"scattergl\",\"marker\":{\"colorbar\":{\"outlinewidth\":0,\"ticks\":\"\"}}}],\"scatter3d\":[{\"type\":\"scatter3d\",\"line\":{\"colorbar\":{\"outlinewidth\":0,\"ticks\":\"\"}},\"marker\":{\"colorbar\":{\"outlinewidth\":0,\"ticks\":\"\"}}}],\"scattermap\":[{\"type\":\"scattermap\",\"marker\":{\"colorbar\":{\"outlinewidth\":0,\"ticks\":\"\"}}}],\"scattermapbox\":[{\"type\":\"scattermapbox\",\"marker\":{\"colorbar\":{\"outlinewidth\":0,\"ticks\":\"\"}}}],\"scatterternary\":[{\"type\":\"scatterternary\",\"marker\":{\"colorbar\":{\"outlinewidth\":0,\"ticks\":\"\"}}}],\"scattercarpet\":[{\"type\":\"scattercarpet\",\"marker\":{\"colorbar\":{\"outlinewidth\":0,\"ticks\":\"\"}}}],\"carpet\":[{\"aaxis\":{\"endlinecolor\":\"#2a3f5f\",\"gridcolor\":\"white\",\"linecolor\":\"white\",\"minorgridcolor\":\"white\",\"startlinecolor\":\"#2a3f5f\"},\"baxis\":{\"endlinecolor\":\"#2a3f5f\",\"gridcolor\":\"white\",\"linecolor\":\"white\",\"minorgridcolor\":\"white\",\"startlinecolor\":\"#2a3f5f\"},\"type\":\"carpet\"}],\"table\":[{\"cells\":{\"fill\":{\"color\":\"#EBF0F8\"},\"line\":{\"color\":\"white\"}},\"header\":{\"fill\":{\"color\":\"#C8D4E3\"},\"line\":{\"color\":\"white\"}},\"type\":\"table\"}],\"barpolar\":[{\"marker\":{\"line\":{\"color\":\"#E5ECF6\",\"width\":0.5},\"pattern\":{\"fillmode\":\"overlay\",\"size\":10,\"solidity\":0.2}},\"type\":\"barpolar\"}],\"pie\":[{\"automargin\":true,\"type\":\"pie\"}]},\"layout\":{\"autotypenumbers\":\"strict\",\"colorway\":[\"#636efa\",\"#EF553B\",\"#00cc96\",\"#ab63fa\",\"#FFA15A\",\"#19d3f3\",\"#FF6692\",\"#B6E880\",\"#FF97FF\",\"#FECB52\"],\"font\":{\"color\":\"#2a3f5f\"},\"hovermode\":\"closest\",\"hoverlabel\":{\"align\":\"left\"},\"paper_bgcolor\":\"white\",\"plot_bgcolor\":\"#E5ECF6\",\"polar\":{\"bgcolor\":\"#E5ECF6\",\"angularaxis\":{\"gridcolor\":\"white\",\"linecolor\":\"white\",\"ticks\":\"\"},\"radialaxis\":{\"gridcolor\":\"white\",\"linecolor\":\"white\",\"ticks\":\"\"}},\"ternary\":{\"bgcolor\":\"#E5ECF6\",\"aaxis\":{\"gridcolor\":\"white\",\"linecolor\":\"white\",\"ticks\":\"\"},\"baxis\":{\"gridcolor\":\"white\",\"linecolor\":\"white\",\"ticks\":\"\"},\"caxis\":{\"gridcolor\":\"white\",\"linecolor\":\"white\",\"ticks\":\"\"}},\"coloraxis\":{\"colorbar\":{\"outlinewidth\":0,\"ticks\":\"\"}},\"colorscale\":{\"sequential\":[[0.0,\"#0d0887\"],[0.1111111111111111,\"#46039f\"],[0.2222222222222222,\"#7201a8\"],[0.3333333333333333,\"#9c179e\"],[0.4444444444444444,\"#bd3786\"],[0.5555555555555556,\"#d8576b\"],[0.6666666666666666,\"#ed7953\"],[0.7777777777777778,\"#fb9f3a\"],[0.8888888888888888,\"#fdca26\"],[1.0,\"#f0f921\"]],\"sequentialminus\":[[0.0,\"#0d0887\"],[0.1111111111111111,\"#46039f\"],[0.2222222222222222,\"#7201a8\"],[0.3333333333333333,\"#9c179e\"],[0.4444444444444444,\"#bd3786\"],[0.5555555555555556,\"#d8576b\"],[0.6666666666666666,\"#ed7953\"],[0.7777777777777778,\"#fb9f3a\"],[0.8888888888888888,\"#fdca26\"],[1.0,\"#f0f921\"]],\"diverging\":[[0,\"#8e0152\"],[0.1,\"#c51b7d\"],[0.2,\"#de77ae\"],[0.3,\"#f1b6da\"],[0.4,\"#fde0ef\"],[0.5,\"#f7f7f7\"],[0.6,\"#e6f5d0\"],[0.7,\"#b8e186\"],[0.8,\"#7fbc41\"],[0.9,\"#4d9221\"],[1,\"#276419\"]]},\"xaxis\":{\"gridcolor\":\"white\",\"linecolor\":\"white\",\"ticks\":\"\",\"title\":{\"standoff\":15},\"zerolinecolor\":\"white\",\"automargin\":true,\"zerolinewidth\":2},\"yaxis\":{\"gridcolor\":\"white\",\"linecolor\":\"white\",\"ticks\":\"\",\"title\":{\"standoff\":15},\"zerolinecolor\":\"white\",\"automargin\":true,\"zerolinewidth\":2},\"scene\":{\"xaxis\":{\"backgroundcolor\":\"#E5ECF6\",\"gridcolor\":\"white\",\"linecolor\":\"white\",\"showbackground\":true,\"ticks\":\"\",\"zerolinecolor\":\"white\",\"gridwidth\":2},\"yaxis\":{\"backgroundcolor\":\"#E5ECF6\",\"gridcolor\":\"white\",\"linecolor\":\"white\",\"showbackground\":true,\"ticks\":\"\",\"zerolinecolor\":\"white\",\"gridwidth\":2},\"zaxis\":{\"backgroundcolor\":\"#E5ECF6\",\"gridcolor\":\"white\",\"linecolor\":\"white\",\"showbackground\":true,\"ticks\":\"\",\"zerolinecolor\":\"white\",\"gridwidth\":2}},\"shapedefaults\":{\"line\":{\"color\":\"#2a3f5f\"}},\"annotationdefaults\":{\"arrowcolor\":\"#2a3f5f\",\"arrowhead\":0,\"arrowwidth\":1},\"geo\":{\"bgcolor\":\"white\",\"landcolor\":\"#E5ECF6\",\"subunitcolor\":\"white\",\"showland\":true,\"showlakes\":true,\"lakecolor\":\"white\"},\"title\":{\"x\":0.05},\"mapbox\":{\"style\":\"light\"}}},\"xaxis\":{\"anchor\":\"y\",\"domain\":[0.0,1.0],\"title\":{\"text\":\"eye_color\"}},\"yaxis\":{\"anchor\":\"x\",\"domain\":[0.0,1.0],\"title\":{\"text\":\"count\"}},\"legend\":{\"tracegroupgap\":0},\"margin\":{\"t\":60},\"barmode\":\"relative\",\"title\":{\"text\":\"Histogram of Eye Colors in the Star Wars Universe\",\"x\":0.5},\"bargap\":0.1},                        {\"responsive\": true}                    ).then(function(){\n",
       "                            \n",
       "var gd = document.getElementById('a2eee1da-0dbd-4d5e-b959-a487e47610a2');\n",
       "var x = new MutationObserver(function (mutations, observer) {{\n",
       "        var display = window.getComputedStyle(gd).display;\n",
       "        if (!display || display === 'none') {{\n",
       "            console.log([gd, 'removed!']);\n",
       "            Plotly.purge(gd);\n",
       "            observer.disconnect();\n",
       "        }}\n",
       "}});\n",
       "\n",
       "// Listen for the removal of the full notebook cells\n",
       "var notebookContainer = gd.closest('#notebook-container');\n",
       "if (notebookContainer) {{\n",
       "    x.observe(notebookContainer, {childList: true});\n",
       "}}\n",
       "\n",
       "// Listen for the clearing of the current output cell\n",
       "var outputEl = gd.closest('.output');\n",
       "if (outputEl) {{\n",
       "    x.observe(outputEl, {childList: true});\n",
       "}}\n",
       "\n",
       "                        })                };            </script>        </div>\n",
       "</body>\n",
       "</html>"
      ]
     },
     "metadata": {},
     "output_type": "display_data"
    }
   ],
   "source": [
    "fig = px.histogram(DF,\n",
    "                   x='eye_color',\n",
    "                   labels={'Eye Color':'Eye Color'},\n",
    "                   opacity=0.8,\n",
    "                   color_discrete_sequence=(['turquoise']))\n",
    "fig.update_layout(bargap=0.1, title=\n",
    "            'Histogram of Eye Colors in the Star Wars Universe',\n",
    "            title_x=0.5)\n",
    "fig.show()"
   ]
  },
  {
   "cell_type": "code",
   "execution_count": 7,
   "id": "83faf564-3892-46f3-a7a4-8009e1c78a78",
   "metadata": {},
   "outputs": [
    {
     "data": {
      "text/html": [
       "<html>\n",
       "<head><meta charset=\"utf-8\" /></head>\n",
       "<body>\n",
       "    <div>            <script src=\"https://cdnjs.cloudflare.com/ajax/libs/mathjax/2.7.5/MathJax.js?config=TeX-AMS-MML_SVG\"></script><script type=\"text/javascript\">if (window.MathJax && window.MathJax.Hub && window.MathJax.Hub.Config) {window.MathJax.Hub.Config({SVG: {font: \"STIX-Web\"}});}</script>                <script type=\"text/javascript\">window.PlotlyConfig = {MathJaxConfig: 'local'};</script>\n",
       "        <script charset=\"utf-8\" src=\"https://cdn.plot.ly/plotly-3.1.0.min.js\" integrity=\"sha256-Ei4740bWZhaUTQuD6q9yQlgVCMPBz6CZWhevDYPv93A=\" crossorigin=\"anonymous\"></script>                <div id=\"e5eb6469-91fe-4fdc-bea9-6498afe084c6\" class=\"plotly-graph-div\" style=\"height:525px; width:100%;\"></div>            <script type=\"text/javascript\">                window.PLOTLYENV=window.PLOTLYENV || {};                                if (document.getElementById(\"e5eb6469-91fe-4fdc-bea9-6498afe084c6\")) {                    Plotly.newPlot(                        \"e5eb6469-91fe-4fdc-bea9-6498afe084c6\",                        [{\"bingroup\":\"x\",\"hovertemplate\":\"skin_color=%{x}\\u003cbr\\u003ecount=%{y}\\u003cextra\\u003e\\u003c\\u002fextra\\u003e\",\"legendgroup\":\"\",\"marker\":{\"color\":\"violet\",\"opacity\":0.8,\"pattern\":{\"shape\":\"\"}},\"name\":\"\",\"orientation\":\"v\",\"showlegend\":false,\"x\":[\"fair\",\"gold\",\"white, blue\",\"white\",\"light\",\"light\",\"light\",\"white, red\",\"light\",\"fair\",\"fair\",\"fair\",\"unknown\",\"fair\",\"green\",\"green-tan, brown\",\"fair\",\"fair\",\"green\",\"pale\",\"fair\",\"metal\",\"green\",\"dark\",\"light\",\"brown mottle\",\"fair\",\"fair\",\"brown\",\"grey\",\"fair\",\"mottled green\",\"fair\",\"light\",\"orange\",\"grey\",\"green\",\"fair\",\"blue, grey\",\"grey, red\",\"dark\",\"fair\",\"red\",\"pale\",\"blue\",\"grey, blue\",\"blue, grey\",\"white, blue\",\"grey, green, yellow\",\"dark\",\"pale\",\"green\",\"brown\",\"dark\",\"pale\",\"white\",\"orange\",\"blue\",\"dark\",\"light\",\"fair\",\"green\",\"yellow\",\"yellow\",\"light\",\"fair\",\"tan\",\"tan\",\"fair, green, yellow\",\"brown\",\"grey\",\"grey\",\"fair\",\"silver, red\",\"green, grey\",\"grey\",\"red, blue, white\",\"brown, white\",\"brown\",\"light\",\"pale\",\"grey\",\"dark\",\"light\",\"light\",\"none\",\"none\"],\"xaxis\":\"x\",\"yaxis\":\"y\",\"type\":\"histogram\"}],                        {\"template\":{\"data\":{\"histogram2dcontour\":[{\"type\":\"histogram2dcontour\",\"colorbar\":{\"outlinewidth\":0,\"ticks\":\"\"},\"colorscale\":[[0.0,\"#0d0887\"],[0.1111111111111111,\"#46039f\"],[0.2222222222222222,\"#7201a8\"],[0.3333333333333333,\"#9c179e\"],[0.4444444444444444,\"#bd3786\"],[0.5555555555555556,\"#d8576b\"],[0.6666666666666666,\"#ed7953\"],[0.7777777777777778,\"#fb9f3a\"],[0.8888888888888888,\"#fdca26\"],[1.0,\"#f0f921\"]]}],\"choropleth\":[{\"type\":\"choropleth\",\"colorbar\":{\"outlinewidth\":0,\"ticks\":\"\"}}],\"histogram2d\":[{\"type\":\"histogram2d\",\"colorbar\":{\"outlinewidth\":0,\"ticks\":\"\"},\"colorscale\":[[0.0,\"#0d0887\"],[0.1111111111111111,\"#46039f\"],[0.2222222222222222,\"#7201a8\"],[0.3333333333333333,\"#9c179e\"],[0.4444444444444444,\"#bd3786\"],[0.5555555555555556,\"#d8576b\"],[0.6666666666666666,\"#ed7953\"],[0.7777777777777778,\"#fb9f3a\"],[0.8888888888888888,\"#fdca26\"],[1.0,\"#f0f921\"]]}],\"heatmap\":[{\"type\":\"heatmap\",\"colorbar\":{\"outlinewidth\":0,\"ticks\":\"\"},\"colorscale\":[[0.0,\"#0d0887\"],[0.1111111111111111,\"#46039f\"],[0.2222222222222222,\"#7201a8\"],[0.3333333333333333,\"#9c179e\"],[0.4444444444444444,\"#bd3786\"],[0.5555555555555556,\"#d8576b\"],[0.6666666666666666,\"#ed7953\"],[0.7777777777777778,\"#fb9f3a\"],[0.8888888888888888,\"#fdca26\"],[1.0,\"#f0f921\"]]}],\"contourcarpet\":[{\"type\":\"contourcarpet\",\"colorbar\":{\"outlinewidth\":0,\"ticks\":\"\"}}],\"contour\":[{\"type\":\"contour\",\"colorbar\":{\"outlinewidth\":0,\"ticks\":\"\"},\"colorscale\":[[0.0,\"#0d0887\"],[0.1111111111111111,\"#46039f\"],[0.2222222222222222,\"#7201a8\"],[0.3333333333333333,\"#9c179e\"],[0.4444444444444444,\"#bd3786\"],[0.5555555555555556,\"#d8576b\"],[0.6666666666666666,\"#ed7953\"],[0.7777777777777778,\"#fb9f3a\"],[0.8888888888888888,\"#fdca26\"],[1.0,\"#f0f921\"]]}],\"surface\":[{\"type\":\"surface\",\"colorbar\":{\"outlinewidth\":0,\"ticks\":\"\"},\"colorscale\":[[0.0,\"#0d0887\"],[0.1111111111111111,\"#46039f\"],[0.2222222222222222,\"#7201a8\"],[0.3333333333333333,\"#9c179e\"],[0.4444444444444444,\"#bd3786\"],[0.5555555555555556,\"#d8576b\"],[0.6666666666666666,\"#ed7953\"],[0.7777777777777778,\"#fb9f3a\"],[0.8888888888888888,\"#fdca26\"],[1.0,\"#f0f921\"]]}],\"mesh3d\":[{\"type\":\"mesh3d\",\"colorbar\":{\"outlinewidth\":0,\"ticks\":\"\"}}],\"scatter\":[{\"fillpattern\":{\"fillmode\":\"overlay\",\"size\":10,\"solidity\":0.2},\"type\":\"scatter\"}],\"parcoords\":[{\"type\":\"parcoords\",\"line\":{\"colorbar\":{\"outlinewidth\":0,\"ticks\":\"\"}}}],\"scatterpolargl\":[{\"type\":\"scatterpolargl\",\"marker\":{\"colorbar\":{\"outlinewidth\":0,\"ticks\":\"\"}}}],\"bar\":[{\"error_x\":{\"color\":\"#2a3f5f\"},\"error_y\":{\"color\":\"#2a3f5f\"},\"marker\":{\"line\":{\"color\":\"#E5ECF6\",\"width\":0.5},\"pattern\":{\"fillmode\":\"overlay\",\"size\":10,\"solidity\":0.2}},\"type\":\"bar\"}],\"scattergeo\":[{\"type\":\"scattergeo\",\"marker\":{\"colorbar\":{\"outlinewidth\":0,\"ticks\":\"\"}}}],\"scatterpolar\":[{\"type\":\"scatterpolar\",\"marker\":{\"colorbar\":{\"outlinewidth\":0,\"ticks\":\"\"}}}],\"histogram\":[{\"marker\":{\"pattern\":{\"fillmode\":\"overlay\",\"size\":10,\"solidity\":0.2}},\"type\":\"histogram\"}],\"scattergl\":[{\"type\":\"scattergl\",\"marker\":{\"colorbar\":{\"outlinewidth\":0,\"ticks\":\"\"}}}],\"scatter3d\":[{\"type\":\"scatter3d\",\"line\":{\"colorbar\":{\"outlinewidth\":0,\"ticks\":\"\"}},\"marker\":{\"colorbar\":{\"outlinewidth\":0,\"ticks\":\"\"}}}],\"scattermap\":[{\"type\":\"scattermap\",\"marker\":{\"colorbar\":{\"outlinewidth\":0,\"ticks\":\"\"}}}],\"scattermapbox\":[{\"type\":\"scattermapbox\",\"marker\":{\"colorbar\":{\"outlinewidth\":0,\"ticks\":\"\"}}}],\"scatterternary\":[{\"type\":\"scatterternary\",\"marker\":{\"colorbar\":{\"outlinewidth\":0,\"ticks\":\"\"}}}],\"scattercarpet\":[{\"type\":\"scattercarpet\",\"marker\":{\"colorbar\":{\"outlinewidth\":0,\"ticks\":\"\"}}}],\"carpet\":[{\"aaxis\":{\"endlinecolor\":\"#2a3f5f\",\"gridcolor\":\"white\",\"linecolor\":\"white\",\"minorgridcolor\":\"white\",\"startlinecolor\":\"#2a3f5f\"},\"baxis\":{\"endlinecolor\":\"#2a3f5f\",\"gridcolor\":\"white\",\"linecolor\":\"white\",\"minorgridcolor\":\"white\",\"startlinecolor\":\"#2a3f5f\"},\"type\":\"carpet\"}],\"table\":[{\"cells\":{\"fill\":{\"color\":\"#EBF0F8\"},\"line\":{\"color\":\"white\"}},\"header\":{\"fill\":{\"color\":\"#C8D4E3\"},\"line\":{\"color\":\"white\"}},\"type\":\"table\"}],\"barpolar\":[{\"marker\":{\"line\":{\"color\":\"#E5ECF6\",\"width\":0.5},\"pattern\":{\"fillmode\":\"overlay\",\"size\":10,\"solidity\":0.2}},\"type\":\"barpolar\"}],\"pie\":[{\"automargin\":true,\"type\":\"pie\"}]},\"layout\":{\"autotypenumbers\":\"strict\",\"colorway\":[\"#636efa\",\"#EF553B\",\"#00cc96\",\"#ab63fa\",\"#FFA15A\",\"#19d3f3\",\"#FF6692\",\"#B6E880\",\"#FF97FF\",\"#FECB52\"],\"font\":{\"color\":\"#2a3f5f\"},\"hovermode\":\"closest\",\"hoverlabel\":{\"align\":\"left\"},\"paper_bgcolor\":\"white\",\"plot_bgcolor\":\"#E5ECF6\",\"polar\":{\"bgcolor\":\"#E5ECF6\",\"angularaxis\":{\"gridcolor\":\"white\",\"linecolor\":\"white\",\"ticks\":\"\"},\"radialaxis\":{\"gridcolor\":\"white\",\"linecolor\":\"white\",\"ticks\":\"\"}},\"ternary\":{\"bgcolor\":\"#E5ECF6\",\"aaxis\":{\"gridcolor\":\"white\",\"linecolor\":\"white\",\"ticks\":\"\"},\"baxis\":{\"gridcolor\":\"white\",\"linecolor\":\"white\",\"ticks\":\"\"},\"caxis\":{\"gridcolor\":\"white\",\"linecolor\":\"white\",\"ticks\":\"\"}},\"coloraxis\":{\"colorbar\":{\"outlinewidth\":0,\"ticks\":\"\"}},\"colorscale\":{\"sequential\":[[0.0,\"#0d0887\"],[0.1111111111111111,\"#46039f\"],[0.2222222222222222,\"#7201a8\"],[0.3333333333333333,\"#9c179e\"],[0.4444444444444444,\"#bd3786\"],[0.5555555555555556,\"#d8576b\"],[0.6666666666666666,\"#ed7953\"],[0.7777777777777778,\"#fb9f3a\"],[0.8888888888888888,\"#fdca26\"],[1.0,\"#f0f921\"]],\"sequentialminus\":[[0.0,\"#0d0887\"],[0.1111111111111111,\"#46039f\"],[0.2222222222222222,\"#7201a8\"],[0.3333333333333333,\"#9c179e\"],[0.4444444444444444,\"#bd3786\"],[0.5555555555555556,\"#d8576b\"],[0.6666666666666666,\"#ed7953\"],[0.7777777777777778,\"#fb9f3a\"],[0.8888888888888888,\"#fdca26\"],[1.0,\"#f0f921\"]],\"diverging\":[[0,\"#8e0152\"],[0.1,\"#c51b7d\"],[0.2,\"#de77ae\"],[0.3,\"#f1b6da\"],[0.4,\"#fde0ef\"],[0.5,\"#f7f7f7\"],[0.6,\"#e6f5d0\"],[0.7,\"#b8e186\"],[0.8,\"#7fbc41\"],[0.9,\"#4d9221\"],[1,\"#276419\"]]},\"xaxis\":{\"gridcolor\":\"white\",\"linecolor\":\"white\",\"ticks\":\"\",\"title\":{\"standoff\":15},\"zerolinecolor\":\"white\",\"automargin\":true,\"zerolinewidth\":2},\"yaxis\":{\"gridcolor\":\"white\",\"linecolor\":\"white\",\"ticks\":\"\",\"title\":{\"standoff\":15},\"zerolinecolor\":\"white\",\"automargin\":true,\"zerolinewidth\":2},\"scene\":{\"xaxis\":{\"backgroundcolor\":\"#E5ECF6\",\"gridcolor\":\"white\",\"linecolor\":\"white\",\"showbackground\":true,\"ticks\":\"\",\"zerolinecolor\":\"white\",\"gridwidth\":2},\"yaxis\":{\"backgroundcolor\":\"#E5ECF6\",\"gridcolor\":\"white\",\"linecolor\":\"white\",\"showbackground\":true,\"ticks\":\"\",\"zerolinecolor\":\"white\",\"gridwidth\":2},\"zaxis\":{\"backgroundcolor\":\"#E5ECF6\",\"gridcolor\":\"white\",\"linecolor\":\"white\",\"showbackground\":true,\"ticks\":\"\",\"zerolinecolor\":\"white\",\"gridwidth\":2}},\"shapedefaults\":{\"line\":{\"color\":\"#2a3f5f\"}},\"annotationdefaults\":{\"arrowcolor\":\"#2a3f5f\",\"arrowhead\":0,\"arrowwidth\":1},\"geo\":{\"bgcolor\":\"white\",\"landcolor\":\"#E5ECF6\",\"subunitcolor\":\"white\",\"showland\":true,\"showlakes\":true,\"lakecolor\":\"white\"},\"title\":{\"x\":0.05},\"mapbox\":{\"style\":\"light\"}}},\"xaxis\":{\"anchor\":\"y\",\"domain\":[0.0,1.0],\"title\":{\"text\":\"skin_color\"}},\"yaxis\":{\"anchor\":\"x\",\"domain\":[0.0,1.0],\"title\":{\"text\":\"count\"}},\"legend\":{\"tracegroupgap\":0},\"margin\":{\"t\":60},\"barmode\":\"relative\",\"title\":{\"text\":\"Histogram of Skin Colors in the Star Wars Universe\",\"x\":0.5},\"bargap\":0.1},                        {\"responsive\": true}                    ).then(function(){\n",
       "                            \n",
       "var gd = document.getElementById('e5eb6469-91fe-4fdc-bea9-6498afe084c6');\n",
       "var x = new MutationObserver(function (mutations, observer) {{\n",
       "        var display = window.getComputedStyle(gd).display;\n",
       "        if (!display || display === 'none') {{\n",
       "            console.log([gd, 'removed!']);\n",
       "            Plotly.purge(gd);\n",
       "            observer.disconnect();\n",
       "        }}\n",
       "}});\n",
       "\n",
       "// Listen for the removal of the full notebook cells\n",
       "var notebookContainer = gd.closest('#notebook-container');\n",
       "if (notebookContainer) {{\n",
       "    x.observe(notebookContainer, {childList: true});\n",
       "}}\n",
       "\n",
       "// Listen for the clearing of the current output cell\n",
       "var outputEl = gd.closest('.output');\n",
       "if (outputEl) {{\n",
       "    x.observe(outputEl, {childList: true});\n",
       "}}\n",
       "\n",
       "                        })                };            </script>        </div>\n",
       "</body>\n",
       "</html>"
      ]
     },
     "metadata": {},
     "output_type": "display_data"
    }
   ],
   "source": [
    "fig = px.histogram(DF,\n",
    "                   x='skin_color',\n",
    "                   labels={'Skin Color':'Skin Color'},\n",
    "                   opacity=0.8,\n",
    "                   color_discrete_sequence=(['violet']))\n",
    "fig.update_layout(bargap=0.1, title=\n",
    "            'Histogram of Skin Colors in the Star Wars Universe',\n",
    "            title_x=0.5)\n",
    "fig.show()"
   ]
  }
 ],
 "metadata": {
  "kernelspec": {
   "display_name": "Python [conda env:base] *",
   "language": "python",
   "name": "conda-base-py"
  },
  "language_info": {
   "codemirror_mode": {
    "name": "ipython",
    "version": 3
   },
   "file_extension": ".py",
   "mimetype": "text/x-python",
   "name": "python",
   "nbconvert_exporter": "python",
   "pygments_lexer": "ipython3",
   "version": "3.13.5"
  }
 },
 "nbformat": 4,
 "nbformat_minor": 5
}
