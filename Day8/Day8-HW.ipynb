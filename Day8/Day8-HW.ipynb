{
 "cells": [
  {
   "cell_type": "markdown",
   "id": "a9215f5c-525b-4508-8b0d-700f55cbd252",
   "metadata": {},
   "source": [
    "## Introduction to Data Science\n",
    "\n",
    "#### University of Redlands - DATA 101\n",
    "#### Prof: Joanna Bieri [joanna_bieri@redlands.edu](mailto:joanna_bieri@redlands.edu)\n",
    "#### [Class Website: data101.joannabieri.com](https://joannabieri.com/data101.html)\n",
    "\n",
    "---------------------------------------\n",
    "# Homework Day 8\n",
    "---------------------------------------\n",
    "\n",
    "GOALS:\n",
    "\n",
    "1. Load data into Python that you find online\n",
    "2. Understand data types and fix some errors\n",
    "3. Find your own data to play with\n",
    "\n",
    "----------------------------------------------------------\n",
    "\n",
    "This homework has **5 questions** and **1 problem**.\n",
    "\n",
    "NOTE: Be kind to yourself. Working with data can be hard! Every data set is different. **Seriously** come get help! Come to lab!\n"
   ]
  },
  {
   "cell_type": "code",
   "execution_count": 11,
   "id": "049c24b6-a6c1-4ccc-b2de-5ea0366d09f8",
   "metadata": {},
   "outputs": [],
   "source": [
    "import numpy as np\n",
    "import pandas as pd\n",
    "\n",
    "import matplotlib.pyplot as plt\n",
    "import plotly.express as px\n",
    "from plotly.subplots import make_subplots\n",
    "import plotly.io as pio\n",
    "pio.renderers.defaule = 'colab'"
   ]
  },
  {
   "cell_type": "markdown",
   "id": "9c942910-0e2f-4428-95b6-1ca89c228405",
   "metadata": {},
   "source": [
    "You might need to install lxml. If you get a \"ImportError: Missing optional dependency 'lxml'\" Then uncomment and run the cell below"
   ]
  },
  {
   "cell_type": "code",
   "execution_count": 12,
   "id": "3d4ea0c4-7b90-48a6-bd63-684f33d12d79",
   "metadata": {},
   "outputs": [],
   "source": [
    "#!conda install -y lxml"
   ]
  },
  {
   "cell_type": "markdown",
   "id": "23773272-c059-4148-a5a8-91e9da594c46",
   "metadata": {},
   "source": [
    "## Try reading in some data - csv\n",
    "\n",
    "Go to the [Cal Fire Website](https://www.fire.ca.gov/incidents) and scroll to the bottom to see the Incident Data. We will download the file named **ALL DATA AS CSV** this should put the data file into your Downloads folder. \n",
    "\n",
    "Next you need to move the file **mapdataall.csv** from your Downloads folder into your Day8 folder where you are doing your homework. You can open your Downloads folder and drag the file into JupyterLab side bar. Then I can run the command\n",
    "\n",
    "    DF_raw = pd.read_csv('mapdataall.csv')\n",
    "\n",
    "to load the data and look at the data frame."
   ]
  },
  {
   "cell_type": "code",
   "execution_count": 32,
   "id": "e90fdd5f-bd17-4c94-b3f4-7ddc998bd001",
   "metadata": {},
   "outputs": [
    {
     "data": {
      "text/html": [
       "<div>\n",
       "<style scoped>\n",
       "    .dataframe tbody tr th:only-of-type {\n",
       "        vertical-align: middle;\n",
       "    }\n",
       "\n",
       "    .dataframe tbody tr th {\n",
       "        vertical-align: top;\n",
       "    }\n",
       "\n",
       "    .dataframe thead th {\n",
       "        text-align: right;\n",
       "    }\n",
       "</style>\n",
       "<table border=\"1\" class=\"dataframe\">\n",
       "  <thead>\n",
       "    <tr style=\"text-align: right;\">\n",
       "      <th></th>\n",
       "      <th>incident_name</th>\n",
       "      <th>incident_is_final</th>\n",
       "      <th>incident_date_last_update</th>\n",
       "      <th>incident_date_created</th>\n",
       "      <th>incident_administrative_unit</th>\n",
       "      <th>incident_administrative_unit_url</th>\n",
       "      <th>incident_county</th>\n",
       "      <th>incident_location</th>\n",
       "      <th>incident_acres_burned</th>\n",
       "      <th>incident_containment</th>\n",
       "      <th>...</th>\n",
       "      <th>incident_latitude</th>\n",
       "      <th>incident_type</th>\n",
       "      <th>incident_id</th>\n",
       "      <th>incident_url</th>\n",
       "      <th>incident_date_extinguished</th>\n",
       "      <th>incident_dateonly_extinguished</th>\n",
       "      <th>incident_dateonly_created</th>\n",
       "      <th>is_active</th>\n",
       "      <th>calfire_incident</th>\n",
       "      <th>notification_desired</th>\n",
       "    </tr>\n",
       "  </thead>\n",
       "  <tbody>\n",
       "    <tr>\n",
       "      <th>0</th>\n",
       "      <td>Bridge Fire</td>\n",
       "      <td>Y</td>\n",
       "      <td>2018-01-09T13:46:00Z</td>\n",
       "      <td>2017-10-31T11:22:00Z</td>\n",
       "      <td>Shasta-Trinity National Forest</td>\n",
       "      <td>NaN</td>\n",
       "      <td>Shasta</td>\n",
       "      <td>I-5 and Turntable Bay, 7 miles NE of Shasta Lake</td>\n",
       "      <td>37.0</td>\n",
       "      <td>100.0</td>\n",
       "      <td>...</td>\n",
       "      <td>40.774000</td>\n",
       "      <td>NaN</td>\n",
       "      <td>2ca11d45-8139-4c16-8af0-880d99b21e82</td>\n",
       "      <td>https://www.fire.ca.gov/incidents/2017/10/31/b...</td>\n",
       "      <td>2018-01-09T13:46:00Z</td>\n",
       "      <td>2018-01-09</td>\n",
       "      <td>2017-10-31</td>\n",
       "      <td>N</td>\n",
       "      <td>False</td>\n",
       "      <td>False</td>\n",
       "    </tr>\n",
       "    <tr>\n",
       "      <th>1</th>\n",
       "      <td>Pala Fire</td>\n",
       "      <td>Y</td>\n",
       "      <td>2020-09-16T14:07:35Z</td>\n",
       "      <td>2009-05-24T14:56:00Z</td>\n",
       "      <td>CAL FIRE San Diego Unit</td>\n",
       "      <td>NaN</td>\n",
       "      <td>San Diego</td>\n",
       "      <td>Hwy 76 and Pala Temecula, northwest of Pala</td>\n",
       "      <td>122.0</td>\n",
       "      <td>100.0</td>\n",
       "      <td>...</td>\n",
       "      <td>1.000000</td>\n",
       "      <td>Wildfire</td>\n",
       "      <td>8f61f461-552d-4538-b186-35ab030da416</td>\n",
       "      <td>https://www.fire.ca.gov/incidents/2009/5/24/pa...</td>\n",
       "      <td>2009-05-25T00:00:00Z</td>\n",
       "      <td>2009-05-25</td>\n",
       "      <td>2009-05-24</td>\n",
       "      <td>N</td>\n",
       "      <td>True</td>\n",
       "      <td>False</td>\n",
       "    </tr>\n",
       "    <tr>\n",
       "      <th>2</th>\n",
       "      <td>River Fire</td>\n",
       "      <td>Y</td>\n",
       "      <td>2022-10-24T11:39:23Z</td>\n",
       "      <td>2013-02-24T08:16:00Z</td>\n",
       "      <td>CAL FIRE San Bernardino Unit</td>\n",
       "      <td>NaN</td>\n",
       "      <td>Inyo</td>\n",
       "      <td>south of Narrow Gauge Rd &amp; north of Hwy 136, e...</td>\n",
       "      <td>407.0</td>\n",
       "      <td>100.0</td>\n",
       "      <td>...</td>\n",
       "      <td>36.602575</td>\n",
       "      <td>NaN</td>\n",
       "      <td>094719ba-a47b-4abb-9ec5-a506b2b9fd23</td>\n",
       "      <td>https://www.fire.ca.gov/incidents/2013/2/24/ri...</td>\n",
       "      <td>2013-02-28T20:00:00Z</td>\n",
       "      <td>2013-02-28</td>\n",
       "      <td>2013-02-24</td>\n",
       "      <td>N</td>\n",
       "      <td>True</td>\n",
       "      <td>False</td>\n",
       "    </tr>\n",
       "    <tr>\n",
       "      <th>3</th>\n",
       "      <td>Fawnskin Fire</td>\n",
       "      <td>Y</td>\n",
       "      <td>2013-04-22T09:00:00Z</td>\n",
       "      <td>2013-04-20T17:30:00Z</td>\n",
       "      <td>San Bernardino National Forest</td>\n",
       "      <td>NaN</td>\n",
       "      <td>San Bernardino</td>\n",
       "      <td>west of Delamar Mountain, north of the communi...</td>\n",
       "      <td>30.0</td>\n",
       "      <td>100.0</td>\n",
       "      <td>...</td>\n",
       "      <td>34.288877</td>\n",
       "      <td>NaN</td>\n",
       "      <td>58f89ff8-bd3e-4355-b1c0-8fa05c747d3f</td>\n",
       "      <td>https://www.fire.ca.gov/incidents/2013/4/20/fa...</td>\n",
       "      <td>2013-04-22T09:00:00Z</td>\n",
       "      <td>2013-04-22</td>\n",
       "      <td>2013-04-20</td>\n",
       "      <td>N</td>\n",
       "      <td>False</td>\n",
       "      <td>False</td>\n",
       "    </tr>\n",
       "    <tr>\n",
       "      <th>4</th>\n",
       "      <td>Gold Fire</td>\n",
       "      <td>Y</td>\n",
       "      <td>2013-05-01T07:00:00Z</td>\n",
       "      <td>2013-04-30T12:59:00Z</td>\n",
       "      <td>CAL FIRE Madera-Mariposa-Merced Unit</td>\n",
       "      <td>NaN</td>\n",
       "      <td>Madera</td>\n",
       "      <td>Between Road 210 and Road 200 near Fine Gold C...</td>\n",
       "      <td>274.0</td>\n",
       "      <td>100.0</td>\n",
       "      <td>...</td>\n",
       "      <td>37.116295</td>\n",
       "      <td>NaN</td>\n",
       "      <td>357ffc13-bef9-48eb-810f-c5de851972eb</td>\n",
       "      <td>https://www.fire.ca.gov/incidents/2013/4/30/go...</td>\n",
       "      <td>2013-05-01T07:00:00Z</td>\n",
       "      <td>2013-05-01</td>\n",
       "      <td>2013-04-30</td>\n",
       "      <td>N</td>\n",
       "      <td>True</td>\n",
       "      <td>False</td>\n",
       "    </tr>\n",
       "    <tr>\n",
       "      <th>...</th>\n",
       "      <td>...</td>\n",
       "      <td>...</td>\n",
       "      <td>...</td>\n",
       "      <td>...</td>\n",
       "      <td>...</td>\n",
       "      <td>...</td>\n",
       "      <td>...</td>\n",
       "      <td>...</td>\n",
       "      <td>...</td>\n",
       "      <td>...</td>\n",
       "      <td>...</td>\n",
       "      <td>...</td>\n",
       "      <td>...</td>\n",
       "      <td>...</td>\n",
       "      <td>...</td>\n",
       "      <td>...</td>\n",
       "      <td>...</td>\n",
       "      <td>...</td>\n",
       "      <td>...</td>\n",
       "      <td>...</td>\n",
       "      <td>...</td>\n",
       "    </tr>\n",
       "    <tr>\n",
       "      <th>3333</th>\n",
       "      <td>Baldy Fire</td>\n",
       "      <td>Y</td>\n",
       "      <td>2025-09-27T22:07:00Z</td>\n",
       "      <td>2025-09-24T21:44:02Z</td>\n",
       "      <td>CAL FIRE Mendocino Unit</td>\n",
       "      <td>NaN</td>\n",
       "      <td>Mendocino</td>\n",
       "      <td>Bald Mountain Rd./Mina Rd. Covelo</td>\n",
       "      <td>14.0</td>\n",
       "      <td>100.0</td>\n",
       "      <td>...</td>\n",
       "      <td>39.926657</td>\n",
       "      <td>Wildfire</td>\n",
       "      <td>15701491-c78d-4cef-af34-06398c665132</td>\n",
       "      <td>https://www.fire.ca.gov/incidents/2025/9/24/ba...</td>\n",
       "      <td>2025-09-27T22:00:38Z</td>\n",
       "      <td>2025-09-27</td>\n",
       "      <td>2025-09-24</td>\n",
       "      <td>N</td>\n",
       "      <td>True</td>\n",
       "      <td>False</td>\n",
       "    </tr>\n",
       "    <tr>\n",
       "      <th>3334</th>\n",
       "      <td>Joaquin Fire</td>\n",
       "      <td>N</td>\n",
       "      <td>2025-09-28T12:00:21-07:00</td>\n",
       "      <td>2025-09-24T21:56:39Z</td>\n",
       "      <td>CAL FIRE Fresno-Kings Unit</td>\n",
       "      <td>NaN</td>\n",
       "      <td>Fresno</td>\n",
       "      <td>Los Gatos Road and Joaquin Rocks, West of Coal...</td>\n",
       "      <td>37.0</td>\n",
       "      <td>25.0</td>\n",
       "      <td>...</td>\n",
       "      <td>36.219908</td>\n",
       "      <td>Wildfire</td>\n",
       "      <td>d5765fe2-4b65-4dcd-8e1e-923926c23d35</td>\n",
       "      <td>https://www.fire.ca.gov/incidents/2025/9/24/jo...</td>\n",
       "      <td>NaN</td>\n",
       "      <td>NaN</td>\n",
       "      <td>2025-09-24</td>\n",
       "      <td>Y</td>\n",
       "      <td>True</td>\n",
       "      <td>False</td>\n",
       "    </tr>\n",
       "    <tr>\n",
       "      <th>3335</th>\n",
       "      <td>Lost Fire</td>\n",
       "      <td>Y</td>\n",
       "      <td>2025-09-28T09:51:03Z</td>\n",
       "      <td>2025-09-25T08:00:00Z</td>\n",
       "      <td>Ventura County Fire Department</td>\n",
       "      <td>NaN</td>\n",
       "      <td>Ventura</td>\n",
       "      <td>Near Lost Canyon Drive, Simi Valley</td>\n",
       "      <td>13.0</td>\n",
       "      <td>100.0</td>\n",
       "      <td>...</td>\n",
       "      <td>34.301578</td>\n",
       "      <td>Wildfire</td>\n",
       "      <td>75c850b6-27a5-493e-aaef-a42e02b2eab4</td>\n",
       "      <td>https://www.fire.ca.gov/incidents/2025/9/25/lo...</td>\n",
       "      <td>2025-09-27T14:00:00Z</td>\n",
       "      <td>2025-09-27</td>\n",
       "      <td>2025-09-25</td>\n",
       "      <td>N</td>\n",
       "      <td>False</td>\n",
       "      <td>False</td>\n",
       "    </tr>\n",
       "    <tr>\n",
       "      <th>3336</th>\n",
       "      <td>Martell Fire</td>\n",
       "      <td>Y</td>\n",
       "      <td>2025-09-28T09:49:59Z</td>\n",
       "      <td>2025-09-26T14:45:08Z</td>\n",
       "      <td>CAL FIRE Tuolumne-Calaveras Unit</td>\n",
       "      <td>NaN</td>\n",
       "      <td>Stanislaus</td>\n",
       "      <td>South of Telegraph Road and Northeast of Sonor...</td>\n",
       "      <td>37.0</td>\n",
       "      <td>100.0</td>\n",
       "      <td>...</td>\n",
       "      <td>37.906127</td>\n",
       "      <td>Wildfire</td>\n",
       "      <td>2d15d2af-d4a5-4f41-a17c-b17e3030ea93</td>\n",
       "      <td>https://www.fire.ca.gov/incidents/2025/9/26/ma...</td>\n",
       "      <td>2025-09-26T23:30:00Z</td>\n",
       "      <td>2025-09-26</td>\n",
       "      <td>2025-09-26</td>\n",
       "      <td>N</td>\n",
       "      <td>True</td>\n",
       "      <td>False</td>\n",
       "    </tr>\n",
       "    <tr>\n",
       "      <th>3337</th>\n",
       "      <td>Cobb Fire</td>\n",
       "      <td>Y</td>\n",
       "      <td>2025-09-29T07:12:14Z</td>\n",
       "      <td>2025-09-26T15:56:10Z</td>\n",
       "      <td>Six Rivers National Forest</td>\n",
       "      <td>NaN</td>\n",
       "      <td>Humboldt</td>\n",
       "      <td>Cobb Road and Rattlesnake Bridge Road, Dinsmore</td>\n",
       "      <td>12.0</td>\n",
       "      <td>100.0</td>\n",
       "      <td>...</td>\n",
       "      <td>40.463864</td>\n",
       "      <td>Wildfire</td>\n",
       "      <td>793418f8-d217-44c3-8409-617b2a3107a2</td>\n",
       "      <td>https://www.fire.ca.gov/incidents/2025/9/26/co...</td>\n",
       "      <td>2025-09-28T17:00:00Z</td>\n",
       "      <td>2025-09-28</td>\n",
       "      <td>2025-09-26</td>\n",
       "      <td>N</td>\n",
       "      <td>True</td>\n",
       "      <td>False</td>\n",
       "    </tr>\n",
       "  </tbody>\n",
       "</table>\n",
       "<p>3338 rows × 23 columns</p>\n",
       "</div>"
      ],
      "text/plain": [
       "      incident_name incident_is_final  incident_date_last_update  \\\n",
       "0       Bridge Fire                 Y       2018-01-09T13:46:00Z   \n",
       "1         Pala Fire                 Y       2020-09-16T14:07:35Z   \n",
       "2        River Fire                 Y       2022-10-24T11:39:23Z   \n",
       "3     Fawnskin Fire                 Y       2013-04-22T09:00:00Z   \n",
       "4         Gold Fire                 Y       2013-05-01T07:00:00Z   \n",
       "...             ...               ...                        ...   \n",
       "3333     Baldy Fire                 Y       2025-09-27T22:07:00Z   \n",
       "3334   Joaquin Fire                 N  2025-09-28T12:00:21-07:00   \n",
       "3335      Lost Fire                 Y       2025-09-28T09:51:03Z   \n",
       "3336   Martell Fire                 Y       2025-09-28T09:49:59Z   \n",
       "3337      Cobb Fire                 Y       2025-09-29T07:12:14Z   \n",
       "\n",
       "     incident_date_created          incident_administrative_unit  \\\n",
       "0     2017-10-31T11:22:00Z       Shasta-Trinity National Forest    \n",
       "1     2009-05-24T14:56:00Z               CAL FIRE San Diego Unit   \n",
       "2     2013-02-24T08:16:00Z          CAL FIRE San Bernardino Unit   \n",
       "3     2013-04-20T17:30:00Z        San Bernardino National Forest   \n",
       "4     2013-04-30T12:59:00Z  CAL FIRE Madera-Mariposa-Merced Unit   \n",
       "...                    ...                                   ...   \n",
       "3333  2025-09-24T21:44:02Z               CAL FIRE Mendocino Unit   \n",
       "3334  2025-09-24T21:56:39Z            CAL FIRE Fresno-Kings Unit   \n",
       "3335  2025-09-25T08:00:00Z        Ventura County Fire Department   \n",
       "3336  2025-09-26T14:45:08Z      CAL FIRE Tuolumne-Calaveras Unit   \n",
       "3337  2025-09-26T15:56:10Z            Six Rivers National Forest   \n",
       "\n",
       "      incident_administrative_unit_url incident_county  \\\n",
       "0                                  NaN          Shasta   \n",
       "1                                  NaN       San Diego   \n",
       "2                                  NaN            Inyo   \n",
       "3                                  NaN  San Bernardino   \n",
       "4                                  NaN          Madera   \n",
       "...                                ...             ...   \n",
       "3333                               NaN       Mendocino   \n",
       "3334                               NaN          Fresno   \n",
       "3335                               NaN         Ventura   \n",
       "3336                               NaN      Stanislaus   \n",
       "3337                               NaN        Humboldt   \n",
       "\n",
       "                                      incident_location  \\\n",
       "0     I-5 and Turntable Bay, 7 miles NE of Shasta Lake    \n",
       "1           Hwy 76 and Pala Temecula, northwest of Pala   \n",
       "2     south of Narrow Gauge Rd & north of Hwy 136, e...   \n",
       "3     west of Delamar Mountain, north of the communi...   \n",
       "4     Between Road 210 and Road 200 near Fine Gold C...   \n",
       "...                                                 ...   \n",
       "3333                  Bald Mountain Rd./Mina Rd. Covelo   \n",
       "3334  Los Gatos Road and Joaquin Rocks, West of Coal...   \n",
       "3335                Near Lost Canyon Drive, Simi Valley   \n",
       "3336  South of Telegraph Road and Northeast of Sonor...   \n",
       "3337    Cobb Road and Rattlesnake Bridge Road, Dinsmore   \n",
       "\n",
       "      incident_acres_burned  incident_containment  ... incident_latitude  \\\n",
       "0                      37.0                 100.0  ...         40.774000   \n",
       "1                     122.0                 100.0  ...          1.000000   \n",
       "2                     407.0                 100.0  ...         36.602575   \n",
       "3                      30.0                 100.0  ...         34.288877   \n",
       "4                     274.0                 100.0  ...         37.116295   \n",
       "...                     ...                   ...  ...               ...   \n",
       "3333                   14.0                 100.0  ...         39.926657   \n",
       "3334                   37.0                  25.0  ...         36.219908   \n",
       "3335                   13.0                 100.0  ...         34.301578   \n",
       "3336                   37.0                 100.0  ...         37.906127   \n",
       "3337                   12.0                 100.0  ...         40.463864   \n",
       "\n",
       "     incident_type                           incident_id  \\\n",
       "0              NaN  2ca11d45-8139-4c16-8af0-880d99b21e82   \n",
       "1         Wildfire  8f61f461-552d-4538-b186-35ab030da416   \n",
       "2              NaN  094719ba-a47b-4abb-9ec5-a506b2b9fd23   \n",
       "3              NaN  58f89ff8-bd3e-4355-b1c0-8fa05c747d3f   \n",
       "4              NaN  357ffc13-bef9-48eb-810f-c5de851972eb   \n",
       "...            ...                                   ...   \n",
       "3333      Wildfire  15701491-c78d-4cef-af34-06398c665132   \n",
       "3334      Wildfire  d5765fe2-4b65-4dcd-8e1e-923926c23d35   \n",
       "3335      Wildfire  75c850b6-27a5-493e-aaef-a42e02b2eab4   \n",
       "3336      Wildfire  2d15d2af-d4a5-4f41-a17c-b17e3030ea93   \n",
       "3337      Wildfire  793418f8-d217-44c3-8409-617b2a3107a2   \n",
       "\n",
       "                                           incident_url  \\\n",
       "0     https://www.fire.ca.gov/incidents/2017/10/31/b...   \n",
       "1     https://www.fire.ca.gov/incidents/2009/5/24/pa...   \n",
       "2     https://www.fire.ca.gov/incidents/2013/2/24/ri...   \n",
       "3     https://www.fire.ca.gov/incidents/2013/4/20/fa...   \n",
       "4     https://www.fire.ca.gov/incidents/2013/4/30/go...   \n",
       "...                                                 ...   \n",
       "3333  https://www.fire.ca.gov/incidents/2025/9/24/ba...   \n",
       "3334  https://www.fire.ca.gov/incidents/2025/9/24/jo...   \n",
       "3335  https://www.fire.ca.gov/incidents/2025/9/25/lo...   \n",
       "3336  https://www.fire.ca.gov/incidents/2025/9/26/ma...   \n",
       "3337  https://www.fire.ca.gov/incidents/2025/9/26/co...   \n",
       "\n",
       "     incident_date_extinguished incident_dateonly_extinguished  \\\n",
       "0          2018-01-09T13:46:00Z                     2018-01-09   \n",
       "1          2009-05-25T00:00:00Z                     2009-05-25   \n",
       "2          2013-02-28T20:00:00Z                     2013-02-28   \n",
       "3          2013-04-22T09:00:00Z                     2013-04-22   \n",
       "4          2013-05-01T07:00:00Z                     2013-05-01   \n",
       "...                         ...                            ...   \n",
       "3333       2025-09-27T22:00:38Z                     2025-09-27   \n",
       "3334                        NaN                            NaN   \n",
       "3335       2025-09-27T14:00:00Z                     2025-09-27   \n",
       "3336       2025-09-26T23:30:00Z                     2025-09-26   \n",
       "3337       2025-09-28T17:00:00Z                     2025-09-28   \n",
       "\n",
       "     incident_dateonly_created is_active calfire_incident notification_desired  \n",
       "0                   2017-10-31         N            False                False  \n",
       "1                   2009-05-24         N             True                False  \n",
       "2                   2013-02-24         N             True                False  \n",
       "3                   2013-04-20         N            False                False  \n",
       "4                   2013-04-30         N             True                False  \n",
       "...                        ...       ...              ...                  ...  \n",
       "3333                2025-09-24         N             True                False  \n",
       "3334                2025-09-24         Y             True                False  \n",
       "3335                2025-09-25         N            False                False  \n",
       "3336                2025-09-26         N             True                False  \n",
       "3337                2025-09-26         N             True                False  \n",
       "\n",
       "[3338 rows x 23 columns]"
      ]
     },
     "execution_count": 32,
     "metadata": {},
     "output_type": "execute_result"
    }
   ],
   "source": [
    "# Your code here\n",
    "DF_raw= pd.read_csv('mapdataall.csv')\n",
    "DF_raw"
   ]
  },
  {
   "cell_type": "markdown",
   "id": "941e4499-edd1-4210-b3ff-292dd2eb4df7",
   "metadata": {},
   "source": [
    "**Q1** How many variables and observations?\n",
    "\n",
    "**Q2** How many different incident types are there?\n",
    "\n",
    "**Q3** Make a histogram of the acres burned and color the bars by whether or not the incident was a calfire incident. You will probably need to make a mask to remove very small and very large fires. How many fires burned more than 100,000 acres? What is the largest fire in the data?\n",
    "\n",
    "**Extra Q** EXTRA - CHALLENGE - See if you can create a graph that answers the question: Are fires getting bigger or more frequent over time? You get complete creative control on how to answer this question!"
   ]
  },
  {
   "cell_type": "code",
   "execution_count": 19,
   "id": "df36876b-02c2-4d86-b55b-62819a368bf6",
   "metadata": {},
   "outputs": [
    {
     "data": {
      "text/plain": [
       "count         2104\n",
       "unique           4\n",
       "top       Wildfire\n",
       "freq          2067\n",
       "Name: incident_type, dtype: object"
      ]
     },
     "execution_count": 19,
     "metadata": {},
     "output_type": "execute_result"
    }
   ],
   "source": [
    "# You will need to write some code to answer the questions.\n",
    "DF_raw['incident_type'].describe()"
   ]
  },
  {
   "cell_type": "markdown",
   "id": "0e1f769b-d87d-429a-9de8-c35af020525d",
   "metadata": {},
   "source": [
    "MY ANSWERS\n",
    "Q1. There are 3338 variables and 23 variables\n",
    "Q2. I believe there's only 1 incident type which is wildfire.\n",
    "Q3. The gold fire is the largest\n"
   ]
  },
  {
   "cell_type": "code",
   "execution_count": 22,
   "id": "1c9681d2-c88d-44e5-9132-5ba7e22bfa82",
   "metadata": {},
   "outputs": [
    {
     "data": {
      "application/vnd.plotly.v1+json": {
       "config": {
        "plotlyServerURL": "https://plot.ly"
       },
       "data": [
        {
         "bingroup": "x",
         "hovertemplate": "incident_latitude=%{x}<br>count=%{y}<extra></extra>",
         "legendgroup": "",
         "marker": {
          "color": "blue",
          "pattern": {
           "shape": ""
          }
         },
         "name": "",
         "nbinsx": 20,
         "orientation": "v",
         "showlegend": false,
         "type": "histogram",
         "x": {
          "bdata": "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",
          "dtype": "f8"
         },
         "xaxis": "x",
         "yaxis": "y"
        }
       ],
       "layout": {
        "bargap": 0.1,
        "barmode": "relative",
        "legend": {
         "tracegroupgap": 0
        },
        "margin": {
         "t": 60
        },
        "template": {
         "data": {
          "bar": [
           {
            "error_x": {
             "color": "#2a3f5f"
            },
            "error_y": {
             "color": "#2a3f5f"
            },
            "marker": {
             "line": {
              "color": "#E5ECF6",
              "width": 0.5
             },
             "pattern": {
              "fillmode": "overlay",
              "size": 10,
              "solidity": 0.2
             }
            },
            "type": "bar"
           }
          ],
          "barpolar": [
           {
            "marker": {
             "line": {
              "color": "#E5ECF6",
              "width": 0.5
             },
             "pattern": {
              "fillmode": "overlay",
              "size": 10,
              "solidity": 0.2
             }
            },
            "type": "barpolar"
           }
          ],
          "carpet": [
           {
            "aaxis": {
             "endlinecolor": "#2a3f5f",
             "gridcolor": "white",
             "linecolor": "white",
             "minorgridcolor": "white",
             "startlinecolor": "#2a3f5f"
            },
            "baxis": {
             "endlinecolor": "#2a3f5f",
             "gridcolor": "white",
             "linecolor": "white",
             "minorgridcolor": "white",
             "startlinecolor": "#2a3f5f"
            },
            "type": "carpet"
           }
          ],
          "choropleth": [
           {
            "colorbar": {
             "outlinewidth": 0,
             "ticks": ""
            },
            "type": "choropleth"
           }
          ],
          "contour": [
           {
            "colorbar": {
             "outlinewidth": 0,
             "ticks": ""
            },
            "colorscale": [
             [
              0,
              "#0d0887"
             ],
             [
              0.1111111111111111,
              "#46039f"
             ],
             [
              0.2222222222222222,
              "#7201a8"
             ],
             [
              0.3333333333333333,
              "#9c179e"
             ],
             [
              0.4444444444444444,
              "#bd3786"
             ],
             [
              0.5555555555555556,
              "#d8576b"
             ],
             [
              0.6666666666666666,
              "#ed7953"
             ],
             [
              0.7777777777777778,
              "#fb9f3a"
             ],
             [
              0.8888888888888888,
              "#fdca26"
             ],
             [
              1,
              "#f0f921"
             ]
            ],
            "type": "contour"
           }
          ],
          "contourcarpet": [
           {
            "colorbar": {
             "outlinewidth": 0,
             "ticks": ""
            },
            "type": "contourcarpet"
           }
          ],
          "heatmap": [
           {
            "colorbar": {
             "outlinewidth": 0,
             "ticks": ""
            },
            "colorscale": [
             [
              0,
              "#0d0887"
             ],
             [
              0.1111111111111111,
              "#46039f"
             ],
             [
              0.2222222222222222,
              "#7201a8"
             ],
             [
              0.3333333333333333,
              "#9c179e"
             ],
             [
              0.4444444444444444,
              "#bd3786"
             ],
             [
              0.5555555555555556,
              "#d8576b"
             ],
             [
              0.6666666666666666,
              "#ed7953"
             ],
             [
              0.7777777777777778,
              "#fb9f3a"
             ],
             [
              0.8888888888888888,
              "#fdca26"
             ],
             [
              1,
              "#f0f921"
             ]
            ],
            "type": "heatmap"
           }
          ],
          "histogram": [
           {
            "marker": {
             "pattern": {
              "fillmode": "overlay",
              "size": 10,
              "solidity": 0.2
             }
            },
            "type": "histogram"
           }
          ],
          "histogram2d": [
           {
            "colorbar": {
             "outlinewidth": 0,
             "ticks": ""
            },
            "colorscale": [
             [
              0,
              "#0d0887"
             ],
             [
              0.1111111111111111,
              "#46039f"
             ],
             [
              0.2222222222222222,
              "#7201a8"
             ],
             [
              0.3333333333333333,
              "#9c179e"
             ],
             [
              0.4444444444444444,
              "#bd3786"
             ],
             [
              0.5555555555555556,
              "#d8576b"
             ],
             [
              0.6666666666666666,
              "#ed7953"
             ],
             [
              0.7777777777777778,
              "#fb9f3a"
             ],
             [
              0.8888888888888888,
              "#fdca26"
             ],
             [
              1,
              "#f0f921"
             ]
            ],
            "type": "histogram2d"
           }
          ],
          "histogram2dcontour": [
           {
            "colorbar": {
             "outlinewidth": 0,
             "ticks": ""
            },
            "colorscale": [
             [
              0,
              "#0d0887"
             ],
             [
              0.1111111111111111,
              "#46039f"
             ],
             [
              0.2222222222222222,
              "#7201a8"
             ],
             [
              0.3333333333333333,
              "#9c179e"
             ],
             [
              0.4444444444444444,
              "#bd3786"
             ],
             [
              0.5555555555555556,
              "#d8576b"
             ],
             [
              0.6666666666666666,
              "#ed7953"
             ],
             [
              0.7777777777777778,
              "#fb9f3a"
             ],
             [
              0.8888888888888888,
              "#fdca26"
             ],
             [
              1,
              "#f0f921"
             ]
            ],
            "type": "histogram2dcontour"
           }
          ],
          "mesh3d": [
           {
            "colorbar": {
             "outlinewidth": 0,
             "ticks": ""
            },
            "type": "mesh3d"
           }
          ],
          "parcoords": [
           {
            "line": {
             "colorbar": {
              "outlinewidth": 0,
              "ticks": ""
             }
            },
            "type": "parcoords"
           }
          ],
          "pie": [
           {
            "automargin": true,
            "type": "pie"
           }
          ],
          "scatter": [
           {
            "fillpattern": {
             "fillmode": "overlay",
             "size": 10,
             "solidity": 0.2
            },
            "type": "scatter"
           }
          ],
          "scatter3d": [
           {
            "line": {
             "colorbar": {
              "outlinewidth": 0,
              "ticks": ""
             }
            },
            "marker": {
             "colorbar": {
              "outlinewidth": 0,
              "ticks": ""
             }
            },
            "type": "scatter3d"
           }
          ],
          "scattercarpet": [
           {
            "marker": {
             "colorbar": {
              "outlinewidth": 0,
              "ticks": ""
             }
            },
            "type": "scattercarpet"
           }
          ],
          "scattergeo": [
           {
            "marker": {
             "colorbar": {
              "outlinewidth": 0,
              "ticks": ""
             }
            },
            "type": "scattergeo"
           }
          ],
          "scattergl": [
           {
            "marker": {
             "colorbar": {
              "outlinewidth": 0,
              "ticks": ""
             }
            },
            "type": "scattergl"
           }
          ],
          "scattermap": [
           {
            "marker": {
             "colorbar": {
              "outlinewidth": 0,
              "ticks": ""
             }
            },
            "type": "scattermap"
           }
          ],
          "scattermapbox": [
           {
            "marker": {
             "colorbar": {
              "outlinewidth": 0,
              "ticks": ""
             }
            },
            "type": "scattermapbox"
           }
          ],
          "scatterpolar": [
           {
            "marker": {
             "colorbar": {
              "outlinewidth": 0,
              "ticks": ""
             }
            },
            "type": "scatterpolar"
           }
          ],
          "scatterpolargl": [
           {
            "marker": {
             "colorbar": {
              "outlinewidth": 0,
              "ticks": ""
             }
            },
            "type": "scatterpolargl"
           }
          ],
          "scatterternary": [
           {
            "marker": {
             "colorbar": {
              "outlinewidth": 0,
              "ticks": ""
             }
            },
            "type": "scatterternary"
           }
          ],
          "surface": [
           {
            "colorbar": {
             "outlinewidth": 0,
             "ticks": ""
            },
            "colorscale": [
             [
              0,
              "#0d0887"
             ],
             [
              0.1111111111111111,
              "#46039f"
             ],
             [
              0.2222222222222222,
              "#7201a8"
             ],
             [
              0.3333333333333333,
              "#9c179e"
             ],
             [
              0.4444444444444444,
              "#bd3786"
             ],
             [
              0.5555555555555556,
              "#d8576b"
             ],
             [
              0.6666666666666666,
              "#ed7953"
             ],
             [
              0.7777777777777778,
              "#fb9f3a"
             ],
             [
              0.8888888888888888,
              "#fdca26"
             ],
             [
              1,
              "#f0f921"
             ]
            ],
            "type": "surface"
           }
          ],
          "table": [
           {
            "cells": {
             "fill": {
              "color": "#EBF0F8"
             },
             "line": {
              "color": "white"
             }
            },
            "header": {
             "fill": {
              "color": "#C8D4E3"
             },
             "line": {
              "color": "white"
             }
            },
            "type": "table"
           }
          ]
         },
         "layout": {
          "annotationdefaults": {
           "arrowcolor": "#2a3f5f",
           "arrowhead": 0,
           "arrowwidth": 1
          },
          "autotypenumbers": "strict",
          "coloraxis": {
           "colorbar": {
            "outlinewidth": 0,
            "ticks": ""
           }
          },
          "colorscale": {
           "diverging": [
            [
             0,
             "#8e0152"
            ],
            [
             0.1,
             "#c51b7d"
            ],
            [
             0.2,
             "#de77ae"
            ],
            [
             0.3,
             "#f1b6da"
            ],
            [
             0.4,
             "#fde0ef"
            ],
            [
             0.5,
             "#f7f7f7"
            ],
            [
             0.6,
             "#e6f5d0"
            ],
            [
             0.7,
             "#b8e186"
            ],
            [
             0.8,
             "#7fbc41"
            ],
            [
             0.9,
             "#4d9221"
            ],
            [
             1,
             "#276419"
            ]
           ],
           "sequential": [
            [
             0,
             "#0d0887"
            ],
            [
             0.1111111111111111,
             "#46039f"
            ],
            [
             0.2222222222222222,
             "#7201a8"
            ],
            [
             0.3333333333333333,
             "#9c179e"
            ],
            [
             0.4444444444444444,
             "#bd3786"
            ],
            [
             0.5555555555555556,
             "#d8576b"
            ],
            [
             0.6666666666666666,
             "#ed7953"
            ],
            [
             0.7777777777777778,
             "#fb9f3a"
            ],
            [
             0.8888888888888888,
             "#fdca26"
            ],
            [
             1,
             "#f0f921"
            ]
           ],
           "sequentialminus": [
            [
             0,
             "#0d0887"
            ],
            [
             0.1111111111111111,
             "#46039f"
            ],
            [
             0.2222222222222222,
             "#7201a8"
            ],
            [
             0.3333333333333333,
             "#9c179e"
            ],
            [
             0.4444444444444444,
             "#bd3786"
            ],
            [
             0.5555555555555556,
             "#d8576b"
            ],
            [
             0.6666666666666666,
             "#ed7953"
            ],
            [
             0.7777777777777778,
             "#fb9f3a"
            ],
            [
             0.8888888888888888,
             "#fdca26"
            ],
            [
             1,
             "#f0f921"
            ]
           ]
          },
          "colorway": [
           "#636efa",
           "#EF553B",
           "#00cc96",
           "#ab63fa",
           "#FFA15A",
           "#19d3f3",
           "#FF6692",
           "#B6E880",
           "#FF97FF",
           "#FECB52"
          ],
          "font": {
           "color": "#2a3f5f"
          },
          "geo": {
           "bgcolor": "white",
           "lakecolor": "white",
           "landcolor": "#E5ECF6",
           "showlakes": true,
           "showland": true,
           "subunitcolor": "white"
          },
          "hoverlabel": {
           "align": "left"
          },
          "hovermode": "closest",
          "mapbox": {
           "style": "light"
          },
          "paper_bgcolor": "white",
          "plot_bgcolor": "#E5ECF6",
          "polar": {
           "angularaxis": {
            "gridcolor": "white",
            "linecolor": "white",
            "ticks": ""
           },
           "bgcolor": "#E5ECF6",
           "radialaxis": {
            "gridcolor": "white",
            "linecolor": "white",
            "ticks": ""
           }
          },
          "scene": {
           "xaxis": {
            "backgroundcolor": "#E5ECF6",
            "gridcolor": "white",
            "gridwidth": 2,
            "linecolor": "white",
            "showbackground": true,
            "ticks": "",
            "zerolinecolor": "white"
           },
           "yaxis": {
            "backgroundcolor": "#E5ECF6",
            "gridcolor": "white",
            "gridwidth": 2,
            "linecolor": "white",
            "showbackground": true,
            "ticks": "",
            "zerolinecolor": "white"
           },
           "zaxis": {
            "backgroundcolor": "#E5ECF6",
            "gridcolor": "white",
            "gridwidth": 2,
            "linecolor": "white",
            "showbackground": true,
            "ticks": "",
            "zerolinecolor": "white"
           }
          },
          "shapedefaults": {
           "line": {
            "color": "#2a3f5f"
           }
          },
          "ternary": {
           "aaxis": {
            "gridcolor": "white",
            "linecolor": "white",
            "ticks": ""
           },
           "baxis": {
            "gridcolor": "white",
            "linecolor": "white",
            "ticks": ""
           },
           "bgcolor": "#E5ECF6",
           "caxis": {
            "gridcolor": "white",
            "linecolor": "white",
            "ticks": ""
           }
          },
          "title": {
           "x": 0.05
          },
          "xaxis": {
           "automargin": true,
           "gridcolor": "white",
           "linecolor": "white",
           "ticks": "",
           "title": {
            "standoff": 15
           },
           "zerolinecolor": "white",
           "zerolinewidth": 2
          },
          "yaxis": {
           "automargin": true,
           "gridcolor": "white",
           "linecolor": "white",
           "ticks": "",
           "title": {
            "standoff": 15
           },
           "zerolinecolor": "white",
           "zerolinewidth": 2
          }
         }
        },
        "title": {
         "text": "Histogram of Size of Fires",
         "x": 0.5
        },
        "xaxis": {
         "anchor": "y",
         "domain": [
          0,
          1
         ],
         "title": {
          "text": "incident_latitude"
         }
        },
        "yaxis": {
         "anchor": "x",
         "domain": [
          0,
          1
         ],
         "title": {
          "text": "count"
         }
        }
       }
      },
      "image/png": "[encoded data removed]"
     },
     "metadata": {},
     "output_type": "display_data"
    }
   ],
   "source": [
    "# Extra Code\n",
    "mask=(DF_raw['incident_latitude']) \n",
    "mask\n",
    "DF_raw.describe\n",
    "fig = px.histogram(DF_raw,\n",
    "                   nbins=20,\n",
    "                   x='incident_latitude',\n",
    "                   color_discrete_sequence=['blue'])\n",
    "fig.update_layout(bargap=0.1,\n",
    "                  title='Histogram of Size of Fires',\n",
    "                  title_x=0.5)\n",
    "fig.show()"
   ]
  },
  {
   "cell_type": "code",
   "execution_count": 33,
   "id": "0388222e-a80b-4392-99cd-3966254c4017",
   "metadata": {},
   "outputs": [
    {
     "data": {
      "application/vnd.plotly.v1+json": {
       "config": {
        "plotlyServerURL": "https://plot.ly"
       },
       "data": [
        {
         "bingroup": "x",
         "hovertemplate": "incident_acres_burned=%{x}<br>count=%{y}<extra></extra>",
         "legendgroup": "",
         "marker": {
          "color": "blue",
          "pattern": {
           "shape": ""
          }
         },
         "name": "",
         "nbinsx": 20,
         "orientation": "v",
         "showlegend": false,
         "type": "histogram",
         "x": {
          "bdata": "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",
          "dtype": "f8"
         },
         "xaxis": "x",
         "yaxis": "y"
        }
       ],
       "layout": {
        "bargap": 0.1,
        "barmode": "relative",
        "legend": {
         "tracegroupgap": 0
        },
        "margin": {
         "t": 60
        },
        "template": {
         "data": {
          "bar": [
           {
            "error_x": {
             "color": "#2a3f5f"
            },
            "error_y": {
             "color": "#2a3f5f"
            },
            "marker": {
             "line": {
              "color": "#E5ECF6",
              "width": 0.5
             },
             "pattern": {
              "fillmode": "overlay",
              "size": 10,
              "solidity": 0.2
             }
            },
            "type": "bar"
           }
          ],
          "barpolar": [
           {
            "marker": {
             "line": {
              "color": "#E5ECF6",
              "width": 0.5
             },
             "pattern": {
              "fillmode": "overlay",
              "size": 10,
              "solidity": 0.2
             }
            },
            "type": "barpolar"
           }
          ],
          "carpet": [
           {
            "aaxis": {
             "endlinecolor": "#2a3f5f",
             "gridcolor": "white",
             "linecolor": "white",
             "minorgridcolor": "white",
             "startlinecolor": "#2a3f5f"
            },
            "baxis": {
             "endlinecolor": "#2a3f5f",
             "gridcolor": "white",
             "linecolor": "white",
             "minorgridcolor": "white",
             "startlinecolor": "#2a3f5f"
            },
            "type": "carpet"
           }
          ],
          "choropleth": [
           {
            "colorbar": {
             "outlinewidth": 0,
             "ticks": ""
            },
            "type": "choropleth"
           }
          ],
          "contour": [
           {
            "colorbar": {
             "outlinewidth": 0,
             "ticks": ""
            },
            "colorscale": [
             [
              0,
              "#0d0887"
             ],
             [
              0.1111111111111111,
              "#46039f"
             ],
             [
              0.2222222222222222,
              "#7201a8"
             ],
             [
              0.3333333333333333,
              "#9c179e"
             ],
             [
              0.4444444444444444,
              "#bd3786"
             ],
             [
              0.5555555555555556,
              "#d8576b"
             ],
             [
              0.6666666666666666,
              "#ed7953"
             ],
             [
              0.7777777777777778,
              "#fb9f3a"
             ],
             [
              0.8888888888888888,
              "#fdca26"
             ],
             [
              1,
              "#f0f921"
             ]
            ],
            "type": "contour"
           }
          ],
          "contourcarpet": [
           {
            "colorbar": {
             "outlinewidth": 0,
             "ticks": ""
            },
            "type": "contourcarpet"
           }
          ],
          "heatmap": [
           {
            "colorbar": {
             "outlinewidth": 0,
             "ticks": ""
            },
            "colorscale": [
             [
              0,
              "#0d0887"
             ],
             [
              0.1111111111111111,
              "#46039f"
             ],
             [
              0.2222222222222222,
              "#7201a8"
             ],
             [
              0.3333333333333333,
              "#9c179e"
             ],
             [
              0.4444444444444444,
              "#bd3786"
             ],
             [
              0.5555555555555556,
              "#d8576b"
             ],
             [
              0.6666666666666666,
              "#ed7953"
             ],
             [
              0.7777777777777778,
              "#fb9f3a"
             ],
             [
              0.8888888888888888,
              "#fdca26"
             ],
             [
              1,
              "#f0f921"
             ]
            ],
            "type": "heatmap"
           }
          ],
          "histogram": [
           {
            "marker": {
             "pattern": {
              "fillmode": "overlay",
              "size": 10,
              "solidity": 0.2
             }
            },
            "type": "histogram"
           }
          ],
          "histogram2d": [
           {
            "colorbar": {
             "outlinewidth": 0,
             "ticks": ""
            },
            "colorscale": [
             [
              0,
              "#0d0887"
             ],
             [
              0.1111111111111111,
              "#46039f"
             ],
             [
              0.2222222222222222,
              "#7201a8"
             ],
             [
              0.3333333333333333,
              "#9c179e"
             ],
             [
              0.4444444444444444,
              "#bd3786"
             ],
             [
              0.5555555555555556,
              "#d8576b"
             ],
             [
              0.6666666666666666,
              "#ed7953"
             ],
             [
              0.7777777777777778,
              "#fb9f3a"
             ],
             [
              0.8888888888888888,
              "#fdca26"
             ],
             [
              1,
              "#f0f921"
             ]
            ],
            "type": "histogram2d"
           }
          ],
          "histogram2dcontour": [
           {
            "colorbar": {
             "outlinewidth": 0,
             "ticks": ""
            },
            "colorscale": [
             [
              0,
              "#0d0887"
             ],
             [
              0.1111111111111111,
              "#46039f"
             ],
             [
              0.2222222222222222,
              "#7201a8"
             ],
             [
              0.3333333333333333,
              "#9c179e"
             ],
             [
              0.4444444444444444,
              "#bd3786"
             ],
             [
              0.5555555555555556,
              "#d8576b"
             ],
             [
              0.6666666666666666,
              "#ed7953"
             ],
             [
              0.7777777777777778,
              "#fb9f3a"
             ],
             [
              0.8888888888888888,
              "#fdca26"
             ],
             [
              1,
              "#f0f921"
             ]
            ],
            "type": "histogram2dcontour"
           }
          ],
          "mesh3d": [
           {
            "colorbar": {
             "outlinewidth": 0,
             "ticks": ""
            },
            "type": "mesh3d"
           }
          ],
          "parcoords": [
           {
            "line": {
             "colorbar": {
              "outlinewidth": 0,
              "ticks": ""
             }
            },
            "type": "parcoords"
           }
          ],
          "pie": [
           {
            "automargin": true,
            "type": "pie"
           }
          ],
          "scatter": [
           {
            "fillpattern": {
             "fillmode": "overlay",
             "size": 10,
             "solidity": 0.2
            },
            "type": "scatter"
           }
          ],
          "scatter3d": [
           {
            "line": {
             "colorbar": {
              "outlinewidth": 0,
              "ticks": ""
             }
            },
            "marker": {
             "colorbar": {
              "outlinewidth": 0,
              "ticks": ""
             }
            },
            "type": "scatter3d"
           }
          ],
          "scattercarpet": [
           {
            "marker": {
             "colorbar": {
              "outlinewidth": 0,
              "ticks": ""
             }
            },
            "type": "scattercarpet"
           }
          ],
          "scattergeo": [
           {
            "marker": {
             "colorbar": {
              "outlinewidth": 0,
              "ticks": ""
             }
            },
            "type": "scattergeo"
           }
          ],
          "scattergl": [
           {
            "marker": {
             "colorbar": {
              "outlinewidth": 0,
              "ticks": ""
             }
            },
            "type": "scattergl"
           }
          ],
          "scattermap": [
           {
            "marker": {
             "colorbar": {
              "outlinewidth": 0,
              "ticks": ""
             }
            },
            "type": "scattermap"
           }
          ],
          "scattermapbox": [
           {
            "marker": {
             "colorbar": {
              "outlinewidth": 0,
              "ticks": ""
             }
            },
            "type": "scattermapbox"
           }
          ],
          "scatterpolar": [
           {
            "marker": {
             "colorbar": {
              "outlinewidth": 0,
              "ticks": ""
             }
            },
            "type": "scatterpolar"
           }
          ],
          "scatterpolargl": [
           {
            "marker": {
             "colorbar": {
              "outlinewidth": 0,
              "ticks": ""
             }
            },
            "type": "scatterpolargl"
           }
          ],
          "scatterternary": [
           {
            "marker": {
             "colorbar": {
              "outlinewidth": 0,
              "ticks": ""
             }
            },
            "type": "scatterternary"
           }
          ],
          "surface": [
           {
            "colorbar": {
             "outlinewidth": 0,
             "ticks": ""
            },
            "colorscale": [
             [
              0,
              "#0d0887"
             ],
             [
              0.1111111111111111,
              "#46039f"
             ],
             [
              0.2222222222222222,
              "#7201a8"
             ],
             [
              0.3333333333333333,
              "#9c179e"
             ],
             [
              0.4444444444444444,
              "#bd3786"
             ],
             [
              0.5555555555555556,
              "#d8576b"
             ],
             [
              0.6666666666666666,
              "#ed7953"
             ],
             [
              0.7777777777777778,
              "#fb9f3a"
             ],
             [
              0.8888888888888888,
              "#fdca26"
             ],
             [
              1,
              "#f0f921"
             ]
            ],
            "type": "surface"
           }
          ],
          "table": [
           {
            "cells": {
             "fill": {
              "color": "#EBF0F8"
             },
             "line": {
              "color": "white"
             }
            },
            "header": {
             "fill": {
              "color": "#C8D4E3"
             },
             "line": {
              "color": "white"
             }
            },
            "type": "table"
           }
          ]
         },
         "layout": {
          "annotationdefaults": {
           "arrowcolor": "#2a3f5f",
           "arrowhead": 0,
           "arrowwidth": 1
          },
          "autotypenumbers": "strict",
          "coloraxis": {
           "colorbar": {
            "outlinewidth": 0,
            "ticks": ""
           }
          },
          "colorscale": {
           "diverging": [
            [
             0,
             "#8e0152"
            ],
            [
             0.1,
             "#c51b7d"
            ],
            [
             0.2,
             "#de77ae"
            ],
            [
             0.3,
             "#f1b6da"
            ],
            [
             0.4,
             "#fde0ef"
            ],
            [
             0.5,
             "#f7f7f7"
            ],
            [
             0.6,
             "#e6f5d0"
            ],
            [
             0.7,
             "#b8e186"
            ],
            [
             0.8,
             "#7fbc41"
            ],
            [
             0.9,
             "#4d9221"
            ],
            [
             1,
             "#276419"
            ]
           ],
           "sequential": [
            [
             0,
             "#0d0887"
            ],
            [
             0.1111111111111111,
             "#46039f"
            ],
            [
             0.2222222222222222,
             "#7201a8"
            ],
            [
             0.3333333333333333,
             "#9c179e"
            ],
            [
             0.4444444444444444,
             "#bd3786"
            ],
            [
             0.5555555555555556,
             "#d8576b"
            ],
            [
             0.6666666666666666,
             "#ed7953"
            ],
            [
             0.7777777777777778,
             "#fb9f3a"
            ],
            [
             0.8888888888888888,
             "#fdca26"
            ],
            [
             1,
             "#f0f921"
            ]
           ],
           "sequentialminus": [
            [
             0,
             "#0d0887"
            ],
            [
             0.1111111111111111,
             "#46039f"
            ],
            [
             0.2222222222222222,
             "#7201a8"
            ],
            [
             0.3333333333333333,
             "#9c179e"
            ],
            [
             0.4444444444444444,
             "#bd3786"
            ],
            [
             0.5555555555555556,
             "#d8576b"
            ],
            [
             0.6666666666666666,
             "#ed7953"
            ],
            [
             0.7777777777777778,
             "#fb9f3a"
            ],
            [
             0.8888888888888888,
             "#fdca26"
            ],
            [
             1,
             "#f0f921"
            ]
           ]
          },
          "colorway": [
           "#636efa",
           "#EF553B",
           "#00cc96",
           "#ab63fa",
           "#FFA15A",
           "#19d3f3",
           "#FF6692",
           "#B6E880",
           "#FF97FF",
           "#FECB52"
          ],
          "font": {
           "color": "#2a3f5f"
          },
          "geo": {
           "bgcolor": "white",
           "lakecolor": "white",
           "landcolor": "#E5ECF6",
           "showlakes": true,
           "showland": true,
           "subunitcolor": "white"
          },
          "hoverlabel": {
           "align": "left"
          },
          "hovermode": "closest",
          "mapbox": {
           "style": "light"
          },
          "paper_bgcolor": "white",
          "plot_bgcolor": "#E5ECF6",
          "polar": {
           "angularaxis": {
            "gridcolor": "white",
            "linecolor": "white",
            "ticks": ""
           },
           "bgcolor": "#E5ECF6",
           "radialaxis": {
            "gridcolor": "white",
            "linecolor": "white",
            "ticks": ""
           }
          },
          "scene": {
           "xaxis": {
            "backgroundcolor": "#E5ECF6",
            "gridcolor": "white",
            "gridwidth": 2,
            "linecolor": "white",
            "showbackground": true,
            "ticks": "",
            "zerolinecolor": "white"
           },
           "yaxis": {
            "backgroundcolor": "#E5ECF6",
            "gridcolor": "white",
            "gridwidth": 2,
            "linecolor": "white",
            "showbackground": true,
            "ticks": "",
            "zerolinecolor": "white"
           },
           "zaxis": {
            "backgroundcolor": "#E5ECF6",
            "gridcolor": "white",
            "gridwidth": 2,
            "linecolor": "white",
            "showbackground": true,
            "ticks": "",
            "zerolinecolor": "white"
           }
          },
          "shapedefaults": {
           "line": {
            "color": "#2a3f5f"
           }
          },
          "ternary": {
           "aaxis": {
            "gridcolor": "white",
            "linecolor": "white",
            "ticks": ""
           },
           "baxis": {
            "gridcolor": "white",
            "linecolor": "white",
            "ticks": ""
           },
           "bgcolor": "#E5ECF6",
           "caxis": {
            "gridcolor": "white",
            "linecolor": "white",
            "ticks": ""
           }
          },
          "title": {
           "x": 0.05
          },
          "xaxis": {
           "automargin": true,
           "gridcolor": "white",
           "linecolor": "white",
           "ticks": "",
           "title": {
            "standoff": 15
           },
           "zerolinecolor": "white",
           "zerolinewidth": 2
          },
          "yaxis": {
           "automargin": true,
           "gridcolor": "white",
           "linecolor": "white",
           "ticks": "",
           "title": {
            "standoff": 15
           },
           "zerolinecolor": "white",
           "zerolinewidth": 2
          }
         }
        },
        "title": {
         "text": "Histogram of Number of Acres Burned",
         "x": 0.5
        },
        "xaxis": {
         "anchor": "y",
         "domain": [
          0,
          1
         ],
         "title": {
          "text": "incident_acres_burned"
         }
        },
        "yaxis": {
         "anchor": "x",
         "domain": [
          0,
          1
         ],
         "title": {
          "text": "count"
         }
        }
       }
      },
      "image/png": "[encoded data removed]"
     },
     "metadata": {},
     "output_type": "display_data"
    }
   ],
   "source": [
    "# Extra Code\n",
    "mask = DF_raw['incident_acres_burned']\n",
    "mask\n",
    "DF_raw.describe\n",
    "fig = px.histogram(DF_raw,\n",
    "                   nbins=20,\n",
    "                   x='incident_acres_burned',\n",
    "                   color_discrete_sequence=['blue'])\n",
    "fig.update_layout(bargap=0.1,\n",
    "                  title='Histogram of Number of Acres Burned',\n",
    "                  title_x=0.5)\n",
    "fig.show()"
   ]
  },
  {
   "cell_type": "markdown",
   "id": "fa09683e-ac6a-4cb5-a47d-6cbf580524d2",
   "metadata": {},
   "source": [
    "## Try reading in some data from Wikipedia - html\n",
    "\n",
    "Here we will explore academy award winning films. Go to the [Wiki for the List of Academy Award Winning Films](https://en.wikipedia.org/wiki/List_of_Academy_Award%E2%80%93winning_films). Look at what type of data is there. How many tables? Any weird looking data?\n",
    "\n",
    "Now we will read the html data into Python and show the data in DF[0]"
   ]
  },
  {
   "cell_type": "code",
   "execution_count": 96,
   "id": "ddd62d4d-675f-4706-9b79-993e5b5ad343",
   "metadata": {},
   "outputs": [
    {
     "data": {
      "text/html": [
       "<div>\n",
       "<style scoped>\n",
       "    .dataframe tbody tr th:only-of-type {\n",
       "        vertical-align: middle;\n",
       "    }\n",
       "\n",
       "    .dataframe tbody tr th {\n",
       "        vertical-align: top;\n",
       "    }\n",
       "\n",
       "    .dataframe thead th {\n",
       "        text-align: right;\n",
       "    }\n",
       "</style>\n",
       "<table border=\"1\" class=\"dataframe\">\n",
       "  <thead>\n",
       "    <tr style=\"text-align: right;\">\n",
       "      <th></th>\n",
       "      <th>Film</th>\n",
       "      <th>Year</th>\n",
       "      <th>Awards</th>\n",
       "      <th>Nominations</th>\n",
       "    </tr>\n",
       "  </thead>\n",
       "  <tbody>\n",
       "    <tr>\n",
       "      <th>0</th>\n",
       "      <td>Anora</td>\n",
       "      <td>2024</td>\n",
       "      <td>5</td>\n",
       "      <td>6</td>\n",
       "    </tr>\n",
       "    <tr>\n",
       "      <th>1</th>\n",
       "      <td>The Brutalist</td>\n",
       "      <td>2024</td>\n",
       "      <td>3</td>\n",
       "      <td>10</td>\n",
       "    </tr>\n",
       "    <tr>\n",
       "      <th>2</th>\n",
       "      <td>Emilia Pérez</td>\n",
       "      <td>2024</td>\n",
       "      <td>2</td>\n",
       "      <td>13</td>\n",
       "    </tr>\n",
       "    <tr>\n",
       "      <th>3</th>\n",
       "      <td>Wicked</td>\n",
       "      <td>2024</td>\n",
       "      <td>2</td>\n",
       "      <td>10</td>\n",
       "    </tr>\n",
       "    <tr>\n",
       "      <th>4</th>\n",
       "      <td>Dune: Part Two</td>\n",
       "      <td>2024</td>\n",
       "      <td>2</td>\n",
       "      <td>5</td>\n",
       "    </tr>\n",
       "    <tr>\n",
       "      <th>...</th>\n",
       "      <td>...</td>\n",
       "      <td>...</td>\n",
       "      <td>...</td>\n",
       "      <td>...</td>\n",
       "    </tr>\n",
       "    <tr>\n",
       "      <th>1382</th>\n",
       "      <td>The Yankee Doodle Mouse</td>\n",
       "      <td>1943</td>\n",
       "      <td>1</td>\n",
       "      <td>1</td>\n",
       "    </tr>\n",
       "    <tr>\n",
       "      <th>1383</th>\n",
       "      <td>The Yearling</td>\n",
       "      <td>1946</td>\n",
       "      <td>2</td>\n",
       "      <td>7</td>\n",
       "    </tr>\n",
       "    <tr>\n",
       "      <th>1384</th>\n",
       "      <td>Yesterday, Today and Tomorrow (Ieri, oggi, dom...</td>\n",
       "      <td>1964</td>\n",
       "      <td>1</td>\n",
       "      <td>1</td>\n",
       "    </tr>\n",
       "    <tr>\n",
       "      <th>1385</th>\n",
       "      <td>You Can't Take It with You</td>\n",
       "      <td>1938</td>\n",
       "      <td>2</td>\n",
       "      <td>7</td>\n",
       "    </tr>\n",
       "    <tr>\n",
       "      <th>1386</th>\n",
       "      <td>Zorba the Greek (Alexis Zorbas)</td>\n",
       "      <td>1964</td>\n",
       "      <td>3</td>\n",
       "      <td>7</td>\n",
       "    </tr>\n",
       "  </tbody>\n",
       "</table>\n",
       "<p>1387 rows × 4 columns</p>\n",
       "</div>"
      ],
      "text/plain": [
       "                                                   Film  Year Awards  \\\n",
       "0                                                 Anora  2024      5   \n",
       "1                                         The Brutalist  2024      3   \n",
       "2                                          Emilia Pérez  2024      2   \n",
       "3                                                Wicked  2024      2   \n",
       "4                                        Dune: Part Two  2024      2   \n",
       "...                                                 ...   ...    ...   \n",
       "1382                            The Yankee Doodle Mouse  1943      1   \n",
       "1383                                       The Yearling  1946      2   \n",
       "1384  Yesterday, Today and Tomorrow (Ieri, oggi, dom...  1964      1   \n",
       "1385                         You Can't Take It with You  1938      2   \n",
       "1386                    Zorba the Greek (Alexis Zorbas)  1964      3   \n",
       "\n",
       "     Nominations  \n",
       "0              6  \n",
       "1             10  \n",
       "2             13  \n",
       "3             10  \n",
       "4              5  \n",
       "...          ...  \n",
       "1382           1  \n",
       "1383           7  \n",
       "1384           1  \n",
       "1385           7  \n",
       "1386           7  \n",
       "\n",
       "[1387 rows x 4 columns]"
      ]
     },
     "execution_count": 96,
     "metadata": {},
     "output_type": "execute_result"
    }
   ],
   "source": [
    "# Here is some helper code\n",
    "# This is code that will read in the data and then fix the Year column\n",
    "\n",
    "#####\n",
    "'''\n",
    "NOTE: Many websites try to stop you from scraping even simple tables. \n",
    "    In just one year wikipedia made big changes... so I changed the code here.\n",
    "    We can talk more about this code in class.\n",
    "'''\n",
    "import requests\n",
    "headers = {\n",
    "    'User-Agent': 'Mozilla/5.0 (Windows NT 10.0; Win64; x64) AppleWebKit/537.36 (KHTML, like Gecko) Chrome/91.0.4472.124 Safari/537.36'\n",
    "}\n",
    "my_website = \"https://en.wikipedia.org/wiki/List_of_Academy_Award%E2%80%93winning_films\"\n",
    "response = requests.get(my_website, headers=headers)\n",
    "#####\n",
    "\n",
    "# Normal pandas code\n",
    "DF = pd.read_html(response.content)\n",
    "DF_raw = DF[0]\n",
    "DF_raw['Year'] = DF_raw['Year'].apply(lambda x: int(x.split('/')[0]))\n",
    "DF_raw"
   ]
  },
  {
   "cell_type": "markdown",
   "id": "4c70b364-4c59-4631-87a4-552d7abaac2a",
   "metadata": {},
   "source": [
    "**Q4** Following along with the lecture notes or video, fix the data in the 'Awards' column."
   ]
  },
  {
   "cell_type": "code",
   "execution_count": 106,
   "id": "e51c0742-d796-4f63-a3e9-c98cdec76247",
   "metadata": {},
   "outputs": [
    {
     "data": {
      "text/html": [
       "<div>\n",
       "<style scoped>\n",
       "    .dataframe tbody tr th:only-of-type {\n",
       "        vertical-align: middle;\n",
       "    }\n",
       "\n",
       "    .dataframe tbody tr th {\n",
       "        vertical-align: top;\n",
       "    }\n",
       "\n",
       "    .dataframe thead th {\n",
       "        text-align: right;\n",
       "    }\n",
       "</style>\n",
       "<table border=\"1\" class=\"dataframe\">\n",
       "  <thead>\n",
       "    <tr style=\"text-align: right;\">\n",
       "      <th></th>\n",
       "      <th>Awards</th>\n",
       "      <th>count</th>\n",
       "    </tr>\n",
       "  </thead>\n",
       "  <tbody>\n",
       "    <tr>\n",
       "      <th>0</th>\n",
       "      <td>1</td>\n",
       "      <td>988</td>\n",
       "    </tr>\n",
       "    <tr>\n",
       "      <th>1</th>\n",
       "      <td>2</td>\n",
       "      <td>159</td>\n",
       "    </tr>\n",
       "    <tr>\n",
       "      <th>2</th>\n",
       "      <td>3</td>\n",
       "      <td>78</td>\n",
       "    </tr>\n",
       "    <tr>\n",
       "      <th>3</th>\n",
       "      <td>4</td>\n",
       "      <td>47</td>\n",
       "    </tr>\n",
       "    <tr>\n",
       "      <th>4</th>\n",
       "      <td>0 (1)</td>\n",
       "      <td>32</td>\n",
       "    </tr>\n",
       "    <tr>\n",
       "      <th>5</th>\n",
       "      <td>5</td>\n",
       "      <td>26</td>\n",
       "    </tr>\n",
       "    <tr>\n",
       "      <th>6</th>\n",
       "      <td>6</td>\n",
       "      <td>12</td>\n",
       "    </tr>\n",
       "    <tr>\n",
       "      <th>7</th>\n",
       "      <td>7</td>\n",
       "      <td>12</td>\n",
       "    </tr>\n",
       "    <tr>\n",
       "      <th>8</th>\n",
       "      <td>1 (1)</td>\n",
       "      <td>8</td>\n",
       "    </tr>\n",
       "    <tr>\n",
       "      <th>9</th>\n",
       "      <td>8</td>\n",
       "      <td>7</td>\n",
       "    </tr>\n",
       "    <tr>\n",
       "      <th>10</th>\n",
       "      <td>11</td>\n",
       "      <td>3</td>\n",
       "    </tr>\n",
       "    <tr>\n",
       "      <th>11</th>\n",
       "      <td>9</td>\n",
       "      <td>3</td>\n",
       "    </tr>\n",
       "    <tr>\n",
       "      <th>12</th>\n",
       "      <td>0 (2)</td>\n",
       "      <td>3</td>\n",
       "    </tr>\n",
       "    <tr>\n",
       "      <th>13</th>\n",
       "      <td>0 (1)[1]</td>\n",
       "      <td>1</td>\n",
       "    </tr>\n",
       "    <tr>\n",
       "      <th>14</th>\n",
       "      <td>3 (1)</td>\n",
       "      <td>1</td>\n",
       "    </tr>\n",
       "    <tr>\n",
       "      <th>15</th>\n",
       "      <td>4 (1)</td>\n",
       "      <td>1</td>\n",
       "    </tr>\n",
       "    <tr>\n",
       "      <th>16</th>\n",
       "      <td>6 (1)</td>\n",
       "      <td>1</td>\n",
       "    </tr>\n",
       "    <tr>\n",
       "      <th>17</th>\n",
       "      <td>5 (1)</td>\n",
       "      <td>1</td>\n",
       "    </tr>\n",
       "    <tr>\n",
       "      <th>18</th>\n",
       "      <td>7 (1)</td>\n",
       "      <td>1</td>\n",
       "    </tr>\n",
       "    <tr>\n",
       "      <th>19</th>\n",
       "      <td>8 (2)</td>\n",
       "      <td>1</td>\n",
       "    </tr>\n",
       "    <tr>\n",
       "      <th>20</th>\n",
       "      <td>2 (1)</td>\n",
       "      <td>1</td>\n",
       "    </tr>\n",
       "    <tr>\n",
       "      <th>21</th>\n",
       "      <td>10</td>\n",
       "      <td>1</td>\n",
       "    </tr>\n",
       "  </tbody>\n",
       "</table>\n",
       "</div>"
      ],
      "text/plain": [
       "      Awards  count\n",
       "0          1    988\n",
       "1          2    159\n",
       "2          3     78\n",
       "3          4     47\n",
       "4      0 (1)     32\n",
       "5          5     26\n",
       "6          6     12\n",
       "7          7     12\n",
       "8      1 (1)      8\n",
       "9          8      7\n",
       "10        11      3\n",
       "11         9      3\n",
       "12     0 (2)      3\n",
       "13  0 (1)[1]      1\n",
       "14     3 (1)      1\n",
       "15     4 (1)      1\n",
       "16     6 (1)      1\n",
       "17     5 (1)      1\n",
       "18     7 (1)      1\n",
       "19     8 (2)      1\n",
       "20     2 (1)      1\n",
       "21        10      1"
      ]
     },
     "execution_count": 106,
     "metadata": {},
     "output_type": "execute_result"
    }
   ],
   "source": [
    "# Your code here\n",
    "award_data = DF_raw['Awards'].value_counts()\n",
    "DF_award = award_data.reset_index().rename(columns={\"index\": \"value\", 0: \"count\"})\n",
    "DF_award"
   ]
  },
  {
   "cell_type": "markdown",
   "id": "ada5ce86-e820-481b-a8c8-ab5f063b0ad5",
   "metadata": {},
   "source": [
    "**Q5** Now try to fix the data in the \"Nominations\" column - see if you can do it without looking at the answer."
   ]
  },
  {
   "cell_type": "code",
   "execution_count": 123,
   "id": "57571cc2-dbca-4354-b0db-676b03005f3c",
   "metadata": {},
   "outputs": [
    {
     "data": {
      "text/html": [
       "<div>\n",
       "<style scoped>\n",
       "    .dataframe tbody tr th:only-of-type {\n",
       "        vertical-align: middle;\n",
       "    }\n",
       "\n",
       "    .dataframe tbody tr th {\n",
       "        vertical-align: top;\n",
       "    }\n",
       "\n",
       "    .dataframe thead th {\n",
       "        text-align: right;\n",
       "    }\n",
       "</style>\n",
       "<table border=\"1\" class=\"dataframe\">\n",
       "  <thead>\n",
       "    <tr style=\"text-align: right;\">\n",
       "      <th></th>\n",
       "      <th>Nominations</th>\n",
       "      <th>count</th>\n",
       "    </tr>\n",
       "  </thead>\n",
       "  <tbody>\n",
       "    <tr>\n",
       "      <th>0</th>\n",
       "      <td>1</td>\n",
       "      <td>557</td>\n",
       "    </tr>\n",
       "    <tr>\n",
       "      <th>1</th>\n",
       "      <td>2</td>\n",
       "      <td>143</td>\n",
       "    </tr>\n",
       "    <tr>\n",
       "      <th>2</th>\n",
       "      <td>4</td>\n",
       "      <td>115</td>\n",
       "    </tr>\n",
       "    <tr>\n",
       "      <th>3</th>\n",
       "      <td>5</td>\n",
       "      <td>106</td>\n",
       "    </tr>\n",
       "    <tr>\n",
       "      <th>4</th>\n",
       "      <td>3</td>\n",
       "      <td>105</td>\n",
       "    </tr>\n",
       "    <tr>\n",
       "      <th>5</th>\n",
       "      <td>6</td>\n",
       "      <td>81</td>\n",
       "    </tr>\n",
       "    <tr>\n",
       "      <th>6</th>\n",
       "      <td>7</td>\n",
       "      <td>75</td>\n",
       "    </tr>\n",
       "    <tr>\n",
       "      <th>7</th>\n",
       "      <td>8</td>\n",
       "      <td>62</td>\n",
       "    </tr>\n",
       "    <tr>\n",
       "      <th>8</th>\n",
       "      <td>10</td>\n",
       "      <td>42</td>\n",
       "    </tr>\n",
       "    <tr>\n",
       "      <th>9</th>\n",
       "      <td>9</td>\n",
       "      <td>31</td>\n",
       "    </tr>\n",
       "    <tr>\n",
       "      <th>10</th>\n",
       "      <td>11</td>\n",
       "      <td>24</td>\n",
       "    </tr>\n",
       "    <tr>\n",
       "      <th>11</th>\n",
       "      <td>12</td>\n",
       "      <td>17</td>\n",
       "    </tr>\n",
       "    <tr>\n",
       "      <th>12</th>\n",
       "      <td>0</td>\n",
       "      <td>14</td>\n",
       "    </tr>\n",
       "    <tr>\n",
       "      <th>13</th>\n",
       "      <td>13</td>\n",
       "      <td>12</td>\n",
       "    </tr>\n",
       "    <tr>\n",
       "      <th>14</th>\n",
       "      <td>14</td>\n",
       "      <td>3</td>\n",
       "    </tr>\n",
       "  </tbody>\n",
       "</table>\n",
       "</div>"
      ],
      "text/plain": [
       "    Nominations  count\n",
       "0             1    557\n",
       "1             2    143\n",
       "2             4    115\n",
       "3             5    106\n",
       "4             3    105\n",
       "5             6     81\n",
       "6             7     75\n",
       "7             8     62\n",
       "8            10     42\n",
       "9             9     31\n",
       "10           11     24\n",
       "11           12     17\n",
       "12            0     14\n",
       "13           13     12\n",
       "14           14      3"
      ]
     },
     "execution_count": 123,
     "metadata": {},
     "output_type": "execute_result"
    }
   ],
   "source": [
    "# Your code here\n",
    "\n",
    "award_data = DF_raw['Awards'].value_counts()\n",
    "DF_award = award_data.reset_index().rename(columns={\"index\": \"value\", 0: \"count\"})\n",
    "DF_award\n",
    "\n",
    "nominations_data = DF_raw['Nominations'].value_counts()\n",
    "DF_nom = nom_data.reset_index().rename(columns={\"index\": \"value\", 0: \"count\"})\n",
    "DF_nom"
   ]
  },
  {
   "cell_type": "markdown",
   "id": "8f1c8227-7b3e-4067-9b49-bd9c58752402",
   "metadata": {},
   "source": [
    "## Problem 1\n",
    "\n",
    "Your homework today will be to see if you can find some data of your own. This can be the first steps you take toward your final project. \n",
    "\n",
    "You should:\n",
    "\n",
    "* Find some data online\n",
    "* Read that data into Python using the Pandas commands we learned\n",
    "* Look at the DataFrame - number of variables, number of observations, AND the dtypes. Comment on what you see.\n",
    "* Try to do summary statistics (.describe()). Does it work like expected?\n",
    "* Attempt to fix any data, or explain why the data does not need to be fixed.\n",
    "* Make some sort of graph using columns in your data."
   ]
  },
  {
   "cell_type": "code",
   "execution_count": 36,
   "id": "c132974c-19b6-4b40-85e5-4892b245fbee",
   "metadata": {},
   "outputs": [
    {
     "data": {
      "text/html": [
       "<div>\n",
       "<style scoped>\n",
       "    .dataframe tbody tr th:only-of-type {\n",
       "        vertical-align: middle;\n",
       "    }\n",
       "\n",
       "    .dataframe tbody tr th {\n",
       "        vertical-align: top;\n",
       "    }\n",
       "\n",
       "    .dataframe thead th {\n",
       "        text-align: right;\n",
       "    }\n",
       "</style>\n",
       "<table border=\"1\" class=\"dataframe\">\n",
       "  <thead>\n",
       "    <tr style=\"text-align: right;\">\n",
       "      <th></th>\n",
       "      <th>movie_title</th>\n",
       "      <th>release_date</th>\n",
       "      <th>genre</th>\n",
       "      <th>mpaa_rating</th>\n",
       "      <th>total_gross</th>\n",
       "      <th>inflation_adjusted_gross</th>\n",
       "    </tr>\n",
       "  </thead>\n",
       "  <tbody>\n",
       "    <tr>\n",
       "      <th>0</th>\n",
       "      <td>Snow White and the Seven Dwarfs</td>\n",
       "      <td>1937-12-21</td>\n",
       "      <td>Musical</td>\n",
       "      <td>G</td>\n",
       "      <td>184925485</td>\n",
       "      <td>5228953251</td>\n",
       "    </tr>\n",
       "    <tr>\n",
       "      <th>1</th>\n",
       "      <td>Pinocchio</td>\n",
       "      <td>1940-02-09</td>\n",
       "      <td>Adventure</td>\n",
       "      <td>G</td>\n",
       "      <td>84300000</td>\n",
       "      <td>2188229052</td>\n",
       "    </tr>\n",
       "    <tr>\n",
       "      <th>2</th>\n",
       "      <td>Fantasia</td>\n",
       "      <td>1940-11-13</td>\n",
       "      <td>Musical</td>\n",
       "      <td>G</td>\n",
       "      <td>83320000</td>\n",
       "      <td>2187090808</td>\n",
       "    </tr>\n",
       "    <tr>\n",
       "      <th>3</th>\n",
       "      <td>Song of the South</td>\n",
       "      <td>1946-11-12</td>\n",
       "      <td>Adventure</td>\n",
       "      <td>G</td>\n",
       "      <td>65000000</td>\n",
       "      <td>1078510579</td>\n",
       "    </tr>\n",
       "    <tr>\n",
       "      <th>4</th>\n",
       "      <td>Cinderella</td>\n",
       "      <td>1950-02-15</td>\n",
       "      <td>Drama</td>\n",
       "      <td>G</td>\n",
       "      <td>85000000</td>\n",
       "      <td>920608730</td>\n",
       "    </tr>\n",
       "    <tr>\n",
       "      <th>...</th>\n",
       "      <td>...</td>\n",
       "      <td>...</td>\n",
       "      <td>...</td>\n",
       "      <td>...</td>\n",
       "      <td>...</td>\n",
       "      <td>...</td>\n",
       "    </tr>\n",
       "    <tr>\n",
       "      <th>574</th>\n",
       "      <td>The Light Between Oceans</td>\n",
       "      <td>2016-09-02</td>\n",
       "      <td>Drama</td>\n",
       "      <td>PG-13</td>\n",
       "      <td>12545979</td>\n",
       "      <td>12545979</td>\n",
       "    </tr>\n",
       "    <tr>\n",
       "      <th>575</th>\n",
       "      <td>Queen of Katwe</td>\n",
       "      <td>2016-09-23</td>\n",
       "      <td>Drama</td>\n",
       "      <td>PG</td>\n",
       "      <td>8874389</td>\n",
       "      <td>8874389</td>\n",
       "    </tr>\n",
       "    <tr>\n",
       "      <th>576</th>\n",
       "      <td>Doctor Strange</td>\n",
       "      <td>2016-11-04</td>\n",
       "      <td>Adventure</td>\n",
       "      <td>PG-13</td>\n",
       "      <td>232532923</td>\n",
       "      <td>232532923</td>\n",
       "    </tr>\n",
       "    <tr>\n",
       "      <th>577</th>\n",
       "      <td>Moana</td>\n",
       "      <td>2016-11-23</td>\n",
       "      <td>Adventure</td>\n",
       "      <td>PG</td>\n",
       "      <td>246082029</td>\n",
       "      <td>246082029</td>\n",
       "    </tr>\n",
       "    <tr>\n",
       "      <th>578</th>\n",
       "      <td>Rogue One: A Star Wars Story</td>\n",
       "      <td>2016-12-16</td>\n",
       "      <td>Adventure</td>\n",
       "      <td>PG-13</td>\n",
       "      <td>529483936</td>\n",
       "      <td>529483936</td>\n",
       "    </tr>\n",
       "  </tbody>\n",
       "</table>\n",
       "<p>579 rows × 6 columns</p>\n",
       "</div>"
      ],
      "text/plain": [
       "                         movie_title release_date      genre mpaa_rating  \\\n",
       "0    Snow White and the Seven Dwarfs   1937-12-21    Musical           G   \n",
       "1                          Pinocchio   1940-02-09  Adventure           G   \n",
       "2                           Fantasia   1940-11-13    Musical           G   \n",
       "3                  Song of the South   1946-11-12  Adventure           G   \n",
       "4                         Cinderella   1950-02-15      Drama           G   \n",
       "..                               ...          ...        ...         ...   \n",
       "574         The Light Between Oceans   2016-09-02      Drama       PG-13   \n",
       "575                   Queen of Katwe   2016-09-23      Drama          PG   \n",
       "576                   Doctor Strange   2016-11-04  Adventure       PG-13   \n",
       "577                            Moana   2016-11-23  Adventure          PG   \n",
       "578     Rogue One: A Star Wars Story   2016-12-16  Adventure       PG-13   \n",
       "\n",
       "     total_gross  inflation_adjusted_gross  \n",
       "0      184925485                5228953251  \n",
       "1       84300000                2188229052  \n",
       "2       83320000                2187090808  \n",
       "3       65000000                1078510579  \n",
       "4       85000000                 920608730  \n",
       "..           ...                       ...  \n",
       "574     12545979                  12545979  \n",
       "575      8874389                   8874389  \n",
       "576    232532923                 232532923  \n",
       "577    246082029                 246082029  \n",
       "578    529483936                 529483936  \n",
       "\n",
       "[579 rows x 6 columns]"
      ]
     },
     "execution_count": 36,
     "metadata": {},
     "output_type": "execute_result"
    }
   ],
   "source": [
    "DF_raw= pd.read_csv('disney_movies.csv')\n",
    "DF_raw"
   ]
  },
  {
   "cell_type": "code",
   "execution_count": 26,
   "id": "578ad570-5dfa-46a0-86c8-f4610bacaf36",
   "metadata": {},
   "outputs": [
    {
     "data": {
      "text/plain": [
       "(579, 6)"
      ]
     },
     "execution_count": 26,
     "metadata": {},
     "output_type": "execute_result"
    }
   ],
   "source": [
    "DF_raw.shape"
   ]
  },
  {
   "cell_type": "code",
   "execution_count": 27,
   "id": "a07e8f68-6aef-4bba-9a14-d61fc0b1b737",
   "metadata": {},
   "outputs": [
    {
     "data": {
      "text/plain": [
       "movie_title                 object\n",
       "release_date                object\n",
       "genre                       object\n",
       "mpaa_rating                 object\n",
       "total_gross                  int64\n",
       "inflation_adjusted_gross     int64\n",
       "dtype: object"
      ]
     },
     "execution_count": 27,
     "metadata": {},
     "output_type": "execute_result"
    }
   ],
   "source": [
    "DF_raw.dtypes"
   ]
  },
  {
   "cell_type": "markdown",
   "id": "feb252b3-4eaf-422d-aa86-15319d0b22a2",
   "metadata": {},
   "source": [
    "MY COMMENT: this data set is on different disney movies. it has 6 variables and 579 observations. The types of varaibles are move titles, their release dates, the genre they fall under, the mpa rating, total gross and inflation adjusted gross."
   ]
  },
  {
   "cell_type": "code",
   "execution_count": 28,
   "id": "55623f05-393f-46c4-bb4e-f4241c963a36",
   "metadata": {},
   "outputs": [
    {
     "data": {
      "text/html": [
       "<div>\n",
       "<style scoped>\n",
       "    .dataframe tbody tr th:only-of-type {\n",
       "        vertical-align: middle;\n",
       "    }\n",
       "\n",
       "    .dataframe tbody tr th {\n",
       "        vertical-align: top;\n",
       "    }\n",
       "\n",
       "    .dataframe thead th {\n",
       "        text-align: right;\n",
       "    }\n",
       "</style>\n",
       "<table border=\"1\" class=\"dataframe\">\n",
       "  <thead>\n",
       "    <tr style=\"text-align: right;\">\n",
       "      <th></th>\n",
       "      <th>total_gross</th>\n",
       "      <th>inflation_adjusted_gross</th>\n",
       "    </tr>\n",
       "  </thead>\n",
       "  <tbody>\n",
       "    <tr>\n",
       "      <th>count</th>\n",
       "      <td>5.790000e+02</td>\n",
       "      <td>5.790000e+02</td>\n",
       "    </tr>\n",
       "    <tr>\n",
       "      <th>mean</th>\n",
       "      <td>6.470179e+07</td>\n",
       "      <td>1.187625e+08</td>\n",
       "    </tr>\n",
       "    <tr>\n",
       "      <th>std</th>\n",
       "      <td>9.301301e+07</td>\n",
       "      <td>2.860853e+08</td>\n",
       "    </tr>\n",
       "    <tr>\n",
       "      <th>min</th>\n",
       "      <td>0.000000e+00</td>\n",
       "      <td>0.000000e+00</td>\n",
       "    </tr>\n",
       "    <tr>\n",
       "      <th>25%</th>\n",
       "      <td>1.278886e+07</td>\n",
       "      <td>2.274123e+07</td>\n",
       "    </tr>\n",
       "    <tr>\n",
       "      <th>50%</th>\n",
       "      <td>3.070245e+07</td>\n",
       "      <td>5.515978e+07</td>\n",
       "    </tr>\n",
       "    <tr>\n",
       "      <th>75%</th>\n",
       "      <td>7.570903e+07</td>\n",
       "      <td>1.192020e+08</td>\n",
       "    </tr>\n",
       "    <tr>\n",
       "      <th>max</th>\n",
       "      <td>9.366622e+08</td>\n",
       "      <td>5.228953e+09</td>\n",
       "    </tr>\n",
       "  </tbody>\n",
       "</table>\n",
       "</div>"
      ],
      "text/plain": [
       "        total_gross  inflation_adjusted_gross\n",
       "count  5.790000e+02              5.790000e+02\n",
       "mean   6.470179e+07              1.187625e+08\n",
       "std    9.301301e+07              2.860853e+08\n",
       "min    0.000000e+00              0.000000e+00\n",
       "25%    1.278886e+07              2.274123e+07\n",
       "50%    3.070245e+07              5.515978e+07\n",
       "75%    7.570903e+07              1.192020e+08\n",
       "max    9.366622e+08              5.228953e+09"
      ]
     },
     "execution_count": 28,
     "metadata": {},
     "output_type": "execute_result"
    }
   ],
   "source": [
    "DF_raw.describe()"
   ]
  },
  {
   "cell_type": "markdown",
   "id": "5af02884-221f-42ba-8b0f-5e5aef5ad6fb",
   "metadata": {},
   "source": [
    "MY COMMENT on .describe(): This is working as usual, it's giving me my numerical data in a type of box plot on a table giving me the mean, maximum, 25th percentile, 75th percentile."
   ]
  },
  {
   "cell_type": "code",
   "execution_count": 37,
   "id": "a659ea29-5cee-4c71-b969-bdb766492a89",
   "metadata": {},
   "outputs": [
    {
     "ename": "ValueError",
     "evalue": "Value of 'hover_data_0' is not the name of a column in 'data_frame'. Expected one of ['movie_title', 'release_date', 'genre', 'mpaa_rating', 'total_gross', 'inflation_adjusted_gross'] but received: name",
     "output_type": "error",
     "traceback": [
      "\u001b[0;31m---------------------------------------------------------------------------\u001b[0m",
      "\u001b[0;31mValueError\u001b[0m                                Traceback (most recent call last)",
      "Cell \u001b[0;32mIn[37], line 1\u001b[0m\n\u001b[0;32m----> 1\u001b[0m fig \u001b[38;5;241m=\u001b[39m px\u001b[38;5;241m.\u001b[39mscatter(DF_raw,\n\u001b[1;32m      2\u001b[0m                  x\u001b[38;5;241m=\u001b[39m\u001b[38;5;124m'\u001b[39m\u001b[38;5;124mtotal_gross\u001b[39m\u001b[38;5;124m'\u001b[39m,\n\u001b[1;32m      3\u001b[0m                  y\u001b[38;5;241m=\u001b[39m\u001b[38;5;124m'\u001b[39m\u001b[38;5;124mgenre\u001b[39m\u001b[38;5;124m'\u001b[39m,\n\u001b[1;32m      4\u001b[0m                  hover_data\u001b[38;5;241m=\u001b[39m\u001b[38;5;124m'\u001b[39m\u001b[38;5;124mname\u001b[39m\u001b[38;5;124m'\u001b[39m,\n\u001b[1;32m      5\u001b[0m                  color \u001b[38;5;241m=\u001b[39m \u001b[38;5;124m'\u001b[39m\u001b[38;5;124mmovie_title\u001b[39m\u001b[38;5;124m'\u001b[39m)\n\u001b[1;32m      7\u001b[0m fig\u001b[38;5;241m.\u001b[39mupdate_layout(title\u001b[38;5;241m=\u001b[39m\u001b[38;5;124m'\u001b[39m\u001b[38;5;124mTotal Gross vs. Genre\u001b[39m\u001b[38;5;124m'\u001b[39m,\n\u001b[1;32m      8\u001b[0m                   title_x\u001b[38;5;241m=\u001b[39m\u001b[38;5;241m0.5\u001b[39m,\n\u001b[1;32m      9\u001b[0m                   xaxis_title\u001b[38;5;241m=\u001b[39m\u001b[38;5;124m\"\u001b[39m\u001b[38;5;124mTotal Gross\u001b[39m\u001b[38;5;124m\"\u001b[39m,\n\u001b[0;32m   (...)\u001b[0m\n\u001b[1;32m     12\u001b[0m                   width\u001b[38;5;241m=\u001b[39m\u001b[38;5;241m800\u001b[39m,\n\u001b[1;32m     13\u001b[0m                   height\u001b[38;5;241m=\u001b[39m\u001b[38;5;241m500\u001b[39m)\n\u001b[1;32m     15\u001b[0m fig\u001b[38;5;241m.\u001b[39mshow()\n",
      "File \u001b[0;32m/opt/anaconda3/lib/python3.13/site-packages/plotly/express/_chart_types.py:69\u001b[0m, in \u001b[0;36mscatter\u001b[0;34m(data_frame, x, y, color, symbol, size, hover_name, hover_data, custom_data, text, facet_row, facet_col, facet_col_wrap, facet_row_spacing, facet_col_spacing, error_x, error_x_minus, error_y, error_y_minus, animation_frame, animation_group, category_orders, labels, orientation, color_discrete_sequence, color_discrete_map, color_continuous_scale, range_color, color_continuous_midpoint, symbol_sequence, symbol_map, opacity, size_max, marginal_x, marginal_y, trendline, trendline_options, trendline_color_override, trendline_scope, log_x, log_y, range_x, range_y, render_mode, title, subtitle, template, width, height)\u001b[0m\n\u001b[1;32m     14\u001b[0m \u001b[38;5;28;01mdef\u001b[39;00m\u001b[38;5;250m \u001b[39m\u001b[38;5;21mscatter\u001b[39m(\n\u001b[1;32m     15\u001b[0m     data_frame\u001b[38;5;241m=\u001b[39m\u001b[38;5;28;01mNone\u001b[39;00m,\n\u001b[1;32m     16\u001b[0m     x\u001b[38;5;241m=\u001b[39m\u001b[38;5;28;01mNone\u001b[39;00m,\n\u001b[0;32m   (...)\u001b[0m\n\u001b[1;32m     63\u001b[0m     height\u001b[38;5;241m=\u001b[39m\u001b[38;5;28;01mNone\u001b[39;00m,\n\u001b[1;32m     64\u001b[0m ) \u001b[38;5;241m-\u001b[39m\u001b[38;5;241m>\u001b[39m go\u001b[38;5;241m.\u001b[39mFigure:\n\u001b[1;32m     65\u001b[0m \u001b[38;5;250m    \u001b[39m\u001b[38;5;124;03m\"\"\"\u001b[39;00m\n\u001b[1;32m     66\u001b[0m \u001b[38;5;124;03m    In a scatter plot, each row of `data_frame` is represented by a symbol\u001b[39;00m\n\u001b[1;32m     67\u001b[0m \u001b[38;5;124;03m    mark in 2D space.\u001b[39;00m\n\u001b[1;32m     68\u001b[0m \u001b[38;5;124;03m    \"\"\"\u001b[39;00m\n\u001b[0;32m---> 69\u001b[0m     \u001b[38;5;28;01mreturn\u001b[39;00m make_figure(args\u001b[38;5;241m=\u001b[39m\u001b[38;5;28mlocals\u001b[39m(), constructor\u001b[38;5;241m=\u001b[39mgo\u001b[38;5;241m.\u001b[39mScatter)\n",
      "File \u001b[0;32m/opt/anaconda3/lib/python3.13/site-packages/plotly/express/_core.py:2491\u001b[0m, in \u001b[0;36mmake_figure\u001b[0;34m(args, constructor, trace_patch, layout_patch)\u001b[0m\n\u001b[1;32m   2488\u001b[0m layout_patch \u001b[38;5;241m=\u001b[39m layout_patch \u001b[38;5;129;01mor\u001b[39;00m {}\n\u001b[1;32m   2489\u001b[0m apply_default_cascade(args)\n\u001b[0;32m-> 2491\u001b[0m args \u001b[38;5;241m=\u001b[39m build_dataframe(args, constructor)\n\u001b[1;32m   2492\u001b[0m \u001b[38;5;28;01mif\u001b[39;00m constructor \u001b[38;5;129;01min\u001b[39;00m [go\u001b[38;5;241m.\u001b[39mTreemap, go\u001b[38;5;241m.\u001b[39mSunburst, go\u001b[38;5;241m.\u001b[39mIcicle] \u001b[38;5;129;01mand\u001b[39;00m args[\u001b[38;5;124m\"\u001b[39m\u001b[38;5;124mpath\u001b[39m\u001b[38;5;124m\"\u001b[39m] \u001b[38;5;129;01mis\u001b[39;00m \u001b[38;5;129;01mnot\u001b[39;00m \u001b[38;5;28;01mNone\u001b[39;00m:\n\u001b[1;32m   2493\u001b[0m     args \u001b[38;5;241m=\u001b[39m process_dataframe_hierarchy(args)\n",
      "File \u001b[0;32m/opt/anaconda3/lib/python3.13/site-packages/plotly/express/_core.py:1737\u001b[0m, in \u001b[0;36mbuild_dataframe\u001b[0;34m(args, constructor)\u001b[0m\n\u001b[1;32m   1734\u001b[0m     args[\u001b[38;5;124m\"\u001b[39m\u001b[38;5;124mcolor\u001b[39m\u001b[38;5;124m\"\u001b[39m] \u001b[38;5;241m=\u001b[39m \u001b[38;5;28;01mNone\u001b[39;00m\n\u001b[1;32m   1735\u001b[0m \u001b[38;5;66;03m# now that things have been prepped, we do the systematic rewriting of `args`\u001b[39;00m\n\u001b[0;32m-> 1737\u001b[0m df_output, wide_id_vars \u001b[38;5;241m=\u001b[39m process_args_into_dataframe(\n\u001b[1;32m   1738\u001b[0m     args,\n\u001b[1;32m   1739\u001b[0m     wide_mode,\n\u001b[1;32m   1740\u001b[0m     var_name,\n\u001b[1;32m   1741\u001b[0m     value_name,\n\u001b[1;32m   1742\u001b[0m     is_pd_like,\n\u001b[1;32m   1743\u001b[0m     native_namespace,\n\u001b[1;32m   1744\u001b[0m )\n\u001b[1;32m   1745\u001b[0m df_output: nw\u001b[38;5;241m.\u001b[39mDataFrame\n\u001b[1;32m   1746\u001b[0m \u001b[38;5;66;03m# now that `df_output` exists and `args` contains only references, we complete\u001b[39;00m\n\u001b[1;32m   1747\u001b[0m \u001b[38;5;66;03m# the special-case and wide-mode handling by further rewriting args and/or mutating\u001b[39;00m\n\u001b[1;32m   1748\u001b[0m \u001b[38;5;66;03m# df_output\u001b[39;00m\n",
      "File \u001b[0;32m/opt/anaconda3/lib/python3.13/site-packages/plotly/express/_core.py:1338\u001b[0m, in \u001b[0;36mprocess_args_into_dataframe\u001b[0;34m(args, wide_mode, var_name, value_name, is_pd_like, native_namespace)\u001b[0m\n\u001b[1;32m   1336\u001b[0m         \u001b[38;5;28;01mif\u001b[39;00m argument \u001b[38;5;241m==\u001b[39m \u001b[38;5;124m\"\u001b[39m\u001b[38;5;124mindex\u001b[39m\u001b[38;5;124m\"\u001b[39m:\n\u001b[1;32m   1337\u001b[0m             err_msg \u001b[38;5;241m+\u001b[39m\u001b[38;5;241m=\u001b[39m \u001b[38;5;124m\"\u001b[39m\u001b[38;5;130;01m\\n\u001b[39;00m\u001b[38;5;124m To use the index, pass it in directly as `df.index`.\u001b[39m\u001b[38;5;124m\"\u001b[39m\n\u001b[0;32m-> 1338\u001b[0m         \u001b[38;5;28;01mraise\u001b[39;00m \u001b[38;5;167;01mValueError\u001b[39;00m(err_msg)\n\u001b[1;32m   1339\u001b[0m \u001b[38;5;28;01melif\u001b[39;00m length \u001b[38;5;129;01mand\u001b[39;00m (actual_len \u001b[38;5;241m:=\u001b[39m \u001b[38;5;28mlen\u001b[39m(df_input)) \u001b[38;5;241m!=\u001b[39m length:\n\u001b[1;32m   1340\u001b[0m     \u001b[38;5;28;01mraise\u001b[39;00m \u001b[38;5;167;01mValueError\u001b[39;00m(\n\u001b[1;32m   1341\u001b[0m         \u001b[38;5;124m\"\u001b[39m\u001b[38;5;124mAll arguments should have the same length. \u001b[39m\u001b[38;5;124m\"\u001b[39m\n\u001b[1;32m   1342\u001b[0m         \u001b[38;5;124m\"\u001b[39m\u001b[38;5;124mThe length of column argument `df[\u001b[39m\u001b[38;5;132;01m%s\u001b[39;00m\u001b[38;5;124m]` is \u001b[39m\u001b[38;5;132;01m%d\u001b[39;00m\u001b[38;5;124m, whereas the \u001b[39m\u001b[38;5;124m\"\u001b[39m\n\u001b[0;32m   (...)\u001b[0m\n\u001b[1;32m   1349\u001b[0m         )\n\u001b[1;32m   1350\u001b[0m     )\n",
      "\u001b[0;31mValueError\u001b[0m: Value of 'hover_data_0' is not the name of a column in 'data_frame'. Expected one of ['movie_title', 'release_date', 'genre', 'mpaa_rating', 'total_gross', 'inflation_adjusted_gross'] but received: name"
     ]
    }
   ],
   "source": [
    "fig = px.scatter(DF_raw,\n",
    "                 x='total_gross',\n",
    "                 y='genre',\n",
    "                 hover_data='name',\n",
    "                 color = 'movie_title')\n",
    "\n",
    "fig.update_layout(title='Total Gross vs. Genre',\n",
    "                  title_x=0.5,\n",
    "                  xaxis_title=\"Total Gross\",\n",
    "                  yaxis_title=\"Genre\",\n",
    "                  autosize=False,\n",
    "                  width=800,\n",
    "                  height=500)\n",
    "\n",
    "fig.show()"
   ]
  },
  {
   "cell_type": "code",
   "execution_count": null,
   "id": "e2134fba-4b16-4a37-bb38-6f5c92230de0",
   "metadata": {},
   "outputs": [],
   "source": []
  }
 ],
 "metadata": {
  "kernelspec": {
   "display_name": "Python [conda env:base] *",
   "language": "python",
   "name": "conda-base-py"
  },
  "language_info": {
   "codemirror_mode": {
    "name": "ipython",
    "version": 3
   },
   "file_extension": ".py",
   "mimetype": "text/x-python",
   "name": "python",
   "nbconvert_exporter": "python",
   "pygments_lexer": "ipython3",
   "version": "3.13.5"
  }
 },
 "nbformat": 4,
 "nbformat_minor": 5
}
