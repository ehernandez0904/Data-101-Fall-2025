{
 "cells": [
  {
   "cell_type": "markdown",
   "id": "a9215f5c-525b-4508-8b0d-700f55cbd252",
   "metadata": {},
   "source": [
    "## Introduction to Data Science\n",
    "\n",
    "#### University of Redlands - DATA 101\n",
    "#### Prof: Joanna Bieri [joanna_bieri@redlands.edu](mailto:joanna_bieri@redlands.edu)\n",
    "#### [Class Website: data101.joannabieri.com](https://joannabieri.com/data101.html)\n",
    "\n",
    "---------------------------------------\n",
    "# Homework Day 8\n",
    "---------------------------------------\n",
    "\n",
    "GOALS:\n",
    "\n",
    "1. Load data into Python that you find online\n",
    "2. Understand data types and fix some errors\n",
    "3. Find your own data to play with\n",
    "\n",
    "----------------------------------------------------------\n",
    "\n",
    "This homework has **5 questions** and **1 problem**.\n",
    "\n",
    "NOTE: Be kind to yourself. Working with data can be hard! Every data set is different. **Seriously** come get help! Come to lab!\n"
   ]
  },
  {
   "cell_type": "code",
   "execution_count": 11,
   "id": "049c24b6-a6c1-4ccc-b2de-5ea0366d09f8",
   "metadata": {},
   "outputs": [],
   "source": [
    "import numpy as np\n",
    "import pandas as pd\n",
    "\n",
    "import matplotlib.pyplot as plt\n",
    "import plotly.express as px\n",
    "from plotly.subplots import make_subplots\n",
    "import plotly.io as pio\n",
    "pio.renderers.defaule = 'colab'"
   ]
  },
  {
   "cell_type": "markdown",
   "id": "9c942910-0e2f-4428-95b6-1ca89c228405",
   "metadata": {},
   "source": [
    "You might need to install lxml. If you get a \"ImportError: Missing optional dependency 'lxml'\" Then uncomment and run the cell below"
   ]
  },
  {
   "cell_type": "code",
   "execution_count": 12,
   "id": "3d4ea0c4-7b90-48a6-bd63-684f33d12d79",
   "metadata": {},
   "outputs": [],
   "source": [
    "#!conda install -y lxml"
   ]
  },
  {
   "cell_type": "markdown",
   "id": "23773272-c059-4148-a5a8-91e9da594c46",
   "metadata": {},
   "source": [
    "## Try reading in some data - csv\n",
    "\n",
    "Go to the [Cal Fire Website](https://www.fire.ca.gov/incidents) and scroll to the bottom to see the Incident Data. We will download the file named **ALL DATA AS CSV** this should put the data file into your Downloads folder. \n",
    "\n",
    "Next you need to move the file **mapdataall.csv** from your Downloads folder into your Day8 folder where you are doing your homework. You can open your Downloads folder and drag the file into JupyterLab side bar. Then I can run the command\n",
    "\n",
    "    DF_raw = pd.read_csv('mapdataall.csv')\n",
    "\n",
    "to load the data and look at the data frame."
   ]
  },
  {
   "cell_type": "code",
   "execution_count": 32,
   "id": "e90fdd5f-bd17-4c94-b3f4-7ddc998bd001",
   "metadata": {},
   "outputs": [
    {
     "data": {
      "text/html": [
       "<div>\n",
       "<style scoped>\n",
       "    .dataframe tbody tr th:only-of-type {\n",
       "        vertical-align: middle;\n",
       "    }\n",
       "\n",
       "    .dataframe tbody tr th {\n",
       "        vertical-align: top;\n",
       "    }\n",
       "\n",
       "    .dataframe thead th {\n",
       "        text-align: right;\n",
       "    }\n",
       "</style>\n",
       "<table border=\"1\" class=\"dataframe\">\n",
       "  <thead>\n",
       "    <tr style=\"text-align: right;\">\n",
       "      <th></th>\n",
       "      <th>incident_name</th>\n",
       "      <th>incident_is_final</th>\n",
       "      <th>incident_date_last_update</th>\n",
       "      <th>incident_date_created</th>\n",
       "      <th>incident_administrative_unit</th>\n",
       "      <th>incident_administrative_unit_url</th>\n",
       "      <th>incident_county</th>\n",
       "      <th>incident_location</th>\n",
       "      <th>incident_acres_burned</th>\n",
       "      <th>incident_containment</th>\n",
       "      <th>...</th>\n",
       "      <th>incident_latitude</th>\n",
       "      <th>incident_type</th>\n",
       "      <th>incident_id</th>\n",
       "      <th>incident_url</th>\n",
       "      <th>incident_date_extinguished</th>\n",
       "      <th>incident_dateonly_extinguished</th>\n",
       "      <th>incident_dateonly_created</th>\n",
       "      <th>is_active</th>\n",
       "      <th>calfire_incident</th>\n",
       "      <th>notification_desired</th>\n",
       "    </tr>\n",
       "  </thead>\n",
       "  <tbody>\n",
       "    <tr>\n",
       "      <th>0</th>\n",
       "      <td>Bridge Fire</td>\n",
       "      <td>Y</td>\n",
       "      <td>2018-01-09T13:46:00Z</td>\n",
       "      <td>2017-10-31T11:22:00Z</td>\n",
       "      <td>Shasta-Trinity National Forest</td>\n",
       "      <td>NaN</td>\n",
       "      <td>Shasta</td>\n",
       "      <td>I-5 and Turntable Bay, 7 miles NE of Shasta Lake</td>\n",
       "      <td>37.0</td>\n",
       "      <td>100.0</td>\n",
       "      <td>...</td>\n",
       "      <td>40.774000</td>\n",
       "      <td>NaN</td>\n",
       "      <td>2ca11d45-8139-4c16-8af0-880d99b21e82</td>\n",
       "      <td>https://www.fire.ca.gov/incidents/2017/10/31/b...</td>\n",
       "      <td>2018-01-09T13:46:00Z</td>\n",
       "      <td>2018-01-09</td>\n",
       "      <td>2017-10-31</td>\n",
       "      <td>N</td>\n",
       "      <td>False</td>\n",
       "      <td>False</td>\n",
       "    </tr>\n",
       "    <tr>\n",
       "      <th>1</th>\n",
       "      <td>Pala Fire</td>\n",
       "      <td>Y</td>\n",
       "      <td>2020-09-16T14:07:35Z</td>\n",
       "      <td>2009-05-24T14:56:00Z</td>\n",
       "      <td>CAL FIRE San Diego Unit</td>\n",
       "      <td>NaN</td>\n",
       "      <td>San Diego</td>\n",
       "      <td>Hwy 76 and Pala Temecula, northwest of Pala</td>\n",
       "      <td>122.0</td>\n",
       "      <td>100.0</td>\n",
       "      <td>...</td>\n",
       "      <td>1.000000</td>\n",
       "      <td>Wildfire</td>\n",
       "      <td>8f61f461-552d-4538-b186-35ab030da416</td>\n",
       "      <td>https://www.fire.ca.gov/incidents/2009/5/24/pa...</td>\n",
       "      <td>2009-05-25T00:00:00Z</td>\n",
       "      <td>2009-05-25</td>\n",
       "      <td>2009-05-24</td>\n",
       "      <td>N</td>\n",
       "      <td>True</td>\n",
       "      <td>False</td>\n",
       "    </tr>\n",
       "    <tr>\n",
       "      <th>2</th>\n",
       "      <td>River Fire</td>\n",
       "      <td>Y</td>\n",
       "      <td>2022-10-24T11:39:23Z</td>\n",
       "      <td>2013-02-24T08:16:00Z</td>\n",
       "      <td>CAL FIRE San Bernardino Unit</td>\n",
       "      <td>NaN</td>\n",
       "      <td>Inyo</td>\n",
       "      <td>south of Narrow Gauge Rd &amp; north of Hwy 136, e...</td>\n",
       "      <td>407.0</td>\n",
       "      <td>100.0</td>\n",
       "      <td>...</td>\n",
       "      <td>36.602575</td>\n",
       "      <td>NaN</td>\n",
       "      <td>094719ba-a47b-4abb-9ec5-a506b2b9fd23</td>\n",
       "      <td>https://www.fire.ca.gov/incidents/2013/2/24/ri...</td>\n",
       "      <td>2013-02-28T20:00:00Z</td>\n",
       "      <td>2013-02-28</td>\n",
       "      <td>2013-02-24</td>\n",
       "      <td>N</td>\n",
       "      <td>True</td>\n",
       "      <td>False</td>\n",
       "    </tr>\n",
       "    <tr>\n",
       "      <th>3</th>\n",
       "      <td>Fawnskin Fire</td>\n",
       "      <td>Y</td>\n",
       "      <td>2013-04-22T09:00:00Z</td>\n",
       "      <td>2013-04-20T17:30:00Z</td>\n",
       "      <td>San Bernardino National Forest</td>\n",
       "      <td>NaN</td>\n",
       "      <td>San Bernardino</td>\n",
       "      <td>west of Delamar Mountain, north of the communi...</td>\n",
       "      <td>30.0</td>\n",
       "      <td>100.0</td>\n",
       "      <td>...</td>\n",
       "      <td>34.288877</td>\n",
       "      <td>NaN</td>\n",
       "      <td>58f89ff8-bd3e-4355-b1c0-8fa05c747d3f</td>\n",
       "      <td>https://www.fire.ca.gov/incidents/2013/4/20/fa...</td>\n",
       "      <td>2013-04-22T09:00:00Z</td>\n",
       "      <td>2013-04-22</td>\n",
       "      <td>2013-04-20</td>\n",
       "      <td>N</td>\n",
       "      <td>False</td>\n",
       "      <td>False</td>\n",
       "    </tr>\n",
       "    <tr>\n",
       "      <th>4</th>\n",
       "      <td>Gold Fire</td>\n",
       "      <td>Y</td>\n",
       "      <td>2013-05-01T07:00:00Z</td>\n",
       "      <td>2013-04-30T12:59:00Z</td>\n",
       "      <td>CAL FIRE Madera-Mariposa-Merced Unit</td>\n",
       "      <td>NaN</td>\n",
       "      <td>Madera</td>\n",
       "      <td>Between Road 210 and Road 200 near Fine Gold C...</td>\n",
       "      <td>274.0</td>\n",
       "      <td>100.0</td>\n",
       "      <td>...</td>\n",
       "      <td>37.116295</td>\n",
       "      <td>NaN</td>\n",
       "      <td>357ffc13-bef9-48eb-810f-c5de851972eb</td>\n",
       "      <td>https://www.fire.ca.gov/incidents/2013/4/30/go...</td>\n",
       "      <td>2013-05-01T07:00:00Z</td>\n",
       "      <td>2013-05-01</td>\n",
       "      <td>2013-04-30</td>\n",
       "      <td>N</td>\n",
       "      <td>True</td>\n",
       "      <td>False</td>\n",
       "    </tr>\n",
       "    <tr>\n",
       "      <th>...</th>\n",
       "      <td>...</td>\n",
       "      <td>...</td>\n",
       "      <td>...</td>\n",
       "      <td>...</td>\n",
       "      <td>...</td>\n",
       "      <td>...</td>\n",
       "      <td>...</td>\n",
       "      <td>...</td>\n",
       "      <td>...</td>\n",
       "      <td>...</td>\n",
       "      <td>...</td>\n",
       "      <td>...</td>\n",
       "      <td>...</td>\n",
       "      <td>...</td>\n",
       "      <td>...</td>\n",
       "      <td>...</td>\n",
       "      <td>...</td>\n",
       "      <td>...</td>\n",
       "      <td>...</td>\n",
       "      <td>...</td>\n",
       "      <td>...</td>\n",
       "    </tr>\n",
       "    <tr>\n",
       "      <th>3333</th>\n",
       "      <td>Baldy Fire</td>\n",
       "      <td>Y</td>\n",
       "      <td>2025-09-27T22:07:00Z</td>\n",
       "      <td>2025-09-24T21:44:02Z</td>\n",
       "      <td>CAL FIRE Mendocino Unit</td>\n",
       "      <td>NaN</td>\n",
       "      <td>Mendocino</td>\n",
       "      <td>Bald Mountain Rd./Mina Rd. Covelo</td>\n",
       "      <td>14.0</td>\n",
       "      <td>100.0</td>\n",
       "      <td>...</td>\n",
       "      <td>39.926657</td>\n",
       "      <td>Wildfire</td>\n",
       "      <td>15701491-c78d-4cef-af34-06398c665132</td>\n",
       "      <td>https://www.fire.ca.gov/incidents/2025/9/24/ba...</td>\n",
       "      <td>2025-09-27T22:00:38Z</td>\n",
       "      <td>2025-09-27</td>\n",
       "      <td>2025-09-24</td>\n",
       "      <td>N</td>\n",
       "      <td>True</td>\n",
       "      <td>False</td>\n",
       "    </tr>\n",
       "    <tr>\n",
       "      <th>3334</th>\n",
       "      <td>Joaquin Fire</td>\n",
       "      <td>N</td>\n",
       "      <td>2025-09-28T12:00:21-07:00</td>\n",
       "      <td>2025-09-24T21:56:39Z</td>\n",
       "      <td>CAL FIRE Fresno-Kings Unit</td>\n",
       "      <td>NaN</td>\n",
       "      <td>Fresno</td>\n",
       "      <td>Los Gatos Road and Joaquin Rocks, West of Coal...</td>\n",
       "      <td>37.0</td>\n",
       "      <td>25.0</td>\n",
       "      <td>...</td>\n",
       "      <td>36.219908</td>\n",
       "      <td>Wildfire</td>\n",
       "      <td>d5765fe2-4b65-4dcd-8e1e-923926c23d35</td>\n",
       "      <td>https://www.fire.ca.gov/incidents/2025/9/24/jo...</td>\n",
       "      <td>NaN</td>\n",
       "      <td>NaN</td>\n",
       "      <td>2025-09-24</td>\n",
       "      <td>Y</td>\n",
       "      <td>True</td>\n",
       "      <td>False</td>\n",
       "    </tr>\n",
       "    <tr>\n",
       "      <th>3335</th>\n",
       "      <td>Lost Fire</td>\n",
       "      <td>Y</td>\n",
       "      <td>2025-09-28T09:51:03Z</td>\n",
       "      <td>2025-09-25T08:00:00Z</td>\n",
       "      <td>Ventura County Fire Department</td>\n",
       "      <td>NaN</td>\n",
       "      <td>Ventura</td>\n",
       "      <td>Near Lost Canyon Drive, Simi Valley</td>\n",
       "      <td>13.0</td>\n",
       "      <td>100.0</td>\n",
       "      <td>...</td>\n",
       "      <td>34.301578</td>\n",
       "      <td>Wildfire</td>\n",
       "      <td>75c850b6-27a5-493e-aaef-a42e02b2eab4</td>\n",
       "      <td>https://www.fire.ca.gov/incidents/2025/9/25/lo...</td>\n",
       "      <td>2025-09-27T14:00:00Z</td>\n",
       "      <td>2025-09-27</td>\n",
       "      <td>2025-09-25</td>\n",
       "      <td>N</td>\n",
       "      <td>False</td>\n",
       "      <td>False</td>\n",
       "    </tr>\n",
       "    <tr>\n",
       "      <th>3336</th>\n",
       "      <td>Martell Fire</td>\n",
       "      <td>Y</td>\n",
       "      <td>2025-09-28T09:49:59Z</td>\n",
       "      <td>2025-09-26T14:45:08Z</td>\n",
       "      <td>CAL FIRE Tuolumne-Calaveras Unit</td>\n",
       "      <td>NaN</td>\n",
       "      <td>Stanislaus</td>\n",
       "      <td>South of Telegraph Road and Northeast of Sonor...</td>\n",
       "      <td>37.0</td>\n",
       "      <td>100.0</td>\n",
       "      <td>...</td>\n",
       "      <td>37.906127</td>\n",
       "      <td>Wildfire</td>\n",
       "      <td>2d15d2af-d4a5-4f41-a17c-b17e3030ea93</td>\n",
       "      <td>https://www.fire.ca.gov/incidents/2025/9/26/ma...</td>\n",
       "      <td>2025-09-26T23:30:00Z</td>\n",
       "      <td>2025-09-26</td>\n",
       "      <td>2025-09-26</td>\n",
       "      <td>N</td>\n",
       "      <td>True</td>\n",
       "      <td>False</td>\n",
       "    </tr>\n",
       "    <tr>\n",
       "      <th>3337</th>\n",
       "      <td>Cobb Fire</td>\n",
       "      <td>Y</td>\n",
       "      <td>2025-09-29T07:12:14Z</td>\n",
       "      <td>2025-09-26T15:56:10Z</td>\n",
       "      <td>Six Rivers National Forest</td>\n",
       "      <td>NaN</td>\n",
       "      <td>Humboldt</td>\n",
       "      <td>Cobb Road and Rattlesnake Bridge Road, Dinsmore</td>\n",
       "      <td>12.0</td>\n",
       "      <td>100.0</td>\n",
       "      <td>...</td>\n",
       "      <td>40.463864</td>\n",
       "      <td>Wildfire</td>\n",
       "      <td>793418f8-d217-44c3-8409-617b2a3107a2</td>\n",
       "      <td>https://www.fire.ca.gov/incidents/2025/9/26/co...</td>\n",
       "      <td>2025-09-28T17:00:00Z</td>\n",
       "      <td>2025-09-28</td>\n",
       "      <td>2025-09-26</td>\n",
       "      <td>N</td>\n",
       "      <td>True</td>\n",
       "      <td>False</td>\n",
       "    </tr>\n",
       "  </tbody>\n",
       "</table>\n",
       "<p>3338 rows × 23 columns</p>\n",
       "</div>"
      ],
      "text/plain": [
       "      incident_name incident_is_final  incident_date_last_update  \\\n",
       "0       Bridge Fire                 Y       2018-01-09T13:46:00Z   \n",
       "1         Pala Fire                 Y       2020-09-16T14:07:35Z   \n",
       "2        River Fire                 Y       2022-10-24T11:39:23Z   \n",
       "3     Fawnskin Fire                 Y       2013-04-22T09:00:00Z   \n",
       "4         Gold Fire                 Y       2013-05-01T07:00:00Z   \n",
       "...             ...               ...                        ...   \n",
       "3333     Baldy Fire                 Y       2025-09-27T22:07:00Z   \n",
       "3334   Joaquin Fire                 N  2025-09-28T12:00:21-07:00   \n",
       "3335      Lost Fire                 Y       2025-09-28T09:51:03Z   \n",
       "3336   Martell Fire                 Y       2025-09-28T09:49:59Z   \n",
       "3337      Cobb Fire                 Y       2025-09-29T07:12:14Z   \n",
       "\n",
       "     incident_date_created          incident_administrative_unit  \\\n",
       "0     2017-10-31T11:22:00Z       Shasta-Trinity National Forest    \n",
       "1     2009-05-24T14:56:00Z               CAL FIRE San Diego Unit   \n",
       "2     2013-02-24T08:16:00Z          CAL FIRE San Bernardino Unit   \n",
       "3     2013-04-20T17:30:00Z        San Bernardino National Forest   \n",
       "4     2013-04-30T12:59:00Z  CAL FIRE Madera-Mariposa-Merced Unit   \n",
       "...                    ...                                   ...   \n",
       "3333  2025-09-24T21:44:02Z               CAL FIRE Mendocino Unit   \n",
       "3334  2025-09-24T21:56:39Z            CAL FIRE Fresno-Kings Unit   \n",
       "3335  2025-09-25T08:00:00Z        Ventura County Fire Department   \n",
       "3336  2025-09-26T14:45:08Z      CAL FIRE Tuolumne-Calaveras Unit   \n",
       "3337  2025-09-26T15:56:10Z            Six Rivers National Forest   \n",
       "\n",
       "      incident_administrative_unit_url incident_county  \\\n",
       "0                                  NaN          Shasta   \n",
       "1                                  NaN       San Diego   \n",
       "2                                  NaN            Inyo   \n",
       "3                                  NaN  San Bernardino   \n",
       "4                                  NaN          Madera   \n",
       "...                                ...             ...   \n",
       "3333                               NaN       Mendocino   \n",
       "3334                               NaN          Fresno   \n",
       "3335                               NaN         Ventura   \n",
       "3336                               NaN      Stanislaus   \n",
       "3337                               NaN        Humboldt   \n",
       "\n",
       "                                      incident_location  \\\n",
       "0     I-5 and Turntable Bay, 7 miles NE of Shasta Lake    \n",
       "1           Hwy 76 and Pala Temecula, northwest of Pala   \n",
       "2     south of Narrow Gauge Rd & north of Hwy 136, e...   \n",
       "3     west of Delamar Mountain, north of the communi...   \n",
       "4     Between Road 210 and Road 200 near Fine Gold C...   \n",
       "...                                                 ...   \n",
       "3333                  Bald Mountain Rd./Mina Rd. Covelo   \n",
       "3334  Los Gatos Road and Joaquin Rocks, West of Coal...   \n",
       "3335                Near Lost Canyon Drive, Simi Valley   \n",
       "3336  South of Telegraph Road and Northeast of Sonor...   \n",
       "3337    Cobb Road and Rattlesnake Bridge Road, Dinsmore   \n",
       "\n",
       "      incident_acres_burned  incident_containment  ... incident_latitude  \\\n",
       "0                      37.0                 100.0  ...         40.774000   \n",
       "1                     122.0                 100.0  ...          1.000000   \n",
       "2                     407.0                 100.0  ...         36.602575   \n",
       "3                      30.0                 100.0  ...         34.288877   \n",
       "4                     274.0                 100.0  ...         37.116295   \n",
       "...                     ...                   ...  ...               ...   \n",
       "3333                   14.0                 100.0  ...         39.926657   \n",
       "3334                   37.0                  25.0  ...         36.219908   \n",
       "3335                   13.0                 100.0  ...         34.301578   \n",
       "3336                   37.0                 100.0  ...         37.906127   \n",
       "3337                   12.0                 100.0  ...         40.463864   \n",
       "\n",
       "     incident_type                           incident_id  \\\n",
       "0              NaN  2ca11d45-8139-4c16-8af0-880d99b21e82   \n",
       "1         Wildfire  8f61f461-552d-4538-b186-35ab030da416   \n",
       "2              NaN  094719ba-a47b-4abb-9ec5-a506b2b9fd23   \n",
       "3              NaN  58f89ff8-bd3e-4355-b1c0-8fa05c747d3f   \n",
       "4              NaN  357ffc13-bef9-48eb-810f-c5de851972eb   \n",
       "...            ...                                   ...   \n",
       "3333      Wildfire  15701491-c78d-4cef-af34-06398c665132   \n",
       "3334      Wildfire  d5765fe2-4b65-4dcd-8e1e-923926c23d35   \n",
       "3335      Wildfire  75c850b6-27a5-493e-aaef-a42e02b2eab4   \n",
       "3336      Wildfire  2d15d2af-d4a5-4f41-a17c-b17e3030ea93   \n",
       "3337      Wildfire  793418f8-d217-44c3-8409-617b2a3107a2   \n",
       "\n",
       "                                           incident_url  \\\n",
       "0     https://www.fire.ca.gov/incidents/2017/10/31/b...   \n",
       "1     https://www.fire.ca.gov/incidents/2009/5/24/pa...   \n",
       "2     https://www.fire.ca.gov/incidents/2013/2/24/ri...   \n",
       "3     https://www.fire.ca.gov/incidents/2013/4/20/fa...   \n",
       "4     https://www.fire.ca.gov/incidents/2013/4/30/go...   \n",
       "...                                                 ...   \n",
       "3333  https://www.fire.ca.gov/incidents/2025/9/24/ba...   \n",
       "3334  https://www.fire.ca.gov/incidents/2025/9/24/jo...   \n",
       "3335  https://www.fire.ca.gov/incidents/2025/9/25/lo...   \n",
       "3336  https://www.fire.ca.gov/incidents/2025/9/26/ma...   \n",
       "3337  https://www.fire.ca.gov/incidents/2025/9/26/co...   \n",
       "\n",
       "     incident_date_extinguished incident_dateonly_extinguished  \\\n",
       "0          2018-01-09T13:46:00Z                     2018-01-09   \n",
       "1          2009-05-25T00:00:00Z                     2009-05-25   \n",
       "2          2013-02-28T20:00:00Z                     2013-02-28   \n",
       "3          2013-04-22T09:00:00Z                     2013-04-22   \n",
       "4          2013-05-01T07:00:00Z                     2013-05-01   \n",
       "...                         ...                            ...   \n",
       "3333       2025-09-27T22:00:38Z                     2025-09-27   \n",
       "3334                        NaN                            NaN   \n",
       "3335       2025-09-27T14:00:00Z                     2025-09-27   \n",
       "3336       2025-09-26T23:30:00Z                     2025-09-26   \n",
       "3337       2025-09-28T17:00:00Z                     2025-09-28   \n",
       "\n",
       "     incident_dateonly_created is_active calfire_incident notification_desired  \n",
       "0                   2017-10-31         N            False                False  \n",
       "1                   2009-05-24         N             True                False  \n",
       "2                   2013-02-24         N             True                False  \n",
       "3                   2013-04-20         N            False                False  \n",
       "4                   2013-04-30         N             True                False  \n",
       "...                        ...       ...              ...                  ...  \n",
       "3333                2025-09-24         N             True                False  \n",
       "3334                2025-09-24         Y             True                False  \n",
       "3335                2025-09-25         N            False                False  \n",
       "3336                2025-09-26         N             True                False  \n",
       "3337                2025-09-26         N             True                False  \n",
       "\n",
       "[3338 rows x 23 columns]"
      ]
     },
     "execution_count": 32,
     "metadata": {},
     "output_type": "execute_result"
    }
   ],
   "source": [
    "# Your code here\n",
    "DF_raw= pd.read_csv('mapdataall.csv')\n",
    "DF_raw"
   ]
  },
  {
   "cell_type": "markdown",
   "id": "941e4499-edd1-4210-b3ff-292dd2eb4df7",
   "metadata": {},
   "source": [
    "**Q1** How many variables and observations?\n",
    "\n",
    "**Q2** How many different incident types are there?\n",
    "\n",
    "**Q3** Make a histogram of the acres burned and color the bars by whether or not the incident was a calfire incident. You will probably need to make a mask to remove very small and very large fires. How many fires burned more than 100,000 acres? What is the largest fire in the data?\n",
    "\n",
    "**Extra Q** EXTRA - CHALLENGE - See if you can create a graph that answers the question: Are fires getting bigger or more frequent over time? You get complete creative control on how to answer this question!"
   ]
  },
  {
   "cell_type": "code",
   "execution_count": 19,
   "id": "df36876b-02c2-4d86-b55b-62819a368bf6",
   "metadata": {},
   "outputs": [
    {
     "data": {
      "text/plain": [
       "count         2104\n",
       "unique           4\n",
       "top       Wildfire\n",
       "freq          2067\n",
       "Name: incident_type, dtype: object"
      ]
     },
     "execution_count": 19,
     "metadata": {},
     "output_type": "execute_result"
    }
   ],
   "source": [
    "# You will need to write some code to answer the questions.\n",
    "DF_raw['incident_type'].describe()"
   ]
  },
  {
   "cell_type": "markdown",
   "id": "0e1f769b-d87d-429a-9de8-c35af020525d",
   "metadata": {},
   "source": [
    "MY ANSWERS\n",
    "Q1. There are 3338 variables and 23 variables\n",
    "Q2. I believe there's only 1 incident type which is wildfire.\n",
    "Q3. The gold fire is the largest\n"
   ]
  },
  {
   "cell_type": "code",
   "execution_count": 22,
   "id": "1c9681d2-c88d-44e5-9132-5ba7e22bfa82",
   "metadata": {},
   "outputs": [
    {
     "data": {
      "application/vnd.plotly.v1+json": {
       "config": {
        "plotlyServerURL": "https://plot.ly"
       },
       "data": [
        {
         "bingroup": "x",
         "hovertemplate": "incident_latitude=%{x}<br>count=%{y}<extra></extra>",
         "legendgroup": "",
         "marker": {
          "color": "blue",
          "pattern": {
           "shape": ""
          }
         },
         "name": "",
         "nbinsx": 20,
         "orientation": "v",
         "showlegend": false,
         "type": "histogram",
         "x": {
          "bdata": "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",
          "dtype": "f8"
         },
         "xaxis": "x",
         "yaxis": "y"
        }
       ],
       "layout": {
        "bargap": 0.1,
        "barmode": "relative",
        "legend": {
         "tracegroupgap": 0
        },
        "margin": {
         "t": 60
        },
        "template": {
         "data": {
          "bar": [
           {
            "error_x": {
             "color": "#2a3f5f"
            },
            "error_y": {
             "color": "#2a3f5f"
            },
            "marker": {
             "line": {
              "color": "#E5ECF6",
              "width": 0.5
             },
             "pattern": {
              "fillmode": "overlay",
              "size": 10,
              "solidity": 0.2
             }
            },
            "type": "bar"
           }
          ],
          "barpolar": [
           {
            "marker": {
             "line": {
              "color": "#E5ECF6",
              "width": 0.5
             },
             "pattern": {
              "fillmode": "overlay",
              "size": 10,
              "solidity": 0.2
             }
            },
            "type": "barpolar"
           }
          ],
          "carpet": [
           {
            "aaxis": {
             "endlinecolor": "#2a3f5f",
             "gridcolor": "white",
             "linecolor": "white",
             "minorgridcolor": "white",
             "startlinecolor": "#2a3f5f"
            },
            "baxis": {
             "endlinecolor": "#2a3f5f",
             "gridcolor": "white",
             "linecolor": "white",
             "minorgridcolor": "white",
             "startlinecolor": "#2a3f5f"
            },
            "type": "carpet"
           }
          ],
          "choropleth": [
           {
            "colorbar": {
             "outlinewidth": 0,
             "ticks": ""
            },
            "type": "choropleth"
           }
          ],
          "contour": [
           {
            "colorbar": {
             "outlinewidth": 0,
             "ticks": ""
            },
            "colorscale": [
             [
              0,
              "#0d0887"
             ],
             [
              0.1111111111111111,
              "#46039f"
             ],
             [
              0.2222222222222222,
              "#7201a8"
             ],
             [
              0.3333333333333333,
              "#9c179e"
             ],
             [
              0.4444444444444444,
              "#bd3786"
             ],
             [
              0.5555555555555556,
              "#d8576b"
             ],
             [
              0.6666666666666666,
              "#ed7953"
             ],
             [
              0.7777777777777778,
              "#fb9f3a"
             ],
             [
              0.8888888888888888,
              "#fdca26"
             ],
             [
              1,
              "#f0f921"
             ]
            ],
            "type": "contour"
           }
          ],
          "contourcarpet": [
           {
            "colorbar": {
             "outlinewidth": 0,
             "ticks": ""
            },
            "type": "contourcarpet"
           }
          ],
          "heatmap": [
           {
            "colorbar": {
             "outlinewidth": 0,
             "ticks": ""
            },
            "colorscale": [
             [
              0,
              "#0d0887"
             ],
             [
              0.1111111111111111,
              "#46039f"
             ],
             [
              0.2222222222222222,
              "#7201a8"
             ],
             [
              0.3333333333333333,
              "#9c179e"
             ],
             [
              0.4444444444444444,
              "#bd3786"
             ],
             [
              0.5555555555555556,
              "#d8576b"
             ],
             [
              0.6666666666666666,
              "#ed7953"
             ],
             [
              0.7777777777777778,
              "#fb9f3a"
             ],
             [
              0.8888888888888888,
              "#fdca26"
             ],
             [
              1,
              "#f0f921"
             ]
            ],
            "type": "heatmap"
           }
          ],
          "histogram": [
           {
            "marker": {
             "pattern": {
              "fillmode": "overlay",
              "size": 10,
              "solidity": 0.2
             }
            },
            "type": "histogram"
           }
          ],
          "histogram2d": [
           {
            "colorbar": {
             "outlinewidth": 0,
             "ticks": ""
            },
            "colorscale": [
             [
              0,
              "#0d0887"
             ],
             [
              0.1111111111111111,
              "#46039f"
             ],
             [
              0.2222222222222222,
              "#7201a8"
             ],
             [
              0.3333333333333333,
              "#9c179e"
             ],
             [
              0.4444444444444444,
              "#bd3786"
             ],
             [
              0.5555555555555556,
              "#d8576b"
             ],
             [
              0.6666666666666666,
              "#ed7953"
             ],
             [
              0.7777777777777778,
              "#fb9f3a"
             ],
             [
              0.8888888888888888,
              "#fdca26"
             ],
             [
              1,
              "#f0f921"
             ]
            ],
            "type": "histogram2d"
           }
          ],
          "histogram2dcontour": [
           {
            "colorbar": {
             "outlinewidth": 0,
             "ticks": ""
            },
            "colorscale": [
             [
              0,
              "#0d0887"
             ],
             [
              0.1111111111111111,
              "#46039f"
             ],
             [
              0.2222222222222222,
              "#7201a8"
             ],
             [
              0.3333333333333333,
              "#9c179e"
             ],
             [
              0.4444444444444444,
              "#bd3786"
             ],
             [
              0.5555555555555556,
              "#d8576b"
             ],
             [
              0.6666666666666666,
              "#ed7953"
             ],
             [
              0.7777777777777778,
              "#fb9f3a"
             ],
             [
              0.8888888888888888,
              "#fdca26"
             ],
             [
              1,
              "#f0f921"
             ]
            ],
            "type": "histogram2dcontour"
           }
          ],
          "mesh3d": [
           {
            "colorbar": {
             "outlinewidth": 0,
             "ticks": ""
            },
            "type": "mesh3d"
           }
          ],
          "parcoords": [
           {
            "line": {
             "colorbar": {
              "outlinewidth": 0,
              "ticks": ""
             }
            },
            "type": "parcoords"
           }
          ],
          "pie": [
           {
            "automargin": true,
            "type": "pie"
           }
          ],
          "scatter": [
           {
            "fillpattern": {
             "fillmode": "overlay",
             "size": 10,
             "solidity": 0.2
            },
            "type": "scatter"
           }
          ],
          "scatter3d": [
           {
            "line": {
             "colorbar": {
              "outlinewidth": 0,
              "ticks": ""
             }
            },
            "marker": {
             "colorbar": {
              "outlinewidth": 0,
              "ticks": ""
             }
            },
            "type": "scatter3d"
           }
          ],
          "scattercarpet": [
           {
            "marker": {
             "colorbar": {
              "outlinewidth": 0,
              "ticks": ""
             }
            },
            "type": "scattercarpet"
           }
          ],
          "scattergeo": [
           {
            "marker": {
             "colorbar": {
              "outlinewidth": 0,
              "ticks": ""
             }
            },
            "type": "scattergeo"
           }
          ],
          "scattergl": [
           {
            "marker": {
             "colorbar": {
              "outlinewidth": 0,
              "ticks": ""
             }
            },
            "type": "scattergl"
           }
          ],
          "scattermap": [
           {
            "marker": {
             "colorbar": {
              "outlinewidth": 0,
              "ticks": ""
             }
            },
            "type": "scattermap"
           }
          ],
          "scattermapbox": [
           {
            "marker": {
             "colorbar": {
              "outlinewidth": 0,
              "ticks": ""
             }
            },
            "type": "scattermapbox"
           }
          ],
          "scatterpolar": [
           {
            "marker": {
             "colorbar": {
              "outlinewidth": 0,
              "ticks": ""
             }
            },
            "type": "scatterpolar"
           }
          ],
          "scatterpolargl": [
           {
            "marker": {
             "colorbar": {
              "outlinewidth": 0,
              "ticks": ""
             }
            },
            "type": "scatterpolargl"
           }
          ],
          "scatterternary": [
           {
            "marker": {
             "colorbar": {
              "outlinewidth": 0,
              "ticks": ""
             }
            },
            "type": "scatterternary"
           }
          ],
          "surface": [
           {
            "colorbar": {
             "outlinewidth": 0,
             "ticks": ""
            },
            "colorscale": [
             [
              0,
              "#0d0887"
             ],
             [
              0.1111111111111111,
              "#46039f"
             ],
             [
              0.2222222222222222,
              "#7201a8"
             ],
             [
              0.3333333333333333,
              "#9c179e"
             ],
             [
              0.4444444444444444,
              "#bd3786"
             ],
             [
              0.5555555555555556,
              "#d8576b"
             ],
             [
              0.6666666666666666,
              "#ed7953"
             ],
             [
              0.7777777777777778,
              "#fb9f3a"
             ],
             [
              0.8888888888888888,
              "#fdca26"
             ],
             [
              1,
              "#f0f921"
             ]
            ],
            "type": "surface"
           }
          ],
          "table": [
           {
            "cells": {
             "fill": {
              "color": "#EBF0F8"
             },
             "line": {
              "color": "white"
             }
            },
            "header": {
             "fill": {
              "color": "#C8D4E3"
             },
             "line": {
              "color": "white"
             }
            },
            "type": "table"
           }
          ]
         },
         "layout": {
          "annotationdefaults": {
           "arrowcolor": "#2a3f5f",
           "arrowhead": 0,
           "arrowwidth": 1
          },
          "autotypenumbers": "strict",
          "coloraxis": {
           "colorbar": {
            "outlinewidth": 0,
            "ticks": ""
           }
          },
          "colorscale": {
           "diverging": [
            [
             0,
             "#8e0152"
            ],
            [
             0.1,
             "#c51b7d"
            ],
            [
             0.2,
             "#de77ae"
            ],
            [
             0.3,
             "#f1b6da"
            ],
            [
             0.4,
             "#fde0ef"
            ],
            [
             0.5,
             "#f7f7f7"
            ],
            [
             0.6,
             "#e6f5d0"
            ],
            [
             0.7,
             "#b8e186"
            ],
            [
             0.8,
             "#7fbc41"
            ],
            [
             0.9,
             "#4d9221"
            ],
            [
             1,
             "#276419"
            ]
           ],
           "sequential": [
            [
             0,
             "#0d0887"
            ],
            [
             0.1111111111111111,
             "#46039f"
            ],
            [
             0.2222222222222222,
             "#7201a8"
            ],
            [
             0.3333333333333333,
             "#9c179e"
            ],
            [
             0.4444444444444444,
             "#bd3786"
            ],
            [
             0.5555555555555556,
             "#d8576b"
            ],
            [
             0.6666666666666666,
             "#ed7953"
            ],
            [
             0.7777777777777778,
             "#fb9f3a"
            ],
            [
             0.8888888888888888,
             "#fdca26"
            ],
            [
             1,
             "#f0f921"
            ]
           ],
           "sequentialminus": [
            [
             0,
             "#0d0887"
            ],
            [
             0.1111111111111111,
             "#46039f"
            ],
            [
             0.2222222222222222,
             "#7201a8"
            ],
            [
             0.3333333333333333,
             "#9c179e"
            ],
            [
             0.4444444444444444,
             "#bd3786"
            ],
            [
             0.5555555555555556,
             "#d8576b"
            ],
            [
             0.6666666666666666,
             "#ed7953"
            ],
            [
             0.7777777777777778,
             "#fb9f3a"
            ],
            [
             0.8888888888888888,
             "#fdca26"
            ],
            [
             1,
             "#f0f921"
            ]
           ]
          },
          "colorway": [
           "#636efa",
           "#EF553B",
           "#00cc96",
           "#ab63fa",
           "#FFA15A",
           "#19d3f3",
           "#FF6692",
           "#B6E880",
           "#FF97FF",
           "#FECB52"
          ],
          "font": {
           "color": "#2a3f5f"
          },
          "geo": {
           "bgcolor": "white",
           "lakecolor": "white",
           "landcolor": "#E5ECF6",
           "showlakes": true,
           "showland": true,
           "subunitcolor": "white"
          },
          "hoverlabel": {
           "align": "left"
          },
          "hovermode": "closest",
          "mapbox": {
           "style": "light"
          },
          "paper_bgcolor": "white",
          "plot_bgcolor": "#E5ECF6",
          "polar": {
           "angularaxis": {
            "gridcolor": "white",
            "linecolor": "white",
            "ticks": ""
           },
           "bgcolor": "#E5ECF6",
           "radialaxis": {
            "gridcolor": "white",
            "linecolor": "white",
            "ticks": ""
           }
          },
          "scene": {
           "xaxis": {
            "backgroundcolor": "#E5ECF6",
            "gridcolor": "white",
            "gridwidth": 2,
            "linecolor": "white",
            "showbackground": true,
            "ticks": "",
            "zerolinecolor": "white"
           },
           "yaxis": {
            "backgroundcolor": "#E5ECF6",
            "gridcolor": "white",
            "gridwidth": 2,
            "linecolor": "white",
            "showbackground": true,
            "ticks": "",
            "zerolinecolor": "white"
           },
           "zaxis": {
            "backgroundcolor": "#E5ECF6",
            "gridcolor": "white",
            "gridwidth": 2,
            "linecolor": "white",
            "showbackground": true,
            "ticks": "",
            "zerolinecolor": "white"
           }
          },
          "shapedefaults": {
           "line": {
            "color": "#2a3f5f"
           }
          },
          "ternary": {
           "aaxis": {
            "gridcolor": "white",
            "linecolor": "white",
            "ticks": ""
           },
           "baxis": {
            "gridcolor": "white",
            "linecolor": "white",
            "ticks": ""
           },
           "bgcolor": "#E5ECF6",
           "caxis": {
            "gridcolor": "white",
            "linecolor": "white",
            "ticks": ""
           }
          },
          "title": {
           "x": 0.05
          },
          "xaxis": {
           "automargin": true,
           "gridcolor": "white",
           "linecolor": "white",
           "ticks": "",
           "title": {
            "standoff": 15
           },
           "zerolinecolor": "white",
           "zerolinewidth": 2
          },
          "yaxis": {
           "automargin": true,
           "gridcolor": "white",
           "linecolor": "white",
           "ticks": "",
           "title": {
            "standoff": 15
           },
           "zerolinecolor": "white",
           "zerolinewidth": 2
          }
         }
        },
        "title": {
         "text": "Histogram of Size of Fires",
         "x": 0.5
        },
        "xaxis": {
         "anchor": "y",
         "domain": [
          0,
          1
         ],
         "title": {
          "text": "incident_latitude"
         }
        },
        "yaxis": {
         "anchor": "x",
         "domain": [
          0,
          1
         ],
         "title": {
          "text": "count"
         }
        }
       }
      },
      "image/png": "[encoded data removed]"
     },
     "metadata": {},
     "output_type": "display_data"
    }
   ],
   "source": [
    "# Extra Code\n",
    "mask=(DF_raw['incident_latitude']) \n",
    "mask\n",
    "DF_raw.describe\n",
    "fig = px.histogram(DF_raw,\n",
    "                   nbins=20,\n",
    "                   x='incident_latitude',\n",
    "                   color_discrete_sequence=['blue'])\n",
    "fig.update_layout(bargap=0.1,\n",
    "                  title='Histogram of Size of Fires',\n",
    "                  title_x=0.5)\n",
    "fig.show()"
   ]
  },
  {
   "cell_type": "code",
   "execution_count": 33,
   "id": "0388222e-a80b-4392-99cd-3966254c4017",
   "metadata": {},
   "outputs": [
    {
     "data": {
      "application/vnd.plotly.v1+json": {
       "config": {
        "plotlyServerURL": "https://plot.ly"
       },
       "data": [
        {
         "bingroup": "x",
         "hovertemplate": "incident_acres_burned=%{x}<br>count=%{y}<extra></extra>",
         "legendgroup": "",
         "marker": {
          "color": "blue",
          "pattern": {
           "shape": ""
          }
         },
         "name": "",
         "nbinsx": 20,
         "orientation": "v",
         "showlegend": false,
         "type": "histogram",
         "x": {
          "bdata": "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",
          "dtype": "f8"
         },
         "xaxis": "x",
         "yaxis": "y"
        }
       ],
       "layout": {
        "bargap": 0.1,
        "barmode": "relative",
        "legend": {
         "tracegroupgap": 0
        },
        "margin": {
         "t": 60
        },
        "template": {
         "data": {
          "bar": [
           {
            "error_x": {
             "color": "#2a3f5f"
            },
            "error_y": {
             "color": "#2a3f5f"
            },
            "marker": {
             "line": {
              "color": "#E5ECF6",
              "width": 0.5
             },
             "pattern": {
              "fillmode": "overlay",
              "size": 10,
              "solidity": 0.2
             }
            },
            "type": "bar"
           }
          ],
          "barpolar": [
           {
            "marker": {
             "line": {
              "color": "#E5ECF6",
              "width": 0.5
             },
             "pattern": {
              "fillmode": "overlay",
              "size": 10,
              "solidity": 0.2
             }
            },
            "type": "barpolar"
           }
          ],
          "carpet": [
           {
            "aaxis": {
             "endlinecolor": "#2a3f5f",
             "gridcolor": "white",
             "linecolor": "white",
             "minorgridcolor": "white",
             "startlinecolor": "#2a3f5f"
            },
            "baxis": {
             "endlinecolor": "#2a3f5f",
             "gridcolor": "white",
             "linecolor": "white",
             "minorgridcolor": "white",
             "startlinecolor": "#2a3f5f"
            },
            "type": "carpet"
           }
          ],
          "choropleth": [
           {
            "colorbar": {
             "outlinewidth": 0,
             "ticks": ""
            },
            "type": "choropleth"
           }
          ],
          "contour": [
           {
            "colorbar": {
             "outlinewidth": 0,
             "ticks": ""
            },
            "colorscale": [
             [
              0,
              "#0d0887"
             ],
             [
              0.1111111111111111,
              "#46039f"
             ],
             [
              0.2222222222222222,
              "#7201a8"
             ],
             [
              0.3333333333333333,
              "#9c179e"
             ],
             [
              0.4444444444444444,
              "#bd3786"
             ],
             [
              0.5555555555555556,
              "#d8576b"
             ],
             [
              0.6666666666666666,
              "#ed7953"
             ],
             [
              0.7777777777777778,
              "#fb9f3a"
             ],
             [
              0.8888888888888888,
              "#fdca26"
             ],
             [
              1,
              "#f0f921"
             ]
            ],
            "type": "contour"
           }
          ],
          "contourcarpet": [
           {
            "colorbar": {
             "outlinewidth": 0,
             "ticks": ""
            },
            "type": "contourcarpet"
           }
          ],
          "heatmap": [
           {
            "colorbar": {
             "outlinewidth": 0,
             "ticks": ""
            },
            "colorscale": [
             [
              0,
              "#0d0887"
             ],
             [
              0.1111111111111111,
              "#46039f"
             ],
             [
              0.2222222222222222,
              "#7201a8"
             ],
             [
              0.3333333333333333,
              "#9c179e"
             ],
             [
              0.4444444444444444,
              "#bd3786"
             ],
             [
              0.5555555555555556,
              "#d8576b"
             ],
             [
              0.6666666666666666,
              "#ed7953"
             ],
             [
              0.7777777777777778,
              "#fb9f3a"
             ],
             [
              0.8888888888888888,
              "#fdca26"
             ],
             [
              1,
              "#f0f921"
             ]
            ],
            "type": "heatmap"
           }
          ],
          "histogram": [
           {
            "marker": {
             "pattern": {
              "fillmode": "overlay",
              "size": 10,
              "solidity": 0.2
             }
            },
            "type": "histogram"
           }
          ],
          "histogram2d": [
           {
            "colorbar": {
             "outlinewidth": 0,
             "ticks": ""
            },
            "colorscale": [
             [
              0,
              "#0d0887"
             ],
             [
              0.1111111111111111,
              "#46039f"
             ],
             [
              0.2222222222222222,
              "#7201a8"
             ],
             [
              0.3333333333333333,
              "#9c179e"
             ],
             [
              0.4444444444444444,
              "#bd3786"
             ],
             [
              0.5555555555555556,
              "#d8576b"
             ],
             [
              0.6666666666666666,
              "#ed7953"
             ],
             [
              0.7777777777777778,
              "#fb9f3a"
             ],
             [
              0.8888888888888888,
              "#fdca26"
             ],
             [
              1,
              "#f0f921"
             ]
            ],
            "type": "histogram2d"
           }
          ],
          "histogram2dcontour": [
           {
            "colorbar": {
             "outlinewidth": 0,
             "ticks": ""
            },
            "colorscale": [
             [
              0,
              "#0d0887"
             ],
             [
              0.1111111111111111,
              "#46039f"
             ],
             [
              0.2222222222222222,
              "#7201a8"
             ],
             [
              0.3333333333333333,
              "#9c179e"
             ],
             [
              0.4444444444444444,
              "#bd3786"
             ],
             [
              0.5555555555555556,
              "#d8576b"
             ],
             [
              0.6666666666666666,
              "#ed7953"
             ],
             [
              0.7777777777777778,
              "#fb9f3a"
             ],
             [
              0.8888888888888888,
              "#fdca26"
             ],
             [
              1,
              "#f0f921"
             ]
            ],
            "type": "histogram2dcontour"
           }
          ],
          "mesh3d": [
           {
            "colorbar": {
             "outlinewidth": 0,
             "ticks": ""
            },
            "type": "mesh3d"
           }
          ],
          "parcoords": [
           {
            "line": {
             "colorbar": {
              "outlinewidth": 0,
              "ticks": ""
             }
            },
            "type": "parcoords"
           }
          ],
          "pie": [
           {
            "automargin": true,
            "type": "pie"
           }
          ],
          "scatter": [
           {
            "fillpattern": {
             "fillmode": "overlay",
             "size": 10,
             "solidity": 0.2
            },
            "type": "scatter"
           }
          ],
          "scatter3d": [
           {
            "line": {
             "colorbar": {
              "outlinewidth": 0,
              "ticks": ""
             }
            },
            "marker": {
             "colorbar": {
              "outlinewidth": 0,
              "ticks": ""
             }
            },
            "type": "scatter3d"
           }
          ],
          "scattercarpet": [
           {
            "marker": {
             "colorbar": {
              "outlinewidth": 0,
              "ticks": ""
             }
            },
            "type": "scattercarpet"
           }
          ],
          "scattergeo": [
           {
            "marker": {
             "colorbar": {
              "outlinewidth": 0,
              "ticks": ""
             }
            },
            "type": "scattergeo"
           }
          ],
          "scattergl": [
           {
            "marker": {
             "colorbar": {
              "outlinewidth": 0,
              "ticks": ""
             }
            },
            "type": "scattergl"
           }
          ],
          "scattermap": [
           {
            "marker": {
             "colorbar": {
              "outlinewidth": 0,
              "ticks": ""
             }
            },
            "type": "scattermap"
           }
          ],
          "scattermapbox": [
           {
            "marker": {
             "colorbar": {
              "outlinewidth": 0,
              "ticks": ""
             }
            },
            "type": "scattermapbox"
           }
          ],
          "scatterpolar": [
           {
            "marker": {
             "colorbar": {
              "outlinewidth": 0,
              "ticks": ""
             }
            },
            "type": "scatterpolar"
           }
          ],
          "scatterpolargl": [
           {
            "marker": {
             "colorbar": {
              "outlinewidth": 0,
              "ticks": ""
             }
            },
            "type": "scatterpolargl"
           }
          ],
          "scatterternary": [
           {
            "marker": {
             "colorbar": {
              "outlinewidth": 0,
              "ticks": ""
             }
            },
            "type": "scatterternary"
           }
          ],
          "surface": [
           {
            "colorbar": {
             "outlinewidth": 0,
             "ticks": ""
            },
            "colorscale": [
             [
              0,
              "#0d0887"
             ],
             [
              0.1111111111111111,
              "#46039f"
             ],
             [
              0.2222222222222222,
              "#7201a8"
             ],
             [
              0.3333333333333333,
              "#9c179e"
             ],
             [
              0.4444444444444444,
              "#bd3786"
             ],
             [
              0.5555555555555556,
              "#d8576b"
             ],
             [
              0.6666666666666666,
              "#ed7953"
             ],
             [
              0.7777777777777778,
              "#fb9f3a"
             ],
             [
              0.8888888888888888,
              "#fdca26"
             ],
             [
              1,
              "#f0f921"
             ]
            ],
            "type": "surface"
           }
          ],
          "table": [
           {
            "cells": {
             "fill": {
              "color": "#EBF0F8"
             },
             "line": {
              "color": "white"
             }
            },
            "header": {
             "fill": {
              "color": "#C8D4E3"
             },
             "line": {
              "color": "white"
             }
            },
            "type": "table"
           }
          ]
         },
         "layout": {
          "annotationdefaults": {
           "arrowcolor": "#2a3f5f",
           "arrowhead": 0,
           "arrowwidth": 1
          },
          "autotypenumbers": "strict",
          "coloraxis": {
           "colorbar": {
            "outlinewidth": 0,
            "ticks": ""
           }
          },
          "colorscale": {
           "diverging": [
            [
             0,
             "#8e0152"
            ],
            [
             0.1,
             "#c51b7d"
            ],
            [
             0.2,
             "#de77ae"
            ],
            [
             0.3,
             "#f1b6da"
            ],
            [
             0.4,
             "#fde0ef"
            ],
            [
             0.5,
             "#f7f7f7"
            ],
            [
             0.6,
             "#e6f5d0"
            ],
            [
             0.7,
             "#b8e186"
            ],
            [
             0.8,
             "#7fbc41"
            ],
            [
             0.9,
             "#4d9221"
            ],
            [
             1,
             "#276419"
            ]
           ],
           "sequential": [
            [
             0,
             "#0d0887"
            ],
            [
             0.1111111111111111,
             "#46039f"
            ],
            [
             0.2222222222222222,
             "#7201a8"
            ],
            [
             0.3333333333333333,
             "#9c179e"
            ],
            [
             0.4444444444444444,
             "#bd3786"
            ],
            [
             0.5555555555555556,
             "#d8576b"
            ],
            [
             0.6666666666666666,
             "#ed7953"
            ],
            [
             0.7777777777777778,
             "#fb9f3a"
            ],
            [
             0.8888888888888888,
             "#fdca26"
            ],
            [
             1,
             "#f0f921"
            ]
           ],
           "sequentialminus": [
            [
             0,
             "#0d0887"
            ],
            [
             0.1111111111111111,
             "#46039f"
            ],
            [
             0.2222222222222222,
             "#7201a8"
            ],
            [
             0.3333333333333333,
             "#9c179e"
            ],
            [
             0.4444444444444444,
             "#bd3786"
            ],
            [
             0.5555555555555556,
             "#d8576b"
            ],
            [
             0.6666666666666666,
             "#ed7953"
            ],
            [
             0.7777777777777778,
             "#fb9f3a"
            ],
            [
             0.8888888888888888,
             "#fdca26"
            ],
            [
             1,
             "#f0f921"
            ]
           ]
          },
          "colorway": [
           "#636efa",
           "#EF553B",
           "#00cc96",
           "#ab63fa",
           "#FFA15A",
           "#19d3f3",
           "#FF6692",
           "#B6E880",
           "#FF97FF",
           "#FECB52"
          ],
          "font": {
           "color": "#2a3f5f"
          },
          "geo": {
           "bgcolor": "white",
           "lakecolor": "white",
           "landcolor": "#E5ECF6",
           "showlakes": true,
           "showland": true,
           "subunitcolor": "white"
          },
          "hoverlabel": {
           "align": "left"
          },
          "hovermode": "closest",
          "mapbox": {
           "style": "light"
          },
          "paper_bgcolor": "white",
          "plot_bgcolor": "#E5ECF6",
          "polar": {
           "angularaxis": {
            "gridcolor": "white",
            "linecolor": "white",
            "ticks": ""
           },
           "bgcolor": "#E5ECF6",
           "radialaxis": {
            "gridcolor": "white",
            "linecolor": "white",
            "ticks": ""
           }
          },
          "scene": {
           "xaxis": {
            "backgroundcolor": "#E5ECF6",
            "gridcolor": "white",
            "gridwidth": 2,
            "linecolor": "white",
            "showbackground": true,
            "ticks": "",
            "zerolinecolor": "white"
           },
           "yaxis": {
            "backgroundcolor": "#E5ECF6",
            "gridcolor": "white",
            "gridwidth": 2,
            "linecolor": "white",
            "showbackground": true,
            "ticks": "",
            "zerolinecolor": "white"
           },
           "zaxis": {
            "backgroundcolor": "#E5ECF6",
            "gridcolor": "white",
            "gridwidth": 2,
            "linecolor": "white",
            "showbackground": true,
            "ticks": "",
            "zerolinecolor": "white"
           }
          },
          "shapedefaults": {
           "line": {
            "color": "#2a3f5f"
           }
          },
          "ternary": {
           "aaxis": {
            "gridcolor": "white",
            "linecolor": "white",
            "ticks": ""
           },
           "baxis": {
            "gridcolor": "white",
            "linecolor": "white",
            "ticks": ""
           },
           "bgcolor": "#E5ECF6",
           "caxis": {
            "gridcolor": "white",
            "linecolor": "white",
            "ticks": ""
           }
          },
          "title": {
           "x": 0.05
          },
          "xaxis": {
           "automargin": true,
           "gridcolor": "white",
           "linecolor": "white",
           "ticks": "",
           "title": {
            "standoff": 15
           },
           "zerolinecolor": "white",
           "zerolinewidth": 2
          },
          "yaxis": {
           "automargin": true,
           "gridcolor": "white",
           "linecolor": "white",
           "ticks": "",
           "title": {
            "standoff": 15
           },
           "zerolinecolor": "white",
           "zerolinewidth": 2
          }
         }
        },
        "title": {
         "text": "Histogram of Number of Acres Burned",
         "x": 0.5
        },
        "xaxis": {
         "anchor": "y",
         "domain": [
          0,
          1
         ],
         "title": {
          "text": "incident_acres_burned"
         }
        },
        "yaxis": {
         "anchor": "x",
         "domain": [
          0,
          1
         ],
         "title": {
          "text": "count"
         }
        }
       }
      },
      "image/png": "[encoded data removed]"
     },
     "metadata": {},
     "output_type": "display_data"
    }
   ],
   "source": [
    "# Extra Code\n",
    "mask = DF_raw['incident_acres_burned']\n",
    "mask\n",
    "DF_raw.describe\n",
    "fig = px.histogram(DF_raw,\n",
    "                   nbins=20,\n",
    "                   x='incident_acres_burned',\n",
    "                   color_discrete_sequence=['blue'])\n",
    "fig.update_layout(bargap=0.1,\n",
    "                  title='Histogram of Number of Acres Burned',\n",
    "                  title_x=0.5)\n",
    "fig.show()"
   ]
  },
  {
   "cell_type": "markdown",
   "id": "fa09683e-ac6a-4cb5-a47d-6cbf580524d2",
   "metadata": {},
   "source": [
    "## Try reading in some data from Wikipedia - html\n",
    "\n",
    "Here we will explore academy award winning films. Go to the [Wiki for the List of Academy Award Winning Films](https://en.wikipedia.org/wiki/List_of_Academy_Award%E2%80%93winning_films). Look at what type of data is there. How many tables? Any weird looking data?\n",
    "\n",
    "Now we will read the html data into Python and show the data in DF[0]"
   ]
  },
  {
   "cell_type": "code",
   "execution_count": 96,
   "id": "ddd62d4d-675f-4706-9b79-993e5b5ad343",
   "metadata": {},
   "outputs": [
    {
     "data": {
      "text/html": [
       "<div>\n",
       "<style scoped>\n",
       "    .dataframe tbody tr th:only-of-type {\n",
       "        vertical-align: middle;\n",
       "    }\n",
       "\n",
       "    .dataframe tbody tr th {\n",
       "        vertical-align: top;\n",
       "    }\n",
       "\n",
       "    .dataframe thead th {\n",
       "        text-align: right;\n",
       "    }\n",
       "</style>\n",
       "<table border=\"1\" class=\"dataframe\">\n",
       "  <thead>\n",
       "    <tr style=\"text-align: right;\">\n",
       "      <th></th>\n",
       "      <th>Film</th>\n",
       "      <th>Year</th>\n",
       "      <th>Awards</th>\n",
       "      <th>Nominations</th>\n",
       "    </tr>\n",
       "  </thead>\n",
       "  <tbody>\n",
       "    <tr>\n",
       "      <th>0</th>\n",
       "      <td>Anora</td>\n",
       "      <td>2024</td>\n",
       "      <td>5</td>\n",
       "      <td>6</td>\n",
       "    </tr>\n",
       "    <tr>\n",
       "      <th>1</th>\n",
       "      <td>The Brutalist</td>\n",
       "      <td>2024</td>\n",
       "      <td>3</td>\n",
       "      <td>10</td>\n",
       "    </tr>\n",
       "    <tr>\n",
       "      <th>2</th>\n",
       "      <td>Emilia Pérez</td>\n",
       "      <td>2024</td>\n",
       "      <td>2</td>\n",
       "      <td>13</td>\n",
       "    </tr>\n",
       "    <tr>\n",
       "      <th>3</th>\n",
       "      <td>Wicked</td>\n",
       "      <td>2024</td>\n",
       "      <td>2</td>\n",
       "      <td>10</td>\n",
       "    </tr>\n",
       "    <tr>\n",
       "      <th>4</th>\n",
       "      <td>Dune: Part Two</td>\n",
       "      <td>2024</td>\n",
       "      <td>2</td>\n",
       "      <td>5</td>\n",
       "    </tr>\n",
       "    <tr>\n",
       "      <th>...</th>\n",
       "      <td>...</td>\n",
       "      <td>...</td>\n",
       "      <td>...</td>\n",
       "      <td>...</td>\n",
       "    </tr>\n",
       "    <tr>\n",
       "      <th>1382</th>\n",
       "      <td>The Yankee Doodle Mouse</td>\n",
       "      <td>1943</td>\n",
       "      <td>1</td>\n",
       "      <td>1</td>\n",
       "    </tr>\n",
       "    <tr>\n",
       "      <th>1383</th>\n",
       "      <td>The Yearling</td>\n",
       "      <td>1946</td>\n",
       "      <td>2</td>\n",
       "      <td>7</td>\n",
       "    </tr>\n",
       "    <tr>\n",
       "      <th>1384</th>\n",
       "      <td>Yesterday, Today and Tomorrow (Ieri, oggi, dom...</td>\n",
       "      <td>1964</td>\n",
       "      <td>1</td>\n",
       "      <td>1</td>\n",
       "    </tr>\n",
       "    <tr>\n",
       "      <th>1385</th>\n",
       "      <td>You Can't Take It with You</td>\n",
       "      <td>1938</td>\n",
       "      <td>2</td>\n",
       "      <td>7</td>\n",
       "    </tr>\n",
       "    <tr>\n",
       "      <th>1386</th>\n",
       "      <td>Zorba the Greek (Alexis Zorbas)</td>\n",
       "      <td>1964</td>\n",
       "      <td>3</td>\n",
       "      <td>7</td>\n",
       "    </tr>\n",
       "  </tbody>\n",
       "</table>\n",
       "<p>1387 rows × 4 columns</p>\n",
       "</div>"
      ],
      "text/plain": [
       "                                                   Film  Year Awards  \\\n",
       "0                                                 Anora  2024      5   \n",
       "1                                         The Brutalist  2024      3   \n",
       "2                                          Emilia Pérez  2024      2   \n",
       "3                                                Wicked  2024      2   \n",
       "4                                        Dune: Part Two  2024      2   \n",
       "...                                                 ...   ...    ...   \n",
       "1382                            The Yankee Doodle Mouse  1943      1   \n",
       "1383                                       The Yearling  1946      2   \n",
       "1384  Yesterday, Today and Tomorrow (Ieri, oggi, dom...  1964      1   \n",
       "1385                         You Can't Take It with You  1938      2   \n",
       "1386                    Zorba the Greek (Alexis Zorbas)  1964      3   \n",
       "\n",
       "     Nominations  \n",
       "0              6  \n",
       "1             10  \n",
       "2             13  \n",
       "3             10  \n",
       "4              5  \n",
       "...          ...  \n",
       "1382           1  \n",
       "1383           7  \n",
       "1384           1  \n",
       "1385           7  \n",
       "1386           7  \n",
       "\n",
       "[1387 rows x 4 columns]"
      ]
     },
     "execution_count": 96,
     "metadata": {},
     "output_type": "execute_result"
    }
   ],
   "source": [
    "# Here is some helper code\n",
    "# This is code that will read in the data and then fix the Year column\n",
    "\n",
    "#####\n",
    "'''\n",
    "NOTE: Many websites try to stop you from scraping even simple tables. \n",
    "    In just one year wikipedia made big changes... so I changed the code here.\n",
    "    We can talk more about this code in class.\n",
    "'''\n",
    "import requests\n",
    "headers = {\n",
    "    'User-Agent': 'Mozilla/5.0 (Windows NT 10.0; Win64; x64) AppleWebKit/537.36 (KHTML, like Gecko) Chrome/91.0.4472.124 Safari/537.36'\n",
    "}\n",
    "my_website = \"https://en.wikipedia.org/wiki/List_of_Academy_Award%E2%80%93winning_films\"\n",
    "response = requests.get(my_website, headers=headers)\n",
    "#####\n",
    "\n",
    "# Normal pandas code\n",
    "DF = pd.read_html(response.content)\n",
    "DF_raw = DF[0]\n",
    "DF_raw['Year'] = DF_raw['Year'].apply(lambda x: int(x.split('/')[0]))\n",
    "DF_raw"
   ]
  },
  {
   "cell_type": "markdown",
   "id": "4c70b364-4c59-4631-87a4-552d7abaac2a",
   "metadata": {},
   "source": [
    "**Q4** Following along with the lecture notes or video, fix the data in the 'Awards' column."
   ]
  },
  {
   "cell_type": "code",
   "execution_count": 106,
   "id": "e51c0742-d796-4f63-a3e9-c98cdec76247",
   "metadata": {},
   "outputs": [
    {
     "data": {
      "text/html": [
       "<div>\n",
       "<style scoped>\n",
       "    .dataframe tbody tr th:only-of-type {\n",
       "        vertical-align: middle;\n",
       "    }\n",
       "\n",
       "    .dataframe tbody tr th {\n",
       "        vertical-align: top;\n",
       "    }\n",
       "\n",
       "    .dataframe thead th {\n",
       "        text-align: right;\n",
       "    }\n",
       "</style>\n",
       "<table border=\"1\" class=\"dataframe\">\n",
       "  <thead>\n",
       "    <tr style=\"text-align: right;\">\n",
       "      <th></th>\n",
       "      <th>Awards</th>\n",
       "      <th>count</th>\n",
       "    </tr>\n",
       "  </thead>\n",
       "  <tbody>\n",
       "    <tr>\n",
       "      <th>0</th>\n",
       "      <td>1</td>\n",
       "      <td>988</td>\n",
       "    </tr>\n",
       "    <tr>\n",
       "      <th>1</th>\n",
       "      <td>2</td>\n",
       "      <td>159</td>\n",
       "    </tr>\n",
       "    <tr>\n",
       "      <th>2</th>\n",
       "      <td>3</td>\n",
       "      <td>78</td>\n",
       "    </tr>\n",
       "    <tr>\n",
       "      <th>3</th>\n",
       "      <td>4</td>\n",
       "      <td>47</td>\n",
       "    </tr>\n",
       "    <tr>\n",
       "      <th>4</th>\n",
       "      <td>0 (1)</td>\n",
       "      <td>32</td>\n",
       "    </tr>\n",
       "    <tr>\n",
       "      <th>5</th>\n",
       "      <td>5</td>\n",
       "      <td>26</td>\n",
       "    </tr>\n",
       "    <tr>\n",
       "      <th>6</th>\n",
       "      <td>6</td>\n",
       "      <td>12</td>\n",
       "    </tr>\n",
       "    <tr>\n",
       "      <th>7</th>\n",
       "      <td>7</td>\n",
       "      <td>12</td>\n",
       "    </tr>\n",
       "    <tr>\n",
       "      <th>8</th>\n",
       "      <td>1 (1)</td>\n",
       "      <td>8</td>\n",
       "    </tr>\n",
       "    <tr>\n",
       "      <th>9</th>\n",
       "      <td>8</td>\n",
       "      <td>7</td>\n",
       "    </tr>\n",
       "    <tr>\n",
       "      <th>10</th>\n",
       "      <td>11</td>\n",
       "      <td>3</td>\n",
       "    </tr>\n",
       "    <tr>\n",
       "      <th>11</th>\n",
       "      <td>9</td>\n",
       "      <td>3</td>\n",
       "    </tr>\n",
       "    <tr>\n",
       "      <th>12</th>\n",
       "      <td>0 (2)</td>\n",
       "      <td>3</td>\n",
       "    </tr>\n",
       "    <tr>\n",
       "      <th>13</th>\n",
       "      <td>0 (1)[1]</td>\n",
       "      <td>1</td>\n",
       "    </tr>\n",
       "    <tr>\n",
       "      <th>14</th>\n",
       "      <td>3 (1)</td>\n",
       "      <td>1</td>\n",
       "    </tr>\n",
       "    <tr>\n",
       "      <th>15</th>\n",
       "      <td>4 (1)</td>\n",
       "      <td>1</td>\n",
       "    </tr>\n",
       "    <tr>\n",
       "      <th>16</th>\n",
       "      <td>6 (1)</td>\n",
       "      <td>1</td>\n",
       "    </tr>\n",
       "    <tr>\n",
       "      <th>17</th>\n",
       "      <td>5 (1)</td>\n",
       "      <td>1</td>\n",
       "    </tr>\n",
       "    <tr>\n",
       "      <th>18</th>\n",
       "      <td>7 (1)</td>\n",
       "      <td>1</td>\n",
       "    </tr>\n",
       "    <tr>\n",
       "      <th>19</th>\n",
       "      <td>8 (2)</td>\n",
       "      <td>1</td>\n",
       "    </tr>\n",
       "    <tr>\n",
       "      <th>20</th>\n",
       "      <td>2 (1)</td>\n",
       "      <td>1</td>\n",
       "    </tr>\n",
       "    <tr>\n",
       "      <th>21</th>\n",
       "      <td>10</td>\n",
       "      <td>1</td>\n",
       "    </tr>\n",
       "  </tbody>\n",
       "</table>\n",
       "</div>"
      ],
      "text/plain": [
       "      Awards  count\n",
       "0          1    988\n",
       "1          2    159\n",
       "2          3     78\n",
       "3          4     47\n",
       "4      0 (1)     32\n",
       "5          5     26\n",
       "6          6     12\n",
       "7          7     12\n",
       "8      1 (1)      8\n",
       "9          8      7\n",
       "10        11      3\n",
       "11         9      3\n",
       "12     0 (2)      3\n",
       "13  0 (1)[1]      1\n",
       "14     3 (1)      1\n",
       "15     4 (1)      1\n",
       "16     6 (1)      1\n",
       "17     5 (1)      1\n",
       "18     7 (1)      1\n",
       "19     8 (2)      1\n",
       "20     2 (1)      1\n",
       "21        10      1"
      ]
     },
     "execution_count": 106,
     "metadata": {},
     "output_type": "execute_result"
    }
   ],
   "source": [
    "# Your code here\n",
    "award_data = DF_raw['Awards'].value_counts()\n",
    "DF_award = award_data.reset_index().rename(columns={\"index\": \"value\", 0: \"count\"})\n",
    "DF_award"
   ]
  },
  {
   "cell_type": "markdown",
   "id": "ada5ce86-e820-481b-a8c8-ab5f063b0ad5",
   "metadata": {},
   "source": [
    "**Q5** Now try to fix the data in the \"Nominations\" column - see if you can do it without looking at the answer."
   ]
  },
  {
   "cell_type": "code",
   "execution_count": 123,
   "id": "57571cc2-dbca-4354-b0db-676b03005f3c",
   "metadata": {},
   "outputs": [
    {
     "data": {
      "text/html": [
       "<div>\n",
       "<style scoped>\n",
       "    .dataframe tbody tr th:only-of-type {\n",
       "        vertical-align: middle;\n",
       "    }\n",
       "\n",
       "    .dataframe tbody tr th {\n",
       "        vertical-align: top;\n",
       "    }\n",
       "\n",
       "    .dataframe thead th {\n",
       "        text-align: right;\n",
       "    }\n",
       "</style>\n",
       "<table border=\"1\" class=\"dataframe\">\n",
       "  <thead>\n",
       "    <tr style=\"text-align: right;\">\n",
       "      <th></th>\n",
       "      <th>Nominations</th>\n",
       "      <th>count</th>\n",
       "    </tr>\n",
       "  </thead>\n",
       "  <tbody>\n",
       "    <tr>\n",
       "      <th>0</th>\n",
       "      <td>1</td>\n",
       "      <td>557</td>\n",
       "    </tr>\n",
       "    <tr>\n",
       "      <th>1</th>\n",
       "      <td>2</td>\n",
       "      <td>143</td>\n",
       "    </tr>\n",
       "    <tr>\n",
       "      <th>2</th>\n",
       "      <td>4</td>\n",
       "      <td>115</td>\n",
       "    </tr>\n",
       "    <tr>\n",
       "      <th>3</th>\n",
       "      <td>5</td>\n",
       "      <td>106</td>\n",
       "    </tr>\n",
       "    <tr>\n",
       "      <th>4</th>\n",
       "      <td>3</td>\n",
       "      <td>105</td>\n",
       "    </tr>\n",
       "    <tr>\n",
       "      <th>5</th>\n",
       "      <td>6</td>\n",
       "      <td>81</td>\n",
       "    </tr>\n",
       "    <tr>\n",
       "      <th>6</th>\n",
       "      <td>7</td>\n",
       "      <td>75</td>\n",
       "    </tr>\n",
       "    <tr>\n",
       "      <th>7</th>\n",
       "      <td>8</td>\n",
       "      <td>62</td>\n",
       "    </tr>\n",
       "    <tr>\n",
       "      <th>8</th>\n",
       "      <td>10</td>\n",
       "      <td>42</td>\n",
       "    </tr>\n",
       "    <tr>\n",
       "      <th>9</th>\n",
       "      <td>9</td>\n",
       "      <td>31</td>\n",
       "    </tr>\n",
       "    <tr>\n",
       "      <th>10</th>\n",
       "      <td>11</td>\n",
       "      <td>24</td>\n",
       "    </tr>\n",
       "    <tr>\n",
       "      <th>11</th>\n",
       "      <td>12</td>\n",
       "      <td>17</td>\n",
       "    </tr>\n",
       "    <tr>\n",
       "      <th>12</th>\n",
       "      <td>0</td>\n",
       "      <td>14</td>\n",
       "    </tr>\n",
       "    <tr>\n",
       "      <th>13</th>\n",
       "      <td>13</td>\n",
       "      <td>12</td>\n",
       "    </tr>\n",
       "    <tr>\n",
       "      <th>14</th>\n",
       "      <td>14</td>\n",
       "      <td>3</td>\n",
       "    </tr>\n",
       "  </tbody>\n",
       "</table>\n",
       "</div>"
      ],
      "text/plain": [
       "    Nominations  count\n",
       "0             1    557\n",
       "1             2    143\n",
       "2             4    115\n",
       "3             5    106\n",
       "4             3    105\n",
       "5             6     81\n",
       "6             7     75\n",
       "7             8     62\n",
       "8            10     42\n",
       "9             9     31\n",
       "10           11     24\n",
       "11           12     17\n",
       "12            0     14\n",
       "13           13     12\n",
       "14           14      3"
      ]
     },
     "execution_count": 123,
     "metadata": {},
     "output_type": "execute_result"
    }
   ],
   "source": [
    "# Your code here\n",
    "\n",
    "award_data = DF_raw['Awards'].value_counts()\n",
    "DF_award = award_data.reset_index().rename(columns={\"index\": \"value\", 0: \"count\"})\n",
    "DF_award\n",
    "\n",
    "nominations_data = DF_raw['Nominations'].value_counts()\n",
    "DF_nom = nom_data.reset_index().rename(columns={\"index\": \"value\", 0: \"count\"})\n",
    "DF_nom"
   ]
  },
  {
   "cell_type": "markdown",
   "id": "8f1c8227-7b3e-4067-9b49-bd9c58752402",
   "metadata": {},
   "source": [
    "## Problem 1\n",
    "\n",
    "Your homework today will be to see if you can find some data of your own. This can be the first steps you take toward your final project. \n",
    "\n",
    "You should:\n",
    "\n",
    "* Find some data online\n",
    "* Read that data into Python using the Pandas commands we learned\n",
    "* Look at the DataFrame - number of variables, number of observations, AND the dtypes. Comment on what you see.\n",
    "* Try to do summary statistics (.describe()). Does it work like expected?\n",
    "* Attempt to fix any data, or explain why the data does not need to be fixed.\n",
    "* Make some sort of graph using columns in your data."
   ]
  },
  {
   "cell_type": "code",
   "execution_count": 36,
   "id": "c132974c-19b6-4b40-85e5-4892b245fbee",
   "metadata": {},
   "outputs": [
    {
     "data": {
      "text/html": [
       "<div>\n",
       "<style scoped>\n",
       "    .dataframe tbody tr th:only-of-type {\n",
       "        vertical-align: middle;\n",
       "    }\n",
       "\n",
       "    .dataframe tbody tr th {\n",
       "        vertical-align: top;\n",
       "    }\n",
       "\n",
       "    .dataframe thead th {\n",
       "        text-align: right;\n",
       "    }\n",
       "</style>\n",
       "<table border=\"1\" class=\"dataframe\">\n",
       "  <thead>\n",
       "    <tr style=\"text-align: right;\">\n",
       "      <th></th>\n",
       "      <th>movie_title</th>\n",
       "      <th>release_date</th>\n",
       "      <th>genre</th>\n",
       "      <th>mpaa_rating</th>\n",
       "      <th>total_gross</th>\n",
       "      <th>inflation_adjusted_gross</th>\n",
       "    </tr>\n",
       "  </thead>\n",
       "  <tbody>\n",
       "    <tr>\n",
       "      <th>0</th>\n",
       "      <td>Snow White and the Seven Dwarfs</td>\n",
       "      <td>1937-12-21</td>\n",
       "      <td>Musical</td>\n",
       "      <td>G</td>\n",
       "      <td>184925485</td>\n",
       "      <td>5228953251</td>\n",
       "    </tr>\n",
       "    <tr>\n",
       "      <th>1</th>\n",
       "      <td>Pinocchio</td>\n",
       "      <td>1940-02-09</td>\n",
       "      <td>Adventure</td>\n",
       "      <td>G</td>\n",
       "      <td>84300000</td>\n",
       "      <td>2188229052</td>\n",
       "    </tr>\n",
       "    <tr>\n",
       "      <th>2</th>\n",
       "      <td>Fantasia</td>\n",
       "      <td>1940-11-13</td>\n",
       "      <td>Musical</td>\n",
       "      <td>G</td>\n",
       "      <td>83320000</td>\n",
       "      <td>2187090808</td>\n",
       "    </tr>\n",
       "    <tr>\n",
       "      <th>3</th>\n",
       "      <td>Song of the South</td>\n",
       "      <td>1946-11-12</td>\n",
       "      <td>Adventure</td>\n",
       "      <td>G</td>\n",
       "      <td>65000000</td>\n",
       "      <td>1078510579</td>\n",
       "    </tr>\n",
       "    <tr>\n",
       "      <th>4</th>\n",
       "      <td>Cinderella</td>\n",
       "      <td>1950-02-15</td>\n",
       "      <td>Drama</td>\n",
       "      <td>G</td>\n",
       "      <td>85000000</td>\n",
       "      <td>920608730</td>\n",
       "    </tr>\n",
       "    <tr>\n",
       "      <th>...</th>\n",
       "      <td>...</td>\n",
       "      <td>...</td>\n",
       "      <td>...</td>\n",
       "      <td>...</td>\n",
       "      <td>...</td>\n",
       "      <td>...</td>\n",
       "    </tr>\n",
       "    <tr>\n",
       "      <th>574</th>\n",
       "      <td>The Light Between Oceans</td>\n",
       "      <td>2016-09-02</td>\n",
       "      <td>Drama</td>\n",
       "      <td>PG-13</td>\n",
       "      <td>12545979</td>\n",
       "      <td>12545979</td>\n",
       "    </tr>\n",
       "    <tr>\n",
       "      <th>575</th>\n",
       "      <td>Queen of Katwe</td>\n",
       "      <td>2016-09-23</td>\n",
       "      <td>Drama</td>\n",
       "      <td>PG</td>\n",
       "      <td>8874389</td>\n",
       "      <td>8874389</td>\n",
       "    </tr>\n",
       "    <tr>\n",
       "      <th>576</th>\n",
       "      <td>Doctor Strange</td>\n",
       "      <td>2016-11-04</td>\n",
       "      <td>Adventure</td>\n",
       "      <td>PG-13</td>\n",
       "      <td>232532923</td>\n",
       "      <td>232532923</td>\n",
       "    </tr>\n",
       "    <tr>\n",
       "      <th>577</th>\n",
       "      <td>Moana</td>\n",
       "      <td>2016-11-23</td>\n",
       "      <td>Adventure</td>\n",
       "      <td>PG</td>\n",
       "      <td>246082029</td>\n",
       "      <td>246082029</td>\n",
       "    </tr>\n",
       "    <tr>\n",
       "      <th>578</th>\n",
       "      <td>Rogue One: A Star Wars Story</td>\n",
       "      <td>2016-12-16</td>\n",
       "      <td>Adventure</td>\n",
       "      <td>PG-13</td>\n",
       "      <td>529483936</td>\n",
       "      <td>529483936</td>\n",
       "    </tr>\n",
       "  </tbody>\n",
       "</table>\n",
       "<p>579 rows × 6 columns</p>\n",
       "</div>"
      ],
      "text/plain": [
       "                         movie_title release_date      genre mpaa_rating  \\\n",
       "0    Snow White and the Seven Dwarfs   1937-12-21    Musical           G   \n",
       "1                          Pinocchio   1940-02-09  Adventure           G   \n",
       "2                           Fantasia   1940-11-13    Musical           G   \n",
       "3                  Song of the South   1946-11-12  Adventure           G   \n",
       "4                         Cinderella   1950-02-15      Drama           G   \n",
       "..                               ...          ...        ...         ...   \n",
       "574         The Light Between Oceans   2016-09-02      Drama       PG-13   \n",
       "575                   Queen of Katwe   2016-09-23      Drama          PG   \n",
       "576                   Doctor Strange   2016-11-04  Adventure       PG-13   \n",
       "577                            Moana   2016-11-23  Adventure          PG   \n",
       "578     Rogue One: A Star Wars Story   2016-12-16  Adventure       PG-13   \n",
       "\n",
       "     total_gross  inflation_adjusted_gross  \n",
       "0      184925485                5228953251  \n",
       "1       84300000                2188229052  \n",
       "2       83320000                2187090808  \n",
       "3       65000000                1078510579  \n",
       "4       85000000                 920608730  \n",
       "..           ...                       ...  \n",
       "574     12545979                  12545979  \n",
       "575      8874389                   8874389  \n",
       "576    232532923                 232532923  \n",
       "577    246082029                 246082029  \n",
       "578    529483936                 529483936  \n",
       "\n",
       "[579 rows x 6 columns]"
      ]
     },
     "execution_count": 36,
     "metadata": {},
     "output_type": "execute_result"
    }
   ],
   "source": [
    "DF_raw= pd.read_csv('disney_movies.csv')\n",
    "DF_raw"
   ]
  },
  {
   "cell_type": "code",
   "execution_count": 26,
   "id": "578ad570-5dfa-46a0-86c8-f4610bacaf36",
   "metadata": {},
   "outputs": [
    {
     "data": {
      "text/plain": [
       "(579, 6)"
      ]
     },
     "execution_count": 26,
     "metadata": {},
     "output_type": "execute_result"
    }
   ],
   "source": [
    "DF_raw.shape"
   ]
  },
  {
   "cell_type": "code",
   "execution_count": 27,
   "id": "a07e8f68-6aef-4bba-9a14-d61fc0b1b737",
   "metadata": {},
   "outputs": [
    {
     "data": {
      "text/plain": [
       "movie_title                 object\n",
       "release_date                object\n",
       "genre                       object\n",
       "mpaa_rating                 object\n",
       "total_gross                  int64\n",
       "inflation_adjusted_gross     int64\n",
       "dtype: object"
      ]
     },
     "execution_count": 27,
     "metadata": {},
     "output_type": "execute_result"
    }
   ],
   "source": [
    "DF_raw.dtypes"
   ]
  },
  {
   "cell_type": "markdown",
   "id": "feb252b3-4eaf-422d-aa86-15319d0b22a2",
   "metadata": {},
   "source": [
    "MY COMMENT: this data set is on different disney movies. it has 6 variables and 579 observations. The types of varaibles are move titles, their release dates, the genre they fall under, the mpa rating, total gross and inflation adjusted gross."
   ]
  },
  {
   "cell_type": "code",
   "execution_count": 28,
   "id": "55623f05-393f-46c4-bb4e-f4241c963a36",
   "metadata": {},
   "outputs": [
    {
     "data": {
      "text/html": [
       "<div>\n",
       "<style scoped>\n",
       "    .dataframe tbody tr th:only-of-type {\n",
       "        vertical-align: middle;\n",
       "    }\n",
       "\n",
       "    .dataframe tbody tr th {\n",
       "        vertical-align: top;\n",
       "    }\n",
       "\n",
       "    .dataframe thead th {\n",
       "        text-align: right;\n",
       "    }\n",
       "</style>\n",
       "<table border=\"1\" class=\"dataframe\">\n",
       "  <thead>\n",
       "    <tr style=\"text-align: right;\">\n",
       "      <th></th>\n",
       "      <th>total_gross</th>\n",
       "      <th>inflation_adjusted_gross</th>\n",
       "    </tr>\n",
       "  </thead>\n",
       "  <tbody>\n",
       "    <tr>\n",
       "      <th>count</th>\n",
       "      <td>5.790000e+02</td>\n",
       "      <td>5.790000e+02</td>\n",
       "    </tr>\n",
       "    <tr>\n",
       "      <th>mean</th>\n",
       "      <td>6.470179e+07</td>\n",
       "      <td>1.187625e+08</td>\n",
       "    </tr>\n",
       "    <tr>\n",
       "      <th>std</th>\n",
       "      <td>9.301301e+07</td>\n",
       "      <td>2.860853e+08</td>\n",
       "    </tr>\n",
       "    <tr>\n",
       "      <th>min</th>\n",
       "      <td>0.000000e+00</td>\n",
       "      <td>0.000000e+00</td>\n",
       "    </tr>\n",
       "    <tr>\n",
       "      <th>25%</th>\n",
       "      <td>1.278886e+07</td>\n",
       "      <td>2.274123e+07</td>\n",
       "    </tr>\n",
       "    <tr>\n",
       "      <th>50%</th>\n",
       "      <td>3.070245e+07</td>\n",
       "      <td>5.515978e+07</td>\n",
       "    </tr>\n",
       "    <tr>\n",
       "      <th>75%</th>\n",
       "      <td>7.570903e+07</td>\n",
       "      <td>1.192020e+08</td>\n",
       "    </tr>\n",
       "    <tr>\n",
       "      <th>max</th>\n",
       "      <td>9.366622e+08</td>\n",
       "      <td>5.228953e+09</td>\n",
       "    </tr>\n",
       "  </tbody>\n",
       "</table>\n",
       "</div>"
      ],
      "text/plain": [
       "        total_gross  inflation_adjusted_gross\n",
       "count  5.790000e+02              5.790000e+02\n",
       "mean   6.470179e+07              1.187625e+08\n",
       "std    9.301301e+07              2.860853e+08\n",
       "min    0.000000e+00              0.000000e+00\n",
       "25%    1.278886e+07              2.274123e+07\n",
       "50%    3.070245e+07              5.515978e+07\n",
       "75%    7.570903e+07              1.192020e+08\n",
       "max    9.366622e+08              5.228953e+09"
      ]
     },
     "execution_count": 28,
     "metadata": {},
     "output_type": "execute_result"
    }
   ],
   "source": [
    "DF_raw.describe()"
   ]
  },
  {
   "cell_type": "markdown",
   "id": "5af02884-221f-42ba-8b0f-5e5aef5ad6fb",
   "metadata": {},
   "source": [
    "MY COMMENT on .describe(): This is working as usual, it's giving me my numerical data in a type of box plot on a table giving me the mean, maximum, 25th percentile, 75th percentile."
   ]
  },
  {
   "cell_type": "code",
   "execution_count": 39,
   "id": "a659ea29-5cee-4c71-b969-bdb766492a89",
   "metadata": {},
   "outputs": [
    {
     "data": {
      "application/vnd.plotly.v1+json": {
       "config": {
        "plotlyServerURL": "https://plot.ly"
       },
       "data": [
        {
         "customdata": [
          [
           "1937-12-21"
          ]
         ],
         "hovertemplate": "movie_title=Snow White and the Seven Dwarfs<br>total_gross=%{x}<br>genre=%{y}<br>release_date=%{customdata[0]}<extra></extra>",
         "legendgroup": "Snow White and the Seven Dwarfs",
         "marker": {
          "color": "#636efa",
          "symbol": "circle"
         },
         "mode": "markers",
         "name": "Snow White and the Seven Dwarfs",
         "orientation": "h",
         "showlegend": true,
         "type": "scatter",
         "x": {
          "bdata": "Lb0FCw==",
          "dtype": "i4"
         },
         "xaxis": "x",
         "y": [
          "Musical"
         ],
         "yaxis": "y"
        },
        {
         "customdata": [
          [
           "1940-02-09"
          ]
         ],
         "hovertemplate": "movie_title=Pinocchio<br>total_gross=%{x}<br>genre=%{y}<br>release_date=%{customdata[0]}<extra></extra>",
         "legendgroup": "Pinocchio",
         "marker": {
          "color": "#EF553B",
          "symbol": "circle"
         },
         "mode": "markers",
         "name": "Pinocchio",
         "orientation": "h",
         "showlegend": true,
         "type": "scatter",
         "x": {
          "bdata": "4FAGBQ==",
          "dtype": "i4"
         },
         "xaxis": "x",
         "y": [
          "Adventure"
         ],
         "yaxis": "y"
        },
        {
         "customdata": [
          [
           "1940-11-13"
          ]
         ],
         "hovertemplate": "movie_title=Fantasia<br>total_gross=%{x}<br>genre=%{y}<br>release_date=%{customdata[0]}<extra></extra>",
         "legendgroup": "Fantasia",
         "marker": {
          "color": "#00cc96",
          "symbol": "circle"
         },
         "mode": "markers",
         "name": "Fantasia",
         "orientation": "h",
         "showlegend": true,
         "type": "scatter",
         "x": {
          "bdata": "wFz3BA==",
          "dtype": "i4"
         },
         "xaxis": "x",
         "y": [
          "Musical"
         ],
         "yaxis": "y"
        },
        {
         "customdata": [
          [
           "1946-11-12"
          ]
         ],
         "hovertemplate": "movie_title=Song of the South<br>total_gross=%{x}<br>genre=%{y}<br>release_date=%{customdata[0]}<extra></extra>",
         "legendgroup": "Song of the South",
         "marker": {
          "color": "#ab63fa",
          "symbol": "circle"
         },
         "mode": "markers",
         "name": "Song of the South",
         "orientation": "h",
         "showlegend": true,
         "type": "scatter",
         "x": {
          "bdata": "QNLfAw==",
          "dtype": "i4"
         },
         "xaxis": "x",
         "y": [
          "Adventure"
         ],
         "yaxis": "y"
        },
        {
         "customdata": [
          [
           "1950-02-15"
          ],
          [
           "2015-03-13"
          ]
         ],
         "hovertemplate": "movie_title=Cinderella<br>total_gross=%{x}<br>genre=%{y}<br>release_date=%{customdata[0]}<extra></extra>",
         "legendgroup": "Cinderella",
         "marker": {
          "color": "#FFA15A",
          "symbol": "circle"
         },
         "mode": "markers",
         "name": "Cinderella",
         "orientation": "h",
         "showlegend": true,
         "type": "scatter",
         "x": {
          "bdata": "QP8QBXlT/Qs=",
          "dtype": "i4"
         },
         "xaxis": "x",
         "y": [
          "Drama",
          "Drama"
         ],
         "yaxis": "y"
        },
        {
         "customdata": [
          [
           "1954-12-23"
          ]
         ],
         "hovertemplate": "movie_title=20,000 Leagues Under the Sea<br>total_gross=%{x}<br>genre=%{y}<br>release_date=%{customdata[0]}<extra></extra>",
         "legendgroup": "20,000 Leagues Under the Sea",
         "marker": {
          "color": "#19d3f3",
          "symbol": "circle"
         },
         "mode": "markers",
         "name": "20,000 Leagues Under the Sea",
         "orientation": "h",
         "showlegend": true,
         "type": "scatter",
         "x": {
          "bdata": "QEyuAQ==",
          "dtype": "i4"
         },
         "xaxis": "x",
         "y": [
          "Adventure"
         ],
         "yaxis": "y"
        },
        {
         "customdata": [
          [
           "1955-06-22"
          ]
         ],
         "hovertemplate": "movie_title=Lady and the Tramp<br>total_gross=%{x}<br>genre=%{y}<br>release_date=%{customdata[0]}<extra></extra>",
         "legendgroup": "Lady and the Tramp",
         "marker": {
          "color": "#FF6692",
          "symbol": "circle"
         },
         "mode": "markers",
         "name": "Lady and the Tramp",
         "orientation": "h",
         "showlegend": true,
         "type": "scatter",
         "x": {
          "bdata": "ADmUBQ==",
          "dtype": "i4"
         },
         "xaxis": "x",
         "y": [
          "Drama"
         ],
         "yaxis": "y"
        },
        {
         "customdata": [
          [
           "1959-01-29"
          ]
         ],
         "hovertemplate": "movie_title=Sleeping Beauty<br>total_gross=%{x}<br>genre=%{y}<br>release_date=%{customdata[0]}<extra></extra>",
         "legendgroup": "Sleeping Beauty",
         "marker": {
          "color": "#B6E880",
          "symbol": "circle"
         },
         "mode": "markers",
         "name": "Sleeping Beauty",
         "orientation": "h",
         "showlegend": true,
         "type": "scatter",
         "x": {
          "bdata": "IGuQAA==",
          "dtype": "i4"
         },
         "xaxis": "x",
         "y": [
          "Drama"
         ],
         "yaxis": "y"
        },
        {
         "customdata": [
          [
           "1961-01-25"
          ],
          [
           "1996-11-27"
          ]
         ],
         "hovertemplate": "movie_title=101 Dalmatians<br>total_gross=%{x}<br>genre=%{y}<br>release_date=%{customdata[0]}<extra></extra>",
         "legendgroup": "101 Dalmatians",
         "marker": {
          "color": "#FF97FF",
          "symbol": "circle"
         },
         "mode": "markers",
         "name": "101 Dalmatians",
         "orientation": "h",
         "showlegend": true,
         "type": "scatter",
         "x": {
          "bdata": "QJgeCW4VHgg=",
          "dtype": "i4"
         },
         "xaxis": "x",
         "y": [
          "Comedy",
          "Comedy"
         ],
         "yaxis": "y"
        },
        {
         "customdata": [
          [
           "1961-03-16"
          ]
         ],
         "hovertemplate": "movie_title=The Absent Minded Professor<br>total_gross=%{x}<br>genre=%{y}<br>release_date=%{customdata[0]}<extra></extra>",
         "legendgroup": "The Absent Minded Professor",
         "marker": {
          "color": "#FECB52",
          "symbol": "circle"
         },
         "mode": "markers",
         "name": "The Absent Minded Professor",
         "orientation": "h",
         "showlegend": true,
         "type": "scatter",
         "x": {
          "bdata": "H0qDAQ==",
          "dtype": "i4"
         },
         "xaxis": "x",
         "y": [
          "Comedy"
         ],
         "yaxis": "y"
        },
        {
         "customdata": [
          [
           "1961-12-14"
          ]
         ],
         "hovertemplate": "movie_title=Babes in Toyland<br>total_gross=%{x}<br>genre=%{y}<br>release_date=%{customdata[0]}<extra></extra>",
         "legendgroup": "Babes in Toyland",
         "marker": {
          "color": "#636efa",
          "symbol": "circle"
         },
         "mode": "markers",
         "name": "Babes in Toyland",
         "orientation": "h",
         "showlegend": true,
         "type": "scatter",
         "x": {
          "bdata": "TOubAA==",
          "dtype": "i4"
         },
         "xaxis": "x",
         "y": [
          "Musical"
         ],
         "yaxis": "y"
        },
        {
         "customdata": [
          [
           "1962-05-17"
          ]
         ],
         "hovertemplate": "movie_title=Bon Voyage!<br>total_gross=%{x}<br>genre=%{y}<br>release_date=%{customdata[0]}<extra></extra>",
         "legendgroup": "Bon Voyage!",
         "marker": {
          "color": "#EF553B",
          "symbol": "circle"
         },
         "mode": "markers",
         "name": "Bon Voyage!",
         "orientation": "h",
         "showlegend": true,
         "type": "scatter",
         "x": {
          "bdata": "sdmMAA==",
          "dtype": "i4"
         },
         "xaxis": "x",
         "y": [
          "Comedy"
         ],
         "yaxis": "y"
        },
        {
         "customdata": [
          [
           "1963-12-25"
          ]
         ],
         "hovertemplate": "movie_title=The Sword in the Stone<br>total_gross=%{x}<br>genre=%{y}<br>release_date=%{customdata[0]}<extra></extra>",
         "legendgroup": "The Sword in the Stone",
         "marker": {
          "color": "#00cc96",
          "symbol": "circle"
         },
         "mode": "markers",
         "name": "The Sword in the Stone",
         "orientation": "h",
         "showlegend": true,
         "type": "scatter",
         "x": {
          "bdata": "0XlSAQ==",
          "dtype": "i4"
         },
         "xaxis": "x",
         "y": [
          "Adventure"
         ],
         "yaxis": "y"
        },
        {
         "customdata": [
          [
           "1967-10-18"
          ],
          [
           "1994-12-25"
          ],
          [
           "2016-04-15"
          ]
         ],
         "hovertemplate": "movie_title=The Jungle Book<br>total_gross=%{x}<br>genre=%{y}<br>release_date=%{customdata[0]}<extra></extra>",
         "legendgroup": "The Jungle Book",
         "marker": {
          "color": "#ab63fa",
          "symbol": "circle"
         },
         "mode": "markers",
         "name": "The Jungle Book",
         "orientation": "h",
         "showlegend": true,
         "type": "scatter",
         "x": {
          "bdata": "OFp0CKyepAJjN7IV",
          "dtype": "i4"
         },
         "xaxis": "x",
         "y": [
          "Musical",
          "Adventure",
          "Adventure"
         ],
         "yaxis": "y"
        },
        {
         "customdata": [
          [
           "1968-02-08"
          ]
         ],
         "hovertemplate": "movie_title=Blackbeard's Ghost<br>total_gross=%{x}<br>genre=%{y}<br>release_date=%{customdata[0]}<extra></extra>",
         "legendgroup": "Blackbeard's Ghost",
         "marker": {
          "color": "#FFA15A",
          "symbol": "circle"
         },
         "mode": "markers",
         "name": "Blackbeard's Ghost",
         "orientation": "h",
         "showlegend": true,
         "type": "scatter",
         "x": {
          "bdata": "0qxIAQ==",
          "dtype": "i4"
         },
         "xaxis": "x",
         "y": [
          "Comedy"
         ],
         "yaxis": "y"
        },
        {
         "customdata": [
          [
           "1970-04-24"
          ]
         ],
         "hovertemplate": "movie_title=The Aristocats<br>total_gross=%{x}<br>genre=%{y}<br>release_date=%{customdata[0]}<extra></extra>",
         "legendgroup": "The Aristocats",
         "marker": {
          "color": "#19d3f3",
          "symbol": "circle"
         },
         "mode": "markers",
         "name": "The Aristocats",
         "orientation": "h",
         "showlegend": true,
         "type": "scatter",
         "x": {
          "bdata": "eYlRAw==",
          "dtype": "i4"
         },
         "xaxis": "x",
         "y": [
          "Musical"
         ],
         "yaxis": "y"
        },
        {
         "customdata": [
          [
           "1970-07-01"
          ]
         ],
         "hovertemplate": "movie_title=The Boatniks<br>total_gross=%{x}<br>genre=%{y}<br>release_date=%{customdata[0]}<extra></extra>",
         "legendgroup": "The Boatniks",
         "marker": {
          "color": "#FF6692",
          "symbol": "circle"
         },
         "mode": "markers",
         "name": "The Boatniks",
         "orientation": "h",
         "showlegend": true,
         "type": "scatter",
         "x": {
          "bdata": "hO0bAQ==",
          "dtype": "i4"
         },
         "xaxis": "x",
         "y": [
          "Comedy"
         ],
         "yaxis": "y"
        },
        {
         "customdata": [
          [
           "1971-10-07"
          ]
         ],
         "hovertemplate": "movie_title=Bedknobs and Broomsticks<br>total_gross=%{x}<br>genre=%{y}<br>release_date=%{customdata[0]}<extra></extra>",
         "legendgroup": "Bedknobs and Broomsticks",
         "marker": {
          "color": "#B6E880",
          "symbol": "circle"
         },
         "mode": "markers",
         "name": "Bedknobs and Broomsticks",
         "orientation": "h",
         "showlegend": true,
         "type": "scatter",
         "x": {
          "bdata": "RrEQAQ==",
          "dtype": "i4"
         },
         "xaxis": "x",
         "y": [
          "Musical"
         ],
         "yaxis": "y"
        },
        {
         "customdata": [
          [
           "1975-07-01"
          ]
         ],
         "hovertemplate": "movie_title=The Apple Dumpling Gang<br>total_gross=%{x}<br>genre=%{y}<br>release_date=%{customdata[0]}<extra></extra>",
         "legendgroup": "The Apple Dumpling Gang",
         "marker": {
          "color": "#FF97FF",
          "symbol": "circle"
         },
         "mode": "markers",
         "name": "The Apple Dumpling Gang",
         "orientation": "h",
         "showlegend": true,
         "type": "scatter",
         "x": {
          "bdata": "1AHnAQ==",
          "dtype": "i4"
         },
         "xaxis": "x",
         "y": [
          "Comedy"
         ],
         "yaxis": "y"
        },
        {
         "customdata": [
          [
           "1977-01-21"
          ],
          [
           "2003-08-06"
          ]
         ],
         "hovertemplate": "movie_title=Freaky Friday<br>total_gross=%{x}<br>genre=%{y}<br>release_date=%{customdata[0]}<extra></extra>",
         "legendgroup": "Freaky Friday",
         "marker": {
          "color": "#FECB52",
          "symbol": "circle"
         },
         "mode": "markers",
         "name": "Freaky Friday",
         "orientation": "h",
         "showlegend": true,
         "type": "scatter",
         "x": {
          "bdata": "8NeLAWbckQY=",
          "dtype": "i4"
         },
         "xaxis": "x",
         "y": [
          "Comedy",
          "Comedy"
         ],
         "yaxis": "y"
        },
        {
         "customdata": [
          [
           "1977-03-11"
          ]
         ],
         "hovertemplate": "movie_title=The Many Adventures of Winnie the Pooh<br>total_gross=%{x}<br>genre=%{y}<br>release_date=%{customdata[0]}<extra></extra>",
         "legendgroup": "The Many Adventures of Winnie the Pooh",
         "marker": {
          "color": "#636efa",
          "symbol": "circle"
         },
         "mode": "markers",
         "name": "The Many Adventures of Winnie the Pooh",
         "orientation": "h",
         "showlegend": true,
         "type": "scatter",
         "x": {
          "bdata": "AA==",
          "dtype": "i1"
         },
         "xaxis": "x",
         "y": [
          null
         ],
         "yaxis": "y"
        },
        {
         "customdata": [
          [
           "1977-06-22"
          ]
         ],
         "hovertemplate": "movie_title=The Rescuers<br>total_gross=%{x}<br>genre=%{y}<br>release_date=%{customdata[0]}<extra></extra>",
         "legendgroup": "The Rescuers",
         "marker": {
          "color": "#EF553B",
          "symbol": "circle"
         },
         "mode": "markers",
         "name": "The Rescuers",
         "orientation": "h",
         "showlegend": true,
         "type": "scatter",
         "x": {
          "bdata": "r0HoAg==",
          "dtype": "i4"
         },
         "xaxis": "x",
         "y": [
          "Adventure"
         ],
         "yaxis": "y"
        },
        {
         "customdata": [
          [
           "1977-06-24"
          ]
         ],
         "hovertemplate": "movie_title=Herbie Goes to Monte Carlo<br>total_gross=%{x}<br>genre=%{y}<br>release_date=%{customdata[0]}<extra></extra>",
         "legendgroup": "Herbie Goes to Monte Carlo",
         "marker": {
          "color": "#00cc96",
          "symbol": "circle"
         },
         "mode": "markers",
         "name": "Herbie Goes to Monte Carlo",
         "orientation": "h",
         "showlegend": true,
         "type": "scatter",
         "x": {
          "bdata": "AD+rAQ==",
          "dtype": "i4"
         },
         "xaxis": "x",
         "y": [
          null
         ],
         "yaxis": "y"
        },
        {
         "customdata": [
          [
           "1979-12-21"
          ]
         ],
         "hovertemplate": "movie_title=The Black Hole<br>total_gross=%{x}<br>genre=%{y}<br>release_date=%{customdata[0]}<extra></extra>",
         "legendgroup": "The Black Hole",
         "marker": {
          "color": "#ab63fa",
          "symbol": "circle"
         },
         "mode": "markers",
         "name": "The Black Hole",
         "orientation": "h",
         "showlegend": true,
         "type": "scatter",
         "x": {
          "bdata": "beciAg==",
          "dtype": "i4"
         },
         "xaxis": "x",
         "y": [
          null
         ],
         "yaxis": "y"
        },
        {
         "customdata": [
          [
           "1980-02-08"
          ]
         ],
         "hovertemplate": "movie_title=Midnight Madness<br>total_gross=%{x}<br>genre=%{y}<br>release_date=%{customdata[0]}<extra></extra>",
         "legendgroup": "Midnight Madness",
         "marker": {
          "color": "#FFA15A",
          "symbol": "circle"
         },
         "mode": "markers",
         "name": "Midnight Madness",
         "orientation": "h",
         "showlegend": true,
         "type": "scatter",
         "x": {
          "bdata": "IEAsAA==",
          "dtype": "i4"
         },
         "xaxis": "x",
         "y": [
          null
         ],
         "yaxis": "y"
        },
        {
         "customdata": [
          [
           "1980-06-25"
          ]
         ],
         "hovertemplate": "movie_title=The Last Flight of Noah’s Ark<br>total_gross=%{x}<br>genre=%{y}<br>release_date=%{customdata[0]}<extra></extra>",
         "legendgroup": "The Last Flight of Noah’s Ark",
         "marker": {
          "color": "#19d3f3",
          "symbol": "circle"
         },
         "mode": "markers",
         "name": "The Last Flight of Noah’s Ark",
         "orientation": "h",
         "showlegend": true,
         "type": "scatter",
         "x": {
          "bdata": "wNinAA==",
          "dtype": "i4"
         },
         "xaxis": "x",
         "y": [
          null
         ],
         "yaxis": "y"
        },
        {
         "customdata": [
          [
           "1981-01-01"
          ]
         ],
         "hovertemplate": "movie_title=The Devil and Max Devlin<br>total_gross=%{x}<br>genre=%{y}<br>release_date=%{customdata[0]}<extra></extra>",
         "legendgroup": "The Devil and Max Devlin",
         "marker": {
          "color": "#FF6692",
          "symbol": "circle"
         },
         "mode": "markers",
         "name": "The Devil and Max Devlin",
         "orientation": "h",
         "showlegend": true,
         "type": "scatter",
         "x": {
          "bdata": "ACT0AA==",
          "dtype": "i4"
         },
         "xaxis": "x",
         "y": [
          null
         ],
         "yaxis": "y"
        },
        {
         "customdata": [
          [
           "1981-03-20"
          ]
         ],
         "hovertemplate": "movie_title=Amy<br>total_gross=%{x}<br>genre=%{y}<br>release_date=%{customdata[0]}<extra></extra>",
         "legendgroup": "Amy",
         "marker": {
          "color": "#B6E880",
          "symbol": "circle"
         },
         "mode": "markers",
         "name": "Amy",
         "orientation": "h",
         "showlegend": true,
         "type": "scatter",
         "x": {
          "bdata": "AA==",
          "dtype": "i1"
         },
         "xaxis": "x",
         "y": [
          "Drama"
         ],
         "yaxis": "y"
        },
        {
         "customdata": [
          [
           "1981-07-10"
          ]
         ],
         "hovertemplate": "movie_title=The Fox and the Hound<br>total_gross=%{x}<br>genre=%{y}<br>release_date=%{customdata[0]}<extra></extra>",
         "legendgroup": "The Fox and the Hound",
         "marker": {
          "color": "#FF97FF",
          "symbol": "circle"
         },
         "mode": "markers",
         "name": "The Fox and the Hound",
         "orientation": "h",
         "showlegend": true,
         "type": "scatter",
         "x": {
          "bdata": "X9mdAg==",
          "dtype": "i4"
         },
         "xaxis": "x",
         "y": [
          "Comedy"
         ],
         "yaxis": "y"
        },
        {
         "customdata": [
          [
           "1981-08-07"
          ]
         ],
         "hovertemplate": "movie_title=Condorman<br>total_gross=%{x}<br>genre=%{y}<br>release_date=%{customdata[0]}<extra></extra>",
         "legendgroup": "Condorman",
         "marker": {
          "color": "#FECB52",
          "symbol": "circle"
         },
         "mode": "markers",
         "name": "Condorman",
         "orientation": "h",
         "showlegend": true,
         "type": "scatter",
         "x": {
          "bdata": "AA==",
          "dtype": "i1"
         },
         "xaxis": "x",
         "y": [
          "Action"
         ],
         "yaxis": "y"
        },
        {
         "customdata": [
          [
           "1982-02-05"
          ]
         ],
         "hovertemplate": "movie_title=Night Crossing<br>total_gross=%{x}<br>genre=%{y}<br>release_date=%{customdata[0]}<extra></extra>",
         "legendgroup": "Night Crossing",
         "marker": {
          "color": "#636efa",
          "symbol": "circle"
         },
         "mode": "markers",
         "name": "Night Crossing",
         "orientation": "h",
         "showlegend": true,
         "type": "scatter",
         "x": {
          "bdata": "IKpEAA==",
          "dtype": "i4"
         },
         "xaxis": "x",
         "y": [
          "Drama"
         ],
         "yaxis": "y"
        },
        {
         "customdata": [
          [
           "1982-07-09"
          ]
         ],
         "hovertemplate": "movie_title=Tron<br>total_gross=%{x}<br>genre=%{y}<br>release_date=%{customdata[0]}<extra></extra>",
         "legendgroup": "Tron",
         "marker": {
          "color": "#EF553B",
          "symbol": "circle"
         },
         "mode": "markers",
         "name": "Tron",
         "orientation": "h",
         "showlegend": true,
         "type": "scatter",
         "x": {
          "bdata": "sL6aAQ==",
          "dtype": "i4"
         },
         "xaxis": "x",
         "y": [
          "Action"
         ],
         "yaxis": "y"
        },
        {
         "customdata": [
          [
           "1982-11-19"
          ]
         ],
         "hovertemplate": "movie_title=Tex<br>total_gross=%{x}<br>genre=%{y}<br>release_date=%{customdata[0]}<extra></extra>",
         "legendgroup": "Tex",
         "marker": {
          "color": "#00cc96",
          "symbol": "circle"
         },
         "mode": "markers",
         "name": "Tex",
         "orientation": "h",
         "showlegend": true,
         "type": "scatter",
         "x": {
          "bdata": "sNptAA==",
          "dtype": "i4"
         },
         "xaxis": "x",
         "y": [
          "Drama"
         ],
         "yaxis": "y"
        },
        {
         "customdata": [
          [
           "1983-03-11"
          ]
         ],
         "hovertemplate": "movie_title=Trenchcoat<br>total_gross=%{x}<br>genre=%{y}<br>release_date=%{customdata[0]}<extra></extra>",
         "legendgroup": "Trenchcoat",
         "marker": {
          "color": "#ab63fa",
          "symbol": "circle"
         },
         "mode": "markers",
         "name": "Trenchcoat",
         "orientation": "h",
         "showlegend": true,
         "type": "scatter",
         "x": {
          "bdata": "nq1BAA==",
          "dtype": "i4"
         },
         "xaxis": "x",
         "y": [
          "Comedy"
         ],
         "yaxis": "y"
        },
        {
         "customdata": [
          [
           "1983-04-29"
          ]
         ],
         "hovertemplate": "movie_title=Something Wicked This Way Comes<br>total_gross=%{x}<br>genre=%{y}<br>release_date=%{customdata[0]}<extra></extra>",
         "legendgroup": "Something Wicked This Way Comes",
         "marker": {
          "color": "#FFA15A",
          "symbol": "circle"
         },
         "mode": "markers",
         "name": "Something Wicked This Way Comes",
         "orientation": "h",
         "showlegend": true,
         "type": "scatter",
         "x": {
          "bdata": "F05WAA==",
          "dtype": "i4"
         },
         "xaxis": "x",
         "y": [
          "Horror"
         ],
         "yaxis": "y"
        },
        {
         "customdata": [
          [
           "1983-10-07"
          ]
         ],
         "hovertemplate": "movie_title=Never Cry Wolf<br>total_gross=%{x}<br>genre=%{y}<br>release_date=%{customdata[0]}<extra></extra>",
         "legendgroup": "Never Cry Wolf",
         "marker": {
          "color": "#19d3f3",
          "symbol": "circle"
         },
         "mode": "markers",
         "name": "Never Cry Wolf",
         "orientation": "h",
         "showlegend": true,
         "type": "scatter",
         "x": {
          "bdata": "HDGmAQ==",
          "dtype": "i4"
         },
         "xaxis": "x",
         "y": [
          "Drama"
         ],
         "yaxis": "y"
        },
        {
         "customdata": [
          [
           "1983-11-04"
          ]
         ],
         "hovertemplate": "movie_title=Running Brave<br>total_gross=%{x}<br>genre=%{y}<br>release_date=%{customdata[0]}<extra></extra>",
         "legendgroup": "Running Brave",
         "marker": {
          "color": "#FF6692",
          "symbol": "circle"
         },
         "mode": "markers",
         "name": "Running Brave",
         "orientation": "h",
         "showlegend": true,
         "type": "scatter",
         "x": {
          "bdata": "c2ESAA==",
          "dtype": "i4"
         },
         "xaxis": "x",
         "y": [
          "Drama"
         ],
         "yaxis": "y"
        },
        {
         "customdata": [
          [
           "1984-03-09"
          ]
         ],
         "hovertemplate": "movie_title=Splash<br>total_gross=%{x}<br>genre=%{y}<br>release_date=%{customdata[0]}<extra></extra>",
         "legendgroup": "Splash",
         "marker": {
          "color": "#B6E880",
          "symbol": "circle"
         },
         "mode": "markers",
         "name": "Splash",
         "orientation": "h",
         "showlegend": true,
         "type": "scatter",
         "x": {
          "bdata": "RzG7Aw==",
          "dtype": "i4"
         },
         "xaxis": "x",
         "y": [
          "Comedy"
         ],
         "yaxis": "y"
        },
        {
         "customdata": [
          [
           "1984-09-29"
          ]
         ],
         "hovertemplate": "movie_title=Country<br>total_gross=%{x}<br>genre=%{y}<br>release_date=%{customdata[0]}<extra></extra>",
         "legendgroup": "Country",
         "marker": {
          "color": "#FF97FF",
          "symbol": "circle"
         },
         "mode": "markers",
         "name": "Country",
         "orientation": "h",
         "showlegend": true,
         "type": "scatter",
         "x": {
          "bdata": "gCyAAA==",
          "dtype": "i4"
         },
         "xaxis": "x",
         "y": [
          "Drama"
         ],
         "yaxis": "y"
        },
        {
         "customdata": [
          [
           "1985-03-22"
          ]
         ],
         "hovertemplate": "movie_title=Baby: Secret of the Lost Legend<br>total_gross=%{x}<br>genre=%{y}<br>release_date=%{customdata[0]}<extra></extra>",
         "legendgroup": "Baby: Secret of the Lost Legend",
         "marker": {
          "color": "#FECB52",
          "symbol": "circle"
         },
         "mode": "markers",
         "name": "Baby: Secret of the Lost Legend",
         "orientation": "h",
         "showlegend": true,
         "type": "scatter",
         "x": {
          "bdata": "/9XZAA==",
          "dtype": "i4"
         },
         "xaxis": "x",
         "y": [
          "Adventure"
         ],
         "yaxis": "y"
        },
        {
         "customdata": [
          [
           "1985-06-21"
          ]
         ],
         "hovertemplate": "movie_title=Return to Oz<br>total_gross=%{x}<br>genre=%{y}<br>release_date=%{customdata[0]}<extra></extra>",
         "legendgroup": "Return to Oz",
         "marker": {
          "color": "#636efa",
          "symbol": "circle"
         },
         "mode": "markers",
         "name": "Return to Oz",
         "orientation": "h",
         "showlegend": true,
         "type": "scatter",
         "x": {
          "bdata": "vQeiAA==",
          "dtype": "i4"
         },
         "xaxis": "x",
         "y": [
          "Adventure"
         ],
         "yaxis": "y"
        },
        {
         "customdata": [
          [
           "1985-07-24"
          ]
         ],
         "hovertemplate": "movie_title=The Black Cauldron<br>total_gross=%{x}<br>genre=%{y}<br>release_date=%{customdata[0]}<extra></extra>",
         "legendgroup": "The Black Cauldron",
         "marker": {
          "color": "#EF553B",
          "symbol": "circle"
         },
         "mode": "markers",
         "name": "The Black Cauldron",
         "orientation": "h",
         "showlegend": true,
         "type": "scatter",
         "x": {
          "bdata": "9NZEAQ==",
          "dtype": "i4"
         },
         "xaxis": "x",
         "y": [
          "Adventure"
         ],
         "yaxis": "y"
        },
        {
         "customdata": [
          [
           "1985-08-09"
          ]
         ],
         "hovertemplate": "movie_title=My Science Project<br>total_gross=%{x}<br>genre=%{y}<br>release_date=%{customdata[0]}<extra></extra>",
         "legendgroup": "My Science Project",
         "marker": {
          "color": "#00cc96",
          "symbol": "circle"
         },
         "mode": "markers",
         "name": "My Science Project",
         "orientation": "h",
         "showlegend": true,
         "type": "scatter",
         "x": {
          "bdata": "oI8+AA==",
          "dtype": "i4"
         },
         "xaxis": "x",
         "y": [
          "Comedy"
         ],
         "yaxis": "y"
        },
        {
         "customdata": [
          [
           "1985-09-27"
          ]
         ],
         "hovertemplate": "movie_title=The Journey of Natty Gann<br>total_gross=%{x}<br>genre=%{y}<br>release_date=%{customdata[0]}<extra></extra>",
         "legendgroup": "The Journey of Natty Gann",
         "marker": {
          "color": "#ab63fa",
          "symbol": "circle"
         },
         "mode": "markers",
         "name": "The Journey of Natty Gann",
         "orientation": "h",
         "showlegend": true,
         "type": "scatter",
         "x": {
          "bdata": "YHqQAA==",
          "dtype": "i4"
         },
         "xaxis": "x",
         "y": [
          "Drama"
         ],
         "yaxis": "y"
        },
        {
         "customdata": [
          [
           "1985-11-22"
          ]
         ],
         "hovertemplate": "movie_title=One Magic Christmas<br>total_gross=%{x}<br>genre=%{y}<br>release_date=%{customdata[0]}<extra></extra>",
         "legendgroup": "One Magic Christmas",
         "marker": {
          "color": "#FFA15A",
          "symbol": "circle"
         },
         "mode": "markers",
         "name": "One Magic Christmas",
         "orientation": "h",
         "showlegend": true,
         "type": "scatter",
         "x": {
          "bdata": "yt3JAA==",
          "dtype": "i4"
         },
         "xaxis": "x",
         "y": [
          "Drama"
         ],
         "yaxis": "y"
        },
        {
         "customdata": [
          [
           "1986-01-31"
          ]
         ],
         "hovertemplate": "movie_title=Down and Out in Beverly Hills<br>total_gross=%{x}<br>genre=%{y}<br>release_date=%{customdata[0]}<extra></extra>",
         "legendgroup": "Down and Out in Beverly Hills",
         "marker": {
          "color": "#19d3f3",
          "symbol": "circle"
         },
         "mode": "markers",
         "name": "Down and Out in Beverly Hills",
         "orientation": "h",
         "showlegend": true,
         "type": "scatter",
         "x": {
          "bdata": "0Re0Aw==",
          "dtype": "i4"
         },
         "xaxis": "x",
         "y": [
          "Comedy"
         ],
         "yaxis": "y"
        },
        {
         "customdata": [
          [
           "1986-04-11"
          ]
         ],
         "hovertemplate": "movie_title=Off Beat<br>total_gross=%{x}<br>genre=%{y}<br>release_date=%{customdata[0]}<extra></extra>",
         "legendgroup": "Off Beat",
         "marker": {
          "color": "#FF6692",
          "symbol": "circle"
         },
         "mode": "markers",
         "name": "Off Beat",
         "orientation": "h",
         "showlegend": true,
         "type": "scatter",
         "x": {
          "bdata": "GuVJAA==",
          "dtype": "i4"
         },
         "xaxis": "x",
         "y": [
          "Comedy"
         ],
         "yaxis": "y"
        },
        {
         "customdata": [
          [
           "1986-06-27"
          ]
         ],
         "hovertemplate": "movie_title=Ruthless People<br>total_gross=%{x}<br>genre=%{y}<br>release_date=%{customdata[0]}<extra></extra>",
         "legendgroup": "Ruthless People",
         "marker": {
          "color": "#B6E880",
          "symbol": "circle"
         },
         "mode": "markers",
         "name": "Ruthless People",
         "orientation": "h",
         "showlegend": true,
         "type": "scatter",
         "x": {
          "bdata": "r+hEBA==",
          "dtype": "i4"
         },
         "xaxis": "x",
         "y": [
          "Comedy"
         ],
         "yaxis": "y"
        },
        {
         "customdata": [
          [
           "1986-07-02"
          ]
         ],
         "hovertemplate": "movie_title=The Great Mouse Detective<br>total_gross=%{x}<br>genre=%{y}<br>release_date=%{customdata[0]}<extra></extra>",
         "legendgroup": "The Great Mouse Detective",
         "marker": {
          "color": "#FF97FF",
          "symbol": "circle"
         },
         "mode": "markers",
         "name": "The Great Mouse Detective",
         "orientation": "h",
         "showlegend": true,
         "type": "scatter",
         "x": {
          "bdata": "HjFoAQ==",
          "dtype": "i4"
         },
         "xaxis": "x",
         "y": [
          "Adventure"
         ],
         "yaxis": "y"
        },
        {
         "customdata": [
          [
           "1986-07-30"
          ]
         ],
         "hovertemplate": "movie_title=Flight of the Navigator<br>total_gross=%{x}<br>genre=%{y}<br>release_date=%{customdata[0]}<extra></extra>",
         "legendgroup": "Flight of the Navigator",
         "marker": {
          "color": "#FECB52",
          "symbol": "circle"
         },
         "mode": "markers",
         "name": "Flight of the Navigator",
         "orientation": "h",
         "showlegend": true,
         "type": "scatter",
         "x": {
          "bdata": "BUYbAQ==",
          "dtype": "i4"
         },
         "xaxis": "x",
         "y": [
          "Adventure"
         ],
         "yaxis": "y"
        },
        {
         "customdata": [
          [
           "1986-10-03"
          ]
         ],
         "hovertemplate": "movie_title=Tough Guys<br>total_gross=%{x}<br>genre=%{y}<br>release_date=%{customdata[0]}<extra></extra>",
         "legendgroup": "Tough Guys",
         "marker": {
          "color": "#636efa",
          "symbol": "circle"
         },
         "mode": "markers",
         "name": "Tough Guys",
         "orientation": "h",
         "showlegend": true,
         "type": "scatter",
         "x": {
          "bdata": "NW1HAQ==",
          "dtype": "i4"
         },
         "xaxis": "x",
         "y": [
          "Comedy"
         ],
         "yaxis": "y"
        },
        {
         "customdata": [
          [
           "1986-10-17"
          ]
         ],
         "hovertemplate": "movie_title=The Color of Money<br>total_gross=%{x}<br>genre=%{y}<br>release_date=%{customdata[0]}<extra></extra>",
         "legendgroup": "The Color of Money",
         "marker": {
          "color": "#EF553B",
          "symbol": "circle"
         },
         "mode": "markers",
         "name": "The Color of Money",
         "orientation": "h",
         "showlegend": true,
         "type": "scatter",
         "x": {
          "bdata": "iO0dAw==",
          "dtype": "i4"
         },
         "xaxis": "x",
         "y": [
          "Drama"
         ],
         "yaxis": "y"
        },
        {
         "customdata": [
          [
           "1987-01-30"
          ]
         ],
         "hovertemplate": "movie_title=Outrageous Fortune<br>total_gross=%{x}<br>genre=%{y}<br>release_date=%{customdata[0]}<extra></extra>",
         "legendgroup": "Outrageous Fortune",
         "marker": {
          "color": "#00cc96",
          "symbol": "circle"
         },
         "mode": "markers",
         "name": "Outrageous Fortune",
         "orientation": "h",
         "showlegend": true,
         "type": "scatter",
         "x": {
          "bdata": "5aYmAw==",
          "dtype": "i4"
         },
         "xaxis": "x",
         "y": [
          "Comedy"
         ],
         "yaxis": "y"
        },
        {
         "customdata": [
          [
           "1987-03-06"
          ]
         ],
         "hovertemplate": "movie_title=Tin Men<br>total_gross=%{x}<br>genre=%{y}<br>release_date=%{customdata[0]}<extra></extra>",
         "legendgroup": "Tin Men",
         "marker": {
          "color": "#ab63fa",
          "symbol": "circle"
         },
         "mode": "markers",
         "name": "Tin Men",
         "orientation": "h",
         "showlegend": true,
         "type": "scatter",
         "x": {
          "bdata": "Or+DAQ==",
          "dtype": "i4"
         },
         "xaxis": "x",
         "y": [
          "Comedy"
         ],
         "yaxis": "y"
        },
        {
         "customdata": [
          [
           "1987-05-22"
          ]
         ],
         "hovertemplate": "movie_title=Ernest Goes to Camp<br>total_gross=%{x}<br>genre=%{y}<br>release_date=%{customdata[0]}<extra></extra>",
         "legendgroup": "Ernest Goes to Camp",
         "marker": {
          "color": "#FFA15A",
          "symbol": "circle"
         },
         "mode": "markers",
         "name": "Ernest Goes to Camp",
         "orientation": "h",
         "showlegend": true,
         "type": "scatter",
         "x": {
          "bdata": "hrlmAQ==",
          "dtype": "i4"
         },
         "xaxis": "x",
         "y": [
          "Comedy"
         ],
         "yaxis": "y"
        },
        {
         "customdata": [
          [
           "1987-06-05"
          ]
         ],
         "hovertemplate": "movie_title=Benji the Hunted<br>total_gross=%{x}<br>genre=%{y}<br>release_date=%{customdata[0]}<extra></extra>",
         "legendgroup": "Benji the Hunted",
         "marker": {
          "color": "#19d3f3",
          "symbol": "circle"
         },
         "mode": "markers",
         "name": "Benji the Hunted",
         "orientation": "h",
         "showlegend": true,
         "type": "scatter",
         "x": {
          "bdata": "+x/oAA==",
          "dtype": "i4"
         },
         "xaxis": "x",
         "y": [
          "Adventure"
         ],
         "yaxis": "y"
        },
        {
         "customdata": [
          [
           "1987-07-03"
          ]
         ],
         "hovertemplate": "movie_title=Adventures in Babysitting<br>total_gross=%{x}<br>genre=%{y}<br>release_date=%{customdata[0]}<extra></extra>",
         "legendgroup": "Adventures in Babysitting",
         "marker": {
          "color": "#FF6692",
          "symbol": "circle"
         },
         "mode": "markers",
         "name": "Adventures in Babysitting",
         "orientation": "h",
         "showlegend": true,
         "type": "scatter",
         "x": {
          "bdata": "y5sDAg==",
          "dtype": "i4"
         },
         "xaxis": "x",
         "y": [
          "Comedy"
         ],
         "yaxis": "y"
        },
        {
         "customdata": [
          [
           "1987-08-05"
          ]
         ],
         "hovertemplate": "movie_title=Stakeout<br>total_gross=%{x}<br>genre=%{y}<br>release_date=%{customdata[0]}<extra></extra>",
         "legendgroup": "Stakeout",
         "marker": {
          "color": "#B6E880",
          "symbol": "circle"
         },
         "mode": "markers",
         "name": "Stakeout",
         "orientation": "h",
         "showlegend": true,
         "type": "scatter",
         "x": {
          "bdata": "ERjqAw==",
          "dtype": "i4"
         },
         "xaxis": "x",
         "y": [
          "Comedy"
         ],
         "yaxis": "y"
        },
        {
         "customdata": [
          [
           "1987-08-14"
          ]
         ],
         "hovertemplate": "movie_title=Can't Buy Me Love<br>total_gross=%{x}<br>genre=%{y}<br>release_date=%{customdata[0]}<extra></extra>",
         "legendgroup": "Can't Buy Me Love",
         "marker": {
          "color": "#FF97FF",
          "symbol": "circle"
         },
         "mode": "markers",
         "name": "Can't Buy Me Love",
         "orientation": "h",
         "showlegend": true,
         "type": "scatter",
         "x": {
          "bdata": "mYriAQ==",
          "dtype": "i4"
         },
         "xaxis": "x",
         "y": [
          "Romantic Comedy"
         ],
         "yaxis": "y"
        },
        {
         "customdata": [
          [
           "1987-11-06"
          ]
         ],
         "hovertemplate": "movie_title=Hello Again<br>total_gross=%{x}<br>genre=%{y}<br>release_date=%{customdata[0]}<extra></extra>",
         "legendgroup": "Hello Again",
         "marker": {
          "color": "#FECB52",
          "symbol": "circle"
         },
         "mode": "markers",
         "name": "Hello Again",
         "orientation": "h",
         "showlegend": true,
         "type": "scatter",
         "x": {
          "bdata": "dpM3AQ==",
          "dtype": "i4"
         },
         "xaxis": "x",
         "y": [
          "Comedy"
         ],
         "yaxis": "y"
        },
        {
         "customdata": [
          [
           "1987-11-25"
          ]
         ],
         "hovertemplate": "movie_title=3 Men and a Baby<br>total_gross=%{x}<br>genre=%{y}<br>release_date=%{customdata[0]}<extra></extra>",
         "legendgroup": "3 Men and a Baby",
         "marker": {
          "color": "#636efa",
          "symbol": "circle"
         },
         "mode": "markers",
         "name": "3 Men and a Baby",
         "orientation": "h",
         "showlegend": true,
         "type": "scatter",
         "x": {
          "bdata": "YCIACg==",
          "dtype": "i4"
         },
         "xaxis": "x",
         "y": [
          "Comedy"
         ],
         "yaxis": "y"
        },
        {
         "customdata": [
          [
           "1987-12-23"
          ]
         ],
         "hovertemplate": "movie_title=Good Morning Vietnam<br>total_gross=%{x}<br>genre=%{y}<br>release_date=%{customdata[0]}<extra></extra>",
         "legendgroup": "Good Morning Vietnam",
         "marker": {
          "color": "#EF553B",
          "symbol": "circle"
         },
         "mode": "markers",
         "name": "Good Morning Vietnam",
         "orientation": "h",
         "showlegend": true,
         "type": "scatter",
         "x": {
          "bdata": "wudiBw==",
          "dtype": "i4"
         },
         "xaxis": "x",
         "y": [
          "Comedy"
         ],
         "yaxis": "y"
        },
        {
         "customdata": [
          [
           "1988-02-12"
          ]
         ],
         "hovertemplate": "movie_title=Shoot to Kill<br>total_gross=%{x}<br>genre=%{y}<br>release_date=%{customdata[0]}<extra></extra>",
         "legendgroup": "Shoot to Kill",
         "marker": {
          "color": "#00cc96",
          "symbol": "circle"
         },
         "mode": "markers",
         "name": "Shoot to Kill",
         "orientation": "h",
         "showlegend": true,
         "type": "scatter",
         "x": {
          "bdata": "IBW/AQ==",
          "dtype": "i4"
         },
         "xaxis": "x",
         "y": [
          "Action"
         ],
         "yaxis": "y"
        },
        {
         "customdata": [
          [
           "1988-03-18"
          ]
         ],
         "hovertemplate": "movie_title=D.O.A.<br>total_gross=%{x}<br>genre=%{y}<br>release_date=%{customdata[0]}<extra></extra>",
         "legendgroup": "D.O.A.",
         "marker": {
          "color": "#ab63fa",
          "symbol": "circle"
         },
         "mode": "markers",
         "name": "D.O.A.",
         "orientation": "h",
         "showlegend": true,
         "type": "scatter",
         "x": {
          "bdata": "ruLBAA==",
          "dtype": "i4"
         },
         "xaxis": "x",
         "y": [
          "Thriller/Suspense"
         ],
         "yaxis": "y"
        },
        {
         "customdata": [
          [
           "1988-04-15"
          ]
         ],
         "hovertemplate": "movie_title=Return to Snowy River<br>total_gross=%{x}<br>genre=%{y}<br>release_date=%{customdata[0]}<extra></extra>",
         "legendgroup": "Return to Snowy River",
         "marker": {
          "color": "#FFA15A",
          "symbol": "circle"
         },
         "mode": "markers",
         "name": "Return to Snowy River",
         "orientation": "h",
         "showlegend": true,
         "type": "scatter",
         "x": {
          "bdata": "89jQAA==",
          "dtype": "i4"
         },
         "xaxis": "x",
         "y": [
          "Adventure"
         ],
         "yaxis": "y"
        },
        {
         "customdata": [
          [
           "1988-06-10"
          ]
         ],
         "hovertemplate": "movie_title=Big Business<br>total_gross=%{x}<br>genre=%{y}<br>release_date=%{customdata[0]}<extra></extra>",
         "legendgroup": "Big Business",
         "marker": {
          "color": "#19d3f3",
          "symbol": "circle"
         },
         "mode": "markers",
         "name": "Big Business",
         "orientation": "h",
         "showlegend": true,
         "type": "scatter",
         "x": {
          "bdata": "16VkAg==",
          "dtype": "i4"
         },
         "xaxis": "x",
         "y": [
          "Comedy"
         ],
         "yaxis": "y"
        },
        {
         "customdata": [
          [
           "1988-06-22"
          ]
         ],
         "hovertemplate": "movie_title=Who Framed Roger Rabbit?<br>total_gross=%{x}<br>genre=%{y}<br>release_date=%{customdata[0]}<extra></extra>",
         "legendgroup": "Who Framed Roger Rabbit?",
         "marker": {
          "color": "#FF6692",
          "symbol": "circle"
         },
         "mode": "markers",
         "name": "Who Framed Roger Rabbit?",
         "orientation": "h",
         "showlegend": true,
         "type": "scatter",
         "x": {
          "bdata": "7JEvCQ==",
          "dtype": "i4"
         },
         "xaxis": "x",
         "y": [
          "Comedy"
         ],
         "yaxis": "y"
        },
        {
         "customdata": [
          [
           "1988-07-29"
          ]
         ],
         "hovertemplate": "movie_title=Cocktail<br>total_gross=%{x}<br>genre=%{y}<br>release_date=%{customdata[0]}<extra></extra>",
         "legendgroup": "Cocktail",
         "marker": {
          "color": "#B6E880",
          "symbol": "circle"
         },
         "mode": "markers",
         "name": "Cocktail",
         "orientation": "h",
         "showlegend": true,
         "type": "scatter",
         "x": {
          "bdata": "oZWpBA==",
          "dtype": "i4"
         },
         "xaxis": "x",
         "y": [
          "Drama"
         ],
         "yaxis": "y"
        },
        {
         "customdata": [
          [
           "1988-08-05"
          ]
         ],
         "hovertemplate": "movie_title=The Rescue<br>total_gross=%{x}<br>genre=%{y}<br>release_date=%{customdata[0]}<extra></extra>",
         "legendgroup": "The Rescue",
         "marker": {
          "color": "#FF97FF",
          "symbol": "circle"
         },
         "mode": "markers",
         "name": "The Rescue",
         "orientation": "h",
         "showlegend": true,
         "type": "scatter",
         "x": {
          "bdata": "oFhZAA==",
          "dtype": "i4"
         },
         "xaxis": "x",
         "y": [
          "Action"
         ],
         "yaxis": "y"
        },
        {
         "customdata": [
          [
           "1988-09-30"
          ]
         ],
         "hovertemplate": "movie_title=Heartbreak Hotel<br>total_gross=%{x}<br>genre=%{y}<br>release_date=%{customdata[0]}<extra></extra>",
         "legendgroup": "Heartbreak Hotel",
         "marker": {
          "color": "#FECB52",
          "symbol": "circle"
         },
         "mode": "markers",
         "name": "Heartbreak Hotel",
         "orientation": "h",
         "showlegend": true,
         "type": "scatter",
         "x": {
          "bdata": "KRFUAA==",
          "dtype": "i4"
         },
         "xaxis": "x",
         "y": [
          "Comedy"
         ],
         "yaxis": "y"
        },
        {
         "customdata": [
          [
           "1988-11-04"
          ]
         ],
         "hovertemplate": "movie_title=The Good Mother<br>total_gross=%{x}<br>genre=%{y}<br>release_date=%{customdata[0]}<extra></extra>",
         "legendgroup": "The Good Mother",
         "marker": {
          "color": "#636efa",
          "symbol": "circle"
         },
         "mode": "markers",
         "name": "The Good Mother",
         "orientation": "h",
         "showlegend": true,
         "type": "scatter",
         "x": {
          "bdata": "vrNIAA==",
          "dtype": "i4"
         },
         "xaxis": "x",
         "y": [
          "Drama"
         ],
         "yaxis": "y"
        },
        {
         "customdata": [
          [
           "1988-11-11"
          ]
         ],
         "hovertemplate": "movie_title=Ernest Saves Christmas<br>total_gross=%{x}<br>genre=%{y}<br>release_date=%{customdata[0]}<extra></extra>",
         "legendgroup": "Ernest Saves Christmas",
         "marker": {
          "color": "#EF553B",
          "symbol": "circle"
         },
         "mode": "markers",
         "name": "Ernest Saves Christmas",
         "orientation": "h",
         "showlegend": true,
         "type": "scatter",
         "x": {
          "bdata": "fVSuAQ==",
          "dtype": "i4"
         },
         "xaxis": "x",
         "y": [
          "Comedy"
         ],
         "yaxis": "y"
        },
        {
         "customdata": [
          [
           "1988-11-18"
          ]
         ],
         "hovertemplate": "movie_title=Oliver & Company<br>total_gross=%{x}<br>genre=%{y}<br>release_date=%{customdata[0]}<extra></extra>",
         "legendgroup": "Oliver & Company",
         "marker": {
          "color": "#00cc96",
          "symbol": "circle"
         },
         "mode": "markers",
         "name": "Oliver & Company",
         "orientation": "h",
         "showlegend": true,
         "type": "scatter",
         "x": {
          "bdata": "33r0Ag==",
          "dtype": "i4"
         },
         "xaxis": "x",
         "y": [
          "Adventure"
         ],
         "yaxis": "y"
        },
        {
         "customdata": [
          [
           "1988-12-21"
          ]
         ],
         "hovertemplate": "movie_title=Beaches<br>total_gross=%{x}<br>genre=%{y}<br>release_date=%{customdata[0]}<extra></extra>",
         "legendgroup": "Beaches",
         "marker": {
          "color": "#ab63fa",
          "symbol": "circle"
         },
         "mode": "markers",
         "name": "Beaches",
         "orientation": "h",
         "showlegend": true,
         "type": "scatter",
         "x": {
          "bdata": "ymNmAw==",
          "dtype": "i4"
         },
         "xaxis": "x",
         "y": [
          "Drama"
         ],
         "yaxis": "y"
        },
        {
         "customdata": [
          [
           "1989-01-27"
          ]
         ],
         "hovertemplate": "movie_title=Three Fugitives<br>total_gross=%{x}<br>genre=%{y}<br>release_date=%{customdata[0]}<extra></extra>",
         "legendgroup": "Three Fugitives",
         "marker": {
          "color": "#FFA15A",
          "symbol": "circle"
         },
         "mode": "markers",
         "name": "Three Fugitives",
         "orientation": "h",
         "showlegend": true,
         "type": "scatter",
         "x": {
          "bdata": "sFprAg==",
          "dtype": "i4"
         },
         "xaxis": "x",
         "y": [
          "Comedy"
         ],
         "yaxis": "y"
        },
        {
         "customdata": [
          [
           "1989-03-01"
          ]
         ],
         "hovertemplate": "movie_title=New York Stories<br>total_gross=%{x}<br>genre=%{y}<br>release_date=%{customdata[0]}<extra></extra>",
         "legendgroup": "New York Stories",
         "marker": {
          "color": "#19d3f3",
          "symbol": "circle"
         },
         "mode": "markers",
         "name": "New York Stories",
         "orientation": "h",
         "showlegend": true,
         "type": "scatter",
         "x": {
          "bdata": "zTykAA==",
          "dtype": "i4"
         },
         "xaxis": "x",
         "y": [
          "Drama"
         ],
         "yaxis": "y"
        },
        {
         "customdata": [
          [
           "1989-04-14"
          ]
         ],
         "hovertemplate": "movie_title=Disorganized Crime<br>total_gross=%{x}<br>genre=%{y}<br>release_date=%{customdata[0]}<extra></extra>",
         "legendgroup": "Disorganized Crime",
         "marker": {
          "color": "#FF6692",
          "symbol": "circle"
         },
         "mode": "markers",
         "name": "Disorganized Crime",
         "orientation": "h",
         "showlegend": true,
         "type": "scatter",
         "x": {
          "bdata": "pQRuAA==",
          "dtype": "i4"
         },
         "xaxis": "x",
         "y": [
          "Comedy"
         ],
         "yaxis": "y"
        },
        {
         "customdata": [
          [
           "1989-06-02"
          ]
         ],
         "hovertemplate": "movie_title=Dead Poets Society<br>total_gross=%{x}<br>genre=%{y}<br>release_date=%{customdata[0]}<extra></extra>",
         "legendgroup": "Dead Poets Society",
         "marker": {
          "color": "#B6E880",
          "symbol": "circle"
         },
         "mode": "markers",
         "name": "Dead Poets Society",
         "orientation": "h",
         "showlegend": true,
         "type": "scatter",
         "x": {
          "bdata": "lLW2BQ==",
          "dtype": "i4"
         },
         "xaxis": "x",
         "y": [
          "Drama"
         ],
         "yaxis": "y"
        },
        {
         "customdata": [
          [
           "1989-06-23"
          ]
         ],
         "hovertemplate": "movie_title=Honey, I Shrunk the Kids<br>total_gross=%{x}<br>genre=%{y}<br>release_date=%{customdata[0]}<extra></extra>",
         "legendgroup": "Honey, I Shrunk the Kids",
         "marker": {
          "color": "#FF97FF",
          "symbol": "circle"
         },
         "mode": "markers",
         "name": "Honey, I Shrunk the Kids",
         "orientation": "h",
         "showlegend": true,
         "type": "scatter",
         "x": {
          "bdata": "TLHKBw==",
          "dtype": "i4"
         },
         "xaxis": "x",
         "y": [
          "Adventure"
         ],
         "yaxis": "y"
        },
        {
         "customdata": [
          [
           "1989-07-28"
          ]
         ],
         "hovertemplate": "movie_title=Turner & Hooch<br>total_gross=%{x}<br>genre=%{y}<br>release_date=%{customdata[0]}<extra></extra>",
         "legendgroup": "Turner & Hooch",
         "marker": {
          "color": "#FECB52",
          "symbol": "circle"
         },
         "mode": "markers",
         "name": "Turner & Hooch",
         "orientation": "h",
         "showlegend": true,
         "type": "scatter",
         "x": {
          "bdata": "65c8BA==",
          "dtype": "i4"
         },
         "xaxis": "x",
         "y": [
          "Comedy"
         ],
         "yaxis": "y"
        },
        {
         "customdata": [
          [
           "1989-08-18"
          ]
         ],
         "hovertemplate": "movie_title=Cheetah<br>total_gross=%{x}<br>genre=%{y}<br>release_date=%{customdata[0]}<extra></extra>",
         "legendgroup": "Cheetah",
         "marker": {
          "color": "#636efa",
          "symbol": "circle"
         },
         "mode": "markers",
         "name": "Cheetah",
         "orientation": "h",
         "showlegend": true,
         "type": "scatter",
         "x": {
          "bdata": "CkZ4AA==",
          "dtype": "i4"
         },
         "xaxis": "x",
         "y": [
          "Adventure"
         ],
         "yaxis": "y"
        },
        {
         "customdata": [
          [
           "1989-10-06"
          ]
         ],
         "hovertemplate": "movie_title=An Innocent Man<br>total_gross=%{x}<br>genre=%{y}<br>release_date=%{customdata[0]}<extra></extra>",
         "legendgroup": "An Innocent Man",
         "marker": {
          "color": "#EF553B",
          "symbol": "circle"
         },
         "mode": "markers",
         "name": "An Innocent Man",
         "orientation": "h",
         "showlegend": true,
         "type": "scatter",
         "x": {
          "bdata": "1/wnAQ==",
          "dtype": "i4"
         },
         "xaxis": "x",
         "y": [
          "Drama"
         ],
         "yaxis": "y"
        },
        {
         "customdata": [
          [
           "1989-10-20"
          ]
         ],
         "hovertemplate": "movie_title=Gross Anatomy<br>total_gross=%{x}<br>genre=%{y}<br>release_date=%{customdata[0]}<extra></extra>",
         "legendgroup": "Gross Anatomy",
         "marker": {
          "color": "#00cc96",
          "symbol": "circle"
         },
         "mode": "markers",
         "name": "Gross Anatomy",
         "orientation": "h",
         "showlegend": true,
         "type": "scatter",
         "x": {
          "bdata": "CiGtAA==",
          "dtype": "i4"
         },
         "xaxis": "x",
         "y": [
          "Drama"
         ],
         "yaxis": "y"
        },
        {
         "customdata": [
          [
           "1989-11-15"
          ]
         ],
         "hovertemplate": "movie_title=The Little Mermaid<br>total_gross=%{x}<br>genre=%{y}<br>release_date=%{customdata[0]}<extra></extra>",
         "legendgroup": "The Little Mermaid",
         "marker": {
          "color": "#ab63fa",
          "symbol": "circle"
         },
         "mode": "markers",
         "name": "The Little Mermaid",
         "orientation": "h",
         "showlegend": true,
         "type": "scatter",
         "x": {
          "bdata": "twSmBg==",
          "dtype": "i4"
         },
         "xaxis": "x",
         "y": [
          "Adventure"
         ],
         "yaxis": "y"
        },
        {
         "customdata": [
          [
           "1989-12-13"
          ]
         ],
         "hovertemplate": "movie_title=Blaze<br>total_gross=%{x}<br>genre=%{y}<br>release_date=%{customdata[0]}<extra></extra>",
         "legendgroup": "Blaze",
         "marker": {
          "color": "#FFA15A",
          "symbol": "circle"
         },
         "mode": "markers",
         "name": "Blaze",
         "orientation": "h",
         "showlegend": true,
         "type": "scatter",
         "x": {
          "bdata": "/6wiAQ==",
          "dtype": "i4"
         },
         "xaxis": "x",
         "y": [
          "Drama"
         ],
         "yaxis": "y"
        },
        {
         "customdata": [
          [
           "1990-02-02"
          ]
         ],
         "hovertemplate": "movie_title=Stella<br>total_gross=%{x}<br>genre=%{y}<br>release_date=%{customdata[0]}<extra></extra>",
         "legendgroup": "Stella",
         "marker": {
          "color": "#19d3f3",
          "symbol": "circle"
         },
         "mode": "markers",
         "name": "Stella",
         "orientation": "h",
         "showlegend": true,
         "type": "scatter",
         "x": {
          "bdata": "iyAyAQ==",
          "dtype": "i4"
         },
         "xaxis": "x",
         "y": [
          "Drama"
         ],
         "yaxis": "y"
        },
        {
         "customdata": [
          [
           "1990-02-23"
          ]
         ],
         "hovertemplate": "movie_title=Where the Heart Is<br>total_gross=%{x}<br>genre=%{y}<br>release_date=%{customdata[0]}<extra></extra>",
         "legendgroup": "Where the Heart Is",
         "marker": {
          "color": "#FF6692",
          "symbol": "circle"
         },
         "mode": "markers",
         "name": "Where the Heart Is",
         "orientation": "h",
         "showlegend": true,
         "type": "scatter",
         "x": {
          "bdata": "K+IQAA==",
          "dtype": "i4"
         },
         "xaxis": "x",
         "y": [
          "Comedy"
         ],
         "yaxis": "y"
        },
        {
         "customdata": [
          [
           "1990-03-23"
          ]
         ],
         "hovertemplate": "movie_title=Pretty Woman<br>total_gross=%{x}<br>genre=%{y}<br>release_date=%{customdata[0]}<extra></extra>",
         "legendgroup": "Pretty Woman",
         "marker": {
          "color": "#B6E880",
          "symbol": "circle"
         },
         "mode": "markers",
         "name": "Pretty Woman",
         "orientation": "h",
         "showlegend": true,
         "type": "scatter",
         "x": {
          "bdata": "fEOiCg==",
          "dtype": "i4"
         },
         "xaxis": "x",
         "y": [
          "Romantic Comedy"
         ],
         "yaxis": "y"
        },
        {
         "customdata": [
          [
           "1990-04-06"
          ]
         ],
         "hovertemplate": "movie_title=Ernest Goes to Jail<br>total_gross=%{x}<br>genre=%{y}<br>release_date=%{customdata[0]}<extra></extra>",
         "legendgroup": "Ernest Goes to Jail",
         "marker": {
          "color": "#FF97FF",
          "symbol": "circle"
         },
         "mode": "markers",
         "name": "Ernest Goes to Jail",
         "orientation": "h",
         "showlegend": true,
         "type": "scatter",
         "x": {
          "bdata": "wet9AQ==",
          "dtype": "i4"
         },
         "xaxis": "x",
         "y": [
          "Comedy"
         ],
         "yaxis": "y"
        },
        {
         "customdata": [
          [
           "1990-04-27"
          ]
         ],
         "hovertemplate": "movie_title=Spaced Invaders<br>total_gross=%{x}<br>genre=%{y}<br>release_date=%{customdata[0]}<extra></extra>",
         "legendgroup": "Spaced Invaders",
         "marker": {
          "color": "#FECB52",
          "symbol": "circle"
         },
         "mode": "markers",
         "name": "Spaced Invaders",
         "orientation": "h",
         "showlegend": true,
         "type": "scatter",
         "x": {
          "bdata": "wOHkAA==",
          "dtype": "i4"
         },
         "xaxis": "x",
         "y": [
          "Comedy"
         ],
         "yaxis": "y"
        },
        {
         "customdata": [
          [
           "1990-05-24"
          ]
         ],
         "hovertemplate": "movie_title=Fire Birds<br>total_gross=%{x}<br>genre=%{y}<br>release_date=%{customdata[0]}<extra></extra>",
         "legendgroup": "Fire Birds",
         "marker": {
          "color": "#636efa",
          "symbol": "circle"
         },
         "mode": "markers",
         "name": "Fire Birds",
         "orientation": "h",
         "showlegend": true,
         "type": "scatter",
         "x": {
          "bdata": "AzrhAA==",
          "dtype": "i4"
         },
         "xaxis": "x",
         "y": [
          "Action"
         ],
         "yaxis": "y"
        },
        {
         "customdata": [
          [
           "1990-06-15"
          ]
         ],
         "hovertemplate": "movie_title=Dick Tracy<br>total_gross=%{x}<br>genre=%{y}<br>release_date=%{customdata[0]}<extra></extra>",
         "legendgroup": "Dick Tracy",
         "marker": {
          "color": "#EF553B",
          "symbol": "circle"
         },
         "mode": "markers",
         "name": "Dick Tracy",
         "orientation": "h",
         "showlegend": true,
         "type": "scatter",
         "x": {
          "bdata": "Zu0uBg==",
          "dtype": "i4"
         },
         "xaxis": "x",
         "y": [
          "Action"
         ],
         "yaxis": "y"
        },
        {
         "customdata": [
          [
           "1990-06-22"
          ]
         ],
         "hovertemplate": "movie_title=Betsy's Wedding<br>total_gross=%{x}<br>genre=%{y}<br>release_date=%{customdata[0]}<extra></extra>",
         "legendgroup": "Betsy's Wedding",
         "marker": {
          "color": "#00cc96",
          "symbol": "circle"
         },
         "mode": "markers",
         "name": "Betsy's Wedding",
         "orientation": "h",
         "showlegend": true,
         "type": "scatter",
         "x": {
          "bdata": "pjUtAQ==",
          "dtype": "i4"
         },
         "xaxis": "x",
         "y": [
          "Comedy"
         ],
         "yaxis": "y"
        },
        {
         "customdata": [
          [
           "1990-07-18"
          ]
         ],
         "hovertemplate": "movie_title=Arachnophobia<br>total_gross=%{x}<br>genre=%{y}<br>release_date=%{customdata[0]}<extra></extra>",
         "legendgroup": "Arachnophobia",
         "marker": {
          "color": "#ab63fa",
          "symbol": "circle"
         },
         "mode": "markers",
         "name": "Arachnophobia",
         "orientation": "h",
         "showlegend": true,
         "type": "scatter",
         "x": {
          "bdata": "dOQrAw==",
          "dtype": "i4"
         },
         "xaxis": "x",
         "y": [
          "Thriller/Suspense"
         ],
         "yaxis": "y"
        },
        {
         "customdata": [
          [
           "1990-08-03"
          ]
         ],
         "hovertemplate": "movie_title=DuckTales: The Movie - Treasure of th…<br>total_gross=%{x}<br>genre=%{y}<br>release_date=%{customdata[0]}<extra></extra>",
         "legendgroup": "DuckTales: The Movie - Treasure of th…",
         "marker": {
          "color": "#FFA15A",
          "symbol": "circle"
         },
         "mode": "markers",
         "name": "DuckTales: The Movie - Treasure of th…",
         "orientation": "h",
         "showlegend": true,
         "type": "scatter",
         "x": {
          "bdata": "w84TAQ==",
          "dtype": "i4"
         },
         "xaxis": "x",
         "y": [
          "Adventure"
         ],
         "yaxis": "y"
        },
        {
         "customdata": [
          [
           "1990-08-17"
          ]
         ],
         "hovertemplate": "movie_title=Taking Care of Business<br>total_gross=%{x}<br>genre=%{y}<br>release_date=%{customdata[0]}<extra></extra>",
         "legendgroup": "Taking Care of Business",
         "marker": {
          "color": "#19d3f3",
          "symbol": "circle"
         },
         "mode": "markers",
         "name": "Taking Care of Business",
         "orientation": "h",
         "showlegend": true,
         "type": "scatter",
         "x": {
          "bdata": "O0IxAQ==",
          "dtype": "i4"
         },
         "xaxis": "x",
         "y": [
          "Comedy"
         ],
         "yaxis": "y"
        },
        {
         "customdata": [
          [
           "1990-10-12"
          ]
         ],
         "hovertemplate": "movie_title=Mr. Destiny<br>total_gross=%{x}<br>genre=%{y}<br>release_date=%{customdata[0]}<extra></extra>",
         "legendgroup": "Mr. Destiny",
         "marker": {
          "color": "#FF6692",
          "symbol": "circle"
         },
         "mode": "markers",
         "name": "Mr. Destiny",
         "orientation": "h",
         "showlegend": true,
         "type": "scatter",
         "x": {
          "bdata": "NavqAA==",
          "dtype": "i4"
         },
         "xaxis": "x",
         "y": [
          "Comedy"
         ],
         "yaxis": "y"
        },
        {
         "customdata": [
          [
           "1990-11-16"
          ]
         ],
         "hovertemplate": "movie_title=The Rescuers Down Under<br>total_gross=%{x}<br>genre=%{y}<br>release_date=%{customdata[0]}<extra></extra>",
         "legendgroup": "The Rescuers Down Under",
         "marker": {
          "color": "#B6E880",
          "symbol": "circle"
         },
         "mode": "markers",
         "name": "The Rescuers Down Under",
         "orientation": "h",
         "showlegend": true,
         "type": "scatter",
         "x": {
          "bdata": "RTOqAQ==",
          "dtype": "i4"
         },
         "xaxis": "x",
         "y": [
          "Adventure"
         ],
         "yaxis": "y"
        },
        {
         "customdata": [
          [
           "1990-11-21"
          ]
         ],
         "hovertemplate": "movie_title=3 Men and a Little Lady<br>total_gross=%{x}<br>genre=%{y}<br>release_date=%{customdata[0]}<extra></extra>",
         "legendgroup": "3 Men and a Little Lady",
         "marker": {
          "color": "#FF97FF",
          "symbol": "circle"
         },
         "mode": "markers",
         "name": "3 Men and a Little Lady",
         "orientation": "h",
         "showlegend": true,
         "type": "scatter",
         "x": {
          "bdata": "6atEBA==",
          "dtype": "i4"
         },
         "xaxis": "x",
         "y": [
          "Comedy"
         ],
         "yaxis": "y"
        },
        {
         "customdata": [
          [
           "1990-12-25"
          ]
         ],
         "hovertemplate": "movie_title=Green Card<br>total_gross=%{x}<br>genre=%{y}<br>release_date=%{customdata[0]}<extra></extra>",
         "legendgroup": "Green Card",
         "marker": {
          "color": "#FECB52",
          "symbol": "circle"
         },
         "mode": "markers",
         "name": "Green Card",
         "orientation": "h",
         "showlegend": true,
         "type": "scatter",
         "x": {
          "bdata": "icbGAQ==",
          "dtype": "i4"
         },
         "xaxis": "x",
         "y": [
          "Romantic Comedy"
         ],
         "yaxis": "y"
        },
        {
         "customdata": [
          [
           "1991-01-18"
          ]
         ],
         "hovertemplate": "movie_title=White Fang<br>total_gross=%{x}<br>genre=%{y}<br>release_date=%{customdata[0]}<extra></extra>",
         "legendgroup": "White Fang",
         "marker": {
          "color": "#636efa",
          "symbol": "circle"
         },
         "mode": "markers",
         "name": "White Fang",
         "orientation": "h",
         "showlegend": true,
         "type": "scatter",
         "x": {
          "bdata": "g+wRAg==",
          "dtype": "i4"
         },
         "xaxis": "x",
         "y": [
          "Adventure"
         ],
         "yaxis": "y"
        },
        {
         "customdata": [
          [
           "1991-02-22"
          ]
         ],
         "hovertemplate": "movie_title=Scenes from a Mall<br>total_gross=%{x}<br>genre=%{y}<br>release_date=%{customdata[0]}<extra></extra>",
         "legendgroup": "Scenes from a Mall",
         "marker": {
          "color": "#EF553B",
          "symbol": "circle"
         },
         "mode": "markers",
         "name": "Scenes from a Mall",
         "orientation": "h",
         "showlegend": true,
         "type": "scatter",
         "x": {
          "bdata": "Ae2RAA==",
          "dtype": "i4"
         },
         "xaxis": "x",
         "y": [
          "Comedy"
         ],
         "yaxis": "y"
        },
        {
         "customdata": [
          [
           "1991-03-01"
          ]
         ],
         "hovertemplate": "movie_title=Haakon Haakonsen<br>total_gross=%{x}<br>genre=%{y}<br>release_date=%{customdata[0]}<extra></extra>",
         "legendgroup": "Haakon Haakonsen",
         "marker": {
          "color": "#00cc96",
          "symbol": "circle"
         },
         "mode": "markers",
         "name": "Haakon Haakonsen",
         "orientation": "h",
         "showlegend": true,
         "type": "scatter",
         "x": {
          "bdata": "aEDlAA==",
          "dtype": "i4"
         },
         "xaxis": "x",
         "y": [
          "Adventure"
         ],
         "yaxis": "y"
        },
        {
         "customdata": [
          [
           "1991-04-05"
          ]
         ],
         "hovertemplate": "movie_title=The Marrying Man<br>total_gross=%{x}<br>genre=%{y}<br>release_date=%{customdata[0]}<extra></extra>",
         "legendgroup": "The Marrying Man",
         "marker": {
          "color": "#ab63fa",
          "symbol": "circle"
         },
         "mode": "markers",
         "name": "The Marrying Man",
         "orientation": "h",
         "showlegend": true,
         "type": "scatter",
         "x": {
          "bdata": "cAu+AA==",
          "dtype": "i4"
         },
         "xaxis": "x",
         "y": [
          "Romantic Comedy"
         ],
         "yaxis": "y"
        },
        {
         "customdata": [
          [
           "1991-04-26"
          ]
         ],
         "hovertemplate": "movie_title=Oscar<br>total_gross=%{x}<br>genre=%{y}<br>release_date=%{customdata[0]}<extra></extra>",
         "legendgroup": "Oscar",
         "marker": {
          "color": "#FFA15A",
          "symbol": "circle"
         },
         "mode": "markers",
         "name": "Oscar",
         "orientation": "h",
         "showlegend": true,
         "type": "scatter",
         "x": {
          "bdata": "3IlnAQ==",
          "dtype": "i4"
         },
         "xaxis": "x",
         "y": [
          "Comedy"
         ],
         "yaxis": "y"
        },
        {
         "customdata": [
          [
           "1991-05-03"
          ]
         ],
         "hovertemplate": "movie_title=One Good Cop<br>total_gross=%{x}<br>genre=%{y}<br>release_date=%{customdata[0]}<extra></extra>",
         "legendgroup": "One Good Cop",
         "marker": {
          "color": "#19d3f3",
          "symbol": "circle"
         },
         "mode": "markers",
         "name": "One Good Cop",
         "orientation": "h",
         "showlegend": true,
         "type": "scatter",
         "x": {
          "bdata": "LhKsAA==",
          "dtype": "i4"
         },
         "xaxis": "x",
         "y": [
          "Action"
         ],
         "yaxis": "y"
        },
        {
         "customdata": [
          [
           "1991-05-17"
          ]
         ],
         "hovertemplate": "movie_title=What About Bob?<br>total_gross=%{x}<br>genre=%{y}<br>release_date=%{customdata[0]}<extra></extra>",
         "legendgroup": "What About Bob?",
         "marker": {
          "color": "#FF6692",
          "symbol": "circle"
         },
         "mode": "markers",
         "name": "What About Bob?",
         "orientation": "h",
         "showlegend": true,
         "type": "scatter",
         "x": {
          "bdata": "MCPMAw==",
          "dtype": "i4"
         },
         "xaxis": "x",
         "y": [
          "Comedy"
         ],
         "yaxis": "y"
        },
        {
         "customdata": [
          [
           "1991-05-24"
          ]
         ],
         "hovertemplate": "movie_title=Wild Hearts Can't Be Broken<br>total_gross=%{x}<br>genre=%{y}<br>release_date=%{customdata[0]}<extra></extra>",
         "legendgroup": "Wild Hearts Can't Be Broken",
         "marker": {
          "color": "#B6E880",
          "symbol": "circle"
         },
         "mode": "markers",
         "name": "Wild Hearts Can't Be Broken",
         "orientation": "h",
         "showlegend": true,
         "type": "scatter",
         "x": {
          "bdata": "oGNvAA==",
          "dtype": "i4"
         },
         "xaxis": "x",
         "y": [
          "Drama"
         ],
         "yaxis": "y"
        },
        {
         "customdata": [
          [
           "1991-06-21"
          ]
         ],
         "hovertemplate": "movie_title=The Rocketeer<br>total_gross=%{x}<br>genre=%{y}<br>release_date=%{customdata[0]}<extra></extra>",
         "legendgroup": "The Rocketeer",
         "marker": {
          "color": "#FF97FF",
          "symbol": "circle"
         },
         "mode": "markers",
         "name": "The Rocketeer",
         "orientation": "h",
         "showlegend": true,
         "type": "scatter",
         "x": {
          "bdata": "46XGAg==",
          "dtype": "i4"
         },
         "xaxis": "x",
         "y": [
          "Action"
         ],
         "yaxis": "y"
        },
        {
         "customdata": [
          [
           "1991-07-24"
          ]
         ],
         "hovertemplate": "movie_title=The Doctor<br>total_gross=%{x}<br>genre=%{y}<br>release_date=%{customdata[0]}<extra></extra>",
         "legendgroup": "The Doctor",
         "marker": {
          "color": "#FECB52",
          "symbol": "circle"
         },
         "mode": "markers",
         "name": "The Doctor",
         "orientation": "h",
         "showlegend": true,
         "type": "scatter",
         "x": {
          "bdata": "iCo8Ag==",
          "dtype": "i4"
         },
         "xaxis": "x",
         "y": [
          "Drama"
         ],
         "yaxis": "y"
        },
        {
         "customdata": [
          [
           "1991-09-18"
          ]
         ],
         "hovertemplate": "movie_title=Paradise<br>total_gross=%{x}<br>genre=%{y}<br>release_date=%{customdata[0]}<extra></extra>",
         "legendgroup": "Paradise",
         "marker": {
          "color": "#636efa",
          "symbol": "circle"
         },
         "mode": "markers",
         "name": "Paradise",
         "orientation": "h",
         "showlegend": true,
         "type": "scatter",
         "x": {
          "bdata": "k1ccAQ==",
          "dtype": "i4"
         },
         "xaxis": "x",
         "y": [
          "Drama"
         ],
         "yaxis": "y"
        },
        {
         "customdata": [
          [
           "1991-09-27"
          ]
         ],
         "hovertemplate": "movie_title=Deceived<br>total_gross=%{x}<br>genre=%{y}<br>release_date=%{customdata[0]}<extra></extra>",
         "legendgroup": "Deceived",
         "marker": {
          "color": "#EF553B",
          "symbol": "circle"
         },
         "mode": "markers",
         "name": "Deceived",
         "orientation": "h",
         "showlegend": true,
         "type": "scatter",
         "x": {
          "bdata": "MIK2AQ==",
          "dtype": "i4"
         },
         "xaxis": "x",
         "y": [
          "Thriller/Suspense"
         ],
         "yaxis": "y"
        },
        {
         "customdata": [
          [
           "1991-10-11"
          ]
         ],
         "hovertemplate": "movie_title=Ernest Scared Stupid<br>total_gross=%{x}<br>genre=%{y}<br>release_date=%{customdata[0]}<extra></extra>",
         "legendgroup": "Ernest Scared Stupid",
         "marker": {
          "color": "#00cc96",
          "symbol": "circle"
         },
         "mode": "markers",
         "name": "Ernest Scared Stupid",
         "orientation": "h",
         "showlegend": true,
         "type": "scatter",
         "x": {
          "bdata": "MM/XAA==",
          "dtype": "i4"
         },
         "xaxis": "x",
         "y": [
          "Comedy"
         ],
         "yaxis": "y"
        },
        {
         "customdata": [
          [
           "1991-11-01"
          ]
         ],
         "hovertemplate": "movie_title=Billy Bathgate<br>total_gross=%{x}<br>genre=%{y}<br>release_date=%{customdata[0]}<extra></extra>",
         "legendgroup": "Billy Bathgate",
         "marker": {
          "color": "#ab63fa",
          "symbol": "circle"
         },
         "mode": "markers",
         "name": "Billy Bathgate",
         "orientation": "h",
         "showlegend": true,
         "type": "scatter",
         "x": {
          "bdata": "M4LtAA==",
          "dtype": "i4"
         },
         "xaxis": "x",
         "y": [
          "Drama"
         ],
         "yaxis": "y"
        },
        {
         "customdata": [
          [
           "1991-11-13"
          ]
         ],
         "hovertemplate": "movie_title=Beauty and the Beast<br>total_gross=%{x}<br>genre=%{y}<br>release_date=%{customdata[0]}<extra></extra>",
         "legendgroup": "Beauty and the Beast",
         "marker": {
          "color": "#FFA15A",
          "symbol": "circle"
         },
         "mode": "markers",
         "name": "Beauty and the Beast",
         "orientation": "h",
         "showlegend": true,
         "type": "scatter",
         "x": {
          "bdata": "ye8MDQ==",
          "dtype": "i4"
         },
         "xaxis": "x",
         "y": [
          "Musical"
         ],
         "yaxis": "y"
        },
        {
         "customdata": [
          [
           "1991-12-20"
          ]
         ],
         "hovertemplate": "movie_title=Father of the Bride<br>total_gross=%{x}<br>genre=%{y}<br>release_date=%{customdata[0]}<extra></extra>",
         "legendgroup": "Father of the Bride",
         "marker": {
          "color": "#19d3f3",
          "symbol": "circle"
         },
         "mode": "markers",
         "name": "Father of the Bride",
         "orientation": "h",
         "showlegend": true,
         "type": "scatter",
         "x": {
          "bdata": "1ABTBQ==",
          "dtype": "i4"
         },
         "xaxis": "x",
         "y": [
          "Comedy"
         ],
         "yaxis": "y"
        },
        {
         "customdata": [
          [
           "1992-01-10"
          ]
         ],
         "hovertemplate": "movie_title=The Hand That Rocks the Cradle<br>total_gross=%{x}<br>genre=%{y}<br>release_date=%{customdata[0]}<extra></extra>",
         "legendgroup": "The Hand That Rocks the Cradle",
         "marker": {
          "color": "#FF6692",
          "symbol": "circle"
         },
         "mode": "markers",
         "name": "The Hand That Rocks the Cradle",
         "orientation": "h",
         "showlegend": true,
         "type": "scatter",
         "x": {
          "bdata": "S1U/BQ==",
          "dtype": "i4"
         },
         "xaxis": "x",
         "y": [
          "Thriller/Suspense"
         ],
         "yaxis": "y"
        },
        {
         "customdata": [
          [
           "1992-02-07"
          ]
         ],
         "hovertemplate": "movie_title=Medicine Man<br>total_gross=%{x}<br>genre=%{y}<br>release_date=%{customdata[0]}<extra></extra>",
         "legendgroup": "Medicine Man",
         "marker": {
          "color": "#B6E880",
          "symbol": "circle"
         },
         "mode": "markers",
         "name": "Medicine Man",
         "orientation": "h",
         "showlegend": true,
         "type": "scatter",
         "x": {
          "bdata": "ENutAg==",
          "dtype": "i4"
         },
         "xaxis": "x",
         "y": [
          "Drama"
         ],
         "yaxis": "y"
        },
        {
         "customdata": [
          [
           "1992-03-06"
          ]
         ],
         "hovertemplate": "movie_title=Blame it on the Bellboy<br>total_gross=%{x}<br>genre=%{y}<br>release_date=%{customdata[0]}<extra></extra>",
         "legendgroup": "Blame it on the Bellboy",
         "marker": {
          "color": "#FF97FF",
          "symbol": "circle"
         },
         "mode": "markers",
         "name": "Blame it on the Bellboy",
         "orientation": "h",
         "showlegend": true,
         "type": "scatter",
         "x": {
          "bdata": "Lx0sAA==",
          "dtype": "i4"
         },
         "xaxis": "x",
         "y": [
          "Comedy"
         ],
         "yaxis": "y"
        },
        {
         "customdata": [
          [
           "1992-03-20"
          ]
         ],
         "hovertemplate": "movie_title=Noises Off...<br>total_gross=%{x}<br>genre=%{y}<br>release_date=%{customdata[0]}<extra></extra>",
         "legendgroup": "Noises Off...",
         "marker": {
          "color": "#FECB52",
          "symbol": "circle"
         },
         "mode": "markers",
         "name": "Noises Off...",
         "orientation": "h",
         "showlegend": true,
         "type": "scatter",
         "x": {
          "bdata": "1MoiAA==",
          "dtype": "i4"
         },
         "xaxis": "x",
         "y": [
          "Comedy"
         ],
         "yaxis": "y"
        },
        {
         "customdata": [
          [
           "1992-04-03"
          ]
         ],
         "hovertemplate": "movie_title=Straight Talk<br>total_gross=%{x}<br>genre=%{y}<br>release_date=%{customdata[0]}<extra></extra>",
         "legendgroup": "Straight Talk",
         "marker": {
          "color": "#636efa",
          "symbol": "circle"
         },
         "mode": "markers",
         "name": "Straight Talk",
         "orientation": "h",
         "showlegend": true,
         "type": "scatter",
         "x": {
          "bdata": "s4RDAQ==",
          "dtype": "i4"
         },
         "xaxis": "x",
         "y": [
          "Comedy"
         ],
         "yaxis": "y"
        },
        {
         "customdata": [
          [
           "1992-04-08"
          ]
         ],
         "hovertemplate": "movie_title=Newsies<br>total_gross=%{x}<br>genre=%{y}<br>release_date=%{customdata[0]}<extra></extra>",
         "legendgroup": "Newsies",
         "marker": {
          "color": "#EF553B",
          "symbol": "circle"
         },
         "mode": "markers",
         "name": "Newsies",
         "orientation": "h",
         "showlegend": true,
         "type": "scatter",
         "x": {
          "bdata": "sEspAA==",
          "dtype": "i4"
         },
         "xaxis": "x",
         "y": [
          null
         ],
         "yaxis": "y"
        },
        {
         "customdata": [
          [
           "1992-04-24"
          ]
         ],
         "hovertemplate": "movie_title=Passed Away<br>total_gross=%{x}<br>genre=%{y}<br>release_date=%{customdata[0]}<extra></extra>",
         "legendgroup": "Passed Away",
         "marker": {
          "color": "#00cc96",
          "symbol": "circle"
         },
         "mode": "markers",
         "name": "Passed Away",
         "orientation": "h",
         "showlegend": true,
         "type": "scatter",
         "x": {
          "bdata": "SYE9AA==",
          "dtype": "i4"
         },
         "xaxis": "x",
         "y": [
          null
         ],
         "yaxis": "y"
        },
        {
         "customdata": [
          [
           "1992-05-22"
          ]
         ],
         "hovertemplate": "movie_title=Encino Man<br>total_gross=%{x}<br>genre=%{y}<br>release_date=%{customdata[0]}<extra></extra>",
         "legendgroup": "Encino Man",
         "marker": {
          "color": "#ab63fa",
          "symbol": "circle"
         },
         "mode": "markers",
         "name": "Encino Man",
         "orientation": "h",
         "showlegend": true,
         "type": "scatter",
         "x": {
          "bdata": "KjljAg==",
          "dtype": "i4"
         },
         "xaxis": "x",
         "y": [
          "Comedy"
         ],
         "yaxis": "y"
        },
        {
         "customdata": [
          [
           "1992-05-29"
          ]
         ],
         "hovertemplate": "movie_title=Sister Act<br>total_gross=%{x}<br>genre=%{y}<br>release_date=%{customdata[0]}<extra></extra>",
         "legendgroup": "Sister Act",
         "marker": {
          "color": "#FFA15A",
          "symbol": "circle"
         },
         "mode": "markers",
         "name": "Sister Act",
         "orientation": "h",
         "showlegend": true,
         "type": "scatter",
         "x": {
          "bdata": "njRSCA==",
          "dtype": "i4"
         },
         "xaxis": "x",
         "y": [
          "Comedy"
         ],
         "yaxis": "y"
        },
        {
         "customdata": [
          [
           "1992-07-17"
          ]
         ],
         "hovertemplate": "movie_title=Honey I Blew Up the Kid<br>total_gross=%{x}<br>genre=%{y}<br>release_date=%{customdata[0]}<extra></extra>",
         "legendgroup": "Honey I Blew Up the Kid",
         "marker": {
          "color": "#19d3f3",
          "symbol": "circle"
         },
         "mode": "markers",
         "name": "Honey I Blew Up the Kid",
         "orientation": "h",
         "showlegend": true,
         "type": "scatter",
         "x": {
          "bdata": "NB5/Aw==",
          "dtype": "i4"
         },
         "xaxis": "x",
         "y": [
          "Comedy"
         ],
         "yaxis": "y"
        },
        {
         "customdata": [
          [
           "1992-07-17"
          ]
         ],
         "hovertemplate": "movie_title=A Stranger Among Us<br>total_gross=%{x}<br>genre=%{y}<br>release_date=%{customdata[0]}<extra></extra>",
         "legendgroup": "A Stranger Among Us",
         "marker": {
          "color": "#FF6692",
          "symbol": "circle"
         },
         "mode": "markers",
         "name": "A Stranger Among Us",
         "orientation": "h",
         "showlegend": true,
         "type": "scatter",
         "x": {
          "bdata": "cmy7AA==",
          "dtype": "i4"
         },
         "xaxis": "x",
         "y": [
          "Drama"
         ],
         "yaxis": "y"
        },
        {
         "customdata": [
          [
           "1992-08-07"
          ]
         ],
         "hovertemplate": "movie_title=3 Ninjas<br>total_gross=%{x}<br>genre=%{y}<br>release_date=%{customdata[0]}<extra></extra>",
         "legendgroup": "3 Ninjas",
         "marker": {
          "color": "#B6E880",
          "symbol": "circle"
         },
         "mode": "markers",
         "name": "3 Ninjas",
         "orientation": "h",
         "showlegend": true,
         "type": "scatter",
         "x": {
          "bdata": "oO66AQ==",
          "dtype": "i4"
         },
         "xaxis": "x",
         "y": [
          "Action"
         ],
         "yaxis": "y"
        },
        {
         "customdata": [
          [
           "1992-08-21"
          ]
         ],
         "hovertemplate": "movie_title=A Gun in Betty Lou's Handbag<br>total_gross=%{x}<br>genre=%{y}<br>release_date=%{customdata[0]}<extra></extra>",
         "legendgroup": "A Gun in Betty Lou's Handbag",
         "marker": {
          "color": "#FF97FF",
          "symbol": "circle"
         },
         "mode": "markers",
         "name": "A Gun in Betty Lou's Handbag",
         "orientation": "h",
         "showlegend": true,
         "type": "scatter",
         "x": {
          "bdata": "JM02AA==",
          "dtype": "i4"
         },
         "xaxis": "x",
         "y": [
          null
         ],
         "yaxis": "y"
        },
        {
         "customdata": [
          [
           "1992-09-18"
          ]
         ],
         "hovertemplate": "movie_title=Captain Ron<br>total_gross=%{x}<br>genre=%{y}<br>release_date=%{customdata[0]}<extra></extra>",
         "legendgroup": "Captain Ron",
         "marker": {
          "color": "#FECB52",
          "symbol": "circle"
         },
         "mode": "markers",
         "name": "Captain Ron",
         "orientation": "h",
         "showlegend": true,
         "type": "scatter",
         "x": {
          "bdata": "UZlXAQ==",
          "dtype": "i4"
         },
         "xaxis": "x",
         "y": [
          "Comedy"
         ],
         "yaxis": "y"
        },
        {
         "customdata": [
          [
           "1992-09-18"
          ]
         ],
         "hovertemplate": "movie_title=Sarafina!<br>total_gross=%{x}<br>genre=%{y}<br>release_date=%{customdata[0]}<extra></extra>",
         "legendgroup": "Sarafina!",
         "marker": {
          "color": "#636efa",
          "symbol": "circle"
         },
         "mode": "markers",
         "name": "Sarafina!",
         "orientation": "h",
         "showlegend": true,
         "type": "scatter",
         "x": {
          "bdata": "AnxvAA==",
          "dtype": "i4"
         },
         "xaxis": "x",
         "y": [
          "Drama"
         ],
         "yaxis": "y"
        },
        {
         "customdata": [
          [
           "1992-09-25"
          ]
         ],
         "hovertemplate": "movie_title=Innocent Blood<br>total_gross=%{x}<br>genre=%{y}<br>release_date=%{customdata[0]}<extra></extra>",
         "legendgroup": "Innocent Blood",
         "marker": {
          "color": "#EF553B",
          "symbol": "circle"
         },
         "mode": "markers",
         "name": "Innocent Blood",
         "orientation": "h",
         "showlegend": true,
         "type": "scatter",
         "x": {
          "bdata": "/2xKAA==",
          "dtype": "i4"
         },
         "xaxis": "x",
         "y": [
          "Horror"
         ],
         "yaxis": "y"
        },
        {
         "customdata": [
          [
           "1992-10-02"
          ]
         ],
         "hovertemplate": "movie_title=The Mighty Ducks<br>total_gross=%{x}<br>genre=%{y}<br>release_date=%{customdata[0]}<extra></extra>",
         "legendgroup": "The Mighty Ducks",
         "marker": {
          "color": "#00cc96",
          "symbol": "circle"
         },
         "mode": "markers",
         "name": "The Mighty Ducks",
         "orientation": "h",
         "showlegend": true,
         "type": "scatter",
         "x": {
          "bdata": "UWsGAw==",
          "dtype": "i4"
         },
         "xaxis": "x",
         "y": [
          "Comedy"
         ],
         "yaxis": "y"
        },
        {
         "customdata": [
          [
           "1992-10-09"
          ]
         ],
         "hovertemplate": "movie_title=1492: Conquest of Paradise<br>total_gross=%{x}<br>genre=%{y}<br>release_date=%{customdata[0]}<extra></extra>",
         "legendgroup": "1492: Conquest of Paradise",
         "marker": {
          "color": "#ab63fa",
          "symbol": "circle"
         },
         "mode": "markers",
         "name": "1492: Conquest of Paradise",
         "orientation": "h",
         "showlegend": true,
         "type": "scatter",
         "x": {
          "bdata": "i1RsAA==",
          "dtype": "i4"
         },
         "xaxis": "x",
         "y": [
          "Adventure"
         ],
         "yaxis": "y"
        },
        {
         "customdata": [
          [
           "1992-10-16"
          ]
         ],
         "hovertemplate": "movie_title=Consenting Adults<br>total_gross=%{x}<br>genre=%{y}<br>release_date=%{customdata[0]}<extra></extra>",
         "legendgroup": "Consenting Adults",
         "marker": {
          "color": "#FFA15A",
          "symbol": "circle"
         },
         "mode": "markers",
         "name": "Consenting Adults",
         "orientation": "h",
         "showlegend": true,
         "type": "scatter",
         "x": {
          "bdata": "sHZJAQ==",
          "dtype": "i4"
         },
         "xaxis": "x",
         "y": [
          "Drama"
         ],
         "yaxis": "y"
        },
        {
         "customdata": [
          [
           "1992-11-11"
          ]
         ],
         "hovertemplate": "movie_title=Aladdin<br>total_gross=%{x}<br>genre=%{y}<br>release_date=%{customdata[0]}<extra></extra>",
         "legendgroup": "Aladdin",
         "marker": {
          "color": "#19d3f3",
          "symbol": "circle"
         },
         "mode": "markers",
         "name": "Aladdin",
         "orientation": "h",
         "showlegend": true,
         "type": "scatter",
         "x": {
          "bdata": "S4D0DA==",
          "dtype": "i4"
         },
         "xaxis": "x",
         "y": [
          "Comedy"
         ],
         "yaxis": "y"
        },
        {
         "customdata": [
          [
           "1992-12-04"
          ]
         ],
         "hovertemplate": "movie_title=The Distinguished Gentleman<br>total_gross=%{x}<br>genre=%{y}<br>release_date=%{customdata[0]}<extra></extra>",
         "legendgroup": "The Distinguished Gentleman",
         "marker": {
          "color": "#FF6692",
          "symbol": "circle"
         },
         "mode": "markers",
         "name": "The Distinguished Gentleman",
         "orientation": "h",
         "showlegend": true,
         "type": "scatter",
         "x": {
          "bdata": "ConEAg==",
          "dtype": "i4"
         },
         "xaxis": "x",
         "y": [
          "Comedy"
         ],
         "yaxis": "y"
        },
        {
         "customdata": [
          [
           "1992-12-11"
          ]
         ],
         "hovertemplate": "movie_title=The Muppet Christmas Carol<br>total_gross=%{x}<br>genre=%{y}<br>release_date=%{customdata[0]}<extra></extra>",
         "legendgroup": "The Muppet Christmas Carol",
         "marker": {
          "color": "#B6E880",
          "symbol": "circle"
         },
         "mode": "markers",
         "name": "The Muppet Christmas Carol",
         "orientation": "h",
         "showlegend": true,
         "type": "scatter",
         "x": {
          "bdata": "Y0igAQ==",
          "dtype": "i4"
         },
         "xaxis": "x",
         "y": [
          "Comedy"
         ],
         "yaxis": "y"
        },
        {
         "customdata": [
          [
           "1993-01-15"
          ]
         ],
         "hovertemplate": "movie_title=Alive<br>total_gross=%{x}<br>genre=%{y}<br>release_date=%{customdata[0]}<extra></extra>",
         "legendgroup": "Alive",
         "marker": {
          "color": "#FF97FF",
          "symbol": "circle"
         },
         "mode": "markers",
         "name": "Alive",
         "orientation": "h",
         "showlegend": true,
         "type": "scatter",
         "x": {
          "bdata": "luMpAg==",
          "dtype": "i4"
         },
         "xaxis": "x",
         "y": [
          "Adventure"
         ],
         "yaxis": "y"
        },
        {
         "customdata": [
          [
           "1993-01-22"
          ]
         ],
         "hovertemplate": "movie_title=Aspen Extreme<br>total_gross=%{x}<br>genre=%{y}<br>release_date=%{customdata[0]}<extra></extra>",
         "legendgroup": "Aspen Extreme",
         "marker": {
          "color": "#FECB52",
          "symbol": "circle"
         },
         "mode": "markers",
         "name": "Aspen Extreme",
         "orientation": "h",
         "showlegend": true,
         "type": "scatter",
         "x": {
          "bdata": "PK53AA==",
          "dtype": "i4"
         },
         "xaxis": "x",
         "y": [
          "Romantic Comedy"
         ],
         "yaxis": "y"
        },
        {
         "customdata": [
          [
           "1993-02-03"
          ]
         ],
         "hovertemplate": "movie_title=Homeward Bound: The Incredible Journey<br>total_gross=%{x}<br>genre=%{y}<br>release_date=%{customdata[0]}<extra></extra>",
         "legendgroup": "Homeward Bound: The Incredible Journey",
         "marker": {
          "color": "#636efa",
          "symbol": "circle"
         },
         "mode": "markers",
         "name": "Homeward Bound: The Incredible Journey",
         "orientation": "h",
         "showlegend": true,
         "type": "scatter",
         "x": {
          "bdata": "bFN+Ag==",
          "dtype": "i4"
         },
         "xaxis": "x",
         "y": [
          "Adventure"
         ],
         "yaxis": "y"
        },
        {
         "customdata": [
          [
           "1993-02-03"
          ]
         ],
         "hovertemplate": "movie_title=The Cemetery Club<br>total_gross=%{x}<br>genre=%{y}<br>release_date=%{customdata[0]}<extra></extra>",
         "legendgroup": "The Cemetery Club",
         "marker": {
          "color": "#EF553B",
          "symbol": "circle"
         },
         "mode": "markers",
         "name": "The Cemetery Club",
         "orientation": "h",
         "showlegend": true,
         "type": "scatter",
         "x": {
          "bdata": "BTNVAA==",
          "dtype": "i4"
         },
         "xaxis": "x",
         "y": [
          "Comedy"
         ],
         "yaxis": "y"
        },
        {
         "customdata": [
          [
           "1993-03-05"
          ]
         ],
         "hovertemplate": "movie_title=Swing Kids<br>total_gross=%{x}<br>genre=%{y}<br>release_date=%{customdata[0]}<extra></extra>",
         "legendgroup": "Swing Kids",
         "marker": {
          "color": "#00cc96",
          "symbol": "circle"
         },
         "mode": "markers",
         "name": "Swing Kids",
         "orientation": "h",
         "showlegend": true,
         "type": "scatter",
         "x": {
          "bdata": "VvBVAA==",
          "dtype": "i4"
         },
         "xaxis": "x",
         "y": [
          "Musical"
         ],
         "yaxis": "y"
        },
        {
         "customdata": [
          [
           "1993-03-12"
          ]
         ],
         "hovertemplate": "movie_title=A Far Off Place<br>total_gross=%{x}<br>genre=%{y}<br>release_date=%{customdata[0]}<extra></extra>",
         "legendgroup": "A Far Off Place",
         "marker": {
          "color": "#ab63fa",
          "symbol": "circle"
         },
         "mode": "markers",
         "name": "A Far Off Place",
         "orientation": "h",
         "showlegend": true,
         "type": "scatter",
         "x": {
          "bdata": "gLLEAA==",
          "dtype": "i4"
         },
         "xaxis": "x",
         "y": [
          "Adventure"
         ],
         "yaxis": "y"
        },
        {
         "customdata": [
          [
           "1993-03-26"
          ]
         ],
         "hovertemplate": "movie_title=Born Yesterday<br>total_gross=%{x}<br>genre=%{y}<br>release_date=%{customdata[0]}<extra></extra>",
         "legendgroup": "Born Yesterday",
         "marker": {
          "color": "#FFA15A",
          "symbol": "circle"
         },
         "mode": "markers",
         "name": "Born Yesterday",
         "orientation": "h",
         "showlegend": true,
         "type": "scatter",
         "x": {
          "bdata": "8gEPAQ==",
          "dtype": "i4"
         },
         "xaxis": "x",
         "y": [
          "Romantic Comedy"
         ],
         "yaxis": "y"
        },
        {
         "customdata": [
          [
           "1993-04-02"
          ]
         ],
         "hovertemplate": "movie_title=The Adventures of Huck Finn<br>total_gross=%{x}<br>genre=%{y}<br>release_date=%{customdata[0]}<extra></extra>",
         "legendgroup": "The Adventures of Huck Finn",
         "marker": {
          "color": "#19d3f3",
          "symbol": "circle"
         },
         "mode": "markers",
         "name": "The Adventures of Huck Finn",
         "orientation": "h",
         "showlegend": true,
         "type": "scatter",
         "x": {
          "bdata": "qspvAQ==",
          "dtype": "i4"
         },
         "xaxis": "x",
         "y": [
          "Adventure"
         ],
         "yaxis": "y"
        },
        {
         "customdata": [
          [
           "1993-04-16"
          ]
         ],
         "hovertemplate": "movie_title=Bound by Honor<br>total_gross=%{x}<br>genre=%{y}<br>release_date=%{customdata[0]}<extra></extra>",
         "legendgroup": "Bound by Honor",
         "marker": {
          "color": "#FF6692",
          "symbol": "circle"
         },
         "mode": "markers",
         "name": "Bound by Honor",
         "orientation": "h",
         "showlegend": true,
         "type": "scatter",
         "x": {
          "bdata": "x5xEAA==",
          "dtype": "i4"
         },
         "xaxis": "x",
         "y": [
          null
         ],
         "yaxis": "y"
        },
        {
         "customdata": [
          [
           "1993-04-23"
          ]
         ],
         "hovertemplate": "movie_title=Indian Summer<br>total_gross=%{x}<br>genre=%{y}<br>release_date=%{customdata[0]}<extra></extra>",
         "legendgroup": "Indian Summer",
         "marker": {
          "color": "#B6E880",
          "symbol": "circle"
         },
         "mode": "markers",
         "name": "Indian Summer",
         "orientation": "h",
         "showlegend": true,
         "type": "scatter",
         "x": {
          "bdata": "m5PgAA==",
          "dtype": "i4"
         },
         "xaxis": "x",
         "y": [
          "Comedy"
         ],
         "yaxis": "y"
        },
        {
         "customdata": [
          [
           "1993-05-28"
          ]
         ],
         "hovertemplate": "movie_title=Super Mario Bros.<br>total_gross=%{x}<br>genre=%{y}<br>release_date=%{customdata[0]}<extra></extra>",
         "legendgroup": "Super Mario Bros.",
         "marker": {
          "color": "#FF97FF",
          "symbol": "circle"
         },
         "mode": "markers",
         "name": "Super Mario Bros.",
         "orientation": "h",
         "showlegend": true,
         "type": "scatter",
         "x": {
          "bdata": "axE+AQ==",
          "dtype": "i4"
         },
         "xaxis": "x",
         "y": [
          "Action"
         ],
         "yaxis": "y"
        },
        {
         "customdata": [
          [
           "1993-06-04"
          ]
         ],
         "hovertemplate": "movie_title=Guilty as Sin<br>total_gross=%{x}<br>genre=%{y}<br>release_date=%{customdata[0]}<extra></extra>",
         "legendgroup": "Guilty as Sin",
         "marker": {
          "color": "#FECB52",
          "symbol": "circle"
         },
         "mode": "markers",
         "name": "Guilty as Sin",
         "orientation": "h",
         "showlegend": true,
         "type": "scatter",
         "x": {
          "bdata": "STFZAQ==",
          "dtype": "i4"
         },
         "xaxis": "x",
         "y": [
          "Thriller/Suspense"
         ],
         "yaxis": "y"
        },
        {
         "customdata": [
          [
           "1993-06-04"
          ]
         ],
         "hovertemplate": "movie_title=Life With Mikey<br>total_gross=%{x}<br>genre=%{y}<br>release_date=%{customdata[0]}<extra></extra>",
         "legendgroup": "Life With Mikey",
         "marker": {
          "color": "#636efa",
          "symbol": "circle"
         },
         "mode": "markers",
         "name": "Life With Mikey",
         "orientation": "h",
         "showlegend": true,
         "type": "scatter",
         "x": {
          "bdata": "bXC8AA==",
          "dtype": "i4"
         },
         "xaxis": "x",
         "y": [
          "Comedy"
         ],
         "yaxis": "y"
        },
        {
         "customdata": [
          [
           "1993-06-09"
          ]
         ],
         "hovertemplate": "movie_title=What's Love Got to Do With It<br>total_gross=%{x}<br>genre=%{y}<br>release_date=%{customdata[0]}<extra></extra>",
         "legendgroup": "What's Love Got to Do With It",
         "marker": {
          "color": "#EF553B",
          "symbol": "circle"
         },
         "mode": "markers",
         "name": "What's Love Got to Do With It",
         "orientation": "h",
         "showlegend": true,
         "type": "scatter",
         "x": {
          "bdata": "HKJUAg==",
          "dtype": "i4"
         },
         "xaxis": "x",
         "y": [
          "Drama"
         ],
         "yaxis": "y"
        },
        {
         "customdata": [
          [
           "1993-07-02"
          ]
         ],
         "hovertemplate": "movie_title=Son in Law<br>total_gross=%{x}<br>genre=%{y}<br>release_date=%{customdata[0]}<extra></extra>",
         "legendgroup": "Son in Law",
         "marker": {
          "color": "#00cc96",
          "symbol": "circle"
         },
         "mode": "markers",
         "name": "Son in Law",
         "orientation": "h",
         "showlegend": true,
         "type": "scatter",
         "x": {
          "bdata": "AZOMAQ==",
          "dtype": "i4"
         },
         "xaxis": "x",
         "y": [
          "Comedy"
         ],
         "yaxis": "y"
        },
        {
         "customdata": [
          [
           "1993-07-16"
          ]
         ],
         "hovertemplate": "movie_title=Hocus Pocus<br>total_gross=%{x}<br>genre=%{y}<br>release_date=%{customdata[0]}<extra></extra>",
         "legendgroup": "Hocus Pocus",
         "marker": {
          "color": "#ab63fa",
          "symbol": "circle"
         },
         "mode": "markers",
         "name": "Hocus Pocus",
         "orientation": "h",
         "showlegend": true,
         "type": "scatter",
         "x": {
          "bdata": "65dYAg==",
          "dtype": "i4"
         },
         "xaxis": "x",
         "y": [
          "Comedy"
         ],
         "yaxis": "y"
        },
        {
         "customdata": [
          [
           "1993-07-23"
          ]
         ],
         "hovertemplate": "movie_title=Another Stakeout<br>total_gross=%{x}<br>genre=%{y}<br>release_date=%{customdata[0]}<extra></extra>",
         "legendgroup": "Another Stakeout",
         "marker": {
          "color": "#FFA15A",
          "symbol": "circle"
         },
         "mode": "markers",
         "name": "Another Stakeout",
         "orientation": "h",
         "showlegend": true,
         "type": "scatter",
         "x": {
          "bdata": "8NAyAQ==",
          "dtype": "i4"
         },
         "xaxis": "x",
         "y": [
          "Comedy"
         ],
         "yaxis": "y"
        },
        {
         "customdata": [
          [
           "1993-08-06"
          ]
         ],
         "hovertemplate": "movie_title=My Boyfriend's Back<br>total_gross=%{x}<br>genre=%{y}<br>release_date=%{customdata[0]}<extra></extra>",
         "legendgroup": "My Boyfriend's Back",
         "marker": {
          "color": "#19d3f3",
          "symbol": "circle"
         },
         "mode": "markers",
         "name": "My Boyfriend's Back",
         "orientation": "h",
         "showlegend": true,
         "type": "scatter",
         "x": {
          "bdata": "wh0xAA==",
          "dtype": "i4"
         },
         "xaxis": "x",
         "y": [
          null
         ],
         "yaxis": "y"
        },
        {
         "customdata": [
          [
           "1993-08-27"
          ]
         ],
         "hovertemplate": "movie_title=Father Hood<br>total_gross=%{x}<br>genre=%{y}<br>release_date=%{customdata[0]}<extra></extra>",
         "legendgroup": "Father Hood",
         "marker": {
          "color": "#FF6692",
          "symbol": "circle"
         },
         "mode": "markers",
         "name": "Father Hood",
         "orientation": "h",
         "showlegend": true,
         "type": "scatter",
         "x": {
          "bdata": "a94xAA==",
          "dtype": "i4"
         },
         "xaxis": "x",
         "y": [
          null
         ],
         "yaxis": "y"
        },
        {
         "customdata": [
          [
           "1993-09-08"
          ]
         ],
         "hovertemplate": "movie_title=The Joy Luck Club<br>total_gross=%{x}<br>genre=%{y}<br>release_date=%{customdata[0]}<extra></extra>",
         "legendgroup": "The Joy Luck Club",
         "marker": {
          "color": "#B6E880",
          "symbol": "circle"
         },
         "mode": "markers",
         "name": "The Joy Luck Club",
         "orientation": "h",
         "showlegend": true,
         "type": "scatter",
         "x": {
          "bdata": "MFb0AQ==",
          "dtype": "i4"
         },
         "xaxis": "x",
         "y": [
          "Drama"
         ],
         "yaxis": "y"
        },
        {
         "customdata": [
          [
           "1993-09-10"
          ]
         ],
         "hovertemplate": "movie_title=Money for Nothing<br>total_gross=%{x}<br>genre=%{y}<br>release_date=%{customdata[0]}<extra></extra>",
         "legendgroup": "Money for Nothing",
         "marker": {
          "color": "#FF97FF",
          "symbol": "circle"
         },
         "mode": "markers",
         "name": "Money for Nothing",
         "orientation": "h",
         "showlegend": true,
         "type": "scatter",
         "x": {
          "bdata": "WPEPAA==",
          "dtype": "i4"
         },
         "xaxis": "x",
         "y": [
          "Comedy"
         ],
         "yaxis": "y"
        },
        {
         "customdata": [
          [
           "1993-09-24"
          ]
         ],
         "hovertemplate": "movie_title=The Program<br>total_gross=%{x}<br>genre=%{y}<br>release_date=%{customdata[0]}<extra></extra>",
         "legendgroup": "The Program",
         "marker": {
          "color": "#FECB52",
          "symbol": "circle"
         },
         "mode": "markers",
         "name": "The Program",
         "orientation": "h",
         "showlegend": true,
         "type": "scatter",
         "x": {
          "bdata": "mJhfAQ==",
          "dtype": "i4"
         },
         "xaxis": "x",
         "y": [
          "Action"
         ],
         "yaxis": "y"
        },
        {
         "customdata": [
          [
           "1993-10-01"
          ]
         ],
         "hovertemplate": "movie_title=Cool Runnings<br>total_gross=%{x}<br>genre=%{y}<br>release_date=%{customdata[0]}<extra></extra>",
         "legendgroup": "Cool Runnings",
         "marker": {
          "color": "#636efa",
          "symbol": "circle"
         },
         "mode": "markers",
         "name": "Cool Runnings",
         "orientation": "h",
         "showlegend": true,
         "type": "scatter",
         "x": {
          "bdata": "x6kaBA==",
          "dtype": "i4"
         },
         "xaxis": "x",
         "y": [
          "Comedy"
         ],
         "yaxis": "y"
        },
        {
         "customdata": [
          [
           "1993-10-13"
          ]
         ],
         "hovertemplate": "movie_title=The Nightmare Before Christmas<br>total_gross=%{x}<br>genre=%{y}<br>release_date=%{customdata[0]}<extra></extra>",
         "legendgroup": "The Nightmare Before Christmas",
         "marker": {
          "color": "#EF553B",
          "symbol": "circle"
         },
         "mode": "markers",
         "name": "The Nightmare Before Christmas",
         "orientation": "h",
         "showlegend": true,
         "type": "scatter",
         "x": {
          "bdata": "fisBAw==",
          "dtype": "i4"
         },
         "xaxis": "x",
         "y": [
          "Musical"
         ],
         "yaxis": "y"
        },
        {
         "customdata": [
          [
           "1993-11-12"
          ]
         ],
         "hovertemplate": "movie_title=The Three Musketeers<br>total_gross=%{x}<br>genre=%{y}<br>release_date=%{customdata[0]}<extra></extra>",
         "legendgroup": "The Three Musketeers",
         "marker": {
          "color": "#00cc96",
          "symbol": "circle"
         },
         "mode": "markers",
         "name": "The Three Musketeers",
         "orientation": "h",
         "showlegend": true,
         "type": "scatter",
         "x": {
          "bdata": "bdAyAw==",
          "dtype": "i4"
         },
         "xaxis": "x",
         "y": [
          "Adventure"
         ],
         "yaxis": "y"
        },
        {
         "customdata": [
          [
           "1993-12-10"
          ]
         ],
         "hovertemplate": "movie_title=Sister Act 2 Back in the Habit<br>total_gross=%{x}<br>genre=%{y}<br>release_date=%{customdata[0]}<extra></extra>",
         "legendgroup": "Sister Act 2 Back in the Habit",
         "marker": {
          "color": "#ab63fa",
          "symbol": "circle"
         },
         "mode": "markers",
         "name": "Sister Act 2 Back in the Habit",
         "orientation": "h",
         "showlegend": true,
         "type": "scatter",
         "x": {
          "bdata": "dZ5qAw==",
          "dtype": "i4"
         },
         "xaxis": "x",
         "y": [
          "Comedy"
         ],
         "yaxis": "y"
        },
        {
         "customdata": [
          [
           "1993-12-25"
          ]
         ],
         "hovertemplate": "movie_title=Tombstone<br>total_gross=%{x}<br>genre=%{y}<br>release_date=%{customdata[0]}<extra></extra>",
         "legendgroup": "Tombstone",
         "marker": {
          "color": "#FFA15A",
          "symbol": "circle"
         },
         "mode": "markers",
         "name": "Tombstone",
         "orientation": "h",
         "showlegend": true,
         "type": "scatter",
         "x": {
          "bdata": "6TJeAw==",
          "dtype": "i4"
         },
         "xaxis": "x",
         "y": [
          "Western"
         ],
         "yaxis": "y"
        },
        {
         "customdata": [
          [
           "1994-01-07"
          ]
         ],
         "hovertemplate": "movie_title=The Air Up There<br>total_gross=%{x}<br>genre=%{y}<br>release_date=%{customdata[0]}<extra></extra>",
         "legendgroup": "The Air Up There",
         "marker": {
          "color": "#19d3f3",
          "symbol": "circle"
         },
         "mode": "markers",
         "name": "The Air Up There",
         "orientation": "h",
         "showlegend": true,
         "type": "scatter",
         "x": {
          "bdata": "Zx09AQ==",
          "dtype": "i4"
         },
         "xaxis": "x",
         "y": [
          "Comedy"
         ],
         "yaxis": "y"
        },
        {
         "customdata": [
          [
           "1994-01-07"
          ]
         ],
         "hovertemplate": "movie_title=Cabin Boy<br>total_gross=%{x}<br>genre=%{y}<br>release_date=%{customdata[0]}<extra></extra>",
         "legendgroup": "Cabin Boy",
         "marker": {
          "color": "#FF6692",
          "symbol": "circle"
         },
         "mode": "markers",
         "name": "Cabin Boy",
         "orientation": "h",
         "showlegend": true,
         "type": "scatter",
         "x": {
          "bdata": "tfA0AA==",
          "dtype": "i4"
         },
         "xaxis": "x",
         "y": [
          "Comedy"
         ],
         "yaxis": "y"
        },
        {
         "customdata": [
          [
           "1994-01-14"
          ]
         ],
         "hovertemplate": "movie_title=Iron Will<br>total_gross=%{x}<br>genre=%{y}<br>release_date=%{customdata[0]}<extra></extra>",
         "legendgroup": "Iron Will",
         "marker": {
          "color": "#B6E880",
          "symbol": "circle"
         },
         "mode": "markers",
         "name": "Iron Will",
         "orientation": "h",
         "showlegend": true,
         "type": "scatter",
         "x": {
          "bdata": "3646AQ==",
          "dtype": "i4"
         },
         "xaxis": "x",
         "y": [
          "Drama"
         ],
         "yaxis": "y"
        },
        {
         "customdata": [
          [
           "1994-01-28"
          ]
         ],
         "hovertemplate": "movie_title=Red Rock West<br>total_gross=%{x}<br>genre=%{y}<br>release_date=%{customdata[0]}<extra></extra>",
         "legendgroup": "Red Rock West",
         "marker": {
          "color": "#FF97FF",
          "symbol": "circle"
         },
         "mode": "markers",
         "name": "Red Rock West",
         "orientation": "h",
         "showlegend": true,
         "type": "scatter",
         "x": {
          "bdata": "ly8mAA==",
          "dtype": "i4"
         },
         "xaxis": "x",
         "y": [
          null
         ],
         "yaxis": "y"
        },
        {
         "customdata": [
          [
           "1994-02-11"
          ]
         ],
         "hovertemplate": "movie_title=Blank Check<br>total_gross=%{x}<br>genre=%{y}<br>release_date=%{customdata[0]}<extra></extra>",
         "legendgroup": "Blank Check",
         "marker": {
          "color": "#FECB52",
          "symbol": "circle"
         },
         "mode": "markers",
         "name": "Blank Check",
         "orientation": "h",
         "showlegend": true,
         "type": "scatter",
         "x": {
          "bdata": "yoTSAQ==",
          "dtype": "i4"
         },
         "xaxis": "x",
         "y": [
          "Comedy"
         ],
         "yaxis": "y"
        },
        {
         "customdata": [
          [
           "1994-03-04"
          ]
         ],
         "hovertemplate": "movie_title=Angie<br>total_gross=%{x}<br>genre=%{y}<br>release_date=%{customdata[0]}<extra></extra>",
         "legendgroup": "Angie",
         "marker": {
          "color": "#636efa",
          "symbol": "circle"
         },
         "mode": "markers",
         "name": "Angie",
         "orientation": "h",
         "showlegend": true,
         "type": "scatter",
         "x": {
          "bdata": "/S2NAA==",
          "dtype": "i4"
         },
         "xaxis": "x",
         "y": [
          "Comedy"
         ],
         "yaxis": "y"
        },
        {
         "customdata": [
          [
           "1994-03-09"
          ]
         ],
         "hovertemplate": "movie_title=The Ref<br>total_gross=%{x}<br>genre=%{y}<br>release_date=%{customdata[0]}<extra></extra>",
         "legendgroup": "The Ref",
         "marker": {
          "color": "#EF553B",
          "symbol": "circle"
         },
         "mode": "markers",
         "name": "The Ref",
         "orientation": "h",
         "showlegend": true,
         "type": "scatter",
         "x": {
          "bdata": "vdGsAA==",
          "dtype": "i4"
         },
         "xaxis": "x",
         "y": [
          "Comedy"
         ],
         "yaxis": "y"
        },
        {
         "customdata": [
          [
           "1994-03-25"
          ]
         ],
         "hovertemplate": "movie_title=D2: The Mighty Ducks<br>total_gross=%{x}<br>genre=%{y}<br>release_date=%{customdata[0]}<extra></extra>",
         "legendgroup": "D2: The Mighty Ducks",
         "marker": {
          "color": "#00cc96",
          "symbol": "circle"
         },
         "mode": "markers",
         "name": "D2: The Mighty Ducks",
         "orientation": "h",
         "showlegend": true,
         "type": "scatter",
         "x": {
          "bdata": "bt23Ag==",
          "dtype": "i4"
         },
         "xaxis": "x",
         "y": [
          "Comedy"
         ],
         "yaxis": "y"
        },
        {
         "customdata": [
          [
           "1994-04-08"
          ]
         ],
         "hovertemplate": "movie_title=Holy Matrimony<br>total_gross=%{x}<br>genre=%{y}<br>release_date=%{customdata[0]}<extra></extra>",
         "legendgroup": "Holy Matrimony",
         "marker": {
          "color": "#ab63fa",
          "symbol": "circle"
         },
         "mode": "markers",
         "name": "Holy Matrimony",
         "orientation": "h",
         "showlegend": true,
         "type": "scatter",
         "x": {
          "bdata": "EuIKAA==",
          "dtype": "i4"
         },
         "xaxis": "x",
         "y": [
          "Comedy"
         ],
         "yaxis": "y"
        },
        {
         "customdata": [
          [
           "1994-04-15"
          ]
         ],
         "hovertemplate": "movie_title=White Fang 2: Myth of the White Wolf<br>total_gross=%{x}<br>genre=%{y}<br>release_date=%{customdata[0]}<extra></extra>",
         "legendgroup": "White Fang 2: Myth of the White Wolf",
         "marker": {
          "color": "#FFA15A",
          "symbol": "circle"
         },
         "mode": "markers",
         "name": "White Fang 2: Myth of the White Wolf",
         "orientation": "h",
         "showlegend": true,
         "type": "scatter",
         "x": {
          "bdata": "D42FAA==",
          "dtype": "i4"
         },
         "xaxis": "x",
         "y": [
          "Adventure"
         ],
         "yaxis": "y"
        },
        {
         "customdata": [
          [
           "1994-04-22"
          ]
         ],
         "hovertemplate": "movie_title=The Inkwell<br>total_gross=%{x}<br>genre=%{y}<br>release_date=%{customdata[0]}<extra></extra>",
         "legendgroup": "The Inkwell",
         "marker": {
          "color": "#19d3f3",
          "symbol": "circle"
         },
         "mode": "markers",
         "name": "The Inkwell",
         "orientation": "h",
         "showlegend": true,
         "type": "scatter",
         "x": {
          "bdata": "u0OHAA==",
          "dtype": "i4"
         },
         "xaxis": "x",
         "y": [
          "Comedy"
         ],
         "yaxis": "y"
        },
        {
         "customdata": [
          [
           "1994-04-29"
          ]
         ],
         "hovertemplate": "movie_title=When a Man Loves a Woman<br>total_gross=%{x}<br>genre=%{y}<br>release_date=%{customdata[0]}<extra></extra>",
         "legendgroup": "When a Man Loves a Woman",
         "marker": {
          "color": "#FF6692",
          "symbol": "circle"
         },
         "mode": "markers",
         "name": "When a Man Loves a Woman",
         "orientation": "h",
         "showlegend": true,
         "type": "scatter",
         "x": {
          "bdata": "R0b7Ag==",
          "dtype": "i4"
         },
         "xaxis": "x",
         "y": [
          "Drama"
         ],
         "yaxis": "y"
        },
        {
         "customdata": [
          [
           "1994-05-06"
          ]
         ],
         "hovertemplate": "movie_title=3 Ninjas Kick Back<br>total_gross=%{x}<br>genre=%{y}<br>release_date=%{customdata[0]}<extra></extra>",
         "legendgroup": "3 Ninjas Kick Back",
         "marker": {
          "color": "#B6E880",
          "symbol": "circle"
         },
         "mode": "markers",
         "name": "3 Ninjas Kick Back",
         "orientation": "h",
         "showlegend": true,
         "type": "scatter",
         "x": {
          "bdata": "wDazAA==",
          "dtype": "i4"
         },
         "xaxis": "x",
         "y": [
          "Action"
         ],
         "yaxis": "y"
        },
        {
         "customdata": [
          [
           "1994-06-03"
          ]
         ],
         "hovertemplate": "movie_title=Renaissance Man<br>total_gross=%{x}<br>genre=%{y}<br>release_date=%{customdata[0]}<extra></extra>",
         "legendgroup": "Renaissance Man",
         "marker": {
          "color": "#FF97FF",
          "symbol": "circle"
         },
         "mode": "markers",
         "name": "Renaissance Man",
         "orientation": "h",
         "showlegend": true,
         "type": "scatter",
         "x": {
          "bdata": "Y9lwAQ==",
          "dtype": "i4"
         },
         "xaxis": "x",
         "y": [
          "Comedy"
         ],
         "yaxis": "y"
        },
        {
         "customdata": [
          [
           "1994-06-15"
          ]
         ],
         "hovertemplate": "movie_title=The Lion King<br>total_gross=%{x}<br>genre=%{y}<br>release_date=%{customdata[0]}<extra></extra>",
         "legendgroup": "The Lion King",
         "marker": {
          "color": "#FECB52",
          "symbol": "circle"
         },
         "mode": "markers",
         "name": "The Lion King",
         "orientation": "h",
         "showlegend": true,
         "type": "scatter",
         "x": {
          "bdata": "7BwzGQ==",
          "dtype": "i4"
         },
         "xaxis": "x",
         "y": [
          "Adventure"
         ],
         "yaxis": "y"
        },
        {
         "customdata": [
          [
           "1994-06-29"
          ]
         ],
         "hovertemplate": "movie_title=I Love Trouble<br>total_gross=%{x}<br>genre=%{y}<br>release_date=%{customdata[0]}<extra></extra>",
         "legendgroup": "I Love Trouble",
         "marker": {
          "color": "#636efa",
          "symbol": "circle"
         },
         "mode": "markers",
         "name": "I Love Trouble",
         "orientation": "h",
         "showlegend": true,
         "type": "scatter",
         "x": {
          "bdata": "shDWAQ==",
          "dtype": "i4"
         },
         "xaxis": "x",
         "y": [
          "Romantic Comedy"
         ],
         "yaxis": "y"
        },
        {
         "customdata": [
          [
           "1994-07-15"
          ]
         ],
         "hovertemplate": "movie_title=Angels in the Outfield<br>total_gross=%{x}<br>genre=%{y}<br>release_date=%{customdata[0]}<extra></extra>",
         "legendgroup": "Angels in the Outfield",
         "marker": {
          "color": "#EF553B",
          "symbol": "circle"
         },
         "mode": "markers",
         "name": "Angels in the Outfield",
         "orientation": "h",
         "showlegend": true,
         "type": "scatter",
         "x": {
          "bdata": "n43+Ag==",
          "dtype": "i4"
         },
         "xaxis": "x",
         "y": [
          "Comedy"
         ],
         "yaxis": "y"
        },
        {
         "customdata": [
          [
           "1994-08-12"
          ]
         ],
         "hovertemplate": "movie_title=In the Army Now<br>total_gross=%{x}<br>genre=%{y}<br>release_date=%{customdata[0]}<extra></extra>",
         "legendgroup": "In the Army Now",
         "marker": {
          "color": "#00cc96",
          "symbol": "circle"
         },
         "mode": "markers",
         "name": "In the Army Now",
         "orientation": "h",
         "showlegend": true,
         "type": "scatter",
         "x": {
          "bdata": "crG4AQ==",
          "dtype": "i4"
         },
         "xaxis": "x",
         "y": [
          "Comedy"
         ],
         "yaxis": "y"
        },
        {
         "customdata": [
          [
           "1994-08-19"
          ]
         ],
         "hovertemplate": "movie_title=Color of Night<br>total_gross=%{x}<br>genre=%{y}<br>release_date=%{customdata[0]}<extra></extra>",
         "legendgroup": "Color of Night",
         "marker": {
          "color": "#ab63fa",
          "symbol": "circle"
         },
         "mode": "markers",
         "name": "Color of Night",
         "orientation": "h",
         "showlegend": true,
         "type": "scatter",
         "x": {
          "bdata": "Rl4tAQ==",
          "dtype": "i4"
         },
         "xaxis": "x",
         "y": [
          "Thriller/Suspense"
         ],
         "yaxis": "y"
        },
        {
         "customdata": [
          [
           "1994-08-26"
          ]
         ],
         "hovertemplate": "movie_title=Camp Nowhere<br>total_gross=%{x}<br>genre=%{y}<br>release_date=%{customdata[0]}<extra></extra>",
         "legendgroup": "Camp Nowhere",
         "marker": {
          "color": "#FFA15A",
          "symbol": "circle"
         },
         "mode": "markers",
         "name": "Camp Nowhere",
         "orientation": "h",
         "showlegend": true,
         "type": "scatter",
         "x": {
          "bdata": "kVefAA==",
          "dtype": "i4"
         },
         "xaxis": "x",
         "y": [
          "Comedy"
         ],
         "yaxis": "y"
        },
        {
         "customdata": [
          [
           "1994-08-26"
          ]
         ],
         "hovertemplate": "movie_title=It's Pat<br>total_gross=%{x}<br>genre=%{y}<br>release_date=%{customdata[0]}<extra></extra>",
         "legendgroup": "It's Pat",
         "marker": {
          "color": "#19d3f3",
          "symbol": "circle"
         },
         "mode": "markers",
         "name": "It's Pat",
         "orientation": "h",
         "showlegend": true,
         "type": "scatter",
         "x": {
          "bdata": "lu0AAA==",
          "dtype": "i4"
         },
         "xaxis": "x",
         "y": [
          "Comedy"
         ],
         "yaxis": "y"
        },
        {
         "customdata": [
          [
           "1994-09-02"
          ]
         ],
         "hovertemplate": "movie_title=A Simple Twist of Fate<br>total_gross=%{x}<br>genre=%{y}<br>release_date=%{customdata[0]}<extra></extra>",
         "legendgroup": "A Simple Twist of Fate",
         "marker": {
          "color": "#FF6692",
          "symbol": "circle"
         },
         "mode": "markers",
         "name": "A Simple Twist of Fate",
         "orientation": "h",
         "showlegend": true,
         "type": "scatter",
         "x": {
          "bdata": "h/QzAA==",
          "dtype": "i4"
         },
         "xaxis": "x",
         "y": [
          "Drama"
         ],
         "yaxis": "y"
        },
        {
         "customdata": [
          [
           "1994-09-14"
          ]
         ],
         "hovertemplate": "movie_title=Quiz Show<br>total_gross=%{x}<br>genre=%{y}<br>release_date=%{customdata[0]}<extra></extra>",
         "legendgroup": "Quiz Show",
         "marker": {
          "color": "#B6E880",
          "symbol": "circle"
         },
         "mode": "markers",
         "name": "Quiz Show",
         "orientation": "h",
         "showlegend": true,
         "type": "scatter",
         "x": {
          "bdata": "Ujl6AQ==",
          "dtype": "i4"
         },
         "xaxis": "x",
         "y": [
          "Drama"
         ],
         "yaxis": "y"
        },
        {
         "customdata": [
          [
           "1994-09-23"
          ]
         ],
         "hovertemplate": "movie_title=Terminal Velocity<br>total_gross=%{x}<br>genre=%{y}<br>release_date=%{customdata[0]}<extra></extra>",
         "legendgroup": "Terminal Velocity",
         "marker": {
          "color": "#FF97FF",
          "symbol": "circle"
         },
         "mode": "markers",
         "name": "Terminal Velocity",
         "orientation": "h",
         "showlegend": true,
         "type": "scatter",
         "x": {
          "bdata": "tHL7AA==",
          "dtype": "i4"
         },
         "xaxis": "x",
         "y": [
          "Action"
         ],
         "yaxis": "y"
        },
        {
         "customdata": [
          [
           "1994-09-30"
          ]
         ],
         "hovertemplate": "movie_title=Ed Wood<br>total_gross=%{x}<br>genre=%{y}<br>release_date=%{customdata[0]}<extra></extra>",
         "legendgroup": "Ed Wood",
         "marker": {
          "color": "#FECB52",
          "symbol": "circle"
         },
         "mode": "markers",
         "name": "Ed Wood",
         "orientation": "h",
         "showlegend": true,
         "type": "scatter",
         "x": {
          "bdata": "cu9YAA==",
          "dtype": "i4"
         },
         "xaxis": "x",
         "y": [
          "Comedy"
         ],
         "yaxis": "y"
        },
        {
         "customdata": [
          [
           "1994-10-21"
          ]
         ],
         "hovertemplate": "movie_title=The Puppet Masters<br>total_gross=%{x}<br>genre=%{y}<br>release_date=%{customdata[0]}<extra></extra>",
         "legendgroup": "The Puppet Masters",
         "marker": {
          "color": "#636efa",
          "symbol": "circle"
         },
         "mode": "markers",
         "name": "The Puppet Masters",
         "orientation": "h",
         "showlegend": true,
         "type": "scatter",
         "x": {
          "bdata": "KuqCAA==",
          "dtype": "i4"
         },
         "xaxis": "x",
         "y": [
          "Horror"
         ],
         "yaxis": "y"
        },
        {
         "customdata": [
          [
           "1994-10-28"
          ]
         ],
         "hovertemplate": "movie_title=Squanto: A Warrior's Tale<br>total_gross=%{x}<br>genre=%{y}<br>release_date=%{customdata[0]}<extra></extra>",
         "legendgroup": "Squanto: A Warrior's Tale",
         "marker": {
          "color": "#EF553B",
          "symbol": "circle"
         },
         "mode": "markers",
         "name": "Squanto: A Warrior's Tale",
         "orientation": "h",
         "showlegend": true,
         "type": "scatter",
         "x": {
          "bdata": "MKYyAA==",
          "dtype": "i4"
         },
         "xaxis": "x",
         "y": [
          "Drama"
         ],
         "yaxis": "y"
        },
        {
         "customdata": [
          [
           "1994-11-11"
          ]
         ],
         "hovertemplate": "movie_title=The Santa Clause<br>total_gross=%{x}<br>genre=%{y}<br>release_date=%{customdata[0]}<extra></extra>",
         "legendgroup": "The Santa Clause",
         "marker": {
          "color": "#00cc96",
          "symbol": "circle"
         },
         "mode": "markers",
         "name": "The Santa Clause",
         "orientation": "h",
         "showlegend": true,
         "type": "scatter",
         "x": {
          "bdata": "TfuhCA==",
          "dtype": "i4"
         },
         "xaxis": "x",
         "y": [
          "Comedy"
         ],
         "yaxis": "y"
        },
        {
         "customdata": [
          [
           "1994-11-23"
          ]
         ],
         "hovertemplate": "movie_title=A Low Down Dirty Shame<br>total_gross=%{x}<br>genre=%{y}<br>release_date=%{customdata[0]}<extra></extra>",
         "legendgroup": "A Low Down Dirty Shame",
         "marker": {
          "color": "#ab63fa",
          "symbol": "circle"
         },
         "mode": "markers",
         "name": "A Low Down Dirty Shame",
         "orientation": "h",
         "showlegend": true,
         "type": "scatter",
         "x": {
          "bdata": "/lq/AQ==",
          "dtype": "i4"
         },
         "xaxis": "x",
         "y": [
          "Action"
         ],
         "yaxis": "y"
        },
        {
         "customdata": [
          [
           "1995-01-06"
          ]
         ],
         "hovertemplate": "movie_title=Houseguest<br>total_gross=%{x}<br>genre=%{y}<br>release_date=%{customdata[0]}<extra></extra>",
         "legendgroup": "Houseguest",
         "marker": {
          "color": "#FFA15A",
          "symbol": "circle"
         },
         "mode": "markers",
         "name": "Houseguest",
         "orientation": "h",
         "showlegend": true,
         "type": "scatter",
         "x": {
          "bdata": "CLGRAQ==",
          "dtype": "i4"
         },
         "xaxis": "x",
         "y": [
          "Comedy"
         ],
         "yaxis": "y"
        },
        {
         "customdata": [
          [
           "1995-01-20"
          ],
          [
           "2002-06-07"
          ]
         ],
         "hovertemplate": "movie_title=Bad Company<br>total_gross=%{x}<br>genre=%{y}<br>release_date=%{customdata[0]}<extra></extra>",
         "legendgroup": "Bad Company",
         "marker": {
          "color": "#19d3f3",
          "symbol": "circle"
         },
         "mode": "markers",
         "name": "Bad Company",
         "orientation": "h",
         "showlegend": true,
         "type": "scatter",
         "x": {
          "bdata": "RcU1ANgozAE=",
          "dtype": "i4"
         },
         "xaxis": "x",
         "y": [
          "Thriller/Suspense",
          "Action"
         ],
         "yaxis": "y"
        },
        {
         "customdata": [
          [
           "1995-01-27"
          ]
         ],
         "hovertemplate": "movie_title=Miami Rhapsody<br>total_gross=%{x}<br>genre=%{y}<br>release_date=%{customdata[0]}<extra></extra>",
         "legendgroup": "Miami Rhapsody",
         "marker": {
          "color": "#FF6692",
          "symbol": "circle"
         },
         "mode": "markers",
         "name": "Miami Rhapsody",
         "orientation": "h",
         "showlegend": true,
         "type": "scatter",
         "x": {
          "bdata": "cp1NAA==",
          "dtype": "i4"
         },
         "xaxis": "x",
         "y": [
          "Romantic Comedy"
         ],
         "yaxis": "y"
        },
        {
         "customdata": [
          [
           "1995-02-03"
          ]
         ],
         "hovertemplate": "movie_title=The Jerky Boys<br>total_gross=%{x}<br>genre=%{y}<br>release_date=%{customdata[0]}<extra></extra>",
         "legendgroup": "The Jerky Boys",
         "marker": {
          "color": "#B6E880",
          "symbol": "circle"
         },
         "mode": "markers",
         "name": "The Jerky Boys",
         "orientation": "h",
         "showlegend": true,
         "type": "scatter",
         "x": {
          "bdata": "uEhzAA==",
          "dtype": "i4"
         },
         "xaxis": "x",
         "y": [
          "Comedy"
         ],
         "yaxis": "y"
        },
        {
         "customdata": [
          [
           "1995-02-17"
          ]
         ],
         "hovertemplate": "movie_title=Heavy Weights<br>total_gross=%{x}<br>genre=%{y}<br>release_date=%{customdata[0]}<extra></extra>",
         "legendgroup": "Heavy Weights",
         "marker": {
          "color": "#FF97FF",
          "symbol": "circle"
         },
         "mode": "markers",
         "name": "Heavy Weights",
         "orientation": "h",
         "showlegend": true,
         "type": "scatter",
         "x": {
          "bdata": "jqQNAQ==",
          "dtype": "i4"
         },
         "xaxis": "x",
         "y": [
          "Comedy"
         ],
         "yaxis": "y"
        },
        {
         "customdata": [
          [
           "1995-03-03"
          ]
         ],
         "hovertemplate": "movie_title=Man of the House<br>total_gross=%{x}<br>genre=%{y}<br>release_date=%{customdata[0]}<extra></extra>",
         "legendgroup": "Man of the House",
         "marker": {
          "color": "#FECB52",
          "symbol": "circle"
         },
         "mode": "markers",
         "name": "Man of the House",
         "orientation": "h",
         "showlegend": true,
         "type": "scatter",
         "x": {
          "bdata": "UctiAg==",
          "dtype": "i4"
         },
         "xaxis": "x",
         "y": [
          "Comedy"
         ],
         "yaxis": "y"
        },
        {
         "customdata": [
          [
           "1995-03-03"
          ]
         ],
         "hovertemplate": "movie_title=Roommates<br>total_gross=%{x}<br>genre=%{y}<br>release_date=%{customdata[0]}<extra></extra>",
         "legendgroup": "Roommates",
         "marker": {
          "color": "#636efa",
          "symbol": "circle"
         },
         "mode": "markers",
         "name": "Roommates",
         "orientation": "h",
         "showlegend": true,
         "type": "scatter",
         "x": {
          "bdata": "vUe4AA==",
          "dtype": "i4"
         },
         "xaxis": "x",
         "y": [
          "Comedy"
         ],
         "yaxis": "y"
        },
        {
         "customdata": [
          [
           "1995-03-24"
          ]
         ],
         "hovertemplate": "movie_title=Tall Tale<br>total_gross=%{x}<br>genre=%{y}<br>release_date=%{customdata[0]}<extra></extra>",
         "legendgroup": "Tall Tale",
         "marker": {
          "color": "#EF553B",
          "symbol": "circle"
         },
         "mode": "markers",
         "name": "Tall Tale",
         "orientation": "h",
         "showlegend": true,
         "type": "scatter",
         "x": {
          "bdata": "S9l9AA==",
          "dtype": "i4"
         },
         "xaxis": "x",
         "y": [
          "Western"
         ],
         "yaxis": "y"
        },
        {
         "customdata": [
          [
           "1995-03-28"
          ]
         ],
         "hovertemplate": "movie_title=A Pyromaniac's Love Story<br>total_gross=%{x}<br>genre=%{y}<br>release_date=%{customdata[0]}<extra></extra>",
         "legendgroup": "A Pyromaniac's Love Story",
         "marker": {
          "color": "#00cc96",
          "symbol": "circle"
         },
         "mode": "markers",
         "name": "A Pyromaniac's Love Story",
         "orientation": "h",
         "showlegend": true,
         "type": "scatter",
         "x": {
          "bdata": "ECUHAA==",
          "dtype": "i4"
         },
         "xaxis": "x",
         "y": [
          "Romantic Comedy"
         ],
         "yaxis": "y"
        },
        {
         "customdata": [
          [
           "1995-03-31"
          ]
         ],
         "hovertemplate": "movie_title=Jefferson in Paris<br>total_gross=%{x}<br>genre=%{y}<br>release_date=%{customdata[0]}<extra></extra>",
         "legendgroup": "Jefferson in Paris",
         "marker": {
          "color": "#ab63fa",
          "symbol": "circle"
         },
         "mode": "markers",
         "name": "Jefferson in Paris",
         "orientation": "h",
         "showlegend": true,
         "type": "scatter",
         "x": {
          "bdata": "vI8lAA==",
          "dtype": "i4"
         },
         "xaxis": "x",
         "y": [
          "Drama"
         ],
         "yaxis": "y"
        },
        {
         "customdata": [
          [
           "1995-03-31"
          ]
         ],
         "hovertemplate": "movie_title=Funny Bones<br>total_gross=%{x}<br>genre=%{y}<br>release_date=%{customdata[0]}<extra></extra>",
         "legendgroup": "Funny Bones",
         "marker": {
          "color": "#FFA15A",
          "symbol": "circle"
         },
         "mode": "markers",
         "name": "Funny Bones",
         "orientation": "h",
         "showlegend": true,
         "type": "scatter",
         "x": {
          "bdata": "7xIIAA==",
          "dtype": "i4"
         },
         "xaxis": "x",
         "y": [
          "Comedy"
         ],
         "yaxis": "y"
        },
        {
         "customdata": [
          [
           "1995-04-07"
          ]
         ],
         "hovertemplate": "movie_title=A Goofy Movie<br>total_gross=%{x}<br>genre=%{y}<br>release_date=%{customdata[0]}<extra></extra>",
         "legendgroup": "A Goofy Movie",
         "marker": {
          "color": "#19d3f3",
          "symbol": "circle"
         },
         "mode": "markers",
         "name": "A Goofy Movie",
         "orientation": "h",
         "showlegend": true,
         "type": "scatter",
         "x": {
          "bdata": "9zAbAg==",
          "dtype": "i4"
         },
         "xaxis": "x",
         "y": [
          "Comedy"
         ],
         "yaxis": "y"
        },
        {
         "customdata": [
          [
           "1995-04-21"
          ]
         ],
         "hovertemplate": "movie_title=While You Were Sleeping<br>total_gross=%{x}<br>genre=%{y}<br>release_date=%{customdata[0]}<extra></extra>",
         "legendgroup": "While You Were Sleeping",
         "marker": {
          "color": "#FF6692",
          "symbol": "circle"
         },
         "mode": "markers",
         "name": "While You Were Sleeping",
         "orientation": "h",
         "showlegend": true,
         "type": "scatter",
         "x": {
          "bdata": "+NTUBA==",
          "dtype": "i4"
         },
         "xaxis": "x",
         "y": [
          "Romantic Comedy"
         ],
         "yaxis": "y"
        },
        {
         "customdata": [
          [
           "1995-05-12"
          ]
         ],
         "hovertemplate": "movie_title=Crimson Tide<br>total_gross=%{x}<br>genre=%{y}<br>release_date=%{customdata[0]}<extra></extra>",
         "legendgroup": "Crimson Tide",
         "marker": {
          "color": "#B6E880",
          "symbol": "circle"
         },
         "mode": "markers",
         "name": "Crimson Tide",
         "orientation": "h",
         "showlegend": true,
         "type": "scatter",
         "x": {
          "bdata": "O3VyBQ==",
          "dtype": "i4"
         },
         "xaxis": "x",
         "y": [
          "Action"
         ],
         "yaxis": "y"
        },
        {
         "customdata": [
          [
           "1995-05-26"
          ]
         ],
         "hovertemplate": "movie_title=Mad Love<br>total_gross=%{x}<br>genre=%{y}<br>release_date=%{customdata[0]}<extra></extra>",
         "legendgroup": "Mad Love",
         "marker": {
          "color": "#FF97FF",
          "symbol": "circle"
         },
         "mode": "markers",
         "name": "Mad Love",
         "orientation": "h",
         "showlegend": true,
         "type": "scatter",
         "x": {
          "bdata": "BLLrAA==",
          "dtype": "i4"
         },
         "xaxis": "x",
         "y": [
          "Drama"
         ],
         "yaxis": "y"
        },
        {
         "customdata": [
          [
           "1995-06-10"
          ]
         ],
         "hovertemplate": "movie_title=Pocahontas<br>total_gross=%{x}<br>genre=%{y}<br>release_date=%{customdata[0]}<extra></extra>",
         "legendgroup": "Pocahontas",
         "marker": {
          "color": "#FECB52",
          "symbol": "circle"
         },
         "mode": "markers",
         "name": "Pocahontas",
         "orientation": "h",
         "showlegend": true,
         "type": "scatter",
         "x": {
          "bdata": "/VVwCA==",
          "dtype": "i4"
         },
         "xaxis": "x",
         "y": [
          "Adventure"
         ],
         "yaxis": "y"
        },
        {
         "customdata": [
          [
           "1995-06-30"
          ]
         ],
         "hovertemplate": "movie_title=Judge Dredd<br>total_gross=%{x}<br>genre=%{y}<br>release_date=%{customdata[0]}<extra></extra>",
         "legendgroup": "Judge Dredd",
         "marker": {
          "color": "#636efa",
          "symbol": "circle"
         },
         "mode": "markers",
         "name": "Judge Dredd",
         "orientation": "h",
         "showlegend": true,
         "type": "scatter",
         "x": {
          "bdata": "qEsRAg==",
          "dtype": "i4"
         },
         "xaxis": "x",
         "y": [
          "Action"
         ],
         "yaxis": "y"
        },
        {
         "customdata": [
          [
           "1995-07-28"
          ]
         ],
         "hovertemplate": "movie_title=Operation Dumbo Drop<br>total_gross=%{x}<br>genre=%{y}<br>release_date=%{customdata[0]}<extra></extra>",
         "legendgroup": "Operation Dumbo Drop",
         "marker": {
          "color": "#EF553B",
          "symbol": "circle"
         },
         "mode": "markers",
         "name": "Operation Dumbo Drop",
         "orientation": "h",
         "showlegend": true,
         "type": "scatter",
         "x": {
          "bdata": "inB4AQ==",
          "dtype": "i4"
         },
         "xaxis": "x",
         "y": [
          "Adventure"
         ],
         "yaxis": "y"
        },
        {
         "customdata": [
          [
           "1995-08-11"
          ]
         ],
         "hovertemplate": "movie_title=Dangerous Minds<br>total_gross=%{x}<br>genre=%{y}<br>release_date=%{customdata[0]}<extra></extra>",
         "legendgroup": "Dangerous Minds",
         "marker": {
          "color": "#00cc96",
          "symbol": "circle"
         },
         "mode": "markers",
         "name": "Dangerous Minds",
         "orientation": "h",
         "showlegend": true,
         "type": "scatter",
         "x": {
          "bdata": "acQPBQ==",
          "dtype": "i4"
         },
         "xaxis": "x",
         "y": [
          "Drama"
         ],
         "yaxis": "y"
        },
        {
         "customdata": [
          [
           "1995-08-11"
          ]
         ],
         "hovertemplate": "movie_title=A Kid in King Arthur's Court<br>total_gross=%{x}<br>genre=%{y}<br>release_date=%{customdata[0]}<extra></extra>",
         "legendgroup": "A Kid in King Arthur's Court",
         "marker": {
          "color": "#ab63fa",
          "symbol": "circle"
         },
         "mode": "markers",
         "name": "A Kid in King Arthur's Court",
         "orientation": "h",
         "showlegend": true,
         "type": "scatter",
         "x": {
          "bdata": "/ZHMAA==",
          "dtype": "i4"
         },
         "xaxis": "x",
         "y": [
          "Adventure"
         ],
         "yaxis": "y"
        },
        {
         "customdata": [
          [
           "1995-09-08"
          ]
         ],
         "hovertemplate": "movie_title=The Tie That Binds<br>total_gross=%{x}<br>genre=%{y}<br>release_date=%{customdata[0]}<extra></extra>",
         "legendgroup": "The Tie That Binds",
         "marker": {
          "color": "#FFA15A",
          "symbol": "circle"
         },
         "mode": "markers",
         "name": "The Tie That Binds",
         "orientation": "h",
         "showlegend": true,
         "type": "scatter",
         "x": {
          "bdata": "6+5XAA==",
          "dtype": "i4"
         },
         "xaxis": "x",
         "y": [
          "Thriller/Suspense"
         ],
         "yaxis": "y"
        },
        {
         "customdata": [
          [
           "1995-09-15"
          ]
         ],
         "hovertemplate": "movie_title=Unstrung Heroes<br>total_gross=%{x}<br>genre=%{y}<br>release_date=%{customdata[0]}<extra></extra>",
         "legendgroup": "Unstrung Heroes",
         "marker": {
          "color": "#19d3f3",
          "symbol": "circle"
         },
         "mode": "markers",
         "name": "Unstrung Heroes",
         "orientation": "h",
         "showlegend": true,
         "type": "scatter",
         "x": {
          "bdata": "qPx4AA==",
          "dtype": "i4"
         },
         "xaxis": "x",
         "y": [
          "Drama"
         ],
         "yaxis": "y"
        },
        {
         "customdata": [
          [
           "1995-09-29"
          ]
         ],
         "hovertemplate": "movie_title=The Big Green<br>total_gross=%{x}<br>genre=%{y}<br>release_date=%{customdata[0]}<extra></extra>",
         "legendgroup": "The Big Green",
         "marker": {
          "color": "#FF6692",
          "symbol": "circle"
         },
         "mode": "markers",
         "name": "The Big Green",
         "orientation": "h",
         "showlegend": true,
         "type": "scatter",
         "x": {
          "bdata": "q6MOAQ==",
          "dtype": "i4"
         },
         "xaxis": "x",
         "y": [
          "Comedy"
         ],
         "yaxis": "y"
        },
        {
         "customdata": [
          [
           "1995-10-04"
          ]
         ],
         "hovertemplate": "movie_title=Dead Presidents<br>total_gross=%{x}<br>genre=%{y}<br>release_date=%{customdata[0]}<extra></extra>",
         "legendgroup": "Dead Presidents",
         "marker": {
          "color": "#B6E880",
          "symbol": "circle"
         },
         "mode": "markers",
         "name": "Dead Presidents",
         "orientation": "h",
         "showlegend": true,
         "type": "scatter",
         "x": {
          "bdata": "ggtwAQ==",
          "dtype": "i4"
         },
         "xaxis": "x",
         "y": [
          "Drama"
         ],
         "yaxis": "y"
        },
        {
         "customdata": [
          [
           "1995-10-13"
          ]
         ],
         "hovertemplate": "movie_title=The Scarlet Letter<br>total_gross=%{x}<br>genre=%{y}<br>release_date=%{customdata[0]}<extra></extra>",
         "legendgroup": "The Scarlet Letter",
         "marker": {
          "color": "#FF97FF",
          "symbol": "circle"
         },
         "mode": "markers",
         "name": "The Scarlet Letter",
         "orientation": "h",
         "showlegend": true,
         "type": "scatter",
         "x": {
          "bdata": "3hCeAA==",
          "dtype": "i4"
         },
         "xaxis": "x",
         "y": [
          "Drama"
         ],
         "yaxis": "y"
        },
        {
         "customdata": [
          [
           "1995-10-13"
          ]
         ],
         "hovertemplate": "movie_title=Feast of July<br>total_gross=%{x}<br>genre=%{y}<br>release_date=%{customdata[0]}<extra></extra>",
         "legendgroup": "Feast of July",
         "marker": {
          "color": "#FECB52",
          "symbol": "circle"
         },
         "mode": "markers",
         "name": "Feast of July",
         "orientation": "h",
         "showlegend": true,
         "type": "scatter",
         "x": {
          "bdata": "mnkEAA==",
          "dtype": "i4"
         },
         "xaxis": "x",
         "y": [
          "Drama"
         ],
         "yaxis": "y"
        },
        {
         "customdata": [
          [
           "1995-10-27"
          ]
         ],
         "hovertemplate": "movie_title=Powder<br>total_gross=%{x}<br>genre=%{y}<br>release_date=%{customdata[0]}<extra></extra>",
         "legendgroup": "Powder",
         "marker": {
          "color": "#636efa",
          "symbol": "circle"
         },
         "mode": "markers",
         "name": "Powder",
         "orientation": "h",
         "showlegend": true,
         "type": "scatter",
         "x": {
          "bdata": "+nzWAQ==",
          "dtype": "i4"
         },
         "xaxis": "x",
         "y": [
          "Drama"
         ],
         "yaxis": "y"
        },
        {
         "customdata": [
          [
           "1995-11-22"
          ]
         ],
         "hovertemplate": "movie_title=Toy Story<br>total_gross=%{x}<br>genre=%{y}<br>release_date=%{customdata[0]}<extra></extra>",
         "legendgroup": "Toy Story",
         "marker": {
          "color": "#EF553B",
          "symbol": "circle"
         },
         "mode": "markers",
         "name": "Toy Story",
         "orientation": "h",
         "showlegend": true,
         "type": "scatter",
         "x": {
          "bdata": "CZRuCw==",
          "dtype": "i4"
         },
         "xaxis": "x",
         "y": [
          "Adventure"
         ],
         "yaxis": "y"
        },
        {
         "customdata": [
          [
           "1995-12-08"
          ]
         ],
         "hovertemplate": "movie_title=Father of the Bride Part II<br>total_gross=%{x}<br>genre=%{y}<br>release_date=%{customdata[0]}<extra></extra>",
         "legendgroup": "Father of the Bride Part II",
         "marker": {
          "color": "#00cc96",
          "symbol": "circle"
         },
         "mode": "markers",
         "name": "Father of the Bride Part II",
         "orientation": "h",
         "showlegend": true,
         "type": "scatter",
         "x": {
          "bdata": "X4CQBA==",
          "dtype": "i4"
         },
         "xaxis": "x",
         "y": [
          "Comedy"
         ],
         "yaxis": "y"
        },
        {
         "customdata": [
          [
           "1995-12-20"
          ]
         ],
         "hovertemplate": "movie_title=Nixon<br>total_gross=%{x}<br>genre=%{y}<br>release_date=%{customdata[0]}<extra></extra>",
         "legendgroup": "Nixon",
         "marker": {
          "color": "#ab63fa",
          "symbol": "circle"
         },
         "mode": "markers",
         "name": "Nixon",
         "orientation": "h",
         "showlegend": true,
         "type": "scatter",
         "x": {
          "bdata": "mY/QAA==",
          "dtype": "i4"
         },
         "xaxis": "x",
         "y": [
          "Drama"
         ],
         "yaxis": "y"
        },
        {
         "customdata": [
          [
           "1995-12-22"
          ]
         ],
         "hovertemplate": "movie_title=Tom and Huck<br>total_gross=%{x}<br>genre=%{y}<br>release_date=%{customdata[0]}<extra></extra>",
         "legendgroup": "Tom and Huck",
         "marker": {
          "color": "#FFA15A",
          "symbol": "circle"
         },
         "mode": "markers",
         "name": "Tom and Huck",
         "orientation": "h",
         "showlegend": true,
         "type": "scatter",
         "x": {
          "bdata": "K7prAQ==",
          "dtype": "i4"
         },
         "xaxis": "x",
         "y": [
          "Adventure"
         ],
         "yaxis": "y"
        },
        {
         "customdata": [
          [
           "1995-12-29"
          ]
         ],
         "hovertemplate": "movie_title=Mr. Holland's Opus<br>total_gross=%{x}<br>genre=%{y}<br>release_date=%{customdata[0]}<extra></extra>",
         "legendgroup": "Mr. Holland's Opus",
         "marker": {
          "color": "#19d3f3",
          "symbol": "circle"
         },
         "mode": "markers",
         "name": "Mr. Holland's Opus",
         "orientation": "h",
         "showlegend": true,
         "type": "scatter",
         "x": {
          "bdata": "TBzsBA==",
          "dtype": "i4"
         },
         "xaxis": "x",
         "y": [
          "Drama"
         ],
         "yaxis": "y"
        },
        {
         "customdata": [
          [
           "1996-02-02"
          ]
         ],
         "hovertemplate": "movie_title=White Squall<br>total_gross=%{x}<br>genre=%{y}<br>release_date=%{customdata[0]}<extra></extra>",
         "legendgroup": "White Squall",
         "marker": {
          "color": "#FF6692",
          "symbol": "circle"
         },
         "mode": "markers",
         "name": "White Squall",
         "orientation": "h",
         "showlegend": true,
         "type": "scatter",
         "x": {
          "bdata": "NBacAA==",
          "dtype": "i4"
         },
         "xaxis": "x",
         "y": [
          "Adventure"
         ],
         "yaxis": "y"
        },
        {
         "customdata": [
          [
           "1996-02-16"
          ]
         ],
         "hovertemplate": "movie_title=Muppet Treasure Island<br>total_gross=%{x}<br>genre=%{y}<br>release_date=%{customdata[0]}<extra></extra>",
         "legendgroup": "Muppet Treasure Island",
         "marker": {
          "color": "#B6E880",
          "symbol": "circle"
         },
         "mode": "markers",
         "name": "Muppet Treasure Island",
         "orientation": "h",
         "showlegend": true,
         "type": "scatter",
         "x": {
          "bdata": "X8sLAg==",
          "dtype": "i4"
         },
         "xaxis": "x",
         "y": [
          "Adventure"
         ],
         "yaxis": "y"
        },
        {
         "customdata": [
          [
           "1996-02-16"
          ]
         ],
         "hovertemplate": "movie_title=Mr. Wrong<br>total_gross=%{x}<br>genre=%{y}<br>release_date=%{customdata[0]}<extra></extra>",
         "legendgroup": "Mr. Wrong",
         "marker": {
          "color": "#FF97FF",
          "symbol": "circle"
         },
         "mode": "markers",
         "name": "Mr. Wrong",
         "orientation": "h",
         "showlegend": true,
         "type": "scatter",
         "x": {
          "bdata": "z2PDAA==",
          "dtype": "i4"
         },
         "xaxis": "x",
         "y": [
          "Romantic Comedy"
         ],
         "yaxis": "y"
        },
        {
         "customdata": [
          [
           "1996-02-23"
          ]
         ],
         "hovertemplate": "movie_title=Before and After<br>total_gross=%{x}<br>genre=%{y}<br>release_date=%{customdata[0]}<extra></extra>",
         "legendgroup": "Before and After",
         "marker": {
          "color": "#FECB52",
          "symbol": "circle"
         },
         "mode": "markers",
         "name": "Before and After",
         "orientation": "h",
         "showlegend": true,
         "type": "scatter",
         "x": {
          "bdata": "Rt6DAA==",
          "dtype": "i4"
         },
         "xaxis": "x",
         "y": [
          "Drama"
         ],
         "yaxis": "y"
        },
        {
         "customdata": [
          [
           "1996-03-01"
          ]
         ],
         "hovertemplate": "movie_title=Up Close & Personal<br>total_gross=%{x}<br>genre=%{y}<br>release_date=%{customdata[0]}<extra></extra>",
         "legendgroup": "Up Close & Personal",
         "marker": {
          "color": "#636efa",
          "symbol": "circle"
         },
         "mode": "markers",
         "name": "Up Close & Personal",
         "orientation": "h",
         "showlegend": true,
         "type": "scatter",
         "x": {
          "bdata": "qeUKAw==",
          "dtype": "i4"
         },
         "xaxis": "x",
         "y": [
          "Drama"
         ],
         "yaxis": "y"
        },
        {
         "customdata": [
          [
           "1996-03-08"
          ]
         ],
         "hovertemplate": "movie_title=Homeward Bound II: Lost in San Franc…<br>total_gross=%{x}<br>genre=%{y}<br>release_date=%{customdata[0]}<extra></extra>",
         "legendgroup": "Homeward Bound II: Lost in San Franc…",
         "marker": {
          "color": "#EF553B",
          "symbol": "circle"
         },
         "mode": "markers",
         "name": "Homeward Bound II: Lost in San Franc…",
         "orientation": "h",
         "showlegend": true,
         "type": "scatter",
         "x": {
          "bdata": "LxvzAQ==",
          "dtype": "i4"
         },
         "xaxis": "x",
         "y": [
          "Adventure"
         ],
         "yaxis": "y"
        },
        {
         "customdata": [
          [
           "1996-03-15"
          ]
         ],
         "hovertemplate": "movie_title=Two Much<br>total_gross=%{x}<br>genre=%{y}<br>release_date=%{customdata[0]}<extra></extra>",
         "legendgroup": "Two Much",
         "marker": {
          "color": "#00cc96",
          "symbol": "circle"
         },
         "mode": "markers",
         "name": "Two Much",
         "orientation": "h",
         "showlegend": true,
         "type": "scatter",
         "x": {
          "bdata": "G3UQAA==",
          "dtype": "i4"
         },
         "xaxis": "x",
         "y": [
          "Romantic Comedy"
         ],
         "yaxis": "y"
        },
        {
         "customdata": [
          [
           "1996-03-22"
          ]
         ],
         "hovertemplate": "movie_title=Un indien dans la ville<br>total_gross=%{x}<br>genre=%{y}<br>release_date=%{customdata[0]}<extra></extra>",
         "legendgroup": "Un indien dans la ville",
         "marker": {
          "color": "#ab63fa",
          "symbol": "circle"
         },
         "mode": "markers",
         "name": "Un indien dans la ville",
         "orientation": "h",
         "showlegend": true,
         "type": "scatter",
         "x": {
          "bdata": "Y7YPAA==",
          "dtype": "i4"
         },
         "xaxis": "x",
         "y": [
          "Comedy"
         ],
         "yaxis": "y"
        },
        {
         "customdata": [
          [
           "1996-04-12"
          ]
         ],
         "hovertemplate": "movie_title=James and the Giant Peach<br>total_gross=%{x}<br>genre=%{y}<br>release_date=%{customdata[0]}<extra></extra>",
         "legendgroup": "James and the Giant Peach",
         "marker": {
          "color": "#FFA15A",
          "symbol": "circle"
         },
         "mode": "markers",
         "name": "James and the Giant Peach",
         "orientation": "h",
         "showlegend": true,
         "type": "scatter",
         "x": {
          "bdata": "sE25AQ==",
          "dtype": "i4"
         },
         "xaxis": "x",
         "y": [
          "Adventure"
         ],
         "yaxis": "y"
        },
        {
         "customdata": [
          [
           "1996-04-19"
          ]
         ],
         "hovertemplate": "movie_title=Celtic Pride<br>total_gross=%{x}<br>genre=%{y}<br>release_date=%{customdata[0]}<extra></extra>",
         "legendgroup": "Celtic Pride",
         "marker": {
          "color": "#19d3f3",
          "symbol": "circle"
         },
         "mode": "markers",
         "name": "Celtic Pride",
         "orientation": "h",
         "showlegend": true,
         "type": "scatter",
         "x": {
          "bdata": "Ov+MAA==",
          "dtype": "i4"
         },
         "xaxis": "x",
         "y": [
          "Comedy"
         ],
         "yaxis": "y"
        },
        {
         "customdata": [
          [
           "1996-05-03"
          ]
         ],
         "hovertemplate": "movie_title=Last Dance<br>total_gross=%{x}<br>genre=%{y}<br>release_date=%{customdata[0]}<extra></extra>",
         "legendgroup": "Last Dance",
         "marker": {
          "color": "#FF6692",
          "symbol": "circle"
         },
         "mode": "markers",
         "name": "Last Dance",
         "orientation": "h",
         "showlegend": true,
         "type": "scatter",
         "x": {
          "bdata": "/mBZAA==",
          "dtype": "i4"
         },
         "xaxis": "x",
         "y": [
          "Drama"
         ],
         "yaxis": "y"
        },
        {
         "customdata": [
          [
           "1996-05-10"
          ]
         ],
         "hovertemplate": "movie_title=Boys<br>total_gross=%{x}<br>genre=%{y}<br>release_date=%{customdata[0]}<extra></extra>",
         "legendgroup": "Boys",
         "marker": {
          "color": "#B6E880",
          "symbol": "circle"
         },
         "mode": "markers",
         "name": "Boys",
         "orientation": "h",
         "showlegend": true,
         "type": "scatter",
         "x": {
          "bdata": "sqFOAQ==",
          "dtype": "i4"
         },
         "xaxis": "x",
         "y": [
          "Drama"
         ],
         "yaxis": "y"
        },
        {
         "customdata": [
          [
           "1996-05-24"
          ]
         ],
         "hovertemplate": "movie_title=Spy Hard<br>total_gross=%{x}<br>genre=%{y}<br>release_date=%{customdata[0]}<extra></extra>",
         "legendgroup": "Spy Hard",
         "marker": {
          "color": "#FF97FF",
          "symbol": "circle"
         },
         "mode": "markers",
         "name": "Spy Hard",
         "orientation": "h",
         "showlegend": true,
         "type": "scatter",
         "x": {
          "bdata": "yQObAQ==",
          "dtype": "i4"
         },
         "xaxis": "x",
         "y": [
          "Comedy"
         ],
         "yaxis": "y"
        },
        {
         "customdata": [
          [
           "1996-05-31"
          ]
         ],
         "hovertemplate": "movie_title=Eddie<br>total_gross=%{x}<br>genre=%{y}<br>release_date=%{customdata[0]}<extra></extra>",
         "legendgroup": "Eddie",
         "marker": {
          "color": "#FECB52",
          "symbol": "circle"
         },
         "mode": "markers",
         "name": "Eddie",
         "orientation": "h",
         "showlegend": true,
         "type": "scatter",
         "x": {
          "bdata": "uajeAQ==",
          "dtype": "i4"
         },
         "xaxis": "x",
         "y": [
          "Comedy"
         ],
         "yaxis": "y"
        },
        {
         "customdata": [
          [
           "1996-06-07"
          ]
         ],
         "hovertemplate": "movie_title=The Rock<br>total_gross=%{x}<br>genre=%{y}<br>release_date=%{customdata[0]}<extra></extra>",
         "legendgroup": "The Rock",
         "marker": {
          "color": "#636efa",
          "symbol": "circle"
         },
         "mode": "markers",
         "name": "The Rock",
         "orientation": "h",
         "showlegend": true,
         "type": "scatter",
         "x": {
          "bdata": "B739Bw==",
          "dtype": "i4"
         },
         "xaxis": "x",
         "y": [
          "Action"
         ],
         "yaxis": "y"
        },
        {
         "customdata": [
          [
           "1996-06-21"
          ]
         ],
         "hovertemplate": "movie_title=The Hunchback of Notre Dame<br>total_gross=%{x}<br>genre=%{y}<br>release_date=%{customdata[0]}<extra></extra>",
         "legendgroup": "The Hunchback of Notre Dame",
         "marker": {
          "color": "#EF553B",
          "symbol": "circle"
         },
         "mode": "markers",
         "name": "The Hunchback of Notre Dame",
         "orientation": "h",
         "showlegend": true,
         "type": "scatter",
         "x": {
          "bdata": "Y//3BQ==",
          "dtype": "i4"
         },
         "xaxis": "x",
         "y": [
          "Adventure"
         ],
         "yaxis": "y"
        },
        {
         "customdata": [
          [
           "1996-07-05"
          ]
         ],
         "hovertemplate": "movie_title=Phenomenon<br>total_gross=%{x}<br>genre=%{y}<br>release_date=%{customdata[0]}<extra></extra>",
         "legendgroup": "Phenomenon",
         "marker": {
          "color": "#00cc96",
          "symbol": "circle"
         },
         "mode": "markers",
         "name": "Phenomenon",
         "orientation": "h",
         "showlegend": true,
         "type": "scatter",
         "x": {
          "bdata": "3p88Bg==",
          "dtype": "i4"
         },
         "xaxis": "x",
         "y": [
          "Drama"
         ],
         "yaxis": "y"
        },
        {
         "customdata": [
          [
           "1996-07-17"
          ]
         ],
         "hovertemplate": "movie_title=Kazaam<br>total_gross=%{x}<br>genre=%{y}<br>release_date=%{customdata[0]}<extra></extra>",
         "legendgroup": "Kazaam",
         "marker": {
          "color": "#ab63fa",
          "symbol": "circle"
         },
         "mode": "markers",
         "name": "Kazaam",
         "orientation": "h",
         "showlegend": true,
         "type": "scatter",
         "x": {
          "bdata": "/BcgAQ==",
          "dtype": "i4"
         },
         "xaxis": "x",
         "y": [
          "Comedy"
         ],
         "yaxis": "y"
        },
        {
         "customdata": [
          [
           "1996-08-09"
          ]
         ],
         "hovertemplate": "movie_title=Jack<br>total_gross=%{x}<br>genre=%{y}<br>release_date=%{customdata[0]}<extra></extra>",
         "legendgroup": "Jack",
         "marker": {
          "color": "#FFA15A",
          "symbol": "circle"
         },
         "mode": "markers",
         "name": "Jack",
         "orientation": "h",
         "showlegend": true,
         "type": "scatter",
         "x": {
          "bdata": "9m1+Aw==",
          "dtype": "i4"
         },
         "xaxis": "x",
         "y": [
          "Drama"
         ],
         "yaxis": "y"
        },
        {
         "customdata": [
          [
           "1996-08-30"
          ]
         ],
         "hovertemplate": "movie_title=First Kid<br>total_gross=%{x}<br>genre=%{y}<br>release_date=%{customdata[0]}<extra></extra>",
         "legendgroup": "First Kid",
         "marker": {
          "color": "#19d3f3",
          "symbol": "circle"
         },
         "mode": "markers",
         "name": "First Kid",
         "orientation": "h",
         "showlegend": true,
         "type": "scatter",
         "x": {
          "bdata": "gNaTAQ==",
          "dtype": "i4"
         },
         "xaxis": "x",
         "y": [
          "Comedy"
         ],
         "yaxis": "y"
        },
        {
         "customdata": [
          [
           "1996-09-13"
          ]
         ],
         "hovertemplate": "movie_title=The Rich Man's Wife<br>total_gross=%{x}<br>genre=%{y}<br>release_date=%{customdata[0]}<extra></extra>",
         "legendgroup": "The Rich Man's Wife",
         "marker": {
          "color": "#FF6692",
          "symbol": "circle"
         },
         "mode": "markers",
         "name": "The Rich Man's Wife",
         "orientation": "h",
         "showlegend": true,
         "type": "scatter",
         "x": {
          "bdata": "zkiCAA==",
          "dtype": "i4"
         },
         "xaxis": "x",
         "y": [
          "Thriller/Suspense"
         ],
         "yaxis": "y"
        },
        {
         "customdata": [
          [
           "1996-10-04"
          ]
         ],
         "hovertemplate": "movie_title=D3: The Mighty Ducks<br>total_gross=%{x}<br>genre=%{y}<br>release_date=%{customdata[0]}<extra></extra>",
         "legendgroup": "D3: The Mighty Ducks",
         "marker": {
          "color": "#B6E880",
          "symbol": "circle"
         },
         "mode": "markers",
         "name": "D3: The Mighty Ducks",
         "orientation": "h",
         "showlegend": true,
         "type": "scatter",
         "x": {
          "bdata": "0fpdAQ==",
          "dtype": "i4"
         },
         "xaxis": "x",
         "y": [
          "Comedy"
         ],
         "yaxis": "y"
        },
        {
         "customdata": [
          [
           "1996-10-25"
          ]
         ],
         "hovertemplate": "movie_title=The Associate<br>total_gross=%{x}<br>genre=%{y}<br>release_date=%{customdata[0]}<extra></extra>",
         "legendgroup": "The Associate",
         "marker": {
          "color": "#FF97FF",
          "symbol": "circle"
         },
         "mode": "markers",
         "name": "The Associate",
         "orientation": "h",
         "showlegend": true,
         "type": "scatter",
         "x": {
          "bdata": "MeXCAA==",
          "dtype": "i4"
         },
         "xaxis": "x",
         "y": [
          "Comedy"
         ],
         "yaxis": "y"
        },
        {
         "customdata": [
          [
           "1996-11-08"
          ]
         ],
         "hovertemplate": "movie_title=Ransom<br>total_gross=%{x}<br>genre=%{y}<br>release_date=%{customdata[0]}<extra></extra>",
         "legendgroup": "Ransom",
         "marker": {
          "color": "#FECB52",
          "symbol": "circle"
         },
         "mode": "markers",
         "name": "Ransom",
         "orientation": "h",
         "showlegend": true,
         "type": "scatter",
         "x": {
          "bdata": "ibYiCA==",
          "dtype": "i4"
         },
         "xaxis": "x",
         "y": [
          "Action"
         ],
         "yaxis": "y"
        },
        {
         "customdata": [
          [
           "1996-11-20"
          ]
         ],
         "hovertemplate": "movie_title=The War at Home<br>total_gross=%{x}<br>genre=%{y}<br>release_date=%{customdata[0]}<extra></extra>",
         "legendgroup": "The War at Home",
         "marker": {
          "color": "#636efa",
          "symbol": "circle"
         },
         "mode": "markers",
         "name": "The War at Home",
         "orientation": "h",
         "showlegend": true,
         "type": "scatter",
         "x": {
          "bdata": "QIYAAA==",
          "dtype": "i4"
         },
         "xaxis": "x",
         "y": [
          null
         ],
         "yaxis": "y"
        },
        {
         "customdata": [
          [
           "1996-12-13"
          ]
         ],
         "hovertemplate": "movie_title=The Preacher's Wife<br>total_gross=%{x}<br>genre=%{y}<br>release_date=%{customdata[0]}<extra></extra>",
         "legendgroup": "The Preacher's Wife",
         "marker": {
          "color": "#EF553B",
          "symbol": "circle"
         },
         "mode": "markers",
         "name": "The Preacher's Wife",
         "orientation": "h",
         "showlegend": true,
         "type": "scatter",
         "x": {
          "bdata": "i/3dAg==",
          "dtype": "i4"
         },
         "xaxis": "x",
         "y": [
          "Drama"
         ],
         "yaxis": "y"
        },
        {
         "customdata": [
          [
           "1996-12-25"
          ]
         ],
         "hovertemplate": "movie_title=Evita<br>total_gross=%{x}<br>genre=%{y}<br>release_date=%{customdata[0]}<extra></extra>",
         "legendgroup": "Evita",
         "marker": {
          "color": "#00cc96",
          "symbol": "circle"
         },
         "mode": "markers",
         "name": "Evita",
         "orientation": "h",
         "showlegend": true,
         "type": "scatter",
         "x": {
          "bdata": "y6j7Ag==",
          "dtype": "i4"
         },
         "xaxis": "x",
         "y": [
          "Musical"
         ],
         "yaxis": "y"
        },
        {
         "customdata": [
          [
           "1997-01-17"
          ]
         ],
         "hovertemplate": "movie_title=Metro<br>total_gross=%{x}<br>genre=%{y}<br>release_date=%{customdata[0]}<extra></extra>",
         "legendgroup": "Metro",
         "marker": {
          "color": "#ab63fa",
          "symbol": "circle"
         },
         "mode": "markers",
         "name": "Metro",
         "orientation": "h",
         "showlegend": true,
         "type": "scatter",
         "x": {
          "bdata": "543oAQ==",
          "dtype": "i4"
         },
         "xaxis": "x",
         "y": [
          "Action"
         ],
         "yaxis": "y"
        },
        {
         "customdata": [
          [
           "1997-01-24"
          ]
         ],
         "hovertemplate": "movie_title=Prefontaine<br>total_gross=%{x}<br>genre=%{y}<br>release_date=%{customdata[0]}<extra></extra>",
         "legendgroup": "Prefontaine",
         "marker": {
          "color": "#FFA15A",
          "symbol": "circle"
         },
         "mode": "markers",
         "name": "Prefontaine",
         "orientation": "h",
         "showlegend": true,
         "type": "scatter",
         "x": {
          "bdata": "4QMJAA==",
          "dtype": "i4"
         },
         "xaxis": "x",
         "y": [
          "Drama"
         ],
         "yaxis": "y"
        },
        {
         "customdata": [
          [
           "1997-01-31"
          ]
         ],
         "hovertemplate": "movie_title=Shadow Conspiracy<br>total_gross=%{x}<br>genre=%{y}<br>release_date=%{customdata[0]}<extra></extra>",
         "legendgroup": "Shadow Conspiracy",
         "marker": {
          "color": "#19d3f3",
          "symbol": "circle"
         },
         "mode": "markers",
         "name": "Shadow Conspiracy",
         "orientation": "h",
         "showlegend": true,
         "type": "scatter",
         "x": {
          "bdata": "LOAgAA==",
          "dtype": "i4"
         },
         "xaxis": "x",
         "y": [
          "Thriller/Suspense"
         ],
         "yaxis": "y"
        },
        {
         "customdata": [
          [
           "1997-02-14"
          ]
         ],
         "hovertemplate": "movie_title=That Darn Cat<br>total_gross=%{x}<br>genre=%{y}<br>release_date=%{customdata[0]}<extra></extra>",
         "legendgroup": "That Darn Cat",
         "marker": {
          "color": "#FF6692",
          "symbol": "circle"
         },
         "mode": "markers",
         "name": "That Darn Cat",
         "orientation": "h",
         "showlegend": true,
         "type": "scatter",
         "x": {
          "bdata": "hEMXAQ==",
          "dtype": "i4"
         },
         "xaxis": "x",
         "y": [
          "Comedy"
         ],
         "yaxis": "y"
        },
        {
         "customdata": [
          [
           "1997-03-07"
          ]
         ],
         "hovertemplate": "movie_title=Jungle 2 Jungle<br>total_gross=%{x}<br>genre=%{y}<br>release_date=%{customdata[0]}<extra></extra>",
         "legendgroup": "Jungle 2 Jungle",
         "marker": {
          "color": "#B6E880",
          "symbol": "circle"
         },
         "mode": "markers",
         "name": "Jungle 2 Jungle",
         "orientation": "h",
         "showlegend": true,
         "type": "scatter",
         "x": {
          "bdata": "ImKSAw==",
          "dtype": "i4"
         },
         "xaxis": "x",
         "y": [
          "Comedy"
         ],
         "yaxis": "y"
        },
        {
         "customdata": [
          [
           "1997-03-28"
          ]
         ],
         "hovertemplate": "movie_title=The Sixth Man<br>total_gross=%{x}<br>genre=%{y}<br>release_date=%{customdata[0]}<extra></extra>",
         "legendgroup": "The Sixth Man",
         "marker": {
          "color": "#FF97FF",
          "symbol": "circle"
         },
         "mode": "markers",
         "name": "The Sixth Man",
         "orientation": "h",
         "showlegend": true,
         "type": "scatter",
         "x": {
          "bdata": "K0zhAA==",
          "dtype": "i4"
         },
         "xaxis": "x",
         "y": [
          "Comedy"
         ],
         "yaxis": "y"
        },
        {
         "customdata": [
          [
           "1997-04-11"
          ]
         ],
         "hovertemplate": "movie_title=Grosse Pointe Blank<br>total_gross=%{x}<br>genre=%{y}<br>release_date=%{customdata[0]}<extra></extra>",
         "legendgroup": "Grosse Pointe Blank",
         "marker": {
          "color": "#FECB52",
          "symbol": "circle"
         },
         "mode": "markers",
         "name": "Grosse Pointe Blank",
         "orientation": "h",
         "showlegend": true,
         "type": "scatter",
         "x": {
          "bdata": "hYisAQ==",
          "dtype": "i4"
         },
         "xaxis": "x",
         "y": [
          "Black Comedy"
         ],
         "yaxis": "y"
        },
        {
         "customdata": [
          [
           "1997-04-25"
          ]
         ],
         "hovertemplate": "movie_title=Romy and Michele's High School Reunion<br>total_gross=%{x}<br>genre=%{y}<br>release_date=%{customdata[0]}<extra></extra>",
         "legendgroup": "Romy and Michele's High School Reunion",
         "marker": {
          "color": "#636efa",
          "symbol": "circle"
         },
         "mode": "markers",
         "name": "Romy and Michele's High School Reunion",
         "orientation": "h",
         "showlegend": true,
         "type": "scatter",
         "x": {
          "bdata": "mRi+AQ==",
          "dtype": "i4"
         },
         "xaxis": "x",
         "y": [
          "Comedy"
         ],
         "yaxis": "y"
        },
        {
         "customdata": [
          [
           "1997-05-30"
          ]
         ],
         "hovertemplate": "movie_title=Gone Fishin'<br>total_gross=%{x}<br>genre=%{y}<br>release_date=%{customdata[0]}<extra></extra>",
         "legendgroup": "Gone Fishin'",
         "marker": {
          "color": "#EF553B",
          "symbol": "circle"
         },
         "mode": "markers",
         "name": "Gone Fishin'",
         "orientation": "h",
         "showlegend": true,
         "type": "scatter",
         "x": {
          "bdata": "gkwtAQ==",
          "dtype": "i4"
         },
         "xaxis": "x",
         "y": [
          "Comedy"
         ],
         "yaxis": "y"
        },
        {
         "customdata": [
          [
           "1997-06-06"
          ]
         ],
         "hovertemplate": "movie_title=Con Air<br>total_gross=%{x}<br>genre=%{y}<br>release_date=%{customdata[0]}<extra></extra>",
         "legendgroup": "Con Air",
         "marker": {
          "color": "#00cc96",
          "symbol": "circle"
         },
         "mode": "markers",
         "name": "Con Air",
         "orientation": "h",
         "showlegend": true,
         "type": "scatter",
         "x": {
          "bdata": "he4GBg==",
          "dtype": "i4"
         },
         "xaxis": "x",
         "y": [
          "Action"
         ],
         "yaxis": "y"
        },
        {
         "customdata": [
          [
           "1997-06-13"
          ]
         ],
         "hovertemplate": "movie_title=Hercules<br>total_gross=%{x}<br>genre=%{y}<br>release_date=%{customdata[0]}<extra></extra>",
         "legendgroup": "Hercules",
         "marker": {
          "color": "#ab63fa",
          "symbol": "circle"
         },
         "mode": "markers",
         "name": "Hercules",
         "orientation": "h",
         "showlegend": true,
         "type": "scatter",
         "x": {
          "bdata": "pVToBQ==",
          "dtype": "i4"
         },
         "xaxis": "x",
         "y": [
          "Adventure"
         ],
         "yaxis": "y"
        },
        {
         "customdata": [
          [
           "1997-07-16"
          ]
         ],
         "hovertemplate": "movie_title=George Of The Jungle<br>total_gross=%{x}<br>genre=%{y}<br>release_date=%{customdata[0]}<extra></extra>",
         "legendgroup": "George Of The Jungle",
         "marker": {
          "color": "#FFA15A",
          "symbol": "circle"
         },
         "mode": "markers",
         "name": "George Of The Jungle",
         "orientation": "h",
         "showlegend": true,
         "type": "scatter",
         "x": {
          "bdata": "mTBGBg==",
          "dtype": "i4"
         },
         "xaxis": "x",
         "y": [
          "Comedy"
         ],
         "yaxis": "y"
        },
        {
         "customdata": [
          [
           "1997-07-18"
          ]
         ],
         "hovertemplate": "movie_title=Nothing To Lose<br>total_gross=%{x}<br>genre=%{y}<br>release_date=%{customdata[0]}<extra></extra>",
         "legendgroup": "Nothing To Lose",
         "marker": {
          "color": "#19d3f3",
          "symbol": "circle"
         },
         "mode": "markers",
         "name": "Nothing To Lose",
         "orientation": "h",
         "showlegend": true,
         "type": "scatter",
         "x": {
          "bdata": "J7amAg==",
          "dtype": "i4"
         },
         "xaxis": "x",
         "y": [
          "Comedy"
         ],
         "yaxis": "y"
        },
        {
         "customdata": [
          [
           "1997-08-01"
          ]
         ],
         "hovertemplate": "movie_title=Air Bud<br>total_gross=%{x}<br>genre=%{y}<br>release_date=%{customdata[0]}<extra></extra>",
         "legendgroup": "Air Bud",
         "marker": {
          "color": "#FF6692",
          "symbol": "circle"
         },
         "mode": "markers",
         "name": "Air Bud",
         "orientation": "h",
         "showlegend": true,
         "type": "scatter",
         "x": {
          "bdata": "GBV4AQ==",
          "dtype": "i4"
         },
         "xaxis": "x",
         "y": [
          "Comedy"
         ],
         "yaxis": "y"
        },
        {
         "customdata": [
          [
           "1997-08-22"
          ]
         ],
         "hovertemplate": "movie_title=G.I. Jane<br>total_gross=%{x}<br>genre=%{y}<br>release_date=%{customdata[0]}<extra></extra>",
         "legendgroup": "G.I. Jane",
         "marker": {
          "color": "#B6E880",
          "symbol": "circle"
         },
         "mode": "markers",
         "name": "G.I. Jane",
         "orientation": "h",
         "showlegend": true,
         "type": "scatter",
         "x": {
          "bdata": "xADfAg==",
          "dtype": "i4"
         },
         "xaxis": "x",
         "y": [
          "Drama"
         ],
         "yaxis": "y"
        },
        {
         "customdata": [
          [
           "1997-09-19"
          ]
         ],
         "hovertemplate": "movie_title=A Thousand Acres<br>total_gross=%{x}<br>genre=%{y}<br>release_date=%{customdata[0]}<extra></extra>",
         "legendgroup": "A Thousand Acres",
         "marker": {
          "color": "#FF97FF",
          "symbol": "circle"
         },
         "mode": "markers",
         "name": "A Thousand Acres",
         "orientation": "h",
         "showlegend": true,
         "type": "scatter",
         "x": {
          "bdata": "XPp4AA==",
          "dtype": "i4"
         },
         "xaxis": "x",
         "y": [
          "Drama"
         ],
         "yaxis": "y"
        },
        {
         "customdata": [
          [
           "1997-10-05"
          ]
         ],
         "hovertemplate": "movie_title=Washington Square<br>total_gross=%{x}<br>genre=%{y}<br>release_date=%{customdata[0]}<extra></extra>",
         "legendgroup": "Washington Square",
         "marker": {
          "color": "#FECB52",
          "symbol": "circle"
         },
         "mode": "markers",
         "name": "Washington Square",
         "orientation": "h",
         "showlegend": true,
         "type": "scatter",
         "x": {
          "bdata": "HBgbAA==",
          "dtype": "i4"
         },
         "xaxis": "x",
         "y": [
          "Drama"
         ],
         "yaxis": "y"
        },
        {
         "customdata": [
          [
           "1997-10-10"
          ]
         ],
         "hovertemplate": "movie_title=Rocket Man<br>total_gross=%{x}<br>genre=%{y}<br>release_date=%{customdata[0]}<extra></extra>",
         "legendgroup": "Rocket Man",
         "marker": {
          "color": "#636efa",
          "symbol": "circle"
         },
         "mode": "markers",
         "name": "Rocket Man",
         "orientation": "h",
         "showlegend": true,
         "type": "scatter",
         "x": {
          "bdata": "67frAA==",
          "dtype": "i4"
         },
         "xaxis": "x",
         "y": [
          "Comedy"
         ],
         "yaxis": "y"
        },
        {
         "customdata": [
          [
           "1997-10-17"
          ]
         ],
         "hovertemplate": "movie_title=Playing God<br>total_gross=%{x}<br>genre=%{y}<br>release_date=%{customdata[0]}<extra></extra>",
         "legendgroup": "Playing God",
         "marker": {
          "color": "#EF553B",
          "symbol": "circle"
         },
         "mode": "markers",
         "name": "Playing God",
         "orientation": "h",
         "showlegend": true,
         "type": "scatter",
         "x": {
          "bdata": "BpU/AA==",
          "dtype": "i4"
         },
         "xaxis": "x",
         "y": [
          "Thriller/Suspense"
         ],
         "yaxis": "y"
        },
        {
         "customdata": [
          [
           "1997-11-26"
          ]
         ],
         "hovertemplate": "movie_title=Flubber<br>total_gross=%{x}<br>genre=%{y}<br>release_date=%{customdata[0]}<extra></extra>",
         "legendgroup": "Flubber",
         "marker": {
          "color": "#00cc96",
          "symbol": "circle"
         },
         "mode": "markers",
         "name": "Flubber",
         "orientation": "h",
         "showlegend": true,
         "type": "scatter",
         "x": {
          "bdata": "CfmKBQ==",
          "dtype": "i4"
         },
         "xaxis": "x",
         "y": [
          "Comedy"
         ],
         "yaxis": "y"
        },
        {
         "customdata": [
          [
           "1997-12-25"
          ]
         ],
         "hovertemplate": "movie_title=An American Werewolf in Paris<br>total_gross=%{x}<br>genre=%{y}<br>release_date=%{customdata[0]}<extra></extra>",
         "legendgroup": "An American Werewolf in Paris",
         "marker": {
          "color": "#ab63fa",
          "symbol": "circle"
         },
         "mode": "markers",
         "name": "An American Werewolf in Paris",
         "orientation": "h",
         "showlegend": true,
         "type": "scatter",
         "x": {
          "bdata": "326VAQ==",
          "dtype": "i4"
         },
         "xaxis": "x",
         "y": [
          "Horror"
         ],
         "yaxis": "y"
        },
        {
         "customdata": [
          [
           "1997-12-25"
          ]
         ],
         "hovertemplate": "movie_title=Mr. Magoo<br>total_gross=%{x}<br>genre=%{y}<br>release_date=%{customdata[0]}<extra></extra>",
         "legendgroup": "Mr. Magoo",
         "marker": {
          "color": "#FFA15A",
          "symbol": "circle"
         },
         "mode": "markers",
         "name": "Mr. Magoo",
         "orientation": "h",
         "showlegend": true,
         "type": "scatter",
         "x": {
          "bdata": "CBtHAQ==",
          "dtype": "i4"
         },
         "xaxis": "x",
         "y": [
          "Comedy"
         ],
         "yaxis": "y"
        },
        {
         "customdata": [
          [
           "1997-12-25"
          ]
         ],
         "hovertemplate": "movie_title=Kundun<br>total_gross=%{x}<br>genre=%{y}<br>release_date=%{customdata[0]}<extra></extra>",
         "legendgroup": "Kundun",
         "marker": {
          "color": "#19d3f3",
          "symbol": "circle"
         },
         "mode": "markers",
         "name": "Kundun",
         "orientation": "h",
         "showlegend": true,
         "type": "scatter",
         "x": {
          "bdata": "psVWAA==",
          "dtype": "i4"
         },
         "xaxis": "x",
         "y": [
          "Drama"
         ],
         "yaxis": "y"
        },
        {
         "customdata": [
          [
           "1998-01-30"
          ]
         ],
         "hovertemplate": "movie_title=Deep Rising<br>total_gross=%{x}<br>genre=%{y}<br>release_date=%{customdata[0]}<extra></extra>",
         "legendgroup": "Deep Rising",
         "marker": {
          "color": "#FF6692",
          "symbol": "circle"
         },
         "mode": "markers",
         "name": "Deep Rising",
         "orientation": "h",
         "showlegend": true,
         "type": "scatter",
         "x": {
          "bdata": "0vGqAA==",
          "dtype": "i4"
         },
         "xaxis": "x",
         "y": [
          "Action"
         ],
         "yaxis": "y"
        },
        {
         "customdata": [
          [
           "1998-02-27"
          ]
         ],
         "hovertemplate": "movie_title=Krippendorf's Tribe<br>total_gross=%{x}<br>genre=%{y}<br>release_date=%{customdata[0]}<extra></extra>",
         "legendgroup": "Krippendorf's Tribe",
         "marker": {
          "color": "#B6E880",
          "symbol": "circle"
         },
         "mode": "markers",
         "name": "Krippendorf's Tribe",
         "orientation": "h",
         "showlegend": true,
         "type": "scatter",
         "x": {
          "bdata": "q4ZzAA==",
          "dtype": "i4"
         },
         "xaxis": "x",
         "y": [
          "Comedy"
         ],
         "yaxis": "y"
        },
        {
         "customdata": [
          [
           "1998-02-27"
          ]
         ],
         "hovertemplate": "movie_title=An Alan Smithee Film: Burn Hollywood …<br>total_gross=%{x}<br>genre=%{y}<br>release_date=%{customdata[0]}<extra></extra>",
         "legendgroup": "An Alan Smithee Film: Burn Hollywood …",
         "marker": {
          "color": "#FF97FF",
          "symbol": "circle"
         },
         "mode": "markers",
         "name": "An Alan Smithee Film: Burn Hollywood …",
         "orientation": "h",
         "showlegend": true,
         "type": "scatter",
         "x": {
          "bdata": "07IAAA==",
          "dtype": "i4"
         },
         "xaxis": "x",
         "y": [
          "Comedy"
         ],
         "yaxis": "y"
        },
        {
         "customdata": [
          [
           "1998-03-27"
          ]
         ],
         "hovertemplate": "movie_title=Meet the Deedles<br>total_gross=%{x}<br>genre=%{y}<br>release_date=%{customdata[0]}<extra></extra>",
         "legendgroup": "Meet the Deedles",
         "marker": {
          "color": "#FECB52",
          "symbol": "circle"
         },
         "mode": "markers",
         "name": "Meet the Deedles",
         "orientation": "h",
         "showlegend": true,
         "type": "scatter",
         "x": {
          "bdata": "HnhCAA==",
          "dtype": "i4"
         },
         "xaxis": "x",
         "y": [
          "Comedy"
         ],
         "yaxis": "y"
        },
        {
         "customdata": [
          [
           "1998-05-01"
          ]
         ],
         "hovertemplate": "movie_title=He Got Game<br>total_gross=%{x}<br>genre=%{y}<br>release_date=%{customdata[0]}<extra></extra>",
         "legendgroup": "He Got Game",
         "marker": {
          "color": "#636efa",
          "symbol": "circle"
         },
         "mode": "markers",
         "name": "He Got Game",
         "orientation": "h",
         "showlegend": true,
         "type": "scatter",
         "x": {
          "bdata": "bRlJAQ==",
          "dtype": "i4"
         },
         "xaxis": "x",
         "y": [
          "Drama"
         ],
         "yaxis": "y"
        },
        {
         "customdata": [
          [
           "1998-05-15"
          ]
         ],
         "hovertemplate": "movie_title=The Horse Whisperer<br>total_gross=%{x}<br>genre=%{y}<br>release_date=%{customdata[0]}<extra></extra>",
         "legendgroup": "The Horse Whisperer",
         "marker": {
          "color": "#EF553B",
          "symbol": "circle"
         },
         "mode": "markers",
         "name": "The Horse Whisperer",
         "orientation": "h",
         "showlegend": true,
         "type": "scatter",
         "x": {
          "bdata": "C0N+BA==",
          "dtype": "i4"
         },
         "xaxis": "x",
         "y": [
          "Drama"
         ],
         "yaxis": "y"
        },
        {
         "customdata": [
          [
           "1998-06-12"
          ]
         ],
         "hovertemplate": "movie_title=Six Days, Seven Nights<br>total_gross=%{x}<br>genre=%{y}<br>release_date=%{customdata[0]}<extra></extra>",
         "legendgroup": "Six Days, Seven Nights",
         "marker": {
          "color": "#00cc96",
          "symbol": "circle"
         },
         "mode": "markers",
         "name": "Six Days, Seven Nights",
         "orientation": "h",
         "showlegend": true,
         "type": "scatter",
         "x": {
          "bdata": "3lNuBA==",
          "dtype": "i4"
         },
         "xaxis": "x",
         "y": [
          "Romantic Comedy"
         ],
         "yaxis": "y"
        },
        {
         "customdata": [
          [
           "1998-06-19"
          ]
         ],
         "hovertemplate": "movie_title=Mulan<br>total_gross=%{x}<br>genre=%{y}<br>release_date=%{customdata[0]}<extra></extra>",
         "legendgroup": "Mulan",
         "marker": {
          "color": "#ab63fa",
          "symbol": "circle"
         },
         "mode": "markers",
         "name": "Mulan",
         "orientation": "h",
         "showlegend": true,
         "type": "scatter",
         "x": {
          "bdata": "3oQwBw==",
          "dtype": "i4"
         },
         "xaxis": "x",
         "y": [
          "Adventure"
         ],
         "yaxis": "y"
        },
        {
         "customdata": [
          [
           "1998-07-01"
          ]
         ],
         "hovertemplate": "movie_title=Armageddon<br>total_gross=%{x}<br>genre=%{y}<br>release_date=%{customdata[0]}<extra></extra>",
         "legendgroup": "Armageddon",
         "marker": {
          "color": "#FFA15A",
          "symbol": "circle"
         },
         "mode": "markers",
         "name": "Armageddon",
         "orientation": "h",
         "showlegend": true,
         "type": "scatter",
         "x": {
          "bdata": "xtYDDA==",
          "dtype": "i4"
         },
         "xaxis": "x",
         "y": [
          "Adventure"
         ],
         "yaxis": "y"
        },
        {
         "customdata": [
          [
           "1998-07-24"
          ]
         ],
         "hovertemplate": "movie_title=Jane Austen's Mafia<br>total_gross=%{x}<br>genre=%{y}<br>release_date=%{customdata[0]}<extra></extra>",
         "legendgroup": "Jane Austen's Mafia",
         "marker": {
          "color": "#19d3f3",
          "symbol": "circle"
         },
         "mode": "markers",
         "name": "Jane Austen's Mafia",
         "orientation": "h",
         "showlegend": true,
         "type": "scatter",
         "x": {
          "bdata": "08ouAQ==",
          "dtype": "i4"
         },
         "xaxis": "x",
         "y": [
          "Comedy"
         ],
         "yaxis": "y"
        },
        {
         "customdata": [
          [
           "1998-07-29"
          ]
         ],
         "hovertemplate": "movie_title=The Parent Trap<br>total_gross=%{x}<br>genre=%{y}<br>release_date=%{customdata[0]}<extra></extra>",
         "legendgroup": "The Parent Trap",
         "marker": {
          "color": "#FF6692",
          "symbol": "circle"
         },
         "mode": "markers",
         "name": "The Parent Trap",
         "orientation": "h",
         "showlegend": true,
         "type": "scatter",
         "x": {
          "bdata": "psnzAw==",
          "dtype": "i4"
         },
         "xaxis": "x",
         "y": [
          "Comedy"
         ],
         "yaxis": "y"
        },
        {
         "customdata": [
          [
           "1998-09-04"
          ]
         ],
         "hovertemplate": "movie_title=Firelight<br>total_gross=%{x}<br>genre=%{y}<br>release_date=%{customdata[0]}<extra></extra>",
         "legendgroup": "Firelight",
         "marker": {
          "color": "#B6E880",
          "symbol": "circle"
         },
         "mode": "markers",
         "name": "Firelight",
         "orientation": "h",
         "showlegend": true,
         "type": "scatter",
         "x": {
          "bdata": "I/gLAA==",
          "dtype": "i4"
         },
         "xaxis": "x",
         "y": [
          "Drama"
         ],
         "yaxis": "y"
        },
        {
         "customdata": [
          [
           "1998-09-11"
          ]
         ],
         "hovertemplate": "movie_title=Simon Birch<br>total_gross=%{x}<br>genre=%{y}<br>release_date=%{customdata[0]}<extra></extra>",
         "legendgroup": "Simon Birch",
         "marker": {
          "color": "#FF97FF",
          "symbol": "circle"
         },
         "mode": "markers",
         "name": "Simon Birch",
         "orientation": "h",
         "showlegend": true,
         "type": "scatter",
         "x": {
          "bdata": "Z4YWAQ==",
          "dtype": "i4"
         },
         "xaxis": "x",
         "y": [
          "Drama"
         ],
         "yaxis": "y"
        },
        {
         "customdata": [
          [
           "1998-10-09"
          ]
         ],
         "hovertemplate": "movie_title=Holy Man<br>total_gross=%{x}<br>genre=%{y}<br>release_date=%{customdata[0]}<extra></extra>",
         "legendgroup": "Holy Man",
         "marker": {
          "color": "#FECB52",
          "symbol": "circle"
         },
         "mode": "markers",
         "name": "Holy Man",
         "orientation": "h",
         "showlegend": true,
         "type": "scatter",
         "x": {
          "bdata": "Vyu4AA==",
          "dtype": "i4"
         },
         "xaxis": "x",
         "y": [
          "Comedy"
         ],
         "yaxis": "y"
        },
        {
         "customdata": [
          [
           "1998-10-16"
          ]
         ],
         "hovertemplate": "movie_title=Beloved<br>total_gross=%{x}<br>genre=%{y}<br>release_date=%{customdata[0]}<extra></extra>",
         "legendgroup": "Beloved",
         "marker": {
          "color": "#636efa",
          "symbol": "circle"
         },
         "mode": "markers",
         "name": "Beloved",
         "orientation": "h",
         "showlegend": true,
         "type": "scatter",
         "x": {
          "bdata": "h7NcAQ==",
          "dtype": "i4"
         },
         "xaxis": "x",
         "y": [
          "Drama"
         ],
         "yaxis": "y"
        },
        {
         "customdata": [
          [
           "1998-11-06"
          ]
         ],
         "hovertemplate": "movie_title=The Waterboy<br>total_gross=%{x}<br>genre=%{y}<br>release_date=%{customdata[0]}<extra></extra>",
         "legendgroup": "The Waterboy",
         "marker": {
          "color": "#EF553B",
          "symbol": "circle"
         },
         "mode": "markers",
         "name": "The Waterboy",
         "orientation": "h",
         "showlegend": true,
         "type": "scatter",
         "x": {
          "bdata": "viqgCQ==",
          "dtype": "i4"
         },
         "xaxis": "x",
         "y": [
          "Comedy"
         ],
         "yaxis": "y"
        },
        {
         "customdata": [
          [
           "1998-11-13"
          ]
         ],
         "hovertemplate": "movie_title=I'll Be Home For Christmas<br>total_gross=%{x}<br>genre=%{y}<br>release_date=%{customdata[0]}<extra></extra>",
         "legendgroup": "I'll Be Home For Christmas",
         "marker": {
          "color": "#00cc96",
          "symbol": "circle"
         },
         "mode": "markers",
         "name": "I'll Be Home For Christmas",
         "orientation": "h",
         "showlegend": true,
         "type": "scatter",
         "x": {
          "bdata": "QmC6AA==",
          "dtype": "i4"
         },
         "xaxis": "x",
         "y": [
          "Comedy"
         ],
         "yaxis": "y"
        },
        {
         "customdata": [
          [
           "1998-11-20"
          ]
         ],
         "hovertemplate": "movie_title=A Bug's Life<br>total_gross=%{x}<br>genre=%{y}<br>release_date=%{customdata[0]}<extra></extra>",
         "legendgroup": "A Bug's Life",
         "marker": {
          "color": "#ab63fa",
          "symbol": "circle"
         },
         "mode": "markers",
         "name": "A Bug's Life",
         "orientation": "h",
         "showlegend": true,
         "type": "scatter",
         "x": {
          "bdata": "5Ru0CQ==",
          "dtype": "i4"
         },
         "xaxis": "x",
         "y": [
          "Adventure"
         ],
         "yaxis": "y"
        },
        {
         "customdata": [
          [
           "1998-11-20"
          ]
         ],
         "hovertemplate": "movie_title=Enemy of the State<br>total_gross=%{x}<br>genre=%{y}<br>release_date=%{customdata[0]}<extra></extra>",
         "legendgroup": "Enemy of the State",
         "marker": {
          "color": "#FFA15A",
          "symbol": "circle"
         },
         "mode": "markers",
         "name": "Enemy of the State",
         "orientation": "h",
         "showlegend": true,
         "type": "scatter",
         "x": {
          "bdata": "jB2mBg==",
          "dtype": "i4"
         },
         "xaxis": "x",
         "y": [
          "Action"
         ],
         "yaxis": "y"
        },
        {
         "customdata": [
          [
           "1998-12-11"
          ]
         ],
         "hovertemplate": "movie_title=Rushmore<br>total_gross=%{x}<br>genre=%{y}<br>release_date=%{customdata[0]}<extra></extra>",
         "legendgroup": "Rushmore",
         "marker": {
          "color": "#19d3f3",
          "symbol": "circle"
         },
         "mode": "markers",
         "name": "Rushmore",
         "orientation": "h",
         "showlegend": true,
         "type": "scatter",
         "x": {
          "bdata": "QwEFAQ==",
          "dtype": "i4"
         },
         "xaxis": "x",
         "y": [
          "Black Comedy"
         ],
         "yaxis": "y"
        },
        {
         "customdata": [
          [
           "1998-12-25"
          ]
         ],
         "hovertemplate": "movie_title=A Civil Action<br>total_gross=%{x}<br>genre=%{y}<br>release_date=%{customdata[0]}<extra></extra>",
         "legendgroup": "A Civil Action",
         "marker": {
          "color": "#FF6692",
          "symbol": "circle"
         },
         "mode": "markers",
         "name": "A Civil Action",
         "orientation": "h",
         "showlegend": true,
         "type": "scatter",
         "x": {
          "bdata": "XVNhAw==",
          "dtype": "i4"
         },
         "xaxis": "x",
         "y": [
          "Drama"
         ],
         "yaxis": "y"
        },
        {
         "customdata": [
          [
           "1998-12-25"
          ]
         ],
         "hovertemplate": "movie_title=Mighty Joe Young<br>total_gross=%{x}<br>genre=%{y}<br>release_date=%{customdata[0]}<extra></extra>",
         "legendgroup": "Mighty Joe Young",
         "marker": {
          "color": "#B6E880",
          "symbol": "circle"
         },
         "mode": "markers",
         "name": "Mighty Joe Young",
         "orientation": "h",
         "showlegend": true,
         "type": "scatter",
         "x": {
          "bdata": "ZZUEAw==",
          "dtype": "i4"
         },
         "xaxis": "x",
         "y": [
          "Adventure"
         ],
         "yaxis": "y"
        },
        {
         "customdata": [
          [
           "1999-02-12"
          ]
         ],
         "hovertemplate": "movie_title=My Favorite Martian<br>total_gross=%{x}<br>genre=%{y}<br>release_date=%{customdata[0]}<extra></extra>",
         "legendgroup": "My Favorite Martian",
         "marker": {
          "color": "#FF97FF",
          "symbol": "circle"
         },
         "mode": "markers",
         "name": "My Favorite Martian",
         "orientation": "h",
         "showlegend": true,
         "type": "scatter",
         "x": {
          "bdata": "tUkyAg==",
          "dtype": "i4"
         },
         "xaxis": "x",
         "y": [
          "Comedy"
         ],
         "yaxis": "y"
        },
        {
         "customdata": [
          [
           "1999-02-26"
          ]
         ],
         "hovertemplate": "movie_title=The Other Sister<br>total_gross=%{x}<br>genre=%{y}<br>release_date=%{customdata[0]}<extra></extra>",
         "legendgroup": "The Other Sister",
         "marker": {
          "color": "#FECB52",
          "symbol": "circle"
         },
         "mode": "markers",
         "name": "The Other Sister",
         "orientation": "h",
         "showlegend": true,
         "type": "scatter",
         "x": {
          "bdata": "i0+oAQ==",
          "dtype": "i4"
         },
         "xaxis": "x",
         "y": [
          "Romantic Comedy"
         ],
         "yaxis": "y"
        },
        {
         "customdata": [
          [
           "1999-03-26"
          ]
         ],
         "hovertemplate": "movie_title=Doug's 1st Movie<br>total_gross=%{x}<br>genre=%{y}<br>release_date=%{customdata[0]}<extra></extra>",
         "legendgroup": "Doug's 1st Movie",
         "marker": {
          "color": "#636efa",
          "symbol": "circle"
         },
         "mode": "markers",
         "name": "Doug's 1st Movie",
         "orientation": "h",
         "showlegend": true,
         "type": "scatter",
         "x": {
          "bdata": "V1goAQ==",
          "dtype": "i4"
         },
         "xaxis": "x",
         "y": [
          "Adventure"
         ],
         "yaxis": "y"
        },
        {
         "customdata": [
          [
           "1999-03-31"
          ]
         ],
         "hovertemplate": "movie_title=Ten Things I Hate About You<br>total_gross=%{x}<br>genre=%{y}<br>release_date=%{customdata[0]}<extra></extra>",
         "legendgroup": "Ten Things I Hate About You",
         "marker": {
          "color": "#EF553B",
          "symbol": "circle"
         },
         "mode": "markers",
         "name": "Ten Things I Hate About You",
         "orientation": "h",
         "showlegend": true,
         "type": "scatter",
         "x": {
          "bdata": "roxGAg==",
          "dtype": "i4"
         },
         "xaxis": "x",
         "y": [
          "Romantic Comedy"
         ],
         "yaxis": "y"
        },
        {
         "customdata": [
          [
           "1999-05-14"
          ]
         ],
         "hovertemplate": "movie_title=Endurance<br>total_gross=%{x}<br>genre=%{y}<br>release_date=%{customdata[0]}<extra></extra>",
         "legendgroup": "Endurance",
         "marker": {
          "color": "#00cc96",
          "symbol": "circle"
         },
         "mode": "markers",
         "name": "Endurance",
         "orientation": "h",
         "showlegend": true,
         "type": "scatter",
         "x": {
          "bdata": "CH8DAA==",
          "dtype": "i4"
         },
         "xaxis": "x",
         "y": [
          null
         ],
         "yaxis": "y"
        },
        {
         "customdata": [
          [
           "1999-06-04"
          ]
         ],
         "hovertemplate": "movie_title=Instinct<br>total_gross=%{x}<br>genre=%{y}<br>release_date=%{customdata[0]}<extra></extra>",
         "legendgroup": "Instinct",
         "marker": {
          "color": "#ab63fa",
          "symbol": "circle"
         },
         "mode": "markers",
         "name": "Instinct",
         "orientation": "h",
         "showlegend": true,
         "type": "scatter",
         "x": {
          "bdata": "d2cIAg==",
          "dtype": "i4"
         },
         "xaxis": "x",
         "y": [
          "Drama"
         ],
         "yaxis": "y"
        },
        {
         "customdata": [
          [
           "1999-06-16"
          ]
         ],
         "hovertemplate": "movie_title=Tarzan<br>total_gross=%{x}<br>genre=%{y}<br>release_date=%{customdata[0]}<extra></extra>",
         "legendgroup": "Tarzan",
         "marker": {
          "color": "#FFA15A",
          "symbol": "circle"
         },
         "mode": "markers",
         "name": "Tarzan",
         "orientation": "h",
         "showlegend": true,
         "type": "scatter",
         "x": {
          "bdata": "a6cyCg==",
          "dtype": "i4"
         },
         "xaxis": "x",
         "y": [
          "Adventure"
         ],
         "yaxis": "y"
        },
        {
         "customdata": [
          [
           "1999-07-02"
          ]
         ],
         "hovertemplate": "movie_title=Summer of Sam<br>total_gross=%{x}<br>genre=%{y}<br>release_date=%{customdata[0]}<extra></extra>",
         "legendgroup": "Summer of Sam",
         "marker": {
          "color": "#19d3f3",
          "symbol": "circle"
         },
         "mode": "markers",
         "name": "Summer of Sam",
         "orientation": "h",
         "showlegend": true,
         "type": "scatter",
         "x": {
          "bdata": "QlAmAQ==",
          "dtype": "i4"
         },
         "xaxis": "x",
         "y": [
          "Drama"
         ],
         "yaxis": "y"
        },
        {
         "customdata": [
          [
           "1999-07-23"
          ]
         ],
         "hovertemplate": "movie_title=Inspector Gadget<br>total_gross=%{x}<br>genre=%{y}<br>release_date=%{customdata[0]}<extra></extra>",
         "legendgroup": "Inspector Gadget",
         "marker": {
          "color": "#FF6692",
          "symbol": "circle"
         },
         "mode": "markers",
         "name": "Inspector Gadget",
         "orientation": "h",
         "showlegend": true,
         "type": "scatter",
         "x": {
          "bdata": "vQXOBQ==",
          "dtype": "i4"
         },
         "xaxis": "x",
         "y": [
          "Comedy"
         ],
         "yaxis": "y"
        },
        {
         "customdata": [
          [
           "1999-08-06"
          ]
         ],
         "hovertemplate": "movie_title=The Sixth Sense<br>total_gross=%{x}<br>genre=%{y}<br>release_date=%{customdata[0]}<extra></extra>",
         "legendgroup": "The Sixth Sense",
         "marker": {
          "color": "#B6E880",
          "symbol": "circle"
         },
         "mode": "markers",
         "name": "The Sixth Sense",
         "orientation": "h",
         "showlegend": true,
         "type": "scatter",
         "x": {
          "bdata": "9Ix+EQ==",
          "dtype": "i4"
         },
         "xaxis": "x",
         "y": [
          "Thriller/Suspense"
         ],
         "yaxis": "y"
        },
        {
         "customdata": [
          [
           "1999-08-27"
          ]
         ],
         "hovertemplate": "movie_title=The 13th Warrior<br>total_gross=%{x}<br>genre=%{y}<br>release_date=%{customdata[0]}<extra></extra>",
         "legendgroup": "The 13th Warrior",
         "marker": {
          "color": "#FF97FF",
          "symbol": "circle"
         },
         "mode": "markers",
         "name": "The 13th Warrior",
         "orientation": "h",
         "showlegend": true,
         "type": "scatter",
         "x": {
          "bdata": "E/LyAQ==",
          "dtype": "i4"
         },
         "xaxis": "x",
         "y": [
          "Action"
         ],
         "yaxis": "y"
        },
        {
         "customdata": [
          [
           "1999-09-17"
          ]
         ],
         "hovertemplate": "movie_title=Breakfast of Champions<br>total_gross=%{x}<br>genre=%{y}<br>release_date=%{customdata[0]}<extra></extra>",
         "legendgroup": "Breakfast of Champions",
         "marker": {
          "color": "#FECB52",
          "symbol": "circle"
         },
         "mode": "markers",
         "name": "Breakfast of Champions",
         "orientation": "h",
         "showlegend": true,
         "type": "scatter",
         "x": {
          "bdata": "b7gCAA==",
          "dtype": "i4"
         },
         "xaxis": "x",
         "y": [
          "Comedy"
         ],
         "yaxis": "y"
        },
        {
         "customdata": [
          [
           "1999-09-24"
          ]
         ],
         "hovertemplate": "movie_title=Mumford<br>total_gross=%{x}<br>genre=%{y}<br>release_date=%{customdata[0]}<extra></extra>",
         "legendgroup": "Mumford",
         "marker": {
          "color": "#636efa",
          "symbol": "circle"
         },
         "mode": "markers",
         "name": "Mumford",
         "orientation": "h",
         "showlegend": true,
         "type": "scatter",
         "x": {
          "bdata": "0ZJFAA==",
          "dtype": "i4"
         },
         "xaxis": "x",
         "y": [
          "Comedy"
         ],
         "yaxis": "y"
        },
        {
         "customdata": [
          [
           "1999-10-01"
          ]
         ],
         "hovertemplate": "movie_title=Mystery, Alaska<br>total_gross=%{x}<br>genre=%{y}<br>release_date=%{customdata[0]}<extra></extra>",
         "legendgroup": "Mystery, Alaska",
         "marker": {
          "color": "#EF553B",
          "symbol": "circle"
         },
         "mode": "markers",
         "name": "Mystery, Alaska",
         "orientation": "h",
         "showlegend": true,
         "type": "scatter",
         "x": {
          "bdata": "56yHAA==",
          "dtype": "i4"
         },
         "xaxis": "x",
         "y": [
          "Comedy"
         ],
         "yaxis": "y"
        },
        {
         "customdata": [
          [
           "1999-10-15"
          ]
         ],
         "hovertemplate": "movie_title=The Straight Story<br>total_gross=%{x}<br>genre=%{y}<br>release_date=%{customdata[0]}<extra></extra>",
         "legendgroup": "The Straight Story",
         "marker": {
          "color": "#00cc96",
          "symbol": "circle"
         },
         "mode": "markers",
         "name": "The Straight Story",
         "orientation": "h",
         "showlegend": true,
         "type": "scatter",
         "x": {
          "bdata": "apJeAA==",
          "dtype": "i4"
         },
         "xaxis": "x",
         "y": [
          "Drama"
         ],
         "yaxis": "y"
        },
        {
         "customdata": [
          [
           "1999-11-05"
          ]
         ],
         "hovertemplate": "movie_title=The Insider<br>total_gross=%{x}<br>genre=%{y}<br>release_date=%{customdata[0]}<extra></extra>",
         "legendgroup": "The Insider",
         "marker": {
          "color": "#ab63fa",
          "symbol": "circle"
         },
         "mode": "markers",
         "name": "The Insider",
         "orientation": "h",
         "showlegend": true,
         "type": "scatter",
         "x": {
          "bdata": "Tfm5AQ==",
          "dtype": "i4"
         },
         "xaxis": "x",
         "y": [
          "Drama"
         ],
         "yaxis": "y"
        },
        {
         "customdata": [
          [
           "1999-11-19"
          ]
         ],
         "hovertemplate": "movie_title=Toy Story 2<br>total_gross=%{x}<br>genre=%{y}<br>release_date=%{customdata[0]}<extra></extra>",
         "legendgroup": "Toy Story 2",
         "marker": {
          "color": "#FFA15A",
          "symbol": "circle"
         },
         "mode": "markers",
         "name": "Toy Story 2",
         "orientation": "h",
         "showlegend": true,
         "type": "scatter",
         "x": {
          "bdata": "E2inDg==",
          "dtype": "i4"
         },
         "xaxis": "x",
         "y": [
          "Adventure"
         ],
         "yaxis": "y"
        },
        {
         "customdata": [
          [
           "1999-12-08"
          ]
         ],
         "hovertemplate": "movie_title=Cradle Will Rock<br>total_gross=%{x}<br>genre=%{y}<br>release_date=%{customdata[0]}<extra></extra>",
         "legendgroup": "Cradle Will Rock",
         "marker": {
          "color": "#19d3f3",
          "symbol": "circle"
         },
         "mode": "markers",
         "name": "Cradle Will Rock",
         "orientation": "h",
         "showlegend": true,
         "type": "scatter",
         "x": {
          "bdata": "AkAsAA==",
          "dtype": "i4"
         },
         "xaxis": "x",
         "y": [
          "Drama"
         ],
         "yaxis": "y"
        },
        {
         "customdata": [
          [
           "1999-12-10"
          ]
         ],
         "hovertemplate": "movie_title=Deuce Bigalow: Male Gigolo<br>total_gross=%{x}<br>genre=%{y}<br>release_date=%{customdata[0]}<extra></extra>",
         "legendgroup": "Deuce Bigalow: Male Gigolo",
         "marker": {
          "color": "#FF6692",
          "symbol": "circle"
         },
         "mode": "markers",
         "name": "Deuce Bigalow: Male Gigolo",
         "orientation": "h",
         "showlegend": true,
         "type": "scatter",
         "x": {
          "bdata": "W/znAw==",
          "dtype": "i4"
         },
         "xaxis": "x",
         "y": [
          "Comedy"
         ],
         "yaxis": "y"
        },
        {
         "customdata": [
          [
           "1999-12-17"
          ]
         ],
         "hovertemplate": "movie_title=Bicentennial Man<br>total_gross=%{x}<br>genre=%{y}<br>release_date=%{customdata[0]}<extra></extra>",
         "legendgroup": "Bicentennial Man",
         "marker": {
          "color": "#B6E880",
          "symbol": "circle"
         },
         "mode": "markers",
         "name": "Bicentennial Man",
         "orientation": "h",
         "showlegend": true,
         "type": "scatter",
         "x": {
          "bdata": "6GB4Aw==",
          "dtype": "i4"
         },
         "xaxis": "x",
         "y": [
          "Drama"
         ],
         "yaxis": "y"
        },
        {
         "customdata": [
          [
           "1999-12-24"
          ]
         ],
         "hovertemplate": "movie_title=Play it to the Bone<br>total_gross=%{x}<br>genre=%{y}<br>release_date=%{customdata[0]}<extra></extra>",
         "legendgroup": "Play it to the Bone",
         "marker": {
          "color": "#FF97FF",
          "symbol": "circle"
         },
         "mode": "markers",
         "name": "Play it to the Bone",
         "orientation": "h",
         "showlegend": true,
         "type": "scatter",
         "x": {
          "bdata": "xJaAAA==",
          "dtype": "i4"
         },
         "xaxis": "x",
         "y": [
          "Comedy"
         ],
         "yaxis": "y"
        },
        {
         "customdata": [
          [
           "2000-01-01"
          ]
         ],
         "hovertemplate": "movie_title=Fantasia 2000 (IMAX)<br>total_gross=%{x}<br>genre=%{y}<br>release_date=%{customdata[0]}<extra></extra>",
         "legendgroup": "Fantasia 2000 (IMAX)",
         "marker": {
          "color": "#FECB52",
          "symbol": "circle"
         },
         "mode": "markers",
         "name": "Fantasia 2000 (IMAX)",
         "orientation": "h",
         "showlegend": true,
         "type": "scatter",
         "x": {
          "bdata": "XESbAw==",
          "dtype": "i4"
         },
         "xaxis": "x",
         "y": [
          "Musical"
         ],
         "yaxis": "y"
        },
        {
         "customdata": [
          [
           "2000-02-04"
          ]
         ],
         "hovertemplate": "movie_title=Gun Shy<br>total_gross=%{x}<br>genre=%{y}<br>release_date=%{customdata[0]}<extra></extra>",
         "legendgroup": "Gun Shy",
         "marker": {
          "color": "#636efa",
          "symbol": "circle"
         },
         "mode": "markers",
         "name": "Gun Shy",
         "orientation": "h",
         "showlegend": true,
         "type": "scatter",
         "x": {
          "bdata": "Ov8YAA==",
          "dtype": "i4"
         },
         "xaxis": "x",
         "y": [
          "Comedy"
         ],
         "yaxis": "y"
        },
        {
         "customdata": [
          [
           "2000-02-11"
          ]
         ],
         "hovertemplate": "movie_title=The Tigger Movie<br>total_gross=%{x}<br>genre=%{y}<br>release_date=%{customdata[0]}<extra></extra>",
         "legendgroup": "The Tigger Movie",
         "marker": {
          "color": "#EF553B",
          "symbol": "circle"
         },
         "mode": "markers",
         "name": "The Tigger Movie",
         "orientation": "h",
         "showlegend": true,
         "type": "scatter",
         "x": {
          "bdata": "Fey2Ag==",
          "dtype": "i4"
         },
         "xaxis": "x",
         "y": [
          "Adventure"
         ],
         "yaxis": "y"
        },
        {
         "customdata": [
          [
           "2000-03-10"
          ]
         ],
         "hovertemplate": "movie_title=Mission to Mars<br>total_gross=%{x}<br>genre=%{y}<br>release_date=%{customdata[0]}<extra></extra>",
         "legendgroup": "Mission to Mars",
         "marker": {
          "color": "#00cc96",
          "symbol": "circle"
         },
         "mode": "markers",
         "name": "Mission to Mars",
         "orientation": "h",
         "showlegend": true,
         "type": "scatter",
         "x": {
          "bdata": "d9+gAw==",
          "dtype": "i4"
         },
         "xaxis": "x",
         "y": [
          "Adventure"
         ],
         "yaxis": "y"
        },
        {
         "customdata": [
          [
           "2000-03-31"
          ]
         ],
         "hovertemplate": "movie_title=High Fidelity<br>total_gross=%{x}<br>genre=%{y}<br>release_date=%{customdata[0]}<extra></extra>",
         "legendgroup": "High Fidelity",
         "marker": {
          "color": "#ab63fa",
          "symbol": "circle"
         },
         "mode": "markers",
         "name": "High Fidelity",
         "orientation": "h",
         "showlegend": true,
         "type": "scatter",
         "x": {
          "bdata": "/zagAQ==",
          "dtype": "i4"
         },
         "xaxis": "x",
         "y": [
          "Comedy"
         ],
         "yaxis": "y"
        },
        {
         "customdata": [
          [
           "2000-04-14"
          ]
         ],
         "hovertemplate": "movie_title=Keeping the Faith<br>total_gross=%{x}<br>genre=%{y}<br>release_date=%{customdata[0]}<extra></extra>",
         "legendgroup": "Keeping the Faith",
         "marker": {
          "color": "#FFA15A",
          "symbol": "circle"
         },
         "mode": "markers",
         "name": "Keeping the Faith",
         "orientation": "h",
         "showlegend": true,
         "type": "scatter",
         "x": {
          "bdata": "dCE1Ag==",
          "dtype": "i4"
         },
         "xaxis": "x",
         "y": [
          "Romantic Comedy"
         ],
         "yaxis": "y"
        },
        {
         "customdata": [
          [
           "2000-05-19"
          ]
         ],
         "hovertemplate": "movie_title=Dinosaur<br>total_gross=%{x}<br>genre=%{y}<br>release_date=%{customdata[0]}<extra></extra>",
         "legendgroup": "Dinosaur",
         "marker": {
          "color": "#19d3f3",
          "symbol": "circle"
         },
         "mode": "markers",
         "name": "Dinosaur",
         "orientation": "h",
         "showlegend": true,
         "type": "scatter",
         "x": {
          "bdata": "X941CA==",
          "dtype": "i4"
         },
         "xaxis": "x",
         "y": [
          "Adventure"
         ],
         "yaxis": "y"
        },
        {
         "customdata": [
          [
           "2000-05-26"
          ]
         ],
         "hovertemplate": "movie_title=Shanghai Noon<br>total_gross=%{x}<br>genre=%{y}<br>release_date=%{customdata[0]}<extra></extra>",
         "legendgroup": "Shanghai Noon",
         "marker": {
          "color": "#FF6692",
          "symbol": "circle"
         },
         "mode": "markers",
         "name": "Shanghai Noon",
         "orientation": "h",
         "showlegend": true,
         "type": "scatter",
         "x": {
          "bdata": "0bdkAw==",
          "dtype": "i4"
         },
         "xaxis": "x",
         "y": [
          "Western"
         ],
         "yaxis": "y"
        },
        {
         "customdata": [
          [
           "2000-06-09"
          ]
         ],
         "hovertemplate": "movie_title=Gone in 60 Seconds<br>total_gross=%{x}<br>genre=%{y}<br>release_date=%{customdata[0]}<extra></extra>",
         "legendgroup": "Gone in 60 Seconds",
         "marker": {
          "color": "#B6E880",
          "symbol": "circle"
         },
         "mode": "markers",
         "name": "Gone in 60 Seconds",
         "orientation": "h",
         "showlegend": true,
         "type": "scatter",
         "x": {
          "bdata": "APMOBg==",
          "dtype": "i4"
         },
         "xaxis": "x",
         "y": [
          "Action"
         ],
         "yaxis": "y"
        },
        {
         "customdata": [
          [
           "2000-06-16"
          ]
         ],
         "hovertemplate": "movie_title=Fantasia 2000 (Theatrical Release)<br>total_gross=%{x}<br>genre=%{y}<br>release_date=%{customdata[0]}<extra></extra>",
         "legendgroup": "Fantasia 2000 (Theatrical Release)",
         "marker": {
          "color": "#FF97FF",
          "symbol": "circle"
         },
         "mode": "markers",
         "name": "Fantasia 2000 (Theatrical Release)",
         "orientation": "h",
         "showlegend": true,
         "type": "scatter",
         "x": {
          "bdata": "DumKAA==",
          "dtype": "i4"
         },
         "xaxis": "x",
         "y": [
          "Musical"
         ],
         "yaxis": "y"
        },
        {
         "customdata": [
          [
           "2000-07-07"
          ]
         ],
         "hovertemplate": "movie_title=The Kid<br>total_gross=%{x}<br>genre=%{y}<br>release_date=%{customdata[0]}<extra></extra>",
         "legendgroup": "The Kid",
         "marker": {
          "color": "#FECB52",
          "symbol": "circle"
         },
         "mode": "markers",
         "name": "The Kid",
         "orientation": "h",
         "showlegend": true,
         "type": "scatter",
         "x": {
          "bdata": "QFwnBA==",
          "dtype": "i4"
         },
         "xaxis": "x",
         "y": [
          "Comedy"
         ],
         "yaxis": "y"
        },
        {
         "customdata": [
          [
           "2000-08-04"
          ]
         ],
         "hovertemplate": "movie_title=Coyote Ugly<br>total_gross=%{x}<br>genre=%{y}<br>release_date=%{customdata[0]}<extra></extra>",
         "legendgroup": "Coyote Ugly",
         "marker": {
          "color": "#636efa",
          "symbol": "circle"
         },
         "mode": "markers",
         "name": "Coyote Ugly",
         "orientation": "h",
         "showlegend": true,
         "type": "scatter",
         "x": {
          "bdata": "XYafAw==",
          "dtype": "i4"
         },
         "xaxis": "x",
         "y": [
          "Drama"
         ],
         "yaxis": "y"
        },
        {
         "customdata": [
          [
           "2000-08-25"
          ]
         ],
         "hovertemplate": "movie_title=The Crew<br>total_gross=%{x}<br>genre=%{y}<br>release_date=%{customdata[0]}<extra></extra>",
         "legendgroup": "The Crew",
         "marker": {
          "color": "#EF553B",
          "symbol": "circle"
         },
         "mode": "markers",
         "name": "The Crew",
         "orientation": "h",
         "showlegend": true,
         "type": "scatter",
         "x": {
          "bdata": "dajGAA==",
          "dtype": "i4"
         },
         "xaxis": "x",
         "y": [
          "Comedy"
         ],
         "yaxis": "y"
        },
        {
         "customdata": [
          [
           "2000-09-15"
          ]
         ],
         "hovertemplate": "movie_title=Duets<br>total_gross=%{x}<br>genre=%{y}<br>release_date=%{customdata[0]}<extra></extra>",
         "legendgroup": "Duets",
         "marker": {
          "color": "#00cc96",
          "symbol": "circle"
         },
         "mode": "markers",
         "name": "Duets",
         "orientation": "h",
         "showlegend": true,
         "type": "scatter",
         "x": {
          "bdata": "Gz1IAA==",
          "dtype": "i4"
         },
         "xaxis": "x",
         "y": [
          "Drama"
         ],
         "yaxis": "y"
        },
        {
         "customdata": [
          [
           "2000-09-29"
          ]
         ],
         "hovertemplate": "movie_title=Remember the Titans<br>total_gross=%{x}<br>genre=%{y}<br>release_date=%{customdata[0]}<extra></extra>",
         "legendgroup": "Remember the Titans",
         "marker": {
          "color": "#ab63fa",
          "symbol": "circle"
         },
         "mode": "markers",
         "name": "Remember the Titans",
         "orientation": "h",
         "showlegend": true,
         "type": "scatter",
         "x": {
          "bdata": "X8DkBg==",
          "dtype": "i4"
         },
         "xaxis": "x",
         "y": [
          "Drama"
         ],
         "yaxis": "y"
        },
        {
         "customdata": [
          [
           "2000-11-22"
          ]
         ],
         "hovertemplate": "movie_title=Unbreakable<br>total_gross=%{x}<br>genre=%{y}<br>release_date=%{customdata[0]}<extra></extra>",
         "legendgroup": "Unbreakable",
         "marker": {
          "color": "#FFA15A",
          "symbol": "circle"
         },
         "mode": "markers",
         "name": "Unbreakable",
         "orientation": "h",
         "showlegend": true,
         "type": "scatter",
         "x": {
          "bdata": "Z5KpBQ==",
          "dtype": "i4"
         },
         "xaxis": "x",
         "y": [
          "Thriller/Suspense"
         ],
         "yaxis": "y"
        },
        {
         "customdata": [
          [
           "2000-11-22"
          ]
         ],
         "hovertemplate": "movie_title=102 Dalmatians<br>total_gross=%{x}<br>genre=%{y}<br>release_date=%{customdata[0]}<extra></extra>",
         "legendgroup": "102 Dalmatians",
         "marker": {
          "color": "#19d3f3",
          "symbol": "circle"
         },
         "mode": "markers",
         "name": "102 Dalmatians",
         "orientation": "h",
         "showlegend": true,
         "type": "scatter",
         "x": {
          "bdata": "d3L9Aw==",
          "dtype": "i4"
         },
         "xaxis": "x",
         "y": [
          "Comedy"
         ],
         "yaxis": "y"
        },
        {
         "customdata": [
          [
           "2000-12-15"
          ]
         ],
         "hovertemplate": "movie_title=The Emperor's New Groove<br>total_gross=%{x}<br>genre=%{y}<br>release_date=%{customdata[0]}<extra></extra>",
         "legendgroup": "The Emperor's New Groove",
         "marker": {
          "color": "#FF6692",
          "symbol": "circle"
         },
         "mode": "markers",
         "name": "The Emperor's New Groove",
         "orientation": "h",
         "showlegend": true,
         "type": "scatter",
         "x": {
          "bdata": "vY5SBQ==",
          "dtype": "i4"
         },
         "xaxis": "x",
         "y": [
          "Adventure"
         ],
         "yaxis": "y"
        },
        {
         "customdata": [
          [
           "2000-12-22"
          ]
         ],
         "hovertemplate": "movie_title=O Brother, Where Art Thou?<br>total_gross=%{x}<br>genre=%{y}<br>release_date=%{customdata[0]}<extra></extra>",
         "legendgroup": "O Brother, Where Art Thou?",
         "marker": {
          "color": "#B6E880",
          "symbol": "circle"
         },
         "mode": "markers",
         "name": "O Brother, Where Art Thou?",
         "orientation": "h",
         "showlegend": true,
         "type": "scatter",
         "x": {
          "bdata": "O2C2Ag==",
          "dtype": "i4"
         },
         "xaxis": "x",
         "y": [
          "Comedy"
         ],
         "yaxis": "y"
        },
        {
         "customdata": [
          [
           "2001-01-12"
          ]
         ],
         "hovertemplate": "movie_title=Double Take<br>total_gross=%{x}<br>genre=%{y}<br>release_date=%{customdata[0]}<extra></extra>",
         "legendgroup": "Double Take",
         "marker": {
          "color": "#FF97FF",
          "symbol": "circle"
         },
         "mode": "markers",
         "name": "Double Take",
         "orientation": "h",
         "showlegend": true,
         "type": "scatter",
         "x": {
          "bdata": "uhDHAQ==",
          "dtype": "i4"
         },
         "xaxis": "x",
         "y": [
          "Action"
         ],
         "yaxis": "y"
        },
        {
         "customdata": [
          [
           "2001-02-16"
          ]
         ],
         "hovertemplate": "movie_title=Recess: School's Out<br>total_gross=%{x}<br>genre=%{y}<br>release_date=%{customdata[0]}<extra></extra>",
         "legendgroup": "Recess: School's Out",
         "marker": {
          "color": "#FECB52",
          "symbol": "circle"
         },
         "mode": "markers",
         "name": "Recess: School's Out",
         "orientation": "h",
         "showlegend": true,
         "type": "scatter",
         "x": {
          "bdata": "ufIvAg==",
          "dtype": "i4"
         },
         "xaxis": "x",
         "y": [
          "Comedy"
         ],
         "yaxis": "y"
        },
        {
         "customdata": [
          [
           "2001-04-06"
          ]
         ],
         "hovertemplate": "movie_title=Just Visiting<br>total_gross=%{x}<br>genre=%{y}<br>release_date=%{customdata[0]}<extra></extra>",
         "legendgroup": "Just Visiting",
         "marker": {
          "color": "#636efa",
          "symbol": "circle"
         },
         "mode": "markers",
         "name": "Just Visiting",
         "orientation": "h",
         "showlegend": true,
         "type": "scatter",
         "x": {
          "bdata": "L+RIAA==",
          "dtype": "i4"
         },
         "xaxis": "x",
         "y": [
          "Comedy"
         ],
         "yaxis": "y"
        },
        {
         "customdata": [
          [
           "2001-05-25"
          ]
         ],
         "hovertemplate": "movie_title=Pearl Harbor<br>total_gross=%{x}<br>genre=%{y}<br>release_date=%{customdata[0]}<extra></extra>",
         "legendgroup": "Pearl Harbor",
         "marker": {
          "color": "#EF553B",
          "symbol": "circle"
         },
         "mode": "markers",
         "name": "Pearl Harbor",
         "orientation": "h",
         "showlegend": true,
         "type": "scatter",
         "x": {
          "bdata": "T3rVCw==",
          "dtype": "i4"
         },
         "xaxis": "x",
         "y": [
          "Action"
         ],
         "yaxis": "y"
        },
        {
         "customdata": [
          [
           "2001-06-08"
          ]
         ],
         "hovertemplate": "movie_title=Atlantis: The Lost Empire<br>total_gross=%{x}<br>genre=%{y}<br>release_date=%{customdata[0]}<extra></extra>",
         "legendgroup": "Atlantis: The Lost Empire",
         "marker": {
          "color": "#00cc96",
          "symbol": "circle"
         },
         "mode": "markers",
         "name": "Atlantis: The Lost Empire",
         "orientation": "h",
         "showlegend": true,
         "type": "scatter",
         "x": {
          "bdata": "GosCBQ==",
          "dtype": "i4"
         },
         "xaxis": "x",
         "y": [
          "Adventure"
         ],
         "yaxis": "y"
        },
        {
         "customdata": [
          [
           "2001-06-29"
          ]
         ],
         "hovertemplate": "movie_title=crazy/beautiful<br>total_gross=%{x}<br>genre=%{y}<br>release_date=%{customdata[0]}<extra></extra>",
         "legendgroup": "crazy/beautiful",
         "marker": {
          "color": "#ab63fa",
          "symbol": "circle"
         },
         "mode": "markers",
         "name": "crazy/beautiful",
         "orientation": "h",
         "showlegend": true,
         "type": "scatter",
         "x": {
          "bdata": "Y1ECAQ==",
          "dtype": "i4"
         },
         "xaxis": "x",
         "y": [
          "Drama"
         ],
         "yaxis": "y"
        },
        {
         "customdata": [
          [
           "2001-08-03"
          ]
         ],
         "hovertemplate": "movie_title=The Princess Diaries<br>total_gross=%{x}<br>genre=%{y}<br>release_date=%{customdata[0]}<extra></extra>",
         "legendgroup": "The Princess Diaries",
         "marker": {
          "color": "#FFA15A",
          "symbol": "circle"
         },
         "mode": "markers",
         "name": "The Princess Diaries",
         "orientation": "h",
         "showlegend": true,
         "type": "scatter",
         "x": {
          "bdata": "Jq9zBg==",
          "dtype": "i4"
         },
         "xaxis": "x",
         "y": [
          "Comedy"
         ],
         "yaxis": "y"
        },
        {
         "customdata": [
          [
           "2001-08-24"
          ]
         ],
         "hovertemplate": "movie_title=Bubble Boy<br>total_gross=%{x}<br>genre=%{y}<br>release_date=%{customdata[0]}<extra></extra>",
         "legendgroup": "Bubble Boy",
         "marker": {
          "color": "#19d3f3",
          "symbol": "circle"
         },
         "mode": "markers",
         "name": "Bubble Boy",
         "orientation": "h",
         "showlegend": true,
         "type": "scatter",
         "x": {
          "bdata": "RlRMAA==",
          "dtype": "i4"
         },
         "xaxis": "x",
         "y": [
          "Comedy"
         ],
         "yaxis": "y"
        },
        {
         "customdata": [
          [
           "2001-10-05"
          ]
         ],
         "hovertemplate": "movie_title=Max Keeble's Big Move<br>total_gross=%{x}<br>genre=%{y}<br>release_date=%{customdata[0]}<extra></extra>",
         "legendgroup": "Max Keeble's Big Move",
         "marker": {
          "color": "#FF6692",
          "symbol": "circle"
         },
         "mode": "markers",
         "name": "Max Keeble's Big Move",
         "orientation": "h",
         "showlegend": true,
         "type": "scatter",
         "x": {
          "bdata": "XdwHAQ==",
          "dtype": "i4"
         },
         "xaxis": "x",
         "y": [
          "Comedy"
         ],
         "yaxis": "y"
        },
        {
         "customdata": [
          [
           "2001-10-12"
          ]
         ],
         "hovertemplate": "movie_title=Corky Romano<br>total_gross=%{x}<br>genre=%{y}<br>release_date=%{customdata[0]}<extra></extra>",
         "legendgroup": "Corky Romano",
         "marker": {
          "color": "#B6E880",
          "symbol": "circle"
         },
         "mode": "markers",
         "name": "Corky Romano",
         "orientation": "h",
         "showlegend": true,
         "type": "scatter",
         "x": {
          "bdata": "ouFtAQ==",
          "dtype": "i4"
         },
         "xaxis": "x",
         "y": [
          "Comedy"
         ],
         "yaxis": "y"
        },
        {
         "customdata": [
          [
           "2001-10-26"
          ]
         ],
         "hovertemplate": "movie_title=High Heels and Low Lifes<br>total_gross=%{x}<br>genre=%{y}<br>release_date=%{customdata[0]}<extra></extra>",
         "legendgroup": "High Heels and Low Lifes",
         "marker": {
          "color": "#FF97FF",
          "symbol": "circle"
         },
         "mode": "markers",
         "name": "High Heels and Low Lifes",
         "orientation": "h",
         "showlegend": true,
         "type": "scatter",
         "x": {
          "bdata": "6HUDAA==",
          "dtype": "i4"
         },
         "xaxis": "x",
         "y": [
          null
         ],
         "yaxis": "y"
        },
        {
         "customdata": [
          [
           "2001-11-02"
          ]
         ],
         "hovertemplate": "movie_title=Monsters, Inc.<br>total_gross=%{x}<br>genre=%{y}<br>release_date=%{customdata[0]}<extra></extra>",
         "legendgroup": "Monsters, Inc.",
         "marker": {
          "color": "#FECB52",
          "symbol": "circle"
         },
         "mode": "markers",
         "name": "Monsters, Inc.",
         "orientation": "h",
         "showlegend": true,
         "type": "scatter",
         "x": {
          "bdata": "QUBAEQ==",
          "dtype": "i4"
         },
         "xaxis": "x",
         "y": [
          "Adventure"
         ],
         "yaxis": "y"
        },
        {
         "customdata": [
          [
           "2001-11-21"
          ]
         ],
         "hovertemplate": "movie_title=Out Cold<br>total_gross=%{x}<br>genre=%{y}<br>release_date=%{customdata[0]}<extra></extra>",
         "legendgroup": "Out Cold",
         "marker": {
          "color": "#636efa",
          "symbol": "circle"
         },
         "mode": "markers",
         "name": "Out Cold",
         "orientation": "h",
         "showlegend": true,
         "type": "scatter",
         "x": {
          "bdata": "2jHUAA==",
          "dtype": "i4"
         },
         "xaxis": "x",
         "y": [
          "Comedy"
         ],
         "yaxis": "y"
        },
        {
         "customdata": [
          [
           "2001-12-14"
          ]
         ],
         "hovertemplate": "movie_title=The Royal Tenenbaums<br>total_gross=%{x}<br>genre=%{y}<br>release_date=%{customdata[0]}<extra></extra>",
         "legendgroup": "The Royal Tenenbaums",
         "marker": {
          "color": "#EF553B",
          "symbol": "circle"
         },
         "mode": "markers",
         "name": "The Royal Tenenbaums",
         "orientation": "h",
         "showlegend": true,
         "type": "scatter",
         "x": {
          "bdata": "ZNoeAw==",
          "dtype": "i4"
         },
         "xaxis": "x",
         "y": [
          "Black Comedy"
         ],
         "yaxis": "y"
        },
        {
         "customdata": [
          [
           "2002-01-01"
          ]
         ],
         "hovertemplate": "movie_title=Beauty and the Beast (IMAX)<br>total_gross=%{x}<br>genre=%{y}<br>release_date=%{customdata[0]}<extra></extra>",
         "legendgroup": "Beauty and the Beast (IMAX)",
         "marker": {
          "color": "#00cc96",
          "symbol": "circle"
         },
         "mode": "markers",
         "name": "Beauty and the Beast (IMAX)",
         "orientation": "h",
         "showlegend": true,
         "type": "scatter",
         "x": {
          "bdata": "tOaEAQ==",
          "dtype": "i4"
         },
         "xaxis": "x",
         "y": [
          "Musical"
         ],
         "yaxis": "y"
        },
        {
         "customdata": [
          [
           "2002-01-01"
          ]
         ],
         "hovertemplate": "movie_title=Frank McKlusky C.I.<br>total_gross=%{x}<br>genre=%{y}<br>release_date=%{customdata[0]}<extra></extra>",
         "legendgroup": "Frank McKlusky C.I.",
         "marker": {
          "color": "#ab63fa",
          "symbol": "circle"
         },
         "mode": "markers",
         "name": "Frank McKlusky C.I.",
         "orientation": "h",
         "showlegend": true,
         "type": "scatter",
         "x": {
          "bdata": "AA==",
          "dtype": "i1"
         },
         "xaxis": "x",
         "y": [
          null
         ],
         "yaxis": "y"
        },
        {
         "customdata": [
          [
           "2002-01-18"
          ]
         ],
         "hovertemplate": "movie_title=Snow Dogs<br>total_gross=%{x}<br>genre=%{y}<br>release_date=%{customdata[0]}<extra></extra>",
         "legendgroup": "Snow Dogs",
         "marker": {
          "color": "#FFA15A",
          "symbol": "circle"
         },
         "mode": "markers",
         "name": "Snow Dogs",
         "orientation": "h",
         "showlegend": true,
         "type": "scatter",
         "x": {
          "bdata": "5ELWBA==",
          "dtype": "i4"
         },
         "xaxis": "x",
         "y": [
          "Comedy"
         ],
         "yaxis": "y"
        },
        {
         "customdata": [
          [
           "2002-01-25"
          ]
         ],
         "hovertemplate": "movie_title=The Count of Monte Cristo<br>total_gross=%{x}<br>genre=%{y}<br>release_date=%{customdata[0]}<extra></extra>",
         "legendgroup": "The Count of Monte Cristo",
         "marker": {
          "color": "#19d3f3",
          "symbol": "circle"
         },
         "mode": "markers",
         "name": "The Count of Monte Cristo",
         "orientation": "h",
         "showlegend": true,
         "type": "scatter",
         "x": {
          "bdata": "iHQ7Aw==",
          "dtype": "i4"
         },
         "xaxis": "x",
         "y": [
          "Drama"
         ],
         "yaxis": "y"
        },
        {
         "customdata": [
          [
           "2002-02-15"
          ]
         ],
         "hovertemplate": "movie_title=Peter Pan: Return to Neverland<br>total_gross=%{x}<br>genre=%{y}<br>release_date=%{customdata[0]}<extra></extra>",
         "legendgroup": "Peter Pan: Return to Neverland",
         "marker": {
          "color": "#FF6692",
          "symbol": "circle"
         },
         "mode": "markers",
         "name": "Peter Pan: Return to Neverland",
         "orientation": "h",
         "showlegend": true,
         "type": "scatter",
         "x": {
          "bdata": "svziAg==",
          "dtype": "i4"
         },
         "xaxis": "x",
         "y": [
          "Adventure"
         ],
         "yaxis": "y"
        },
        {
         "customdata": [
          [
           "2002-02-19"
          ]
         ],
         "hovertemplate": "movie_title=Reign of Fire<br>total_gross=%{x}<br>genre=%{y}<br>release_date=%{customdata[0]}<extra></extra>",
         "legendgroup": "Reign of Fire",
         "marker": {
          "color": "#B6E880",
          "symbol": "circle"
         },
         "mode": "markers",
         "name": "Reign of Fire",
         "orientation": "h",
         "showlegend": true,
         "type": "scatter",
         "x": {
          "bdata": "3hKRAg==",
          "dtype": "i4"
         },
         "xaxis": "x",
         "y": [
          "Action"
         ],
         "yaxis": "y"
        },
        {
         "customdata": [
          [
           "2002-03-22"
          ]
         ],
         "hovertemplate": "movie_title=Sorority Boys<br>total_gross=%{x}<br>genre=%{y}<br>release_date=%{customdata[0]}<extra></extra>",
         "legendgroup": "Sorority Boys",
         "marker": {
          "color": "#FF97FF",
          "symbol": "circle"
         },
         "mode": "markers",
         "name": "Sorority Boys",
         "orientation": "h",
         "showlegend": true,
         "type": "scatter",
         "x": {
          "bdata": "7p6bAA==",
          "dtype": "i4"
         },
         "xaxis": "x",
         "y": [
          "Comedy"
         ],
         "yaxis": "y"
        },
        {
         "customdata": [
          [
           "2002-03-29"
          ]
         ],
         "hovertemplate": "movie_title=The Rookie<br>total_gross=%{x}<br>genre=%{y}<br>release_date=%{customdata[0]}<extra></extra>",
         "legendgroup": "The Rookie",
         "marker": {
          "color": "#FECB52",
          "symbol": "circle"
         },
         "mode": "markers",
         "name": "The Rookie",
         "orientation": "h",
         "showlegend": true,
         "type": "scatter",
         "x": {
          "bdata": "yJCBBA==",
          "dtype": "i4"
         },
         "xaxis": "x",
         "y": [
          "Drama"
         ],
         "yaxis": "y"
        },
        {
         "customdata": [
          [
           "2002-04-05"
          ]
         ],
         "hovertemplate": "movie_title=Big Trouble<br>total_gross=%{x}<br>genre=%{y}<br>release_date=%{customdata[0]}<extra></extra>",
         "legendgroup": "Big Trouble",
         "marker": {
          "color": "#636efa",
          "symbol": "circle"
         },
         "mode": "markers",
         "name": "Big Trouble",
         "orientation": "h",
         "showlegend": true,
         "type": "scatter",
         "x": {
          "bdata": "UNBuAA==",
          "dtype": "i4"
         },
         "xaxis": "x",
         "y": [
          "Comedy"
         ],
         "yaxis": "y"
        },
        {
         "customdata": [
          [
           "2002-05-10"
          ]
         ],
         "hovertemplate": "movie_title=ESPN's Ultimate X - The Movie<br>total_gross=%{x}<br>genre=%{y}<br>release_date=%{customdata[0]}<extra></extra>",
         "legendgroup": "ESPN's Ultimate X - The Movie",
         "marker": {
          "color": "#EF553B",
          "symbol": "circle"
         },
         "mode": "markers",
         "name": "ESPN's Ultimate X - The Movie",
         "orientation": "h",
         "showlegend": true,
         "type": "scatter",
         "x": {
          "bdata": "NwtAAA==",
          "dtype": "i4"
         },
         "xaxis": "x",
         "y": [
          "Documentary"
         ],
         "yaxis": "y"
        },
        {
         "customdata": [
          [
           "2002-06-21"
          ]
         ],
         "hovertemplate": "movie_title=Lilo & Stitch<br>total_gross=%{x}<br>genre=%{y}<br>release_date=%{customdata[0]}<extra></extra>",
         "legendgroup": "Lilo & Stitch",
         "marker": {
          "color": "#00cc96",
          "symbol": "circle"
         },
         "mode": "markers",
         "name": "Lilo & Stitch",
         "orientation": "h",
         "showlegend": true,
         "type": "scatter",
         "x": {
          "bdata": "B0ywCA==",
          "dtype": "i4"
         },
         "xaxis": "x",
         "y": [
          "Adventure"
         ],
         "yaxis": "y"
        },
        {
         "customdata": [
          [
           "2002-07-26"
          ]
         ],
         "hovertemplate": "movie_title=The Country Bears<br>total_gross=%{x}<br>genre=%{y}<br>release_date=%{customdata[0]}<extra></extra>",
         "legendgroup": "The Country Bears",
         "marker": {
          "color": "#ab63fa",
          "symbol": "circle"
         },
         "mode": "markers",
         "name": "The Country Bears",
         "orientation": "h",
         "showlegend": true,
         "type": "scatter",
         "x": {
          "bdata": "RDsDAQ==",
          "dtype": "i4"
         },
         "xaxis": "x",
         "y": [
          "Adventure"
         ],
         "yaxis": "y"
        },
        {
         "customdata": [
          [
           "2002-08-02"
          ]
         ],
         "hovertemplate": "movie_title=Signs<br>total_gross=%{x}<br>genre=%{y}<br>release_date=%{customdata[0]}<extra></extra>",
         "legendgroup": "Signs",
         "marker": {
          "color": "#FFA15A",
          "symbol": "circle"
         },
         "mode": "markers",
         "name": "Signs",
         "orientation": "h",
         "showlegend": true,
         "type": "scatter",
         "x": {
          "bdata": "+nqWDQ==",
          "dtype": "i4"
         },
         "xaxis": "x",
         "y": [
          "Thriller/Suspense"
         ],
         "yaxis": "y"
        },
        {
         "customdata": [
          [
           "2002-09-20"
          ]
         ],
         "hovertemplate": "movie_title=Sen to Chihiro no Kamikakushi<br>total_gross=%{x}<br>genre=%{y}<br>release_date=%{customdata[0]}<extra></extra>",
         "legendgroup": "Sen to Chihiro no Kamikakushi",
         "marker": {
          "color": "#19d3f3",
          "symbol": "circle"
         },
         "mode": "markers",
         "name": "Sen to Chihiro no Kamikakushi",
         "orientation": "h",
         "showlegend": true,
         "type": "scatter",
         "x": {
          "bdata": "XlmZAA==",
          "dtype": "i4"
         },
         "xaxis": "x",
         "y": [
          "Adventure"
         ],
         "yaxis": "y"
        },
        {
         "customdata": [
          [
           "2002-09-27"
          ]
         ],
         "hovertemplate": "movie_title=Sweet Home Alabama<br>total_gross=%{x}<br>genre=%{y}<br>release_date=%{customdata[0]}<extra></extra>",
         "legendgroup": "Sweet Home Alabama",
         "marker": {
          "color": "#FF6692",
          "symbol": "circle"
         },
         "mode": "markers",
         "name": "Sweet Home Alabama",
         "orientation": "h",
         "showlegend": true,
         "type": "scatter",
         "x": {
          "bdata": "+CGVBw==",
          "dtype": "i4"
         },
         "xaxis": "x",
         "y": [
          "Comedy"
         ],
         "yaxis": "y"
        },
        {
         "customdata": [
          [
           "2002-09-27"
          ]
         ],
         "hovertemplate": "movie_title=Moonlight Mile<br>total_gross=%{x}<br>genre=%{y}<br>release_date=%{customdata[0]}<extra></extra>",
         "legendgroup": "Moonlight Mile",
         "marker": {
          "color": "#B6E880",
          "symbol": "circle"
         },
         "mode": "markers",
         "name": "Moonlight Mile",
         "orientation": "h",
         "showlegend": true,
         "type": "scatter",
         "x": {
          "bdata": "bTtoAA==",
          "dtype": "i4"
         },
         "xaxis": "x",
         "y": [
          "Drama"
         ],
         "yaxis": "y"
        },
        {
         "customdata": [
          [
           "2002-10-11"
          ]
         ],
         "hovertemplate": "movie_title=Tuck Everlasting<br>total_gross=%{x}<br>genre=%{y}<br>release_date=%{customdata[0]}<extra></extra>",
         "legendgroup": "Tuck Everlasting",
         "marker": {
          "color": "#FF97FF",
          "symbol": "circle"
         },
         "mode": "markers",
         "name": "Tuck Everlasting",
         "orientation": "h",
         "showlegend": true,
         "type": "scatter",
         "x": {
          "bdata": "j2MkAQ==",
          "dtype": "i4"
         },
         "xaxis": "x",
         "y": [
          "Drama"
         ],
         "yaxis": "y"
        },
        {
         "customdata": [
          [
           "2002-11-01"
          ]
         ],
         "hovertemplate": "movie_title=The Santa Clause 2<br>total_gross=%{x}<br>genre=%{y}<br>release_date=%{customdata[0]}<extra></extra>",
         "legendgroup": "The Santa Clause 2",
         "marker": {
          "color": "#FECB52",
          "symbol": "circle"
         },
         "mode": "markers",
         "name": "The Santa Clause 2",
         "orientation": "h",
         "showlegend": true,
         "type": "scatter",
         "x": {
          "bdata": "/mpMCA==",
          "dtype": "i4"
         },
         "xaxis": "x",
         "y": [
          "Comedy"
         ],
         "yaxis": "y"
        },
        {
         "customdata": [
          [
           "2002-11-27"
          ]
         ],
         "hovertemplate": "movie_title=Treasure Planet<br>total_gross=%{x}<br>genre=%{y}<br>release_date=%{customdata[0]}<extra></extra>",
         "legendgroup": "Treasure Planet",
         "marker": {
          "color": "#636efa",
          "symbol": "circle"
         },
         "mode": "markers",
         "name": "Treasure Planet",
         "orientation": "h",
         "showlegend": true,
         "type": "scatter",
         "x": {
          "bdata": "aqxFAg==",
          "dtype": "i4"
         },
         "xaxis": "x",
         "y": [
          "Adventure"
         ],
         "yaxis": "y"
        },
        {
         "customdata": [
          [
           "2002-12-13"
          ]
         ],
         "hovertemplate": "movie_title=The Hot Chick<br>total_gross=%{x}<br>genre=%{y}<br>release_date=%{customdata[0]}<extra></extra>",
         "legendgroup": "The Hot Chick",
         "marker": {
          "color": "#EF553B",
          "symbol": "circle"
         },
         "mode": "markers",
         "name": "The Hot Chick",
         "orientation": "h",
         "showlegend": true,
         "type": "scatter",
         "x": {
          "bdata": "Tk0XAg==",
          "dtype": "i4"
         },
         "xaxis": "x",
         "y": [
          "Comedy"
         ],
         "yaxis": "y"
        },
        {
         "customdata": [
          [
           "2002-12-19"
          ]
         ],
         "hovertemplate": "movie_title=25th Hour<br>total_gross=%{x}<br>genre=%{y}<br>release_date=%{customdata[0]}<extra></extra>",
         "legendgroup": "25th Hour",
         "marker": {
          "color": "#00cc96",
          "symbol": "circle"
         },
         "mode": "markers",
         "name": "25th Hour",
         "orientation": "h",
         "showlegend": true,
         "type": "scatter",
         "x": {
          "bdata": "s6fHAA==",
          "dtype": "i4"
         },
         "xaxis": "x",
         "y": [
          "Drama"
         ],
         "yaxis": "y"
        },
        {
         "customdata": [
          [
           "2003-01-31"
          ]
         ],
         "hovertemplate": "movie_title=The Recruit<br>total_gross=%{x}<br>genre=%{y}<br>release_date=%{customdata[0]}<extra></extra>",
         "legendgroup": "The Recruit",
         "marker": {
          "color": "#ab63fa",
          "symbol": "circle"
         },
         "mode": "markers",
         "name": "The Recruit",
         "orientation": "h",
         "showlegend": true,
         "type": "scatter",
         "x": {
          "bdata": "OG4lAw==",
          "dtype": "i4"
         },
         "xaxis": "x",
         "y": [
          "Thriller/Suspense"
         ],
         "yaxis": "y"
        },
        {
         "customdata": [
          [
           "2003-02-07"
          ]
         ],
         "hovertemplate": "movie_title=Shanghai Knights<br>total_gross=%{x}<br>genre=%{y}<br>release_date=%{customdata[0]}<extra></extra>",
         "legendgroup": "Shanghai Knights",
         "marker": {
          "color": "#FFA15A",
          "symbol": "circle"
         },
         "mode": "markers",
         "name": "Shanghai Knights",
         "orientation": "h",
         "showlegend": true,
         "type": "scatter",
         "x": {
          "bdata": "zLOaAw==",
          "dtype": "i4"
         },
         "xaxis": "x",
         "y": [
          "Adventure"
         ],
         "yaxis": "y"
        },
        {
         "customdata": [
          [
           "2003-02-14"
          ]
         ],
         "hovertemplate": "movie_title=The Jungle Book 2<br>total_gross=%{x}<br>genre=%{y}<br>release_date=%{customdata[0]}<extra></extra>",
         "legendgroup": "The Jungle Book 2",
         "marker": {
          "color": "#19d3f3",
          "symbol": "circle"
         },
         "mode": "markers",
         "name": "The Jungle Book 2",
         "orientation": "h",
         "showlegend": true,
         "type": "scatter",
         "x": {
          "bdata": "juvaAg==",
          "dtype": "i4"
         },
         "xaxis": "x",
         "y": [
          "Adventure"
         ],
         "yaxis": "y"
        },
        {
         "customdata": [
          [
           "2003-03-07"
          ]
         ],
         "hovertemplate": "movie_title=Bringing Down the House<br>total_gross=%{x}<br>genre=%{y}<br>release_date=%{customdata[0]}<extra></extra>",
         "legendgroup": "Bringing Down the House",
         "marker": {
          "color": "#FF6692",
          "symbol": "circle"
         },
         "mode": "markers",
         "name": "Bringing Down the House",
         "orientation": "h",
         "showlegend": true,
         "type": "scatter",
         "x": {
          "bdata": "SnfoBw==",
          "dtype": "i4"
         },
         "xaxis": "x",
         "y": [
          "Comedy"
         ],
         "yaxis": "y"
        },
        {
         "customdata": [
          [
           "2003-03-21"
          ]
         ],
         "hovertemplate": "movie_title=Piglet's Big Movie<br>total_gross=%{x}<br>genre=%{y}<br>release_date=%{customdata[0]}<extra></extra>",
         "legendgroup": "Piglet's Big Movie",
         "marker": {
          "color": "#B6E880",
          "symbol": "circle"
         },
         "mode": "markers",
         "name": "Piglet's Big Movie",
         "orientation": "h",
         "showlegend": true,
         "type": "scatter",
         "x": {
          "bdata": "v4dgAQ==",
          "dtype": "i4"
         },
         "xaxis": "x",
         "y": [
          "Comedy"
         ],
         "yaxis": "y"
        },
        {
         "customdata": [
          [
           "2003-04-11"
          ]
         ],
         "hovertemplate": "movie_title=Ghosts of the Abyss<br>total_gross=%{x}<br>genre=%{y}<br>release_date=%{customdata[0]}<extra></extra>",
         "legendgroup": "Ghosts of the Abyss",
         "marker": {
          "color": "#FF97FF",
          "symbol": "circle"
         },
         "mode": "markers",
         "name": "Ghosts of the Abyss",
         "orientation": "h",
         "showlegend": true,
         "type": "scatter",
         "x": {
          "bdata": "JNQEAQ==",
          "dtype": "i4"
         },
         "xaxis": "x",
         "y": [
          "Documentary"
         ],
         "yaxis": "y"
        },
        {
         "customdata": [
          [
           "2003-04-18"
          ]
         ],
         "hovertemplate": "movie_title=Holes<br>total_gross=%{x}<br>genre=%{y}<br>release_date=%{customdata[0]}<extra></extra>",
         "legendgroup": "Holes",
         "marker": {
          "color": "#FECB52",
          "symbol": "circle"
         },
         "mode": "markers",
         "name": "Holes",
         "orientation": "h",
         "showlegend": true,
         "type": "scatter",
         "x": {
          "bdata": "dDIEBA==",
          "dtype": "i4"
         },
         "xaxis": "x",
         "y": [
          "Drama"
         ],
         "yaxis": "y"
        },
        {
         "customdata": [
          [
           "2003-05-02"
          ]
         ],
         "hovertemplate": "movie_title=The Lizzie McGuire Movie<br>total_gross=%{x}<br>genre=%{y}<br>release_date=%{customdata[0]}<extra></extra>",
         "legendgroup": "The Lizzie McGuire Movie",
         "marker": {
          "color": "#636efa",
          "symbol": "circle"
         },
         "mode": "markers",
         "name": "The Lizzie McGuire Movie",
         "orientation": "h",
         "showlegend": true,
         "type": "scatter",
         "x": {
          "bdata": "dxOMAg==",
          "dtype": "i4"
         },
         "xaxis": "x",
         "y": [
          "Comedy"
         ],
         "yaxis": "y"
        },
        {
         "customdata": [
          [
           "2003-05-30"
          ]
         ],
         "hovertemplate": "movie_title=Finding Nemo<br>total_gross=%{x}<br>genre=%{y}<br>release_date=%{customdata[0]}<extra></extra>",
         "legendgroup": "Finding Nemo",
         "marker": {
          "color": "#EF553B",
          "symbol": "circle"
         },
         "mode": "markers",
         "name": "Finding Nemo",
         "orientation": "h",
         "showlegend": true,
         "type": "scatter",
         "x": {
          "bdata": "2mquFg==",
          "dtype": "i4"
         },
         "xaxis": "x",
         "y": [
          "Adventure"
         ],
         "yaxis": "y"
        },
        {
         "customdata": [
          [
           "2003-07-09"
          ]
         ],
         "hovertemplate": "movie_title=Pirates of the Caribbean: The Curse o…<br>total_gross=%{x}<br>genre=%{y}<br>release_date=%{customdata[0]}<extra></extra>",
         "legendgroup": "Pirates of the Caribbean: The Curse o…",
         "marker": {
          "color": "#00cc96",
          "symbol": "circle"
         },
         "mode": "markers",
         "name": "Pirates of the Caribbean: The Curse o…",
         "orientation": "h",
         "showlegend": true,
         "type": "scatter",
         "x": {
          "bdata": "mDQ0Eg==",
          "dtype": "i4"
         },
         "xaxis": "x",
         "y": [
          "Adventure"
         ],
         "yaxis": "y"
        },
        {
         "customdata": [
          [
           "2003-08-15"
          ]
         ],
         "hovertemplate": "movie_title=Open Range<br>total_gross=%{x}<br>genre=%{y}<br>release_date=%{customdata[0]}<extra></extra>",
         "legendgroup": "Open Range",
         "marker": {
          "color": "#ab63fa",
          "symbol": "circle"
         },
         "mode": "markers",
         "name": "Open Range",
         "orientation": "h",
         "showlegend": true,
         "type": "scatter",
         "x": {
          "bdata": "dhB6Aw==",
          "dtype": "i4"
         },
         "xaxis": "x",
         "y": [
          "Western"
         ],
         "yaxis": "y"
        },
        {
         "customdata": [
          [
           "2003-09-19"
          ]
         ],
         "hovertemplate": "movie_title=Cold Creek Manor<br>total_gross=%{x}<br>genre=%{y}<br>release_date=%{customdata[0]}<extra></extra>",
         "legendgroup": "Cold Creek Manor",
         "marker": {
          "color": "#FFA15A",
          "symbol": "circle"
         },
         "mode": "markers",
         "name": "Cold Creek Manor",
         "orientation": "h",
         "showlegend": true,
         "type": "scatter",
         "x": {
          "bdata": "Y0tGAQ==",
          "dtype": "i4"
         },
         "xaxis": "x",
         "y": [
          "Thriller/Suspense"
         ],
         "yaxis": "y"
        },
        {
         "customdata": [
          [
           "2003-09-26"
          ]
         ],
         "hovertemplate": "movie_title=Under the Tuscan Sun<br>total_gross=%{x}<br>genre=%{y}<br>release_date=%{customdata[0]}<extra></extra>",
         "legendgroup": "Under the Tuscan Sun",
         "marker": {
          "color": "#19d3f3",
          "symbol": "circle"
         },
         "mode": "markers",
         "name": "Under the Tuscan Sun",
         "orientation": "h",
         "showlegend": true,
         "type": "scatter",
         "x": {
          "bdata": "ZE6ZAg==",
          "dtype": "i4"
         },
         "xaxis": "x",
         "y": [
          "Comedy"
         ],
         "yaxis": "y"
        },
        {
         "customdata": [
          [
           "2003-10-17"
          ]
         ],
         "hovertemplate": "movie_title=Veronica Guerin<br>total_gross=%{x}<br>genre=%{y}<br>release_date=%{customdata[0]}<extra></extra>",
         "legendgroup": "Veronica Guerin",
         "marker": {
          "color": "#FF6692",
          "symbol": "circle"
         },
         "mode": "markers",
         "name": "Veronica Guerin",
         "orientation": "h",
         "showlegend": true,
         "type": "scatter",
         "x": {
          "bdata": "fvQXAA==",
          "dtype": "i4"
         },
         "xaxis": "x",
         "y": [
          "Drama"
         ],
         "yaxis": "y"
        },
        {
         "customdata": [
          [
           "2003-10-24"
          ]
         ],
         "hovertemplate": "movie_title=Brother Bear<br>total_gross=%{x}<br>genre=%{y}<br>release_date=%{customdata[0]}<extra></extra>",
         "legendgroup": "Brother Bear",
         "marker": {
          "color": "#B6E880",
          "symbol": "circle"
         },
         "mode": "markers",
         "name": "Brother Bear",
         "orientation": "h",
         "showlegend": true,
         "type": "scatter",
         "x": {
          "bdata": "1SAWBQ==",
          "dtype": "i4"
         },
         "xaxis": "x",
         "y": [
          "Adventure"
         ],
         "yaxis": "y"
        },
        {
         "customdata": [
          [
           "2003-11-26"
          ]
         ],
         "hovertemplate": "movie_title=The Haunted Mansion<br>total_gross=%{x}<br>genre=%{y}<br>release_date=%{customdata[0]}<extra></extra>",
         "legendgroup": "The Haunted Mansion",
         "marker": {
          "color": "#FF97FF",
          "symbol": "circle"
         },
         "mode": "markers",
         "name": "The Haunted Mansion",
         "orientation": "h",
         "showlegend": true,
         "type": "scatter",
         "x": {
          "bdata": "CuSEBA==",
          "dtype": "i4"
         },
         "xaxis": "x",
         "y": [
          "Comedy"
         ],
         "yaxis": "y"
        },
        {
         "customdata": [
          [
           "2003-12-19"
          ]
         ],
         "hovertemplate": "movie_title=Calendar Girls<br>total_gross=%{x}<br>genre=%{y}<br>release_date=%{customdata[0]}<extra></extra>",
         "legendgroup": "Calendar Girls",
         "marker": {
          "color": "#FECB52",
          "symbol": "circle"
         },
         "mode": "markers",
         "name": "Calendar Girls",
         "orientation": "h",
         "showlegend": true,
         "type": "scatter",
         "x": {
          "bdata": "IDPZAQ==",
          "dtype": "i4"
         },
         "xaxis": "x",
         "y": [
          "Comedy"
         ],
         "yaxis": "y"
        },
        {
         "customdata": [
          [
           "2003-12-25"
          ]
         ],
         "hovertemplate": "movie_title=Young Black Stallion<br>total_gross=%{x}<br>genre=%{y}<br>release_date=%{customdata[0]}<extra></extra>",
         "legendgroup": "Young Black Stallion",
         "marker": {
          "color": "#636efa",
          "symbol": "circle"
         },
         "mode": "markers",
         "name": "Young Black Stallion",
         "orientation": "h",
         "showlegend": true,
         "type": "scatter",
         "x": {
          "bdata": "nQRnAA==",
          "dtype": "i4"
         },
         "xaxis": "x",
         "y": [
          "Adventure"
         ],
         "yaxis": "y"
        },
        {
         "customdata": [
          [
           "2004-01-16"
          ]
         ],
         "hovertemplate": "movie_title=Teacher's Pet: The Movie<br>total_gross=%{x}<br>genre=%{y}<br>release_date=%{customdata[0]}<extra></extra>",
         "legendgroup": "Teacher's Pet: The Movie",
         "marker": {
          "color": "#EF553B",
          "symbol": "circle"
         },
         "mode": "markers",
         "name": "Teacher's Pet: The Movie",
         "orientation": "h",
         "showlegend": true,
         "type": "scatter",
         "x": {
          "bdata": "QQ9jAA==",
          "dtype": "i4"
         },
         "xaxis": "x",
         "y": [
          "Comedy"
         ],
         "yaxis": "y"
        },
        {
         "customdata": [
          [
           "2004-02-06"
          ]
         ],
         "hovertemplate": "movie_title=Miracle<br>total_gross=%{x}<br>genre=%{y}<br>release_date=%{customdata[0]}<extra></extra>",
         "legendgroup": "Miracle",
         "marker": {
          "color": "#00cc96",
          "symbol": "circle"
         },
         "mode": "markers",
         "name": "Miracle",
         "orientation": "h",
         "showlegend": true,
         "type": "scatter",
         "x": {
          "bdata": "7VTWAw==",
          "dtype": "i4"
         },
         "xaxis": "x",
         "y": [
          "Drama"
         ],
         "yaxis": "y"
        },
        {
         "customdata": [
          [
           "2004-02-20"
          ]
         ],
         "hovertemplate": "movie_title=Confessions of a Teenage Drama Queen<br>total_gross=%{x}<br>genre=%{y}<br>release_date=%{customdata[0]}<extra></extra>",
         "legendgroup": "Confessions of a Teenage Drama Queen",
         "marker": {
          "color": "#ab63fa",
          "symbol": "circle"
         },
         "mode": "markers",
         "name": "Confessions of a Teenage Drama Queen",
         "orientation": "h",
         "showlegend": true,
         "type": "scatter",
         "x": {
          "bdata": "fI6/AQ==",
          "dtype": "i4"
         },
         "xaxis": "x",
         "y": [
          "Comedy"
         ],
         "yaxis": "y"
        },
        {
         "customdata": [
          [
           "2004-03-05"
          ]
         ],
         "hovertemplate": "movie_title=Hidalgo<br>total_gross=%{x}<br>genre=%{y}<br>release_date=%{customdata[0]}<extra></extra>",
         "legendgroup": "Hidalgo",
         "marker": {
          "color": "#FFA15A",
          "symbol": "circle"
         },
         "mode": "markers",
         "name": "Hidalgo",
         "orientation": "h",
         "showlegend": true,
         "type": "scatter",
         "x": {
          "bdata": "y7YCBA==",
          "dtype": "i4"
         },
         "xaxis": "x",
         "y": [
          "Western"
         ],
         "yaxis": "y"
        },
        {
         "customdata": [
          [
           "2004-03-26"
          ]
         ],
         "hovertemplate": "movie_title=The Ladykillers<br>total_gross=%{x}<br>genre=%{y}<br>release_date=%{customdata[0]}<extra></extra>",
         "legendgroup": "The Ladykillers",
         "marker": {
          "color": "#19d3f3",
          "symbol": "circle"
         },
         "mode": "markers",
         "name": "The Ladykillers",
         "orientation": "h",
         "showlegend": true,
         "type": "scatter",
         "x": {
          "bdata": "a6ddAg==",
          "dtype": "i4"
         },
         "xaxis": "x",
         "y": [
          "Comedy"
         ],
         "yaxis": "y"
        },
        {
         "customdata": [
          [
           "2004-04-02"
          ]
         ],
         "hovertemplate": "movie_title=Home on the Range<br>total_gross=%{x}<br>genre=%{y}<br>release_date=%{customdata[0]}<extra></extra>",
         "legendgroup": "Home on the Range",
         "marker": {
          "color": "#FF6692",
          "symbol": "circle"
         },
         "mode": "markers",
         "name": "Home on the Range",
         "orientation": "h",
         "showlegend": true,
         "type": "scatter",
         "x": {
          "bdata": "cVf7Ag==",
          "dtype": "i4"
         },
         "xaxis": "x",
         "y": [
          "Comedy"
         ],
         "yaxis": "y"
        },
        {
         "customdata": [
          [
           "2004-04-09"
          ]
         ],
         "hovertemplate": "movie_title=The Alamo<br>total_gross=%{x}<br>genre=%{y}<br>release_date=%{customdata[0]}<extra></extra>",
         "legendgroup": "The Alamo",
         "marker": {
          "color": "#B6E880",
          "symbol": "circle"
         },
         "mode": "markers",
         "name": "The Alamo",
         "orientation": "h",
         "showlegend": true,
         "type": "scatter",
         "x": {
          "bdata": "2uRVAQ==",
          "dtype": "i4"
         },
         "xaxis": "x",
         "y": [
          "Western"
         ],
         "yaxis": "y"
        },
        {
         "customdata": [
          [
           "2004-05-28"
          ]
         ],
         "hovertemplate": "movie_title=Raising Helen<br>total_gross=%{x}<br>genre=%{y}<br>release_date=%{customdata[0]}<extra></extra>",
         "legendgroup": "Raising Helen",
         "marker": {
          "color": "#FF97FF",
          "symbol": "circle"
         },
         "mode": "markers",
         "name": "Raising Helen",
         "orientation": "h",
         "showlegend": true,
         "type": "scatter",
         "x": {
          "bdata": "2Ps7Ag==",
          "dtype": "i4"
         },
         "xaxis": "x",
         "y": [
          "Comedy"
         ],
         "yaxis": "y"
        },
        {
         "customdata": [
          [
           "2004-06-16"
          ]
         ],
         "hovertemplate": "movie_title=Around the World in 80 Days<br>total_gross=%{x}<br>genre=%{y}<br>release_date=%{customdata[0]}<extra></extra>",
         "legendgroup": "Around the World in 80 Days",
         "marker": {
          "color": "#FECB52",
          "symbol": "circle"
         },
         "mode": "markers",
         "name": "Around the World in 80 Days",
         "orientation": "h",
         "showlegend": true,
         "type": "scatter",
         "x": {
          "bdata": "P0ZuAQ==",
          "dtype": "i4"
         },
         "xaxis": "x",
         "y": [
          "Adventure"
         ],
         "yaxis": "y"
        },
        {
         "customdata": [
          [
           "2004-07-02"
          ]
         ],
         "hovertemplate": "movie_title=America's Heart and Soul<br>total_gross=%{x}<br>genre=%{y}<br>release_date=%{customdata[0]}<extra></extra>",
         "legendgroup": "America's Heart and Soul",
         "marker": {
          "color": "#636efa",
          "symbol": "circle"
         },
         "mode": "markers",
         "name": "America's Heart and Soul",
         "orientation": "h",
         "showlegend": true,
         "type": "scatter",
         "x": {
          "bdata": "kMoEAA==",
          "dtype": "i4"
         },
         "xaxis": "x",
         "y": [
          "Documentary"
         ],
         "yaxis": "y"
        },
        {
         "customdata": [
          [
           "2004-07-07"
          ]
         ],
         "hovertemplate": "movie_title=King Arthur<br>total_gross=%{x}<br>genre=%{y}<br>release_date=%{customdata[0]}<extra></extra>",
         "legendgroup": "King Arthur",
         "marker": {
          "color": "#EF553B",
          "symbol": "circle"
         },
         "mode": "markers",
         "name": "King Arthur",
         "orientation": "h",
         "showlegend": true,
         "type": "scatter",
         "x": {
          "bdata": "S5gXAw==",
          "dtype": "i4"
         },
         "xaxis": "x",
         "y": [
          "Adventure"
         ],
         "yaxis": "y"
        },
        {
         "customdata": [
          [
           "2004-07-30"
          ]
         ],
         "hovertemplate": "movie_title=The Village<br>total_gross=%{x}<br>genre=%{y}<br>release_date=%{customdata[0]}<extra></extra>",
         "legendgroup": "The Village",
         "marker": {
          "color": "#00cc96",
          "symbol": "circle"
         },
         "mode": "markers",
         "name": "The Village",
         "orientation": "h",
         "showlegend": true,
         "type": "scatter",
         "x": {
          "bdata": "EITOBg==",
          "dtype": "i4"
         },
         "xaxis": "x",
         "y": [
          "Thriller/Suspense"
         ],
         "yaxis": "y"
        },
        {
         "customdata": [
          [
           "2004-08-11"
          ]
         ],
         "hovertemplate": "movie_title=The Princess Diaries 2: Royal Engagement<br>total_gross=%{x}<br>genre=%{y}<br>release_date=%{customdata[0]}<extra></extra>",
         "legendgroup": "The Princess Diaries 2: Royal Engagement",
         "marker": {
          "color": "#ab63fa",
          "symbol": "circle"
         },
         "mode": "markers",
         "name": "The Princess Diaries 2: Royal Engagement",
         "orientation": "h",
         "showlegend": true,
         "type": "scatter",
         "x": {
          "bdata": "e92rBQ==",
          "dtype": "i4"
         },
         "xaxis": "x",
         "y": [
          "Romantic Comedy"
         ],
         "yaxis": "y"
        },
        {
         "customdata": [
          [
           "2004-09-17"
          ]
         ],
         "hovertemplate": "movie_title=Mr. 3000<br>total_gross=%{x}<br>genre=%{y}<br>release_date=%{customdata[0]}<extra></extra>",
         "legendgroup": "Mr. 3000",
         "marker": {
          "color": "#FFA15A",
          "symbol": "circle"
         },
         "mode": "markers",
         "name": "Mr. 3000",
         "orientation": "h",
         "showlegend": true,
         "type": "scatter",
         "x": {
          "bdata": "bqVMAQ==",
          "dtype": "i4"
         },
         "xaxis": "x",
         "y": [
          "Comedy"
         ],
         "yaxis": "y"
        },
        {
         "customdata": [
          [
           "2004-09-24"
          ]
         ],
         "hovertemplate": "movie_title=The Last Shot<br>total_gross=%{x}<br>genre=%{y}<br>release_date=%{customdata[0]}<extra></extra>",
         "legendgroup": "The Last Shot",
         "marker": {
          "color": "#19d3f3",
          "symbol": "circle"
         },
         "mode": "markers",
         "name": "The Last Shot",
         "orientation": "h",
         "showlegend": true,
         "type": "scatter",
         "x": {
          "bdata": "chMHAA==",
          "dtype": "i4"
         },
         "xaxis": "x",
         "y": [
          "Comedy"
         ],
         "yaxis": "y"
        },
        {
         "customdata": [
          [
           "2004-10-01"
          ]
         ],
         "hovertemplate": "movie_title=Ladder 49<br>total_gross=%{x}<br>genre=%{y}<br>release_date=%{customdata[0]}<extra></extra>",
         "legendgroup": "Ladder 49",
         "marker": {
          "color": "#FF6692",
          "symbol": "circle"
         },
         "mode": "markers",
         "name": "Ladder 49",
         "orientation": "h",
         "showlegend": true,
         "type": "scatter",
         "x": {
          "bdata": "i2pxBA==",
          "dtype": "i4"
         },
         "xaxis": "x",
         "y": [
          "Action"
         ],
         "yaxis": "y"
        },
        {
         "customdata": [
          [
           "2004-11-05"
          ]
         ],
         "hovertemplate": "movie_title=The Incredibles<br>total_gross=%{x}<br>genre=%{y}<br>release_date=%{customdata[0]}<extra></extra>",
         "legendgroup": "The Incredibles",
         "marker": {
          "color": "#B6E880",
          "symbol": "circle"
         },
         "mode": "markers",
         "name": "The Incredibles",
         "orientation": "h",
         "showlegend": true,
         "type": "scatter",
         "x": {
          "bdata": "REaVDw==",
          "dtype": "i4"
         },
         "xaxis": "x",
         "y": [
          "Adventure"
         ],
         "yaxis": "y"
        },
        {
         "customdata": [
          [
           "2004-11-19"
          ]
         ],
         "hovertemplate": "movie_title=National Treasure<br>total_gross=%{x}<br>genre=%{y}<br>release_date=%{customdata[0]}<extra></extra>",
         "legendgroup": "National Treasure",
         "marker": {
          "color": "#FF97FF",
          "symbol": "circle"
         },
         "mode": "markers",
         "name": "National Treasure",
         "orientation": "h",
         "showlegend": true,
         "type": "scatter",
         "x": {
          "bdata": "ythPCg==",
          "dtype": "i4"
         },
         "xaxis": "x",
         "y": [
          "Adventure"
         ],
         "yaxis": "y"
        },
        {
         "customdata": [
          [
           "2004-12-10"
          ]
         ],
         "hovertemplate": "movie_title=The Life Aquatic with Steve Zissou<br>total_gross=%{x}<br>genre=%{y}<br>release_date=%{customdata[0]}<extra></extra>",
         "legendgroup": "The Life Aquatic with Steve Zissou",
         "marker": {
          "color": "#FECB52",
          "symbol": "circle"
         },
         "mode": "markers",
         "name": "The Life Aquatic with Steve Zissou",
         "orientation": "h",
         "showlegend": true,
         "type": "scatter",
         "x": {
          "bdata": "RlBuAQ==",
          "dtype": "i4"
         },
         "xaxis": "x",
         "y": [
          "Comedy"
         ],
         "yaxis": "y"
        },
        {
         "customdata": [
          [
           "2005-01-28"
          ]
         ],
         "hovertemplate": "movie_title=Aliens of the Deep<br>total_gross=%{x}<br>genre=%{y}<br>release_date=%{customdata[0]}<extra></extra>",
         "legendgroup": "Aliens of the Deep",
         "marker": {
          "color": "#636efa",
          "symbol": "circle"
         },
         "mode": "markers",
         "name": "Aliens of the Deep",
         "orientation": "h",
         "showlegend": true,
         "type": "scatter",
         "x": {
          "bdata": "7NmIAA==",
          "dtype": "i4"
         },
         "xaxis": "x",
         "y": [
          "Documentary"
         ],
         "yaxis": "y"
        },
        {
         "customdata": [
          [
           "2005-02-11"
          ]
         ],
         "hovertemplate": "movie_title=Pooh's Heffalump Movie<br>total_gross=%{x}<br>genre=%{y}<br>release_date=%{customdata[0]}<extra></extra>",
         "legendgroup": "Pooh's Heffalump Movie",
         "marker": {
          "color": "#EF553B",
          "symbol": "circle"
         },
         "mode": "markers",
         "name": "Pooh's Heffalump Movie",
         "orientation": "h",
         "showlegend": true,
         "type": "scatter",
         "x": {
          "bdata": "ASkUAQ==",
          "dtype": "i4"
         },
         "xaxis": "x",
         "y": [
          "Adventure"
         ],
         "yaxis": "y"
        },
        {
         "customdata": [
          [
           "2005-03-04"
          ]
         ],
         "hovertemplate": "movie_title=The Pacifier<br>total_gross=%{x}<br>genre=%{y}<br>release_date=%{customdata[0]}<extra></extra>",
         "legendgroup": "The Pacifier",
         "marker": {
          "color": "#00cc96",
          "symbol": "circle"
         },
         "mode": "markers",
         "name": "The Pacifier",
         "orientation": "h",
         "showlegend": true,
         "type": "scatter",
         "x": {
          "bdata": "IFm8Bg==",
          "dtype": "i4"
         },
         "xaxis": "x",
         "y": [
          "Comedy"
         ],
         "yaxis": "y"
        },
        {
         "customdata": [
          [
           "2005-03-18"
          ]
         ],
         "hovertemplate": "movie_title=Ice Princess<br>total_gross=%{x}<br>genre=%{y}<br>release_date=%{customdata[0]}<extra></extra>",
         "legendgroup": "Ice Princess",
         "marker": {
          "color": "#ab63fa",
          "symbol": "circle"
         },
         "mode": "markers",
         "name": "Ice Princess",
         "orientation": "h",
         "showlegend": true,
         "type": "scatter",
         "x": {
          "bdata": "lgd0AQ==",
          "dtype": "i4"
         },
         "xaxis": "x",
         "y": [
          "Comedy"
         ],
         "yaxis": "y"
        },
        {
         "customdata": [
          [
           "2005-04-22"
          ]
         ],
         "hovertemplate": "movie_title=A Lot Like Love<br>total_gross=%{x}<br>genre=%{y}<br>release_date=%{customdata[0]}<extra></extra>",
         "legendgroup": "A Lot Like Love",
         "marker": {
          "color": "#FFA15A",
          "symbol": "circle"
         },
         "mode": "markers",
         "name": "A Lot Like Love",
         "orientation": "h",
         "showlegend": true,
         "type": "scatter",
         "x": {
          "bdata": "CDBNAQ==",
          "dtype": "i4"
         },
         "xaxis": "x",
         "y": [
          "Comedy"
         ],
         "yaxis": "y"
        },
        {
         "customdata": [
          [
           "2005-04-29"
          ]
         ],
         "hovertemplate": "movie_title=The Hitchhiker's Guide to the Galaxy<br>total_gross=%{x}<br>genre=%{y}<br>release_date=%{customdata[0]}<extra></extra>",
         "legendgroup": "The Hitchhiker's Guide to the Galaxy",
         "marker": {
          "color": "#19d3f3",
          "symbol": "circle"
         },
         "mode": "markers",
         "name": "The Hitchhiker's Guide to the Galaxy",
         "orientation": "h",
         "showlegend": true,
         "type": "scatter",
         "x": {
          "bdata": "aH0KAw==",
          "dtype": "i4"
         },
         "xaxis": "x",
         "y": [
          "Comedy"
         ],
         "yaxis": "y"
        },
        {
         "customdata": [
          [
           "2005-06-10"
          ]
         ],
         "hovertemplate": "movie_title=Hauru no ugoku shiro<br>total_gross=%{x}<br>genre=%{y}<br>release_date=%{customdata[0]}<extra></extra>",
         "legendgroup": "Hauru no ugoku shiro",
         "marker": {
          "color": "#FF6692",
          "symbol": "circle"
         },
         "mode": "markers",
         "name": "Hauru no ugoku shiro",
         "orientation": "h",
         "showlegend": true,
         "type": "scatter",
         "x": {
          "bdata": "N+BHAA==",
          "dtype": "i4"
         },
         "xaxis": "x",
         "y": [
          "Adventure"
         ],
         "yaxis": "y"
        },
        {
         "customdata": [
          [
           "2005-06-22"
          ]
         ],
         "hovertemplate": "movie_title=Herbie: Fully Loaded<br>total_gross=%{x}<br>genre=%{y}<br>release_date=%{customdata[0]}<extra></extra>",
         "legendgroup": "Herbie: Fully Loaded",
         "marker": {
          "color": "#B6E880",
          "symbol": "circle"
         },
         "mode": "markers",
         "name": "Herbie: Fully Loaded",
         "orientation": "h",
         "showlegend": true,
         "type": "scatter",
         "x": {
          "bdata": "Oj7vAw==",
          "dtype": "i4"
         },
         "xaxis": "x",
         "y": [
          "Comedy"
         ],
         "yaxis": "y"
        },
        {
         "customdata": [
          [
           "2005-07-08"
          ]
         ],
         "hovertemplate": "movie_title=Dark Water<br>total_gross=%{x}<br>genre=%{y}<br>release_date=%{customdata[0]}<extra></extra>",
         "legendgroup": "Dark Water",
         "marker": {
          "color": "#FF97FF",
          "symbol": "circle"
         },
         "mode": "markers",
         "name": "Dark Water",
         "orientation": "h",
         "showlegend": true,
         "type": "scatter",
         "x": {
          "bdata": "RbCEAQ==",
          "dtype": "i4"
         },
         "xaxis": "x",
         "y": [
          "Thriller/Suspense"
         ],
         "yaxis": "y"
        },
        {
         "customdata": [
          [
           "2005-07-29"
          ]
         ],
         "hovertemplate": "movie_title=Sky High<br>total_gross=%{x}<br>genre=%{y}<br>release_date=%{customdata[0]}<extra></extra>",
         "legendgroup": "Sky High",
         "marker": {
          "color": "#FECB52",
          "symbol": "circle"
         },
         "mode": "markers",
         "name": "Sky High",
         "orientation": "h",
         "showlegend": true,
         "type": "scatter",
         "x": {
          "bdata": "fqPPAw==",
          "dtype": "i4"
         },
         "xaxis": "x",
         "y": [
          "Adventure"
         ],
         "yaxis": "y"
        },
        {
         "customdata": [
          [
           "2005-08-19"
          ]
         ],
         "hovertemplate": "movie_title=Valiant<br>total_gross=%{x}<br>genre=%{y}<br>release_date=%{customdata[0]}<extra></extra>",
         "legendgroup": "Valiant",
         "marker": {
          "color": "#636efa",
          "symbol": "circle"
         },
         "mode": "markers",
         "name": "Valiant",
         "orientation": "h",
         "showlegend": true,
         "type": "scatter",
         "x": {
          "bdata": "WjYpAQ==",
          "dtype": "i4"
         },
         "xaxis": "x",
         "y": [
          "Adventure"
         ],
         "yaxis": "y"
        },
        {
         "customdata": [
          [
           "2005-09-23"
          ]
         ],
         "hovertemplate": "movie_title=Flightplan<br>total_gross=%{x}<br>genre=%{y}<br>release_date=%{customdata[0]}<extra></extra>",
         "legendgroup": "Flightplan",
         "marker": {
          "color": "#EF553B",
          "symbol": "circle"
         },
         "mode": "markers",
         "name": "Flightplan",
         "orientation": "h",
         "showlegend": true,
         "type": "scatter",
         "x": {
          "bdata": "7NFYBQ==",
          "dtype": "i4"
         },
         "xaxis": "x",
         "y": [
          "Thriller/Suspense"
         ],
         "yaxis": "y"
        },
        {
         "customdata": [
          [
           "2005-09-30"
          ]
         ],
         "hovertemplate": "movie_title=The Greatest Game Ever Played<br>total_gross=%{x}<br>genre=%{y}<br>release_date=%{customdata[0]}<extra></extra>",
         "legendgroup": "The Greatest Game Ever Played",
         "marker": {
          "color": "#00cc96",
          "symbol": "circle"
         },
         "mode": "markers",
         "name": "The Greatest Game Ever Played",
         "orientation": "h",
         "showlegend": true,
         "type": "scatter",
         "x": {
          "bdata": "2e/pAA==",
          "dtype": "i4"
         },
         "xaxis": "x",
         "y": [
          "Drama"
         ],
         "yaxis": "y"
        },
        {
         "customdata": [
          [
           "2005-10-21"
          ]
         ],
         "hovertemplate": "movie_title=Shopgirl<br>total_gross=%{x}<br>genre=%{y}<br>release_date=%{customdata[0]}<extra></extra>",
         "legendgroup": "Shopgirl",
         "marker": {
          "color": "#ab63fa",
          "symbol": "circle"
         },
         "mode": "markers",
         "name": "Shopgirl",
         "orientation": "h",
         "showlegend": true,
         "type": "scatter",
         "x": {
          "bdata": "6+2cAA==",
          "dtype": "i4"
         },
         "xaxis": "x",
         "y": [
          "Drama"
         ],
         "yaxis": "y"
        },
        {
         "customdata": [
          [
           "2005-11-04"
          ]
         ],
         "hovertemplate": "movie_title=Chicken Little<br>total_gross=%{x}<br>genre=%{y}<br>release_date=%{customdata[0]}<extra></extra>",
         "legendgroup": "Chicken Little",
         "marker": {
          "color": "#FFA15A",
          "symbol": "circle"
         },
         "mode": "markers",
         "name": "Chicken Little",
         "orientation": "h",
         "showlegend": true,
         "type": "scatter",
         "x": {
          "bdata": "KdYRCA==",
          "dtype": "i4"
         },
         "xaxis": "x",
         "y": [
          "Adventure"
         ],
         "yaxis": "y"
        },
        {
         "customdata": [
          [
           "2005-12-09"
          ]
         ],
         "hovertemplate": "movie_title=The Chronicles of Narnia: The Lion, t…<br>total_gross=%{x}<br>genre=%{y}<br>release_date=%{customdata[0]}<extra></extra>",
         "legendgroup": "The Chronicles of Narnia: The Lion, t…",
         "marker": {
          "color": "#19d3f3",
          "symbol": "circle"
         },
         "mode": "markers",
         "name": "The Chronicles of Narnia: The Lion, t…",
         "orientation": "h",
         "showlegend": true,
         "type": "scatter",
         "x": {
          "bdata": "7SdjEQ==",
          "dtype": "i4"
         },
         "xaxis": "x",
         "y": [
          "Adventure"
         ],
         "yaxis": "y"
        },
        {
         "customdata": [
          [
           "2005-12-25"
          ]
         ],
         "hovertemplate": "movie_title=Casanova<br>total_gross=%{x}<br>genre=%{y}<br>release_date=%{customdata[0]}<extra></extra>",
         "legendgroup": "Casanova",
         "marker": {
          "color": "#FF6692",
          "symbol": "circle"
         },
         "mode": "markers",
         "name": "Casanova",
         "orientation": "h",
         "showlegend": true,
         "type": "scatter",
         "x": {
          "bdata": "032sAA==",
          "dtype": "i4"
         },
         "xaxis": "x",
         "y": [
          "Drama"
         ],
         "yaxis": "y"
        },
        {
         "customdata": [
          [
           "2006-01-13"
          ]
         ],
         "hovertemplate": "movie_title=Glory Road<br>total_gross=%{x}<br>genre=%{y}<br>release_date=%{customdata[0]}<extra></extra>",
         "legendgroup": "Glory Road",
         "marker": {
          "color": "#B6E880",
          "symbol": "circle"
         },
         "mode": "markers",
         "name": "Glory Road",
         "orientation": "h",
         "showlegend": true,
         "type": "scatter",
         "x": {
          "bdata": "mb+KAg==",
          "dtype": "i4"
         },
         "xaxis": "x",
         "y": [
          "Drama"
         ],
         "yaxis": "y"
        },
        {
         "customdata": [
          [
           "2006-01-27"
          ]
         ],
         "hovertemplate": "movie_title=Annapolis<br>total_gross=%{x}<br>genre=%{y}<br>release_date=%{customdata[0]}<extra></extra>",
         "legendgroup": "Annapolis",
         "marker": {
          "color": "#FF97FF",
          "symbol": "circle"
         },
         "mode": "markers",
         "name": "Annapolis",
         "orientation": "h",
         "showlegend": true,
         "type": "scatter",
         "x": {
          "bdata": "OFoFAQ==",
          "dtype": "i4"
         },
         "xaxis": "x",
         "y": [
          "Drama"
         ],
         "yaxis": "y"
        },
        {
         "customdata": [
          [
           "2006-01-27"
          ]
         ],
         "hovertemplate": "movie_title=Roving Mars<br>total_gross=%{x}<br>genre=%{y}<br>release_date=%{customdata[0]}<extra></extra>",
         "legendgroup": "Roving Mars",
         "marker": {
          "color": "#FECB52",
          "symbol": "circle"
         },
         "mode": "markers",
         "name": "Roving Mars",
         "orientation": "h",
         "showlegend": true,
         "type": "scatter",
         "x": {
          "bdata": "KtCeAA==",
          "dtype": "i4"
         },
         "xaxis": "x",
         "y": [
          "Documentary"
         ],
         "yaxis": "y"
        },
        {
         "customdata": [
          [
           "2006-02-17"
          ]
         ],
         "hovertemplate": "movie_title=Eight Below<br>total_gross=%{x}<br>genre=%{y}<br>release_date=%{customdata[0]}<extra></extra>",
         "legendgroup": "Eight Below",
         "marker": {
          "color": "#636efa",
          "symbol": "circle"
         },
         "mode": "markers",
         "name": "Eight Below",
         "orientation": "h",
         "showlegend": true,
         "type": "scatter",
         "x": {
          "bdata": "FU/dBA==",
          "dtype": "i4"
         },
         "xaxis": "x",
         "y": [
          "Adventure"
         ],
         "yaxis": "y"
        },
        {
         "customdata": [
          [
           "2006-03-10"
          ]
         ],
         "hovertemplate": "movie_title=The Shaggy Dog<br>total_gross=%{x}<br>genre=%{y}<br>release_date=%{customdata[0]}<extra></extra>",
         "legendgroup": "The Shaggy Dog",
         "marker": {
          "color": "#EF553B",
          "symbol": "circle"
         },
         "mode": "markers",
         "name": "The Shaggy Dog",
         "orientation": "h",
         "showlegend": true,
         "type": "scatter",
         "x": {
          "bdata": "8aukAw==",
          "dtype": "i4"
         },
         "xaxis": "x",
         "y": [
          "Comedy"
         ],
         "yaxis": "y"
        },
        {
         "customdata": [
          [
           "2006-03-24"
          ]
         ],
         "hovertemplate": "movie_title=Stay Alive<br>total_gross=%{x}<br>genre=%{y}<br>release_date=%{customdata[0]}<extra></extra>",
         "legendgroup": "Stay Alive",
         "marker": {
          "color": "#00cc96",
          "symbol": "circle"
         },
         "mode": "markers",
         "name": "Stay Alive",
         "orientation": "h",
         "showlegend": true,
         "type": "scatter",
         "x": {
          "bdata": "kEVgAQ==",
          "dtype": "i4"
         },
         "xaxis": "x",
         "y": [
          "Horror"
         ],
         "yaxis": "y"
        },
        {
         "customdata": [
          [
           "2006-04-14"
          ]
         ],
         "hovertemplate": "movie_title=The Wild<br>total_gross=%{x}<br>genre=%{y}<br>release_date=%{customdata[0]}<extra></extra>",
         "legendgroup": "The Wild",
         "marker": {
          "color": "#ab63fa",
          "symbol": "circle"
         },
         "mode": "markers",
         "name": "The Wild",
         "orientation": "h",
         "showlegend": true,
         "type": "scatter",
         "x": {
          "bdata": "bm86Ag==",
          "dtype": "i4"
         },
         "xaxis": "x",
         "y": [
          "Adventure"
         ],
         "yaxis": "y"
        },
        {
         "customdata": [
          [
           "2006-04-28"
          ]
         ],
         "hovertemplate": "movie_title=Stick It<br>total_gross=%{x}<br>genre=%{y}<br>release_date=%{customdata[0]}<extra></extra>",
         "legendgroup": "Stick It",
         "marker": {
          "color": "#FFA15A",
          "symbol": "circle"
         },
         "mode": "markers",
         "name": "Stick It",
         "orientation": "h",
         "showlegend": true,
         "type": "scatter",
         "x": {
          "bdata": "EKCaAQ==",
          "dtype": "i4"
         },
         "xaxis": "x",
         "y": [
          "Comedy"
         ],
         "yaxis": "y"
        },
        {
         "customdata": [
          [
           "2006-05-12"
          ]
         ],
         "hovertemplate": "movie_title=Goal! The Dream Begins<br>total_gross=%{x}<br>genre=%{y}<br>release_date=%{customdata[0]}<extra></extra>",
         "legendgroup": "Goal! The Dream Begins",
         "marker": {
          "color": "#19d3f3",
          "symbol": "circle"
         },
         "mode": "markers",
         "name": "Goal! The Dream Begins",
         "orientation": "h",
         "showlegend": true,
         "type": "scatter",
         "x": {
          "bdata": "d1tBAA==",
          "dtype": "i4"
         },
         "xaxis": "x",
         "y": [
          "Drama"
         ],
         "yaxis": "y"
        },
        {
         "customdata": [
          [
           "2006-06-09"
          ]
         ],
         "hovertemplate": "movie_title=Cars<br>total_gross=%{x}<br>genre=%{y}<br>release_date=%{customdata[0]}<extra></extra>",
         "legendgroup": "Cars",
         "marker": {
          "color": "#FF6692",
          "symbol": "circle"
         },
         "mode": "markers",
         "name": "Cars",
         "orientation": "h",
         "showlegend": true,
         "type": "scatter",
         "x": {
          "bdata": "JmmMDg==",
          "dtype": "i4"
         },
         "xaxis": "x",
         "y": [
          "Comedy"
         ],
         "yaxis": "y"
        },
        {
         "customdata": [
          [
           "2006-07-07"
          ]
         ],
         "hovertemplate": "movie_title=Pirates of the Caribbean: Dead Man’…<br>total_gross=%{x}<br>genre=%{y}<br>release_date=%{customdata[0]}<extra></extra>",
         "legendgroup": "Pirates of the Caribbean: Dead Man’…",
         "marker": {
          "color": "#B6E880",
          "symbol": "circle"
         },
         "mode": "markers",
         "name": "Pirates of the Caribbean: Dead Man’…",
         "orientation": "h",
         "showlegend": true,
         "type": "scatter",
         "x": {
          "bdata": "ZEk7GQ==",
          "dtype": "i4"
         },
         "xaxis": "x",
         "y": [
          "Adventure"
         ],
         "yaxis": "y"
        },
        {
         "customdata": [
          [
           "2006-08-11"
          ]
         ],
         "hovertemplate": "movie_title=Step Up<br>total_gross=%{x}<br>genre=%{y}<br>release_date=%{customdata[0]}<extra></extra>",
         "legendgroup": "Step Up",
         "marker": {
          "color": "#FF97FF",
          "symbol": "circle"
         },
         "mode": "markers",
         "name": "Step Up",
         "orientation": "h",
         "showlegend": true,
         "type": "scatter",
         "x": {
          "bdata": "+dPkAw==",
          "dtype": "i4"
         },
         "xaxis": "x",
         "y": [
          "Drama"
         ],
         "yaxis": "y"
        },
        {
         "customdata": [
          [
           "2006-08-25"
          ]
         ],
         "hovertemplate": "movie_title=Invincible<br>total_gross=%{x}<br>genre=%{y}<br>release_date=%{customdata[0]}<extra></extra>",
         "legendgroup": "Invincible",
         "marker": {
          "color": "#FECB52",
          "symbol": "circle"
         },
         "mode": "markers",
         "name": "Invincible",
         "orientation": "h",
         "showlegend": true,
         "type": "scatter",
         "x": {
          "bdata": "aBByAw==",
          "dtype": "i4"
         },
         "xaxis": "x",
         "y": [
          "Drama"
         ],
         "yaxis": "y"
        },
        {
         "customdata": [
          [
           "2006-09-29"
          ]
         ],
         "hovertemplate": "movie_title=The Guardian<br>total_gross=%{x}<br>genre=%{y}<br>release_date=%{customdata[0]}<extra></extra>",
         "legendgroup": "The Guardian",
         "marker": {
          "color": "#636efa",
          "symbol": "circle"
         },
         "mode": "markers",
         "name": "The Guardian",
         "orientation": "h",
         "showlegend": true,
         "type": "scatter",
         "x": {
          "bdata": "lGlHAw==",
          "dtype": "i4"
         },
         "xaxis": "x",
         "y": [
          "Action"
         ],
         "yaxis": "y"
        },
        {
         "customdata": [
          [
           "2006-10-20"
          ]
         ],
         "hovertemplate": "movie_title=The Prestige<br>total_gross=%{x}<br>genre=%{y}<br>release_date=%{customdata[0]}<extra></extra>",
         "legendgroup": "The Prestige",
         "marker": {
          "color": "#EF553B",
          "symbol": "circle"
         },
         "mode": "markers",
         "name": "The Prestige",
         "orientation": "h",
         "showlegend": true,
         "type": "scatter",
         "x": {
          "bdata": "YxYqAw==",
          "dtype": "i4"
         },
         "xaxis": "x",
         "y": [
          "Thriller/Suspense"
         ],
         "yaxis": "y"
        },
        {
         "customdata": [
          [
           "2006-10-20"
          ]
         ],
         "hovertemplate": "movie_title=Tim Burton's The Nightmare Before Chr…<br>total_gross=%{x}<br>genre=%{y}<br>release_date=%{customdata[0]}<extra></extra>",
         "legendgroup": "Tim Burton's The Nightmare Before Chr…",
         "marker": {
          "color": "#00cc96",
          "symbol": "circle"
         },
         "mode": "markers",
         "name": "Tim Burton's The Nightmare Before Chr…",
         "orientation": "h",
         "showlegend": true,
         "type": "scatter",
         "x": {
          "bdata": "iWF5AQ==",
          "dtype": "i4"
         },
         "xaxis": "x",
         "y": [
          "Musical"
         ],
         "yaxis": "y"
        },
        {
         "customdata": [
          [
           "2006-11-03"
          ]
         ],
         "hovertemplate": "movie_title=The Santa Clause 3: The Escape Clause<br>total_gross=%{x}<br>genre=%{y}<br>release_date=%{customdata[0]}<extra></extra>",
         "legendgroup": "The Santa Clause 3: The Escape Clause",
         "marker": {
          "color": "#ab63fa",
          "symbol": "circle"
         },
         "mode": "markers",
         "name": "The Santa Clause 3: The Escape Clause",
         "orientation": "h",
         "showlegend": true,
         "type": "scatter",
         "x": {
          "bdata": "ml4JBQ==",
          "dtype": "i4"
         },
         "xaxis": "x",
         "y": [
          "Comedy"
         ],
         "yaxis": "y"
        },
        {
         "customdata": [
          [
           "2006-11-22"
          ]
         ],
         "hovertemplate": "movie_title=Déjà Vu<br>total_gross=%{x}<br>genre=%{y}<br>release_date=%{customdata[0]}<extra></extra>",
         "legendgroup": "Déjà Vu",
         "marker": {
          "color": "#FFA15A",
          "symbol": "circle"
         },
         "mode": "markers",
         "name": "Déjà Vu",
         "orientation": "h",
         "showlegend": true,
         "type": "scatter",
         "x": {
          "bdata": "2CbRAw==",
          "dtype": "i4"
         },
         "xaxis": "x",
         "y": [
          "Thriller/Suspense"
         ],
         "yaxis": "y"
        },
        {
         "customdata": [
          [
           "2006-12-08"
          ]
         ],
         "hovertemplate": "movie_title=Apocalypto<br>total_gross=%{x}<br>genre=%{y}<br>release_date=%{customdata[0]}<extra></extra>",
         "legendgroup": "Apocalypto",
         "marker": {
          "color": "#19d3f3",
          "symbol": "circle"
         },
         "mode": "markers",
         "name": "Apocalypto",
         "orientation": "h",
         "showlegend": true,
         "type": "scatter",
         "x": {
          "bdata": "yykIAw==",
          "dtype": "i4"
         },
         "xaxis": "x",
         "y": [
          "Adventure"
         ],
         "yaxis": "y"
        },
        {
         "customdata": [
          [
           "2007-01-12"
          ]
         ],
         "hovertemplate": "movie_title=Primeval<br>total_gross=%{x}<br>genre=%{y}<br>release_date=%{customdata[0]}<extra></extra>",
         "legendgroup": "Primeval",
         "marker": {
          "color": "#FF6692",
          "symbol": "circle"
         },
         "mode": "markers",
         "name": "Primeval",
         "orientation": "h",
         "showlegend": true,
         "type": "scatter",
         "x": {
          "bdata": "ZrWhAA==",
          "dtype": "i4"
         },
         "xaxis": "x",
         "y": [
          "Adventure"
         ],
         "yaxis": "y"
        },
        {
         "customdata": [
          [
           "2007-02-16"
          ]
         ],
         "hovertemplate": "movie_title=Bridge to Terabithia<br>total_gross=%{x}<br>genre=%{y}<br>release_date=%{customdata[0]}<extra></extra>",
         "legendgroup": "Bridge to Terabithia",
         "marker": {
          "color": "#B6E880",
          "symbol": "circle"
         },
         "mode": "markers",
         "name": "Bridge to Terabithia",
         "orientation": "h",
         "showlegend": true,
         "type": "scatter",
         "x": {
          "bdata": "G8vmBA==",
          "dtype": "i4"
         },
         "xaxis": "x",
         "y": [
          "Drama"
         ],
         "yaxis": "y"
        },
        {
         "customdata": [
          [
           "2007-03-02"
          ]
         ],
         "hovertemplate": "movie_title=Wild Hogs<br>total_gross=%{x}<br>genre=%{y}<br>release_date=%{customdata[0]}<extra></extra>",
         "legendgroup": "Wild Hogs",
         "marker": {
          "color": "#FF97FF",
          "symbol": "circle"
         },
         "mode": "markers",
         "name": "Wild Hogs",
         "orientation": "h",
         "showlegend": true,
         "type": "scatter",
         "x": {
          "bdata": "ULwGCg==",
          "dtype": "i4"
         },
         "xaxis": "x",
         "y": [
          "Comedy"
         ],
         "yaxis": "y"
        },
        {
         "customdata": [
          [
           "2007-03-30"
          ]
         ],
         "hovertemplate": "movie_title=Meet the Robinsons<br>total_gross=%{x}<br>genre=%{y}<br>release_date=%{customdata[0]}<extra></extra>",
         "legendgroup": "Meet the Robinsons",
         "marker": {
          "color": "#FECB52",
          "symbol": "circle"
         },
         "mode": "markers",
         "name": "Meet the Robinsons",
         "orientation": "h",
         "showlegend": true,
         "type": "scatter",
         "x": {
          "bdata": "26XUBQ==",
          "dtype": "i4"
         },
         "xaxis": "x",
         "y": [
          "Adventure"
         ],
         "yaxis": "y"
        },
        {
         "customdata": [
          [
           "2007-03-30"
          ]
         ],
         "hovertemplate": "movie_title=The Lookout<br>total_gross=%{x}<br>genre=%{y}<br>release_date=%{customdata[0]}<extra></extra>",
         "legendgroup": "The Lookout",
         "marker": {
          "color": "#636efa",
          "symbol": "circle"
         },
         "mode": "markers",
         "name": "The Lookout",
         "orientation": "h",
         "showlegend": true,
         "type": "scatter",
         "x": {
          "bdata": "CTNGAA==",
          "dtype": "i4"
         },
         "xaxis": "x",
         "y": [
          "Drama"
         ],
         "yaxis": "y"
        },
        {
         "customdata": [
          [
           "2007-04-06"
          ]
         ],
         "hovertemplate": "movie_title=The Hoax<br>total_gross=%{x}<br>genre=%{y}<br>release_date=%{customdata[0]}<extra></extra>",
         "legendgroup": "The Hoax",
         "marker": {
          "color": "#EF553B",
          "symbol": "circle"
         },
         "mode": "markers",
         "name": "The Hoax",
         "orientation": "h",
         "showlegend": true,
         "type": "scatter",
         "x": {
          "bdata": "Q1RtAA==",
          "dtype": "i4"
         },
         "xaxis": "x",
         "y": [
          "Drama"
         ],
         "yaxis": "y"
        },
        {
         "customdata": [
          [
           "2007-04-27"
          ]
         ],
         "hovertemplate": "movie_title=The Invisible<br>total_gross=%{x}<br>genre=%{y}<br>release_date=%{customdata[0]}<extra></extra>",
         "legendgroup": "The Invisible",
         "marker": {
          "color": "#00cc96",
          "symbol": "circle"
         },
         "mode": "markers",
         "name": "The Invisible",
         "orientation": "h",
         "showlegend": true,
         "type": "scatter",
         "x": {
          "bdata": "/9g5AQ==",
          "dtype": "i4"
         },
         "xaxis": "x",
         "y": [
          "Thriller/Suspense"
         ],
         "yaxis": "y"
        },
        {
         "customdata": [
          [
           "2007-05-24"
          ]
         ],
         "hovertemplate": "movie_title=Pirates of the Caribbean: At World’…<br>total_gross=%{x}<br>genre=%{y}<br>release_date=%{customdata[0]}<extra></extra>",
         "legendgroup": "Pirates of the Caribbean: At World’…",
         "marker": {
          "color": "#ab63fa",
          "symbol": "circle"
         },
         "mode": "markers",
         "name": "Pirates of the Caribbean: At World’…",
         "orientation": "h",
         "showlegend": true,
         "type": "scatter",
         "x": {
          "bdata": "iWFxEg==",
          "dtype": "i4"
         },
         "xaxis": "x",
         "y": [
          "Adventure"
         ],
         "yaxis": "y"
        },
        {
         "customdata": [
          [
           "2007-06-29"
          ]
         ],
         "hovertemplate": "movie_title=Ratatouille<br>total_gross=%{x}<br>genre=%{y}<br>release_date=%{customdata[0]}<extra></extra>",
         "legendgroup": "Ratatouille",
         "marker": {
          "color": "#FFA15A",
          "symbol": "circle"
         },
         "mode": "markers",
         "name": "Ratatouille",
         "orientation": "h",
         "showlegend": true,
         "type": "scatter",
         "x": {
          "bdata": "VhxODA==",
          "dtype": "i4"
         },
         "xaxis": "x",
         "y": [
          "Comedy"
         ],
         "yaxis": "y"
        },
        {
         "customdata": [
          [
           "2007-08-03"
          ]
         ],
         "hovertemplate": "movie_title=Underdog<br>total_gross=%{x}<br>genre=%{y}<br>release_date=%{customdata[0]}<extra></extra>",
         "legendgroup": "Underdog",
         "marker": {
          "color": "#19d3f3",
          "symbol": "circle"
         },
         "mode": "markers",
         "name": "Underdog",
         "orientation": "h",
         "showlegend": true,
         "type": "scatter",
         "x": {
          "bdata": "3bubAg==",
          "dtype": "i4"
         },
         "xaxis": "x",
         "y": [
          "Adventure"
         ],
         "yaxis": "y"
        },
        {
         "customdata": [
          [
           "2007-09-22"
          ]
         ],
         "hovertemplate": "movie_title=The Game Plan<br>total_gross=%{x}<br>genre=%{y}<br>release_date=%{customdata[0]}<extra></extra>",
         "legendgroup": "The Game Plan",
         "marker": {
          "color": "#FF6692",
          "symbol": "circle"
         },
         "mode": "markers",
         "name": "The Game Plan",
         "orientation": "h",
         "showlegend": true,
         "type": "scatter",
         "x": {
          "bdata": "ii5nBQ==",
          "dtype": "i4"
         },
         "xaxis": "x",
         "y": [
          "Comedy"
         ],
         "yaxis": "y"
        },
        {
         "customdata": [
          [
           "2007-10-20"
          ]
         ],
         "hovertemplate": "movie_title=Dan in Real Life<br>total_gross=%{x}<br>genre=%{y}<br>release_date=%{customdata[0]}<extra></extra>",
         "legendgroup": "Dan in Real Life",
         "marker": {
          "color": "#B6E880",
          "symbol": "circle"
         },
         "mode": "markers",
         "name": "Dan in Real Life",
         "orientation": "h",
         "showlegend": true,
         "type": "scatter",
         "x": {
          "bdata": "U/nWAg==",
          "dtype": "i4"
         },
         "xaxis": "x",
         "y": [
          "Romantic Comedy"
         ],
         "yaxis": "y"
        },
        {
         "customdata": [
          [
           "2007-11-21"
          ]
         ],
         "hovertemplate": "movie_title=Enchanted<br>total_gross=%{x}<br>genre=%{y}<br>release_date=%{customdata[0]}<extra></extra>",
         "legendgroup": "Enchanted",
         "marker": {
          "color": "#FF97FF",
          "symbol": "circle"
         },
         "mode": "markers",
         "name": "Enchanted",
         "orientation": "h",
         "showlegend": true,
         "type": "scatter",
         "x": {
          "bdata": "/aacBw==",
          "dtype": "i4"
         },
         "xaxis": "x",
         "y": [
          "Romantic Comedy"
         ],
         "yaxis": "y"
        },
        {
         "customdata": [
          [
           "2007-12-21"
          ]
         ],
         "hovertemplate": "movie_title=National Treasure 2: Book of Secrets<br>total_gross=%{x}<br>genre=%{y}<br>release_date=%{customdata[0]}<extra></extra>",
         "legendgroup": "National Treasure 2: Book of Secrets",
         "marker": {
          "color": "#FECB52",
          "symbol": "circle"
         },
         "mode": "markers",
         "name": "National Treasure 2: Book of Secrets",
         "orientation": "h",
         "showlegend": true,
         "type": "scatter",
         "x": {
          "bdata": "nVgcDQ==",
          "dtype": "i4"
         },
         "xaxis": "x",
         "y": [
          "Adventure"
         ],
         "yaxis": "y"
        },
        {
         "customdata": [
          [
           "2008-02-01"
          ]
         ],
         "hovertemplate": "movie_title=Hannah Montana/Miley Cyrus: Best of B…<br>total_gross=%{x}<br>genre=%{y}<br>release_date=%{customdata[0]}<extra></extra>",
         "legendgroup": "Hannah Montana/Miley Cyrus: Best of B…",
         "marker": {
          "color": "#636efa",
          "symbol": "circle"
         },
         "mode": "markers",
         "name": "Hannah Montana/Miley Cyrus: Best of B…",
         "orientation": "h",
         "showlegend": true,
         "type": "scatter",
         "x": {
          "bdata": "9R7kAw==",
          "dtype": "i4"
         },
         "xaxis": "x",
         "y": [
          "Concert/Performance"
         ],
         "yaxis": "y"
        },
        {
         "customdata": [
          [
           "2008-02-14"
          ]
         ],
         "hovertemplate": "movie_title=Step Up 2 the Streets<br>total_gross=%{x}<br>genre=%{y}<br>release_date=%{customdata[0]}<extra></extra>",
         "legendgroup": "Step Up 2 the Streets",
         "marker": {
          "color": "#EF553B",
          "symbol": "circle"
         },
         "mode": "markers",
         "name": "Step Up 2 the Streets",
         "orientation": "h",
         "showlegend": true,
         "type": "scatter",
         "x": {
          "bdata": "90d1Aw==",
          "dtype": "i4"
         },
         "xaxis": "x",
         "y": [
          "Drama"
         ],
         "yaxis": "y"
        },
        {
         "customdata": [
          [
           "2008-03-07"
          ]
         ],
         "hovertemplate": "movie_title=College Road Trip<br>total_gross=%{x}<br>genre=%{y}<br>release_date=%{customdata[0]}<extra></extra>",
         "legendgroup": "College Road Trip",
         "marker": {
          "color": "#00cc96",
          "symbol": "circle"
         },
         "mode": "markers",
         "name": "College Road Trip",
         "orientation": "h",
         "showlegend": true,
         "type": "scatter",
         "x": {
          "bdata": "ufW3Ag==",
          "dtype": "i4"
         },
         "xaxis": "x",
         "y": [
          "Comedy"
         ],
         "yaxis": "y"
        },
        {
         "customdata": [
          [
           "2008-05-16"
          ]
         ],
         "hovertemplate": "movie_title=The Chronicles of Narnia: Prince Caspian<br>total_gross=%{x}<br>genre=%{y}<br>release_date=%{customdata[0]}<extra></extra>",
         "legendgroup": "The Chronicles of Narnia: Prince Caspian",
         "marker": {
          "color": "#ab63fa",
          "symbol": "circle"
         },
         "mode": "markers",
         "name": "The Chronicles of Narnia: Prince Caspian",
         "orientation": "h",
         "showlegend": true,
         "type": "scatter",
         "x": {
          "bdata": "8vhwCA==",
          "dtype": "i4"
         },
         "xaxis": "x",
         "y": [
          "Adventure"
         ],
         "yaxis": "y"
        },
        {
         "customdata": [
          [
           "2008-06-27"
          ]
         ],
         "hovertemplate": "movie_title=WALL-E<br>total_gross=%{x}<br>genre=%{y}<br>release_date=%{customdata[0]}<extra></extra>",
         "legendgroup": "WALL-E",
         "marker": {
          "color": "#FFA15A",
          "symbol": "circle"
         },
         "mode": "markers",
         "name": "WALL-E",
         "orientation": "h",
         "showlegend": true,
         "type": "scatter",
         "x": {
          "bdata": "pApXDQ==",
          "dtype": "i4"
         },
         "xaxis": "x",
         "y": [
          "Adventure"
         ],
         "yaxis": "y"
        },
        {
         "customdata": [
          [
           "2008-08-01"
          ]
         ],
         "hovertemplate": "movie_title=Swing Vote<br>total_gross=%{x}<br>genre=%{y}<br>release_date=%{customdata[0]}<extra></extra>",
         "legendgroup": "Swing Vote",
         "marker": {
          "color": "#19d3f3",
          "symbol": "circle"
         },
         "mode": "markers",
         "name": "Swing Vote",
         "orientation": "h",
         "showlegend": true,
         "type": "scatter",
         "x": {
          "bdata": "S5D4AA==",
          "dtype": "i4"
         },
         "xaxis": "x",
         "y": [
          "Comedy"
         ],
         "yaxis": "y"
        },
        {
         "customdata": [
          [
           "2008-08-29"
          ]
         ],
         "hovertemplate": "movie_title=Goal! 2: Living the Dream...<br>total_gross=%{x}<br>genre=%{y}<br>release_date=%{customdata[0]}<extra></extra>",
         "legendgroup": "Goal! 2: Living the Dream...",
         "marker": {
          "color": "#FF6692",
          "symbol": "circle"
         },
         "mode": "markers",
         "name": "Goal! 2: Living the Dream...",
         "orientation": "h",
         "showlegend": true,
         "type": "scatter",
         "x": {
          "bdata": "K28DAA==",
          "dtype": "i4"
         },
         "xaxis": "x",
         "y": [
          "Drama"
         ],
         "yaxis": "y"
        },
        {
         "customdata": [
          [
           "2008-09-26"
          ]
         ],
         "hovertemplate": "movie_title=Miracle at St. Anna<br>total_gross=%{x}<br>genre=%{y}<br>release_date=%{customdata[0]}<extra></extra>",
         "legendgroup": "Miracle at St. Anna",
         "marker": {
          "color": "#B6E880",
          "symbol": "circle"
         },
         "mode": "markers",
         "name": "Miracle at St. Anna",
         "orientation": "h",
         "showlegend": true,
         "type": "scatter",
         "x": {
          "bdata": "V814AA==",
          "dtype": "i4"
         },
         "xaxis": "x",
         "y": [
          "Drama"
         ],
         "yaxis": "y"
        },
        {
         "customdata": [
          [
           "2008-10-03"
          ]
         ],
         "hovertemplate": "movie_title=Beverly Hills Chihuahua<br>total_gross=%{x}<br>genre=%{y}<br>release_date=%{customdata[0]}<extra></extra>",
         "legendgroup": "Beverly Hills Chihuahua",
         "marker": {
          "color": "#FF97FF",
          "symbol": "circle"
         },
         "mode": "markers",
         "name": "Beverly Hills Chihuahua",
         "orientation": "h",
         "showlegend": true,
         "type": "scatter",
         "x": {
          "bdata": "4iyiBQ==",
          "dtype": "i4"
         },
         "xaxis": "x",
         "y": [
          "Comedy"
         ],
         "yaxis": "y"
        },
        {
         "customdata": [
          [
           "2008-10-17"
          ]
         ],
         "hovertemplate": "movie_title=Morning Light<br>total_gross=%{x}<br>genre=%{y}<br>release_date=%{customdata[0]}<extra></extra>",
         "legendgroup": "Morning Light",
         "marker": {
          "color": "#FECB52",
          "symbol": "circle"
         },
         "mode": "markers",
         "name": "Morning Light",
         "orientation": "h",
         "showlegend": true,
         "type": "scatter",
         "x": {
          "bdata": "lTIEAA==",
          "dtype": "i4"
         },
         "xaxis": "x",
         "y": [
          "Documentary"
         ],
         "yaxis": "y"
        },
        {
         "customdata": [
          [
           "2008-10-24"
          ]
         ],
         "hovertemplate": "movie_title=High School Musical 3: Senior Year<br>total_gross=%{x}<br>genre=%{y}<br>release_date=%{customdata[0]}<extra></extra>",
         "legendgroup": "High School Musical 3: Senior Year",
         "marker": {
          "color": "#636efa",
          "symbol": "circle"
         },
         "mode": "markers",
         "name": "High School Musical 3: Senior Year",
         "orientation": "h",
         "showlegend": true,
         "type": "scatter",
         "x": {
          "bdata": "uNNlBQ==",
          "dtype": "i4"
         },
         "xaxis": "x",
         "y": [
          "Musical"
         ],
         "yaxis": "y"
        },
        {
         "customdata": [
          [
           "2008-11-21"
          ]
         ],
         "hovertemplate": "movie_title=Bolt<br>total_gross=%{x}<br>genre=%{y}<br>release_date=%{customdata[0]}<extra></extra>",
         "legendgroup": "Bolt",
         "marker": {
          "color": "#EF553B",
          "symbol": "circle"
         },
         "mode": "markers",
         "name": "Bolt",
         "orientation": "h",
         "showlegend": true,
         "type": "scatter",
         "x": {
          "bdata": "f1LMBg==",
          "dtype": "i4"
         },
         "xaxis": "x",
         "y": [
          "Comedy"
         ],
         "yaxis": "y"
        },
        {
         "customdata": [
          [
           "2008-12-25"
          ]
         ],
         "hovertemplate": "movie_title=Bedtime Stories<br>total_gross=%{x}<br>genre=%{y}<br>release_date=%{customdata[0]}<extra></extra>",
         "legendgroup": "Bedtime Stories",
         "marker": {
          "color": "#00cc96",
          "symbol": "circle"
         },
         "mode": "markers",
         "name": "Bedtime Stories",
         "orientation": "h",
         "showlegend": true,
         "type": "scatter",
         "x": {
          "bdata": "1wWQBg==",
          "dtype": "i4"
         },
         "xaxis": "x",
         "y": [
          "Comedy"
         ],
         "yaxis": "y"
        },
        {
         "customdata": [
          [
           "2009-02-13"
          ]
         ],
         "hovertemplate": "movie_title=Confessions of a Shopaholic<br>total_gross=%{x}<br>genre=%{y}<br>release_date=%{customdata[0]}<extra></extra>",
         "legendgroup": "Confessions of a Shopaholic",
         "marker": {
          "color": "#ab63fa",
          "symbol": "circle"
         },
         "mode": "markers",
         "name": "Confessions of a Shopaholic",
         "orientation": "h",
         "showlegend": true,
         "type": "scatter",
         "x": {
          "bdata": "Zp6jAg==",
          "dtype": "i4"
         },
         "xaxis": "x",
         "y": [
          "Romantic Comedy"
         ],
         "yaxis": "y"
        },
        {
         "customdata": [
          [
           "2009-02-27"
          ]
         ],
         "hovertemplate": "movie_title=Jonas Brothers: The 3D Concert Experi…<br>total_gross=%{x}<br>genre=%{y}<br>release_date=%{customdata[0]}<extra></extra>",
         "legendgroup": "Jonas Brothers: The 3D Concert Experi…",
         "marker": {
          "color": "#FFA15A",
          "symbol": "circle"
         },
         "mode": "markers",
         "name": "Jonas Brothers: The 3D Concert Experi…",
         "orientation": "h",
         "showlegend": true,
         "type": "scatter",
         "x": {
          "bdata": "3X9GAg==",
          "dtype": "i4"
         },
         "xaxis": "x",
         "y": [
          "Concert/Performance"
         ],
         "yaxis": "y"
        },
        {
         "customdata": [
          [
           "2009-03-13"
          ]
         ],
         "hovertemplate": "movie_title=Race to Witch Mountain<br>total_gross=%{x}<br>genre=%{y}<br>release_date=%{customdata[0]}<extra></extra>",
         "legendgroup": "Race to Witch Mountain",
         "marker": {
          "color": "#19d3f3",
          "symbol": "circle"
         },
         "mode": "markers",
         "name": "Race to Witch Mountain",
         "orientation": "h",
         "showlegend": true,
         "type": "scatter",
         "x": {
          "bdata": "8vgABA==",
          "dtype": "i4"
         },
         "xaxis": "x",
         "y": [
          "Adventure"
         ],
         "yaxis": "y"
        },
        {
         "customdata": [
          [
           "2009-04-10"
          ]
         ],
         "hovertemplate": "movie_title=Hannah Montana the Movie<br>total_gross=%{x}<br>genre=%{y}<br>release_date=%{customdata[0]}<extra></extra>",
         "legendgroup": "Hannah Montana the Movie",
         "marker": {
          "color": "#FF6692",
          "symbol": "circle"
         },
         "mode": "markers",
         "name": "Hannah Montana the Movie",
         "orientation": "h",
         "showlegend": true,
         "type": "scatter",
         "x": {
          "bdata": "fTy+BA==",
          "dtype": "i4"
         },
         "xaxis": "x",
         "y": [
          "Drama"
         ],
         "yaxis": "y"
        },
        {
         "customdata": [
          [
           "2009-04-22"
          ]
         ],
         "hovertemplate": "movie_title=Earth<br>total_gross=%{x}<br>genre=%{y}<br>release_date=%{customdata[0]}<extra></extra>",
         "legendgroup": "Earth",
         "marker": {
          "color": "#B6E880",
          "symbol": "circle"
         },
         "mode": "markers",
         "name": "Earth",
         "orientation": "h",
         "showlegend": true,
         "type": "scatter",
         "x": {
          "bdata": "OHXoAQ==",
          "dtype": "i4"
         },
         "xaxis": "x",
         "y": [
          "Documentary"
         ],
         "yaxis": "y"
        },
        {
         "customdata": [
          [
           "2009-05-29"
          ]
         ],
         "hovertemplate": "movie_title=Up<br>total_gross=%{x}<br>genre=%{y}<br>release_date=%{customdata[0]}<extra></extra>",
         "legendgroup": "Up",
         "marker": {
          "color": "#FF97FF",
          "symbol": "circle"
         },
         "mode": "markers",
         "name": "Up",
         "orientation": "h",
         "showlegend": true,
         "type": "scatter",
         "x": {
          "bdata": "hON2EQ==",
          "dtype": "i4"
         },
         "xaxis": "x",
         "y": [
          "Adventure"
         ],
         "yaxis": "y"
        },
        {
         "customdata": [
          [
           "2009-06-19"
          ]
         ],
         "hovertemplate": "movie_title=The Proposal<br>total_gross=%{x}<br>genre=%{y}<br>release_date=%{customdata[0]}<extra></extra>",
         "legendgroup": "The Proposal",
         "marker": {
          "color": "#FECB52",
          "symbol": "circle"
         },
         "mode": "markers",
         "name": "The Proposal",
         "orientation": "h",
         "showlegend": true,
         "type": "scatter",
         "x": {
          "bdata": "D83FCQ==",
          "dtype": "i4"
         },
         "xaxis": "x",
         "y": [
          "Romantic Comedy"
         ],
         "yaxis": "y"
        },
        {
         "customdata": [
          [
           "2009-07-24"
          ]
         ],
         "hovertemplate": "movie_title=G-Force<br>total_gross=%{x}<br>genre=%{y}<br>release_date=%{customdata[0]}<extra></extra>",
         "legendgroup": "G-Force",
         "marker": {
          "color": "#636efa",
          "symbol": "circle"
         },
         "mode": "markers",
         "name": "G-Force",
         "orientation": "h",
         "showlegend": true,
         "type": "scatter",
         "x": {
          "bdata": "4nUeBw==",
          "dtype": "i4"
         },
         "xaxis": "x",
         "y": [
          "Adventure"
         ],
         "yaxis": "y"
        },
        {
         "customdata": [
          [
           "2009-08-14"
          ]
         ],
         "hovertemplate": "movie_title=Gake no ue no Ponyo<br>total_gross=%{x}<br>genre=%{y}<br>release_date=%{customdata[0]}<extra></extra>",
         "legendgroup": "Gake no ue no Ponyo",
         "marker": {
          "color": "#EF553B",
          "symbol": "circle"
         },
         "mode": "markers",
         "name": "Gake no ue no Ponyo",
         "orientation": "h",
         "showlegend": true,
         "type": "scatter",
         "x": {
          "bdata": "30LmAA==",
          "dtype": "i4"
         },
         "xaxis": "x",
         "y": [
          "Adventure"
         ],
         "yaxis": "y"
        },
        {
         "customdata": [
          [
           "2009-08-21"
          ]
         ],
         "hovertemplate": "movie_title=X Games 3D: The Movie<br>total_gross=%{x}<br>genre=%{y}<br>release_date=%{customdata[0]}<extra></extra>",
         "legendgroup": "X Games 3D: The Movie",
         "marker": {
          "color": "#00cc96",
          "symbol": "circle"
         },
         "mode": "markers",
         "name": "X Games 3D: The Movie",
         "orientation": "h",
         "showlegend": true,
         "type": "scatter",
         "x": {
          "bdata": "SjsVAA==",
          "dtype": "i4"
         },
         "xaxis": "x",
         "y": [
          "Documentary"
         ],
         "yaxis": "y"
        },
        {
         "customdata": [
          [
           "2009-09-10"
          ]
         ],
         "hovertemplate": "movie_title=Walt and El Grupo<br>total_gross=%{x}<br>genre=%{y}<br>release_date=%{customdata[0]}<extra></extra>",
         "legendgroup": "Walt and El Grupo",
         "marker": {
          "color": "#ab63fa",
          "symbol": "circle"
         },
         "mode": "markers",
         "name": "Walt and El Grupo",
         "orientation": "h",
         "showlegend": true,
         "type": "scatter",
         "x": {
          "bdata": "KVA=",
          "dtype": "i2"
         },
         "xaxis": "x",
         "y": [
          "Documentary"
         ],
         "yaxis": "y"
        },
        {
         "customdata": [
          [
           "2009-09-25"
          ]
         ],
         "hovertemplate": "movie_title=Surrogates<br>total_gross=%{x}<br>genre=%{y}<br>release_date=%{customdata[0]}<extra></extra>",
         "legendgroup": "Surrogates",
         "marker": {
          "color": "#FFA15A",
          "symbol": "circle"
         },
         "mode": "markers",
         "name": "Surrogates",
         "orientation": "h",
         "showlegend": true,
         "type": "scatter",
         "x": {
          "bdata": "bKZMAg==",
          "dtype": "i4"
         },
         "xaxis": "x",
         "y": [
          "Action"
         ],
         "yaxis": "y"
        },
        {
         "customdata": [
          [
           "2009-10-02"
          ]
         ],
         "hovertemplate": "movie_title=Toy Story 3D Double Feature<br>total_gross=%{x}<br>genre=%{y}<br>release_date=%{customdata[0]}<extra></extra>",
         "legendgroup": "Toy Story 3D Double Feature",
         "marker": {
          "color": "#19d3f3",
          "symbol": "circle"
         },
         "mode": "markers",
         "name": "Toy Story 3D Double Feature",
         "orientation": "h",
         "showlegend": true,
         "type": "scatter",
         "x": {
          "bdata": "bnvUAQ==",
          "dtype": "i4"
         },
         "xaxis": "x",
         "y": [
          "Adventure"
         ],
         "yaxis": "y"
        },
        {
         "customdata": [
          [
           "2009-11-06"
          ]
         ],
         "hovertemplate": "movie_title=Disney's A Christmas Carol<br>total_gross=%{x}<br>genre=%{y}<br>release_date=%{customdata[0]}<extra></extra>",
         "legendgroup": "Disney's A Christmas Carol",
         "marker": {
          "color": "#FF6692",
          "symbol": "circle"
         },
         "mode": "markers",
         "name": "Disney's A Christmas Carol",
         "orientation": "h",
         "showlegend": true,
         "type": "scatter",
         "x": {
          "bdata": "d4M3CA==",
          "dtype": "i4"
         },
         "xaxis": "x",
         "y": [
          "Drama"
         ],
         "yaxis": "y"
        },
        {
         "customdata": [
          [
           "2009-11-25"
          ]
         ],
         "hovertemplate": "movie_title=The Princess and the Frog<br>total_gross=%{x}<br>genre=%{y}<br>release_date=%{customdata[0]}<extra></extra>",
         "legendgroup": "The Princess and the Frog",
         "marker": {
          "color": "#B6E880",
          "symbol": "circle"
         },
         "mode": "markers",
         "name": "The Princess and the Frog",
         "orientation": "h",
         "showlegend": true,
         "type": "scatter",
         "x": {
          "bdata": "Awg5Bg==",
          "dtype": "i4"
         },
         "xaxis": "x",
         "y": [
          "Adventure"
         ],
         "yaxis": "y"
        },
        {
         "customdata": [
          [
           "2009-11-25"
          ]
         ],
         "hovertemplate": "movie_title=Old Dogs<br>total_gross=%{x}<br>genre=%{y}<br>release_date=%{customdata[0]}<extra></extra>",
         "legendgroup": "Old Dogs",
         "marker": {
          "color": "#FF97FF",
          "symbol": "circle"
         },
         "mode": "markers",
         "name": "Old Dogs",
         "orientation": "h",
         "showlegend": true,
         "type": "scatter",
         "x": {
          "bdata": "XDDzAg==",
          "dtype": "i4"
         },
         "xaxis": "x",
         "y": [
          "Comedy"
         ],
         "yaxis": "y"
        },
        {
         "customdata": [
          [
           "2010-01-29"
          ]
         ],
         "hovertemplate": "movie_title=When in Rome<br>total_gross=%{x}<br>genre=%{y}<br>release_date=%{customdata[0]}<extra></extra>",
         "legendgroup": "When in Rome",
         "marker": {
          "color": "#FECB52",
          "symbol": "circle"
         },
         "mode": "markers",
         "name": "When in Rome",
         "orientation": "h",
         "showlegend": true,
         "type": "scatter",
         "x": {
          "bdata": "uaryAQ==",
          "dtype": "i4"
         },
         "xaxis": "x",
         "y": [
          "Romantic Comedy"
         ],
         "yaxis": "y"
        },
        {
         "customdata": [
          [
           "2010-03-05"
          ]
         ],
         "hovertemplate": "movie_title=Alice in Wonderland<br>total_gross=%{x}<br>genre=%{y}<br>release_date=%{customdata[0]}<extra></extra>",
         "legendgroup": "Alice in Wonderland",
         "marker": {
          "color": "#636efa",
          "symbol": "circle"
         },
         "mode": "markers",
         "name": "Alice in Wonderland",
         "orientation": "h",
         "showlegend": true,
         "type": "scatter",
         "x": {
          "bdata": "BlrrEw==",
          "dtype": "i4"
         },
         "xaxis": "x",
         "y": [
          "Adventure"
         ],
         "yaxis": "y"
        },
        {
         "customdata": [
          [
           "2010-03-26"
          ]
         ],
         "hovertemplate": "movie_title=Waking Sleeping Beauty<br>total_gross=%{x}<br>genre=%{y}<br>release_date=%{customdata[0]}<extra></extra>",
         "legendgroup": "Waking Sleeping Beauty",
         "marker": {
          "color": "#EF553B",
          "symbol": "circle"
         },
         "mode": "markers",
         "name": "Waking Sleeping Beauty",
         "orientation": "h",
         "showlegend": true,
         "type": "scatter",
         "x": {
          "bdata": "ZTsBAA==",
          "dtype": "i4"
         },
         "xaxis": "x",
         "y": [
          "Documentary"
         ],
         "yaxis": "y"
        },
        {
         "customdata": [
          [
           "2010-03-31"
          ]
         ],
         "hovertemplate": "movie_title=The Last Song<br>total_gross=%{x}<br>genre=%{y}<br>release_date=%{customdata[0]}<extra></extra>",
         "legendgroup": "The Last Song",
         "marker": {
          "color": "#00cc96",
          "symbol": "circle"
         },
         "mode": "markers",
         "name": "The Last Song",
         "orientation": "h",
         "showlegend": true,
         "type": "scatter",
         "x": {
          "bdata": "8IvAAw==",
          "dtype": "i4"
         },
         "xaxis": "x",
         "y": [
          "Drama"
         ],
         "yaxis": "y"
        },
        {
         "customdata": [
          [
           "2010-04-22"
          ]
         ],
         "hovertemplate": "movie_title=Oceans<br>total_gross=%{x}<br>genre=%{y}<br>release_date=%{customdata[0]}<extra></extra>",
         "legendgroup": "Oceans",
         "marker": {
          "color": "#ab63fa",
          "symbol": "circle"
         },
         "mode": "markers",
         "name": "Oceans",
         "orientation": "h",
         "showlegend": true,
         "type": "scatter",
         "x": {
          "bdata": "b1woAQ==",
          "dtype": "i4"
         },
         "xaxis": "x",
         "y": [
          "Documentary"
         ],
         "yaxis": "y"
        },
        {
         "customdata": [
          [
           "2010-05-28"
          ]
         ],
         "hovertemplate": "movie_title=Prince of Persia: Sands of Time<br>total_gross=%{x}<br>genre=%{y}<br>release_date=%{customdata[0]}<extra></extra>",
         "legendgroup": "Prince of Persia: Sands of Time",
         "marker": {
          "color": "#FFA15A",
          "symbol": "circle"
         },
         "mode": "markers",
         "name": "Prince of Persia: Sands of Time",
         "orientation": "h",
         "showlegend": true,
         "type": "scatter",
         "x": {
          "bdata": "/OFoBQ==",
          "dtype": "i4"
         },
         "xaxis": "x",
         "y": [
          "Action"
         ],
         "yaxis": "y"
        },
        {
         "customdata": [
          [
           "2010-06-18"
          ]
         ],
         "hovertemplate": "movie_title=Toy Story 3<br>total_gross=%{x}<br>genre=%{y}<br>release_date=%{customdata[0]}<extra></extra>",
         "legendgroup": "Toy Story 3",
         "marker": {
          "color": "#19d3f3",
          "symbol": "circle"
         },
         "mode": "markers",
         "name": "Toy Story 3",
         "orientation": "h",
         "showlegend": true,
         "type": "scatter",
         "x": {
          "bdata": "0Hi8GA==",
          "dtype": "i4"
         },
         "xaxis": "x",
         "y": [
          "Adventure"
         ],
         "yaxis": "y"
        },
        {
         "customdata": [
          [
           "2010-07-14"
          ]
         ],
         "hovertemplate": "movie_title=The Sorcerer's Apprentice<br>total_gross=%{x}<br>genre=%{y}<br>release_date=%{customdata[0]}<extra></extra>",
         "legendgroup": "The Sorcerer's Apprentice",
         "marker": {
          "color": "#FF6692",
          "symbol": "circle"
         },
         "mode": "markers",
         "name": "The Sorcerer's Apprentice",
         "orientation": "h",
         "showlegend": true,
         "type": "scatter",
         "x": {
          "bdata": "j5vDAw==",
          "dtype": "i4"
         },
         "xaxis": "x",
         "y": [
          "Adventure"
         ],
         "yaxis": "y"
        },
        {
         "customdata": [
          [
           "2010-08-06"
          ]
         ],
         "hovertemplate": "movie_title=Step Up 3D<br>total_gross=%{x}<br>genre=%{y}<br>release_date=%{customdata[0]}<extra></extra>",
         "legendgroup": "Step Up 3D",
         "marker": {
          "color": "#B6E880",
          "symbol": "circle"
         },
         "mode": "markers",
         "name": "Step Up 3D",
         "orientation": "h",
         "showlegend": true,
         "type": "scatter",
         "x": {
          "bdata": "3/mGAg==",
          "dtype": "i4"
         },
         "xaxis": "x",
         "y": [
          "Drama"
         ],
         "yaxis": "y"
        },
        {
         "customdata": [
          [
           "2010-08-13"
          ]
         ],
         "hovertemplate": "movie_title=Gedo Senki (Tales from Earthsea)<br>total_gross=%{x}<br>genre=%{y}<br>release_date=%{customdata[0]}<extra></extra>",
         "legendgroup": "Gedo Senki (Tales from Earthsea)",
         "marker": {
          "color": "#FF97FF",
          "symbol": "circle"
         },
         "mode": "markers",
         "name": "Gedo Senki (Tales from Earthsea)",
         "orientation": "h",
         "showlegend": true,
         "type": "scatter",
         "x": {
          "bdata": "Er4AAA==",
          "dtype": "i4"
         },
         "xaxis": "x",
         "y": [
          "Adventure"
         ],
         "yaxis": "y"
        },
        {
         "customdata": [
          [
           "2010-09-24"
          ]
         ],
         "hovertemplate": "movie_title=You Again<br>total_gross=%{x}<br>genre=%{y}<br>release_date=%{customdata[0]}<extra></extra>",
         "legendgroup": "You Again",
         "marker": {
          "color": "#FECB52",
          "symbol": "circle"
         },
         "mode": "markers",
         "name": "You Again",
         "orientation": "h",
         "showlegend": true,
         "type": "scatter",
         "x": {
          "bdata": "pS6IAQ==",
          "dtype": "i4"
         },
         "xaxis": "x",
         "y": [
          "Comedy"
         ],
         "yaxis": "y"
        },
        {
         "customdata": [
          [
           "2010-10-08"
          ]
         ],
         "hovertemplate": "movie_title=Secretariat<br>total_gross=%{x}<br>genre=%{y}<br>release_date=%{customdata[0]}<extra></extra>",
         "legendgroup": "Secretariat",
         "marker": {
          "color": "#636efa",
          "symbol": "circle"
         },
         "mode": "markers",
         "name": "Secretariat",
         "orientation": "h",
         "showlegend": true,
         "type": "scatter",
         "x": {
          "bdata": "OfGOAw==",
          "dtype": "i4"
         },
         "xaxis": "x",
         "y": [
          "Drama"
         ],
         "yaxis": "y"
        },
        {
         "customdata": [
          [
           "2010-11-24"
          ]
         ],
         "hovertemplate": "movie_title=Tangled<br>total_gross=%{x}<br>genre=%{y}<br>release_date=%{customdata[0]}<extra></extra>",
         "legendgroup": "Tangled",
         "marker": {
          "color": "#EF553B",
          "symbol": "circle"
         },
         "mode": "markers",
         "name": "Tangled",
         "orientation": "h",
         "showlegend": true,
         "type": "scatter",
         "x": {
          "bdata": "sEz4Cw==",
          "dtype": "i4"
         },
         "xaxis": "x",
         "y": [
          "Adventure"
         ],
         "yaxis": "y"
        },
        {
         "customdata": [
          [
           "2010-12-17"
          ]
         ],
         "hovertemplate": "movie_title=Tron: Legacy<br>total_gross=%{x}<br>genre=%{y}<br>release_date=%{customdata[0]}<extra></extra>",
         "legendgroup": "Tron: Legacy",
         "marker": {
          "color": "#00cc96",
          "symbol": "circle"
         },
         "mode": "markers",
         "name": "Tron: Legacy",
         "orientation": "h",
         "showlegend": true,
         "type": "scatter",
         "x": {
          "bdata": "K3hBCg==",
          "dtype": "i4"
         },
         "xaxis": "x",
         "y": [
          "Adventure"
         ],
         "yaxis": "y"
        },
        {
         "customdata": [
          [
           "2011-02-11"
          ]
         ],
         "hovertemplate": "movie_title=Gnomeo and Juliet<br>total_gross=%{x}<br>genre=%{y}<br>release_date=%{customdata[0]}<extra></extra>",
         "legendgroup": "Gnomeo and Juliet",
         "marker": {
          "color": "#ab63fa",
          "symbol": "circle"
         },
         "mode": "markers",
         "name": "Gnomeo and Juliet",
         "orientation": "h",
         "showlegend": true,
         "type": "scatter",
         "x": {
          "bdata": "tmL1BQ==",
          "dtype": "i4"
         },
         "xaxis": "x",
         "y": [
          "Comedy"
         ],
         "yaxis": "y"
        },
        {
         "customdata": [
          [
           "2011-02-18"
          ]
         ],
         "hovertemplate": "movie_title=I am Number Four<br>total_gross=%{x}<br>genre=%{y}<br>release_date=%{customdata[0]}<extra></extra>",
         "legendgroup": "I am Number Four",
         "marker": {
          "color": "#FFA15A",
          "symbol": "circle"
         },
         "mode": "markers",
         "name": "I am Number Four",
         "orientation": "h",
         "showlegend": true,
         "type": "scatter",
         "x": {
          "bdata": "FcRIAw==",
          "dtype": "i4"
         },
         "xaxis": "x",
         "y": [
          "Adventure"
         ],
         "yaxis": "y"
        },
        {
         "customdata": [
          [
           "2011-03-11"
          ]
         ],
         "hovertemplate": "movie_title=Mars Needs Moms<br>total_gross=%{x}<br>genre=%{y}<br>release_date=%{customdata[0]}<extra></extra>",
         "legendgroup": "Mars Needs Moms",
         "marker": {
          "color": "#19d3f3",
          "symbol": "circle"
         },
         "mode": "markers",
         "name": "Mars Needs Moms",
         "orientation": "h",
         "showlegend": true,
         "type": "scatter",
         "x": {
          "bdata": "dm1GAQ==",
          "dtype": "i4"
         },
         "xaxis": "x",
         "y": [
          "Adventure"
         ],
         "yaxis": "y"
        },
        {
         "customdata": [
          [
           "2011-04-22"
          ]
         ],
         "hovertemplate": "movie_title=African Cats<br>total_gross=%{x}<br>genre=%{y}<br>release_date=%{customdata[0]}<extra></extra>",
         "legendgroup": "African Cats",
         "marker": {
          "color": "#FF6692",
          "symbol": "circle"
         },
         "mode": "markers",
         "name": "African Cats",
         "orientation": "h",
         "showlegend": true,
         "type": "scatter",
         "x": {
          "bdata": "i2zrAA==",
          "dtype": "i4"
         },
         "xaxis": "x",
         "y": [
          "Documentary"
         ],
         "yaxis": "y"
        },
        {
         "customdata": [
          [
           "2011-04-22"
          ]
         ],
         "hovertemplate": "movie_title=Zokkomon<br>total_gross=%{x}<br>genre=%{y}<br>release_date=%{customdata[0]}<extra></extra>",
         "legendgroup": "Zokkomon",
         "marker": {
          "color": "#B6E880",
          "symbol": "circle"
         },
         "mode": "markers",
         "name": "Zokkomon",
         "orientation": "h",
         "showlegend": true,
         "type": "scatter",
         "x": {
          "bdata": "/wo=",
          "dtype": "i2"
         },
         "xaxis": "x",
         "y": [
          "Adventure"
         ],
         "yaxis": "y"
        },
        {
         "customdata": [
          [
           "2011-04-29"
          ]
         ],
         "hovertemplate": "movie_title=Prom<br>total_gross=%{x}<br>genre=%{y}<br>release_date=%{customdata[0]}<extra></extra>",
         "legendgroup": "Prom",
         "marker": {
          "color": "#FF97FF",
          "symbol": "circle"
         },
         "mode": "markers",
         "name": "Prom",
         "orientation": "h",
         "showlegend": true,
         "type": "scatter",
         "x": {
          "bdata": "K5OaAA==",
          "dtype": "i4"
         },
         "xaxis": "x",
         "y": [
          "Comedy"
         ],
         "yaxis": "y"
        },
        {
         "customdata": [
          [
           "2011-05-20"
          ]
         ],
         "hovertemplate": "movie_title=Pirates of the Caribbean: On Stranger…<br>total_gross=%{x}<br>genre=%{y}<br>release_date=%{customdata[0]}<extra></extra>",
         "legendgroup": "Pirates of the Caribbean: On Stranger…",
         "marker": {
          "color": "#FECB52",
          "symbol": "circle"
         },
         "mode": "markers",
         "name": "Pirates of the Caribbean: On Stranger…",
         "orientation": "h",
         "showlegend": true,
         "type": "scatter",
         "x": {
          "bdata": "w1deDg==",
          "dtype": "i4"
         },
         "xaxis": "x",
         "y": [
          "Adventure"
         ],
         "yaxis": "y"
        },
        {
         "customdata": [
          [
           "2011-06-24"
          ]
         ],
         "hovertemplate": "movie_title=Cars 2<br>total_gross=%{x}<br>genre=%{y}<br>release_date=%{customdata[0]}<extra></extra>",
         "legendgroup": "Cars 2",
         "marker": {
          "color": "#636efa",
          "symbol": "circle"
         },
         "mode": "markers",
         "name": "Cars 2",
         "orientation": "h",
         "showlegend": true,
         "type": "scatter",
         "x": {
          "bdata": "+05pCw==",
          "dtype": "i4"
         },
         "xaxis": "x",
         "y": [
          "Adventure"
         ],
         "yaxis": "y"
        },
        {
         "customdata": [
          [
           "2011-07-15"
          ]
         ],
         "hovertemplate": "movie_title=Winnie the Pooh<br>total_gross=%{x}<br>genre=%{y}<br>release_date=%{customdata[0]}<extra></extra>",
         "legendgroup": "Winnie the Pooh",
         "marker": {
          "color": "#EF553B",
          "symbol": "circle"
         },
         "mode": "markers",
         "name": "Winnie the Pooh",
         "orientation": "h",
         "showlegend": true,
         "type": "scatter",
         "x": {
          "bdata": "7kyXAQ==",
          "dtype": "i4"
         },
         "xaxis": "x",
         "y": [
          "Adventure"
         ],
         "yaxis": "y"
        },
        {
         "customdata": [
          [
           "2011-08-10"
          ]
         ],
         "hovertemplate": "movie_title=The Help<br>total_gross=%{x}<br>genre=%{y}<br>release_date=%{customdata[0]}<extra></extra>",
         "legendgroup": "The Help",
         "marker": {
          "color": "#00cc96",
          "symbol": "circle"
         },
         "mode": "markers",
         "name": "The Help",
         "orientation": "h",
         "showlegend": true,
         "type": "scatter",
         "x": {
          "bdata": "c4AdCg==",
          "dtype": "i4"
         },
         "xaxis": "x",
         "y": [
          "Drama"
         ],
         "yaxis": "y"
        },
        {
         "customdata": [
          [
           "2011-08-19"
          ]
         ],
         "hovertemplate": "movie_title=Fright Night<br>total_gross=%{x}<br>genre=%{y}<br>release_date=%{customdata[0]}<extra></extra>",
         "legendgroup": "Fright Night",
         "marker": {
          "color": "#ab63fa",
          "symbol": "circle"
         },
         "mode": "markers",
         "name": "Fright Night",
         "orientation": "h",
         "showlegend": true,
         "type": "scatter",
         "x": {
          "bdata": "GTcXAQ==",
          "dtype": "i4"
         },
         "xaxis": "x",
         "y": [
          "Horror"
         ],
         "yaxis": "y"
        },
        {
         "customdata": [
          [
           "2011-10-07"
          ]
         ],
         "hovertemplate": "movie_title=Real Steel<br>total_gross=%{x}<br>genre=%{y}<br>release_date=%{customdata[0]}<extra></extra>",
         "legendgroup": "Real Steel",
         "marker": {
          "color": "#FFA15A",
          "symbol": "circle"
         },
         "mode": "markers",
         "name": "Real Steel",
         "orientation": "h",
         "showlegend": true,
         "type": "scatter",
         "x": {
          "bdata": "DREYBQ==",
          "dtype": "i4"
         },
         "xaxis": "x",
         "y": [
          "Action"
         ],
         "yaxis": "y"
        },
        {
         "customdata": [
          [
           "2011-11-23"
          ]
         ],
         "hovertemplate": "movie_title=The Muppets<br>total_gross=%{x}<br>genre=%{y}<br>release_date=%{customdata[0]}<extra></extra>",
         "legendgroup": "The Muppets",
         "marker": {
          "color": "#19d3f3",
          "symbol": "circle"
         },
         "mode": "markers",
         "name": "The Muppets",
         "orientation": "h",
         "showlegend": true,
         "type": "scatter",
         "x": {
          "bdata": "AlNIBQ==",
          "dtype": "i4"
         },
         "xaxis": "x",
         "y": [
          "Comedy"
         ],
         "yaxis": "y"
        },
        {
         "customdata": [
          [
           "2011-12-25"
          ]
         ],
         "hovertemplate": "movie_title=War Horse<br>total_gross=%{x}<br>genre=%{y}<br>release_date=%{customdata[0]}<extra></extra>",
         "legendgroup": "War Horse",
         "marker": {
          "color": "#FF6692",
          "symbol": "circle"
         },
         "mode": "markers",
         "name": "War Horse",
         "orientation": "h",
         "showlegend": true,
         "type": "scatter",
         "x": {
          "bdata": "X+zCBA==",
          "dtype": "i4"
         },
         "xaxis": "x",
         "y": [
          "Drama"
         ],
         "yaxis": "y"
        },
        {
         "customdata": [
          [
           "2012-02-17"
          ]
         ],
         "hovertemplate": "movie_title=The Secret World of Arietty<br>total_gross=%{x}<br>genre=%{y}<br>release_date=%{customdata[0]}<extra></extra>",
         "legendgroup": "The Secret World of Arietty",
         "marker": {
          "color": "#B6E880",
          "symbol": "circle"
         },
         "mode": "markers",
         "name": "The Secret World of Arietty",
         "orientation": "h",
         "showlegend": true,
         "type": "scatter",
         "x": {
          "bdata": "vtokAQ==",
          "dtype": "i4"
         },
         "xaxis": "x",
         "y": [
          "Adventure"
         ],
         "yaxis": "y"
        },
        {
         "customdata": [
          [
           "2012-03-09"
          ]
         ],
         "hovertemplate": "movie_title=John Carter<br>total_gross=%{x}<br>genre=%{y}<br>release_date=%{customdata[0]}<extra></extra>",
         "legendgroup": "John Carter",
         "marker": {
          "color": "#FF97FF",
          "symbol": "circle"
         },
         "mode": "markers",
         "name": "John Carter",
         "orientation": "h",
         "showlegend": true,
         "type": "scatter",
         "x": {
          "bdata": "d8laBA==",
          "dtype": "i4"
         },
         "xaxis": "x",
         "y": [
          "Adventure"
         ],
         "yaxis": "y"
        },
        {
         "customdata": [
          [
           "2012-04-20"
          ]
         ],
         "hovertemplate": "movie_title=Chimpanzee<br>total_gross=%{x}<br>genre=%{y}<br>release_date=%{customdata[0]}<extra></extra>",
         "legendgroup": "Chimpanzee",
         "marker": {
          "color": "#FECB52",
          "symbol": "circle"
         },
         "mode": "markers",
         "name": "Chimpanzee",
         "orientation": "h",
         "showlegend": true,
         "type": "scatter",
         "x": {
          "bdata": "U/q5AQ==",
          "dtype": "i4"
         },
         "xaxis": "x",
         "y": [
          "Documentary"
         ],
         "yaxis": "y"
        },
        {
         "customdata": [
          [
           "2012-05-04"
          ]
         ],
         "hovertemplate": "movie_title=The Avengers<br>total_gross=%{x}<br>genre=%{y}<br>release_date=%{customdata[0]}<extra></extra>",
         "legendgroup": "The Avengers",
         "marker": {
          "color": "#636efa",
          "symbol": "circle"
         },
         "mode": "markers",
         "name": "The Avengers",
         "orientation": "h",
         "showlegend": true,
         "type": "scatter",
         "x": {
          "bdata": "u30mJQ==",
          "dtype": "i4"
         },
         "xaxis": "x",
         "y": [
          "Action"
         ],
         "yaxis": "y"
        },
        {
         "customdata": [
          [
           "2012-06-22"
          ]
         ],
         "hovertemplate": "movie_title=Brave<br>total_gross=%{x}<br>genre=%{y}<br>release_date=%{customdata[0]}<extra></extra>",
         "legendgroup": "Brave",
         "marker": {
          "color": "#EF553B",
          "symbol": "circle"
         },
         "mode": "markers",
         "name": "Brave",
         "orientation": "h",
         "showlegend": true,
         "type": "scatter",
         "x": {
          "bdata": "hqMkDg==",
          "dtype": "i4"
         },
         "xaxis": "x",
         "y": [
          "Adventure"
         ],
         "yaxis": "y"
        },
        {
         "customdata": [
          [
           "2012-06-29"
          ]
         ],
         "hovertemplate": "movie_title=People Like Us<br>total_gross=%{x}<br>genre=%{y}<br>release_date=%{customdata[0]}<extra></extra>",
         "legendgroup": "People Like Us",
         "marker": {
          "color": "#00cc96",
          "symbol": "circle"
         },
         "mode": "markers",
         "name": "People Like Us",
         "orientation": "h",
         "showlegend": true,
         "type": "scatter",
         "x": {
          "bdata": "sLG9AA==",
          "dtype": "i4"
         },
         "xaxis": "x",
         "y": [
          "Drama"
         ],
         "yaxis": "y"
        },
        {
         "customdata": [
          [
           "2012-08-15"
          ]
         ],
         "hovertemplate": "movie_title=The Odd Life of Timothy Green<br>total_gross=%{x}<br>genre=%{y}<br>release_date=%{customdata[0]}<extra></extra>",
         "legendgroup": "The Odd Life of Timothy Green",
         "marker": {
          "color": "#ab63fa",
          "symbol": "circle"
         },
         "mode": "markers",
         "name": "The Odd Life of Timothy Green",
         "orientation": "h",
         "showlegend": true,
         "type": "scatter",
         "x": {
          "bdata": "ijgXAw==",
          "dtype": "i4"
         },
         "xaxis": "x",
         "y": [
          "Drama"
         ],
         "yaxis": "y"
        },
        {
         "customdata": [
          [
           "2012-10-05"
          ]
         ],
         "hovertemplate": "movie_title=Frankenweenie<br>total_gross=%{x}<br>genre=%{y}<br>release_date=%{customdata[0]}<extra></extra>",
         "legendgroup": "Frankenweenie",
         "marker": {
          "color": "#FFA15A",
          "symbol": "circle"
         },
         "mode": "markers",
         "name": "Frankenweenie",
         "orientation": "h",
         "showlegend": true,
         "type": "scatter",
         "x": {
          "bdata": "7HIaAg==",
          "dtype": "i4"
         },
         "xaxis": "x",
         "y": [
          "Comedy"
         ],
         "yaxis": "y"
        },
        {
         "customdata": [
          [
           "2012-11-02"
          ]
         ],
         "hovertemplate": "movie_title=Wreck-It Ralph<br>total_gross=%{x}<br>genre=%{y}<br>release_date=%{customdata[0]}<extra></extra>",
         "legendgroup": "Wreck-It Ralph",
         "marker": {
          "color": "#19d3f3",
          "symbol": "circle"
         },
         "mode": "markers",
         "name": "Wreck-It Ralph",
         "orientation": "h",
         "showlegend": true,
         "type": "scatter",
         "x": {
          "bdata": "RTVKCw==",
          "dtype": "i4"
         },
         "xaxis": "x",
         "y": [
          "Adventure"
         ],
         "yaxis": "y"
        },
        {
         "customdata": [
          [
           "2012-11-09"
          ]
         ],
         "hovertemplate": "movie_title=Lincoln<br>total_gross=%{x}<br>genre=%{y}<br>release_date=%{customdata[0]}<extra></extra>",
         "legendgroup": "Lincoln",
         "marker": {
          "color": "#FF6692",
          "symbol": "circle"
         },
         "mode": "markers",
         "name": "Lincoln",
         "orientation": "h",
         "showlegend": true,
         "type": "scatter",
         "x": {
          "bdata": "5UXcCg==",
          "dtype": "i4"
         },
         "xaxis": "x",
         "y": [
          "Drama"
         ],
         "yaxis": "y"
        },
        {
         "customdata": [
          [
           "2013-03-08"
          ]
         ],
         "hovertemplate": "movie_title=Oz the Great and Powerful<br>total_gross=%{x}<br>genre=%{y}<br>release_date=%{customdata[0]}<extra></extra>",
         "legendgroup": "Oz the Great and Powerful",
         "marker": {
          "color": "#B6E880",
          "symbol": "circle"
         },
         "mode": "markers",
         "name": "Oz the Great and Powerful",
         "orientation": "h",
         "showlegend": true,
         "type": "scatter",
         "x": {
          "bdata": "NFL+DQ==",
          "dtype": "i4"
         },
         "xaxis": "x",
         "y": [
          "Adventure"
         ],
         "yaxis": "y"
        },
        {
         "customdata": [
          [
           "2013-05-03"
          ]
         ],
         "hovertemplate": "movie_title=Iron Man 3<br>total_gross=%{x}<br>genre=%{y}<br>release_date=%{customdata[0]}<extra></extra>",
         "legendgroup": "Iron Man 3",
         "marker": {
          "color": "#FF97FF",
          "symbol": "circle"
         },
         "mode": "markers",
         "name": "Iron Man 3",
         "orientation": "h",
         "showlegend": true,
         "type": "scatter",
         "x": {
          "bdata": "ELpgGA==",
          "dtype": "i4"
         },
         "xaxis": "x",
         "y": [
          "Action"
         ],
         "yaxis": "y"
        },
        {
         "customdata": [
          [
           "2013-06-21"
          ]
         ],
         "hovertemplate": "movie_title=Monsters University<br>total_gross=%{x}<br>genre=%{y}<br>release_date=%{customdata[0]}<extra></extra>",
         "legendgroup": "Monsters University",
         "marker": {
          "color": "#FECB52",
          "symbol": "circle"
         },
         "mode": "markers",
         "name": "Monsters University",
         "orientation": "h",
         "showlegend": true,
         "type": "scatter",
         "x": {
          "bdata": "ic4AEA==",
          "dtype": "i4"
         },
         "xaxis": "x",
         "y": [
          "Adventure"
         ],
         "yaxis": "y"
        },
        {
         "customdata": [
          [
           "2013-07-02"
          ]
         ],
         "hovertemplate": "movie_title=The Lone Ranger<br>total_gross=%{x}<br>genre=%{y}<br>release_date=%{customdata[0]}<extra></extra>",
         "legendgroup": "The Lone Ranger",
         "marker": {
          "color": "#636efa",
          "symbol": "circle"
         },
         "mode": "markers",
         "name": "The Lone Ranger",
         "orientation": "h",
         "showlegend": true,
         "type": "scatter",
         "x": {
          "bdata": "Y6RSBQ==",
          "dtype": "i4"
         },
         "xaxis": "x",
         "y": [
          "Western"
         ],
         "yaxis": "y"
        },
        {
         "customdata": [
          [
           "2013-08-09"
          ]
         ],
         "hovertemplate": "movie_title=Disney Planes<br>total_gross=%{x}<br>genre=%{y}<br>release_date=%{customdata[0]}<extra></extra>",
         "legendgroup": "Disney Planes",
         "marker": {
          "color": "#EF553B",
          "symbol": "circle"
         },
         "mode": "markers",
         "name": "Disney Planes",
         "orientation": "h",
         "showlegend": true,
         "type": "scatter",
         "x": {
          "bdata": "VJphBQ==",
          "dtype": "i4"
         },
         "xaxis": "x",
         "y": [
          "Comedy"
         ],
         "yaxis": "y"
        },
        {
         "customdata": [
          [
           "2013-10-18"
          ]
         ],
         "hovertemplate": "movie_title=The Fifth Estate<br>total_gross=%{x}<br>genre=%{y}<br>release_date=%{customdata[0]}<extra></extra>",
         "legendgroup": "The Fifth Estate",
         "marker": {
          "color": "#00cc96",
          "symbol": "circle"
         },
         "mode": "markers",
         "name": "The Fifth Estate",
         "orientation": "h",
         "showlegend": true,
         "type": "scatter",
         "x": {
          "bdata": "nKcxAA==",
          "dtype": "i4"
         },
         "xaxis": "x",
         "y": [
          "Drama"
         ],
         "yaxis": "y"
        },
        {
         "customdata": [
          [
           "2013-11-08"
          ]
         ],
         "hovertemplate": "movie_title=Thor: The Dark World<br>total_gross=%{x}<br>genre=%{y}<br>release_date=%{customdata[0]}<extra></extra>",
         "legendgroup": "Thor: The Dark World",
         "marker": {
          "color": "#ab63fa",
          "symbol": "circle"
         },
         "mode": "markers",
         "name": "Thor: The Dark World",
         "orientation": "h",
         "showlegend": true,
         "type": "scatter",
         "x": {
          "bdata": "HNZMDA==",
          "dtype": "i4"
         },
         "xaxis": "x",
         "y": [
          "Adventure"
         ],
         "yaxis": "y"
        },
        {
         "customdata": [
          [
           "2013-11-08"
          ]
         ],
         "hovertemplate": "movie_title=Kaze Tachinu<br>total_gross=%{x}<br>genre=%{y}<br>release_date=%{customdata[0]}<extra></extra>",
         "legendgroup": "Kaze Tachinu",
         "marker": {
          "color": "#FFA15A",
          "symbol": "circle"
         },
         "mode": "markers",
         "name": "Kaze Tachinu",
         "orientation": "h",
         "showlegend": true,
         "type": "scatter",
         "x": {
          "bdata": "119PAA==",
          "dtype": "i4"
         },
         "xaxis": "x",
         "y": [
          "Drama"
         ],
         "yaxis": "y"
        },
        {
         "customdata": [
          [
           "2013-11-22"
          ]
         ],
         "hovertemplate": "movie_title=Frozen<br>total_gross=%{x}<br>genre=%{y}<br>release_date=%{customdata[0]}<extra></extra>",
         "legendgroup": "Frozen",
         "marker": {
          "color": "#19d3f3",
          "symbol": "circle"
         },
         "mode": "markers",
         "name": "Frozen",
         "orientation": "h",
         "showlegend": true,
         "type": "scatter",
         "x": {
          "bdata": "2cbiFw==",
          "dtype": "i4"
         },
         "xaxis": "x",
         "y": [
          "Adventure"
         ],
         "yaxis": "y"
        },
        {
         "customdata": [
          [
           "2013-11-22"
          ]
         ],
         "hovertemplate": "movie_title=Delivery Man<br>total_gross=%{x}<br>genre=%{y}<br>release_date=%{customdata[0]}<extra></extra>",
         "legendgroup": "Delivery Man",
         "marker": {
          "color": "#FF6692",
          "symbol": "circle"
         },
         "mode": "markers",
         "name": "Delivery Man",
         "orientation": "h",
         "showlegend": true,
         "type": "scatter",
         "x": {
          "bdata": "6dTTAQ==",
          "dtype": "i4"
         },
         "xaxis": "x",
         "y": [
          "Comedy"
         ],
         "yaxis": "y"
        },
        {
         "customdata": [
          [
           "2013-12-13"
          ]
         ],
         "hovertemplate": "movie_title=Saving Mr. Banks<br>total_gross=%{x}<br>genre=%{y}<br>release_date=%{customdata[0]}<extra></extra>",
         "legendgroup": "Saving Mr. Banks",
         "marker": {
          "color": "#B6E880",
          "symbol": "circle"
         },
         "mode": "markers",
         "name": "Saving Mr. Banks",
         "orientation": "h",
         "showlegend": true,
         "type": "scatter",
         "x": {
          "bdata": "sQ33BA==",
          "dtype": "i4"
         },
         "xaxis": "x",
         "y": [
          "Drama"
         ],
         "yaxis": "y"
        },
        {
         "customdata": [
          [
           "2014-03-14"
          ]
         ],
         "hovertemplate": "movie_title=Need for Speed<br>total_gross=%{x}<br>genre=%{y}<br>release_date=%{customdata[0]}<extra></extra>",
         "legendgroup": "Need for Speed",
         "marker": {
          "color": "#FF97FF",
          "symbol": "circle"
         },
         "mode": "markers",
         "name": "Need for Speed",
         "orientation": "h",
         "showlegend": true,
         "type": "scatter",
         "x": {
          "bdata": "e82YAg==",
          "dtype": "i4"
         },
         "xaxis": "x",
         "y": [
          "Action"
         ],
         "yaxis": "y"
        },
        {
         "customdata": [
          [
           "2014-03-21"
          ]
         ],
         "hovertemplate": "movie_title=Muppets Most Wanted<br>total_gross=%{x}<br>genre=%{y}<br>release_date=%{customdata[0]}<extra></extra>",
         "legendgroup": "Muppets Most Wanted",
         "marker": {
          "color": "#FECB52",
          "symbol": "circle"
         },
         "mode": "markers",
         "name": "Muppets Most Wanted",
         "orientation": "h",
         "showlegend": true,
         "type": "scatter",
         "x": {
          "bdata": "je0MAw==",
          "dtype": "i4"
         },
         "xaxis": "x",
         "y": [
          "Comedy"
         ],
         "yaxis": "y"
        },
        {
         "customdata": [
          [
           "2014-04-04"
          ]
         ],
         "hovertemplate": "movie_title=Captain America: The Winter Soldier<br>total_gross=%{x}<br>genre=%{y}<br>release_date=%{customdata[0]}<extra></extra>",
         "legendgroup": "Captain America: The Winter Soldier",
         "marker": {
          "color": "#636efa",
          "symbol": "circle"
         },
         "mode": "markers",
         "name": "Captain America: The Winter Soldier",
         "orientation": "h",
         "showlegend": true,
         "type": "scatter",
         "x": {
          "bdata": "jmx7Dw==",
          "dtype": "i4"
         },
         "xaxis": "x",
         "y": [
          "Action"
         ],
         "yaxis": "y"
        },
        {
         "customdata": [
          [
           "2014-04-18"
          ]
         ],
         "hovertemplate": "movie_title=Bears<br>total_gross=%{x}<br>genre=%{y}<br>release_date=%{customdata[0]}<extra></extra>",
         "legendgroup": "Bears",
         "marker": {
          "color": "#EF553B",
          "symbol": "circle"
         },
         "mode": "markers",
         "name": "Bears",
         "orientation": "h",
         "showlegend": true,
         "type": "scatter",
         "x": {
          "bdata": "4k0PAQ==",
          "dtype": "i4"
         },
         "xaxis": "x",
         "y": [
          "Documentary"
         ],
         "yaxis": "y"
        },
        {
         "customdata": [
          [
           "2014-05-10"
          ]
         ],
         "hovertemplate": "movie_title=Million Dollar Arm<br>total_gross=%{x}<br>genre=%{y}<br>release_date=%{customdata[0]}<extra></extra>",
         "legendgroup": "Million Dollar Arm",
         "marker": {
          "color": "#00cc96",
          "symbol": "circle"
         },
         "mode": "markers",
         "name": "Million Dollar Arm",
         "orientation": "h",
         "showlegend": true,
         "type": "scatter",
         "x": {
          "bdata": "1yYsAg==",
          "dtype": "i4"
         },
         "xaxis": "x",
         "y": [
          "Drama"
         ],
         "yaxis": "y"
        },
        {
         "customdata": [
          [
           "2014-05-30"
          ]
         ],
         "hovertemplate": "movie_title=Maleficent<br>total_gross=%{x}<br>genre=%{y}<br>release_date=%{customdata[0]}<extra></extra>",
         "legendgroup": "Maleficent",
         "marker": {
          "color": "#ab63fa",
          "symbol": "circle"
         },
         "mode": "markers",
         "name": "Maleficent",
         "orientation": "h",
         "showlegend": true,
         "type": "scatter",
         "x": {
          "bdata": "YJVjDg==",
          "dtype": "i4"
         },
         "xaxis": "x",
         "y": [
          "Adventure"
         ],
         "yaxis": "y"
        },
        {
         "customdata": [
          [
           "2014-07-18"
          ]
         ],
         "hovertemplate": "movie_title=Planes: Fire and Rescue<br>total_gross=%{x}<br>genre=%{y}<br>release_date=%{customdata[0]}<extra></extra>",
         "legendgroup": "Planes: Fire and Rescue",
         "marker": {
          "color": "#FFA15A",
          "symbol": "circle"
         },
         "mode": "markers",
         "name": "Planes: Fire and Rescue",
         "orientation": "h",
         "showlegend": true,
         "type": "scatter",
         "x": {
          "bdata": "5KyGAw==",
          "dtype": "i4"
         },
         "xaxis": "x",
         "y": [
          "Adventure"
         ],
         "yaxis": "y"
        },
        {
         "customdata": [
          [
           "2014-08-01"
          ]
         ],
         "hovertemplate": "movie_title=Guardians of the Galaxy<br>total_gross=%{x}<br>genre=%{y}<br>release_date=%{customdata[0]}<extra></extra>",
         "legendgroup": "Guardians of the Galaxy",
         "marker": {
          "color": "#19d3f3",
          "symbol": "circle"
         },
         "mode": "markers",
         "name": "Guardians of the Galaxy",
         "orientation": "h",
         "showlegend": true,
         "type": "scatter",
         "x": {
          "bdata": "kM3bEw==",
          "dtype": "i4"
         },
         "xaxis": "x",
         "y": [
          "Adventure"
         ],
         "yaxis": "y"
        },
        {
         "customdata": [
          [
           "2014-08-08"
          ]
         ],
         "hovertemplate": "movie_title=The Hundred-Foot Journey<br>total_gross=%{x}<br>genre=%{y}<br>release_date=%{customdata[0]}<extra></extra>",
         "legendgroup": "The Hundred-Foot Journey",
         "marker": {
          "color": "#FF6692",
          "symbol": "circle"
         },
         "mode": "markers",
         "name": "The Hundred-Foot Journey",
         "orientation": "h",
         "showlegend": true,
         "type": "scatter",
         "x": {
          "bdata": "MZE7Aw==",
          "dtype": "i4"
         },
         "xaxis": "x",
         "y": [
          "Romantic Comedy"
         ],
         "yaxis": "y"
        },
        {
         "customdata": [
          [
           "2014-10-10"
          ]
         ],
         "hovertemplate": "movie_title=Alexander and the Terrible, Horrible,…<br>total_gross=%{x}<br>genre=%{y}<br>release_date=%{customdata[0]}<extra></extra>",
         "legendgroup": "Alexander and the Terrible, Horrible,…",
         "marker": {
          "color": "#B6E880",
          "symbol": "circle"
         },
         "mode": "markers",
         "name": "Alexander and the Terrible, Horrible,…",
         "orientation": "h",
         "showlegend": true,
         "type": "scatter",
         "x": {
          "bdata": "paP9Aw==",
          "dtype": "i4"
         },
         "xaxis": "x",
         "y": [
          "Comedy"
         ],
         "yaxis": "y"
        },
        {
         "customdata": [
          [
           "2014-11-07"
          ]
         ],
         "hovertemplate": "movie_title=Big Hero 6<br>total_gross=%{x}<br>genre=%{y}<br>release_date=%{customdata[0]}<extra></extra>",
         "legendgroup": "Big Hero 6",
         "marker": {
          "color": "#FF97FF",
          "symbol": "circle"
         },
         "mode": "markers",
         "name": "Big Hero 6",
         "orientation": "h",
         "showlegend": true,
         "type": "scatter",
         "x": {
          "bdata": "VIFDDQ==",
          "dtype": "i4"
         },
         "xaxis": "x",
         "y": [
          "Adventure"
         ],
         "yaxis": "y"
        },
        {
         "customdata": [
          [
           "2014-12-25"
          ]
         ],
         "hovertemplate": "movie_title=Into the Woods<br>total_gross=%{x}<br>genre=%{y}<br>release_date=%{customdata[0]}<extra></extra>",
         "legendgroup": "Into the Woods",
         "marker": {
          "color": "#FECB52",
          "symbol": "circle"
         },
         "mode": "markers",
         "name": "Into the Woods",
         "orientation": "h",
         "showlegend": true,
         "type": "scatter",
         "x": {
          "bdata": "RCmhBw==",
          "dtype": "i4"
         },
         "xaxis": "x",
         "y": [
          "Musical"
         ],
         "yaxis": "y"
        },
        {
         "customdata": [
          [
           "2015-01-23"
          ]
         ],
         "hovertemplate": "movie_title=Strange Magic<br>total_gross=%{x}<br>genre=%{y}<br>release_date=%{customdata[0]}<extra></extra>",
         "legendgroup": "Strange Magic",
         "marker": {
          "color": "#636efa",
          "symbol": "circle"
         },
         "mode": "markers",
         "name": "Strange Magic",
         "orientation": "h",
         "showlegend": true,
         "type": "scatter",
         "x": {
          "bdata": "D6m9AA==",
          "dtype": "i4"
         },
         "xaxis": "x",
         "y": [
          "Adventure"
         ],
         "yaxis": "y"
        },
        {
         "customdata": [
          [
           "2015-02-20"
          ]
         ],
         "hovertemplate": "movie_title=McFarland, USA<br>total_gross=%{x}<br>genre=%{y}<br>release_date=%{customdata[0]}<extra></extra>",
         "legendgroup": "McFarland, USA",
         "marker": {
          "color": "#EF553B",
          "symbol": "circle"
         },
         "mode": "markers",
         "name": "McFarland, USA",
         "orientation": "h",
         "showlegend": true,
         "type": "scatter",
         "x": {
          "bdata": "E7emAg==",
          "dtype": "i4"
         },
         "xaxis": "x",
         "y": [
          "Drama"
         ],
         "yaxis": "y"
        },
        {
         "customdata": [
          [
           "2015-04-17"
          ]
         ],
         "hovertemplate": "movie_title=Monkey Kingdom<br>total_gross=%{x}<br>genre=%{y}<br>release_date=%{customdata[0]}<extra></extra>",
         "legendgroup": "Monkey Kingdom",
         "marker": {
          "color": "#00cc96",
          "symbol": "circle"
         },
         "mode": "markers",
         "name": "Monkey Kingdom",
         "orientation": "h",
         "showlegend": true,
         "type": "scatter",
         "x": {
          "bdata": "wrz6AA==",
          "dtype": "i4"
         },
         "xaxis": "x",
         "y": [
          "Documentary"
         ],
         "yaxis": "y"
        },
        {
         "customdata": [
          [
           "2015-05-01"
          ]
         ],
         "hovertemplate": "movie_title=Avengers: Age of Ultron<br>total_gross=%{x}<br>genre=%{y}<br>release_date=%{customdata[0]}<extra></extra>",
         "legendgroup": "Avengers: Age of Ultron",
         "marker": {
          "color": "#ab63fa",
          "symbol": "circle"
         },
         "mode": "markers",
         "name": "Avengers: Age of Ultron",
         "orientation": "h",
         "showlegend": true,
         "type": "scatter",
         "x": {
          "bdata": "rN9bGw==",
          "dtype": "i4"
         },
         "xaxis": "x",
         "y": [
          "Action"
         ],
         "yaxis": "y"
        },
        {
         "customdata": [
          [
           "2015-05-22"
          ]
         ],
         "hovertemplate": "movie_title=Tomorrowland<br>total_gross=%{x}<br>genre=%{y}<br>release_date=%{customdata[0]}<extra></extra>",
         "legendgroup": "Tomorrowland",
         "marker": {
          "color": "#FFA15A",
          "symbol": "circle"
         },
         "mode": "markers",
         "name": "Tomorrowland",
         "orientation": "h",
         "showlegend": true,
         "type": "scatter",
         "x": {
          "bdata": "ormRBQ==",
          "dtype": "i4"
         },
         "xaxis": "x",
         "y": [
          "Adventure"
         ],
         "yaxis": "y"
        },
        {
         "customdata": [
          [
           "2015-06-19"
          ]
         ],
         "hovertemplate": "movie_title=Inside Out<br>total_gross=%{x}<br>genre=%{y}<br>release_date=%{customdata[0]}<extra></extra>",
         "legendgroup": "Inside Out",
         "marker": {
          "color": "#19d3f3",
          "symbol": "circle"
         },
         "mode": "markers",
         "name": "Inside Out",
         "orientation": "h",
         "showlegend": true,
         "type": "scatter",
         "x": {
          "bdata": "jyw/FQ==",
          "dtype": "i4"
         },
         "xaxis": "x",
         "y": [
          "Adventure"
         ],
         "yaxis": "y"
        },
        {
         "customdata": [
          [
           "2015-07-17"
          ]
         ],
         "hovertemplate": "movie_title=Ant-Man<br>total_gross=%{x}<br>genre=%{y}<br>release_date=%{customdata[0]}<extra></extra>",
         "legendgroup": "Ant-Man",
         "marker": {
          "color": "#FF6692",
          "symbol": "circle"
         },
         "mode": "markers",
         "name": "Ant-Man",
         "orientation": "h",
         "showlegend": true,
         "type": "scatter",
         "x": {
          "bdata": "s6q9Cg==",
          "dtype": "i4"
         },
         "xaxis": "x",
         "y": [
          "Action"
         ],
         "yaxis": "y"
        },
        {
         "customdata": [
          [
           "2015-10-16"
          ]
         ],
         "hovertemplate": "movie_title=Bridge of Spies<br>total_gross=%{x}<br>genre=%{y}<br>release_date=%{customdata[0]}<extra></extra>",
         "legendgroup": "Bridge of Spies",
         "marker": {
          "color": "#B6E880",
          "symbol": "circle"
         },
         "mode": "markers",
         "name": "Bridge of Spies",
         "orientation": "h",
         "showlegend": true,
         "type": "scatter",
         "x": {
          "bdata": "mmtPBA==",
          "dtype": "i4"
         },
         "xaxis": "x",
         "y": [
          "Thriller/Suspense"
         ],
         "yaxis": "y"
        },
        {
         "customdata": [
          [
           "2015-11-25"
          ]
         ],
         "hovertemplate": "movie_title=The Good Dinosaur<br>total_gross=%{x}<br>genre=%{y}<br>release_date=%{customdata[0]}<extra></extra>",
         "legendgroup": "The Good Dinosaur",
         "marker": {
          "color": "#FF97FF",
          "symbol": "circle"
         },
         "mode": "markers",
         "name": "The Good Dinosaur",
         "orientation": "h",
         "showlegend": true,
         "type": "scatter",
         "x": {
          "bdata": "EClWBw==",
          "dtype": "i4"
         },
         "xaxis": "x",
         "y": [
          "Adventure"
         ],
         "yaxis": "y"
        },
        {
         "customdata": [
          [
           "2015-12-18"
          ]
         ],
         "hovertemplate": "movie_title=Star Wars Ep. VII: The Force Awakens<br>total_gross=%{x}<br>genre=%{y}<br>release_date=%{customdata[0]}<extra></extra>",
         "legendgroup": "Star Wars Ep. VII: The Force Awakens",
         "marker": {
          "color": "#FECB52",
          "symbol": "circle"
         },
         "mode": "markers",
         "name": "Star Wars Ep. VII: The Force Awakens",
         "orientation": "h",
         "showlegend": true,
         "type": "scatter",
         "x": {
          "bdata": "0VTUNw==",
          "dtype": "i4"
         },
         "xaxis": "x",
         "y": [
          "Adventure"
         ],
         "yaxis": "y"
        },
        {
         "customdata": [
          [
           "2016-01-29"
          ]
         ],
         "hovertemplate": "movie_title=The Finest Hours<br>total_gross=%{x}<br>genre=%{y}<br>release_date=%{customdata[0]}<extra></extra>",
         "legendgroup": "The Finest Hours",
         "marker": {
          "color": "#636efa",
          "symbol": "circle"
         },
         "mode": "markers",
         "name": "The Finest Hours",
         "orientation": "h",
         "showlegend": true,
         "type": "scatter",
         "x": {
          "bdata": "lq2kAQ==",
          "dtype": "i4"
         },
         "xaxis": "x",
         "y": [
          "Thriller/Suspense"
         ],
         "yaxis": "y"
        },
        {
         "customdata": [
          [
           "2016-03-04"
          ]
         ],
         "hovertemplate": "movie_title=Zootopia<br>total_gross=%{x}<br>genre=%{y}<br>release_date=%{customdata[0]}<extra></extra>",
         "legendgroup": "Zootopia",
         "marker": {
          "color": "#EF553B",
          "symbol": "circle"
         },
         "mode": "markers",
         "name": "Zootopia",
         "orientation": "h",
         "showlegend": true,
         "type": "scatter",
         "x": {
          "bdata": "GFdXFA==",
          "dtype": "i4"
         },
         "xaxis": "x",
         "y": [
          "Adventure"
         ],
         "yaxis": "y"
        },
        {
         "customdata": [
          [
           "2016-04-29"
          ]
         ],
         "hovertemplate": "movie_title=A Beautiful Planet<br>total_gross=%{x}<br>genre=%{y}<br>release_date=%{customdata[0]}<extra></extra>",
         "legendgroup": "A Beautiful Planet",
         "marker": {
          "color": "#00cc96",
          "symbol": "circle"
         },
         "mode": "markers",
         "name": "A Beautiful Planet",
         "orientation": "h",
         "showlegend": true,
         "type": "scatter",
         "x": {
          "bdata": "nHp4AA==",
          "dtype": "i4"
         },
         "xaxis": "x",
         "y": [
          "Documentary"
         ],
         "yaxis": "y"
        },
        {
         "customdata": [
          [
           "2016-05-06"
          ]
         ],
         "hovertemplate": "movie_title=Captain America: Civil War<br>total_gross=%{x}<br>genre=%{y}<br>release_date=%{customdata[0]}<extra></extra>",
         "legendgroup": "Captain America: Civil War",
         "marker": {
          "color": "#ab63fa",
          "symbol": "circle"
         },
         "mode": "markers",
         "name": "Captain America: Civil War",
         "orientation": "h",
         "showlegend": true,
         "type": "scatter",
         "x": {
          "bdata": "fd9SGA==",
          "dtype": "i4"
         },
         "xaxis": "x",
         "y": [
          "Action"
         ],
         "yaxis": "y"
        },
        {
         "customdata": [
          [
           "2016-05-27"
          ]
         ],
         "hovertemplate": "movie_title=Alice Through the Looking Glass<br>total_gross=%{x}<br>genre=%{y}<br>release_date=%{customdata[0]}<extra></extra>",
         "legendgroup": "Alice Through the Looking Glass",
         "marker": {
          "color": "#FFA15A",
          "symbol": "circle"
         },
         "mode": "markers",
         "name": "Alice Through the Looking Glass",
         "orientation": "h",
         "showlegend": true,
         "type": "scatter",
         "x": {
          "bdata": "zZKXBA==",
          "dtype": "i4"
         },
         "xaxis": "x",
         "y": [
          "Adventure"
         ],
         "yaxis": "y"
        },
        {
         "customdata": [
          [
           "2016-06-17"
          ]
         ],
         "hovertemplate": "movie_title=Finding Dory<br>total_gross=%{x}<br>genre=%{y}<br>release_date=%{customdata[0]}<extra></extra>",
         "legendgroup": "Finding Dory",
         "marker": {
          "color": "#19d3f3",
          "symbol": "circle"
         },
         "mode": "markers",
         "name": "Finding Dory",
         "orientation": "h",
         "showlegend": true,
         "type": "scatter",
         "x": {
          "bdata": "CUj8HA==",
          "dtype": "i4"
         },
         "xaxis": "x",
         "y": [
          "Adventure"
         ],
         "yaxis": "y"
        },
        {
         "customdata": [
          [
           "2016-07-01"
          ]
         ],
         "hovertemplate": "movie_title=The BFG<br>total_gross=%{x}<br>genre=%{y}<br>release_date=%{customdata[0]}<extra></extra>",
         "legendgroup": "The BFG",
         "marker": {
          "color": "#FF6692",
          "symbol": "circle"
         },
         "mode": "markers",
         "name": "The BFG",
         "orientation": "h",
         "showlegend": true,
         "type": "scatter",
         "x": {
          "bdata": "ep1OAw==",
          "dtype": "i4"
         },
         "xaxis": "x",
         "y": [
          "Adventure"
         ],
         "yaxis": "y"
        },
        {
         "customdata": [
          [
           "2016-08-12"
          ]
         ],
         "hovertemplate": "movie_title=Pete’s Dragon<br>total_gross=%{x}<br>genre=%{y}<br>release_date=%{customdata[0]}<extra></extra>",
         "legendgroup": "Pete’s Dragon",
         "marker": {
          "color": "#B6E880",
          "symbol": "circle"
         },
         "mode": "markers",
         "name": "Pete’s Dragon",
         "orientation": "h",
         "showlegend": true,
         "type": "scatter",
         "x": {
          "bdata": "vzmLBA==",
          "dtype": "i4"
         },
         "xaxis": "x",
         "y": [
          "Adventure"
         ],
         "yaxis": "y"
        },
        {
         "customdata": [
          [
           "2016-09-02"
          ]
         ],
         "hovertemplate": "movie_title=The Light Between Oceans<br>total_gross=%{x}<br>genre=%{y}<br>release_date=%{customdata[0]}<extra></extra>",
         "legendgroup": "The Light Between Oceans",
         "marker": {
          "color": "#FF97FF",
          "symbol": "circle"
         },
         "mode": "markers",
         "name": "The Light Between Oceans",
         "orientation": "h",
         "showlegend": true,
         "type": "scatter",
         "x": {
          "bdata": "u2+/AA==",
          "dtype": "i4"
         },
         "xaxis": "x",
         "y": [
          "Drama"
         ],
         "yaxis": "y"
        },
        {
         "customdata": [
          [
           "2016-09-23"
          ]
         ],
         "hovertemplate": "movie_title=Queen of Katwe<br>total_gross=%{x}<br>genre=%{y}<br>release_date=%{customdata[0]}<extra></extra>",
         "legendgroup": "Queen of Katwe",
         "marker": {
          "color": "#FECB52",
          "symbol": "circle"
         },
         "mode": "markers",
         "name": "Queen of Katwe",
         "orientation": "h",
         "showlegend": true,
         "type": "scatter",
         "x": {
          "bdata": "lWmHAA==",
          "dtype": "i4"
         },
         "xaxis": "x",
         "y": [
          "Drama"
         ],
         "yaxis": "y"
        },
        {
         "customdata": [
          [
           "2016-11-04"
          ]
         ],
         "hovertemplate": "movie_title=Doctor Strange<br>total_gross=%{x}<br>genre=%{y}<br>release_date=%{customdata[0]}<extra></extra>",
         "legendgroup": "Doctor Strange",
         "marker": {
          "color": "#636efa",
          "symbol": "circle"
         },
         "mode": "markers",
         "name": "Doctor Strange",
         "orientation": "h",
         "showlegend": true,
         "type": "scatter",
         "x": {
          "bdata": "uyvcDQ==",
          "dtype": "i4"
         },
         "xaxis": "x",
         "y": [
          "Adventure"
         ],
         "yaxis": "y"
        },
        {
         "customdata": [
          [
           "2016-11-23"
          ]
         ],
         "hovertemplate": "movie_title=Moana<br>total_gross=%{x}<br>genre=%{y}<br>release_date=%{customdata[0]}<extra></extra>",
         "legendgroup": "Moana",
         "marker": {
          "color": "#EF553B",
          "symbol": "circle"
         },
         "mode": "markers",
         "name": "Moana",
         "orientation": "h",
         "showlegend": true,
         "type": "scatter",
         "x": {
          "bdata": "7emqDg==",
          "dtype": "i4"
         },
         "xaxis": "x",
         "y": [
          "Adventure"
         ],
         "yaxis": "y"
        },
        {
         "customdata": [
          [
           "2016-12-16"
          ]
         ],
         "hovertemplate": "movie_title=Rogue One: A Star Wars Story<br>total_gross=%{x}<br>genre=%{y}<br>release_date=%{customdata[0]}<extra></extra>",
         "legendgroup": "Rogue One: A Star Wars Story",
         "marker": {
          "color": "#00cc96",
          "symbol": "circle"
         },
         "mode": "markers",
         "name": "Rogue One: A Star Wars Story",
         "orientation": "h",
         "showlegend": true,
         "type": "scatter",
         "x": {
          "bdata": "oEiPHw==",
          "dtype": "i4"
         },
         "xaxis": "x",
         "y": [
          "Adventure"
         ],
         "yaxis": "y"
        }
       ],
       "layout": {
        "autosize": false,
        "height": 500,
        "legend": {
         "title": {
          "text": "movie_title"
         },
         "tracegroupgap": 0
        },
        "margin": {
         "t": 60
        },
        "template": {
         "data": {
          "bar": [
           {
            "error_x": {
             "color": "#2a3f5f"
            },
            "error_y": {
             "color": "#2a3f5f"
            },
            "marker": {
             "line": {
              "color": "#E5ECF6",
              "width": 0.5
             },
             "pattern": {
              "fillmode": "overlay",
              "size": 10,
              "solidity": 0.2
             }
            },
            "type": "bar"
           }
          ],
          "barpolar": [
           {
            "marker": {
             "line": {
              "color": "#E5ECF6",
              "width": 0.5
             },
             "pattern": {
              "fillmode": "overlay",
              "size": 10,
              "solidity": 0.2
             }
            },
            "type": "barpolar"
           }
          ],
          "carpet": [
           {
            "aaxis": {
             "endlinecolor": "#2a3f5f",
             "gridcolor": "white",
             "linecolor": "white",
             "minorgridcolor": "white",
             "startlinecolor": "#2a3f5f"
            },
            "baxis": {
             "endlinecolor": "#2a3f5f",
             "gridcolor": "white",
             "linecolor": "white",
             "minorgridcolor": "white",
             "startlinecolor": "#2a3f5f"
            },
            "type": "carpet"
           }
          ],
          "choropleth": [
           {
            "colorbar": {
             "outlinewidth": 0,
             "ticks": ""
            },
            "type": "choropleth"
           }
          ],
          "contour": [
           {
            "colorbar": {
             "outlinewidth": 0,
             "ticks": ""
            },
            "colorscale": [
             [
              0,
              "#0d0887"
             ],
             [
              0.1111111111111111,
              "#46039f"
             ],
             [
              0.2222222222222222,
              "#7201a8"
             ],
             [
              0.3333333333333333,
              "#9c179e"
             ],
             [
              0.4444444444444444,
              "#bd3786"
             ],
             [
              0.5555555555555556,
              "#d8576b"
             ],
             [
              0.6666666666666666,
              "#ed7953"
             ],
             [
              0.7777777777777778,
              "#fb9f3a"
             ],
             [
              0.8888888888888888,
              "#fdca26"
             ],
             [
              1,
              "#f0f921"
             ]
            ],
            "type": "contour"
           }
          ],
          "contourcarpet": [
           {
            "colorbar": {
             "outlinewidth": 0,
             "ticks": ""
            },
            "type": "contourcarpet"
           }
          ],
          "heatmap": [
           {
            "colorbar": {
             "outlinewidth": 0,
             "ticks": ""
            },
            "colorscale": [
             [
              0,
              "#0d0887"
             ],
             [
              0.1111111111111111,
              "#46039f"
             ],
             [
              0.2222222222222222,
              "#7201a8"
             ],
             [
              0.3333333333333333,
              "#9c179e"
             ],
             [
              0.4444444444444444,
              "#bd3786"
             ],
             [
              0.5555555555555556,
              "#d8576b"
             ],
             [
              0.6666666666666666,
              "#ed7953"
             ],
             [
              0.7777777777777778,
              "#fb9f3a"
             ],
             [
              0.8888888888888888,
              "#fdca26"
             ],
             [
              1,
              "#f0f921"
             ]
            ],
            "type": "heatmap"
           }
          ],
          "histogram": [
           {
            "marker": {
             "pattern": {
              "fillmode": "overlay",
              "size": 10,
              "solidity": 0.2
             }
            },
            "type": "histogram"
           }
          ],
          "histogram2d": [
           {
            "colorbar": {
             "outlinewidth": 0,
             "ticks": ""
            },
            "colorscale": [
             [
              0,
              "#0d0887"
             ],
             [
              0.1111111111111111,
              "#46039f"
             ],
             [
              0.2222222222222222,
              "#7201a8"
             ],
             [
              0.3333333333333333,
              "#9c179e"
             ],
             [
              0.4444444444444444,
              "#bd3786"
             ],
             [
              0.5555555555555556,
              "#d8576b"
             ],
             [
              0.6666666666666666,
              "#ed7953"
             ],
             [
              0.7777777777777778,
              "#fb9f3a"
             ],
             [
              0.8888888888888888,
              "#fdca26"
             ],
             [
              1,
              "#f0f921"
             ]
            ],
            "type": "histogram2d"
           }
          ],
          "histogram2dcontour": [
           {
            "colorbar": {
             "outlinewidth": 0,
             "ticks": ""
            },
            "colorscale": [
             [
              0,
              "#0d0887"
             ],
             [
              0.1111111111111111,
              "#46039f"
             ],
             [
              0.2222222222222222,
              "#7201a8"
             ],
             [
              0.3333333333333333,
              "#9c179e"
             ],
             [
              0.4444444444444444,
              "#bd3786"
             ],
             [
              0.5555555555555556,
              "#d8576b"
             ],
             [
              0.6666666666666666,
              "#ed7953"
             ],
             [
              0.7777777777777778,
              "#fb9f3a"
             ],
             [
              0.8888888888888888,
              "#fdca26"
             ],
             [
              1,
              "#f0f921"
             ]
            ],
            "type": "histogram2dcontour"
           }
          ],
          "mesh3d": [
           {
            "colorbar": {
             "outlinewidth": 0,
             "ticks": ""
            },
            "type": "mesh3d"
           }
          ],
          "parcoords": [
           {
            "line": {
             "colorbar": {
              "outlinewidth": 0,
              "ticks": ""
             }
            },
            "type": "parcoords"
           }
          ],
          "pie": [
           {
            "automargin": true,
            "type": "pie"
           }
          ],
          "scatter": [
           {
            "fillpattern": {
             "fillmode": "overlay",
             "size": 10,
             "solidity": 0.2
            },
            "type": "scatter"
           }
          ],
          "scatter3d": [
           {
            "line": {
             "colorbar": {
              "outlinewidth": 0,
              "ticks": ""
             }
            },
            "marker": {
             "colorbar": {
              "outlinewidth": 0,
              "ticks": ""
             }
            },
            "type": "scatter3d"
           }
          ],
          "scattercarpet": [
           {
            "marker": {
             "colorbar": {
              "outlinewidth": 0,
              "ticks": ""
             }
            },
            "type": "scattercarpet"
           }
          ],
          "scattergeo": [
           {
            "marker": {
             "colorbar": {
              "outlinewidth": 0,
              "ticks": ""
             }
            },
            "type": "scattergeo"
           }
          ],
          "scattergl": [
           {
            "marker": {
             "colorbar": {
              "outlinewidth": 0,
              "ticks": ""
             }
            },
            "type": "scattergl"
           }
          ],
          "scattermap": [
           {
            "marker": {
             "colorbar": {
              "outlinewidth": 0,
              "ticks": ""
             }
            },
            "type": "scattermap"
           }
          ],
          "scattermapbox": [
           {
            "marker": {
             "colorbar": {
              "outlinewidth": 0,
              "ticks": ""
             }
            },
            "type": "scattermapbox"
           }
          ],
          "scatterpolar": [
           {
            "marker": {
             "colorbar": {
              "outlinewidth": 0,
              "ticks": ""
             }
            },
            "type": "scatterpolar"
           }
          ],
          "scatterpolargl": [
           {
            "marker": {
             "colorbar": {
              "outlinewidth": 0,
              "ticks": ""
             }
            },
            "type": "scatterpolargl"
           }
          ],
          "scatterternary": [
           {
            "marker": {
             "colorbar": {
              "outlinewidth": 0,
              "ticks": ""
             }
            },
            "type": "scatterternary"
           }
          ],
          "surface": [
           {
            "colorbar": {
             "outlinewidth": 0,
             "ticks": ""
            },
            "colorscale": [
             [
              0,
              "#0d0887"
             ],
             [
              0.1111111111111111,
              "#46039f"
             ],
             [
              0.2222222222222222,
              "#7201a8"
             ],
             [
              0.3333333333333333,
              "#9c179e"
             ],
             [
              0.4444444444444444,
              "#bd3786"
             ],
             [
              0.5555555555555556,
              "#d8576b"
             ],
             [
              0.6666666666666666,
              "#ed7953"
             ],
             [
              0.7777777777777778,
              "#fb9f3a"
             ],
             [
              0.8888888888888888,
              "#fdca26"
             ],
             [
              1,
              "#f0f921"
             ]
            ],
            "type": "surface"
           }
          ],
          "table": [
           {
            "cells": {
             "fill": {
              "color": "#EBF0F8"
             },
             "line": {
              "color": "white"
             }
            },
            "header": {
             "fill": {
              "color": "#C8D4E3"
             },
             "line": {
              "color": "white"
             }
            },
            "type": "table"
           }
          ]
         },
         "layout": {
          "annotationdefaults": {
           "arrowcolor": "#2a3f5f",
           "arrowhead": 0,
           "arrowwidth": 1
          },
          "autotypenumbers": "strict",
          "coloraxis": {
           "colorbar": {
            "outlinewidth": 0,
            "ticks": ""
           }
          },
          "colorscale": {
           "diverging": [
            [
             0,
             "#8e0152"
            ],
            [
             0.1,
             "#c51b7d"
            ],
            [
             0.2,
             "#de77ae"
            ],
            [
             0.3,
             "#f1b6da"
            ],
            [
             0.4,
             "#fde0ef"
            ],
            [
             0.5,
             "#f7f7f7"
            ],
            [
             0.6,
             "#e6f5d0"
            ],
            [
             0.7,
             "#b8e186"
            ],
            [
             0.8,
             "#7fbc41"
            ],
            [
             0.9,
             "#4d9221"
            ],
            [
             1,
             "#276419"
            ]
           ],
           "sequential": [
            [
             0,
             "#0d0887"
            ],
            [
             0.1111111111111111,
             "#46039f"
            ],
            [
             0.2222222222222222,
             "#7201a8"
            ],
            [
             0.3333333333333333,
             "#9c179e"
            ],
            [
             0.4444444444444444,
             "#bd3786"
            ],
            [
             0.5555555555555556,
             "#d8576b"
            ],
            [
             0.6666666666666666,
             "#ed7953"
            ],
            [
             0.7777777777777778,
             "#fb9f3a"
            ],
            [
             0.8888888888888888,
             "#fdca26"
            ],
            [
             1,
             "#f0f921"
            ]
           ],
           "sequentialminus": [
            [
             0,
             "#0d0887"
            ],
            [
             0.1111111111111111,
             "#46039f"
            ],
            [
             0.2222222222222222,
             "#7201a8"
            ],
            [
             0.3333333333333333,
             "#9c179e"
            ],
            [
             0.4444444444444444,
             "#bd3786"
            ],
            [
             0.5555555555555556,
             "#d8576b"
            ],
            [
             0.6666666666666666,
             "#ed7953"
            ],
            [
             0.7777777777777778,
             "#fb9f3a"
            ],
            [
             0.8888888888888888,
             "#fdca26"
            ],
            [
             1,
             "#f0f921"
            ]
           ]
          },
          "colorway": [
           "#636efa",
           "#EF553B",
           "#00cc96",
           "#ab63fa",
           "#FFA15A",
           "#19d3f3",
           "#FF6692",
           "#B6E880",
           "#FF97FF",
           "#FECB52"
          ],
          "font": {
           "color": "#2a3f5f"
          },
          "geo": {
           "bgcolor": "white",
           "lakecolor": "white",
           "landcolor": "#E5ECF6",
           "showlakes": true,
           "showland": true,
           "subunitcolor": "white"
          },
          "hoverlabel": {
           "align": "left"
          },
          "hovermode": "closest",
          "mapbox": {
           "style": "light"
          },
          "paper_bgcolor": "white",
          "plot_bgcolor": "#E5ECF6",
          "polar": {
           "angularaxis": {
            "gridcolor": "white",
            "linecolor": "white",
            "ticks": ""
           },
           "bgcolor": "#E5ECF6",
           "radialaxis": {
            "gridcolor": "white",
            "linecolor": "white",
            "ticks": ""
           }
          },
          "scene": {
           "xaxis": {
            "backgroundcolor": "#E5ECF6",
            "gridcolor": "white",
            "gridwidth": 2,
            "linecolor": "white",
            "showbackground": true,
            "ticks": "",
            "zerolinecolor": "white"
           },
           "yaxis": {
            "backgroundcolor": "#E5ECF6",
            "gridcolor": "white",
            "gridwidth": 2,
            "linecolor": "white",
            "showbackground": true,
            "ticks": "",
            "zerolinecolor": "white"
           },
           "zaxis": {
            "backgroundcolor": "#E5ECF6",
            "gridcolor": "white",
            "gridwidth": 2,
            "linecolor": "white",
            "showbackground": true,
            "ticks": "",
            "zerolinecolor": "white"
           }
          },
          "shapedefaults": {
           "line": {
            "color": "#2a3f5f"
           }
          },
          "ternary": {
           "aaxis": {
            "gridcolor": "white",
            "linecolor": "white",
            "ticks": ""
           },
           "baxis": {
            "gridcolor": "white",
            "linecolor": "white",
            "ticks": ""
           },
           "bgcolor": "#E5ECF6",
           "caxis": {
            "gridcolor": "white",
            "linecolor": "white",
            "ticks": ""
           }
          },
          "title": {
           "x": 0.05
          },
          "xaxis": {
           "automargin": true,
           "gridcolor": "white",
           "linecolor": "white",
           "ticks": "",
           "title": {
            "standoff": 15
           },
           "zerolinecolor": "white",
           "zerolinewidth": 2
          },
          "yaxis": {
           "automargin": true,
           "gridcolor": "white",
           "linecolor": "white",
           "ticks": "",
           "title": {
            "standoff": 15
           },
           "zerolinecolor": "white",
           "zerolinewidth": 2
          }
         }
        },
        "title": {
         "text": "Total Gross vs. Genre",
         "x": 0.5
        },
        "width": 800,
        "xaxis": {
         "anchor": "y",
         "domain": [
          0,
          1
         ],
         "title": {
          "text": "Total Gross"
         }
        },
        "yaxis": {
         "anchor": "x",
         "domain": [
          0,
          1
         ],
         "title": {
          "text": "Genre"
         }
        }
       }
      },
      "image/png": "[encoded data removed]"
     },
     "metadata": {},
     "output_type": "display_data"
    }
   ],
   "source": [
    "fig = px.scatter(DF_raw,\n",
    "                 x='total_gross',\n",
    "                 y='genre',\n",
    "                 hover_data='release_date',\n",
    "                 color = 'movie_title')\n",
    "\n",
    "fig.update_layout(title='Total Gross vs. Genre',\n",
    "                  title_x=0.5,\n",
    "                  xaxis_title=\"Total Gross\",\n",
    "                  yaxis_title=\"Genre\",\n",
    "                  autosize=False,\n",
    "                  width=800,\n",
    "                  height=500)\n",
    "\n",
    "fig.show()"
   ]
  }
 ],
 "metadata": {
  "kernelspec": {
   "display_name": "Python [conda env:base] *",
   "language": "python",
   "name": "conda-base-py"
  },
  "language_info": {
   "codemirror_mode": {
    "name": "ipython",
    "version": 3
   },
   "file_extension": ".py",
   "mimetype": "text/x-python",
   "name": "python",
   "nbconvert_exporter": "python",
   "pygments_lexer": "ipython3",
   "version": "3.13.5"
  }
 },
 "nbformat": 4,
 "nbformat_minor": 5
}
